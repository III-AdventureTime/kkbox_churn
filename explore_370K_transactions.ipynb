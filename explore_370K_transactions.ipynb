{
 "cells": [
  {
   "cell_type": "code",
   "execution_count": 1,
   "metadata": {},
   "outputs": [
    {
     "data": {
      "text/html": [
       "\n",
       "            <div>\n",
       "                <p><b>SparkSession - hive</b></p>\n",
       "                \n",
       "        <div>\n",
       "            <p><b>SparkContext</b></p>\n",
       "\n",
       "            <p><a href=\"http://master:4040\">Spark UI</a></p>\n",
       "\n",
       "            <dl>\n",
       "              <dt>Version</dt>\n",
       "                <dd><code>v2.3.0</code></dd>\n",
       "              <dt>Master</dt>\n",
       "                <dd><code>spark://master:7077</code></dd>\n",
       "              <dt>AppName</dt>\n",
       "                <dd><code>PySparkShell</code></dd>\n",
       "            </dl>\n",
       "        </div>\n",
       "        \n",
       "            </div>\n",
       "        "
      ],
      "text/plain": [
       "<pyspark.sql.session.SparkSession at 0x7f43a4ca77b8>"
      ]
     },
     "execution_count": 1,
     "metadata": {},
     "output_type": "execute_result"
    }
   ],
   "source": [
    "spark"
   ]
  },
  {
   "cell_type": "code",
   "execution_count": 2,
   "metadata": {},
   "outputs": [],
   "source": [
    "infile = 'hdfs://master:8020//kkbox_churn/data01/005.transactions_370k_sorted'\n",
    "df0 = spark.read.format('csv').option('header', 'true').option('inferSchema', 'true').load(infile)\n",
    "#df0.count()"
   ]
  },
  {
   "cell_type": "code",
   "execution_count": 3,
   "metadata": {},
   "outputs": [
    {
     "data": {
      "text/plain": [
       "52"
      ]
     },
     "execution_count": 3,
     "metadata": {},
     "output_type": "execute_result"
    }
   ],
   "source": [
    "df0.rdd.getNumPartitions()"
   ]
  },
  {
   "cell_type": "code",
   "execution_count": 4,
   "metadata": {},
   "outputs": [
    {
     "name": "stdout",
     "output_type": "stream",
     "text": [
      "root\n",
      " |-- msno: string (nullable = true)\n",
      " |-- payment_method_id: integer (nullable = true)\n",
      " |-- payment_plan_days: integer (nullable = true)\n",
      " |-- plan_list_price: integer (nullable = true)\n",
      " |-- actual_amount_paid: integer (nullable = true)\n",
      " |-- is_auto_renew: integer (nullable = true)\n",
      " |-- transaction_date: integer (nullable = true)\n",
      " |-- membership_expire_date: integer (nullable = true)\n",
      " |-- is_cancel: integer (nullable = true)\n",
      "\n"
     ]
    }
   ],
   "source": [
    "df0.printSchema()"
   ]
  },
  {
   "cell_type": "code",
   "execution_count": 3,
   "metadata": {},
   "outputs": [
    {
     "data": {
      "text/plain": [
       "['msno',\n",
       " 'trans_date',\n",
       " 'expire_date',\n",
       " 'plan_days',\n",
       " 'method',\n",
       " 'list_price',\n",
       " 'actual_paid',\n",
       " 'auto_renew',\n",
       " 'is_cancel']"
      ]
     },
     "execution_count": 3,
     "metadata": {},
     "output_type": "execute_result"
    }
   ],
   "source": [
    "#\n",
    "# df1: shorter column names\n",
    "#\n",
    "\n",
    "from pyspark.sql.functions import col\n",
    "df1 = df0.select(\"msno\", \n",
    "                 col(\"transaction_date\").alias(\"trans_date\"), \n",
    "                 col(\"membership_expire_date\").alias(\"expire_date\"),\n",
    "                 col(\"payment_plan_days\").alias(\"plan_days\"),  \n",
    "                 col(\"payment_method_id\").alias(\"method\"),\n",
    "                 col('plan_list_price').alias(\"list_price\"),\n",
    "                 col('actual_amount_paid').alias('actual_paid'),\n",
    "                 col(\"is_auto_renew\").alias(\"auto_renew\"), \n",
    "                 \"is_cancel\")\n",
    "df1.columns"
   ]
  },
  {
   "cell_type": "code",
   "execution_count": 12,
   "metadata": {},
   "outputs": [
    {
     "name": "stdout",
     "output_type": "stream",
     "text": [
      "+--------------------+----------+-----------+---------+------+----------+-----------+----------+---------+\n",
      "|                msno|trans_date|expire_date|plan_days|method|list_price|actual_paid|auto_renew|is_cancel|\n",
      "+--------------------+----------+-----------+---------+------+----------+-----------+----------+---------+\n",
      "|+++l/EXNMLTijfLBa...|  20150131|   20150319|       31|    39|       149|        149|         1|        0|\n",
      "|+++l/EXNMLTijfLBa...|  20150228|   20150419|       31|    39|       149|        149|         1|        0|\n",
      "|+++l/EXNMLTijfLBa...|  20150331|   20150519|       31|    39|       149|        149|         1|        0|\n",
      "|+++l/EXNMLTijfLBa...|  20150430|   20150619|        0|    39|         0|        149|         1|        0|\n",
      "|+++l/EXNMLTijfLBa...|  20150531|   20150719|       30|    39|       149|        149|         1|        0|\n",
      "|+++l/EXNMLTijfLBa...|  20150630|   20150819|       30|    39|       149|        149|         1|        0|\n",
      "|+++l/EXNMLTijfLBa...|  20150731|   20150919|       30|    39|       149|        149|         1|        0|\n",
      "|+++l/EXNMLTijfLBa...|  20150831|   20151019|       30|    39|       149|        149|         1|        0|\n",
      "|+++l/EXNMLTijfLBa...|  20150930|   20151119|       30|    39|       149|        149|         1|        0|\n",
      "|+++l/EXNMLTijfLBa...|  20151102|   20151219|       30|    39|       149|        149|         1|        0|\n",
      "|+++l/EXNMLTijfLBa...|  20151202|   20160119|       30|    39|       149|        149|         1|        0|\n",
      "|+++l/EXNMLTijfLBa...|  20160131|   20160319|       30|    39|       149|        149|         1|        0|\n",
      "|+++l/EXNMLTijfLBa...|  20160731|   20160919|       30|    39|       149|        149|         1|        0|\n",
      "|+++l/EXNMLTijfLBa...|  20160831|   20161019|       30|    39|       149|        149|         1|        0|\n",
      "|+++l/EXNMLTijfLBa...|  20160930|   20161119|       30|    39|       149|        149|         1|        0|\n",
      "|+++l/EXNMLTijfLBa...|  20161031|   20161219|       30|    39|       149|        149|         1|        0|\n",
      "|+++l/EXNMLTijfLBa...|  20161130|   20170119|       30|    39|       149|        149|         1|        0|\n",
      "|+++l/EXNMLTijfLBa...|  20161231|   20170219|       30|    39|       149|        149|         1|        0|\n",
      "|+++l/EXNMLTijfLBa...|  20170131|   20170319|       30|    39|       149|        149|         1|        0|\n",
      "|++/9R3sX37CjxbY/A...|  20160315|   20160415|       30|    41|       149|        149|         1|        0|\n",
      "|++/9R3sX37CjxbY/A...|  20160415|   20160515|       30|    41|       149|        149|         1|        0|\n",
      "|++/9R3sX37CjxbY/A...|  20160515|   20160615|       30|    41|       149|        149|         1|        0|\n",
      "|++/9R3sX37CjxbY/A...|  20160615|   20160715|       30|    41|       149|        149|         1|        0|\n",
      "|++/9R3sX37CjxbY/A...|  20160715|   20160815|       30|    41|       149|        149|         1|        0|\n",
      "|++/9R3sX37CjxbY/A...|  20160815|   20160915|       30|    41|       149|        149|         1|        0|\n",
      "|++/9R3sX37CjxbY/A...|  20160915|   20161015|       30|    41|       149|        149|         1|        0|\n",
      "|++/9R3sX37CjxbY/A...|  20161015|   20161115|       30|    41|       149|        149|         1|        0|\n",
      "|++/9R3sX37CjxbY/A...|  20161115|   20161215|       30|    41|       149|        149|         1|        0|\n",
      "|++/9R3sX37CjxbY/A...|  20161215|   20170115|       30|    41|       149|        149|         1|        0|\n",
      "|++/9R3sX37CjxbY/A...|  20170115|   20170215|       30|    41|       149|        149|         1|        0|\n",
      "|++/9R3sX37CjxbY/A...|  20170215|   20170315|       30|    41|       149|        149|         1|        0|\n",
      "|++/UDNo9DLrxT8QVG...|  20150131|   20150323|       31|    39|       149|        149|         1|        0|\n",
      "|++/UDNo9DLrxT8QVG...|  20150228|   20150423|       31|    39|       149|        149|         1|        0|\n",
      "|++/UDNo9DLrxT8QVG...|  20150331|   20150523|       31|    39|       149|        149|         1|        0|\n",
      "|++/UDNo9DLrxT8QVG...|  20150430|   20150623|        0|    39|         0|        149|         1|        0|\n",
      "|++/UDNo9DLrxT8QVG...|  20150531|   20150723|       30|    39|       149|        149|         1|        0|\n",
      "|++/UDNo9DLrxT8QVG...|  20150630|   20150823|       30|    39|       149|        149|         1|        0|\n",
      "|++/UDNo9DLrxT8QVG...|  20150731|   20150923|       30|    39|       149|        149|         1|        0|\n",
      "|++/UDNo9DLrxT8QVG...|  20150831|   20151023|       30|    39|       149|        149|         1|        0|\n",
      "|++/UDNo9DLrxT8QVG...|  20150930|   20151123|       30|    39|       149|        149|         1|        0|\n",
      "+--------------------+----------+-----------+---------+------+----------+-----------+----------+---------+\n",
      "only showing top 40 rows\n",
      "\n"
     ]
    }
   ],
   "source": [
    "df1.show(40)"
   ]
  },
  {
   "cell_type": "markdown",
   "metadata": {},
   "source": [
    "## actual_paid != list_price"
   ]
  },
  {
   "cell_type": "code",
   "execution_count": 11,
   "metadata": {},
   "outputs": [
    {
     "name": "stdout",
     "output_type": "stream",
     "text": [
      "+----------+-----------+-----+\n",
      "|list_price|actual_paid|count|\n",
      "+----------+-----------+-----+\n",
      "|       149|        129| 1524|\n",
      "|       149|        119|63014|\n",
      "|       120|          0|    1|\n",
      "|         0|        894|    1|\n",
      "|       126|        127|   17|\n",
      "|       150|        149|    2|\n",
      "|       180|          0| 1397|\n",
      "|       149|          0|16919|\n",
      "|         0|        760|    1|\n",
      "|       699|          0|    1|\n",
      "|       149|         99|  987|\n",
      "+----------+-----------+-----+\n",
      "\n"
     ]
    }
   ],
   "source": [
    "from pyspark.sql.functions import col\n",
    "df1.where(col('list_price') != col('actual_paid')) \\\n",
    "   .where('plan_days > 0') \\\n",
    "   .where('is_cancel == 0') \\\n",
    "   .groupBy('list_price', 'actual_paid').count() \\\n",
    "   .show(20)"
   ]
  },
  {
   "cell_type": "code",
   "execution_count": 13,
   "metadata": {},
   "outputs": [
    {
     "name": "stdout",
     "output_type": "stream",
     "text": [
      "+--------------------+----------+-----------+---------+------+----------+-----------+----------+---------+\n",
      "|                msno|trans_date|expire_date|plan_days|method|list_price|actual_paid|auto_renew|is_cancel|\n",
      "+--------------------+----------+-----------+---------+------+----------+-----------+----------+---------+\n",
      "|++A8p4GrsTnMjI6hA...|  20151221|   20160120|       30|    30|       149|          0|         1|        0|\n",
      "|++A8p4GrsTnMjI6hA...|  20160226|   20160325|       30|    30|       149|          0|         1|        0|\n",
      "|+/DeBhiW5LND3SujR...|  20151123|   20151223|       30|    40|       149|          0|         1|        0|\n",
      "|+/u8aXLRSVFrz9G3x...|  20160105|   20160204|       30|    40|       149|          0|         1|        0|\n",
      "|+/yURAZt6uqLEfJlo...|  20161107|   20161206|       30|    40|       149|          0|         1|        0|\n",
      "|+07V8+PQcl45yRw50...|  20161228|   20170127|       30|    40|       149|          0|         1|        0|\n",
      "|+0BB+Xvi33KTL40Pm...|  20150118|   20150217|       31|    40|       149|          0|         1|        0|\n",
      "|+0BB+Xvi33KTL40Pm...|  20150121|   20150217|       31|    40|       149|          0|         1|        1|\n",
      "|+0lXWFqYa9VhunUzj...|  20150128|   20150126|       31|    40|       149|          0|         1|        1|\n",
      "|+0odXIbHS3RcBVjn+...|  20150223|   20150323|       31|    40|       149|          0|         1|        0|\n",
      "+--------------------+----------+-----------+---------+------+----------+-----------+----------+---------+\n",
      "only showing top 10 rows\n",
      "\n"
     ]
    }
   ],
   "source": [
    "df1.where('list_price == 149').where('actual_paid == 0').show(10)"
   ]
  },
  {
   "cell_type": "code",
   "execution_count": 14,
   "metadata": {},
   "outputs": [
    {
     "name": "stdout",
     "output_type": "stream",
     "text": [
      "+--------------------+----------+-----------+---------+------+----------+-----------+----------+---------+\n",
      "|                msno|trans_date|expire_date|plan_days|method|list_price|actual_paid|auto_renew|is_cancel|\n",
      "+--------------------+----------+-----------+---------+------+----------+-----------+----------+---------+\n",
      "|++A8p4GrsTnMjI6hA...|  20150117|   20150217|       30|    30|       129|        129|         1|        0|\n",
      "|++A8p4GrsTnMjI6hA...|  20150217|   20150317|       30|    30|       129|        129|         1|        0|\n",
      "|++A8p4GrsTnMjI6hA...|  20150317|   20150417|       30|    30|       129|        129|         1|        0|\n",
      "|++A8p4GrsTnMjI6hA...|  20150418|   20150517|       30|    30|       129|        129|         1|        0|\n",
      "|++A8p4GrsTnMjI6hA...|  20150518|   20150617|       30|    30|       149|        149|         1|        0|\n",
      "|++A8p4GrsTnMjI6hA...|  20150612|   20150612|       30|    30|       149|        149|         1|        1|\n",
      "|++A8p4GrsTnMjI6hA...|  20151221|   20160120|       30|    30|       149|          0|         1|        0|\n",
      "|++A8p4GrsTnMjI6hA...|  20160121|   20160220|       30|    30|       149|        149|         1|        0|\n",
      "|++A8p4GrsTnMjI6hA...|  20160221|   20160320|       30|    30|       149|        149|         1|        0|\n",
      "|++A8p4GrsTnMjI6hA...|  20160226|   20160325|       30|    30|       149|          0|         1|        0|\n",
      "|++A8p4GrsTnMjI6hA...|  20160226|   20160226|       30|    30|       149|        149|         1|        1|\n",
      "|++A8p4GrsTnMjI6hA...|  20160326|   20160426|       30|    30|       149|        149|         1|        0|\n",
      "|++A8p4GrsTnMjI6hA...|  20160426|   20160526|       30|    30|       149|        149|         1|        0|\n",
      "|++A8p4GrsTnMjI6hA...|  20160526|   20160626|       30|    30|       149|        149|         1|        0|\n",
      "|++A8p4GrsTnMjI6hA...|  20160626|   20160726|       30|    30|       149|        149|         1|        0|\n",
      "|++A8p4GrsTnMjI6hA...|  20160726|   20160826|       30|    30|       149|        149|         1|        0|\n",
      "|++A8p4GrsTnMjI6hA...|  20160826|   20160926|       30|    30|       149|        149|         1|        0|\n",
      "|++A8p4GrsTnMjI6hA...|  20160926|   20161026|       30|    30|       149|        149|         1|        0|\n",
      "|++A8p4GrsTnMjI6hA...|  20161026|   20161126|       30|    30|       149|        149|         1|        0|\n",
      "|++A8p4GrsTnMjI6hA...|  20161126|   20161226|       30|    30|       149|        149|         1|        0|\n",
      "|++A8p4GrsTnMjI6hA...|  20161226|   20170126|       30|    30|       149|        149|         1|        0|\n",
      "|++A8p4GrsTnMjI6hA...|  20170126|   20170226|       30|    30|       149|        149|         1|        0|\n",
      "|++A8p4GrsTnMjI6hA...|  20170226|   20170326|       30|    30|       149|        149|         1|        0|\n",
      "+--------------------+----------+-----------+---------+------+----------+-----------+----------+---------+\n",
      "\n"
     ]
    }
   ],
   "source": [
    "from pyspark.sql.functions import instr\n",
    "filter1 = instr(col(\"msno\"), \"++A8p4GrsTnMjI6hA\") >= 1\n",
    "df1.where(filter1).show(30)"
   ]
  },
  {
   "cell_type": "markdown",
   "metadata": {},
   "source": [
    "## expire_date"
   ]
  },
  {
   "cell_type": "code",
   "execution_count": 6,
   "metadata": {},
   "outputs": [
    {
     "name": "stdout",
     "output_type": "stream",
     "text": [
      "+--------------------+--------+\n",
      "|                msno|last_exp|\n",
      "+--------------------+--------+\n",
      "|+/namlXq+u3izRjHC...|20170331|\n",
      "|+0/X9tkmyHyet9X80...|20170331|\n",
      "|+09YGn842g6h2EZUX...|20170331|\n",
      "|+0RJtbyhoPAHPa+34...|20170227|\n",
      "|+0jTOa6KGPk1vtNTw...|20170303|\n",
      "|+0l+FDuhyjaZnu0AP...|20170323|\n",
      "|+2Df04hr61UUJijMM...|20170304|\n",
      "|+2oK/qWmYvAnfNZsV...|20170319|\n",
      "|+43UqHvqzu5STDVIu...|20170228|\n",
      "|+5iq4ECBqIcAbIVw0...|20170306|\n",
      "|+Ee3Z6oRlCNX6Kf4v...|20170331|\n",
      "|+GVaRBskgRjfyLprh...|20170325|\n",
      "|+OoOiHJRcSa7hWlhb...|20170301|\n",
      "|+SowIRBgloTOSvXzC...|20170331|\n",
      "|+X+E2xPj4VBA+RoH+...|20170307|\n",
      "|+YWrb2wr/lrxoS6gB...|20170312|\n",
      "|+YsEGoVChdBNloW3n...|20170325|\n",
      "|+ZLD2EVyD7TQs3gUw...|20170316|\n",
      "|+aheAmLs19a3VTqJM...|20170305|\n",
      "|+dIjWjYJDtbc2lvb2...|20170322|\n",
      "+--------------------+--------+\n",
      "only showing top 20 rows\n",
      "\n"
     ]
    }
   ],
   "source": [
    "from pyspark.sql.functions import max\n",
    "df2 = df1.groupBy(\"msno\") \\\n",
    "         .agg(max(\"expire_date\").alias('last_exp'))\n",
    "df2.show(20)"
   ]
  },
  {
   "cell_type": "code",
   "execution_count": 8,
   "metadata": {},
   "outputs": [
    {
     "name": "stdout",
     "output_type": "stream",
     "text": [
      "+-------------+\n",
      "|min(last_exp)|\n",
      "+-------------+\n",
      "|     20170201|\n",
      "+-------------+\n",
      "\n"
     ]
    }
   ],
   "source": [
    "from pyspark.sql.functions import expr, min\n",
    "df2.select(expr(\"min(last_exp)\")).show()"
   ]
  },
  {
   "cell_type": "markdown",
   "metadata": {},
   "source": [
    "## plan_days histogram "
   ]
  },
  {
   "cell_type": "code",
   "execution_count": 5,
   "metadata": {},
   "outputs": [
    {
     "data": {
      "image/png": "[encoded data removed]",
      "text/plain": [
       "<matplotlib.figure.Figure at 0x7f4383b800b8>"
      ]
     },
     "metadata": {},
     "output_type": "display_data"
    }
   ],
   "source": [
    "df_pdays_0 = df1.groupBy(\"plan_days\").count()\n",
    "df_pdays = df_pdays_0.sort(\"plan_days\")\n",
    "\n",
    "import matplotlib.pyplot as plt\n",
    "import pandas as pd\n",
    "df_pdays.toPandas().set_index('plan_days').plot(kind='bar', logy=True)\n",
    "plt.show()"
   ]
  },
  {
   "cell_type": "markdown",
   "metadata": {},
   "source": [
    "## plan_days = 0, 1, 2, 3"
   ]
  },
  {
   "cell_type": "code",
   "execution_count": 10,
   "metadata": {},
   "outputs": [
    {
     "name": "stdout",
     "output_type": "stream",
     "text": [
      "+--------------------+----------+-----------+---------+------+----------+-----------+----------+---------+\n",
      "|                msno|trans_date|expire_date|plan_days|method|list_price|actual_paid|auto_renew|is_cancel|\n",
      "+--------------------+----------+-----------+---------+------+----------+-----------+----------+---------+\n",
      "|+++l/EXNMLTijfLBa...|  20150430|   20150619|        0|    39|         0|        149|         1|        0|\n",
      "|++/UDNo9DLrxT8QVG...|  20150430|   20150623|        0|    39|         0|        149|         1|        0|\n",
      "|++/ZHqwUNa7U21Qz+...|  20150331|   20150430|        0|    14|         0|        149|         1|        0|\n",
      "|++/ZHqwUNa7U21Qz+...|  20150630|   20150731|        0|    14|         0|        149|         1|        0|\n",
      "|++/ZHqwUNa7U21Qz+...|  20150731|   20150831|        0|    14|         0|        149|         1|        0|\n",
      "|++/ZHqwUNa7U21Qz+...|  20150831|   20150930|        0|    14|         0|        149|         1|        0|\n",
      "|++/ZHqwUNa7U21Qz+...|  20150930|   20151031|        0|    14|         0|        149|         1|        0|\n",
      "|++/ZHqwUNa7U21Qz+...|  20151031|   20151130|        0|    14|         0|        149|         1|        0|\n",
      "|++3Z+W8OPnpbHYfrK...|  20150504|   20150609|        0|    41|         0|        129|         1|        0|\n",
      "|++3Z+W8OPnpbHYfrK...|  20150504|   20150604|        0|    41|         0|        149|         1|        1|\n",
      "|++4cUL0b9CfW8cj0A...|  20150508|   20150609|        0|    41|         0|        149|         1|        0|\n",
      "|++5wYjoMgQHoRuD3G...|  20150430|   20150614|        0|    39|         0|        149|         1|        0|\n",
      "|++5wYjoMgQHoRuD3G...|  20150512|   20150614|        0|    39|         0|        149|         1|        1|\n",
      "|++6P09mCSJSh+Ft2p...|  20150430|   20150613|        0|    39|         0|        149|         1|        0|\n",
      "|++7IULiyKbNc8jllq...|  20150501|   20150601|        0|    37|         0|        149|         1|        0|\n",
      "|++95tJZADNg8U8HKb...|  20150425|   20150524|        0|    40|         0|        149|         1|        1|\n",
      "|++95tJZADNg8U8HKb...|  20150425|   20150524|        0|    39|         0|        149|         1|        0|\n",
      "|++95tJZADNg8U8HKb...|  20150430|   20150624|        0|    39|         0|        149|         1|        0|\n",
      "|++9JUsaZioofS6Fb2...|  20150510|   20150610|        0|    37|         0|        149|         1|        0|\n",
      "|++BBU1qnsavj2eC5j...|  20150430|   20150614|        0|    39|         0|        149|         1|        0|\n",
      "+--------------------+----------+-----------+---------+------+----------+-----------+----------+---------+\n",
      "only showing top 20 rows\n",
      "\n"
     ]
    }
   ],
   "source": [
    "# plan_days = 0\n",
    "df1.where('plan_days == 0').show(20)"
   ]
  },
  {
   "cell_type": "code",
   "execution_count": 14,
   "metadata": {},
   "outputs": [
    {
     "name": "stdout",
     "output_type": "stream",
     "text": [
      "+--------------------+----------+-----------+---------+------+----------+-----------+----------+---------+\n",
      "|                msno|trans_date|expire_date|plan_days|method|list_price|actual_paid|auto_renew|is_cancel|\n",
      "+--------------------+----------+-----------+---------+------+----------+-----------+----------+---------+\n",
      "|++3Z+W8OPnpbHYfrK...|  20150108|   20150209|       30|    41|       149|        149|         1|        0|\n",
      "|++3Z+W8OPnpbHYfrK...|  20150208|   20150309|       30|    41|       149|        149|         1|        0|\n",
      "|++3Z+W8OPnpbHYfrK...|  20150308|   20150409|       30|    41|       149|        149|         1|        0|\n",
      "|++3Z+W8OPnpbHYfrK...|  20150408|   20150509|       30|    41|       149|        149|         1|        0|\n",
      "|++3Z+W8OPnpbHYfrK...|  20150504|   20150609|        0|    41|         0|        129|         1|        0|\n",
      "|++3Z+W8OPnpbHYfrK...|  20150504|   20150604|        0|    41|         0|        149|         1|        1|\n",
      "|++3Z+W8OPnpbHYfrK...|  20150603|   20150704|       30|    41|       129|        129|         1|        0|\n",
      "|++3Z+W8OPnpbHYfrK...|  20150703|   20150804|       30|    41|       129|        129|         1|        0|\n",
      "|++3Z+W8OPnpbHYfrK...|  20150803|   20150904|       30|    41|       129|        129|         1|        0|\n",
      "|++3Z+W8OPnpbHYfrK...|  20150903|   20151004|       30|    41|       129|        129|         1|        0|\n",
      "|++3Z+W8OPnpbHYfrK...|  20151003|   20151104|       30|    41|       129|        129|         1|        0|\n",
      "|++3Z+W8OPnpbHYfrK...|  20151103|   20151204|       30|    41|       129|        129|         1|        0|\n",
      "|++3Z+W8OPnpbHYfrK...|  20151203|   20160104|       30|    41|       129|        129|         1|        0|\n",
      "|++3Z+W8OPnpbHYfrK...|  20160103|   20160204|       30|    41|       129|        129|         1|        0|\n",
      "|++3Z+W8OPnpbHYfrK...|  20160203|   20160304|       30|    41|       129|        129|         1|        0|\n",
      "|++3Z+W8OPnpbHYfrK...|  20160303|   20160404|       30|    41|       129|        129|         1|        0|\n",
      "|++3Z+W8OPnpbHYfrK...|  20160403|   20160504|       30|    41|       129|        129|         1|        0|\n",
      "|++3Z+W8OPnpbHYfrK...|  20160503|   20160604|       30|    41|       149|        149|         1|        0|\n",
      "|++3Z+W8OPnpbHYfrK...|  20160603|   20160704|       30|    41|       149|        149|         1|        0|\n",
      "|++3Z+W8OPnpbHYfrK...|  20160703|   20160804|       30|    41|       149|        149|         1|        0|\n",
      "|++3Z+W8OPnpbHYfrK...|  20160803|   20160904|       30|    41|       149|        149|         1|        0|\n",
      "|++3Z+W8OPnpbHYfrK...|  20160903|   20161004|       30|    41|       149|        149|         1|        0|\n",
      "|++3Z+W8OPnpbHYfrK...|  20161003|   20161104|       30|    41|       149|        149|         1|        0|\n",
      "|++3Z+W8OPnpbHYfrK...|  20161103|   20161204|       30|    41|       149|        149|         1|        0|\n",
      "|++3Z+W8OPnpbHYfrK...|  20161203|   20170104|       30|    41|       149|        149|         1|        0|\n",
      "|++3Z+W8OPnpbHYfrK...|  20170103|   20170204|       30|    41|       149|        149|         1|        0|\n",
      "|++3Z+W8OPnpbHYfrK...|  20170203|   20170304|       30|    41|       149|        149|         1|        0|\n",
      "+--------------------+----------+-----------+---------+------+----------+-----------+----------+---------+\n",
      "\n"
     ]
    }
   ],
   "source": [
    "from pyspark.sql.functions import instr\n",
    "filter1 = instr(col(\"msno\"), \"++3Z+W8OPnpbHYfrK\") >= 1\n",
    "df1.where(filter1).show(30)"
   ]
  },
  {
   "cell_type": "code",
   "execution_count": 5,
   "metadata": {},
   "outputs": [
    {
     "name": "stdout",
     "output_type": "stream",
     "text": [
      "+---------------+\n",
      "|max(trans_date)|\n",
      "+---------------+\n",
      "|       20151031|\n",
      "+---------------+\n",
      "\n"
     ]
    }
   ],
   "source": [
    "from pyspark.sql.functions import max\n",
    "df1.where(col('plan_days') == 0).select(max('trans_date')).show()"
   ]
  },
  {
   "cell_type": "code",
   "execution_count": 13,
   "metadata": {},
   "outputs": [
    {
     "name": "stdout",
     "output_type": "stream",
     "text": [
      "+-----------+------+\n",
      "|actual_paid| count|\n",
      "+-----------+------+\n",
      "|        799|    35|\n",
      "|        300|    41|\n",
      "|        350|     3|\n",
      "|       1599|    27|\n",
      "|        500|     4|\n",
      "|        447|     5|\n",
      "|         35|    84|\n",
      "|        100|   138|\n",
      "|        450|     8|\n",
      "|        930|     7|\n",
      "|       1000|     5|\n",
      "|        129|  5208|\n",
      "|       1200|     1|\n",
      "|        400|     2|\n",
      "|         50|     1|\n",
      "|        480|    29|\n",
      "|       1150|     2|\n",
      "|        536|    47|\n",
      "|        105|     5|\n",
      "|        150|  2783|\n",
      "|       1788|   319|\n",
      "|        119|  5462|\n",
      "|        149|419265|\n",
      "|        131|    66|\n",
      "|        894|   528|\n",
      "|          0|   666|\n",
      "|        134|   431|\n",
      "+-----------+------+\n",
      "\n"
     ]
    }
   ],
   "source": [
    "df1.where('plan_days == 0').where('is_cancel == 0').groupBy('actual_paid').count().show(50)"
   ]
  },
  {
   "cell_type": "code",
   "execution_count": 20,
   "metadata": {},
   "outputs": [
    {
     "name": "stdout",
     "output_type": "stream",
     "text": [
      "+--------------------+----------+-----------+---------+------+----------+-----------+----------+---------+\n",
      "|                msno|trans_date|expire_date|plan_days|method|list_price|actual_paid|auto_renew|is_cancel|\n",
      "+--------------------+----------+-----------+---------+------+----------+-----------+----------+---------+\n",
      "|+1x90quayXba6Eab2...|  20150426|   20150525|        0|    40|         0|          0|         1|        0|\n",
      "|+8y+m/RR1VFURbi/R...|  20150630|   20150731|        0|    33|         0|          0|         1|        0|\n",
      "|+D4YNqVSXZ4O3yBwa...|  20150508|   20150607|        0|    40|         0|          0|         1|        0|\n",
      "|+N/9ad7gKr90jGdyu...|  20150513|   20150612|        0|    40|         0|          0|         1|        0|\n",
      "|+Wp9zLw0FV4XIuKTu...|  20150513|   20150612|        0|    40|         0|          0|         1|        0|\n",
      "|+cZeFe1HVVkpWY7mi...|  20150507|   20150606|        0|    40|         0|          0|         1|        0|\n",
      "|+chS7a9BpXF8Kpemi...|  20150503|   20150602|        0|    40|         0|          0|         1|        0|\n",
      "|+dud1u3ePDYmbwoph...|  20150831|   20150930|        0|    33|         0|          0|         1|        0|\n",
      "|+ldKOZ/D8K6Ko4edq...|  20151031|   20151130|        0|    23|         0|          0|         1|        0|\n",
      "|+rsBL+Wu5nuiTSi+O...|  20150508|   20150529|        0|    38|         0|          0|         0|        0|\n",
      "+--------------------+----------+-----------+---------+------+----------+-----------+----------+---------+\n",
      "only showing top 10 rows\n",
      "\n"
     ]
    }
   ],
   "source": [
    "df1.where('plan_days == 0').where('is_cancel == 0').where('actual_paid == 0').show(10)"
   ]
  },
  {
   "cell_type": "code",
   "execution_count": 10,
   "metadata": {},
   "outputs": [
    {
     "name": "stdout",
     "output_type": "stream",
     "text": [
      "+--------------------+----------+-----------+---------+------+----------+-----------+----------+---------+\n",
      "|                msno|trans_date|expire_date|plan_days|method|list_price|actual_paid|auto_renew|is_cancel|\n",
      "+--------------------+----------+-----------+---------+------+----------+-----------+----------+---------+\n",
      "|++4cUL0b9CfW8cj0A...|  20161028|   20161128|        1|    26|         0|          0|         0|        0|\n",
      "|+1ckZac2hDVStzAfr...|  20161221|   20161228|        1|    26|         0|          0|         0|        0|\n",
      "|+7xCGZydgLT8Rc9Bw...|  20170120|   20170225|        1|    26|         0|          0|         0|        0|\n",
      "|+EICW7FnDAA4C8Bk2...|  20150809|   20150816|        1|    26|         0|          0|         0|        0|\n",
      "|+EICW7FnDAA4C8Bk2...|  20150810|   20150910|        1|    26|         0|          0|         0|        0|\n",
      "|+G9oaqNK6Vh/HXphx...|  20151016|   20151023|        1|    26|         0|          0|         0|        0|\n",
      "|+KqXb8uyN5cZNqKO6...|  20160930|   20161002|        1|    26|         0|          0|         0|        0|\n",
      "|+XGNpZj1YXU92URI0...|  20150831|   20151210|        1|    26|         0|          0|         0|        0|\n",
      "|+XWbRkRC94eFP6Gk+...|  20151119|   20160102|        1|    26|         0|          0|         0|        0|\n",
      "|+bDVQI739UHQY69xh...|  20151007|   20160211|        1|    26|         0|          0|         0|        0|\n",
      "+--------------------+----------+-----------+---------+------+----------+-----------+----------+---------+\n",
      "only showing top 10 rows\n",
      "\n"
     ]
    }
   ],
   "source": [
    "# plan_days = 1\n",
    "df1.where(col('plan_days') == 1).show(10)"
   ]
  },
  {
   "cell_type": "code",
   "execution_count": 21,
   "metadata": {},
   "outputs": [
    {
     "name": "stdout",
     "output_type": "stream",
     "text": [
      "+--------------------+----------+-----------+---------+------+----------+-----------+----------+---------+\n",
      "|                msno|trans_date|expire_date|plan_days|method|list_price|actual_paid|auto_renew|is_cancel|\n",
      "+--------------------+----------+-----------+---------+------+----------+-----------+----------+---------+\n",
      "|+XWbRkRC94eFP6Gk+...|  20151118|   20151217|       30|    41|        99|         99|         1|        0|\n",
      "|+XWbRkRC94eFP6Gk+...|  20151119|   20160102|        1|    26|         0|          0|         0|        0|\n",
      "|+XWbRkRC94eFP6Gk+...|  20151217|   20160201|       30|    41|        99|         99|         1|        0|\n",
      "|+XWbRkRC94eFP6Gk+...|  20160117|   20160303|       30|    41|        99|         99|         1|        0|\n",
      "|+XWbRkRC94eFP6Gk+...|  20160217|   20160401|       30|    41|        99|         99|         1|        0|\n",
      "|+XWbRkRC94eFP6Gk+...|  20160317|   20160502|       30|    41|        99|         99|         1|        0|\n",
      "|+XWbRkRC94eFP6Gk+...|  20160417|   20160601|       30|    41|        99|         99|         1|        0|\n",
      "|+XWbRkRC94eFP6Gk+...|  20160517|   20160702|       30|    41|        99|         99|         1|        0|\n",
      "|+XWbRkRC94eFP6Gk+...|  20160617|   20160801|       30|    41|        99|         99|         1|        0|\n",
      "|+XWbRkRC94eFP6Gk+...|  20160717|   20160901|       30|    41|        99|         99|         1|        0|\n",
      "|+XWbRkRC94eFP6Gk+...|  20160817|   20161002|       30|    41|        99|         99|         1|        0|\n",
      "|+XWbRkRC94eFP6Gk+...|  20160917|   20161101|       30|    41|        99|         99|         1|        0|\n",
      "|+XWbRkRC94eFP6Gk+...|  20161017|   20161202|       30|    41|        99|         99|         1|        0|\n",
      "|+XWbRkRC94eFP6Gk+...|  20161117|   20170101|       30|    41|        99|         99|         1|        0|\n",
      "|+XWbRkRC94eFP6Gk+...|  20161217|   20170201|       30|    41|        99|         99|         1|        0|\n",
      "|+XWbRkRC94eFP6Gk+...|  20170117|   20170304|       30|    41|        99|         99|         1|        0|\n",
      "+--------------------+----------+-----------+---------+------+----------+-----------+----------+---------+\n",
      "\n"
     ]
    }
   ],
   "source": [
    "from pyspark.sql.functions import instr\n",
    "filter1 = instr(col(\"msno\"), \"+XWbRkRC94eFP6Gk+\") >= 1\n",
    "df1.where(filter1).show(30)"
   ]
  },
  {
   "cell_type": "code",
   "execution_count": 7,
   "metadata": {},
   "outputs": [
    {
     "name": "stdout",
     "output_type": "stream",
     "text": [
      "+--------------------+----------+-----------+---------+------+----------+-----------+----------+---------+\n",
      "|                msno|trans_date|expire_date|plan_days|method|list_price|actual_paid|auto_renew|is_cancel|\n",
      "+--------------------+----------+-----------+---------+------+----------+-----------+----------+---------+\n",
      "|Kw5J8WCp2WKzj2R9y...|  20151110|   20151111|        1|    38|         0|          0|         0|        0|\n",
      "|jz0dRy6lAYY5T8Yuy...|  20151029|   20151030|        1|    38|         0|          0|         0|        0|\n",
      "+--------------------+----------+-----------+---------+------+----------+-----------+----------+---------+\n",
      "\n"
     ]
    }
   ],
   "source": [
    "df1.where(col('plan_days') == 1).where('method != 26').show(30)"
   ]
  },
  {
   "cell_type": "code",
   "execution_count": 9,
   "metadata": {},
   "outputs": [
    {
     "name": "stdout",
     "output_type": "stream",
     "text": [
      "+---------------+---------------+----------------+---------------+--------------+\n",
      "|max(trans_date)|max(list_price)|max(actual_paid)|max(auto_renew)|max(is_cancel)|\n",
      "+---------------+---------------+----------------+---------------+--------------+\n",
      "|       20170228|              0|               0|              0|             0|\n",
      "+---------------+---------------+----------------+---------------+--------------+\n",
      "\n"
     ]
    }
   ],
   "source": [
    "from pyspark.sql.functions import min, max\n",
    "df1.where('plan_days == 1').select(max('trans_date'), max('list_price'), max('actual_paid'), \n",
    "                                   max('auto_renew'), max('is_cancel')).show(4)"
   ]
  },
  {
   "cell_type": "markdown",
   "metadata": {},
   "source": [
    "**conclusion:** \n",
    "* Records with `plan_days` = 1 have `method` = 26 or 38, `list_price` = `actual_paid` = 0, `auto_renew` = 0, `is_cancel` = 0. \n",
    "* They look like some kind of correction/update/prolong of subscription expire date."
   ]
  },
  {
   "cell_type": "code",
   "execution_count": 58,
   "metadata": {},
   "outputs": [
    {
     "name": "stdout",
     "output_type": "stream",
     "text": [
      "+--------------------+----------+-----------+---------+------+----------+-----------+----------+---------+\n",
      "|                msno|trans_date|expire_date|plan_days|method|list_price|actual_paid|auto_renew|is_cancel|\n",
      "+--------------------+----------+-----------+---------+------+----------+-----------+----------+---------+\n",
      "|6zx0HeEdbSL3AGTjt...|  20160412|   20160415|        3|    38|        15|         15|         0|        0|\n",
      "|YSokopIuxo6RwqEQd...|  20160206|   20160209|        3|    38|        15|         15|         0|        0|\n",
      "|YSokopIuxo6RwqEQd...|  20160722|   20160724|        2|    38|        10|         10|         0|        0|\n",
      "|zNwGyygFpA/SMAxIO...|  20150824|   20151209|        2|    38|        10|         10|         0|        0|\n",
      "|zNwGyygFpA/SMAxIO...|  20151219|   20151229|        3|    38|        15|         15|         0|        0|\n",
      "+--------------------+----------+-----------+---------+------+----------+-----------+----------+---------+\n",
      "\n"
     ]
    }
   ],
   "source": [
    "# plan_days = 2\n",
    "df1.where((col('plan_days') == 2) | (col('plan_days') == 3)).show(30)"
   ]
  },
  {
   "cell_type": "markdown",
   "metadata": {},
   "source": [
    "## list_price = 0 "
   ]
  },
  {
   "cell_type": "code",
   "execution_count": 50,
   "metadata": {
    "scrolled": false
   },
   "outputs": [
    {
     "name": "stdout",
     "output_type": "stream",
     "text": [
      "+--------------------+----------+-----------+---------+------+----------+-----------+----------+---------+\n",
      "|                msno|trans_date|expire_date|plan_days|method|list_price|actual_paid|auto_renew|is_cancel|\n",
      "+--------------------+----------+-----------+---------+------+----------+-----------+----------+---------+\n",
      "|+++l/EXNMLTijfLBa...|  20150430|   20150619|        0|    39|         0|        149|         1|        0|\n",
      "|++/UDNo9DLrxT8QVG...|  20150430|   20150623|        0|    39|         0|        149|         1|        0|\n",
      "|++/ZHqwUNa7U21Qz+...|  20150331|   20150430|        0|    14|         0|        149|         1|        0|\n",
      "|++/ZHqwUNa7U21Qz+...|  20150630|   20150731|        0|    14|         0|        149|         1|        0|\n",
      "|++/ZHqwUNa7U21Qz+...|  20150731|   20150831|        0|    14|         0|        149|         1|        0|\n",
      "|++/ZHqwUNa7U21Qz+...|  20150831|   20150930|        0|    14|         0|        149|         1|        0|\n",
      "|++/ZHqwUNa7U21Qz+...|  20150930|   20151031|        0|    14|         0|        149|         1|        0|\n",
      "|++/ZHqwUNa7U21Qz+...|  20151031|   20151130|        0|    14|         0|        149|         1|        0|\n",
      "|++3Z+W8OPnpbHYfrK...|  20150504|   20150609|        0|    41|         0|        129|         1|        0|\n",
      "|++3Z+W8OPnpbHYfrK...|  20150504|   20150604|        0|    41|         0|        149|         1|        1|\n",
      "|++4cUL0b9CfW8cj0A...|  20150508|   20150609|        0|    41|         0|        149|         1|        0|\n",
      "|++4cUL0b9CfW8cj0A...|  20161028|   20161128|        1|    26|         0|          0|         0|        0|\n",
      "|++5wYjoMgQHoRuD3G...|  20150430|   20150614|        0|    39|         0|        149|         1|        0|\n",
      "|++5wYjoMgQHoRuD3G...|  20150512|   20150614|        0|    39|         0|        149|         1|        1|\n",
      "|++6P09mCSJSh+Ft2p...|  20150430|   20150613|        0|    39|         0|        149|         1|        0|\n",
      "|++7IULiyKbNc8jllq...|  20150501|   20150601|        0|    37|         0|        149|         1|        0|\n",
      "|++95tJZADNg8U8HKb...|  20150425|   20150524|        0|    40|         0|        149|         1|        1|\n",
      "|++95tJZADNg8U8HKb...|  20150425|   20150524|        0|    39|         0|        149|         1|        0|\n",
      "|++95tJZADNg8U8HKb...|  20150430|   20150624|        0|    39|         0|        149|         1|        0|\n",
      "|++9JUsaZioofS6Fb2...|  20150510|   20150610|        0|    37|         0|        149|         1|        0|\n",
      "|++BBU1qnsavj2eC5j...|  20150430|   20150614|        0|    39|         0|        149|         1|        0|\n",
      "|++BW1PJYU5OZi3n3+...|  20150331|   20150430|        0|    34|         0|        149|         1|        0|\n",
      "|++BW1PJYU5OZi3n3+...|  20150630|   20150731|        0|    34|         0|        149|         1|        0|\n",
      "|++BW1PJYU5OZi3n3+...|  20150731|   20150831|        0|    34|         0|        149|         1|        0|\n",
      "|++BW1PJYU5OZi3n3+...|  20150831|   20150930|        0|    34|         0|        149|         1|        0|\n",
      "|++BW1PJYU5OZi3n3+...|  20150930|   20151031|        0|    34|         0|        149|         1|        0|\n",
      "|++BW1PJYU5OZi3n3+...|  20151031|   20151130|        0|    34|         0|        149|         1|        0|\n",
      "|++CITmZPtQDWOi01u...|  20150510|   20150610|        0|    37|         0|        149|         1|        0|\n",
      "|++DcyRE+ZfLtlKGig...|  20150424|   20150524|        0|    37|         0|        149|         1|        0|\n",
      "|++EcAZQCSSJQMx37/...|  20150430|   20150618|        0|    39|         0|        149|         1|        0|\n",
      "+--------------------+----------+-----------+---------+------+----------+-----------+----------+---------+\n",
      "only showing top 30 rows\n",
      "\n"
     ]
    }
   ],
   "source": [
    "df1.where(col('list_price') == 0).show(30)"
   ]
  },
  {
   "cell_type": "code",
   "execution_count": 6,
   "metadata": {},
   "outputs": [
    {
     "name": "stdout",
     "output_type": "stream",
     "text": [
      "+--------------------+----------+-----------+---------+------+----------+-----------+----------+---------+\n",
      "|                msno|trans_date|expire_date|plan_days|method|list_price|actual_paid|auto_renew|is_cancel|\n",
      "+--------------------+----------+-----------+---------+------+----------+-----------+----------+---------+\n",
      "|++6P09mCSJSh+Ft2p...|  20150131|   20150313|       31|    39|       149|        149|         1|        0|\n",
      "|++6P09mCSJSh+Ft2p...|  20150228|   20150413|       31|    39|       149|        149|         1|        0|\n",
      "|++6P09mCSJSh+Ft2p...|  20150331|   20150513|       31|    39|       149|        149|         1|        0|\n",
      "|++6P09mCSJSh+Ft2p...|  20150430|   20150613|        0|    39|         0|        149|         1|        0|\n",
      "|++6P09mCSJSh+Ft2p...|  20150531|   20150713|       30|    39|       149|        149|         1|        0|\n",
      "|++6P09mCSJSh+Ft2p...|  20150630|   20150813|       30|    39|       149|        149|         1|        0|\n",
      "|++6P09mCSJSh+Ft2p...|  20150731|   20150913|       30|    39|       149|        149|         1|        0|\n",
      "|++6P09mCSJSh+Ft2p...|  20150831|   20151013|       30|    39|       149|        149|         1|        0|\n",
      "|++6P09mCSJSh+Ft2p...|  20150930|   20151113|       30|    39|       149|        149|         1|        0|\n",
      "|++6P09mCSJSh+Ft2p...|  20151102|   20151213|       30|    39|       149|        149|         1|        0|\n",
      "|++6P09mCSJSh+Ft2p...|  20151202|   20160113|       30|    39|       149|        149|         1|        0|\n",
      "|++6P09mCSJSh+Ft2p...|  20160131|   20160313|       30|    39|       149|        149|         1|        0|\n",
      "|++6P09mCSJSh+Ft2p...|  20160731|   20160913|       30|    39|       149|        149|         1|        0|\n",
      "|++6P09mCSJSh+Ft2p...|  20160831|   20161013|       30|    39|       149|        149|         1|        0|\n",
      "|++6P09mCSJSh+Ft2p...|  20160930|   20161113|       30|    39|       149|        149|         1|        0|\n",
      "|++6P09mCSJSh+Ft2p...|  20161031|   20161213|       30|    39|       149|        149|         1|        0|\n",
      "|++6P09mCSJSh+Ft2p...|  20161130|   20170113|       30|    39|       149|        149|         1|        0|\n",
      "|++6P09mCSJSh+Ft2p...|  20161231|   20170213|       30|    39|       149|        149|         1|        0|\n",
      "|++6P09mCSJSh+Ft2p...|  20170131|   20170313|       30|    39|       149|        149|         1|        0|\n",
      "+--------------------+----------+-----------+---------+------+----------+-----------+----------+---------+\n",
      "\n"
     ]
    }
   ],
   "source": [
    "from pyspark.sql.functions import instr\n",
    "filter1 = instr(col(\"msno\"), \"++6P09mCSJSh+Ft2p\") >= 1\n",
    "df1.where(filter1).show(30)"
   ]
  },
  {
   "cell_type": "markdown",
   "metadata": {},
   "source": [
    "## is_cancel "
   ]
  },
  {
   "cell_type": "code",
   "execution_count": 26,
   "metadata": {},
   "outputs": [
    {
     "name": "stdout",
     "output_type": "stream",
     "text": [
      "+--------------------+----------+-----------+---------+------+----------+-----------+----------+---------+\n",
      "|                msno|trans_date|expire_date|plan_days|method|list_price|actual_paid|auto_renew|is_cancel|\n",
      "+--------------------+----------+-----------+---------+------+----------+-----------+----------+---------+\n",
      "|++3Z+W8OPnpbHYfrK...|  20150504|   20150604|        0|    41|         0|        149|         1|        1|\n",
      "|++4cUL0b9CfW8cj0A...|  20160302|   20160302|       30|    41|       149|        149|         1|        1|\n",
      "|++4cUL0b9CfW8cj0A...|  20161028|   20161027|       30|    33|       149|        149|         1|        1|\n",
      "|++5wYjoMgQHoRuD3G...|  20150512|   20150614|        0|    39|         0|        149|         1|        1|\n",
      "|++95tJZADNg8U8HKb...|  20150425|   20150524|        0|    40|         0|        149|         1|        1|\n",
      "|++9JUsaZioofS6Fb2...|  20170219|   20170310|       30|    37|       149|        149|         1|        1|\n",
      "|++A8p4GrsTnMjI6hA...|  20150612|   20150612|       30|    30|       149|        149|         1|        1|\n",
      "|++A8p4GrsTnMjI6hA...|  20160226|   20160226|       30|    30|       149|        149|         1|        1|\n",
      "|++DcyRE+ZfLtlKGig...|  20170224|   20170224|       30|    37|       149|        149|         1|        1|\n",
      "|++FojTWzKjhz7uxsZ...|  20150803|   20150902|       30|    39|       149|        149|         1|        1|\n",
      "|++IjleA6pVExACeYO...|  20160530|   20160530|       30|    41|       149|        149|         1|        1|\n",
      "|++SIK5gV6oE1D9Sdf...|  20160217|   20160217|       30|    41|       149|        149|         1|        1|\n",
      "|++UyRqjARgvFXB6Yd...|  20160122|   20160122|       30|    41|       129|        129|         1|        1|\n",
      "|++aTQuzrlR6QCrMNR...|  20170130|   20170130|       30|    41|        99|         99|         1|        1|\n",
      "|++aVm+4v87MXzbhiE...|  20150523|   20150623|       30|    39|       149|        149|         1|        1|\n",
      "|++bIcE+J/e/1b77I2...|  20150522|   20150521|       30|    37|       149|        149|         1|        1|\n",
      "|++d5DqCI/Hb92CkUX...|  20160315|   20160401|       30|    39|       149|        149|         1|        1|\n",
      "|++gZjzjkC8lAqAtcO...|  20150611|   20150721|       30|    24|       149|        149|         1|        1|\n",
      "|++hTNyKbQJonbwH4z...|  20161103|   20161103|       30|    41|        99|         99|         1|        1|\n",
      "|++hTNyKbQJonbwH4z...|  20170103|   20170104|       30|    41|       129|        129|         1|        1|\n",
      "|++j2SYmpLBS0Cgzya...|  20160218|   20160218|       30|    41|       149|        149|         1|        1|\n",
      "|++kqM73xL/v0vqbSI...|  20170123|   20170123|       30|    41|       149|        149|         1|        1|\n",
      "|++laFYWTCjjGfTqT4...|  20150401|   20150402|       30|    34|       149|        149|         1|        1|\n",
      "|++pCffaply7OuAlbc...|  20151017|   20151015|       30|    40|       149|        149|         1|        1|\n",
      "|++pSqgOqSB8laOm+R...|  20150606|   20150605|       30|    41|       149|        149|         1|        1|\n",
      "|++pSqgOqSB8laOm+R...|  20160105|   20160105|       30|    41|       129|        129|         1|        1|\n",
      "|++vT6UO7AYlWszhi3...|  20150715|   20150715|       30|    41|       149|        149|         1|        1|\n",
      "|++wDR2uEVD8Ep2jLN...|  20170215|   20170213|       30|    36|       180|        180|         1|        1|\n",
      "|++xrAbd6hCJc69fQi...|  20150401|   20150402|       30|    34|       149|        149|         1|        1|\n",
      "|++xwmVgCwpW+wr4+z...|  20160611|   20160609|       30|    40|       149|        149|         1|        1|\n",
      "+--------------------+----------+-----------+---------+------+----------+-----------+----------+---------+\n",
      "only showing top 30 rows\n",
      "\n"
     ]
    }
   ],
   "source": [
    "df1.where('is_cancel == 1').show(30)"
   ]
  },
  {
   "cell_type": "code",
   "execution_count": 28,
   "metadata": {},
   "outputs": [
    {
     "name": "stdout",
     "output_type": "stream",
     "text": [
      "+--------------------+----------+-----------+---------+------+----------+-----------+----------+---------+\n",
      "|                msno|trans_date|expire_date|plan_days|method|list_price|actual_paid|auto_renew|is_cancel|\n",
      "+--------------------+----------+-----------+---------+------+----------+-----------+----------+---------+\n",
      "|++pSqgOqSB8laOm+R...|  20150105|   20150205|       30|    41|       149|        119|         1|        0|\n",
      "|++pSqgOqSB8laOm+R...|  20150205|   20150305|       30|    41|       149|        119|         1|        0|\n",
      "|++pSqgOqSB8laOm+R...|  20150305|   20150405|       30|    41|       149|        119|         1|        0|\n",
      "|++pSqgOqSB8laOm+R...|  20150405|   20150505|       30|    41|       149|        119|         1|        0|\n",
      "|++pSqgOqSB8laOm+R...|  20150505|   20150605|        0|    41|         0|        119|         1|        0|\n",
      "|++pSqgOqSB8laOm+R...|  20150605|   20150705|       30|    41|       149|        149|         1|        0|\n",
      "|++pSqgOqSB8laOm+R...|  20150606|   20150705|       30|    41|       129|        129|         1|        0|\n",
      "|++pSqgOqSB8laOm+R...|  20150606|   20150605|       30|    41|       149|        149|         1|        1|\n",
      "|++pSqgOqSB8laOm+R...|  20150705|   20150805|       30|    41|       129|        129|         1|        0|\n",
      "|++pSqgOqSB8laOm+R...|  20150805|   20150905|       30|    41|       129|        129|         1|        0|\n",
      "|++pSqgOqSB8laOm+R...|  20150905|   20151005|       30|    41|       129|        129|         1|        0|\n",
      "|++pSqgOqSB8laOm+R...|  20151005|   20151105|       30|    41|       129|        129|         1|        0|\n",
      "|++pSqgOqSB8laOm+R...|  20151105|   20151205|       30|    41|       129|        129|         1|        0|\n",
      "|++pSqgOqSB8laOm+R...|  20151205|   20160105|       30|    41|       129|        129|         1|        0|\n",
      "|++pSqgOqSB8laOm+R...|  20160105|   20160105|       30|    41|       129|        129|         1|        1|\n",
      "|++pSqgOqSB8laOm+R...|  20160105|   20160204|       30|    41|        99|         99|         1|        0|\n",
      "|++pSqgOqSB8laOm+R...|  20160204|   20160304|       30|    41|        99|         99|         1|        0|\n",
      "|++pSqgOqSB8laOm+R...|  20160304|   20160404|       30|    41|        99|         99|         1|        0|\n",
      "|++pSqgOqSB8laOm+R...|  20160404|   20160504|       30|    41|        99|         99|         1|        0|\n",
      "|++pSqgOqSB8laOm+R...|  20160504|   20160604|       30|    41|        99|         99|         1|        0|\n",
      "|++pSqgOqSB8laOm+R...|  20160604|   20160704|       30|    41|        99|         99|         1|        0|\n",
      "|++pSqgOqSB8laOm+R...|  20160704|   20160804|       30|    41|        99|         99|         1|        0|\n",
      "|++pSqgOqSB8laOm+R...|  20160804|   20160904|       30|    41|        99|         99|         1|        0|\n",
      "|++pSqgOqSB8laOm+R...|  20160904|   20161004|       30|    41|        99|         99|         1|        0|\n",
      "|++pSqgOqSB8laOm+R...|  20161004|   20161104|       30|    41|        99|         99|         1|        0|\n",
      "|++pSqgOqSB8laOm+R...|  20161104|   20161204|       30|    41|        99|         99|         1|        0|\n",
      "|++pSqgOqSB8laOm+R...|  20161204|   20170104|       30|    41|        99|         99|         1|        0|\n",
      "|++pSqgOqSB8laOm+R...|  20170104|   20170204|       30|    41|        99|         99|         1|        0|\n",
      "|++pSqgOqSB8laOm+R...|  20170204|   20170304|       30|    41|        99|         99|         1|        0|\n",
      "+--------------------+----------+-----------+---------+------+----------+-----------+----------+---------+\n",
      "\n"
     ]
    }
   ],
   "source": [
    "from pyspark.sql.functions import instr\n",
    "filter1 = instr(col(\"msno\"), \"++pSqgOqSB8laOm+R\") >= 1\n",
    "df1.where(filter1).show(30)"
   ]
  },
  {
   "cell_type": "markdown",
   "metadata": {},
   "source": [
    "## expire_date >> trans_date "
   ]
  },
  {
   "cell_type": "code",
   "execution_count": 34,
   "metadata": {},
   "outputs": [
    {
     "name": "stdout",
     "output_type": "stream",
     "text": [
      "+--------------------+----------+-----------+---------+------+----------+-----------+----------+---------+\n",
      "|                msno|trans_date|expire_date|plan_days|method|list_price|actual_paid|auto_renew|is_cancel|\n",
      "+--------------------+----------+-----------+---------+------+----------+-----------+----------+---------+\n",
      "|++vWe05qm+bN0w2uE...|  20160110|   20160310|       30|    38|       149|        149|         0|        0|\n",
      "|+/GXNtXWQVfKrEDqY...|  20170120|   20170322|       30|    36|       180|        180|         1|        0|\n",
      "|+/UwoUi5+rNj/F6RO...|  20160819|   20161117|       30|    38|       149|        149|         0|        0|\n",
      "|+/juzEnrbebfqNG77...|  20150724|   20150925|       30|    36|       150|        150|         0|        0|\n",
      "|+/juzEnrbebfqNG77...|  20160128|   20160328|       30|    36|       150|        150|         0|        0|\n",
      "|+/o1K0v6t2cGYPuuC...|  20170127|   20170328|       30|    36|       180|        180|         0|        0|\n",
      "|+/pzcq2ScM/BS+F5I...|  20150228|   20150428|       31|    21|       149|        149|         1|        0|\n",
      "|+/v+0WDXytBkHBqoT...|  20160211|   20160411|       30|    36|       150|        150|         0|        0|\n",
      "|+05EQdclZT2FgmRfz...|  20160405|   20160605|       30|    38|       149|        149|         0|        0|\n",
      "|+1luNX1IrJn8MEXXd...|  20150228|   20150428|       31|    39|       149|        149|         1|        0|\n",
      "|+2Ho97Uszy96rDEs9...|  20160517|   20160717|       30|    37|       149|        149|         1|        0|\n",
      "|+2Ho97Uszy96rDEs9...|  20160817|   20161017|       30|    37|       149|        149|         1|        0|\n",
      "|+2lQ+2xhPRfEHkwux...|  20150228|   20150428|       31|    39|       149|        149|         1|        0|\n",
      "|+2oMY9t5NSJl7nFPs...|  20150228|   20150428|       31|    39|       149|        149|         1|        0|\n",
      "|+3He+RdOsrFag8zJM...|  20170118|   20170322|       30|    40|       149|        149|         1|        0|\n",
      "|+3Q9/9hHWE3zxCeZa...|  20150916|   20151120|       30|    38|       149|        149|         0|        0|\n",
      "|+3UG/uRcLrwhCK0Lt...|  20150105|   20150427|       30|    41|       149|        119|         1|        0|\n",
      "|+3UG/uRcLrwhCK0Lt...|  20150125|   20150528|       30|    41|       149|        149|         1|        0|\n",
      "|+3UG/uRcLrwhCK0Lt...|  20150205|   20150625|       30|    41|       149|        119|         1|        0|\n",
      "|+3UG/uRcLrwhCK0Lt...|  20150225|   20150723|       30|    41|       149|        149|         1|        0|\n",
      "|+3UG/uRcLrwhCK0Lt...|  20150305|   20150823|       30|    41|       149|        119|         1|        0|\n",
      "|+3UG/uRcLrwhCK0Lt...|  20150325|   20150923|       30|    41|       149|        149|         1|        0|\n",
      "|+3UG/uRcLrwhCK0Lt...|  20150405|   20151023|       30|    41|       149|        119|         1|        0|\n",
      "|+3uY0uFmca9jOJjAg...|  20160906|   20161112|       30|    29|       180|        180|         0|        0|\n",
      "|+42FuATTDcG8mNaau...|  20150228|   20150428|       31|    39|       149|        149|         1|        0|\n",
      "|+4NaC77+UBJlPPmgi...|  20150228|   20150428|       31|    39|       149|        149|         1|        0|\n",
      "|+52Q8sH8w3/zJW+7U...|  20160206|   20160406|       30|    36|       150|        150|         0|        0|\n",
      "|+5BBy/gZjdheehvrn...|  20170115|   20170316|       30|    36|       180|        180|         1|        0|\n",
      "|+5CqE+CudZpsKC9ma...|  20150228|   20150429|       31|    39|       149|        149|         1|        0|\n",
      "|+5DYebpuzzLFByS1A...|  20150217|   20150422|       31|    40|       149|        149|         1|        1|\n",
      "+--------------------+----------+-----------+---------+------+----------+-----------+----------+---------+\n",
      "only showing top 30 rows\n",
      "\n"
     ]
    }
   ],
   "source": [
    "from pyspark.sql.functions import floor\n",
    "\n",
    "cri1 = col('plan_days') == 30\n",
    "cri2 = col('plan_days') == 31\n",
    "cri3 = (col('expire_date') - col('trans_date')) >= 200\n",
    "cri4 = floor(col('expire_date') / 10000) == floor(col('trans_date') / 10000) \n",
    "df1.where(cri1 | cri2).where(cri3).where(cri4).show(30)"
   ]
  },
  {
   "cell_type": "code",
   "execution_count": 16,
   "metadata": {
    "scrolled": false
   },
   "outputs": [
    {
     "name": "stdout",
     "output_type": "stream",
     "text": [
      "+--------------------+----------+-----------+---------+------+----------+-----------+----------+---------+\n",
      "|                msno|trans_date|expire_date|plan_days|method|list_price|actual_paid|auto_renew|is_cancel|\n",
      "+--------------------+----------+-----------+---------+------+----------+-----------+----------+---------+\n",
      "|+/o1K0v6t2cGYPuuC...|  20150406|   20150506|       30|    36|       150|        150|         0|        0|\n",
      "|+/o1K0v6t2cGYPuuC...|  20150524|   20150623|       30|    36|       150|        150|         0|        0|\n",
      "|+/o1K0v6t2cGYPuuC...|  20150716|   20150815|       30|    36|       150|        150|         0|        0|\n",
      "|+/o1K0v6t2cGYPuuC...|  20150822|   20150921|       30|    36|       150|        150|         0|        0|\n",
      "|+/o1K0v6t2cGYPuuC...|  20151116|   20151216|       30|    36|       150|        150|         0|        0|\n",
      "|+/o1K0v6t2cGYPuuC...|  20151221|   20160120|       30|    36|       150|        150|         0|        0|\n",
      "|+/o1K0v6t2cGYPuuC...|  20160212|   20160313|       30|    36|       150|        150|         0|        0|\n",
      "|+/o1K0v6t2cGYPuuC...|  20160326|   20160425|       30|    36|       150|        150|         0|        0|\n",
      "|+/o1K0v6t2cGYPuuC...|  20160426|   20160526|       30|    36|       180|        180|         0|        0|\n",
      "|+/o1K0v6t2cGYPuuC...|  20160508|   20160625|       30|    36|       180|        180|         0|        0|\n",
      "|+/o1K0v6t2cGYPuuC...|  20160626|   20160726|       30|    36|       180|        180|         0|        0|\n",
      "|+/o1K0v6t2cGYPuuC...|  20160730|   20160829|       30|    36|       180|        180|         0|        0|\n",
      "|+/o1K0v6t2cGYPuuC...|  20160922|   20161022|       30|    36|       180|        180|         0|        0|\n",
      "|+/o1K0v6t2cGYPuuC...|  20161218|   20170117|       30|    36|       180|        180|         0|        0|\n",
      "|+/o1K0v6t2cGYPuuC...|  20170127|   20170328|       30|    36|       180|        180|         0|        0|\n",
      "|+/o1K0v6t2cGYPuuC...|  20170127|   20170226|       30|    36|       180|        180|         0|        0|\n",
      "+--------------------+----------+-----------+---------+------+----------+-----------+----------+---------+\n",
      "\n"
     ]
    }
   ],
   "source": [
    "from pyspark.sql.functions import instr\n",
    "filter1 = instr(col(\"msno\"), \"+/o1K0v6t2cGYPuuC\") >= 1\n",
    "df1.where(filter1).show(30)"
   ]
  },
  {
   "cell_type": "code",
   "execution_count": 19,
   "metadata": {},
   "outputs": [
    {
     "name": "stdout",
     "output_type": "stream",
     "text": [
      "+--------------------+----------+-----------+---------+------+----------+-----------+----------+---------+\n",
      "|                msno|trans_date|expire_date|plan_days|method|list_price|actual_paid|auto_renew|is_cancel|\n",
      "+--------------------+----------+-----------+---------+------+----------+-----------+----------+---------+\n",
      "|++am6f+rLDE3gjQM7...|  20150114|   20160110|       30|    41|       129|        129|         1|        0|\n",
      "|++am6f+rLDE3gjQM7...|  20150214|   20160207|       30|    41|       129|        129|         1|        0|\n",
      "|++am6f+rLDE3gjQM7...|  20150314|   20160309|       30|    41|       129|        129|         1|        0|\n",
      "|++am6f+rLDE3gjQM7...|  20150414|   20160408|       30|    41|       129|        129|         1|        0|\n",
      "|++am6f+rLDE3gjQM7...|  20150514|   20160509|       30|    41|       129|        129|         1|        0|\n",
      "|++am6f+rLDE3gjQM7...|  20150614|   20160608|       30|    41|       129|        129|         1|        0|\n",
      "|++am6f+rLDE3gjQM7...|  20150714|   20160709|       30|    41|       129|        129|         1|        0|\n",
      "|++am6f+rLDE3gjQM7...|  20150814|   20160809|       30|    41|       129|        129|         1|        0|\n",
      "|++am6f+rLDE3gjQM7...|  20150914|   20160908|       30|    41|       129|        129|         1|        0|\n",
      "|++am6f+rLDE3gjQM7...|  20151014|   20161009|       30|    41|       129|        129|         1|        0|\n",
      "|++am6f+rLDE3gjQM7...|  20151114|   20161108|       30|    41|       129|        129|         1|        0|\n",
      "|++am6f+rLDE3gjQM7...|  20151214|   20161209|       30|    41|       129|        129|         1|        0|\n",
      "|++am6f+rLDE3gjQM7...|  20160114|   20170109|       30|    41|       129|        129|         1|        0|\n",
      "|++am6f+rLDE3gjQM7...|  20160214|   20170207|       30|    41|       129|        129|         1|        0|\n",
      "|+1nmHomW1LgTHXsBE...|  20150817|   20160330|       30|    36|       150|        150|         0|        0|\n",
      "|+1nmHomW1LgTHXsBE...|  20150817|   20160229|       30|    36|       150|        150|         0|        0|\n",
      "|+1nmHomW1LgTHXsBE...|  20150817|   20160130|       30|    36|       150|        150|         0|        0|\n",
      "|+1nmHomW1LgTHXsBE...|  20151127|   20160429|       30|    36|       150|        150|         0|        0|\n",
      "|+1nmHomW1LgTHXsBE...|  20151127|   20160728|       30|    36|       150|        150|         0|        0|\n",
      "|+1nmHomW1LgTHXsBE...|  20151127|   20170325|       30|    36|       150|        150|         0|        0|\n",
      "|+1nmHomW1LgTHXsBE...|  20151127|   20161026|       30|    36|       150|        150|         0|        0|\n",
      "|+1nmHomW1LgTHXsBE...|  20151127|   20160529|       30|    36|       150|        150|         0|        0|\n",
      "|+1nmHomW1LgTHXsBE...|  20151127|   20170124|       30|    36|       150|        150|         0|        0|\n",
      "|+1nmHomW1LgTHXsBE...|  20151127|   20160628|       30|    36|       150|        150|         0|        0|\n",
      "|+1nmHomW1LgTHXsBE...|  20151127|   20160926|       30|    36|       150|        150|         0|        0|\n",
      "|+1nmHomW1LgTHXsBE...|  20151127|   20160827|       30|    36|       150|        150|         0|        0|\n",
      "|+1nmHomW1LgTHXsBE...|  20151127|   20170223|       30|    36|       150|        150|         0|        0|\n",
      "|+1nmHomW1LgTHXsBE...|  20151127|   20161125|       30|    36|       150|        150|         0|        0|\n",
      "|+1nmHomW1LgTHXsBE...|  20151127|   20161225|       30|    36|       150|        150|         0|        0|\n",
      "|+3UG/uRcLrwhCK0Lt...|  20150525|   20160123|       30|    41|       149|        149|         1|        0|\n",
      "|+3UG/uRcLrwhCK0Lt...|  20150605|   20160222|       30|    41|       149|        119|         1|        0|\n",
      "|+3UG/uRcLrwhCK0Lt...|  20150625|   20160323|       30|    41|       149|        149|         1|        0|\n",
      "|+3UG/uRcLrwhCK0Lt...|  20150705|   20160423|       30|    41|       149|        119|         1|        0|\n",
      "|+3UG/uRcLrwhCK0Lt...|  20150725|   20160524|       30|    41|       149|        149|         1|        0|\n",
      "|+3UG/uRcLrwhCK0Lt...|  20150805|   20160624|       30|    41|       149|        119|         1|        0|\n",
      "|+3UG/uRcLrwhCK0Lt...|  20150825|   20160725|       30|    41|       149|        149|         1|        0|\n",
      "|+3UG/uRcLrwhCK0Lt...|  20150905|   20160824|       30|    41|       149|        119|         1|        0|\n",
      "|+3UG/uRcLrwhCK0Lt...|  20150925|   20160923|       30|    41|       149|        149|         1|        0|\n",
      "|+3UG/uRcLrwhCK0Lt...|  20151005|   20161024|       30|    41|       149|        119|         1|        0|\n",
      "|+3UG/uRcLrwhCK0Lt...|  20151025|   20161124|       30|    41|       149|        149|         1|        0|\n",
      "+--------------------+----------+-----------+---------+------+----------+-----------+----------+---------+\n",
      "only showing top 40 rows\n",
      "\n"
     ]
    }
   ],
   "source": [
    "from pyspark.sql.functions import floor\n",
    "\n",
    "cri1 = col('plan_days') == 30\n",
    "cri2 = col('plan_days') == 31\n",
    "cri3 = floor(col('expire_date') / 10000) > floor(col('trans_date') / 10000) \n",
    "cri4 = floor(col('expire_date') / 100) - floor(col('trans_date') / 100) - 88 > 4\n",
    "df1.where(cri1 | cri2).where(cri3).where(cri4).show(40)"
   ]
  },
  {
   "cell_type": "markdown",
   "metadata": {},
   "source": [
    "## actual_paid = 0"
   ]
  },
  {
   "cell_type": "code",
   "execution_count": 14,
   "metadata": {},
   "outputs": [
    {
     "name": "stdout",
     "output_type": "stream",
     "text": [
      "+--------------------+----------+-----------+---------+------+----------+-----------+----------+---------+\n",
      "|                msno|trans_date|expire_date|plan_days|method|list_price|actual_paid|auto_renew|is_cancel|\n",
      "+--------------------+----------+-----------+---------+------+----------+-----------+----------+---------+\n",
      "|++4cUL0b9CfW8cj0A...|  20161028|   20161128|        1|    26|         0|          0|         0|        0|\n",
      "|++A8p4GrsTnMjI6hA...|  20151221|   20160120|       30|    30|       149|          0|         1|        0|\n",
      "|++A8p4GrsTnMjI6hA...|  20160226|   20160325|       30|    30|       149|          0|         1|        0|\n",
      "|++N9C3T2DFC2uRZ9L...|  20161025|   20161101|        7|    35|         0|          0|         0|        0|\n",
      "|++Tp41swlnwrt2eLT...|  20150602|   20150615|        7|    35|         0|          0|         0|        0|\n",
      "|++hm6Yp8JLZQ12NV5...|  20161101|   20161108|        7|    35|         0|          0|         0|        0|\n",
      "|++lJ3R8mLL7PpfIFA...|  20150601|   20150615|        7|    35|         0|          0|         0|        0|\n",
      "|++lJ3R8mLL7PpfIFA...|  20160613|   20160620|        7|    38|         0|          0|         0|        0|\n",
      "|+/2Xhiy7NDQDSGyZg...|  20160907|   20160912|        7|    35|         0|          0|         0|        0|\n",
      "|+/9ci+EwK9CTIVyyl...|  20161030|   20161106|        7|    35|         0|          0|         0|        0|\n",
      "|+/AnFGYo/NMnEfpPO...|  20160726|   20160831|        7|    35|         0|          0|         0|        0|\n",
      "|+/DeBhiW5LND3SujR...|  20151123|   20151223|       30|    40|       149|          0|         1|        0|\n",
      "|+/DeBhiW5LND3SujR...|  20161024|   20161031|        7|    35|         0|          0|         0|        0|\n",
      "|+/EvFmNQ15lMUWqnM...|  20161126|   20161203|        7|    35|         0|          0|         0|        0|\n",
      "|+/SnlvpjhoCO8MTrd...|  20150602|   20150615|        7|    35|         0|          0|         0|        0|\n",
      "|+/brcHkHGTR5DWNTE...|  20160717|   20160821|        7|    35|         0|          0|         0|        0|\n",
      "|+/fNEFK7prIkkfOUe...|  20151229|   20160112|        7|    35|         0|          0|         0|        0|\n",
      "|+/q23evmee+n7Ud2t...|  20160828|   20160902|        7|    35|         0|          0|         0|        0|\n",
      "|+/u8aXLRSVFrz9G3x...|  20160105|   20160204|       30|    40|       149|          0|         1|        0|\n",
      "|+/yURAZt6uqLEfJlo...|  20161107|   20161206|       30|    40|       149|          0|         1|        0|\n",
      "+--------------------+----------+-----------+---------+------+----------+-----------+----------+---------+\n",
      "only showing top 20 rows\n",
      "\n"
     ]
    }
   ],
   "source": [
    "df1.where('actual_paid == 0').show(20)"
   ]
  },
  {
   "cell_type": "markdown",
   "metadata": {},
   "source": [
    "## plan_days vs. actual_paid"
   ]
  },
  {
   "cell_type": "code",
   "execution_count": 10,
   "metadata": {},
   "outputs": [
    {
     "name": "stdout",
     "output_type": "stream",
     "text": [
      "+-----------+----------------+-------------------------+--------------+--------------+\n",
      "|actual_paid|count(plan_days)|count(DISTINCT plan_days)|min(plan_days)|max(plan_days)|\n",
      "+-----------+----------------+-------------------------+--------------+--------------+\n",
      "|        799|            1076|                        1|           180|           180|\n",
      "|        210|              15|                        1|            30|            30|\n",
      "|        596|              26|                        2|           120|           180|\n",
      "|        300|            1604|                        2|            60|            90|\n",
      "|        350|             135|                        1|            70|            70|\n",
      "|       1599|            1514|                        2|           395|           400|\n",
      "|          1|              14|                        2|            30|            90|\n",
      "|        699|             458|                        1|           180|           180|\n",
      "|        760|               1|                        1|           180|           180|\n",
      "|        500|             223|                        2|            30|           100|\n",
      "|        120|              45|                        1|            30|            30|\n",
      "|        447|             694|                        3|            90|           110|\n",
      "|         15|               3|                        1|             3|             3|\n",
      "|        127|              17|                        1|            30|            30|\n",
      "|         35|            1364|                        1|             7|             7|\n",
      "|        100|           13865|                        1|            30|            30|\n",
      "|        930|             709|                        1|           200|           200|\n",
      "|        450|             316|                        1|            90|            90|\n",
      "|       1000|             107|                        1|           200|           200|\n",
      "|        129|          245433|                        1|            30|            30|\n",
      "|       1200|             773|                        1|           360|           360|\n",
      "|        400|              78|                        1|            80|            80|\n",
      "|         10|               2|                        1|             2|             2|\n",
      "|         50|             176|                        1|            10|            10|\n",
      "|         70|              40|                        1|            14|            14|\n",
      "|        480|            4092|                        1|           100|           100|\n",
      "|        143|              16|                        1|            30|            30|\n",
      "|        477|            4761|                        2|            90|           120|\n",
      "|       1150|              19|                        1|           230|           230|\n",
      "|        265|               1|                        1|            60|            60|\n",
      "|        536|            6224|                        1|           180|           180|\n",
      "|        298|            1744|                        2|            66|            90|\n",
      "|        105|              48|                        1|            21|            21|\n",
      "|        150|          110843|                        1|            30|            30|\n",
      "|       1788|           10900|                        3|           365|           450|\n",
      "|        119|           69413|                        1|            30|            30|\n",
      "|        149|         4976841|                        3|            30|            35|\n",
      "|        131|             165|                        1|            30|            30|\n",
      "|       2000|              15|                        1|           400|           400|\n",
      "|         99|          346861|                        1|            30|            30|\n",
      "|        894|           19344|                        3|           180|           270|\n",
      "|          0|           55747|                       18|             1|           410|\n",
      "|        180|          330603|                        1|            30|            30|\n",
      "|        134|            1309|                        1|            30|            30|\n",
      "+-----------+----------------+-------------------------+--------------+--------------+\n",
      "\n"
     ]
    }
   ],
   "source": [
    "from pyspark.sql.functions import expr, countDistinct, col\n",
    "\n",
    "df1.where(\"plan_days > 0\") \\\n",
    "   .groupBy(\"actual_paid\") \\\n",
    "   .agg(expr(\"count(plan_days)\"), countDistinct(col(\"plan_days\")), \n",
    "        expr(\"min(plan_days)\"), expr(\"max(plan_days)\")).show(50)"
   ]
  },
  {
   "cell_type": "code",
   "execution_count": null,
   "metadata": {},
   "outputs": [],
   "source": []
  },
  {
   "cell_type": "markdown",
   "metadata": {},
   "source": [
    "## method"
   ]
  },
  {
   "cell_type": "code",
   "execution_count": 6,
   "metadata": {},
   "outputs": [],
   "source": [
    "df2 = df1.select(\"method\", \"plan_days\", \"list_price\", \"actual_paid\")"
   ]
  },
  {
   "cell_type": "code",
   "execution_count": 12,
   "metadata": {},
   "outputs": [
    {
     "name": "stdout",
     "output_type": "stream",
     "text": [
      "+------+---------+-----+\n",
      "|method|plan_days|count|\n",
      "+------+---------+-----+\n",
      "|     2|        0|    1|\n",
      "|     2|       30|    1|\n",
      "|     2|      195|    7|\n",
      "|     2|      410|    1|\n",
      "|     3|        0|    2|\n",
      "|     3|      195|   49|\n",
      "|     4|      195|    2|\n",
      "|     5|      410|   33|\n",
      "|     5|        0|    4|\n",
      "|     5|      195|   22|\n",
      "|     6|      410|   13|\n",
      "|     6|        0|    3|\n",
      "|     6|      195|   31|\n",
      "|     6|      395|    5|\n",
      "|     6|      180|    7|\n",
      "|     8|        0|    6|\n",
      "|     8|      410|   32|\n",
      "|     8|      195|  130|\n",
      "|    10|       31|  166|\n",
      "|    10|        0|   31|\n",
      "|    10|       30|  861|\n",
      "|    11|       31|  276|\n",
      "|    11|       30| 1353|\n",
      "|    11|        0|   54|\n",
      "|    12|        0|   23|\n",
      "|    12|      195|  335|\n",
      "|    12|      400|    4|\n",
      "|    12|      410|  270|\n",
      "|    13|        0|   20|\n",
      "|    13|      410|  233|\n",
      "|    13|      195|  805|\n",
      "|    14|        0| 2766|\n",
      "|    14|       30| 7188|\n",
      "|    15|      195|   45|\n",
      "|    15|        0|    4|\n",
      "|    15|      410|   56|\n",
      "|    15|      180|   28|\n",
      "|    15|      395|   30|\n",
      "|    16|      195|   92|\n",
      "|    16|       30| 5726|\n",
      "+------+---------+-----+\n",
      "only showing top 40 rows\n",
      "\n"
     ]
    }
   ],
   "source": [
    "df2.groupBy(\"method\", \"plan_days\").count() \\\n",
    "   .orderBy(\"method\").show(40)"
   ]
  },
  {
   "cell_type": "code",
   "execution_count": null,
   "metadata": {},
   "outputs": [],
   "source": []
  },
  {
   "cell_type": "code",
   "execution_count": null,
   "metadata": {},
   "outputs": [],
   "source": []
  }
 ],
 "metadata": {
  "kernelspec": {
   "display_name": "Python 3",
   "language": "python",
   "name": "python3"
  },
  "language_info": {
   "codemirror_mode": {
    "name": "ipython",
    "version": 3
   },
   "file_extension": ".py",
   "mimetype": "text/x-python",
   "name": "python",
   "nbconvert_exporter": "python",
   "pygments_lexer": "ipython3",
   "version": "3.6.4"
  }
 },
 "nbformat": 4,
 "nbformat_minor": 2
}
