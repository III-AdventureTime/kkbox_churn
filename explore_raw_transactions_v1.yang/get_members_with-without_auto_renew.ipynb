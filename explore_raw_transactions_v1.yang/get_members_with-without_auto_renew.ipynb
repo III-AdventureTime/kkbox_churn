{
 "cells": [
  {
   "cell_type": "code",
   "execution_count": 1,
   "metadata": {},
   "outputs": [
    {
     "data": {
      "text/html": [
       "\n",
       "            <div>\n",
       "                <p><b>SparkSession - hive</b></p>\n",
       "                \n",
       "        <div>\n",
       "            <p><b>SparkContext</b></p>\n",
       "\n",
       "            <p><a href=\"http://10.120.27.99:4041\">Spark UI</a></p>\n",
       "\n",
       "            <dl>\n",
       "              <dt>Version</dt>\n",
       "                <dd><code>v2.2.1</code></dd>\n",
       "              <dt>Master</dt>\n",
       "                <dd><code>local[*]</code></dd>\n",
       "              <dt>AppName</dt>\n",
       "                <dd><code>PySparkShell</code></dd>\n",
       "            </dl>\n",
       "        </div>\n",
       "        \n",
       "            </div>\n",
       "        "
      ],
      "text/plain": [
       "<pyspark.sql.session.SparkSession at 0x7f1473fa52b0>"
      ]
     },
     "execution_count": 1,
     "metadata": {},
     "output_type": "execute_result"
    }
   ],
   "source": [
    "spark"
   ]
  },
  {
   "cell_type": "code",
   "execution_count": 2,
   "metadata": {},
   "outputs": [
    {
     "name": "stdout",
     "output_type": "stream",
     "text": [
      "root\n",
      " |-- msno: string (nullable = true)\n",
      " |-- payment_method: integer (nullable = true)\n",
      " |-- plan_days: integer (nullable = true)\n",
      " |-- list_price: integer (nullable = true)\n",
      " |-- actual_paid: integer (nullable = true)\n",
      " |-- is_auto_renew: integer (nullable = true)\n",
      " |-- trans_date: integer (nullable = true)\n",
      " |-- exp_date: integer (nullable = true)\n",
      " |-- is_cancel: integer (nullable = true)\n",
      "\n"
     ]
    }
   ],
   "source": [
    "from pyspark.sql.types import StructType, StructField, StringType, IntegerType\n",
    "\n",
    "infile = '/home/cloudera/Desktop/KKBox_churn_predict/raw_data/transactions.csv'\n",
    "schema = StructType([\n",
    "    StructField(\"msno\", StringType(), True),\n",
    "    StructField(\"payment_method\", IntegerType(), True),\n",
    "    StructField(\"plan_days\", IntegerType(), True),\n",
    "    StructField(\"list_price\", IntegerType(), True),\n",
    "    StructField(\"actual_paid\", IntegerType(), True),\n",
    "    StructField(\"is_auto_renew\", IntegerType(), True),\n",
    "    StructField(\"trans_date\", IntegerType(), True),\n",
    "    StructField(\"exp_date\", IntegerType(), True),\n",
    "    StructField(\"is_cancel\", IntegerType(), True),\n",
    "])\n",
    "df0 = spark.read.format('csv').option('header', 'true').schema(schema).load(infile)\n",
    "df0.printSchema()"
   ]
  },
  {
   "cell_type": "code",
   "execution_count": 3,
   "metadata": {},
   "outputs": [
    {
     "name": "stdout",
     "output_type": "stream",
     "text": [
      "+--------------------+--------------+---------+----------+-----------+-------------+----------+--------+---------+\n",
      "|                msno|payment_method|plan_days|list_price|actual_paid|is_auto_renew|trans_date|exp_date|is_cancel|\n",
      "+--------------------+--------------+---------+----------+-----------+-------------+----------+--------+---------+\n",
      "|FT4moGxOj6tzwkTSA...|            34|       30|       149|        149|            1|  20151130|20151231|        0|\n",
      "|z1s1E/gm6xiwjNb8T...|            34|       30|       149|        149|            1|  20151130|20151231|        0|\n",
      "|lZyYiuAJW3qzDnicN...|            34|       30|       149|        149|            1|  20151130|20151231|        0|\n",
      "+--------------------+--------------+---------+----------+-----------+-------------+----------+--------+---------+\n",
      "only showing top 3 rows\n",
      "\n"
     ]
    }
   ],
   "source": [
    "# cleaning\n",
    "df1 = df0.where('trans_date >= 20151101') \\\n",
    "         .where('plan_days != 0 OR is_cancel = 1') \\\n",
    "         .where('is_cancel = 0 OR is_auto_renew = 1')\n",
    "df1.show(3)"
   ]
  },
  {
   "cell_type": "code",
   "execution_count": null,
   "metadata": {},
   "outputs": [],
   "source": []
  },
  {
   "cell_type": "code",
   "execution_count": 4,
   "metadata": {},
   "outputs": [
    {
     "name": "stdout",
     "output_type": "stream",
     "text": [
      "+--------------------+-----+----------------+\n",
      "|                msno|count|count_auto_renew|\n",
      "+--------------------+-----+----------------+\n",
      "|DQH8jGMrXq1FgWyr+...|   16|              16|\n",
      "|jENtJsb8LoDxqKMpG...|   16|              16|\n",
      "|5F7G3pHKf5ijGQpoK...|   16|              16|\n",
      "+--------------------+-----+----------------+\n",
      "only showing top 3 rows\n",
      "\n"
     ]
    }
   ],
   "source": [
    "from pyspark.sql.functions import count, sum\n",
    "df2 = df1.groupBy('msno').agg(count('*').alias('count'), sum('is_auto_renew').alias('count_auto_renew'))\n",
    "df2.show(3)"
   ]
  },
  {
   "cell_type": "code",
   "execution_count": 5,
   "metadata": {},
   "outputs": [
    {
     "data": {
      "text/plain": [
       "1944388"
      ]
     },
     "execution_count": 5,
     "metadata": {},
     "output_type": "execute_result"
    }
   ],
   "source": [
    "Nmem = df2.count()\n",
    "Nmem"
   ]
  },
  {
   "cell_type": "markdown",
   "metadata": {},
   "source": [
    "# members who have used auto renewal for every transaction"
   ]
  },
  {
   "cell_type": "code",
   "execution_count": 7,
   "metadata": {},
   "outputs": [
    {
     "name": "stdout",
     "output_type": "stream",
     "text": [
      "+--------------------+-----+----------------+\n",
      "|                msno|count|count_auto_renew|\n",
      "+--------------------+-----+----------------+\n",
      "|DQH8jGMrXq1FgWyr+...|   16|              16|\n",
      "|jENtJsb8LoDxqKMpG...|   16|              16|\n",
      "|5F7G3pHKf5ijGQpoK...|   16|              16|\n",
      "+--------------------+-----+----------------+\n",
      "only showing top 3 rows\n",
      "\n"
     ]
    }
   ],
   "source": [
    "df3 = df2.where('count = count_auto_renew')\n",
    "df3.show(3)"
   ]
  },
  {
   "cell_type": "code",
   "execution_count": 10,
   "metadata": {},
   "outputs": [
    {
     "name": "stdout",
     "output_type": "stream",
     "text": [
      "1170236\n",
      "60.18531280793751 %\n"
     ]
    }
   ],
   "source": [
    "n = df3.count()\n",
    "print(n)\n",
    "print(n/Nmem*100, '%')"
   ]
  },
  {
   "cell_type": "code",
   "execution_count": 11,
   "metadata": {},
   "outputs": [
    {
     "name": "stdout",
     "output_type": "stream",
     "text": [
      "root\n",
      " |-- msno: string (nullable = true)\n",
      " |-- payment_method: integer (nullable = true)\n",
      " |-- plan_days: integer (nullable = true)\n",
      " |-- list_price: integer (nullable = true)\n",
      " |-- actual_paid: integer (nullable = true)\n",
      " |-- is_auto_renew: integer (nullable = true)\n",
      " |-- trans_date: integer (nullable = true)\n",
      " |-- exp_date: integer (nullable = true)\n",
      " |-- is_cancel: integer (nullable = true)\n",
      "\n"
     ]
    }
   ],
   "source": [
    "df4 = df1.join(df3, df1['msno'] == df3['msno'], 'left_semi')\n",
    "df4.printSchema()"
   ]
  },
  {
   "cell_type": "code",
   "execution_count": 12,
   "metadata": {},
   "outputs": [],
   "source": [
    "outfile = 'file:///home/cloudera/Desktop/KKBox_churn_predict/data01/transactions_v1_members-all-renew.csv'\n",
    "df4.coalesce(1).write.format('csv').option('header', 'true').save(outfile)"
   ]
  },
  {
   "cell_type": "markdown",
   "metadata": {},
   "source": [
    "# members who have never used auto renewal for any transaction"
   ]
  },
  {
   "cell_type": "code",
   "execution_count": 6,
   "metadata": {},
   "outputs": [
    {
     "name": "stdout",
     "output_type": "stream",
     "text": [
      "+--------------------+-----+----------------+\n",
      "|                msno|count|count_auto_renew|\n",
      "+--------------------+-----+----------------+\n",
      "|m4Wf4EZuJJODjisMW...|   12|               0|\n",
      "|H9q5fhYo6VRVqGDxw...|    8|               0|\n",
      "|2+BjzPtI4IIyT5Aps...|    7|               0|\n",
      "+--------------------+-----+----------------+\n",
      "only showing top 3 rows\n",
      "\n"
     ]
    }
   ],
   "source": [
    "df3 = df2.where('count_auto_renew = 0')\n",
    "df3.show(3)"
   ]
  },
  {
   "cell_type": "code",
   "execution_count": 7,
   "metadata": {},
   "outputs": [
    {
     "name": "stdout",
     "output_type": "stream",
     "text": [
      "root\n",
      " |-- msno: string (nullable = true)\n",
      " |-- payment_method: integer (nullable = true)\n",
      " |-- plan_days: integer (nullable = true)\n",
      " |-- list_price: integer (nullable = true)\n",
      " |-- actual_paid: integer (nullable = true)\n",
      " |-- is_auto_renew: integer (nullable = true)\n",
      " |-- trans_date: integer (nullable = true)\n",
      " |-- exp_date: integer (nullable = true)\n",
      " |-- is_cancel: integer (nullable = true)\n",
      "\n"
     ]
    }
   ],
   "source": [
    "df4 = df1.join(df3, df1['msno'] == df3['msno'], 'left_semi')\n",
    "df4.printSchema()"
   ]
  },
  {
   "cell_type": "code",
   "execution_count": 8,
   "metadata": {},
   "outputs": [
    {
     "name": "stdout",
     "output_type": "stream",
     "text": [
      "+--------------------+--------------+---------+----------+-----------+-------------+----------+--------+---------+\n",
      "|                msno|payment_method|plan_days|list_price|actual_paid|is_auto_renew|trans_date|exp_date|is_cancel|\n",
      "+--------------------+--------------+---------+----------+-----------+-------------+----------+--------+---------+\n",
      "|++7jKYbuIJPXry8Oh...|            38|       10|         0|          0|            0|  20160312|20160322|        0|\n",
      "|+0RJtbyhoPAHPa+34...|            32|      410|      1788|       1788|            0|  20160114|20170227|        0|\n",
      "|+3tRPOto/e58mdDA6...|            38|       30|       149|        149|            0|  20160118|20160217|        0|\n",
      "|+43UqHvqzu5STDVIu...|            38|       10|         0|          0|            0|  20151226|20170228|        0|\n",
      "|+43UqHvqzu5STDVIu...|            32|      400|      1599|       1599|            0|  20151208|20170119|        0|\n",
      "|+43UqHvqzu5STDVIu...|            38|       10|         0|          0|            0|  20151226|20170129|        0|\n",
      "|+43UqHvqzu5STDVIu...|            38|       10|         0|          0|            0|  20151226|20170218|        0|\n",
      "|+43UqHvqzu5STDVIu...|            38|       10|         0|          0|            0|  20151226|20170208|        0|\n",
      "|+4dMilwe46UsxpXXH...|            38|       30|       149|        149|            0|  20160305|20160404|        0|\n",
      "|+5p5fm9oHH8ukkNG1...|            38|       30|       149|        149|            0|  20160608|20160708|        0|\n",
      "+--------------------+--------------+---------+----------+-----------+-------------+----------+--------+---------+\n",
      "only showing top 10 rows\n",
      "\n"
     ]
    }
   ],
   "source": [
    "df4.show(10)"
   ]
  },
  {
   "cell_type": "code",
   "execution_count": 10,
   "metadata": {},
   "outputs": [
    {
     "data": {
      "text/plain": [
       "1821142"
      ]
     },
     "execution_count": 10,
     "metadata": {},
     "output_type": "execute_result"
    }
   ],
   "source": [
    "df4.count()"
   ]
  },
  {
   "cell_type": "code",
   "execution_count": 9,
   "metadata": {
    "scrolled": false
   },
   "outputs": [],
   "source": [
    "outfile = 'file:///home/cloudera/Desktop/KKBox_churn_predict/data01/transactions_v1_members-no-renew.csv'\n",
    "df4.write.format('csv').option('header', 'true').save(outfile)"
   ]
  },
  {
   "cell_type": "code",
   "execution_count": null,
   "metadata": {},
   "outputs": [],
   "source": []
  },
  {
   "cell_type": "code",
   "execution_count": 5,
   "metadata": {},
   "outputs": [
    {
     "name": "stdout",
     "output_type": "stream",
     "text": [
      "+--------------------+-----+----------------+\n",
      "|                msno|count|count_auto_renew|\n",
      "+--------------------+-----+----------------+\n",
      "|VbCNHUZZoCRjoCu3y...|    8|               6|\n",
      "|T92xj92xZjD3k41Vu...|   12|              11|\n",
      "|ULmIjp5BmUC3PX7S4...|   15|               9|\n",
      "|dV9KSnGQmobtPwKDE...|    6|               5|\n",
      "|RQ3KgSJH/pz9GUvha...|    6|               5|\n",
      "|zsz/HPr9dDEuCGTns...|    5|               3|\n",
      "|UKw0drb/2YPnnwddd...|   16|              15|\n",
      "|K7UtuHqM7tT9njbB/...|    4|               2|\n",
      "|4ZDIdd3OSGSLz2bPd...|   14|               9|\n",
      "|DhwRAg/4TwLcGRkxO...|    6|               3|\n",
      "+--------------------+-----+----------------+\n",
      "only showing top 10 rows\n",
      "\n"
     ]
    }
   ],
   "source": [
    "df3 = df2.where('count_auto_renew < count').where('count_auto_renew > 0').persist()\n",
    "df3.show(10)"
   ]
  },
  {
   "cell_type": "code",
   "execution_count": 6,
   "metadata": {},
   "outputs": [
    {
     "name": "stdout",
     "output_type": "stream",
     "text": [
      "root\n",
      " |-- msno: string (nullable = true)\n",
      " |-- payment_method: integer (nullable = true)\n",
      " |-- plan_days: integer (nullable = true)\n",
      " |-- list_price: integer (nullable = true)\n",
      " |-- actual_paid: integer (nullable = true)\n",
      " |-- is_auto_renew: integer (nullable = true)\n",
      " |-- trans_date: integer (nullable = true)\n",
      " |-- exp_date: integer (nullable = true)\n",
      " |-- is_cancel: integer (nullable = true)\n",
      "\n"
     ]
    }
   ],
   "source": [
    "df4 = df1.join(df3, df1['msno'] == df3['msno'], 'left_semi')\n",
    "df4.printSchema()"
   ]
  },
  {
   "cell_type": "code",
   "execution_count": 7,
   "metadata": {},
   "outputs": [],
   "source": [
    "outfile = 'file:///home/cloudera/Desktop/KKBox_churn_predict/data01/transactions_v1_members-partial-renew.csv'\n",
    "df4.coalesce(1).write.format('csv').option('header', 'true').save(outfile)"
   ]
  },
  {
   "cell_type": "code",
   "execution_count": null,
   "metadata": {},
   "outputs": [],
   "source": []
  }
 ],
 "metadata": {
  "kernelspec": {
   "display_name": "Python 3",
   "language": "python",
   "name": "python3"
  },
  "language_info": {
   "codemirror_mode": {
    "name": "ipython",
    "version": 3
   },
   "file_extension": ".py",
   "mimetype": "text/x-python",
   "name": "python",
   "nbconvert_exporter": "python",
   "pygments_lexer": "ipython3",
   "version": "3.6.5"
  },
  "toc": {
   "base_numbering": 1,
   "nav_menu": {},
   "number_sections": true,
   "sideBar": true,
   "skip_h1_title": false,
   "title_cell": "Table of Contents",
   "title_sidebar": "Contents",
   "toc_cell": false,
   "toc_position": {},
   "toc_section_display": true,
   "toc_window_display": false
  }
 },
 "nbformat": 4,
 "nbformat_minor": 2
}
