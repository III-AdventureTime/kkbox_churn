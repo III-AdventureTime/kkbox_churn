{
 "cells": [
  {
   "cell_type": "code",
   "execution_count": 1,
   "metadata": {},
   "outputs": [
    {
     "data": {
      "text/html": [
       "\n",
       "            <div>\n",
       "                <p><b>SparkSession - hive</b></p>\n",
       "                \n",
       "        <div>\n",
       "            <p><b>SparkContext</b></p>\n",
       "\n",
       "            <p><a href=\"http://10.120.27.99:4040\">Spark UI</a></p>\n",
       "\n",
       "            <dl>\n",
       "              <dt>Version</dt>\n",
       "                <dd><code>v2.2.1</code></dd>\n",
       "              <dt>Master</dt>\n",
       "                <dd><code>local[*]</code></dd>\n",
       "              <dt>AppName</dt>\n",
       "                <dd><code>PySparkShell</code></dd>\n",
       "            </dl>\n",
       "        </div>\n",
       "        \n",
       "            </div>\n",
       "        "
      ],
      "text/plain": [
       "<pyspark.sql.session.SparkSession at 0x7ffb3c0c51d0>"
      ]
     },
     "execution_count": 1,
     "metadata": {},
     "output_type": "execute_result"
    }
   ],
   "source": [
    "spark"
   ]
  },
  {
   "cell_type": "code",
   "execution_count": 2,
   "metadata": {},
   "outputs": [
    {
     "name": "stdout",
     "output_type": "stream",
     "text": [
      "root\n",
      " |-- msno: string (nullable = true)\n",
      " |-- payment_method_id: string (nullable = true)\n",
      " |-- payment_plan_days: string (nullable = true)\n",
      " |-- plan_list_price: string (nullable = true)\n",
      " |-- actual_amount_paid: string (nullable = true)\n",
      " |-- is_auto_renew: string (nullable = true)\n",
      " |-- transaction_date: string (nullable = true)\n",
      " |-- membership_expire_date: string (nullable = true)\n",
      " |-- is_cancel: string (nullable = true)\n",
      "\n"
     ]
    }
   ],
   "source": [
    "infile = '/home/cloudera/2.kkbox_churn/raw_data/transactions.csv'\n",
    "df0 = spark.read.format('csv').option('header', 'true').load(infile)\n",
    "df0.printSchema()"
   ]
  },
  {
   "cell_type": "code",
   "execution_count": 3,
   "metadata": {},
   "outputs": [
    {
     "name": "stdout",
     "output_type": "stream",
     "text": [
      "+--------------------+-----------------+-----------------+---------------+------------------+-------------+----------------+----------------------+---------+\n",
      "|                msno|payment_method_id|payment_plan_days|plan_list_price|actual_amount_paid|is_auto_renew|transaction_date|membership_expire_date|is_cancel|\n",
      "+--------------------+-----------------+-----------------+---------------+------------------+-------------+----------------+----------------------+---------+\n",
      "|YyO+tlZtAXYXoZhNr...|               41|               30|            129|               129|            1|        20150930|              20151101|        0|\n",
      "|AZtu6Wl0gPojrEQYB...|               41|               30|            149|               149|            1|        20150930|              20151031|        0|\n",
      "|UkDFI97Qb6+s2LWci...|               41|               30|            129|               129|            1|        20150930|              20160427|        0|\n",
      "+--------------------+-----------------+-----------------+---------------+------------------+-------------+----------------+----------------------+---------+\n",
      "only showing top 3 rows\n",
      "\n"
     ]
    }
   ],
   "source": [
    "df0.show(3)"
   ]
  },
  {
   "cell_type": "code",
   "execution_count": 4,
   "metadata": {},
   "outputs": [
    {
     "name": "stdout",
     "output_type": "stream",
     "text": [
      "root\n",
      " |-- msno: string (nullable = true)\n",
      " |-- list_price: string (nullable = true)\n",
      " |-- actual_paid: string (nullable = true)\n",
      " |-- plan_days: integer (nullable = true)\n",
      " |-- trans_date: integer (nullable = true)\n",
      " |-- exp_date: integer (nullable = true)\n",
      " |-- is_auto_renew: integer (nullable = true)\n",
      " |-- is_cancel: integer (nullable = true)\n",
      "\n"
     ]
    }
   ],
   "source": [
    "df1 = df0.selectExpr(\"msno\", \n",
    "                     \"plan_list_price AS list_price\",\n",
    "                     \"actual_amount_paid AS actual_paid\",\n",
    "                     \"CAST(payment_plan_days AS int) AS plan_days\", \n",
    "                     \"CAST(transaction_date AS int) AS trans_date\", \n",
    "                     \"CAST(membership_expire_date AS int) AS exp_date\", \n",
    "                     \"CAST(is_auto_renew AS int)\",\n",
    "                     \"CAST(is_cancel AS int)\")\n",
    "df1.printSchema()"
   ]
  },
  {
   "cell_type": "code",
   "execution_count": 5,
   "metadata": {},
   "outputs": [
    {
     "name": "stdout",
     "output_type": "stream",
     "text": [
      "+--------------------+----------+-----------+---------+----------+--------+-------------+---------+\n",
      "|                msno|list_price|actual_paid|plan_days|trans_date|exp_date|is_auto_renew|is_cancel|\n",
      "+--------------------+----------+-----------+---------+----------+--------+-------------+---------+\n",
      "|YyO+tlZtAXYXoZhNr...|       129|        129|       30|  20150930|20151101|            1|        0|\n",
      "|AZtu6Wl0gPojrEQYB...|       149|        149|       30|  20150930|20151031|            1|        0|\n",
      "|UkDFI97Qb6+s2LWci...|       129|        129|       30|  20150930|20160427|            1|        0|\n",
      "+--------------------+----------+-----------+---------+----------+--------+-------------+---------+\n",
      "only showing top 3 rows\n",
      "\n"
     ]
    }
   ],
   "source": [
    "df1.show(3)"
   ]
  },
  {
   "cell_type": "code",
   "execution_count": 17,
   "metadata": {},
   "outputs": [
    {
     "data": {
      "text/plain": [
       "21547746"
      ]
     },
     "execution_count": 17,
     "metadata": {},
     "output_type": "execute_result"
    }
   ],
   "source": [
    "Nrec = df1.count()\n",
    "Nrec"
   ]
  },
  {
   "cell_type": "markdown",
   "metadata": {},
   "source": [
    "# latest transaction date"
   ]
  },
  {
   "cell_type": "code",
   "execution_count": 6,
   "metadata": {},
   "outputs": [
    {
     "name": "stdout",
     "output_type": "stream",
     "text": [
      "+---------------+\n",
      "|max(trans_date)|\n",
      "+---------------+\n",
      "|       20170228|\n",
      "+---------------+\n",
      "\n"
     ]
    }
   ],
   "source": [
    "from pyspark.sql.functions import max\n",
    "df1.select(max('trans_date')).show()"
   ]
  },
  {
   "cell_type": "markdown",
   "metadata": {},
   "source": [
    "# latest expiration date of each memeber"
   ]
  },
  {
   "cell_type": "code",
   "execution_count": 15,
   "metadata": {},
   "outputs": [
    {
     "name": "stdout",
     "output_type": "stream",
     "text": [
      "root\n",
      " |-- msno: string (nullable = true)\n",
      " |-- latest_exp: integer (nullable = true)\n",
      "\n"
     ]
    }
   ],
   "source": [
    "from pyspark.sql.functions import max\n",
    "df2 = df1.groupBy('msno').agg(max('exp_date').alias('latest_exp'))\n",
    "df2.printSchema()"
   ]
  },
  {
   "cell_type": "code",
   "execution_count": 16,
   "metadata": {},
   "outputs": [
    {
     "name": "stdout",
     "output_type": "stream",
     "text": [
      "+--------------------+----------+\n",
      "|                msno|latest_exp|\n",
      "+--------------------+----------+\n",
      "|DQH8jGMrXq1FgWyr+...|  20170331|\n",
      "|jENtJsb8LoDxqKMpG...|  20170331|\n",
      "|5F7G3pHKf5ijGQpoK...|  20170310|\n",
      "|+lGirNJNPcYXRMlp6...|  20170310|\n",
      "|m4Wf4EZuJJODjisMW...|  20170315|\n",
      "|Dys6cB0GDMSh1oPYC...|  20170322|\n",
      "|H9q5fhYo6VRVqGDxw...|  20170215|\n",
      "|vLWK0Uz77Xur1jCTS...|  20170201|\n",
      "|N9m9JRqpBcNfMR3U6...|  20170305|\n",
      "|G7EonoojBt01uBPDI...|  20170322|\n",
      "|2+BjzPtI4IIyT5Aps...|  20170211|\n",
      "|H2VLk87DarA0D2UDz...|  20160825|\n",
      "|/RfYY0Hh3T2cmLXFz...|  20160311|\n",
      "|6Wc6P95WneLKUV0Mi...|  20170302|\n",
      "|AUvj50Xq+//yzobfk...|  20170331|\n",
      "|QR+V2ynXUCz38c8ei...|  20170331|\n",
      "|RbLl0ZBEftSRfSSZ6...|  20170330|\n",
      "|2XST0lzkGU144x+Vk...|  20170308|\n",
      "|3A/Eh1IrJ7j3P3OMs...|  20170314|\n",
      "|jgoikNa9SXrvpPPoo...|  20170304|\n",
      "+--------------------+----------+\n",
      "only showing top 20 rows\n",
      "\n"
     ]
    }
   ],
   "source": [
    "df2.persist()\n",
    "df2.show(20)"
   ]
  },
  {
   "cell_type": "code",
   "execution_count": 17,
   "metadata": {},
   "outputs": [
    {
     "data": {
      "text/plain": [
       "2363626"
      ]
     },
     "execution_count": 17,
     "metadata": {},
     "output_type": "execute_result"
    }
   ],
   "source": [
    "df2.count()"
   ]
  },
  {
   "cell_type": "code",
   "execution_count": 20,
   "metadata": {},
   "outputs": [
    {
     "name": "stdout",
     "output_type": "stream",
     "text": [
      "+----------------+------+\n",
      "|latest_exp_month| count|\n",
      "+----------------+------+\n",
      "|          197001|   679|\n",
      "|          201003|     2|\n",
      "|          201207|     1|\n",
      "|          201209|     1|\n",
      "|          201211|     3|\n",
      "|          201212|     1|\n",
      "|          201306|     1|\n",
      "|          201309|     1|\n",
      "|          201406|     1|\n",
      "|          201409|     1|\n",
      "|          201410|    13|\n",
      "|          201411|    10|\n",
      "|          201412|   233|\n",
      "|          201501|  8394|\n",
      "|          201502| 13823|\n",
      "|          201503| 13412|\n",
      "|          201504| 15285|\n",
      "|          201505| 19350|\n",
      "|          201506|151129|\n",
      "|          201507| 19896|\n",
      "|          201508| 25437|\n",
      "|          201509| 32193|\n",
      "|          201510| 37345|\n",
      "|          201511| 43100|\n",
      "|          201512| 55127|\n",
      "|          201601| 62550|\n",
      "|          201602| 41315|\n",
      "|          201603| 57500|\n",
      "|          201604| 40181|\n",
      "|          201605| 37486|\n",
      "|          201606| 36347|\n",
      "|          201607| 49767|\n",
      "|          201608| 36260|\n",
      "|          201609| 81160|\n",
      "|          201610| 69526|\n",
      "|          201611|198820|\n",
      "|          201612| 70228|\n",
      "|          201701| 63337|\n",
      "|          201702| 92110|\n",
      "|          201703|991601|\n",
      "+----------------+------+\n",
      "\n"
     ]
    }
   ],
   "source": [
    "from pyspark.sql.functions import col, floor\n",
    "df3 = df2.select(floor(col('latest_exp')/100).alias('latest_exp_month')) \\\n",
    "         .groupBy('latest_exp_month').count().sort('latest_exp_month')\n",
    "df3.show(50)"
   ]
  },
  {
   "cell_type": "markdown",
   "metadata": {},
   "source": [
    "# auto renewal "
   ]
  },
  {
   "cell_type": "code",
   "execution_count": 10,
   "metadata": {},
   "outputs": [
    {
     "name": "stdout",
     "output_type": "stream",
     "text": [
      "root\n",
      " |-- msno: string (nullable = true)\n",
      " |-- count: long (nullable = false)\n",
      " |-- count_auto_renew: long (nullable = true)\n",
      "\n"
     ]
    }
   ],
   "source": [
    "from pyspark.sql.functions import col, sum, count\n",
    "df2 = df1.where('is_cancel = 0') \\\n",
    "         .groupBy('msno').agg(count('msno').alias('count'), sum('is_auto_renew').alias('count_auto_renew'))\n",
    "df2.printSchema()"
   ]
  },
  {
   "cell_type": "code",
   "execution_count": 11,
   "metadata": {},
   "outputs": [
    {
     "name": "stdout",
     "output_type": "stream",
     "text": [
      "+--------------------+-----+----------------+\n",
      "|                msno|count|count_auto_renew|\n",
      "+--------------------+-----+----------------+\n",
      "|DQH8jGMrXq1FgWyr+...|   22|              22|\n",
      "|jENtJsb8LoDxqKMpG...|   22|              22|\n",
      "|5F7G3pHKf5ijGQpoK...|   17|              17|\n",
      "|+lGirNJNPcYXRMlp6...|   14|              14|\n",
      "|m4Wf4EZuJJODjisMW...|   12|               0|\n",
      "|Dys6cB0GDMSh1oPYC...|   12|              12|\n",
      "|H9q5fhYo6VRVqGDxw...|    8|               0|\n",
      "|vLWK0Uz77Xur1jCTS...|   16|              16|\n",
      "|N9m9JRqpBcNfMR3U6...|   24|              18|\n",
      "|G7EonoojBt01uBPDI...|   26|              26|\n",
      "+--------------------+-----+----------------+\n",
      "only showing top 10 rows\n",
      "\n"
     ]
    }
   ],
   "source": [
    "df2.persist()\n",
    "df2.show(10)"
   ]
  },
  {
   "cell_type": "code",
   "execution_count": 20,
   "metadata": {},
   "outputs": [
    {
     "name": "stdout",
     "output_type": "stream",
     "text": [
      "# members: 2347326\n"
     ]
    }
   ],
   "source": [
    "n0 = df2.count()\n",
    "print('# members:', n0)"
   ]
  },
  {
   "cell_type": "code",
   "execution_count": 23,
   "metadata": {},
   "outputs": [
    {
     "name": "stdout",
     "output_type": "stream",
     "text": [
      "# members using only auto renewal: 1291499\n",
      "(55.02001000287136 %)\n"
     ]
    }
   ],
   "source": [
    "n = df2.where('count = count_auto_renew').count()\n",
    "print('# members using only auto renewal:', n)\n",
    "print('({} %)'.format(n/n0*100))"
   ]
  },
  {
   "cell_type": "code",
   "execution_count": 24,
   "metadata": {},
   "outputs": [
    {
     "name": "stdout",
     "output_type": "stream",
     "text": [
      "# members who never used auto renewal: 887626\n",
      "(37.81434704851392 %)\n"
     ]
    }
   ],
   "source": [
    "n = df2.where('count_auto_renew = 0').count()\n",
    "print('# members who never used auto renewal:', n)\n",
    "print('({} %)'.format(n/n0*100))"
   ]
  },
  {
   "cell_type": "code",
   "execution_count": 17,
   "metadata": {},
   "outputs": [
    {
     "name": "stdout",
     "output_type": "stream",
     "text": [
      "# members who used auto renewal for some (but not all) transactions: 168201\n"
     ]
    }
   ],
   "source": [
    "df3 = df2.where('count != count_auto_renew').where('count_auto_renew != 0')\n",
    "print('# members who used auto renewal for some (but not all) transactions:', df3.count())"
   ]
  },
  {
   "cell_type": "code",
   "execution_count": 25,
   "metadata": {},
   "outputs": [
    {
     "name": "stdout",
     "output_type": "stream",
     "text": [
      "+--------------------+-----+----------------+\n",
      "|                msno|count|count_auto_renew|\n",
      "+--------------------+-----+----------------+\n",
      "|N9m9JRqpBcNfMR3U6...|   24|              18|\n",
      "|lDDRMgYYYlDPkwtLN...|   26|              25|\n",
      "|VbCNHUZZoCRjoCu3y...|    6|               4|\n",
      "|T92xj92xZjD3k41Vu...|    9|               8|\n",
      "|ZuSBcMwwCpezmsm2L...|   26|              25|\n",
      "+--------------------+-----+----------------+\n",
      "only showing top 5 rows\n",
      "\n"
     ]
    }
   ],
   "source": [
    "df3.show(5)"
   ]
  },
  {
   "cell_type": "code",
   "execution_count": 34,
   "metadata": {
    "collapsed": true
   },
   "outputs": [],
   "source": [
    "from pyspark.sql.functions import col, floor\n",
    "df4 = df3.select('msno', \n",
    "                 (col('count_auto_renew')/col('count')).alias('auto_renew_ratio'),\n",
    "                 floor(col('count_auto_renew')/col('count')*10).alias('auto_renew_ratio_bin'))"
   ]
  },
  {
   "cell_type": "code",
   "execution_count": 35,
   "metadata": {},
   "outputs": [
    {
     "name": "stdout",
     "output_type": "stream",
     "text": [
      "+--------------------+------------------+--------------------+\n",
      "|                msno|  auto_renew_ratio|auto_renew_ratio_bin|\n",
      "+--------------------+------------------+--------------------+\n",
      "|N9m9JRqpBcNfMR3U6...|              0.75|                   7|\n",
      "|lDDRMgYYYlDPkwtLN...|0.9615384615384616|                   9|\n",
      "|VbCNHUZZoCRjoCu3y...|0.6666666666666666|                   6|\n",
      "|T92xj92xZjD3k41Vu...|0.8888888888888888|                   8|\n",
      "|ZuSBcMwwCpezmsm2L...|0.9615384615384616|                   9|\n",
      "+--------------------+------------------+--------------------+\n",
      "only showing top 5 rows\n",
      "\n"
     ]
    }
   ],
   "source": [
    "df4.show(5)"
   ]
  },
  {
   "cell_type": "code",
   "execution_count": 44,
   "metadata": {},
   "outputs": [
    {
     "data": {
      "text/plain": [
       "<matplotlib.axes._subplots.AxesSubplot at 0x7fe2f47fac50>"
      ]
     },
     "execution_count": 44,
     "metadata": {},
     "output_type": "execute_result"
    },
    {
     "data": {
      "image/png": "[encoded data removed]",
      "text/plain": [
       "<Figure size 432x288 with 1 Axes>"
      ]
     },
     "metadata": {},
     "output_type": "display_data"
    }
   ],
   "source": [
    "import matplotlib.pyplot as plt\n",
    "df4.select('auto_renew_ratio_bin') \\\n",
    "   .groupBy('auto_renew_ratio_bin').count().sort('auto_renew_ratio_bin') \\\n",
    "   .toPandas().set_index('auto_renew_ratio_bin').plot(kind='bar')"
   ]
  },
  {
   "cell_type": "markdown",
   "metadata": {},
   "source": [
    "## auto renewal vs. plan_days after 2015/11/01"
   ]
  },
  {
   "cell_type": "code",
   "execution_count": 68,
   "metadata": {},
   "outputs": [
    {
     "data": {
      "text/plain": [
       "12706915"
      ]
     },
     "execution_count": 68,
     "metadata": {},
     "output_type": "execute_result"
    }
   ],
   "source": [
    "df2 = df1.where('trans_date >= 20151101') \\\n",
    "         .where('plan_days != 0 OR is_cancel = 1') \\\n",
    "         .where('is_auto_renew = 1')\n",
    "      # the 2nd filter is to filter out a few useless records with plan_days = 0\n",
    "df2.count()"
   ]
  },
  {
   "cell_type": "code",
   "execution_count": 69,
   "metadata": {},
   "outputs": [
    {
     "name": "stdout",
     "output_type": "stream",
     "text": [
      "+--------------------+---------+----------+--------+-------------+---------+\n",
      "|                msno|plan_days|trans_date|exp_date|is_auto_renew|is_cancel|\n",
      "+--------------------+---------+----------+--------+-------------+---------+\n",
      "|FT4moGxOj6tzwkTSA...|       30|  20151130|20151231|            1|        0|\n",
      "|z1s1E/gm6xiwjNb8T...|       30|  20151130|20151231|            1|        0|\n",
      "|lZyYiuAJW3qzDnicN...|       30|  20151130|20151231|            1|        0|\n",
      "+--------------------+---------+----------+--------+-------------+---------+\n",
      "only showing top 3 rows\n",
      "\n"
     ]
    }
   ],
   "source": [
    "df2.show(3)"
   ]
  },
  {
   "cell_type": "code",
   "execution_count": 70,
   "metadata": {},
   "outputs": [
    {
     "name": "stdout",
     "output_type": "stream",
     "text": [
      "+---------+--------+\n",
      "|plan_days|   count|\n",
      "+---------+--------+\n",
      "|       30|12706915|\n",
      "+---------+--------+\n",
      "\n"
     ]
    }
   ],
   "source": [
    "df2.groupBy('plan_days').count().show(20)"
   ]
  },
  {
   "cell_type": "markdown",
   "metadata": {},
   "source": [
    "* All records with `is_auto_renew` = 1 and `trans_date` >= 2015/11/01 have `plan_days` = 30 (except possibly for a few records with `plan_days` = 0)"
   ]
  },
  {
   "cell_type": "markdown",
   "metadata": {},
   "source": [
    "# plan_days = 0"
   ]
  },
  {
   "cell_type": "code",
   "execution_count": 21,
   "metadata": {},
   "outputs": [
    {
     "name": "stdout",
     "output_type": "stream",
     "text": [
      "# records with plan_days=0: 870124\n",
      "(4.038120738939469 %)\n"
     ]
    }
   ],
   "source": [
    "n = df1.where('plan_days = 0').count()\n",
    "print('# records with plan_days=0:', n)\n",
    "print('({} %)'.format(n/Nrec*100))"
   ]
  },
  {
   "cell_type": "code",
   "execution_count": 29,
   "metadata": {},
   "outputs": [
    {
     "name": "stdout",
     "output_type": "stream",
     "text": [
      "+-----------+\n",
      "|trans_month|\n",
      "+-----------+\n",
      "|     201509|\n",
      "|     201509|\n",
      "|     201509|\n",
      "+-----------+\n",
      "only showing top 3 rows\n",
      "\n"
     ]
    }
   ],
   "source": [
    "from pyspark.sql.functions import col, floor\n",
    "df2 = df1.where('plan_days = 0') \\\n",
    "         .select(floor(col('trans_date')/100).alias('trans_month'))\n",
    "\n",
    "df2.show(3)"
   ]
  },
  {
   "cell_type": "code",
   "execution_count": 30,
   "metadata": {},
   "outputs": [
    {
     "name": "stdout",
     "output_type": "stream",
     "text": [
      "+-----------+------+\n",
      "|trans_month| count|\n",
      "+-----------+------+\n",
      "|     201503| 72879|\n",
      "|     201611|     1|\n",
      "|     201510| 70065|\n",
      "|     201609|     1|\n",
      "|     201601|     1|\n",
      "|     201505|247469|\n",
      "|     201509| 70667|\n",
      "|     201512|     2|\n",
      "|     201504|193855|\n",
      "|     201506| 72309|\n",
      "+-----------+------+\n",
      "only showing top 10 rows\n",
      "\n"
     ]
    }
   ],
   "source": [
    "df3 = df2.groupBy('trans_month').count()\n",
    "df3.persist()\n",
    "df3.show(10)"
   ]
  },
  {
   "cell_type": "code",
   "execution_count": 38,
   "metadata": {},
   "outputs": [
    {
     "name": "stdout",
     "output_type": "stream",
     "text": [
      "+-----------+---------------------+\n",
      "|trans_month|count__plan_days_eq_0|\n",
      "+-----------+---------------------+\n",
      "|     201503|                72879|\n",
      "|     201504|               193855|\n",
      "|     201505|               247469|\n",
      "|     201506|                72309|\n",
      "|     201507|                71755|\n",
      "|     201508|                71119|\n",
      "|     201509|                70667|\n",
      "|     201510|                70065|\n",
      "|     201512|                    2|\n",
      "|     201601|                    1|\n",
      "|     201609|                    1|\n",
      "|     201611|                    1|\n",
      "|     201701|                    1|\n",
      "+-----------+---------------------+\n",
      "\n"
     ]
    }
   ],
   "source": [
    "df3.sort('trans_month') \\\n",
    "   .withColumnRenamed('count', 'count__plan_days_eq_0').show(20)"
   ]
  },
  {
   "cell_type": "markdown",
   "metadata": {},
   "source": [
    "* Almost all of the records with `plan_days`=0 have `trans_date`<20151101."
   ]
  },
  {
   "cell_type": "markdown",
   "metadata": {},
   "source": [
    "## plan_days = 0 after 2015/11/01 "
   ]
  },
  {
   "cell_type": "code",
   "execution_count": 43,
   "metadata": {
    "collapsed": true
   },
   "outputs": [],
   "source": [
    "from pyspark.sql.functions import col, floor\n",
    "df2 = df1.where('plan_days = 0') \\\n",
    "         .where('trans_date >= 20151101').persist()"
   ]
  },
  {
   "cell_type": "code",
   "execution_count": 45,
   "metadata": {},
   "outputs": [
    {
     "name": "stdout",
     "output_type": "stream",
     "text": [
      "+--------------------------------------------+---------+----------+--------+-------------+---------+\n",
      "|msno                                        |plan_days|trans_date|exp_date|is_auto_renew|is_cancel|\n",
      "+--------------------------------------------+---------+----------+--------+-------------+---------+\n",
      "|/Nel+muc1PTxTHDepUcmRRBezg0dwZ96pTkLV91ojZo=|0        |20170116  |20170111|0            |1        |\n",
      "|yoFSlNP8/d9hoeWusC3OUZMPJLzIOIqaQ53ALlTntf0=|0        |20151223  |20100325|0            |0        |\n",
      "|YK0mAbVp4I452/awLmy3zqUkO5MoQ+StcsDB1F8nYY4=|0        |20160121  |20160120|0            |1        |\n",
      "|dS2WKDR7me3ESNLkoIHA3cuArCWNgiC+fhwbvUt7eY4=|0        |20151202  |20100325|0            |0        |\n",
      "|tGPeF1ZQnR0G8F7cuHvmhkBvnzXFx5eRQ4dV/kY3CfY=|0        |20160920  |20160913|0            |1        |\n",
      "|bXVpyDYBw/e4k92ZGy8/QGsYPHACPOY3Vs7MT0FF1QA=|0        |20161128  |20161115|0            |1        |\n",
      "+--------------------------------------------+---------+----------+--------+-------------+---------+\n",
      "\n"
     ]
    }
   ],
   "source": [
    "df2.show(truncate=False)\n",
    "\n",
    "# These are the records with plan_days = 0 and trans_date >= 2015/11/01:"
   ]
  },
  {
   "cell_type": "code",
   "execution_count": 54,
   "metadata": {},
   "outputs": [
    {
     "name": "stdout",
     "output_type": "stream",
     "text": [
      "+--------------------+--------------------+---------+----------+--------+-------------+---------+\n",
      "|               msno_|                msno|plan_days|trans_date|exp_date|is_auto_renew|is_cancel|\n",
      "+--------------------+--------------------+---------+----------+--------+-------------+---------+\n",
      "|/Nel+muc1PTxTHDep...|/Nel+muc1PTxTHDep...|        0|  20170116|20170111|            0|        1|\n",
      "|yoFSlNP8/d9hoeWus...|yoFSlNP8/d9hoeWus...|        0|  20151223|20100325|            0|        0|\n",
      "|YK0mAbVp4I452/awL...|YK0mAbVp4I452/awL...|        0|  20160121|20160120|            0|        1|\n",
      "|dS2WKDR7me3ESNLko...|dS2WKDR7me3ESNLko...|        0|  20151202|20100325|            0|        0|\n",
      "|tGPeF1ZQnR0G8F7cu...|tGPeF1ZQnR0G8F7cu...|        0|  20160920|20160913|            0|        1|\n",
      "|YK0mAbVp4I452/awL...|YK0mAbVp4I452/awL...|        0|  20150308|20150308|            0|        1|\n",
      "|YK0mAbVp4I452/awL...|YK0mAbVp4I452/awL...|        0|  20150316|20100325|            0|        0|\n",
      "|bXVpyDYBw/e4k92ZG...|bXVpyDYBw/e4k92ZG...|        0|  20161128|20161115|            0|        1|\n",
      "+--------------------+--------------------+---------+----------+--------+-------------+---------+\n",
      "\n"
     ]
    }
   ],
   "source": [
    "df3 = df2.select('msno').withColumnRenamed('msno', 'msno_')\n",
    "df4 = df3.join(df1, df3['msno_'] == df1['msno'], 'inner').persist()\n",
    "df4.show()  "
   ]
  },
  {
   "cell_type": "code",
   "execution_count": 57,
   "metadata": {},
   "outputs": [
    {
     "name": "stdout",
     "output_type": "stream",
     "text": [
      "+--------------------------------------------+---------+----------+--------+-------------+---------+\n",
      "|msno                                        |plan_days|trans_date|exp_date|is_auto_renew|is_cancel|\n",
      "+--------------------------------------------+---------+----------+--------+-------------+---------+\n",
      "|/Nel+muc1PTxTHDepUcmRRBezg0dwZ96pTkLV91ojZo=|0        |20170116  |20170111|0            |1        |\n",
      "|YK0mAbVp4I452/awLmy3zqUkO5MoQ+StcsDB1F8nYY4=|0        |20150308  |20150308|0            |1        |\n",
      "|YK0mAbVp4I452/awLmy3zqUkO5MoQ+StcsDB1F8nYY4=|0        |20150316  |20100325|0            |0        |\n",
      "|YK0mAbVp4I452/awLmy3zqUkO5MoQ+StcsDB1F8nYY4=|0        |20160121  |20160120|0            |1        |\n",
      "|bXVpyDYBw/e4k92ZGy8/QGsYPHACPOY3Vs7MT0FF1QA=|0        |20161128  |20161115|0            |1        |\n",
      "|dS2WKDR7me3ESNLkoIHA3cuArCWNgiC+fhwbvUt7eY4=|0        |20151202  |20100325|0            |0        |\n",
      "|tGPeF1ZQnR0G8F7cuHvmhkBvnzXFx5eRQ4dV/kY3CfY=|0        |20160920  |20160913|0            |1        |\n",
      "|yoFSlNP8/d9hoeWusC3OUZMPJLzIOIqaQ53ALlTntf0=|0        |20151223  |20100325|0            |0        |\n",
      "+--------------------------------------------+---------+----------+--------+-------------+---------+\n",
      "\n"
     ]
    }
   ],
   "source": [
    "df4.drop('msno_').orderBy('msno', 'trans_date').show(truncate=False)"
   ]
  },
  {
   "cell_type": "markdown",
   "metadata": {},
   "source": [
    "## plan_days = 30 vs. is_auto_renew "
   ]
  },
  {
   "cell_type": "code",
   "execution_count": 86,
   "metadata": {
    "collapsed": true
   },
   "outputs": [],
   "source": [
    "df1_clean = df1.where('trans_date >= 20151101') \\\n",
    "               .where('plan_days != 0 OR is_cancel = 1') \\\n",
    "               .where('is_cancel = 0 OR is_auto_renew = 1')"
   ]
  },
  {
   "cell_type": "code",
   "execution_count": 88,
   "metadata": {},
   "outputs": [
    {
     "name": "stdout",
     "output_type": "stream",
     "text": [
      "+-------------+--------+\n",
      "|is_auto_renew|   count|\n",
      "+-------------+--------+\n",
      "|            1|12706915|\n",
      "|            0| 1502716|\n",
      "+-------------+--------+\n",
      "\n"
     ]
    }
   ],
   "source": [
    "df2 = df1_clean.where('plan_days = 30') \\\n",
    "               .select('is_auto_renew')\n",
    "df2.groupBy('is_auto_renew').count().show()"
   ]
  },
  {
   "cell_type": "markdown",
   "metadata": {},
   "source": [
    "# is_cancel = 1"
   ]
  },
  {
   "cell_type": "code",
   "execution_count": 7,
   "metadata": {},
   "outputs": [
    {
     "name": "stdout",
     "output_type": "stream",
     "text": [
      "root\n",
      " |-- msno: string (nullable = true)\n",
      " |-- plan_days: integer (nullable = true)\n",
      " |-- trans_date: integer (nullable = true)\n",
      " |-- exp_date: integer (nullable = true)\n",
      " |-- is_auto_renew: integer (nullable = true)\n",
      " |-- is_cancel: integer (nullable = true)\n",
      "\n"
     ]
    }
   ],
   "source": [
    "df1.printSchema()"
   ]
  },
  {
   "cell_type": "code",
   "execution_count": 59,
   "metadata": {},
   "outputs": [
    {
     "name": "stdout",
     "output_type": "stream",
     "text": [
      "+---------+\n",
      "|plan_days|\n",
      "+---------+\n",
      "|       30|\n",
      "|       30|\n",
      "|       30|\n",
      "+---------+\n",
      "only showing top 3 rows\n",
      "\n"
     ]
    }
   ],
   "source": [
    "df2 = df1.where('is_cancel = 1') \\\n",
    "         .where('trans_date >= 20151101') \\\n",
    "         .select('plan_days')\n",
    "\n",
    "df2.show(3)"
   ]
  },
  {
   "cell_type": "code",
   "execution_count": 60,
   "metadata": {},
   "outputs": [
    {
     "name": "stdout",
     "output_type": "stream",
     "text": [
      "+---------+------+\n",
      "|plan_days| count|\n",
      "+---------+------+\n",
      "|       30|575854|\n",
      "|        0|     4|\n",
      "+---------+------+\n",
      "\n"
     ]
    }
   ],
   "source": [
    "df2.groupBy('plan_days').count().show(10)\n",
    "\n",
    "# is_cancel = 1 and trans_date >= 2015/11/01:"
   ]
  },
  {
   "cell_type": "markdown",
   "metadata": {},
   "source": [
    "* Almost all records with `is_cancel` = 1 and `trans_date` >= 2015/11/01 has `plan_days` = 30."
   ]
  },
  {
   "cell_type": "markdown",
   "metadata": {},
   "source": [
    "## is_cancel = 1 vs. auto_renew "
   ]
  },
  {
   "cell_type": "code",
   "execution_count": 71,
   "metadata": {},
   "outputs": [
    {
     "name": "stdout",
     "output_type": "stream",
     "text": [
      "+--------------------+---------+----------+--------+-------------+---------+\n",
      "|                msno|plan_days|trans_date|exp_date|is_auto_renew|is_cancel|\n",
      "+--------------------+---------+----------+--------+-------------+---------+\n",
      "|6Z94vibpV9J+tcf8R...|       30|  20151202|20151202|            1|        1|\n",
      "|Xik55GiZKTkU1fMHN...|       30|  20160225|20160224|            1|        1|\n",
      "|Hvi7rtyChpu+y/sxl...|       30|  20160225|20160225|            1|        1|\n",
      "+--------------------+---------+----------+--------+-------------+---------+\n",
      "only showing top 3 rows\n",
      "\n"
     ]
    }
   ],
   "source": [
    "df2 = df1.where('trans_date >= 20151101') \\\n",
    "         .where('plan_days != 0 OR is_cancel = 1') \\\n",
    "         .where('is_cancel = 1')\n",
    "df2.show(3)"
   ]
  },
  {
   "cell_type": "code",
   "execution_count": 79,
   "metadata": {},
   "outputs": [
    {
     "name": "stdout",
     "output_type": "stream",
     "text": [
      "+--------------------------------------------+---------+----------+--------+-------------+---------+\n",
      "|msno                                        |plan_days|trans_date|exp_date|is_auto_renew|is_cancel|\n",
      "+--------------------------------------------+---------+----------+--------+-------------+---------+\n",
      "|/Nel+muc1PTxTHDepUcmRRBezg0dwZ96pTkLV91ojZo=|0        |20170116  |20170111|0            |1        |\n",
      "|YK0mAbVp4I452/awLmy3zqUkO5MoQ+StcsDB1F8nYY4=|0        |20160121  |20160120|0            |1        |\n",
      "|tGPeF1ZQnR0G8F7cuHvmhkBvnzXFx5eRQ4dV/kY3CfY=|0        |20160920  |20160913|0            |1        |\n",
      "|bXVpyDYBw/e4k92ZGy8/QGsYPHACPOY3Vs7MT0FF1QA=|0        |20161128  |20161115|0            |1        |\n",
      "+--------------------------------------------+---------+----------+--------+-------------+---------+\n",
      "\n"
     ]
    }
   ],
   "source": [
    "df3 = df2.where('is_auto_renew != 1')\n",
    "df3.show(truncate=False)\n",
    "\n",
    "# is_cancel but not is_auto_renew:"
   ]
  },
  {
   "cell_type": "code",
   "execution_count": 81,
   "metadata": {
    "collapsed": true
   },
   "outputs": [],
   "source": [
    "df4 = df3.selectExpr('msno AS msno_')\n",
    "df5 = df4.join(df1, df4['msno_'] == df1['msno'], 'inner').persist()"
   ]
  },
  {
   "cell_type": "code",
   "execution_count": 83,
   "metadata": {},
   "outputs": [
    {
     "name": "stdout",
     "output_type": "stream",
     "text": [
      "+--------------------------------------------+---------+----------+--------+-------------+---------+\n",
      "|msno                                        |plan_days|trans_date|exp_date|is_auto_renew|is_cancel|\n",
      "+--------------------------------------------+---------+----------+--------+-------------+---------+\n",
      "|/Nel+muc1PTxTHDepUcmRRBezg0dwZ96pTkLV91ojZo=|0        |20170116  |20170111|0            |1        |\n",
      "|YK0mAbVp4I452/awLmy3zqUkO5MoQ+StcsDB1F8nYY4=|0        |20150308  |20150308|0            |1        |\n",
      "|YK0mAbVp4I452/awLmy3zqUkO5MoQ+StcsDB1F8nYY4=|0        |20150316  |20100325|0            |0        |\n",
      "|YK0mAbVp4I452/awLmy3zqUkO5MoQ+StcsDB1F8nYY4=|0        |20160121  |20160120|0            |1        |\n",
      "|bXVpyDYBw/e4k92ZGy8/QGsYPHACPOY3Vs7MT0FF1QA=|0        |20161128  |20161115|0            |1        |\n",
      "|tGPeF1ZQnR0G8F7cuHvmhkBvnzXFx5eRQ4dV/kY3CfY=|0        |20160920  |20160913|0            |1        |\n",
      "+--------------------------------------------+---------+----------+--------+-------------+---------+\n",
      "\n"
     ]
    }
   ],
   "source": [
    "df5.drop('msno_').orderBy('msno', 'trans_date').show(40, truncate=False)"
   ]
  },
  {
   "cell_type": "markdown",
   "metadata": {},
   "source": [
    "# conclusion\n",
    "* data cleaning:"
   ]
  },
  {
   "cell_type": "code",
   "execution_count": null,
   "metadata": {
    "collapsed": true
   },
   "outputs": [],
   "source": [
    "df1 = df0.selectExpr(\"msno\", \n",
    "                     \"CAST(payment_plan_days AS int) AS plan_days\", \n",
    "                     \"CAST(transaction_date AS int) AS trans_date\", \n",
    "                     \"CAST(membership_expire_date AS int) AS exp_date\", \n",
    "                     \"CAST(is_auto_renew AS int)\",\n",
    "                     \"CAST(is_cancel AS int)\")\n",
    "\n",
    "df1_clean = df1.where('trans_date >= 20151101') \\\n",
    "               .where('plan_days != 0 OR is_cancel = 1') \\\n",
    "               .where('is_cancel = 0 OR is_auto_renew = 1')"
   ]
  },
  {
   "cell_type": "markdown",
   "metadata": {},
   "source": [
    "* is_cancel $\\implies$ auto_renew $\\implies$ plan_days=30\n",
    "* number of records with plan_days=30: 14210K\n",
    "* number of records with is_auto_renew=1: 12707K\n",
    "* number of records with is_cancel=1: 576K"
   ]
  },
  {
   "cell_type": "code",
   "execution_count": null,
   "metadata": {
    "collapsed": true
   },
   "outputs": [],
   "source": []
  }
 ],
 "metadata": {
  "kernelspec": {
   "display_name": "Python 3",
   "language": "python",
   "name": "python3"
  },
  "language_info": {
   "codemirror_mode": {
    "name": "ipython",
    "version": 3
   },
   "file_extension": ".py",
   "mimetype": "text/x-python",
   "name": "python",
   "nbconvert_exporter": "python",
   "pygments_lexer": "ipython3",
   "version": "3.6.6"
  },
  "toc": {
   "base_numbering": 1,
   "nav_menu": {},
   "number_sections": true,
   "sideBar": true,
   "skip_h1_title": false,
   "title_cell": "Table of Contents",
   "title_sidebar": "Contents",
   "toc_cell": false,
   "toc_position": {},
   "toc_section_display": true,
   "toc_window_display": true
  }
 },
 "nbformat": 4,
 "nbformat_minor": 2
}
