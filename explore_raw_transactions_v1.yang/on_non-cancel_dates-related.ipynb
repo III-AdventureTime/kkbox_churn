{
 "cells": [
  {
   "cell_type": "code",
   "execution_count": 1,
   "metadata": {},
   "outputs": [
    {
     "data": {
      "text/html": [
       "\n",
       "            <div>\n",
       "                <p><b>SparkSession - hive</b></p>\n",
       "                \n",
       "        <div>\n",
       "            <p><b>SparkContext</b></p>\n",
       "\n",
       "            <p><a href=\"http://10.120.27.99:4040\">Spark UI</a></p>\n",
       "\n",
       "            <dl>\n",
       "              <dt>Version</dt>\n",
       "                <dd><code>v2.2.1</code></dd>\n",
       "              <dt>Master</dt>\n",
       "                <dd><code>local[*]</code></dd>\n",
       "              <dt>AppName</dt>\n",
       "                <dd><code>PySparkShell</code></dd>\n",
       "            </dl>\n",
       "        </div>\n",
       "        \n",
       "            </div>\n",
       "        "
      ],
      "text/plain": [
       "<pyspark.sql.session.SparkSession at 0x7f3c0bc20208>"
      ]
     },
     "execution_count": 1,
     "metadata": {},
     "output_type": "execute_result"
    }
   ],
   "source": [
    "spark"
   ]
  },
  {
   "cell_type": "code",
   "execution_count": 2,
   "metadata": {},
   "outputs": [
    {
     "name": "stdout",
     "output_type": "stream",
     "text": [
      "root\n",
      " |-- msno: string (nullable = true)\n",
      " |-- pay_method: string (nullable = true)\n",
      " |-- plan_days: string (nullable = true)\n",
      " |-- list_price: string (nullable = true)\n",
      " |-- actual_paid: string (nullable = true)\n",
      " |-- is_auto_renew: string (nullable = true)\n",
      " |-- transac_date: string (nullable = true)\n",
      " |-- expire_date: string (nullable = true)\n",
      " |-- is_cancel: string (nullable = true)\n",
      "\n"
     ]
    }
   ],
   "source": [
    "infile = 'file:///home/cloudera/2.kkbox_churn/raw_data/transactions.csv'\n",
    "df0 = spark.read.format('csv').option('header','true').load(infile) \\\n",
    "   .withColumnRenamed('payment_method_id', 'pay_method') \\\n",
    "   .withColumnRenamed('payment_plan_days', 'plan_days') \\\n",
    "   .withColumnRenamed('plan_list_price', 'list_price') \\\n",
    "   .withColumnRenamed('actual_amount_paid', 'actual_paid') \\\n",
    "   .withColumnRenamed('transaction_date', 'transac_date') \\\n",
    "   .withColumnRenamed('membership_expire_date', 'expire_date')\n",
    "df0.printSchema()"
   ]
  },
  {
   "cell_type": "code",
   "execution_count": 5,
   "metadata": {},
   "outputs": [
    {
     "name": "stdout",
     "output_type": "stream",
     "text": [
      "+--------------------+----------+---------+----------+-----------+-------------+------------+-----------+---------+\n",
      "|                msno|pay_method|plan_days|list_price|actual_paid|is_auto_renew|transac_date|expire_date|is_cancel|\n",
      "+--------------------+----------+---------+----------+-----------+-------------+------------+-----------+---------+\n",
      "|YyO+tlZtAXYXoZhNr...|        41|       30|       129|        129|            1|    20150930|   20151101|        0|\n",
      "|AZtu6Wl0gPojrEQYB...|        41|       30|       149|        149|            1|    20150930|   20151031|        0|\n",
      "|UkDFI97Qb6+s2LWci...|        41|       30|       129|        129|            1|    20150930|   20160427|        0|\n",
      "+--------------------+----------+---------+----------+-----------+-------------+------------+-----------+---------+\n",
      "only showing top 3 rows\n",
      "\n"
     ]
    }
   ],
   "source": [
    "df0.show(3)"
   ]
  },
  {
   "cell_type": "code",
   "execution_count": 3,
   "metadata": {},
   "outputs": [],
   "source": [
    "# filter: 1. not is_cancel\n",
    "#         2. trans. date >= 2015-11-01\n",
    "from pyspark.sql.functions import col\n",
    "df1 = df0.where(col('is_cancel') == '0').where(col('transac_date') >= '20151101') \\\n",
    "  .withColumn('plan_days1', col('plan_days').cast('int')) \\\n",
    "  .drop('is_cancel').drop('plan_days')"
   ]
  },
  {
   "cell_type": "code",
   "execution_count": 4,
   "metadata": {
    "scrolled": false
   },
   "outputs": [
    {
     "name": "stdout",
     "output_type": "stream",
     "text": [
      "+--------------------+----------+----------+-----------+-------------+------------+-----------+----------+----------+\n",
      "|                msno|pay_method|list_price|actual_paid|is_auto_renew|transac_date|expire_date|plan_days1|start_date|\n",
      "+--------------------+----------+----------+-----------+-------------+------------+-----------+----------+----------+\n",
      "|FT4moGxOj6tzwkTSA...|        34|       149|        149|            1|    20151130|   20151231|        30|  20151202|\n",
      "|z1s1E/gm6xiwjNb8T...|        34|       149|        149|            1|    20151130|   20151231|        30|  20151202|\n",
      "|lZyYiuAJW3qzDnicN...|        34|       149|        149|            1|    20151130|   20151231|        30|  20151202|\n",
      "|pXpFcJbT8/FDkhnSU...|        34|       149|        149|            1|    20151130|   20151231|        30|  20151202|\n",
      "|0f9IUy6wP6pEUntXg...|        31|       149|        149|            1|    20151130|   20151231|        30|  20151202|\n",
      "|CAtxj/lcQ2WNyVwuO...|        33|       149|        149|            1|    20151130|   20151231|        30|  20151202|\n",
      "|LSmqNJ2wYnJ3u3uaK...|        23|       149|        149|            1|    20151130|   20160104|        30|  20151206|\n",
      "|9+vLGQH430+NQ9Zc8...|        34|       149|        149|            1|    20151130|   20151231|        30|  20151202|\n",
      "|fDxZokyT74FiBLf96...|        33|       149|        149|            1|    20151130|   20160103|        30|  20151205|\n",
      "|obsb0ByPkAQnQPNw9...|        41|       149|        149|            1|    20151130|   20160101|        30|  20151203|\n",
      "+--------------------+----------+----------+-----------+-------------+------------+-----------+----------+----------+\n",
      "only showing top 10 rows\n",
      "\n"
     ]
    }
   ],
   "source": [
    "# compute start date\n",
    "from datetime import datetime, timedelta\n",
    "from pyspark.sql.types import StringType\n",
    "from pyspark.sql.functions import udf, col\n",
    "\n",
    "def get_start_date(exp_date_yyyymmdd, plan_days):\n",
    "    '''\n",
    "    `plan_days` should be > 0.\n",
    "    Returns a string.\n",
    "    '''\n",
    "    d_exp = datetime.strptime(exp_date_yyyymmdd, '%Y%m%d')\n",
    "    d_start = d_exp - timedelta(days=(plan_days-1))\n",
    "    s = d_start.strftime('%Y%m%d')\n",
    "    return s\n",
    "\n",
    "udf_get_start_date = udf(get_start_date, StringType())\n",
    "\n",
    "df2 = df1.withColumn('start_date', udf_get_start_date(col('expire_date'), col('plan_days1')))\n",
    "df2.show(10)"
   ]
  },
  {
   "cell_type": "code",
   "execution_count": 5,
   "metadata": {},
   "outputs": [
    {
     "name": "stdout",
     "output_type": "stream",
     "text": [
      "+--------------------+----------+-----------+------------+-----------+----------+----------+-----------------+\n",
      "|                msno|pay_method|actual_paid|transac_date|expire_date|plan_days1|start_date|start_minus_trans|\n",
      "+--------------------+----------+-----------+------------+-----------+----------+----------+-----------------+\n",
      "|FT4moGxOj6tzwkTSA...|        34|        149|    20151130|   20151231|        30|  20151202|                2|\n",
      "|z1s1E/gm6xiwjNb8T...|        34|        149|    20151130|   20151231|        30|  20151202|                2|\n",
      "|lZyYiuAJW3qzDnicN...|        34|        149|    20151130|   20151231|        30|  20151202|                2|\n",
      "|pXpFcJbT8/FDkhnSU...|        34|        149|    20151130|   20151231|        30|  20151202|                2|\n",
      "|0f9IUy6wP6pEUntXg...|        31|        149|    20151130|   20151231|        30|  20151202|                2|\n",
      "|CAtxj/lcQ2WNyVwuO...|        33|        149|    20151130|   20151231|        30|  20151202|                2|\n",
      "|LSmqNJ2wYnJ3u3uaK...|        23|        149|    20151130|   20160104|        30|  20151206|                6|\n",
      "|9+vLGQH430+NQ9Zc8...|        34|        149|    20151130|   20151231|        30|  20151202|                2|\n",
      "|fDxZokyT74FiBLf96...|        33|        149|    20151130|   20160103|        30|  20151205|                5|\n",
      "|obsb0ByPkAQnQPNw9...|        41|        149|    20151130|   20160101|        30|  20151203|                3|\n",
      "+--------------------+----------+-----------+------------+-----------+----------+----------+-----------------+\n",
      "only showing top 10 rows\n",
      "\n"
     ]
    }
   ],
   "source": [
    "# compare trans. date with start date\n",
    "from pyspark.sql.functions import col, datediff, to_date\n",
    "df3 = df2.withColumn('start_minus_trans',  \n",
    "                     datediff(to_date('start_date', 'yyyyMMdd'),\n",
    "                              to_date('transac_date', 'yyyyMMdd')\n",
    "                             )\n",
    "                    )\n",
    "df3.drop('is_auto_renew').drop('list_price').show(10)"
   ]
  },
  {
   "cell_type": "markdown",
   "metadata": {},
   "source": [
    "# start_date - transac_date"
   ]
  },
  {
   "cell_type": "code",
   "execution_count": 42,
   "metadata": {},
   "outputs": [
    {
     "name": "stdout",
     "output_type": "stream",
     "text": [
      "+----------------------+----------------------+\n",
      "|min(start_minus_trans)|max(start_minus_trans)|\n",
      "+----------------------+----------------------+\n",
      "|                -17563|                   487|\n",
      "+----------------------+----------------------+\n",
      "\n"
     ]
    }
   ],
   "source": [
    "from pyspark.sql.functions import min, max\n",
    "df3.select(min('start_minus_trans'), max('start_minus_trans')).show()"
   ]
  },
  {
   "cell_type": "code",
   "execution_count": 6,
   "metadata": {},
   "outputs": [
    {
     "name": "stdout",
     "output_type": "stream",
     "text": [
      "14254984\n"
     ]
    }
   ],
   "source": [
    "from prepare_hist_data import prepare_histogram_data\n",
    "rdd = df3.rdd.map(lambda row: row['start_minus_trans'])\n",
    "rdd.persist()\n",
    "Nrec = rdd.count()\n",
    "print(Nrec)"
   ]
  },
  {
   "cell_type": "code",
   "execution_count": 51,
   "metadata": {
    "scrolled": false
   },
   "outputs": [
    {
     "data": {
      "image/png": "[encoded data removed]",
      "text/plain": [
       "<Figure size 720x216 with 1 Axes>"
      ]
     },
     "metadata": {},
     "output_type": "display_data"
    }
   ],
   "source": [
    "import pandas as pd\n",
    "import matplotlib.pyplot as plt\n",
    "hist_data = prepare_histogram_data(rdd, -18000, 500, 37)\n",
    "pd.DataFrame(hist_data['bin_centers_counts'], columns=['start_minus_trans', 'count_records']) \\\n",
    "  .set_index('start_minus_trans') \\\n",
    "  .plot(kind='bar', logy=True, figsize=(10,3))\n",
    "plt.show()"
   ]
  },
  {
   "cell_type": "code",
   "execution_count": 8,
   "metadata": {},
   "outputs": [
    {
     "data": {
      "text/plain": [
       "1528"
      ]
     },
     "execution_count": 8,
     "metadata": {},
     "output_type": "execute_result"
    }
   ],
   "source": [
    "rdd.filter(lambda v: v<(-356*40)).count()\n",
    "\n",
    "# number of records with (start date) < (transaction date - 40 yr) :"
   ]
  },
  {
   "cell_type": "code",
   "execution_count": 53,
   "metadata": {
    "scrolled": false
   },
   "outputs": [
    {
     "data": {
      "image/png": "[encoded data removed]",
      "text/plain": [
       "<Figure size 720x216 with 1 Axes>"
      ]
     },
     "metadata": {},
     "output_type": "display_data"
    }
   ],
   "source": [
    "import pandas as pd\n",
    "import matplotlib.pyplot as plt\n",
    "hist_data = prepare_histogram_data(rdd, -500, 500, 50)\n",
    "pd.DataFrame(hist_data['bin_centers_counts'], columns=['start_minus_trans', 'count_records']) \\\n",
    "  .set_index('start_minus_trans') \\\n",
    "  .plot(kind='bar', logy=True, figsize=(10,3))\n",
    "plt.show()"
   ]
  },
  {
   "cell_type": "code",
   "execution_count": 57,
   "metadata": {},
   "outputs": [
    {
     "data": {
      "image/png": "[encoded data removed]",
      "text/plain": [
       "<Figure size 720x216 with 1 Axes>"
      ]
     },
     "metadata": {},
     "output_type": "display_data"
    }
   ],
   "source": [
    "import pandas as pd\n",
    "import matplotlib.pyplot as plt\n",
    "hist_data = prepare_histogram_data(rdd, -24.5, 25.5, 50)\n",
    "pd.DataFrame(hist_data['bin_centers_counts'], columns=['start_minus_trans', 'count_records']) \\\n",
    "  .set_index('start_minus_trans') \\\n",
    "  .plot(kind='bar', logy=True, figsize=(10,3))\n",
    "plt.show()"
   ]
  },
  {
   "cell_type": "markdown",
   "metadata": {},
   "source": [
    "# start_date - transac_date < -40 yr"
   ]
  },
  {
   "cell_type": "code",
   "execution_count": 11,
   "metadata": {},
   "outputs": [
    {
     "data": {
      "text/plain": [
       "1528"
      ]
     },
     "execution_count": 11,
     "metadata": {},
     "output_type": "execute_result"
    }
   ],
   "source": [
    "from pyspark.sql.functions import col\n",
    "df4 = df3.where(col('start_minus_trans') < (-365*40)).persist()\n",
    "df4.count()  "
   ]
  },
  {
   "cell_type": "code",
   "execution_count": 18,
   "metadata": {},
   "outputs": [
    {
     "name": "stdout",
     "output_type": "stream",
     "text": [
      "+--------------------+----------+----------+-----------+-------------+------------+-----------+----------+----------+\n",
      "|                msno|pay_method|list_price|actual_paid|is_auto_renew|transac_date|expire_date|plan_days1|start_date|\n",
      "+--------------------+----------+----------+-----------+-------------+------------+-----------+----------+----------+\n",
      "|feoqKszFUCDjm6c4n...|        17|         0|          0|            0|    20170129|   19700101|        60|  19691103|\n",
      "|W27NhBZTYj1B/InWG...|        17|         0|          0|            0|    20170205|   19700101|        60|  19691103|\n",
      "|q/4Lm0XD+X6nSAlAh...|        17|         0|          0|            0|    20170121|   19700101|        60|  19691103|\n",
      "|sa2BaBSzbcdHRoz6E...|        17|         0|          0|            0|    20170118|   19700101|       120|  19690904|\n",
      "|w3PkMX9MEoG3eJkUq...|        17|         0|          0|            0|    20170126|   19700101|       120|  19690904|\n",
      "|CUtddnWdKTgvpGzzu...|        17|         0|          0|            0|    20170201|   19700101|       240|  19690507|\n",
      "|7lxfqWZet+AXSjUkm...|        17|         0|          0|            0|    20170122|   19700101|       240|  19690507|\n",
      "|RmAh8+jhF1yRfbVjk...|        17|         0|          0|            0|    20170115|   19700101|        60|  19691103|\n",
      "|ISS6gkH7PYcDyxj7C...|        17|         0|          0|            0|    20170203|   19700101|        60|  19691103|\n",
      "|Bc4dY9JmTdt8roaQT...|        17|         0|          0|            0|    20170121|   19700101|        60|  19691103|\n",
      "|dXvW4sNJr3zy/E9XB...|        17|         0|          0|            0|    20170202|   19700101|        60|  19691103|\n",
      "|J2xlNSJCfHF7dQmez...|        17|         0|          0|            0|    20170125|   19700101|        60|  19691103|\n",
      "|QR5WHK+xkU3xnHKWP...|        17|         0|          0|            0|    20170116|   19700101|        60|  19691103|\n",
      "|WBvn2GFE6aXDWR9S1...|        17|         0|          0|            0|    20170120|   19700101|       240|  19690507|\n",
      "|OhYvaHmJ6jfGxi1aF...|        17|         0|          0|            0|    20170124|   19700101|        60|  19691103|\n",
      "|SkquWLkHAzLQ0aA+B...|        17|         0|          0|            0|    20170122|   19700101|       240|  19690507|\n",
      "|j/oiI1KNcKLVgdIuv...|        17|         0|          0|            0|    20170123|   19700101|       240|  19690507|\n",
      "|g4uY8SDaZK2Wr9eBO...|        17|         0|          0|            0|    20170123|   19700101|        60|  19691103|\n",
      "|oVH2KSrywjkJNQb4z...|        17|         0|          0|            0|    20170126|   19700101|       120|  19690904|\n",
      "|k3IBOo4ZbNdWbN0Gc...|        17|         0|          0|            0|    20170202|   19700101|       120|  19690904|\n",
      "+--------------------+----------+----------+-----------+-------------+------------+-----------+----------+----------+\n",
      "only showing top 20 rows\n",
      "\n"
     ]
    }
   ],
   "source": [
    "df4.drop('start_minus_trans').show(20)"
   ]
  },
  {
   "cell_type": "code",
   "execution_count": 21,
   "metadata": {},
   "outputs": [
    {
     "name": "stdout",
     "output_type": "stream",
     "text": [
      "+-----------+-----+\n",
      "|expire_date|count|\n",
      "+-----------+-----+\n",
      "|   19700101| 1528|\n",
      "+-----------+-----+\n",
      "\n"
     ]
    }
   ],
   "source": [
    "from pyspark.sql.functions import col\n",
    "df4.groupBy('expire_date').count().show()"
   ]
  },
  {
   "cell_type": "code",
   "execution_count": 20,
   "metadata": {},
   "outputs": [
    {
     "name": "stdout",
     "output_type": "stream",
     "text": [
      "+----------+-----+\n",
      "|pay_method|count|\n",
      "+----------+-----+\n",
      "|        35|    1|\n",
      "|        17| 1512|\n",
      "|        32|   13|\n",
      "|        13|    2|\n",
      "+----------+-----+\n",
      "\n"
     ]
    }
   ],
   "source": [
    "df4.groupBy('pay_method').count().show()"
   ]
  },
  {
   "cell_type": "code",
   "execution_count": 23,
   "metadata": {},
   "outputs": [
    {
     "name": "stdout",
     "output_type": "stream",
     "text": [
      "+----------+-----+\n",
      "|plan_days1|count|\n",
      "+----------+-----+\n",
      "|       120|  272|\n",
      "|         7|    1|\n",
      "|       240|  534|\n",
      "|       195|    1|\n",
      "|        60|  706|\n",
      "|       410|    1|\n",
      "|       180|   13|\n",
      "+----------+-----+\n",
      "\n"
     ]
    }
   ],
   "source": [
    "df4.groupBy('plan_days1').count().show()"
   ]
  },
  {
   "cell_type": "code",
   "execution_count": 24,
   "metadata": {},
   "outputs": [
    {
     "name": "stdout",
     "output_type": "stream",
     "text": [
      "+----------+-----+\n",
      "|list_price|count|\n",
      "+----------+-----+\n",
      "|       894|    1|\n",
      "|      1788|    1|\n",
      "|         0| 1513|\n",
      "|       699|   13|\n",
      "+----------+-----+\n",
      "\n"
     ]
    }
   ],
   "source": [
    "df4.groupBy('list_price').count().show()"
   ]
  },
  {
   "cell_type": "code",
   "execution_count": 25,
   "metadata": {},
   "outputs": [
    {
     "name": "stdout",
     "output_type": "stream",
     "text": [
      "+-----------+-----+\n",
      "|actual_paid|count|\n",
      "+-----------+-----+\n",
      "|        894|    1|\n",
      "|       1788|    1|\n",
      "|          0| 1513|\n",
      "|        699|   13|\n",
      "+-----------+-----+\n",
      "\n"
     ]
    }
   ],
   "source": [
    "df4.groupBy('actual_paid').count().show()"
   ]
  },
  {
   "cell_type": "code",
   "execution_count": 26,
   "metadata": {},
   "outputs": [
    {
     "name": "stdout",
     "output_type": "stream",
     "text": [
      "+-------------+-----+\n",
      "|is_auto_renew|count|\n",
      "+-------------+-----+\n",
      "|            0| 1528|\n",
      "+-------------+-----+\n",
      "\n"
     ]
    }
   ],
   "source": [
    "df4.groupBy('is_auto_renew').count().show()"
   ]
  },
  {
   "cell_type": "code",
   "execution_count": 31,
   "metadata": {},
   "outputs": [
    {
     "name": "stdout",
     "output_type": "stream",
     "text": [
      "+------+-----+\n",
      "| month|count|\n",
      "+------+-----+\n",
      "|201603|   11|\n",
      "|201604|    2|\n",
      "|201608|    1|\n",
      "|201612|    2|\n",
      "|201701| 1104|\n",
      "|201702|  408|\n",
      "+------+-----+\n",
      "\n"
     ]
    }
   ],
   "source": [
    "from pyspark.sql.functions import col, floor\n",
    "df4.groupBy(floor(col('transac_date').cast('int')/100).alias('month')).count() \\\n",
    "  .sort('month').show()"
   ]
  },
  {
   "cell_type": "markdown",
   "metadata": {},
   "source": [
    "**Finding.** start_date $-$ transac_date $< -40$ yr\n",
    "* $\\implies$ expire_date = 1970-01-01, is_auto_renew = 0\n",
    "* mostly have pay_method = 17, list_price = 0, actual_paid = 0\n",
    "* mostly happen in 2017/01 and 2017/02"
   ]
  },
  {
   "cell_type": "code",
   "execution_count": 32,
   "metadata": {},
   "outputs": [
    {
     "name": "stdout",
     "output_type": "stream",
     "text": [
      "+--------------------+----------+---------+----------+-----------+-------------+------------+-----------+---------+\n",
      "|                msno|pay_method|plan_days|list_price|actual_paid|is_auto_renew|transac_date|expire_date|is_cancel|\n",
      "+--------------------+----------+---------+----------+-----------+-------------+------------+-----------+---------+\n",
      "|g4uY8SDaZK2Wr9eBO...|        25|       30|       150|        150|            0|    20150217|   20150319|        0|\n",
      "|g4uY8SDaZK2Wr9eBO...|        25|       30|       150|        150|            0|    20150316|   20150418|        0|\n",
      "|g4uY8SDaZK2Wr9eBO...|        28|       30|       150|        150|            0|    20150417|   20150518|        0|\n",
      "|g4uY8SDaZK2Wr9eBO...|        28|       30|       150|        150|            0|    20150519|   20150618|        0|\n",
      "|g4uY8SDaZK2Wr9eBO...|        28|       30|       150|        150|            0|    20150625|   20150725|        0|\n",
      "|g4uY8SDaZK2Wr9eBO...|        28|       30|       150|        150|            0|    20150731|   20150830|        0|\n",
      "|g4uY8SDaZK2Wr9eBO...|        28|       30|       150|        150|            0|    20151015|   20151114|        0|\n",
      "|g4uY8SDaZK2Wr9eBO...|        28|       30|       150|        150|            0|    20160119|   20160218|        0|\n",
      "|g4uY8SDaZK2Wr9eBO...|        28|       30|       150|        150|            0|    20160225|   20160326|        0|\n",
      "|g4uY8SDaZK2Wr9eBO...|        28|       30|       150|        150|            0|    20160422|   20160522|        0|\n",
      "|g4uY8SDaZK2Wr9eBO...|        20|      200|       930|        930|            0|    20160520|   20161208|        0|\n",
      "|g4uY8SDaZK2Wr9eBO...|        17|       60|         0|          0|            0|    20170123|   19700101|        0|\n",
      "|g4uY8SDaZK2Wr9eBO...|        15|       60|       300|        300|            0|    20170125|   20170330|        0|\n",
      "+--------------------+----------+---------+----------+-----------+-------------+------------+-----------+---------+\n",
      "\n"
     ]
    }
   ],
   "source": [
    "df0.where(col('msno').startswith('g4uY8SDaZK2Wr9eBO')).sort('transac_date').show()\n",
    "\n",
    "# a member with a record with (start_date - transac_date) < -40 yr :\n",
    "# (see the 2nd-to-last record)"
   ]
  },
  {
   "cell_type": "code",
   "execution_count": 34,
   "metadata": {},
   "outputs": [
    {
     "name": "stdout",
     "output_type": "stream",
     "text": [
      "+--------------------+----------+---------+----------+-----------+-------------+------------+-----------+---------+\n",
      "|                msno|pay_method|plan_days|list_price|actual_paid|is_auto_renew|transac_date|expire_date|is_cancel|\n",
      "+--------------------+----------+---------+----------+-----------+-------------+------------+-----------+---------+\n",
      "|WBvn2GFE6aXDWR9S1...|        38|       30|       149|        149|            0|    20150107|   20150206|        0|\n",
      "|WBvn2GFE6aXDWR9S1...|        38|       30|       149|        149|            0|    20150209|   20150311|        0|\n",
      "|WBvn2GFE6aXDWR9S1...|        38|       30|       149|        149|            0|    20150312|   20150411|        0|\n",
      "|WBvn2GFE6aXDWR9S1...|        38|       30|       149|        149|            0|    20150416|   20150516|        0|\n",
      "|WBvn2GFE6aXDWR9S1...|        38|       30|       149|        149|            0|    20150517|   20150616|        0|\n",
      "|WBvn2GFE6aXDWR9S1...|        38|       30|       149|        149|            0|    20150621|   20150721|        0|\n",
      "|WBvn2GFE6aXDWR9S1...|        38|       30|       149|        149|            0|    20150803|   20150902|        0|\n",
      "|WBvn2GFE6aXDWR9S1...|        38|       30|       149|        149|            0|    20150903|   20151003|        0|\n",
      "|WBvn2GFE6aXDWR9S1...|        38|       30|       149|        149|            0|    20151004|   20151103|        0|\n",
      "|WBvn2GFE6aXDWR9S1...|        38|       30|       149|        149|            0|    20151107|   20151207|        0|\n",
      "|WBvn2GFE6aXDWR9S1...|        38|       30|       149|        149|            0|    20151210|   20160109|        0|\n",
      "|WBvn2GFE6aXDWR9S1...|        38|       30|       149|        149|            0|    20160110|   20160209|        0|\n",
      "|WBvn2GFE6aXDWR9S1...|        38|       30|       149|        149|            0|    20160210|   20160311|        0|\n",
      "|WBvn2GFE6aXDWR9S1...|        38|       30|       149|        149|            0|    20160313|   20160412|        0|\n",
      "|WBvn2GFE6aXDWR9S1...|        38|       30|       149|        149|            0|    20160414|   20160514|        0|\n",
      "|WBvn2GFE6aXDWR9S1...|        38|       30|       149|        149|            0|    20160414|   20160613|        0|\n",
      "|WBvn2GFE6aXDWR9S1...|        38|       30|       149|        149|            0|    20160617|   20160717|        0|\n",
      "|WBvn2GFE6aXDWR9S1...|        38|       30|       149|        149|            0|    20160716|   20160816|        0|\n",
      "|WBvn2GFE6aXDWR9S1...|        38|       30|       149|        149|            0|    20160818|   20160917|        0|\n",
      "|WBvn2GFE6aXDWR9S1...|        38|      120|       477|        477|            0|    20160918|   20170116|        0|\n",
      "|WBvn2GFE6aXDWR9S1...|        17|      240|         0|          0|            0|    20170120|   19700101|        0|\n",
      "|WBvn2GFE6aXDWR9S1...|        38|       30|       149|        149|            0|    20170123|   20170222|        0|\n",
      "|WBvn2GFE6aXDWR9S1...|        38|       30|       149|        149|            0|    20170228|   20170330|        0|\n",
      "+--------------------+----------+---------+----------+-----------+-------------+------------+-----------+---------+\n",
      "\n"
     ]
    }
   ],
   "source": [
    "df0.where(col('msno').startswith('WBvn2GFE6aXDWR9S1')).sort('transac_date').show(30)\n",
    "\n",
    "# another member with a record with (start_date - transac_date) < -40 yr :\n",
    "# (see the 3rd-to-last record)"
   ]
  },
  {
   "cell_type": "code",
   "execution_count": null,
   "metadata": {},
   "outputs": [],
   "source": []
  }
 ],
 "metadata": {
  "kernelspec": {
   "display_name": "Python 3",
   "language": "python",
   "name": "python3"
  },
  "language_info": {
   "codemirror_mode": {
    "name": "ipython",
    "version": 3
   },
   "file_extension": ".py",
   "mimetype": "text/x-python",
   "name": "python",
   "nbconvert_exporter": "python",
   "pygments_lexer": "ipython3",
   "version": "3.6.6"
  },
  "toc": {
   "base_numbering": 1,
   "nav_menu": {},
   "number_sections": true,
   "sideBar": true,
   "skip_h1_title": false,
   "title_cell": "Table of Contents",
   "title_sidebar": "Contents",
   "toc_cell": false,
   "toc_position": {},
   "toc_section_display": true,
   "toc_window_display": true
  }
 },
 "nbformat": 4,
 "nbformat_minor": 2
}
