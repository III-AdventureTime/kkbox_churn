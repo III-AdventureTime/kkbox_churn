{
 "cells": [
  {
   "cell_type": "code",
   "execution_count": 1,
   "metadata": {},
   "outputs": [
    {
     "data": {
      "text/html": [
       "\n",
       "            <div>\n",
       "                <p><b>SparkSession - hive</b></p>\n",
       "                \n",
       "        <div>\n",
       "            <p><b>SparkContext</b></p>\n",
       "\n",
       "            <p><a href=\"http://10.120.27.99:4040\">Spark UI</a></p>\n",
       "\n",
       "            <dl>\n",
       "              <dt>Version</dt>\n",
       "                <dd><code>v2.2.1</code></dd>\n",
       "              <dt>Master</dt>\n",
       "                <dd><code>local[*]</code></dd>\n",
       "              <dt>AppName</dt>\n",
       "                <dd><code>PySparkShell</code></dd>\n",
       "            </dl>\n",
       "        </div>\n",
       "        \n",
       "            </div>\n",
       "        "
      ],
      "text/plain": [
       "<pyspark.sql.session.SparkSession at 0x7fc1ac6e21d0>"
      ]
     },
     "execution_count": 1,
     "metadata": {},
     "output_type": "execute_result"
    }
   ],
   "source": [
    "spark"
   ]
  },
  {
   "cell_type": "code",
   "execution_count": 4,
   "metadata": {},
   "outputs": [],
   "source": [
    "dir0 = 'file:///home/cloudera/2.kkbox_churn/data01/'"
   ]
  },
  {
   "cell_type": "code",
   "execution_count": 9,
   "metadata": {},
   "outputs": [
    {
     "name": "stdout",
     "output_type": "stream",
     "text": [
      "root\n",
      " |-- msno: string (nullable = true)\n",
      " |-- payment_method: string (nullable = true)\n",
      " |-- list_price: string (nullable = true)\n",
      " |-- actual_paid: string (nullable = true)\n",
      " |-- plan_days: string (nullable = true)\n",
      " |-- trans_date: string (nullable = true)\n",
      " |-- exp_date: string (nullable = true)\n",
      " |-- start_date: string (nullable = true)\n",
      "\n"
     ]
    }
   ],
   "source": [
    "infile = dir0 + 'transactions-v1_members-no-renew_cl3'\n",
    "df0_ = spark.read.format('csv').option('header', 'true').load(infile)\n",
    "\n",
    "df0_.printSchema()"
   ]
  },
  {
   "cell_type": "code",
   "execution_count": 13,
   "metadata": {},
   "outputs": [
    {
     "name": "stdout",
     "output_type": "stream",
     "text": [
      "root\n",
      " |-- msno: string (nullable = true)\n",
      " |-- payment_method: integer (nullable = true)\n",
      " |-- list_price: integer (nullable = true)\n",
      " |-- actual_paid: integer (nullable = true)\n",
      " |-- plan_days: integer (nullable = true)\n",
      " |-- trans_date: date (nullable = true)\n",
      " |-- start_date: date (nullable = true)\n",
      " |-- exp_date: date (nullable = true)\n",
      "\n"
     ]
    }
   ],
   "source": [
    "df0 = df0_.selectExpr('msno', \n",
    "                      'CAST(payment_method AS int)',\n",
    "                      'CAST(list_price AS int)',\n",
    "                      'CAST(actual_paid AS int)',\n",
    "                      'CAST(plan_days AS int)',\n",
    "                      'CAST(trans_date AS date)',\n",
    "                      'CAST(start_date AS date)',\n",
    "                      'CAST(exp_date AS date)',\n",
    "                     )\n",
    "df0.printSchema()"
   ]
  },
  {
   "cell_type": "code",
   "execution_count": 14,
   "metadata": {},
   "outputs": [
    {
     "name": "stdout",
     "output_type": "stream",
     "text": [
      "+--------------------+--------------+----------+-----------+---------+----------+----------+----------+\n",
      "|                msno|payment_method|list_price|actual_paid|plan_days|trans_date|start_date|  exp_date|\n",
      "+--------------------+--------------+----------+-----------+---------+----------+----------+----------+\n",
      "|nuNWXAG/T41m2CTNT...|            38|       149|        149|       30|2016-01-25|2016-01-25|2016-02-24|\n",
      "|nuNWXAG/T41m2CTNT...|            38|       149|        149|       30|2016-06-09|2016-06-10|2016-07-09|\n",
      "|nuNWXAG/T41m2CTNT...|            38|       149|        149|       30|2015-11-20|2015-11-21|2015-12-20|\n",
      "|nuNWXAG/T41m2CTNT...|            38|       149|        149|       30|2016-04-03|2016-04-04|2016-05-03|\n",
      "|nuNWXAG/T41m2CTNT...|            38|       149|        149|       30|2017-02-13|2017-02-16|2017-03-15|\n",
      "+--------------------+--------------+----------+-----------+---------+----------+----------+----------+\n",
      "only showing top 5 rows\n",
      "\n"
     ]
    }
   ],
   "source": [
    "df0.show(5)"
   ]
  },
  {
   "cell_type": "code",
   "execution_count": 15,
   "metadata": {},
   "outputs": [
    {
     "name": "stdout",
     "output_type": "stream",
     "text": [
      "1816863\n"
     ]
    }
   ],
   "source": [
    "Nrec = df0.count()\n",
    "print(Nrec)"
   ]
  },
  {
   "cell_type": "code",
   "execution_count": 18,
   "metadata": {},
   "outputs": [
    {
     "data": {
      "text/plain": [
       "0"
      ]
     },
     "execution_count": 18,
     "metadata": {},
     "output_type": "execute_result"
    }
   ],
   "source": [
    "# check\n",
    "df0.where('start_date > exp_date').count()  # should be 0"
   ]
  },
  {
   "cell_type": "code",
   "execution_count": null,
   "metadata": {},
   "outputs": [],
   "source": []
  },
  {
   "cell_type": "code",
   "execution_count": 27,
   "metadata": {},
   "outputs": [
    {
     "name": "stdout",
     "output_type": "stream",
     "text": [
      "+--------------------+-----------------+----------+\n",
      "|                msno|active_begin_date|  exp_date|\n",
      "+--------------------+-----------------+----------+\n",
      "|nuNWXAG/T41m2CTNT...|       2016-01-25|2016-02-24|\n",
      "|nuNWXAG/T41m2CTNT...|       2016-06-09|2016-07-09|\n",
      "|nuNWXAG/T41m2CTNT...|       2015-11-20|2015-12-20|\n",
      "|nuNWXAG/T41m2CTNT...|       2016-04-03|2016-05-03|\n",
      "|nuNWXAG/T41m2CTNT...|       2017-02-13|2017-03-15|\n",
      "+--------------------+-----------------+----------+\n",
      "only showing top 5 rows\n",
      "\n"
     ]
    }
   ],
   "source": [
    "from pyspark.sql.functions import when, col\n",
    "df1 = df0.select('msno',\n",
    "                 when(col('trans_date') < col('start_date'), col('trans_date')) \\\n",
    "                   .otherwise(col('start_date')) \\\n",
    "                   .alias('active_begin_date'),\n",
    "                 'exp_date'\n",
    "                )\n",
    "df1.show(5)"
   ]
  },
  {
   "cell_type": "code",
   "execution_count": null,
   "metadata": {},
   "outputs": [],
   "source": []
  },
  {
   "cell_type": "code",
   "execution_count": 30,
   "metadata": {},
   "outputs": [
    {
     "name": "stdout",
     "output_type": "stream",
     "text": [
      "+--------------------------------------------+---------------------+\n",
      "|msno                                        |period               |\n",
      "+--------------------------------------------+---------------------+\n",
      "|nuNWXAG/T41m2CTNT+WvM/m/Cg8zKaeC4xFvwfRzvPY=|2016-01-25_2016-02-24|\n",
      "|nuNWXAG/T41m2CTNT+WvM/m/Cg8zKaeC4xFvwfRzvPY=|2016-06-09_2016-07-09|\n",
      "|nuNWXAG/T41m2CTNT+WvM/m/Cg8zKaeC4xFvwfRzvPY=|2015-11-20_2015-12-20|\n",
      "|nuNWXAG/T41m2CTNT+WvM/m/Cg8zKaeC4xFvwfRzvPY=|2016-04-03_2016-05-03|\n",
      "|nuNWXAG/T41m2CTNT+WvM/m/Cg8zKaeC4xFvwfRzvPY=|2017-02-13_2017-03-15|\n",
      "+--------------------------------------------+---------------------+\n",
      "only showing top 5 rows\n",
      "\n"
     ]
    }
   ],
   "source": [
    "from pyspark.sql.functions import concat_ws, col\n",
    "df2 = df1.select('msno', \n",
    "                 concat_ws('_', col('active_begin_date').cast('string'), col('exp_date').cast('string')) \\\n",
    "                   .alias('period')\n",
    "                )\n",
    "df2.show(5, truncate=False)"
   ]
  },
  {
   "cell_type": "code",
   "execution_count": null,
   "metadata": {},
   "outputs": [],
   "source": []
  },
  {
   "cell_type": "code",
   "execution_count": 37,
   "metadata": {},
   "outputs": [],
   "source": [
    "from pyspark.sql.functions import concat_ws, collect_list\n",
    "df3 = df2.groupBy('msno') \\\n",
    "         .agg(concat_ws('|', collect_list('period')).alias('active_periods'))"
   ]
  },
  {
   "cell_type": "code",
   "execution_count": 38,
   "metadata": {},
   "outputs": [
    {
     "data": {
      "text/plain": [
       "[Row(msno='++7jKYbuIJPXry8Oh1NcEh9fCsqcQgUaaxXsgG15kMg=', active_periods='2016-03-12_2016-03-22'),\n",
       " Row(msno='+0RJtbyhoPAHPa+34MkYcE2Ox0cjMgJOTXMXVBYgkJE=', active_periods='2016-01-13_2017-02-27'),\n",
       " Row(msno='+3tRPOto/e58mdDA6oluFztHfwlqjJeNXb1vmYQjWfw=', active_periods='2016-01-18_2016-02-17'),\n",
       " Row(msno='+43UqHvqzu5STDVIuBLWryllqYYP4UrG9XyiajeGePk=', active_periods='2015-12-26_2017-02-28|2015-12-08_2017-01-19|2015-12-26_2017-01-29|2015-12-26_2017-02-18|2015-12-26_2017-02-08'),\n",
       " Row(msno='+4dMilwe46UsxpXXH0O7/mF3g+5fn4MAF2VTWPNzuoo=', active_periods='2016-03-05_2016-04-04')]"
      ]
     },
     "execution_count": 38,
     "metadata": {},
     "output_type": "execute_result"
    }
   ],
   "source": [
    "df3.rdd.take(5)"
   ]
  },
  {
   "cell_type": "code",
   "execution_count": 41,
   "metadata": {},
   "outputs": [],
   "source": [
    "outfile = dir0 + 'active_periods'\n",
    "df3.coalesce(1).write.format('csv').option('header','false').save(outfile)"
   ]
  },
  {
   "cell_type": "code",
   "execution_count": null,
   "metadata": {},
   "outputs": [],
   "source": []
  }
 ],
 "metadata": {
  "kernelspec": {
   "display_name": "Python 3",
   "language": "python",
   "name": "python3"
  },
  "language_info": {
   "codemirror_mode": {
    "name": "ipython",
    "version": 3
   },
   "file_extension": ".py",
   "mimetype": "text/x-python",
   "name": "python",
   "nbconvert_exporter": "python",
   "pygments_lexer": "ipython3",
   "version": "3.6.6"
  },
  "toc": {
   "base_numbering": 1,
   "nav_menu": {},
   "number_sections": true,
   "sideBar": true,
   "skip_h1_title": false,
   "title_cell": "Table of Contents",
   "title_sidebar": "Contents",
   "toc_cell": false,
   "toc_position": {},
   "toc_section_display": true,
   "toc_window_display": false
  }
 },
 "nbformat": 4,
 "nbformat_minor": 2
}
