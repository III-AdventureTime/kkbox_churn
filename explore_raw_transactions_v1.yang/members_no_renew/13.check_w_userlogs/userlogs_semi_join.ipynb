{
 "cells": [
  {
   "cell_type": "code",
   "execution_count": 1,
   "metadata": {},
   "outputs": [
    {
     "data": {
      "text/html": [
       "\n",
       "            <div>\n",
       "                <p><b>SparkSession - hive</b></p>\n",
       "                \n",
       "        <div>\n",
       "            <p><b>SparkContext</b></p>\n",
       "\n",
       "            <p><a href=\"http://master:4040\">Spark UI</a></p>\n",
       "\n",
       "            <dl>\n",
       "              <dt>Version</dt>\n",
       "                <dd><code>v2.3.0</code></dd>\n",
       "              <dt>Master</dt>\n",
       "                <dd><code>local[4]</code></dd>\n",
       "              <dt>AppName</dt>\n",
       "                <dd><code>PySparkShell</code></dd>\n",
       "            </dl>\n",
       "        </div>\n",
       "        \n",
       "            </div>\n",
       "        "
      ],
      "text/plain": [
       "<pyspark.sql.session.SparkSession at 0x7fbfbc0e40b8>"
      ]
     },
     "execution_count": 1,
     "metadata": {},
     "output_type": "execute_result"
    }
   ],
   "source": [
    "spark"
   ]
  },
  {
   "cell_type": "code",
   "execution_count": null,
   "metadata": {},
   "outputs": [],
   "source": []
  },
  {
   "cell_type": "code",
   "execution_count": null,
   "metadata": {},
   "outputs": [],
   "source": []
  },
  {
   "cell_type": "code",
   "execution_count": 2,
   "metadata": {},
   "outputs": [],
   "source": [
    "dir0 = 'file:///home/master/iii_projects_data/kkbox_churn/data01/from_raw_transactions_v1/'\n",
    "infile = dir0 + '2.member_active_gaps'\n",
    "df_ch = spark.read.format('csv').option('header','true').load(infile)"
   ]
  },
  {
   "cell_type": "code",
   "execution_count": 3,
   "metadata": {
    "scrolled": false
   },
   "outputs": [
    {
     "name": "stdout",
     "output_type": "stream",
     "text": [
      "+--------------------+----------------+----------------+--------------------+\n",
      "|                msno|first_start_date|last_expire_date|                gaps|\n",
      "+--------------------+----------------+----------------+--------------------+\n",
      "|vtuHZCvcO+OibfbNk...|      2016-09-03|      2016-09-09|                null|\n",
      "|vu7koC2MWxlAMYo+g...|      2016-11-24|      2016-12-01|                null|\n",
      "|vundw7zL1tN01QDnI...|      2016-02-29|      2016-11-04|2016-03-31_2016-0...|\n",
      "|vvBRkcEYT08xd3Otn...|      2016-12-29|      2017-03-17|2017-01-29_2017-0...|\n",
      "|vvY6i2UQ75e98bolx...|      2015-11-13|      2017-03-14|2015-12-14_2015-1...|\n",
      "|vvgDmw/rnJCxJecsd...|      2016-07-22|      2016-08-28|                null|\n",
      "|vvqgpktiwHD53MQ3D...|      2016-06-27|      2017-02-21|2016-08-03_2016-0...|\n",
      "|vwo5weKuiObhggZDS...|      2016-11-11|      2016-11-18|                null|\n",
      "|vyw0ta6jOWr4LT4ix...|      2015-11-21|      2017-03-05|2016-02-22_2016-0...|\n",
      "|vzPlNHVhPeUOLUfNb...|      2015-12-16|      2016-04-20|                null|\n",
      "+--------------------+----------------+----------------+--------------------+\n",
      "only showing top 10 rows\n",
      "\n"
     ]
    }
   ],
   "source": [
    "df_ch.show(10)"
   ]
  },
  {
   "cell_type": "code",
   "execution_count": null,
   "metadata": {},
   "outputs": [],
   "source": []
  },
  {
   "cell_type": "code",
   "execution_count": 21,
   "metadata": {},
   "outputs": [],
   "source": [
    "sectionNo = '04'"
   ]
  },
  {
   "cell_type": "code",
   "execution_count": 22,
   "metadata": {},
   "outputs": [],
   "source": [
    "infile = 'file:///home/master/yenWorkSpace/kkbox/kkbox_churn/kkbox_data/user_logs_split/'+sectionNo\n",
    "df_ul = spark.read.format('csv').option('header','false').load(infile)"
   ]
  },
  {
   "cell_type": "code",
   "execution_count": 23,
   "metadata": {},
   "outputs": [
    {
     "name": "stdout",
     "output_type": "stream",
     "text": [
      "+--------------------+--------+---+---+---+---+---+---+---------+\n",
      "|                 _c0|     _c1|_c2|_c3|_c4|_c5|_c6|_c7|      _c8|\n",
      "+--------------------+--------+---+---+---+---+---+---+---------+\n",
      "|MiE8nCT5pAhiBRiOD...|20150314|  0|  0|  0|  0|  3|  3| 783.8920|\n",
      "|YgP89u1TnJH7nvgjv...|20150226|  2|  0|  0|  1| 12| 14|3582.4390|\n",
      "|YgP89u1TnJH7nvgjv...|20150429|  0|  1|  1|  1| 10| 13|2964.9540|\n",
      "+--------------------+--------+---+---+---+---+---+---+---------+\n",
      "only showing top 3 rows\n",
      "\n"
     ]
    }
   ],
   "source": [
    "df_ul.show(3)"
   ]
  },
  {
   "cell_type": "code",
   "execution_count": 24,
   "metadata": {},
   "outputs": [],
   "source": [
    "# join\n",
    "df1 = df_ul.join(df_ch, df_ul['_c0']==df_ch['msno'], 'left_semi')"
   ]
  },
  {
   "cell_type": "code",
   "execution_count": 25,
   "metadata": {
    "scrolled": false
   },
   "outputs": [],
   "source": [
    "# output\n",
    "outfile = 'file:///home/master/iii_projects_data/kkbox_churn/data01/userlogs/members-no-renew-cl3/'+sectionNo\n",
    "df1.write.format('csv').option('header','false').save(outfile)"
   ]
  },
  {
   "cell_type": "code",
   "execution_count": null,
   "metadata": {},
   "outputs": [],
   "source": []
  }
 ],
 "metadata": {
  "kernelspec": {
   "display_name": "Python 3",
   "language": "python",
   "name": "python3"
  },
  "language_info": {
   "codemirror_mode": {
    "name": "ipython",
    "version": 3
   },
   "file_extension": ".py",
   "mimetype": "text/x-python",
   "name": "python",
   "nbconvert_exporter": "python",
   "pygments_lexer": "ipython3",
   "version": "3.6.4"
  }
 },
 "nbformat": 4,
 "nbformat_minor": 2
}
