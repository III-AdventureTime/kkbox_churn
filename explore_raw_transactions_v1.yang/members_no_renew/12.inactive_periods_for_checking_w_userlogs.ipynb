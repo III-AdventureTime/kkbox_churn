{
 "cells": [
  {
   "cell_type": "code",
   "execution_count": 1,
   "metadata": {},
   "outputs": [
    {
     "data": {
      "text/html": [
       "\n",
       "        <div>\n",
       "            <p><b>SparkContext</b></p>\n",
       "\n",
       "            <p><a href=\"http://10.120.27.99:4040\">Spark UI</a></p>\n",
       "\n",
       "            <dl>\n",
       "              <dt>Version</dt>\n",
       "                <dd><code>v2.2.1</code></dd>\n",
       "              <dt>Master</dt>\n",
       "                <dd><code>local[*]</code></dd>\n",
       "              <dt>AppName</dt>\n",
       "                <dd><code>PySparkShell</code></dd>\n",
       "            </dl>\n",
       "        </div>\n",
       "        "
      ],
      "text/plain": [
       "<SparkContext master=local[*] appName=PySparkShell>"
      ]
     },
     "execution_count": 1,
     "metadata": {},
     "output_type": "execute_result"
    }
   ],
   "source": [
    "sc"
   ]
  },
  {
   "cell_type": "code",
   "execution_count": 2,
   "metadata": {},
   "outputs": [],
   "source": [
    "dir0 = 'file:///home/cloudera/2.kkbox_churn/data01/'"
   ]
  },
  {
   "cell_type": "code",
   "execution_count": 4,
   "metadata": {},
   "outputs": [
    {
     "data": {
      "text/plain": [
       "['msno,first_start_date,last_expire_date,gaps',\n",
       " '++7jKYbuIJPXry8Oh1NcEh9fCsqcQgUaaxXsgG15kMg=,2016-03-12,2016-03-22,',\n",
       " '+0RJtbyhoPAHPa+34MkYcE2Ox0cjMgJOTXMXVBYgkJE=,2016-01-13,2017-02-27,',\n",
       " '+3tRPOto/e58mdDA6oluFztHfwlqjJeNXb1vmYQjWfw=,2016-01-18,2016-02-17,',\n",
       " '+43UqHvqzu5STDVIuBLWryllqYYP4UrG9XyiajeGePk=,2015-12-08,2017-02-28,']"
      ]
     },
     "execution_count": 4,
     "metadata": {},
     "output_type": "execute_result"
    }
   ],
   "source": [
    "infile = dir0 + '2.member_active_gaps'\n",
    "rdd0_ = sc.textFile(infile)\n",
    "rdd0_.take(5)"
   ]
  },
  {
   "cell_type": "code",
   "execution_count": 5,
   "metadata": {
    "scrolled": false
   },
   "outputs": [
    {
     "data": {
      "text/plain": [
       "['++7jKYbuIJPXry8Oh1NcEh9fCsqcQgUaaxXsgG15kMg=,2016-03-12,2016-03-22,',\n",
       " '+0RJtbyhoPAHPa+34MkYcE2Ox0cjMgJOTXMXVBYgkJE=,2016-01-13,2017-02-27,',\n",
       " '+3tRPOto/e58mdDA6oluFztHfwlqjJeNXb1vmYQjWfw=,2016-01-18,2016-02-17,',\n",
       " '+43UqHvqzu5STDVIuBLWryllqYYP4UrG9XyiajeGePk=,2015-12-08,2017-02-28,',\n",
       " '+4dMilwe46UsxpXXH0O7/mF3g+5fn4MAF2VTWPNzuoo=,2016-03-05,2016-04-04,']"
      ]
     },
     "execution_count": 5,
     "metadata": {},
     "output_type": "execute_result"
    }
   ],
   "source": [
    "rdd0 = rdd0_.filter(lambda line: not line.startswith('msno,'))\n",
    "rdd0.take(5)"
   ]
  },
  {
   "cell_type": "code",
   "execution_count": 13,
   "metadata": {},
   "outputs": [
    {
     "name": "stdout",
     "output_type": "stream",
     "text": [
      "649618\n"
     ]
    }
   ],
   "source": [
    "Nmem = rdd0.count()\n",
    "print(Nmem)"
   ]
  },
  {
   "cell_type": "code",
   "execution_count": null,
   "metadata": {},
   "outputs": [],
   "source": []
  },
  {
   "cell_type": "markdown",
   "metadata": {},
   "source": [
    "# ending gap\n",
    "(if last expiration date < 2017-02-28)"
   ]
  },
  {
   "cell_type": "code",
   "execution_count": 6,
   "metadata": {
    "scrolled": false
   },
   "outputs": [],
   "source": [
    "from datetime import datetime, timedelta\n",
    "\n",
    "def date_add_one(date_str):\n",
    "    d = datetime.strptime(date_str, '%Y-%m-%d') + timedelta(days = 1)\n",
    "    return d.strftime('%Y-%m-%d')\n",
    "\n",
    "def get_ending_gap(rec):\n",
    "    '''\n",
    "    Returns a list (either empty or containing 1 tuple).\n",
    "    '''\n",
    "    fields = rec.split(',')\n",
    "    \n",
    "    if fields[2] >= '2017-02-28':\n",
    "        return []\n",
    "    \n",
    "    begin = date_add_one(fields[2])\n",
    "    end = '2017-02-28'\n",
    "    return [(fields[0], begin+'_'+end)]"
   ]
  },
  {
   "cell_type": "code",
   "execution_count": 7,
   "metadata": {},
   "outputs": [
    {
     "data": {
      "text/plain": [
       "[('++7jKYbuIJPXry8Oh1NcEh9fCsqcQgUaaxXsgG15kMg=', '2016-03-23_2017-02-28'),\n",
       " ('+0RJtbyhoPAHPa+34MkYcE2Ox0cjMgJOTXMXVBYgkJE=', '2017-02-28_2017-02-28'),\n",
       " ('+3tRPOto/e58mdDA6oluFztHfwlqjJeNXb1vmYQjWfw=', '2016-02-18_2017-02-28'),\n",
       " ('+4dMilwe46UsxpXXH0O7/mF3g+5fn4MAF2VTWPNzuoo=', '2016-04-05_2017-02-28'),\n",
       " ('+5p5fm9oHH8ukkNG1b+wuhWKCM6Ykmk2sRZnQ6MKwoA=', '2016-07-09_2017-02-28')]"
      ]
     },
     "execution_count": 7,
     "metadata": {},
     "output_type": "execute_result"
    }
   ],
   "source": [
    "rdd_ending_gap = rdd0.flatMap(get_ending_gap)\n",
    "rdd_ending_gap.take(5)"
   ]
  },
  {
   "cell_type": "code",
   "execution_count": 20,
   "metadata": {},
   "outputs": [
    {
     "data": {
      "text/plain": [
       "542913"
      ]
     },
     "execution_count": 20,
     "metadata": {},
     "output_type": "execute_result"
    }
   ],
   "source": [
    "rdd_ending_gap.count()"
   ]
  },
  {
   "cell_type": "code",
   "execution_count": null,
   "metadata": {},
   "outputs": [],
   "source": []
  },
  {
   "cell_type": "markdown",
   "metadata": {},
   "source": [
    "# middle gaps"
   ]
  },
  {
   "cell_type": "code",
   "execution_count": 25,
   "metadata": {},
   "outputs": [
    {
     "data": {
      "text/plain": [
       "['+R423gwTlAs/eYBATR7PO6ZNh7moqhzA8xdDycFoBzA=,2016-11-08,2017-03-23,2016-11-16_2016-11-21|2017-01-23_2017-02-20']"
      ]
     },
     "execution_count": 25,
     "metadata": {},
     "output_type": "execute_result"
    }
   ],
   "source": [
    "rdd0.filter(lambda rec: len(rec)>90).take(1)"
   ]
  },
  {
   "cell_type": "code",
   "execution_count": 8,
   "metadata": {},
   "outputs": [],
   "source": [
    "def get_middle_gaps(rec):\n",
    "    '''\n",
    "    Returns a list.\n",
    "    '''\n",
    "    fields = rec.split(',')\n",
    "    if len(fields[3]) == 0:\n",
    "        return []\n",
    "    \n",
    "    # fields[3] is like '2016-11-16_2016-11-21|2017-01-23_2017-02-20'\n",
    "    \n",
    "    result = []\n",
    "    gaps = fields[3].split('|')\n",
    "    for gap in gaps:\n",
    "        # `gap` is like '2016-11-16_2016-11-21'\n",
    "        result.append((fields[0], gap))\n",
    "        \n",
    "    return result"
   ]
  },
  {
   "cell_type": "code",
   "execution_count": 9,
   "metadata": {},
   "outputs": [
    {
     "data": {
      "text/plain": [
       "[('+BauTESekzh7dOwBqraMw7OFo8WDD5nSCx5lRV3+f20=', '2016-03-24_2016-03-25'),\n",
       " ('+MjSIVqd6qvlkKaP36fgvZYpm7Ohuxdu6Adpu/1AltE=', '2016-01-08_2016-02-04'),\n",
       " ('+R423gwTlAs/eYBATR7PO6ZNh7moqhzA8xdDycFoBzA=', '2016-11-16_2016-11-21'),\n",
       " ('+R423gwTlAs/eYBATR7PO6ZNh7moqhzA8xdDycFoBzA=', '2017-01-23_2017-02-20'),\n",
       " ('+Ub6MOxsZzLGHQY7PboV2+WynMkYNw4EMb/6OBm1hAI=', '2016-07-22_2016-07-30'),\n",
       " ('+Vzca1ck/BX03oBYaZ6itKg0TRbjlTguSvBSoklmQdM=', '2016-01-18_2016-01-18'),\n",
       " ('+Vzca1ck/BX03oBYaZ6itKg0TRbjlTguSvBSoklmQdM=', '2016-02-19_2016-02-19'),\n",
       " ('+Vzca1ck/BX03oBYaZ6itKg0TRbjlTguSvBSoklmQdM=', '2016-04-21_2016-04-23'),\n",
       " ('+Vzca1ck/BX03oBYaZ6itKg0TRbjlTguSvBSoklmQdM=', '2016-06-25_2016-06-25'),\n",
       " ('+Vzca1ck/BX03oBYaZ6itKg0TRbjlTguSvBSoklmQdM=', '2016-07-27_2016-07-28')]"
      ]
     },
     "execution_count": 9,
     "metadata": {},
     "output_type": "execute_result"
    }
   ],
   "source": [
    "rdd_mid_gaps = rdd0.flatMap(get_middle_gaps)\n",
    "rdd_mid_gaps.take(10)"
   ]
  },
  {
   "cell_type": "code",
   "execution_count": null,
   "metadata": {},
   "outputs": [],
   "source": []
  },
  {
   "cell_type": "markdown",
   "metadata": {},
   "source": [
    "# union"
   ]
  },
  {
   "cell_type": "code",
   "execution_count": 10,
   "metadata": {},
   "outputs": [],
   "source": [
    "rdd_all_gaps = rdd_mid_gaps.union(rdd_ending_gap)"
   ]
  },
  {
   "cell_type": "code",
   "execution_count": 32,
   "metadata": {},
   "outputs": [
    {
     "data": {
      "text/plain": [
       "1168448"
      ]
     },
     "execution_count": 32,
     "metadata": {},
     "output_type": "execute_result"
    }
   ],
   "source": [
    "rdd_all_gaps.count()"
   ]
  },
  {
   "cell_type": "code",
   "execution_count": null,
   "metadata": {},
   "outputs": [],
   "source": []
  },
  {
   "cell_type": "markdown",
   "metadata": {},
   "source": [
    "# convert date to integer"
   ]
  },
  {
   "cell_type": "code",
   "execution_count": 28,
   "metadata": {},
   "outputs": [
    {
     "data": {
      "text/plain": [
       "[('+BauTESekzh7dOwBqraMw7OFo8WDD5nSCx5lRV3+f20=', '2016-03-24_2016-03-25'),\n",
       " ('+MjSIVqd6qvlkKaP36fgvZYpm7Ohuxdu6Adpu/1AltE=', '2016-01-08_2016-02-04'),\n",
       " ('+R423gwTlAs/eYBATR7PO6ZNh7moqhzA8xdDycFoBzA=', '2016-11-16_2016-11-21')]"
      ]
     },
     "execution_count": 28,
     "metadata": {},
     "output_type": "execute_result"
    }
   ],
   "source": [
    "rdd_all_gaps.take(3)"
   ]
  },
  {
   "cell_type": "code",
   "execution_count": 29,
   "metadata": {},
   "outputs": [],
   "source": [
    "from datetime import datetime\n",
    "\n",
    "date0 = datetime(2015, 11, 1)\n",
    "\n",
    "def date_to_int(date_str):\n",
    "    global date0\n",
    "    d = datetime.strptime(date_str, '%Y-%m-%d')\n",
    "    return (d - date0).days\n",
    "\n",
    "def gap_shorten(gap_str):\n",
    "    # gap_str is like '2016-03-24_2016-03-25'\n",
    "    begin_end = gap_str.split('_')\n",
    "    return str(date_to_int(begin_end[0]))+'-'+str(date_to_int(begin_end[1]))"
   ]
  },
  {
   "cell_type": "code",
   "execution_count": 31,
   "metadata": {},
   "outputs": [
    {
     "data": {
      "text/plain": [
       "[('+BauTESekzh7dOwBqraMw7OFo8WDD5nSCx5lRV3+f20=', '144-145'),\n",
       " ('+MjSIVqd6qvlkKaP36fgvZYpm7Ohuxdu6Adpu/1AltE=', '68-95'),\n",
       " ('+R423gwTlAs/eYBATR7PO6ZNh7moqhzA8xdDycFoBzA=', '381-386')]"
      ]
     },
     "execution_count": 31,
     "metadata": {},
     "output_type": "execute_result"
    }
   ],
   "source": [
    "rdd_all_gaps_1 = rdd_all_gaps.map(lambda rec: (rec[0], gap_shorten(rec[1])))\n",
    "rdd_all_gaps_1.take(3)"
   ]
  },
  {
   "cell_type": "markdown",
   "metadata": {},
   "source": [
    "# group by member"
   ]
  },
  {
   "cell_type": "code",
   "execution_count": 35,
   "metadata": {},
   "outputs": [
    {
     "name": "stdout",
     "output_type": "stream",
     "text": [
      "+--------------------+-------+\n",
      "|                msno|    gap|\n",
      "+--------------------+-------+\n",
      "|+BauTESekzh7dOwBq...|144-145|\n",
      "|+MjSIVqd6qvlkKaP3...|  68-95|\n",
      "|+R423gwTlAs/eYBAT...|381-386|\n",
      "|+R423gwTlAs/eYBAT...|449-477|\n",
      "|+Ub6MOxsZzLGHQY7P...|264-272|\n",
      "+--------------------+-------+\n",
      "only showing top 5 rows\n",
      "\n"
     ]
    }
   ],
   "source": [
    "from pyspark.sql import Row\n",
    "df2 = rdd_all_gaps_1.toDF() \\\n",
    "        .selectExpr('_1 AS msno', '_2 AS gap')\n",
    "df2.show(5)"
   ]
  },
  {
   "cell_type": "code",
   "execution_count": 37,
   "metadata": {},
   "outputs": [
    {
     "name": "stdout",
     "output_type": "stream",
     "text": [
      "+--------------------+---------------+\n",
      "|                msno|           gaps|\n",
      "+--------------------+---------------+\n",
      "|++7jKYbuIJPXry8Oh...|        143-485|\n",
      "|+0RJtbyhoPAHPa+34...|        485-485|\n",
      "|+3tRPOto/e58mdDA6...|        109-485|\n",
      "|+4dMilwe46UsxpXXH...|        156-485|\n",
      "|+5p5fm9oHH8ukkNG1...|        251-485|\n",
      "|+7LsJK3q0POdtDWvw...|        244-485|\n",
      "|+7f07tkg6Q6sPq1MX...|        390-485|\n",
      "|+8suRKxAwKNflQAfd...|        378-485|\n",
      "|+98dadrcy1re8eJQo...|        366-485|\n",
      "|+9X+kOvArYU6AYtdY...|        386-485|\n",
      "|+BEFhhOsyuiTg14Kq...|         44-485|\n",
      "|+BauTESekzh7dOwBq...|177-485|144-145|\n",
      "|+CP9ZYRo9JnR0ICPZ...|        385-485|\n",
      "|+CbFktd/ap/Zxkfla...|        399-485|\n",
      "|+J87iIu2aFd2ZXf6g...|        243-485|\n",
      "|+JUv12RygY6bgv4Vo...|        398-485|\n",
      "|+JnhJcr4oD5Z0kX3E...|         32-485|\n",
      "|+KOCWQtfYg/AzdZxZ...|        395-485|\n",
      "|+KeVLXI9EeGG/mPEi...|        121-485|\n",
      "|+MjSIVqd6qvlkKaP3...|  107-485|68-95|\n",
      "|+NaRi/wkOw9wtDFHM...|        351-485|\n",
      "|+PSMpTcFNjoswdFWH...|        120-485|\n",
      "|+QWX04qIeP5V7H5UU...|        314-485|\n",
      "|+R423gwTlAs/eYBAT...|381-386|449-477|\n",
      "|+Rg9pW0gbfTyn5QkE...|        393-485|\n",
      "+--------------------+---------------+\n",
      "only showing top 25 rows\n",
      "\n"
     ]
    }
   ],
   "source": [
    "from pyspark.sql.functions import col, concat_ws, collect_list\n",
    "\n",
    "df3 = df2.groupBy('msno') \\\n",
    "         .agg(concat_ws('|', collect_list('gap')).alias('gaps'))\n",
    "df3.show(25)"
   ]
  },
  {
   "cell_type": "markdown",
   "metadata": {},
   "source": [
    "# output"
   ]
  },
  {
   "cell_type": "code",
   "execution_count": 38,
   "metadata": {},
   "outputs": [],
   "source": [
    "outfile = dir0 + '3.member_inactive-periods_for_check-w-userlogs'\n",
    "df3.coalesce(1).write.format('csv').option('header', 'true').save(outfile)"
   ]
  },
  {
   "cell_type": "code",
   "execution_count": null,
   "metadata": {},
   "outputs": [],
   "source": []
  },
  {
   "cell_type": "code",
   "execution_count": null,
   "metadata": {},
   "outputs": [],
   "source": []
  },
  {
   "cell_type": "code",
   "execution_count": null,
   "metadata": {},
   "outputs": [],
   "source": []
  }
 ],
 "metadata": {
  "kernelspec": {
   "display_name": "Python 3",
   "language": "python",
   "name": "python3"
  },
  "language_info": {
   "codemirror_mode": {
    "name": "ipython",
    "version": 3
   },
   "file_extension": ".py",
   "mimetype": "text/x-python",
   "name": "python",
   "nbconvert_exporter": "python",
   "pygments_lexer": "ipython3",
   "version": "3.6.6"
  },
  "toc": {
   "base_numbering": 1,
   "nav_menu": {},
   "number_sections": true,
   "sideBar": true,
   "skip_h1_title": false,
   "title_cell": "Table of Contents",
   "title_sidebar": "Contents",
   "toc_cell": false,
   "toc_position": {},
   "toc_section_display": true,
   "toc_window_display": false
  }
 },
 "nbformat": 4,
 "nbformat_minor": 2
}
