{
 "cells": [
  {
   "cell_type": "code",
   "execution_count": 1,
   "metadata": {},
   "outputs": [
    {
     "data": {
      "text/html": [
       "\n",
       "            <div>\n",
       "                <p><b>SparkSession - hive</b></p>\n",
       "                \n",
       "        <div>\n",
       "            <p><b>SparkContext</b></p>\n",
       "\n",
       "            <p><a href=\"http://10.120.27.99:4040\">Spark UI</a></p>\n",
       "\n",
       "            <dl>\n",
       "              <dt>Version</dt>\n",
       "                <dd><code>v2.2.1</code></dd>\n",
       "              <dt>Master</dt>\n",
       "                <dd><code>local[*]</code></dd>\n",
       "              <dt>AppName</dt>\n",
       "                <dd><code>PySparkShell</code></dd>\n",
       "            </dl>\n",
       "        </div>\n",
       "        \n",
       "            </div>\n",
       "        "
      ],
      "text/plain": [
       "<pyspark.sql.session.SparkSession at 0x7fb1481ce390>"
      ]
     },
     "execution_count": 1,
     "metadata": {},
     "output_type": "execute_result"
    }
   ],
   "source": [
    "spark "
   ]
  },
  {
   "cell_type": "code",
   "execution_count": 2,
   "metadata": {},
   "outputs": [
    {
     "name": "stdout",
     "output_type": "stream",
     "text": [
      "root\n",
      " |-- msno: string (nullable = true)\n",
      " |-- payment_method: integer (nullable = true)\n",
      " |-- plan_days: integer (nullable = true)\n",
      " |-- list_price: integer (nullable = true)\n",
      " |-- actual_paid: integer (nullable = true)\n",
      " |-- is_auto_renew: integer (nullable = true)\n",
      " |-- trans_date: integer (nullable = true)\n",
      " |-- exp_date: integer (nullable = true)\n",
      " |-- is_cancel: integer (nullable = true)\n",
      "\n"
     ]
    }
   ],
   "source": [
    "dir0 = 'file:///home/cloudera/Desktop/KKBox_churn_predict/data01/'\n",
    "df0_ = spark.read.format('csv').option('header', 'true').option('inferSchema', 'true') \\\n",
    "            .load(dir0+'transactions-v1_members-no-renew.csv')\n",
    "df0_.printSchema()"
   ]
  },
  {
   "cell_type": "code",
   "execution_count": 7,
   "metadata": {},
   "outputs": [
    {
     "data": {
      "text/plain": [
       "0"
      ]
     },
     "execution_count": 7,
     "metadata": {},
     "output_type": "execute_result"
    }
   ],
   "source": [
    "# check\n",
    "df0_.where('is_auto_renew != 0').count()  # should be 0"
   ]
  },
  {
   "cell_type": "code",
   "execution_count": 8,
   "metadata": {},
   "outputs": [
    {
     "data": {
      "text/plain": [
       "0"
      ]
     },
     "execution_count": 8,
     "metadata": {},
     "output_type": "execute_result"
    }
   ],
   "source": [
    "df0_.where('is_cancel != 0').count()  # should be 0"
   ]
  },
  {
   "cell_type": "code",
   "execution_count": 3,
   "metadata": {},
   "outputs": [
    {
     "name": "stdout",
     "output_type": "stream",
     "text": [
      "+--------------------+--------------+---------+----------+-----------+----------+--------+\n",
      "|                msno|payment_method|plan_days|list_price|actual_paid|trans_date|exp_date|\n",
      "+--------------------+--------------+---------+----------+-----------+----------+--------+\n",
      "|++XNdJjfGpF5k/o25...|            38|       30|       149|        149|  20151107|20151207|\n",
      "|++XNdJjfGpF5k/o25...|            38|       90|       447|        447|  20160104|20160403|\n",
      "|++wYPELMJ2byTXrC7...|            38|      360|      1200|       1200|  20160205|20170130|\n",
      "+--------------------+--------------+---------+----------+-----------+----------+--------+\n",
      "only showing top 3 rows\n",
      "\n"
     ]
    }
   ],
   "source": [
    "df0 = df0_.drop('is_auto_renew').drop('is_cancel')\n",
    "df0.show(3)"
   ]
  },
  {
   "cell_type": "markdown",
   "metadata": {},
   "source": [
    "# plan_days"
   ]
  },
  {
   "cell_type": "code",
   "execution_count": 9,
   "metadata": {},
   "outputs": [
    {
     "name": "stdout",
     "output_type": "stream",
     "text": [
      "+---------+-------+\n",
      "|plan_days|  count|\n",
      "+---------+-------+\n",
      "|        1|    795|\n",
      "|        2|     53|\n",
      "|        3|     40|\n",
      "|        7| 354203|\n",
      "|       10|  34266|\n",
      "|       14|    724|\n",
      "|       15|      5|\n",
      "|       21|    156|\n",
      "|       30|1279481|\n",
      "|       35|    681|\n",
      "|       45|   1080|\n",
      "|       60|   4465|\n",
      "|       66|    147|\n",
      "|       70|    285|\n",
      "|       80|    172|\n",
      "|       90|   4929|\n",
      "|       99|    273|\n",
      "|      100|  17158|\n",
      "|      110|    137|\n",
      "|      120|   9321|\n",
      "|      180|  27514|\n",
      "|      195|  51653|\n",
      "|      200|   3758|\n",
      "|      230|     38|\n",
      "|      240|   1016|\n",
      "|      270|     60|\n",
      "|      360|   2761|\n",
      "|      365|    139|\n",
      "|      395|   3047|\n",
      "|      400|    953|\n",
      "|      410|  21613|\n",
      "|      415|      1|\n",
      "|      450|    218|\n",
      "+---------+-------+\n",
      "\n"
     ]
    }
   ],
   "source": [
    "df1 = df0.groupBy('plan_days').count() \\\n",
    "      .sort('plan_days')\n",
    "df1.show(40)"
   ]
  },
  {
   "cell_type": "markdown",
   "metadata": {},
   "source": [
    "## plan_days vs trans_date"
   ]
  },
  {
   "cell_type": "code",
   "execution_count": 4,
   "metadata": {},
   "outputs": [],
   "source": [
    "from pyspark.sql.functions import count, max, min\n",
    "df1 = df0.groupBy('plan_days') \\\n",
    "        .agg(count(\"*\").alias('count'), \n",
    "             min('trans_date').alias('min_trans_date'),\n",
    "             max('trans_date').alias('max_trans_date')\n",
    "            ) \\\n",
    "        .sort('plan_days')"
   ]
  },
  {
   "cell_type": "code",
   "execution_count": 5,
   "metadata": {},
   "outputs": [
    {
     "name": "stdout",
     "output_type": "stream",
     "text": [
      "+---------+-------+--------------+--------------+\n",
      "|plan_days|  count|min_trans_date|max_trans_date|\n",
      "+---------+-------+--------------+--------------+\n",
      "|        1|    795|      20151102|      20170228|\n",
      "|        2|     53|      20151103|      20170126|\n",
      "|        3|     40|      20151114|      20170224|\n",
      "|        7| 354203|      20151101|      20170228|\n",
      "|       10|  34266|      20151101|      20170228|\n",
      "|       14|    724|      20151116|      20170105|\n",
      "|       15|      5|      20151112|      20151228|\n",
      "|       21|    156|      20151101|      20170114|\n",
      "|       30|1279481|      20151101|      20170228|\n",
      "|       35|    681|      20151215|      20161123|\n",
      "|       45|   1080|      20170124|      20170206|\n",
      "|       60|   4465|      20151101|      20170228|\n",
      "|       66|    147|      20160531|      20160708|\n",
      "|       70|    285|      20151102|      20170117|\n",
      "|       80|    172|      20151105|      20170108|\n",
      "|       90|   4929|      20151101|      20161231|\n",
      "|       99|    273|      20160202|      20160921|\n",
      "|      100|  17158|      20151101|      20161221|\n",
      "|      110|    137|      20161108|      20161201|\n",
      "|      120|   9321|      20151114|      20170228|\n",
      "|      180|  27514|      20151101|      20170221|\n",
      "|      195|  51653|      20151101|      20170228|\n",
      "|      200|   3758|      20151101|      20160912|\n",
      "|      230|     38|      20151105|      20160811|\n",
      "|      240|   1016|      20170110|      20170228|\n",
      "|      270|     60|      20160602|      20161220|\n",
      "|      360|   2761|      20151101|      20160405|\n",
      "|      365|    139|      20151101|      20160327|\n",
      "|      395|   3047|      20151101|      20170228|\n",
      "|      400|    953|      20151101|      20160224|\n",
      "|      410|  21613|      20151101|      20170228|\n",
      "|      415|      1|      20161219|      20161219|\n",
      "|      450|    218|      20151101|      20160106|\n",
      "+---------+-------+--------------+--------------+\n",
      "\n"
     ]
    }
   ],
   "source": [
    "df1.show(40)"
   ]
  },
  {
   "cell_type": "code",
   "execution_count": 5,
   "metadata": {},
   "outputs": [],
   "source": [
    "def month_No_since_201501(date_int):\n",
    "    '''returns an integer'''\n",
    "    ym = date_int // 100\n",
    "    yr = ym // 100\n",
    "    mn = ym % 100\n",
    "    return (yr - 2015)*12 + mn\n",
    "\n",
    "from pyspark.sql.functions import udf\n",
    "from pyspark.sql.types import IntegerType\n",
    "get_month_No = udf(month_No_since_201501, IntegerType())"
   ]
  },
  {
   "cell_type": "code",
   "execution_count": 6,
   "metadata": {},
   "outputs": [],
   "source": [
    "from pyspark.sql.functions import col\n",
    "df2 = df1.withColumn('min_trans_date_mno', get_month_No('min_trans_date')) \\\n",
    "         .withColumn('max_trans_date_mno', get_month_No('max_trans_date'))"
   ]
  },
  {
   "cell_type": "code",
   "execution_count": 17,
   "metadata": {},
   "outputs": [
    {
     "name": "stdout",
     "output_type": "stream",
     "text": [
      "+---------+-----+--------------+--------------+------------------+------------------+\n",
      "|plan_days|count|min_trans_date|max_trans_date|min_trans_date_mno|max_trans_date_mno|\n",
      "+---------+-----+--------------+--------------+------------------+------------------+\n",
      "|        1|  795|      20151102|      20170228|                11|                26|\n",
      "|        2|   53|      20151103|      20170126|                11|                25|\n",
      "|        3|   40|      20151114|      20170224|                11|                26|\n",
      "+---------+-----+--------------+--------------+------------------+------------------+\n",
      "only showing top 3 rows\n",
      "\n"
     ]
    }
   ],
   "source": [
    "df2.show(3)"
   ]
  },
  {
   "cell_type": "code",
   "execution_count": 12,
   "metadata": {},
   "outputs": [
    {
     "data": {
      "text/plain": [
       "<matplotlib.axes._subplots.AxesSubplot at 0x7f100ba12fd0>"
      ]
     },
     "execution_count": 12,
     "metadata": {},
     "output_type": "execute_result"
    },
    {
     "data": {
      "image/png": "[encoded data removed]",
      "text/plain": [
       "<Figure size 720x216 with 1 Axes>"
      ]
     },
     "metadata": {},
     "output_type": "display_data"
    }
   ],
   "source": [
    "import pandas as pd\n",
    "import matplotlib.pyplot as plt\n",
    "\n",
    "df2.select('plan_days', 'min_trans_date_mno', 'max_trans_date_mno') \\\n",
    "   .toPandas().set_index('plan_days').plot(kind='bar', figsize=(10,3), ylim=(10,27), legend=False)"
   ]
  },
  {
   "cell_type": "markdown",
   "metadata": {},
   "source": [
    "# exp_date < 2015/01/01"
   ]
  },
  {
   "cell_type": "code",
   "execution_count": 11,
   "metadata": {},
   "outputs": [
    {
     "name": "stdout",
     "output_type": "stream",
     "text": [
      "+--------------------------------------------+--------------+---------+----------+-----------+----------+--------+\n",
      "|msno                                        |payment_method|plan_days|list_price|actual_paid|trans_date|exp_date|\n",
      "+--------------------------------------------+--------------+---------+----------+-----------+----------+--------+\n",
      "|5dHiSSughrDxCvIFOnwdGyj464eDbw1kj0z5ULaTZL4=|17            |60       |0         |0          |20170125  |19700101|\n",
      "|L9htK0C5G++25W9s8JHXnlBwidGhkavYB47KLHZUl28=|17            |240      |0         |0          |20170201  |19700101|\n",
      "|Ojkvmk0tNkDQUAWk2mWlSw4xwZro/Qcs0CXo26q6x/Q=|17            |120      |0         |0          |20170126  |19700101|\n",
      "|PIKH3Ge8L+SBli3F3HvwVd9yd/ElW7W8FHtoEh44umA=|17            |60       |0         |0          |20170114  |19700101|\n",
      "|ZXHk5Lkam9yZadqJEf6XIlST8FJbGMsmKtGPidcoLXc=|17            |60       |0         |0          |20170116  |19700101|\n",
      "|fneCqCp7sETBlpOVE3HKP7bD6QRayxaNlM7KMr3as7U=|17            |60       |0         |0          |20170201  |19700101|\n",
      "|7YopK8CScCReTZAenlWj0B6B0wr8bLznBwImsAe/Cw8=|17            |120      |0         |0          |20170121  |19700101|\n",
      "|IaGGS1gEZcqfpJKmnRFmlZvPagHL/Cs2A1ZqLsOzCI8=|17            |60       |0         |0          |20170122  |19700101|\n",
      "|oWjanGP1dTSShjeuD5m8yIIaQozmLpzMPAtAzrBlTRw=|17            |60       |0         |0          |20170125  |19700101|\n",
      "|obIt445mFd6RNq/GjHOQpv8GKuMlpdCNgy6x5BRSAGU=|17            |60       |0         |0          |20170114  |19700101|\n",
      "+--------------------------------------------+--------------+---------+----------+-----------+----------+--------+\n",
      "only showing top 10 rows\n",
      "\n"
     ]
    }
   ],
   "source": [
    "df0.where('exp_date < 20150101').show(10, truncate=False)"
   ]
  },
  {
   "cell_type": "code",
   "execution_count": 18,
   "metadata": {},
   "outputs": [
    {
     "name": "stdout",
     "output_type": "stream",
     "text": [
      "+--------------------+--------------+---------+----------+-----------+----------+--------+\n",
      "|                msno|payment_method|plan_days|list_price|actual_paid|trans_date|exp_date|\n",
      "+--------------------+--------------+---------+----------+-----------+----------+--------+\n",
      "|49YbfSUKgdPqgBNjH...|            38|       30|       149|        149|  20161012|20161111|\n",
      "|49YbfSUKgdPqgBNjH...|            35|        7|         0|          0|  20160827|20160901|\n",
      "|49YbfSUKgdPqgBNjH...|            38|       30|       149|        149|  20161113|20161213|\n",
      "|49YbfSUKgdPqgBNjH...|            13|      410|      1788|       1788|  20161219|19700101|\n",
      "+--------------------+--------------+---------+----------+-----------+----------+--------+\n",
      "\n"
     ]
    }
   ],
   "source": [
    "from pyspark.sql.functions import col\n",
    "df0.where(col('msno') == '49YbfSUKgdPqgBNjH++mlFkwNYGF02njbHdwZorvhCA=').show()"
   ]
  },
  {
   "cell_type": "code",
   "execution_count": 10,
   "metadata": {},
   "outputs": [
    {
     "name": "stdout",
     "output_type": "stream",
     "text": [
      "+--------+-----+\n",
      "|exp_date|count|\n",
      "+--------+-----+\n",
      "|19700101| 1425|\n",
      "+--------+-----+\n",
      "\n"
     ]
    }
   ],
   "source": [
    "df0.where('exp_date < 20150101') \\\n",
    "   .groupBy('exp_date').count().show()"
   ]
  },
  {
   "cell_type": "code",
   "execution_count": 14,
   "metadata": {},
   "outputs": [
    {
     "name": "stdout",
     "output_type": "stream",
     "text": [
      "+----------+-----------+-----+\n",
      "|list_price|actual_paid|count|\n",
      "+----------+-----------+-----+\n",
      "|         0|          0| 1423|\n",
      "|       894|        894|    1|\n",
      "|      1788|       1788|    1|\n",
      "+----------+-----------+-----+\n",
      "\n"
     ]
    }
   ],
   "source": [
    "df0.where('exp_date < 20150101') \\\n",
    "   .groupBy('list_price', 'actual_paid').count().show()"
   ]
  },
  {
   "cell_type": "code",
   "execution_count": 16,
   "metadata": {},
   "outputs": [
    {
     "name": "stdout",
     "output_type": "stream",
     "text": [
      "+--------------+-----+\n",
      "|payment_method|count|\n",
      "+--------------+-----+\n",
      "|            13|    2|\n",
      "|            17| 1422|\n",
      "|            35|    1|\n",
      "+--------------+-----+\n",
      "\n"
     ]
    }
   ],
   "source": [
    "df0.where('exp_date < 20150101') \\\n",
    "   .groupBy('payment_method').count().show()"
   ]
  },
  {
   "cell_type": "markdown",
   "metadata": {},
   "source": [
    "* All the records with `exp_date` < 2015-01-01 have `exp_date` = 1970-01-01.\n",
    "* All (except 2) of the records with `exp_date` < 2015-01-01 have `list_price` = `actual_paid` = 0.\n",
    "* All (except 3) of the records with `exp_date` < 2015-01-01 have `payment_method` = 17."
   ]
  },
  {
   "cell_type": "code",
   "execution_count": 19,
   "metadata": {},
   "outputs": [
    {
     "data": {
      "text/plain": [
       "1425"
      ]
     },
     "execution_count": 19,
     "metadata": {},
     "output_type": "execute_result"
    }
   ],
   "source": [
    "df0.where('exp_date < 20150101').count()"
   ]
  },
  {
   "cell_type": "code",
   "execution_count": 20,
   "metadata": {},
   "outputs": [
    {
     "data": {
      "text/plain": [
       "1425"
      ]
     },
     "execution_count": 20,
     "metadata": {},
     "output_type": "execute_result"
    }
   ],
   "source": [
    "df0.where('exp_date < 20150101').groupBy('msno').count().count()"
   ]
  },
  {
   "cell_type": "markdown",
   "metadata": {},
   "source": [
    "* There are 1425 records with `exp_date` < 20150101.\n",
    "* There are 1425 members who have records with `exp_date` < 20150101."
   ]
  },
  {
   "cell_type": "code",
   "execution_count": 24,
   "metadata": {},
   "outputs": [
    {
     "data": {
      "text/plain": [
       "4279"
      ]
     },
     "execution_count": 24,
     "metadata": {},
     "output_type": "execute_result"
    }
   ],
   "source": [
    "df1 = df0.where('exp_date < 20150101').groupBy('msno').count()\n",
    "df2 = df0.join(df1, df0['msno']==df1['msno'], 'left_semi') \\\n",
    "         .sort('msno', 'trans_date') \\\n",
    "         .persist()\n",
    "df2.count()"
   ]
  },
  {
   "cell_type": "code",
   "execution_count": 26,
   "metadata": {},
   "outputs": [
    {
     "name": "stdout",
     "output_type": "stream",
     "text": [
      "+--------------------+--------------+---------+----------+-----------+----------+--------+\n",
      "|                msno|payment_method|plan_days|list_price|actual_paid|trans_date|exp_date|\n",
      "+--------------------+--------------+---------+----------+-----------+----------+--------+\n",
      "|+7/gCRCtmTgzCPPG9...|            17|      120|         0|          0|  20170124|19700101|\n",
      "|+7nq1DxnuoR4OyHv2...|            17|       60|         0|          0|  20170203|19700101|\n",
      "|+8Ic+Vu/CfF0I6AJr...|            17|       60|         0|          0|  20170117|19700101|\n",
      "|+ANjTMesjelS+V6Hr...|            38|       30|       149|        149|  20151119|20151219|\n",
      "|+ANjTMesjelS+V6Hr...|            38|      195|       894|        894|  20151225|20160707|\n",
      "|+ANjTMesjelS+V6Hr...|            38|      195|       894|        894|  20160707|20170118|\n",
      "|+ANjTMesjelS+V6Hr...|            17|      240|         0|          0|  20170119|19700101|\n",
      "|+D8fDi3V7uzRdyz4e...|            35|        7|         0|          0|  20161023|20161030|\n",
      "|+D8fDi3V7uzRdyz4e...|            17|       60|         0|          0|  20170125|19700101|\n",
      "|+FsI/t6m9+yVmODq3...|            17|       60|         0|          0|  20170126|19700101|\n",
      "+--------------------+--------------+---------+----------+-----------+----------+--------+\n",
      "only showing top 10 rows\n",
      "\n"
     ]
    }
   ],
   "source": [
    "df2.show(10)\n",
    "\n",
    "# The records of the members who have exp_date < 20150101."
   ]
  },
  {
   "cell_type": "code",
   "execution_count": 34,
   "metadata": {},
   "outputs": [
    {
     "name": "stdout",
     "output_type": "stream",
     "text": [
      "+--------------------+-------------+\n",
      "|                msno|last_exp_date|\n",
      "+--------------------+-------------+\n",
      "|/hpvi2XXLNnTotiDH...|     19700101|\n",
      "|3ygaUVqXvMCv6OPAB...|     20170301|\n",
      "|4mPcJNqnIWrDXqapc...|     19700101|\n",
      "|S5iQ0NdUpAqFAQ8s8...|     20170320|\n",
      "|SjTMD4QAH/QncTR83...|     19700101|\n",
      "|Tv6Hzs4tkgBaeAj+0...|     19700101|\n",
      "|jiCCgxb5Bt9oKrpQW...|     19700101|\n",
      "|o/bYBfh/CBWqPcegP...|     19700101|\n",
      "|rdSSmilzcSuz3m8aa...|     19700101|\n",
      "|1qq279q251/fP44/f...|     19700101|\n",
      "+--------------------+-------------+\n",
      "only showing top 10 rows\n",
      "\n"
     ]
    }
   ],
   "source": [
    "from pyspark.sql.functions import last\n",
    "df3 = df2.groupBy('msno').agg(last('exp_date').alias('last_exp_date'))\n",
    "df3.show(10)"
   ]
  },
  {
   "cell_type": "code",
   "execution_count": 35,
   "metadata": {},
   "outputs": [
    {
     "data": {
      "text/plain": [
       "213"
      ]
     },
     "execution_count": 35,
     "metadata": {},
     "output_type": "execute_result"
    }
   ],
   "source": [
    "df3.where('last_exp_date >= 20150101').count()"
   ]
  },
  {
   "cell_type": "code",
   "execution_count": 36,
   "metadata": {},
   "outputs": [
    {
     "data": {
      "text/plain": [
       "1212"
      ]
     },
     "execution_count": 36,
     "metadata": {},
     "output_type": "execute_result"
    }
   ],
   "source": [
    "df3.where('last_exp_date = 19700101').count()"
   ]
  },
  {
   "cell_type": "markdown",
   "metadata": {},
   "source": [
    "* Among the 1425 members who have records with `exp_date` = 19700101, there are exactly 1212 members who have `exp_date` = 19700101 found in their lastest record."
   ]
  },
  {
   "cell_type": "code",
   "execution_count": 40,
   "metadata": {},
   "outputs": [],
   "source": [
    "df4 = df3.where('last_exp_date = 19700101')\n",
    "df5 = df0.join(df4, df0['msno']==df4['msno'], 'left_semi')"
   ]
  },
  {
   "cell_type": "code",
   "execution_count": 42,
   "metadata": {},
   "outputs": [],
   "source": [
    "outfile = 'file:///home/cloudera/Desktop/KKBox_churn_predict/data01/transactions-v1_members-no-renew_last-expire-1970'\n",
    "df5.coalesce(1).write.format('csv').option('header', 'true').save(outfile)"
   ]
  },
  {
   "cell_type": "markdown",
   "metadata": {},
   "source": [
    "# trans_date, exp_date, and start date"
   ]
  },
  {
   "cell_type": "code",
   "execution_count": 4,
   "metadata": {},
   "outputs": [
    {
     "name": "stdout",
     "output_type": "stream",
     "text": [
      "+--------------------+--------------+---------+----------+-----------+----------+--------+\n",
      "|                msno|payment_method|plan_days|list_price|actual_paid|trans_date|exp_date|\n",
      "+--------------------+--------------+---------+----------+-----------+----------+--------+\n",
      "|++XNdJjfGpF5k/o25...|            38|       30|       149|        149|  20151107|20151207|\n",
      "|++XNdJjfGpF5k/o25...|            38|       90|       447|        447|  20160104|20160403|\n",
      "|++wYPELMJ2byTXrC7...|            38|      360|      1200|       1200|  20160205|20170130|\n",
      "+--------------------+--------------+---------+----------+-----------+----------+--------+\n",
      "only showing top 3 rows\n",
      "\n"
     ]
    }
   ],
   "source": [
    "df0.show(3)"
   ]
  },
  {
   "cell_type": "code",
   "execution_count": 5,
   "metadata": {},
   "outputs": [
    {
     "name": "stdout",
     "output_type": "stream",
     "text": [
      "+--------------------+--------------+---------+----------+-----------+----------+--------+----------+\n",
      "|                msno|payment_method|plan_days|list_price|actual_paid|trans_date|exp_date|start_date|\n",
      "+--------------------+--------------+---------+----------+-----------+----------+--------+----------+\n",
      "|++XNdJjfGpF5k/o25...|            38|       30|       149|        149|  20151107|20151207|  20151108|\n",
      "|++XNdJjfGpF5k/o25...|            38|       90|       447|        447|  20160104|20160403|  20160104|\n",
      "|++wYPELMJ2byTXrC7...|            38|      360|      1200|       1200|  20160205|20170130|  20160206|\n",
      "|+/BDJ1Wynv2JV9/pp...|            35|        7|         0|          0|  20161118|20161125|  20161119|\n",
      "|+/BDJ1Wynv2JV9/pp...|            36|       30|       180|        180|  20161220|20170119|  20161220|\n",
      "|+/BDJ1Wynv2JV9/pp...|            36|       30|       180|        180|  20170119|20170218|  20170119|\n",
      "|+/BDJ1Wynv2JV9/pp...|            36|       30|       180|        180|  20170220|20170322|  20170223|\n",
      "|+2bq9bqigVbMMyN4d...|            38|       30|       149|        149|  20161114|20161214|  20161115|\n",
      "|+2bq9bqigVbMMyN4d...|            38|       30|       149|        149|  20160530|20160629|  20160530|\n",
      "|+2bq9bqigVbMMyN4d...|            38|       30|       149|        149|  20161013|20161112|  20161013|\n",
      "+--------------------+--------------+---------+----------+-----------+----------+--------+----------+\n",
      "only showing top 10 rows\n",
      "\n"
     ]
    }
   ],
   "source": [
    "from calendar import monthrange\n",
    "from pyspark.sql.types import IntegerType\n",
    "from pyspark.sql.functions import udf, col\n",
    "\n",
    "\n",
    "def get_start_date(exp_date_int, plan_days):\n",
    "    if plan_days == 360:\n",
    "        pl_yrs = 0\n",
    "        pl_mns = 11\n",
    "        pl_days = 25\n",
    "    else:\n",
    "        pl_yrs = plan_days // 365\n",
    "        pl_mns = (plan_days % 365) // 30\n",
    "        pl_days = (plan_days % 365) % 30\n",
    "    \n",
    "    exp_yr = exp_date_int // 10000\n",
    "    exp_mn = (exp_date_int % 10000) // 100\n",
    "    exp_day = exp_date_int % 100\n",
    "    \n",
    "    yr = exp_yr - pl_yrs\n",
    "    mn = exp_mn - pl_mns\n",
    "    day = exp_day - pl_days\n",
    "    \n",
    "    while mn < 1:\n",
    "        mn += 12\n",
    "        yr -= 1\n",
    "    \n",
    "    while day < 1:\n",
    "        if mn == 1:\n",
    "            Nd = monthrange(yr-1, 12)[1]\n",
    "        else:\n",
    "            Nd = monthrange(yr, mn-1)[1]\n",
    "        mn -= 1\n",
    "        day += Nd\n",
    "        if mn == 0:\n",
    "            mn = 12\n",
    "            yr -= 1\n",
    "\n",
    "    day += 1\n",
    "    Nd = monthrange(yr, mn)[1]\n",
    "    if day > Nd:\n",
    "        day -= Nd\n",
    "        mn += 1\n",
    "        if mn == 13:\n",
    "            mn = 1\n",
    "            yr += 1\n",
    "    \n",
    "    return yr*10000 + mn*100 + day\n",
    "\n",
    "f_get_start_date = udf(get_start_date, IntegerType())\n",
    "\n",
    "df1 = df0.withColumn('start_date', f_get_start_date(col('exp_date'), col('plan_days')))\n",
    "df1.show(10)"
   ]
  },
  {
   "cell_type": "code",
   "execution_count": 6,
   "metadata": {
    "scrolled": false
   },
   "outputs": [
    {
     "name": "stdout",
     "output_type": "stream",
     "text": [
      "+--------------------+--------------+----------+-----------+---------+----------+----------+----------+\n",
      "|                msno|payment_method|list_price|actual_paid|plan_days|trans_date|  exp_date|start_date|\n",
      "+--------------------+--------------+----------+-----------+---------+----------+----------+----------+\n",
      "|++XNdJjfGpF5k/o25...|            38|       149|        149|       30|2015-11-07|2015-12-07|2015-11-08|\n",
      "|++XNdJjfGpF5k/o25...|            38|       447|        447|       90|2016-01-04|2016-04-03|2016-01-04|\n",
      "|++wYPELMJ2byTXrC7...|            38|      1200|       1200|      360|2016-02-05|2017-01-30|2016-02-06|\n",
      "|+/BDJ1Wynv2JV9/pp...|            35|         0|          0|        7|2016-11-18|2016-11-25|2016-11-19|\n",
      "|+/BDJ1Wynv2JV9/pp...|            36|       180|        180|       30|2016-12-20|2017-01-19|2016-12-20|\n",
      "|+/BDJ1Wynv2JV9/pp...|            36|       180|        180|       30|2017-01-19|2017-02-18|2017-01-19|\n",
      "|+/BDJ1Wynv2JV9/pp...|            36|       180|        180|       30|2017-02-20|2017-03-22|2017-02-23|\n",
      "|+2bq9bqigVbMMyN4d...|            38|       149|        149|       30|2016-11-14|2016-12-14|2016-11-15|\n",
      "|+2bq9bqigVbMMyN4d...|            38|       149|        149|       30|2016-05-30|2016-06-29|2016-05-30|\n",
      "|+2bq9bqigVbMMyN4d...|            38|       149|        149|       30|2016-10-13|2016-11-12|2016-10-13|\n",
      "+--------------------+--------------+----------+-----------+---------+----------+----------+----------+\n",
      "only showing top 10 rows\n",
      "\n"
     ]
    }
   ],
   "source": [
    "from pyspark.sql.functions import col, to_date\n",
    "df2 = df1.select('msno', 'payment_method', 'list_price', 'actual_paid', 'plan_days', \n",
    "                 to_date(col('trans_date').cast('string'), 'yyyyMMdd').alias('trans_date'),\n",
    "                 to_date(col('exp_date').cast('string'), 'yyyyMMdd').alias('exp_date'),\n",
    "                 to_date(col('start_date').cast('string'), 'yyyyMMdd').alias('start_date')\n",
    "                )\n",
    "df2.show(10)"
   ]
  },
  {
   "cell_type": "markdown",
   "metadata": {},
   "source": [
    "## start_date & trans_date"
   ]
  },
  {
   "cell_type": "code",
   "execution_count": 59,
   "metadata": {},
   "outputs": [
    {
     "name": "stdout",
     "output_type": "stream",
     "text": [
      "+--------------------------------------------+-----------------+\n",
      "|msno                                        |start_minus_trans|\n",
      "+--------------------------------------------+-----------------+\n",
      "|++XNdJjfGpF5k/o2548rYGpi9Xly1LcoTt3N6e0Xw8o=|1                |\n",
      "|++XNdJjfGpF5k/o2548rYGpi9Xly1LcoTt3N6e0Xw8o=|0                |\n",
      "|++wYPELMJ2byTXrC7gO4p96cSGNrLmGn8zNHXI97g6o=|1                |\n",
      "|+/BDJ1Wynv2JV9/ppiRDShEx1vYsDXby6k4cfgQaXaU=|1                |\n",
      "|+/BDJ1Wynv2JV9/ppiRDShEx1vYsDXby6k4cfgQaXaU=|0                |\n",
      "|+/BDJ1Wynv2JV9/ppiRDShEx1vYsDXby6k4cfgQaXaU=|0                |\n",
      "|+/BDJ1Wynv2JV9/ppiRDShEx1vYsDXby6k4cfgQaXaU=|3                |\n",
      "|+2bq9bqigVbMMyN4dRqQak/YOED2o1Q27O6+SraigAw=|1                |\n",
      "|+2bq9bqigVbMMyN4dRqQak/YOED2o1Q27O6+SraigAw=|0                |\n",
      "|+2bq9bqigVbMMyN4dRqQak/YOED2o1Q27O6+SraigAw=|0                |\n",
      "+--------------------------------------------+-----------------+\n",
      "only showing top 10 rows\n",
      "\n"
     ]
    }
   ],
   "source": [
    "from pyspark.sql.functions import col, datediff\n",
    "df3 = df2.select('msno', datediff('start_date', 'trans_date').alias('start_minus_trans'))\n",
    "df3.show(10, truncate=False)"
   ]
  },
  {
   "cell_type": "code",
   "execution_count": 58,
   "metadata": {},
   "outputs": [
    {
     "name": "stdout",
     "output_type": "stream",
     "text": [
      "+-----------------+-----+\n",
      "|start_minus_trans|count|\n",
      "+-----------------+-----+\n",
      "|           -17564|    1|\n",
      "|           -17447|    4|\n",
      "|           -17446|   24|\n",
      "|           -17445|   18|\n",
      "|           -17444|   29|\n",
      "|           -17443|   24|\n",
      "|           -17442|   26|\n",
      "|           -17441|   26|\n",
      "|           -17440|   24|\n",
      "|           -17439|   23|\n",
      "+-----------------+-----+\n",
      "only showing top 10 rows\n",
      "\n"
     ]
    }
   ],
   "source": [
    "df3.groupBy('start_minus_trans').count().sort('start_minus_trans').show(10)"
   ]
  },
  {
   "cell_type": "code",
   "execution_count": 62,
   "metadata": {},
   "outputs": [
    {
     "name": "stdout",
     "output_type": "stream",
     "text": [
      "+--------------------------------------------+-----------------+\n",
      "|msno                                        |start_minus_trans|\n",
      "+--------------------------------------------+-----------------+\n",
      "|O8DRTuJK7s2ZXBxQWOOveyg06prm7xe/Rjc3nF4Kipg=|-17440           |\n",
      "|C/LqPRVpLyrqNEGllOT28uUx1CRL/Yb3rMjEO19ntBs=|-17440           |\n",
      "|k1PHeKW5QL4cyROTq/YYbB9xVRtvi2Y9ixuk5ZgCll8=|-17440           |\n",
      "|P7eHLSbnRY5wR2eIcOhf+0qmnwEM1nU1/XrWD6cuiDA=|-17440           |\n",
      "|T106fGYwBXFDCpdSa4dL3oSX4DqL6Q7RsZ9nzVfRi2U=|-17440           |\n",
      "|JBlqrZ5RU/rrk+cL4Sq1qRx7JH3rPLt9CqkQ2I8uX4s=|-17440           |\n",
      "|We3PnMZgOwsCUdoWyDojExnE5IIKSxhRb3J5c/xgnbA=|-17440           |\n",
      "|lKU9jl3dxNhoL4Yc0y12EgZv4ExnwpgYPggbnEVN2ow=|-17440           |\n",
      "|WfJOXHSN5FThNoY74Zfzmxd5KRFPq70hHKBWVRgJrus=|-17440           |\n",
      "|A6vC2Cakn1k1FHsm5o/YgM1iJA4tDCkRTwrH4RseBt4=|-17440           |\n",
      "+--------------------------------------------+-----------------+\n",
      "only showing top 10 rows\n",
      "\n"
     ]
    }
   ],
   "source": [
    "df3.where('start_minus_trans = -17440').show(10, truncate=False)"
   ]
  },
  {
   "cell_type": "code",
   "execution_count": 64,
   "metadata": {},
   "outputs": [
    {
     "name": "stdout",
     "output_type": "stream",
     "text": [
      "+--------------------+--------------+---------+----------+-----------+----------+--------+----------+\n",
      "|                msno|payment_method|plan_days|list_price|actual_paid|trans_date|exp_date|start_date|\n",
      "+--------------------+--------------+---------+----------+-----------+----------+--------+----------+\n",
      "|O8DRTuJK7s2ZXBxQW...|            38|       30|       149|        149|  20161229|20170128|  20161229|\n",
      "|O8DRTuJK7s2ZXBxQW...|            17|      240|         0|          0|  20170130|19700101|  19690502|\n",
      "+--------------------+--------------+---------+----------+-----------+----------+--------+----------+\n",
      "\n"
     ]
    }
   ],
   "source": [
    "df1.where(col('msno') == 'O8DRTuJK7s2ZXBxQWOOveyg06prm7xe/Rjc3nF4Kipg=').show()"
   ]
  },
  {
   "cell_type": "markdown",
   "metadata": {},
   "source": [
    "# number of records for each member "
   ]
  },
  {
   "cell_type": "code",
   "execution_count": 25,
   "metadata": {},
   "outputs": [
    {
     "name": "stdout",
     "output_type": "stream",
     "text": [
      "+--------------------+-----------+--------+\n",
      "|                msno|count_trans|sum_days|\n",
      "+--------------------+-----------+--------+\n",
      "|++7jKYbuIJPXry8Oh...|          1|      10|\n",
      "|+0RJtbyhoPAHPa+34...|          1|     410|\n",
      "|+3tRPOto/e58mdDA6...|          1|      30|\n",
      "|+43UqHvqzu5STDVIu...|          5|     440|\n",
      "|+4dMilwe46UsxpXXH...|          1|      30|\n",
      "|+5p5fm9oHH8ukkNG1...|          1|      30|\n",
      "|+7LsJK3q0POdtDWvw...|          1|       7|\n",
      "|+7f07tkg6Q6sPq1MX...|          1|       7|\n",
      "|+8suRKxAwKNflQAfd...|          1|       7|\n",
      "|+98dadrcy1re8eJQo...|          1|       7|\n",
      "+--------------------+-----------+--------+\n",
      "only showing top 10 rows\n",
      "\n"
     ]
    }
   ],
   "source": [
    "from pyspark.sql.functions import count, sum\n",
    "df1 = df0.groupBy('msno') \\\n",
    "         .agg(count('*').alias('count_trans'), sum('plan_days').alias('sum_days'))\n",
    "df1.show(10)"
   ]
  },
  {
   "cell_type": "code",
   "execution_count": 29,
   "metadata": {},
   "outputs": [
    {
     "name": "stdout",
     "output_type": "stream",
     "text": [
      "+----------------+\n",
      "|max(count_trans)|\n",
      "+----------------+\n",
      "|              63|\n",
      "+----------------+\n",
      "\n"
     ]
    }
   ],
   "source": [
    "from pyspark.sql.functions import max\n",
    "df1.select(max('count_trans')).show()"
   ]
  },
  {
   "cell_type": "markdown",
   "metadata": {},
   "source": [
    "## total number of transactions for each memeber"
   ]
  },
  {
   "cell_type": "code",
   "execution_count": 37,
   "metadata": {},
   "outputs": [
    {
     "name": "stdout",
     "output_type": "stream",
     "text": [
      "+-----------+-------------+\n",
      "|count_trans|count_members|\n",
      "+-----------+-------------+\n",
      "|          1|       397554|\n",
      "|          2|        78052|\n",
      "|          3|        35302|\n",
      "|          4|        24707|\n",
      "|          5|        20312|\n",
      "|          6|        16308|\n",
      "|          7|        12020|\n",
      "|          8|        10093|\n",
      "|          9|         9070|\n",
      "|         10|         8261|\n",
      "+-----------+-------------+\n",
      "only showing top 10 rows\n",
      "\n"
     ]
    }
   ],
   "source": [
    "from pyspark.sql.functions import count\n",
    "df2 = df1.groupBy('count_trans').agg(count('*').alias('count_members')) \\\n",
    "         .sort('count_trans')\n",
    "df2.show(10)"
   ]
  },
  {
   "cell_type": "code",
   "execution_count": 39,
   "metadata": {},
   "outputs": [
    {
     "data": {
      "text/plain": [
       "<matplotlib.axes._subplots.AxesSubplot at 0x7f6641854470>"
      ]
     },
     "execution_count": 39,
     "metadata": {},
     "output_type": "execute_result"
    },
    {
     "data": {
      "image/png": "[encoded data removed]",
      "text/plain": [
       "<Figure size 432x288 with 1 Axes>"
      ]
     },
     "metadata": {},
     "output_type": "display_data"
    }
   ],
   "source": [
    "import matplotlib.pyplot as plt\n",
    "df2.where('count_trans <= 20') \\\n",
    "   .toPandas().set_index('count_trans').plot(kind='bar')"
   ]
  },
  {
   "cell_type": "code",
   "execution_count": 42,
   "metadata": {},
   "outputs": [
    {
     "data": {
      "text/plain": [
       "<matplotlib.axes._subplots.AxesSubplot at 0x7f66413967f0>"
      ]
     },
     "execution_count": 42,
     "metadata": {},
     "output_type": "execute_result"
    },
    {
     "data": {
      "image/png": "[encoded data removed]",
      "text/plain": [
       "<Figure size 432x288 with 1 Axes>"
      ]
     },
     "metadata": {},
     "output_type": "display_data"
    }
   ],
   "source": [
    "import matplotlib.pyplot as plt\n",
    "df2.toPandas().plot(kind='scatter', x='count_trans', y='count_members', logy=True)"
   ]
  },
  {
   "cell_type": "markdown",
   "metadata": {},
   "source": [
    "## total number of subscription days for each member"
   ]
  },
  {
   "cell_type": "code",
   "execution_count": 43,
   "metadata": {},
   "outputs": [
    {
     "name": "stdout",
     "output_type": "stream",
     "text": [
      "+--------------------+-----------+--------+\n",
      "|                msno|count_trans|sum_days|\n",
      "+--------------------+-----------+--------+\n",
      "|++7jKYbuIJPXry8Oh...|          1|      10|\n",
      "|+0RJtbyhoPAHPa+34...|          1|     410|\n",
      "|+3tRPOto/e58mdDA6...|          1|      30|\n",
      "+--------------------+-----------+--------+\n",
      "only showing top 3 rows\n",
      "\n"
     ]
    }
   ],
   "source": [
    "df1.show(3)"
   ]
  },
  {
   "cell_type": "code",
   "execution_count": 47,
   "metadata": {},
   "outputs": [
    {
     "name": "stdout",
     "output_type": "stream",
     "text": [
      "+-------------+\n",
      "|max(sum_days)|\n",
      "+-------------+\n",
      "|         2430|\n",
      "+-------------+\n",
      "\n"
     ]
    }
   ],
   "source": [
    "df1.select(max('sum_days')).show()"
   ]
  },
  {
   "cell_type": "code",
   "execution_count": 46,
   "metadata": {},
   "outputs": [
    {
     "data": {
      "text/plain": [
       "[10, 410, 30, 440, 30, 30, 7, 7, 7, 7]"
      ]
     },
     "execution_count": 46,
     "metadata": {},
     "output_type": "execute_result"
    }
   ],
   "source": [
    "rdd2 = df1.rdd.map(lambda r : r['sum_days'])\n",
    "rdd2.take(10)"
   ]
  },
  {
   "cell_type": "code",
   "execution_count": 65,
   "metadata": {},
   "outputs": [
    {
     "data": {
      "text/plain": [
       "<matplotlib.axes._subplots.AxesSubplot at 0x7f6640d55550>"
      ]
     },
     "execution_count": 65,
     "metadata": {},
     "output_type": "execute_result"
    },
    {
     "data": {
      "image/png": "[encoded data removed]",
      "text/plain": [
       "<Figure size 432x288 with 1 Axes>"
      ]
     },
     "metadata": {},
     "output_type": "display_data"
    }
   ],
   "source": [
    "from prepare_hist_data import prepare_histogram_data\n",
    "import pandas as pd\n",
    "\n",
    "hist_data = prepare_histogram_data(rdd2, 1, 2431, 30)\n",
    "pdf = pd.DataFrame(hist_data['bin_centers_counts'], columns=['total_days', 'count']) \\\n",
    "      .set_index('total_days')\n",
    "pdf.plot(kind='bar')"
   ]
  },
  {
   "cell_type": "code",
   "execution_count": 66,
   "metadata": {},
   "outputs": [
    {
     "data": {
      "text/plain": [
       "<matplotlib.axes._subplots.AxesSubplot at 0x7f6640cbb0f0>"
      ]
     },
     "execution_count": 66,
     "metadata": {},
     "output_type": "execute_result"
    },
    {
     "data": {
      "image/png": "[encoded data removed]",
      "text/plain": [
       "<Figure size 432x288 with 1 Axes>"
      ]
     },
     "metadata": {},
     "output_type": "display_data"
    }
   ],
   "source": [
    "from prepare_hist_data import prepare_histogram_data\n",
    "import pandas as pd\n",
    "\n",
    "hist_data = prepare_histogram_data(rdd2, 1, 511, 30)\n",
    "pdf = pd.DataFrame(hist_data['bin_centers_counts'], columns=['total_days', 'count']) \\\n",
    "      .set_index('total_days')\n",
    "pdf.plot(kind='bar')"
   ]
  },
  {
   "cell_type": "code",
   "execution_count": 67,
   "metadata": {},
   "outputs": [
    {
     "data": {
      "text/plain": [
       "<matplotlib.axes._subplots.AxesSubplot at 0x7f6640c03b00>"
      ]
     },
     "execution_count": 67,
     "metadata": {},
     "output_type": "execute_result"
    },
    {
     "data": {
      "image/png": "[encoded data removed]",
      "text/plain": [
       "<Figure size 432x288 with 1 Axes>"
      ]
     },
     "metadata": {},
     "output_type": "display_data"
    }
   ],
   "source": [
    "from prepare_hist_data import prepare_histogram_data\n",
    "import pandas as pd\n",
    "\n",
    "hist_data = prepare_histogram_data(rdd2, 1, 71, 35)\n",
    "pdf = pd.DataFrame(hist_data['bin_centers_counts'], columns=['total_days', 'count']) \\\n",
    "      .set_index('total_days')\n",
    "pdf.plot(kind='bar')"
   ]
  },
  {
   "cell_type": "code",
   "execution_count": 69,
   "metadata": {},
   "outputs": [
    {
     "data": {
      "text/plain": [
       "<matplotlib.axes._subplots.AxesSubplot at 0x7f6640a6c6a0>"
      ]
     },
     "execution_count": 69,
     "metadata": {},
     "output_type": "execute_result"
    },
    {
     "data": {
      "image/png": "[encoded data removed]",
      "text/plain": [
       "<Figure size 432x288 with 1 Axes>"
      ]
     },
     "metadata": {},
     "output_type": "display_data"
    }
   ],
   "source": [
    "from prepare_hist_data import prepare_histogram_data\n",
    "import pandas as pd\n",
    "\n",
    "hist_data = prepare_histogram_data(rdd2, 0.5, 35.5, 35)\n",
    "pdf = pd.DataFrame(hist_data['bin_centers_counts'], columns=['total_days', 'count']) \\\n",
    "      .set_index('total_days')\n",
    "pdf.plot(kind='bar')"
   ]
  },
  {
   "cell_type": "code",
   "execution_count": null,
   "metadata": {},
   "outputs": [],
   "source": []
  },
  {
   "cell_type": "code",
   "execution_count": null,
   "metadata": {},
   "outputs": [],
   "source": []
  },
  {
   "cell_type": "code",
   "execution_count": 75,
   "metadata": {},
   "outputs": [
    {
     "name": "stdout",
     "output_type": "stream",
     "text": [
      "+--------------------+--------------+---------+----------+-----------+----------+--------+\n",
      "|                msno|payment_method|plan_days|list_price|actual_paid|trans_date|exp_date|\n",
      "+--------------------+--------------+---------+----------+-----------+----------+--------+\n",
      "|++XNdJjfGpF5k/o25...|            38|       30|       149|        149|  20151107|20151207|\n",
      "|++XNdJjfGpF5k/o25...|            38|       90|       447|        447|  20160104|20160403|\n",
      "|++wYPELMJ2byTXrC7...|            38|      360|      1200|       1200|  20160205|20170130|\n",
      "+--------------------+--------------+---------+----------+-----------+----------+--------+\n",
      "only showing top 3 rows\n",
      "\n"
     ]
    }
   ],
   "source": [
    "df0.show(3)"
   ]
  },
  {
   "cell_type": "code",
   "execution_count": 4,
   "metadata": {
    "scrolled": false
   },
   "outputs": [
    {
     "name": "stdout",
     "output_type": "stream",
     "text": [
      "+--------------------+----------+----------+\n",
      "|                msno|trans_date|  exp_date|\n",
      "+--------------------+----------+----------+\n",
      "|+++FOrTS7ab3tIgIh...|2016-09-09|2016-09-14|\n",
      "|+++IZseRRiQS9aaSk...|2015-11-21|2017-01-04|\n",
      "|++02XbtviomSxcIBU...|2016-11-20|2016-11-27|\n",
      "|++096narOxHnDPtbt...|2016-11-26|2016-12-03|\n",
      "|++0BJXY8tpirgIhJR...|2015-11-14|2015-12-14|\n",
      "|++0BJXY8tpirgIhJR...|2015-12-15|2016-01-14|\n",
      "|++0BJXY8tpirgIhJR...|2016-01-15|2016-02-14|\n",
      "|++0BJXY8tpirgIhJR...|2016-02-15|2016-03-16|\n",
      "|++0BJXY8tpirgIhJR...|2016-03-20|2016-04-19|\n",
      "|++0BJXY8tpirgIhJR...|2016-04-20|2016-05-20|\n",
      "|++0BJXY8tpirgIhJR...|2016-05-23|2016-06-22|\n",
      "|++0BJXY8tpirgIhJR...|2016-06-23|2016-07-23|\n",
      "|++0BJXY8tpirgIhJR...|2016-07-24|2016-08-23|\n",
      "|++0BJXY8tpirgIhJR...|2016-08-24|2016-09-23|\n",
      "|++0BJXY8tpirgIhJR...|2016-09-24|2017-01-22|\n",
      "|++0BJXY8tpirgIhJR...|2017-01-24|2017-02-23|\n",
      "|++0BJXY8tpirgIhJR...|2017-02-24|2017-03-26|\n",
      "|++0EzISdtKY48Z0GY...|2016-04-06|2016-05-06|\n",
      "|++0EzISdtKY48Z0GY...|2016-06-09|2016-07-09|\n",
      "|++0EzISdtKY48Z0GY...|2016-07-11|2016-08-10|\n",
      "+--------------------+----------+----------+\n",
      "only showing top 20 rows\n",
      "\n"
     ]
    }
   ],
   "source": [
    "from pyspark.sql.functions import to_date, col\n",
    "df1 = df0.select('msno',\n",
    "                 to_date(col('trans_date').cast('string'), 'yyyyMMdd').alias('trans_date'),\n",
    "                 to_date(col('exp_date').cast('string'), 'yyyyMMdd').alias('exp_date')\n",
    "                ) \\\n",
    "          .orderBy('msno', 'trans_date')\n",
    "df1.show(20)"
   ]
  },
  {
   "cell_type": "code",
   "execution_count": null,
   "metadata": {},
   "outputs": [],
   "source": []
  },
  {
   "cell_type": "code",
   "execution_count": null,
   "metadata": {},
   "outputs": [],
   "source": []
  },
  {
   "cell_type": "code",
   "execution_count": null,
   "metadata": {},
   "outputs": [],
   "source": []
  },
  {
   "cell_type": "code",
   "execution_count": 10,
   "metadata": {},
   "outputs": [],
   "source": [
    "df2 = df1.limit(25).persist()"
   ]
  },
  {
   "cell_type": "code",
   "execution_count": 9,
   "metadata": {},
   "outputs": [
    {
     "name": "stdout",
     "output_type": "stream",
     "text": [
      "+--------------------+----------+----------+\n",
      "|                msno|trans_date|  exp_date|\n",
      "+--------------------+----------+----------+\n",
      "|+++FOrTS7ab3tIgIh...|2016-09-09|2016-09-14|\n",
      "|+++IZseRRiQS9aaSk...|2015-11-21|2017-01-04|\n",
      "|++02XbtviomSxcIBU...|2016-11-20|2016-11-27|\n",
      "|++096narOxHnDPtbt...|2016-11-26|2016-12-03|\n",
      "|++0BJXY8tpirgIhJR...|2015-11-14|2015-12-14|\n",
      "|++0BJXY8tpirgIhJR...|2015-12-15|2016-01-14|\n",
      "|++0BJXY8tpirgIhJR...|2016-01-15|2016-02-14|\n",
      "|++0BJXY8tpirgIhJR...|2016-02-15|2016-03-16|\n",
      "|++0BJXY8tpirgIhJR...|2016-03-20|2016-04-19|\n",
      "|++0BJXY8tpirgIhJR...|2016-04-20|2016-05-20|\n",
      "|++0BJXY8tpirgIhJR...|2016-05-23|2016-06-22|\n",
      "|++0BJXY8tpirgIhJR...|2016-06-23|2016-07-23|\n",
      "|++0BJXY8tpirgIhJR...|2016-07-24|2016-08-23|\n",
      "|++0BJXY8tpirgIhJR...|2016-08-24|2016-09-23|\n",
      "|++0BJXY8tpirgIhJR...|2016-09-24|2017-01-22|\n",
      "|++0BJXY8tpirgIhJR...|2017-01-24|2017-02-23|\n",
      "|++0BJXY8tpirgIhJR...|2017-02-24|2017-03-26|\n",
      "|++0EzISdtKY48Z0GY...|2016-04-06|2016-05-06|\n",
      "|++0EzISdtKY48Z0GY...|2016-06-09|2016-07-09|\n",
      "|++0EzISdtKY48Z0GY...|2016-07-11|2016-08-10|\n",
      "|++0EzISdtKY48Z0GY...|2016-07-12|2016-08-17|\n",
      "|++0EzISdtKY48Z0GY...|2016-09-20|2016-10-20|\n",
      "|++0EzISdtKY48Z0GY...|2016-10-24|2017-02-21|\n",
      "|++0GCV3WGMjibrwCn...|2016-11-25|2016-12-02|\n",
      "|++0JQqGo/czgqG5qC...|2016-11-29|2016-12-06|\n",
      "+--------------------+----------+----------+\n",
      "\n"
     ]
    }
   ],
   "source": [
    "df2.show(30)"
   ]
  },
  {
   "cell_type": "code",
   "execution_count": 22,
   "metadata": {
    "scrolled": false
   },
   "outputs": [
    {
     "name": "stdout",
     "output_type": "stream",
     "text": [
      "+--------------------+----------+----------+-------------+\n",
      "|                msno|  exp_date|trans_date|prev_exp_date|\n",
      "+--------------------+----------+----------+-------------+\n",
      "|+++FOrTS7ab3tIgIh...|2016-09-14|2016-09-09|         null|\n",
      "|+++IZseRRiQS9aaSk...|2017-01-04|2015-11-21|         null|\n",
      "|++02XbtviomSxcIBU...|2016-11-27|2016-11-20|         null|\n",
      "|++096narOxHnDPtbt...|2016-12-03|2016-11-26|         null|\n",
      "|++0BJXY8tpirgIhJR...|2015-12-14|2015-11-14|         null|\n",
      "|++0BJXY8tpirgIhJR...|2016-01-14|2015-12-15|   2015-12-14|\n",
      "|++0BJXY8tpirgIhJR...|2016-02-14|2016-01-15|   2016-01-14|\n",
      "|++0BJXY8tpirgIhJR...|2016-03-16|2016-02-15|   2016-02-14|\n",
      "|++0BJXY8tpirgIhJR...|2016-04-19|2016-03-20|   2016-03-16|\n",
      "|++0BJXY8tpirgIhJR...|2016-05-20|2016-04-20|   2016-04-19|\n",
      "|++0BJXY8tpirgIhJR...|2016-06-22|2016-05-23|   2016-05-20|\n",
      "|++0BJXY8tpirgIhJR...|2016-07-23|2016-06-23|   2016-06-22|\n",
      "|++0BJXY8tpirgIhJR...|2016-08-23|2016-07-24|   2016-07-23|\n",
      "|++0BJXY8tpirgIhJR...|2016-09-23|2016-08-24|   2016-08-23|\n",
      "|++0BJXY8tpirgIhJR...|2017-01-22|2016-09-24|   2016-09-23|\n",
      "|++0BJXY8tpirgIhJR...|2017-02-23|2017-01-24|   2017-01-22|\n",
      "|++0BJXY8tpirgIhJR...|2017-03-26|2017-02-24|   2017-02-23|\n",
      "|++0EzISdtKY48Z0GY...|2016-05-06|2016-04-06|         null|\n",
      "|++0EzISdtKY48Z0GY...|2016-07-09|2016-06-09|   2016-05-06|\n",
      "|++0EzISdtKY48Z0GY...|2016-08-10|2016-07-11|   2016-07-09|\n",
      "|++0EzISdtKY48Z0GY...|2016-08-17|2016-07-12|   2016-08-10|\n",
      "|++0EzISdtKY48Z0GY...|2016-10-20|2016-09-20|   2016-08-17|\n",
      "|++0EzISdtKY48Z0GY...|2017-02-21|2016-10-24|   2016-10-20|\n",
      "|++0GCV3WGMjibrwCn...|2016-12-02|2016-11-25|         null|\n",
      "|++0JQqGo/czgqG5qC...|2016-12-06|2016-11-29|         null|\n",
      "+--------------------+----------+----------+-------------+\n",
      "\n"
     ]
    }
   ],
   "source": [
    "from pyspark.sql.window import Window\n",
    "from pyspark.sql.functions import lag\n",
    "df3 = df2.select('msno',\n",
    "                 'exp_date',\n",
    "                 'trans_date',\n",
    "                 lag('exp_date').over(Window.partitionBy('msno').orderBy('trans_date')).alias(\"prev_exp_date\")\n",
    "                )\n",
    "df3.show(30)"
   ]
  },
  {
   "cell_type": "code",
   "execution_count": 25,
   "metadata": {},
   "outputs": [
    {
     "name": "stdout",
     "output_type": "stream",
     "text": [
      "+--------------------+-----------------------------------+\n",
      "|                msno|datediff(trans_date, prev_exp_date)|\n",
      "+--------------------+-----------------------------------+\n",
      "|+++FOrTS7ab3tIgIh...|                               null|\n",
      "|+++IZseRRiQS9aaSk...|                               null|\n",
      "|++02XbtviomSxcIBU...|                               null|\n",
      "|++096narOxHnDPtbt...|                               null|\n",
      "|++0BJXY8tpirgIhJR...|                               null|\n",
      "|++0BJXY8tpirgIhJR...|                                  1|\n",
      "|++0BJXY8tpirgIhJR...|                                  1|\n",
      "|++0BJXY8tpirgIhJR...|                                  1|\n",
      "|++0BJXY8tpirgIhJR...|                                  4|\n",
      "|++0BJXY8tpirgIhJR...|                                  1|\n",
      "|++0BJXY8tpirgIhJR...|                                  3|\n",
      "|++0BJXY8tpirgIhJR...|                                  1|\n",
      "|++0BJXY8tpirgIhJR...|                                  1|\n",
      "|++0BJXY8tpirgIhJR...|                                  1|\n",
      "|++0BJXY8tpirgIhJR...|                                  1|\n",
      "|++0BJXY8tpirgIhJR...|                                  2|\n",
      "|++0BJXY8tpirgIhJR...|                                  1|\n",
      "|++0EzISdtKY48Z0GY...|                               null|\n",
      "|++0EzISdtKY48Z0GY...|                                 34|\n",
      "|++0EzISdtKY48Z0GY...|                                  2|\n",
      "|++0EzISdtKY48Z0GY...|                                -29|\n",
      "|++0EzISdtKY48Z0GY...|                                 34|\n",
      "|++0EzISdtKY48Z0GY...|                                  4|\n",
      "|++0GCV3WGMjibrwCn...|                               null|\n",
      "|++0JQqGo/czgqG5qC...|                               null|\n",
      "+--------------------+-----------------------------------+\n",
      "\n"
     ]
    }
   ],
   "source": [
    "from pyspark.sql.functions import datediff, col\n",
    "df3.select('msno', datediff(\"trans_date\", \"prev_exp_date\")).show(30)"
   ]
  },
  {
   "cell_type": "code",
   "execution_count": null,
   "metadata": {},
   "outputs": [],
   "source": []
  }
 ],
 "metadata": {
  "kernelspec": {
   "display_name": "Python 3",
   "language": "python",
   "name": "python3"
  },
  "language_info": {
   "codemirror_mode": {
    "name": "ipython",
    "version": 3
   },
   "file_extension": ".py",
   "mimetype": "text/x-python",
   "name": "python",
   "nbconvert_exporter": "python",
   "pygments_lexer": "ipython3",
   "version": "3.6.5"
  },
  "toc": {
   "base_numbering": 1,
   "nav_menu": {},
   "number_sections": true,
   "sideBar": true,
   "skip_h1_title": false,
   "title_cell": "Table of Contents",
   "title_sidebar": "Contents",
   "toc_cell": false,
   "toc_position": {},
   "toc_section_display": true,
   "toc_window_display": true
  }
 },
 "nbformat": 4,
 "nbformat_minor": 2
}
