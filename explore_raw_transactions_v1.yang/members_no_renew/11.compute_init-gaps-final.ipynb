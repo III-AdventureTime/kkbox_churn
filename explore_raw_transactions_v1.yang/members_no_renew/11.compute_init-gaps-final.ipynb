{
 "cells": [
  {
   "cell_type": "code",
   "execution_count": 1,
   "metadata": {},
   "outputs": [
    {
     "data": {
      "text/html": [
       "\n",
       "        <div>\n",
       "            <p><b>SparkContext</b></p>\n",
       "\n",
       "            <p><a href=\"http://10.120.27.99:4040\">Spark UI</a></p>\n",
       "\n",
       "            <dl>\n",
       "              <dt>Version</dt>\n",
       "                <dd><code>v2.2.1</code></dd>\n",
       "              <dt>Master</dt>\n",
       "                <dd><code>local[*]</code></dd>\n",
       "              <dt>AppName</dt>\n",
       "                <dd><code>PySparkShell</code></dd>\n",
       "            </dl>\n",
       "        </div>\n",
       "        "
      ],
      "text/plain": [
       "<SparkContext master=local[*] appName=PySparkShell>"
      ]
     },
     "execution_count": 1,
     "metadata": {},
     "output_type": "execute_result"
    }
   ],
   "source": [
    "sc"
   ]
  },
  {
   "cell_type": "code",
   "execution_count": 2,
   "metadata": {},
   "outputs": [],
   "source": [
    "dir0 = 'file:///home/cloudera/2.kkbox_churn/data01/'"
   ]
  },
  {
   "cell_type": "code",
   "execution_count": 3,
   "metadata": {},
   "outputs": [],
   "source": [
    "infile = dir0 + 'active_periods'\n",
    "rdd0 = sc.textFile(infile)"
   ]
  },
  {
   "cell_type": "code",
   "execution_count": 5,
   "metadata": {},
   "outputs": [
    {
     "data": {
      "text/plain": [
       "649618"
      ]
     },
     "execution_count": 5,
     "metadata": {},
     "output_type": "execute_result"
    }
   ],
   "source": [
    "rdd0.count()"
   ]
  },
  {
   "cell_type": "code",
   "execution_count": 9,
   "metadata": {},
   "outputs": [
    {
     "data": {
      "text/plain": [
       "['++7jKYbuIJPXry8Oh1NcEh9fCsqcQgUaaxXsgG15kMg=,2016-03-12_2016-03-22',\n",
       " '+0RJtbyhoPAHPa+34MkYcE2Ox0cjMgJOTXMXVBYgkJE=,2016-01-13_2017-02-27']"
      ]
     },
     "execution_count": 9,
     "metadata": {},
     "output_type": "execute_result"
    }
   ],
   "source": [
    "rdd0.take(2)"
   ]
  },
  {
   "cell_type": "code",
   "execution_count": 4,
   "metadata": {},
   "outputs": [
    {
     "data": {
      "text/plain": [
       "[['++7jKYbuIJPXry8Oh1NcEh9fCsqcQgUaaxXsgG15kMg=', '2016-03-12_2016-03-22'],\n",
       " ['+0RJtbyhoPAHPa+34MkYcE2Ox0cjMgJOTXMXVBYgkJE=', '2016-01-13_2017-02-27'],\n",
       " ['+3tRPOto/e58mdDA6oluFztHfwlqjJeNXb1vmYQjWfw=', '2016-01-18_2016-02-17'],\n",
       " ['+43UqHvqzu5STDVIuBLWryllqYYP4UrG9XyiajeGePk=',\n",
       "  '2015-12-26_2017-02-28|2015-12-08_2017-01-19|2015-12-26_2017-01-29|2015-12-26_2017-02-18|2015-12-26_2017-02-08'],\n",
       " ['+4dMilwe46UsxpXXH0O7/mF3g+5fn4MAF2VTWPNzuoo=', '2016-03-05_2016-04-04']]"
      ]
     },
     "execution_count": 4,
     "metadata": {},
     "output_type": "execute_result"
    }
   ],
   "source": [
    "rdd1 = rdd0.map(lambda line: line.split(','))\n",
    "rdd1.take(5)"
   ]
  },
  {
   "cell_type": "code",
   "execution_count": null,
   "metadata": {},
   "outputs": [],
   "source": []
  },
  {
   "cell_type": "code",
   "execution_count": 5,
   "metadata": {},
   "outputs": [],
   "source": [
    "from datetime import datetime, timedelta\n",
    "\n",
    "def date_add_one(date_str):\n",
    "    d = datetime.strptime(date_str, '%Y-%m-%d') + timedelta(days = 1)\n",
    "    return d.strftime('%Y-%m-%d')\n",
    "\n",
    "def date_minus_one(date_str):\n",
    "    d = datetime.strptime(date_str, '%Y-%m-%d') - timedelta(days = 1)\n",
    "    return d.strftime('%Y-%m-%d')\n",
    "\n",
    "def func(periods_str):\n",
    "    '''\n",
    "    Return [init, final, gaps]\n",
    "    '''\n",
    "    periods = periods_str.split('|')\n",
    "    \n",
    "    if len(periods) == 1:\n",
    "        return periods[0].split('_') + [[]]\n",
    "    \n",
    "    ###\n",
    "    shifts = {}  # e.g., {'2016-01-23': 1, '2016-01-25': -1}\n",
    "                 #        ^^^^^^^^^^^^00:00\n",
    "    for p in periods:\n",
    "        tmp = p.split('_')\n",
    "        start = tmp[0]\n",
    "        end = date_add_one(tmp[1])\n",
    "        \n",
    "        #\n",
    "        if start in shifts:\n",
    "            shifts[start] += 1\n",
    "        else:\n",
    "            shifts[start] = 1\n",
    "    \n",
    "        if end in shifts:\n",
    "            shifts[end] -= 1\n",
    "        else:\n",
    "            shifts[end] = -1\n",
    "        \n",
    "    shifts_1 = sorted(shifts.items())  # a list of tuples, like [('2015-12-08', 1), ('2015-12-26', 4), ...]\n",
    "    if len(shifts_1) < 2:\n",
    "        return ['', '', []]\n",
    "    \n",
    "    blocks = []\n",
    "    state = 0\n",
    "    for sh in shifts_1:\n",
    "        if sh[1] == 0:\n",
    "            continue\n",
    "        state_prev = state\n",
    "        state += sh[1]\n",
    "        if state_prev == 0 and state > 0:\n",
    "            block_start = sh[0]\n",
    "        elif state_prev > 0 and state == 0:\n",
    "            block_end = sh[0]\n",
    "            blocks.append((block_start, block_end))\n",
    "    # now blocks is like [('2015-12-08', '2016-03-01'), ('2016-3-18', '2016-4-16')]\n",
    "    \n",
    "    #\n",
    "    init = blocks[0][0]\n",
    "    final = date_minus_one(blocks[-1][1])\n",
    "    \n",
    "    gaps = []\n",
    "    for i in range(len(blocks)-1):\n",
    "        gaps.append((blocks[i][1], date_minus_one(blocks[i+1][0])))\n",
    "    \n",
    "    return [init, final, gaps]"
   ]
  },
  {
   "cell_type": "code",
   "execution_count": 6,
   "metadata": {
    "scrolled": true
   },
   "outputs": [
    {
     "data": {
      "text/plain": [
       "[['++7jKYbuIJPXry8Oh1NcEh9fCsqcQgUaaxXsgG15kMg=',\n",
       "  '2016-03-12',\n",
       "  '2016-03-22',\n",
       "  []],\n",
       " ['+0RJtbyhoPAHPa+34MkYcE2Ox0cjMgJOTXMXVBYgkJE=',\n",
       "  '2016-01-13',\n",
       "  '2017-02-27',\n",
       "  []],\n",
       " ['+3tRPOto/e58mdDA6oluFztHfwlqjJeNXb1vmYQjWfw=',\n",
       "  '2016-01-18',\n",
       "  '2016-02-17',\n",
       "  []],\n",
       " ['+43UqHvqzu5STDVIuBLWryllqYYP4UrG9XyiajeGePk=',\n",
       "  '2015-12-08',\n",
       "  '2017-02-28',\n",
       "  []],\n",
       " ['+4dMilwe46UsxpXXH0O7/mF3g+5fn4MAF2VTWPNzuoo=',\n",
       "  '2016-03-05',\n",
       "  '2016-04-04',\n",
       "  []]]"
      ]
     },
     "execution_count": 6,
     "metadata": {},
     "output_type": "execute_result"
    }
   ],
   "source": [
    "rdd2 = rdd1.map(lambda rec: [rec[0]] + func(rec[1]))\n",
    "rdd2.take(5)"
   ]
  },
  {
   "cell_type": "code",
   "execution_count": null,
   "metadata": {},
   "outputs": [],
   "source": []
  },
  {
   "cell_type": "code",
   "execution_count": 110,
   "metadata": {},
   "outputs": [
    {
     "name": "stdout",
     "output_type": "stream",
     "text": [
      "+--------------------+----------+----------+---+\n",
      "|                  _1|        _2|        _3| _4|\n",
      "+--------------------+----------+----------+---+\n",
      "|++7jKYbuIJPXry8Oh...|2016-03-12|2016-03-22|  0|\n",
      "|+0RJtbyhoPAHPa+34...|2016-01-13|2017-02-27|  0|\n",
      "|+3tRPOto/e58mdDA6...|2016-01-18|2016-02-17|  0|\n",
      "|+43UqHvqzu5STDVIu...|2015-12-08|2017-02-28|  0|\n",
      "|+4dMilwe46UsxpXXH...|2016-03-05|2016-04-04|  0|\n",
      "+--------------------+----------+----------+---+\n",
      "only showing top 5 rows\n",
      "\n"
     ]
    }
   ],
   "source": [
    "rdd3 = rdd2.map(lambda rec: rec[0:3] + [len(rec[3])])\n",
    "df4 = rdd3.toDF()\n",
    "df4.show(5)"
   ]
  },
  {
   "cell_type": "code",
   "execution_count": 80,
   "metadata": {},
   "outputs": [
    {
     "name": "stdout",
     "output_type": "stream",
     "text": [
      "+-------+\n",
      "|max(_4)|\n",
      "+-------+\n",
      "|     24|\n",
      "+-------+\n",
      "\n"
     ]
    }
   ],
   "source": [
    "from pyspark.sql.functions import max\n",
    "df4.select(max('_4')).show()\n",
    "\n",
    "# max number of gaps:"
   ]
  },
  {
   "cell_type": "code",
   "execution_count": 71,
   "metadata": {},
   "outputs": [
    {
     "name": "stdout",
     "output_type": "stream",
     "text": [
      "+--------------------------------------------+----------+----------+---+\n",
      "|_1                                          |_2        |_3        |_4 |\n",
      "+--------------------------------------------+----------+----------+---+\n",
      "|+BauTESekzh7dOwBqraMw7OFo8WDD5nSCx5lRV3+f20=|2016-02-22|2016-04-26|1  |\n",
      "|+MjSIVqd6qvlkKaP36fgvZYpm7Ohuxdu6Adpu/1AltE=|2015-12-08|2016-02-16|1  |\n",
      "|+R423gwTlAs/eYBATR7PO6ZNh7moqhzA8xdDycFoBzA=|2016-11-08|2017-03-24|2  |\n",
      "|+Ub6MOxsZzLGHQY7PboV2+WynMkYNw4EMb/6OBm1hAI=|2016-01-05|2017-03-18|1  |\n",
      "|+Vzca1ck/BX03oBYaZ6itKg0TRbjlTguSvBSoklmQdM=|2015-11-17|2017-03-08|9  |\n",
      "|+oeGl0T3RuNNupdXwSr1tGfxCK+GXm+iBzm7Ro51VCw=|2016-11-01|2017-02-26|3  |\n",
      "|+s105VHAoSwRpH4V57fBUpnjVYsTyKKVDyAYSq60T7M=|2016-03-28|2016-12-19|1  |\n",
      "|+tFaz7anKlaqoHvlSemlCq0Yyfl7BNmURQ2Cyr41L8U=|2015-11-22|2017-02-26|3  |\n",
      "|+zYFX6MrmMLTsTNsnBPpBGK8ALau35WeAjOhn65Meyc=|2016-02-22|2016-08-05|2  |\n",
      "|/2MZyij2F9o/eA1bCIIZU+MROmm7qf9MjjaXL/9F2zo=|2015-11-18|2017-03-03|4  |\n",
      "+--------------------------------------------+----------+----------+---+\n",
      "only showing top 10 rows\n",
      "\n"
     ]
    }
   ],
   "source": [
    "df4.where('_4 > 0').show(10, truncate=False)"
   ]
  },
  {
   "cell_type": "code",
   "execution_count": 72,
   "metadata": {},
   "outputs": [
    {
     "data": {
      "text/plain": [
       "[['+R423gwTlAs/eYBATR7PO6ZNh7moqhzA8xdDycFoBzA=',\n",
       "  '2017-02-21_2017-03-23|2016-11-22_2016-12-22|2016-11-08_2016-11-15|2016-12-23_2017-01-22']]"
      ]
     },
     "execution_count": 72,
     "metadata": {},
     "output_type": "execute_result"
    }
   ],
   "source": [
    "rdd1.filter(lambda rec: rec[0]=='+R423gwTlAs/eYBATR7PO6ZNh7moqhzA8xdDycFoBzA=').collect()"
   ]
  },
  {
   "cell_type": "code",
   "execution_count": 82,
   "metadata": {},
   "outputs": [
    {
     "data": {
      "text/plain": [
       "[['+R423gwTlAs/eYBATR7PO6ZNh7moqhzA8xdDycFoBzA=',\n",
       "  '2016-11-08',\n",
       "  '2017-03-24',\n",
       "  [('2016-11-16', '2016-11-22'), ('2017-01-23', '2017-02-21')]]]"
      ]
     },
     "execution_count": 82,
     "metadata": {},
     "output_type": "execute_result"
    }
   ],
   "source": [
    "rdd2.filter(lambda rec: rec[0]=='+R423gwTlAs/eYBATR7PO6ZNh7moqhzA8xdDycFoBzA=').collect()"
   ]
  },
  {
   "cell_type": "markdown",
   "metadata": {},
   "source": [
    "# Output"
   ]
  },
  {
   "cell_type": "code",
   "execution_count": 7,
   "metadata": {
    "scrolled": true
   },
   "outputs": [
    {
     "data": {
      "text/plain": [
       "[['++7jKYbuIJPXry8Oh1NcEh9fCsqcQgUaaxXsgG15kMg=',\n",
       "  '2016-03-12',\n",
       "  '2016-03-22',\n",
       "  ''],\n",
       " ['+0RJtbyhoPAHPa+34MkYcE2Ox0cjMgJOTXMXVBYgkJE=',\n",
       "  '2016-01-13',\n",
       "  '2017-02-27',\n",
       "  ''],\n",
       " ['+3tRPOto/e58mdDA6oluFztHfwlqjJeNXb1vmYQjWfw=',\n",
       "  '2016-01-18',\n",
       "  '2016-02-17',\n",
       "  ''],\n",
       " ['+43UqHvqzu5STDVIuBLWryllqYYP4UrG9XyiajeGePk=',\n",
       "  '2015-12-08',\n",
       "  '2017-02-28',\n",
       "  ''],\n",
       " ['+4dMilwe46UsxpXXH0O7/mF3g+5fn4MAF2VTWPNzuoo=',\n",
       "  '2016-03-05',\n",
       "  '2016-04-04',\n",
       "  '']]"
      ]
     },
     "execution_count": 7,
     "metadata": {},
     "output_type": "execute_result"
    }
   ],
   "source": [
    "def gaps_to_string(gaps):\n",
    "    gaps_string_list = ['_'.join(gap) for gap in gaps]\n",
    "    return '|'.join(gaps_string_list)\n",
    "\n",
    "#gaps_to_string([('2016-11-16', '2016-11-22'), ('2017-01-23', '2017-02-21')])\n",
    "\n",
    "rdd3 = rdd2.map(lambda rec: rec[0:3] + [gaps_to_string(rec[3])])\n",
    "rdd3.take(5)"
   ]
  },
  {
   "cell_type": "code",
   "execution_count": 13,
   "metadata": {},
   "outputs": [
    {
     "name": "stdout",
     "output_type": "stream",
     "text": [
      "+--------------------+----------------+----------------+--------------------+\n",
      "|                msno|first_start_date|last_expire_date|                gaps|\n",
      "+--------------------+----------------+----------------+--------------------+\n",
      "|++7jKYbuIJPXry8Oh...|      2016-03-12|      2016-03-22|                    |\n",
      "|+0RJtbyhoPAHPa+34...|      2016-01-13|      2017-02-27|                    |\n",
      "|+3tRPOto/e58mdDA6...|      2016-01-18|      2016-02-17|                    |\n",
      "|+43UqHvqzu5STDVIu...|      2015-12-08|      2017-02-28|                    |\n",
      "|+4dMilwe46UsxpXXH...|      2016-03-05|      2016-04-04|                    |\n",
      "|+5p5fm9oHH8ukkNG1...|      2016-06-08|      2016-07-08|                    |\n",
      "|+7LsJK3q0POdtDWvw...|      2016-06-03|      2016-07-01|                    |\n",
      "|+7f07tkg6Q6sPq1MX...|      2016-11-17|      2016-11-24|                    |\n",
      "|+8suRKxAwKNflQAfd...|      2016-11-05|      2016-11-12|                    |\n",
      "|+98dadrcy1re8eJQo...|      2016-10-24|      2016-10-31|                    |\n",
      "|+9X+kOvArYU6AYtdY...|      2016-11-13|      2016-11-20|                    |\n",
      "|+BEFhhOsyuiTg14Kq...|      2015-11-14|      2015-12-14|                    |\n",
      "|+BauTESekzh7dOwBq...|      2016-02-22|      2016-04-25|2016-03-24_2016-0...|\n",
      "|+CP9ZYRo9JnR0ICPZ...|      2016-05-05|      2016-11-19|                    |\n",
      "|+CbFktd/ap/Zxkfla...|      2016-11-26|      2016-12-03|                    |\n",
      "|+J87iIu2aFd2ZXf6g...|      2016-06-24|      2016-06-30|                    |\n",
      "|+JUv12RygY6bgv4Vo...|      2016-11-25|      2016-12-02|                    |\n",
      "|+JnhJcr4oD5Z0kX3E...|      2015-11-02|      2015-12-02|                    |\n",
      "|+KOCWQtfYg/AzdZxZ...|      2016-11-22|      2016-11-29|                    |\n",
      "|+KeVLXI9EeGG/mPEi...|      2016-01-30|      2016-02-29|                    |\n",
      "|+MjSIVqd6qvlkKaP3...|      2015-12-08|      2016-02-15|2016-01-08_2016-0...|\n",
      "|+NaRi/wkOw9wtDFHM...|      2016-04-16|      2016-10-16|                    |\n",
      "|+NhnHCHWzfgJUDmc1...|      2017-02-22|      2017-03-24|                    |\n",
      "|+PSMpTcFNjoswdFWH...|      2016-01-26|      2016-02-28|                    |\n",
      "|+QWX04qIeP5V7H5UU...|      2016-09-03|      2016-09-09|                    |\n",
      "|+R423gwTlAs/eYBAT...|      2016-11-08|      2017-03-23|2016-11-16_2016-1...|\n",
      "|+Rg9pW0gbfTyn5QkE...|      2016-11-20|      2016-11-27|                    |\n",
      "|+RyMtHQo5NAxjyiiI...|      2016-10-31|      2016-11-07|                    |\n",
      "|+T3OWEvd6OSd2UZkD...|      2016-07-28|      2016-11-07|                    |\n",
      "|+Ub6MOxsZzLGHQY7P...|      2016-01-05|      2017-03-17|2016-07-22_2016-0...|\n",
      "|+Vzca1ck/BX03oBYa...|      2015-11-17|      2017-03-07|2016-01-18_2016-0...|\n",
      "|+WNgO24jlMA5VXddC...|      2016-10-25|      2016-11-01|                    |\n",
      "|+c6XYBVdN/MuW3n63...|      2016-11-03|      2016-11-10|                    |\n",
      "|+fEN2BKbDISUih1uq...|      2016-11-25|      2016-12-02|                    |\n",
      "|+gHyxH5x3CT+n20DT...|      2016-10-29|      2016-11-05|                    |\n",
      "+--------------------+----------------+----------------+--------------------+\n",
      "only showing top 35 rows\n",
      "\n"
     ]
    }
   ],
   "source": [
    "from pyspark.sql import Row\n",
    "rdd4 = rdd3.map(lambda rec: Row(msno=rec[0], \n",
    "                                first_start_date=rec[1],\n",
    "                                last_expire_date=rec[2],\n",
    "                                gaps=rec[3]\n",
    "                               ))\n",
    "df5 = rdd4.toDF().select('msno', 'first_start_date', 'last_expire_date', 'gaps')\n",
    "df5.show(35)"
   ]
  },
  {
   "cell_type": "code",
   "execution_count": 14,
   "metadata": {},
   "outputs": [],
   "source": [
    "outfile = dir0 + 'member_active_gaps'\n",
    "df5.write.format('csv').option('header','true').save(outfile)"
   ]
  },
  {
   "cell_type": "code",
   "execution_count": null,
   "metadata": {},
   "outputs": [],
   "source": []
  },
  {
   "cell_type": "code",
   "execution_count": null,
   "metadata": {},
   "outputs": [],
   "source": []
  }
 ],
 "metadata": {
  "kernelspec": {
   "display_name": "Python 3",
   "language": "python",
   "name": "python3"
  },
  "language_info": {
   "codemirror_mode": {
    "name": "ipython",
    "version": 3
   },
   "file_extension": ".py",
   "mimetype": "text/x-python",
   "name": "python",
   "nbconvert_exporter": "python",
   "pygments_lexer": "ipython3",
   "version": "3.6.6"
  },
  "toc": {
   "base_numbering": 1,
   "nav_menu": {},
   "number_sections": true,
   "sideBar": true,
   "skip_h1_title": false,
   "title_cell": "Table of Contents",
   "title_sidebar": "Contents",
   "toc_cell": false,
   "toc_position": {},
   "toc_section_display": true,
   "toc_window_display": false
  }
 },
 "nbformat": 4,
 "nbformat_minor": 2
}
