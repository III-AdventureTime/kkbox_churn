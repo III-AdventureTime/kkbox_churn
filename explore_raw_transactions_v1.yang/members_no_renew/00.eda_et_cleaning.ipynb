{
 "cells": [
  {
   "cell_type": "code",
   "execution_count": 1,
   "metadata": {},
   "outputs": [
    {
     "data": {
      "text/html": [
       "\n",
       "            <div>\n",
       "                <p><b>SparkSession - hive</b></p>\n",
       "                \n",
       "        <div>\n",
       "            <p><b>SparkContext</b></p>\n",
       "\n",
       "            <p><a href=\"http://10.120.27.99:4040\">Spark UI</a></p>\n",
       "\n",
       "            <dl>\n",
       "              <dt>Version</dt>\n",
       "                <dd><code>v2.2.1</code></dd>\n",
       "              <dt>Master</dt>\n",
       "                <dd><code>local[*]</code></dd>\n",
       "              <dt>AppName</dt>\n",
       "                <dd><code>PySparkShell</code></dd>\n",
       "            </dl>\n",
       "        </div>\n",
       "        \n",
       "            </div>\n",
       "        "
      ],
      "text/plain": [
       "<pyspark.sql.session.SparkSession at 0x7f28cc5371d0>"
      ]
     },
     "execution_count": 1,
     "metadata": {},
     "output_type": "execute_result"
    }
   ],
   "source": [
    "spark "
   ]
  },
  {
   "cell_type": "code",
   "execution_count": 2,
   "metadata": {
    "collapsed": true
   },
   "outputs": [],
   "source": [
    "dir0 = 'file:///home/cloudera/2.kkbox_churn/data01/'"
   ]
  },
  {
   "cell_type": "code",
   "execution_count": 3,
   "metadata": {},
   "outputs": [
    {
     "name": "stdout",
     "output_type": "stream",
     "text": [
      "root\n",
      " |-- msno: string (nullable = true)\n",
      " |-- payment_method: integer (nullable = true)\n",
      " |-- plan_days: integer (nullable = true)\n",
      " |-- list_price: integer (nullable = true)\n",
      " |-- actual_paid: integer (nullable = true)\n",
      " |-- is_auto_renew: integer (nullable = true)\n",
      " |-- trans_date: integer (nullable = true)\n",
      " |-- exp_date: integer (nullable = true)\n",
      " |-- is_cancel: integer (nullable = true)\n",
      "\n"
     ]
    }
   ],
   "source": [
    "df0_ = spark.read.format('csv').option('header', 'true').option('inferSchema', 'true') \\\n",
    "            .load(dir0+'transactions-v1_members-no-renew.csv')\n",
    "df0_.printSchema()"
   ]
  },
  {
   "cell_type": "code",
   "execution_count": 7,
   "metadata": {},
   "outputs": [
    {
     "data": {
      "text/plain": [
       "0"
      ]
     },
     "execution_count": 7,
     "metadata": {},
     "output_type": "execute_result"
    }
   ],
   "source": [
    "# check\n",
    "df0_.where('is_auto_renew != 0').count()  # should be 0"
   ]
  },
  {
   "cell_type": "code",
   "execution_count": 8,
   "metadata": {},
   "outputs": [
    {
     "data": {
      "text/plain": [
       "0"
      ]
     },
     "execution_count": 8,
     "metadata": {},
     "output_type": "execute_result"
    }
   ],
   "source": [
    "df0_.where('is_cancel != 0').count()  # should be 0"
   ]
  },
  {
   "cell_type": "code",
   "execution_count": 4,
   "metadata": {},
   "outputs": [
    {
     "name": "stdout",
     "output_type": "stream",
     "text": [
      "+--------------------+--------------+---------+----------+-----------+----------+--------+\n",
      "|                msno|payment_method|plan_days|list_price|actual_paid|trans_date|exp_date|\n",
      "+--------------------+--------------+---------+----------+-----------+----------+--------+\n",
      "|++XNdJjfGpF5k/o25...|            38|       30|       149|        149|  20151107|20151207|\n",
      "|++XNdJjfGpF5k/o25...|            38|       90|       447|        447|  20160104|20160403|\n",
      "|++wYPELMJ2byTXrC7...|            38|      360|      1200|       1200|  20160205|20170130|\n",
      "+--------------------+--------------+---------+----------+-----------+----------+--------+\n",
      "only showing top 3 rows\n",
      "\n"
     ]
    }
   ],
   "source": [
    "df0 = df0_.drop('is_auto_renew').drop('is_cancel')\n",
    "df0.show(3)"
   ]
  },
  {
   "cell_type": "code",
   "execution_count": 17,
   "metadata": {},
   "outputs": [
    {
     "data": {
      "text/plain": [
       "1821142"
      ]
     },
     "execution_count": 17,
     "metadata": {},
     "output_type": "execute_result"
    }
   ],
   "source": [
    "df0.count()"
   ]
  },
  {
   "cell_type": "code",
   "execution_count": 4,
   "metadata": {},
   "outputs": [
    {
     "name": "stdout",
     "output_type": "stream",
     "text": [
      "651043\n"
     ]
    }
   ],
   "source": [
    "Nmem0 = df0.groupBy('msno').count().count()\n",
    "print(Nmem0)"
   ]
  },
  {
   "cell_type": "markdown",
   "metadata": {},
   "source": [
    "# plan_days"
   ]
  },
  {
   "cell_type": "code",
   "execution_count": 5,
   "metadata": {},
   "outputs": [
    {
     "name": "stdout",
     "output_type": "stream",
     "text": [
      "+---------+-------+\n",
      "|plan_days|  count|\n",
      "+---------+-------+\n",
      "|        1|    795|\n",
      "|        2|     53|\n",
      "|        3|     40|\n",
      "|        7| 354203|\n",
      "|       10|  34266|\n",
      "|       14|    724|\n",
      "|       15|      5|\n",
      "|       21|    156|\n",
      "|       30|1279481|\n",
      "|       35|    681|\n",
      "|       45|   1080|\n",
      "|       60|   4465|\n",
      "|       66|    147|\n",
      "|       70|    285|\n",
      "|       80|    172|\n",
      "|       90|   4929|\n",
      "|       99|    273|\n",
      "|      100|  17158|\n",
      "|      110|    137|\n",
      "|      120|   9321|\n",
      "|      180|  27514|\n",
      "|      195|  51653|\n",
      "|      200|   3758|\n",
      "|      230|     38|\n",
      "|      240|   1016|\n",
      "|      270|     60|\n",
      "|      360|   2761|\n",
      "|      365|    139|\n",
      "|      395|   3047|\n",
      "|      400|    953|\n",
      "|      410|  21613|\n",
      "|      415|      1|\n",
      "|      450|    218|\n",
      "+---------+-------+\n",
      "\n"
     ]
    }
   ],
   "source": [
    "df1 = df0.groupBy('plan_days').count() \\\n",
    "      .sort('plan_days')\n",
    "df1.show(40)"
   ]
  },
  {
   "cell_type": "markdown",
   "metadata": {},
   "source": [
    "## trans_date vs. plan_days"
   ]
  },
  {
   "cell_type": "code",
   "execution_count": 6,
   "metadata": {
    "collapsed": true
   },
   "outputs": [],
   "source": [
    "from pyspark.sql.functions import count, max, min\n",
    "df1 = df0.groupBy('plan_days') \\\n",
    "        .agg(count(\"*\").alias('count'), \n",
    "             min('trans_date').alias('min_trans_date'),\n",
    "             max('trans_date').alias('max_trans_date')\n",
    "            ) \\\n",
    "        .sort('plan_days')"
   ]
  },
  {
   "cell_type": "code",
   "execution_count": 7,
   "metadata": {},
   "outputs": [
    {
     "name": "stdout",
     "output_type": "stream",
     "text": [
      "+---------+-------+--------------+--------------+\n",
      "|plan_days|  count|min_trans_date|max_trans_date|\n",
      "+---------+-------+--------------+--------------+\n",
      "|        1|    795|      20151102|      20170228|\n",
      "|        2|     53|      20151103|      20170126|\n",
      "|        3|     40|      20151114|      20170224|\n",
      "|        7| 354203|      20151101|      20170228|\n",
      "|       10|  34266|      20151101|      20170228|\n",
      "|       14|    724|      20151116|      20170105|\n",
      "|       15|      5|      20151112|      20151228|\n",
      "|       21|    156|      20151101|      20170114|\n",
      "|       30|1279481|      20151101|      20170228|\n",
      "|       35|    681|      20151215|      20161123|\n",
      "|       45|   1080|      20170124|      20170206|\n",
      "|       60|   4465|      20151101|      20170228|\n",
      "|       66|    147|      20160531|      20160708|\n",
      "|       70|    285|      20151102|      20170117|\n",
      "|       80|    172|      20151105|      20170108|\n",
      "|       90|   4929|      20151101|      20161231|\n",
      "|       99|    273|      20160202|      20160921|\n",
      "|      100|  17158|      20151101|      20161221|\n",
      "|      110|    137|      20161108|      20161201|\n",
      "|      120|   9321|      20151114|      20170228|\n",
      "|      180|  27514|      20151101|      20170221|\n",
      "|      195|  51653|      20151101|      20170228|\n",
      "|      200|   3758|      20151101|      20160912|\n",
      "|      230|     38|      20151105|      20160811|\n",
      "|      240|   1016|      20170110|      20170228|\n",
      "|      270|     60|      20160602|      20161220|\n",
      "|      360|   2761|      20151101|      20160405|\n",
      "|      365|    139|      20151101|      20160327|\n",
      "|      395|   3047|      20151101|      20170228|\n",
      "|      400|    953|      20151101|      20160224|\n",
      "|      410|  21613|      20151101|      20170228|\n",
      "|      415|      1|      20161219|      20161219|\n",
      "|      450|    218|      20151101|      20160106|\n",
      "+---------+-------+--------------+--------------+\n",
      "\n"
     ]
    }
   ],
   "source": [
    "df1.show(40)"
   ]
  },
  {
   "cell_type": "code",
   "execution_count": 8,
   "metadata": {
    "collapsed": true
   },
   "outputs": [],
   "source": [
    "def month_No_since_201501(date_int):\n",
    "    '''returns an integer'''\n",
    "    ym = date_int // 100\n",
    "    yr = ym // 100\n",
    "    mn = ym % 100\n",
    "    return (yr - 2015)*12 + mn\n",
    "\n",
    "from pyspark.sql.functions import udf\n",
    "from pyspark.sql.types import IntegerType\n",
    "get_month_No = udf(month_No_since_201501, IntegerType())"
   ]
  },
  {
   "cell_type": "code",
   "execution_count": 9,
   "metadata": {
    "collapsed": true
   },
   "outputs": [],
   "source": [
    "from pyspark.sql.functions import col\n",
    "df2 = df1.withColumn('min_trans_date_mno', get_month_No('min_trans_date')) \\\n",
    "         .withColumn('max_trans_date_mno', get_month_No('max_trans_date'))"
   ]
  },
  {
   "cell_type": "code",
   "execution_count": 10,
   "metadata": {},
   "outputs": [
    {
     "name": "stdout",
     "output_type": "stream",
     "text": [
      "+---------+-----+--------------+--------------+------------------+------------------+\n",
      "|plan_days|count|min_trans_date|max_trans_date|min_trans_date_mno|max_trans_date_mno|\n",
      "+---------+-----+--------------+--------------+------------------+------------------+\n",
      "|        1|  795|      20151102|      20170228|                11|                26|\n",
      "|        2|   53|      20151103|      20170126|                11|                25|\n",
      "|        3|   40|      20151114|      20170224|                11|                26|\n",
      "+---------+-----+--------------+--------------+------------------+------------------+\n",
      "only showing top 3 rows\n",
      "\n"
     ]
    }
   ],
   "source": [
    "df2.show(3)"
   ]
  },
  {
   "cell_type": "code",
   "execution_count": 12,
   "metadata": {},
   "outputs": [
    {
     "data": {
      "image/png": "[encoded data removed]",
      "text/plain": [
       "<Figure size 720x216 with 1 Axes>"
      ]
     },
     "metadata": {},
     "output_type": "display_data"
    }
   ],
   "source": [
    "import pandas as pd\n",
    "import matplotlib.pyplot as plt\n",
    "\n",
    "df2.where('count >= 40') \\\n",
    "   .select('plan_days', 'min_trans_date_mno', 'max_trans_date_mno') \\\n",
    "   .toPandas().set_index('plan_days').plot(kind='bar', figsize=(10,3), ylim=(10,27), legend=False)\n",
    "plt.show()"
   ]
  },
  {
   "cell_type": "markdown",
   "metadata": {},
   "source": [
    "# list_price = 0"
   ]
  },
  {
   "cell_type": "code",
   "execution_count": 80,
   "metadata": {},
   "outputs": [
    {
     "name": "stdout",
     "output_type": "stream",
     "text": [
      "+--------------------+----------+---------+----------+----------+----------+-----------------+\n",
      "|                msno|list_price|plan_days|trans_date|start_date|  exp_date|start_minus_trans|\n",
      "+--------------------+----------+---------+----------+----------+----------+-----------------+\n",
      "|nuNWXAG/T41m2CTNT...|       149|       30|2016-01-25|2016-01-25|2016-02-24|                0|\n",
      "|nuNWXAG/T41m2CTNT...|       149|       30|2016-06-09|2016-06-10|2016-07-09|                1|\n",
      "|nuNWXAG/T41m2CTNT...|       149|       30|2015-11-20|2015-11-21|2015-12-20|                1|\n",
      "+--------------------+----------+---------+----------+----------+----------+-----------------+\n",
      "only showing top 3 rows\n",
      "\n"
     ]
    }
   ],
   "source": [
    "df3.show(3)"
   ]
  },
  {
   "cell_type": "code",
   "execution_count": 94,
   "metadata": {},
   "outputs": [
    {
     "name": "stdout",
     "output_type": "stream",
     "text": [
      "+-------+------------------+\n",
      "|summary|   exp_minus_trans|\n",
      "+-------+------------------+\n",
      "|  count|            390061|\n",
      "|   mean|11.405062285129763|\n",
      "| stddev|26.974195795130967|\n",
      "|    min|                -8|\n",
      "|    max|               480|\n",
      "+-------+------------------+\n",
      "\n"
     ]
    }
   ],
   "source": [
    "from pyspark.sql.functions import col, datediff\n",
    "df4 = df3.where('list_price = 0') \\\n",
    "         .select(datediff('exp_date', 'trans_date').alias('exp_minus_trans'))\n",
    "df4.describe().show()"
   ]
  },
  {
   "cell_type": "code",
   "execution_count": 96,
   "metadata": {},
   "outputs": [
    {
     "data": {
      "text/plain": [
       "55"
      ]
     },
     "execution_count": 96,
     "metadata": {},
     "output_type": "execute_result"
    }
   ],
   "source": [
    "df4.where('exp_minus_trans < 0').count()"
   ]
  },
  {
   "cell_type": "code",
   "execution_count": 99,
   "metadata": {},
   "outputs": [
    {
     "name": "stdout",
     "output_type": "stream",
     "text": [
      "+---------------+-----+\n",
      "|exp_minus_trans|count|\n",
      "+---------------+-----+\n",
      "|             -8|    1|\n",
      "|             -4|    2|\n",
      "|             -3|   12|\n",
      "|             -2|   32|\n",
      "|             -1|    8|\n",
      "+---------------+-----+\n",
      "\n"
     ]
    }
   ],
   "source": [
    "df4.where('exp_minus_trans < 0') \\\n",
    "   .groupBy('exp_minus_trans').count() \\\n",
    "   .sort('exp_minus_trans').show()"
   ]
  },
  {
   "cell_type": "markdown",
   "metadata": {},
   "source": [
    "# number of records for each member "
   ]
  },
  {
   "cell_type": "code",
   "execution_count": 25,
   "metadata": {},
   "outputs": [
    {
     "name": "stdout",
     "output_type": "stream",
     "text": [
      "+--------------------+-----------+--------+\n",
      "|                msno|count_trans|sum_days|\n",
      "+--------------------+-----------+--------+\n",
      "|++7jKYbuIJPXry8Oh...|          1|      10|\n",
      "|+0RJtbyhoPAHPa+34...|          1|     410|\n",
      "|+3tRPOto/e58mdDA6...|          1|      30|\n",
      "|+43UqHvqzu5STDVIu...|          5|     440|\n",
      "|+4dMilwe46UsxpXXH...|          1|      30|\n",
      "|+5p5fm9oHH8ukkNG1...|          1|      30|\n",
      "|+7LsJK3q0POdtDWvw...|          1|       7|\n",
      "|+7f07tkg6Q6sPq1MX...|          1|       7|\n",
      "|+8suRKxAwKNflQAfd...|          1|       7|\n",
      "|+98dadrcy1re8eJQo...|          1|       7|\n",
      "+--------------------+-----------+--------+\n",
      "only showing top 10 rows\n",
      "\n"
     ]
    }
   ],
   "source": [
    "from pyspark.sql.functions import count, sum\n",
    "df1 = df0.groupBy('msno') \\\n",
    "         .agg(count('*').alias('count_trans'), sum('plan_days').alias('sum_days'))\n",
    "df1.show(10)"
   ]
  },
  {
   "cell_type": "code",
   "execution_count": 29,
   "metadata": {},
   "outputs": [
    {
     "name": "stdout",
     "output_type": "stream",
     "text": [
      "+----------------+\n",
      "|max(count_trans)|\n",
      "+----------------+\n",
      "|              63|\n",
      "+----------------+\n",
      "\n"
     ]
    }
   ],
   "source": [
    "from pyspark.sql.functions import max\n",
    "df1.select(max('count_trans')).show()"
   ]
  },
  {
   "cell_type": "markdown",
   "metadata": {},
   "source": [
    "## total number of transactions for each memeber"
   ]
  },
  {
   "cell_type": "code",
   "execution_count": 37,
   "metadata": {},
   "outputs": [
    {
     "name": "stdout",
     "output_type": "stream",
     "text": [
      "+-----------+-------------+\n",
      "|count_trans|count_members|\n",
      "+-----------+-------------+\n",
      "|          1|       397554|\n",
      "|          2|        78052|\n",
      "|          3|        35302|\n",
      "|          4|        24707|\n",
      "|          5|        20312|\n",
      "|          6|        16308|\n",
      "|          7|        12020|\n",
      "|          8|        10093|\n",
      "|          9|         9070|\n",
      "|         10|         8261|\n",
      "+-----------+-------------+\n",
      "only showing top 10 rows\n",
      "\n"
     ]
    }
   ],
   "source": [
    "from pyspark.sql.functions import count\n",
    "df2 = df1.groupBy('count_trans').agg(count('*').alias('count_members')) \\\n",
    "         .sort('count_trans')\n",
    "df2.show(10)"
   ]
  },
  {
   "cell_type": "code",
   "execution_count": 39,
   "metadata": {},
   "outputs": [
    {
     "data": {
      "text/plain": [
       "<matplotlib.axes._subplots.AxesSubplot at 0x7f6641854470>"
      ]
     },
     "execution_count": 39,
     "metadata": {},
     "output_type": "execute_result"
    },
    {
     "data": {
      "image/png": "[encoded data removed]",
      "text/plain": [
       "<Figure size 432x288 with 1 Axes>"
      ]
     },
     "metadata": {},
     "output_type": "display_data"
    }
   ],
   "source": [
    "import matplotlib.pyplot as plt\n",
    "df2.where('count_trans <= 20') \\\n",
    "   .toPandas().set_index('count_trans').plot(kind='bar')"
   ]
  },
  {
   "cell_type": "code",
   "execution_count": 42,
   "metadata": {},
   "outputs": [
    {
     "data": {
      "text/plain": [
       "<matplotlib.axes._subplots.AxesSubplot at 0x7f66413967f0>"
      ]
     },
     "execution_count": 42,
     "metadata": {},
     "output_type": "execute_result"
    },
    {
     "data": {
      "image/png": "[encoded data removed]",
      "text/plain": [
       "<Figure size 432x288 with 1 Axes>"
      ]
     },
     "metadata": {},
     "output_type": "display_data"
    }
   ],
   "source": [
    "import matplotlib.pyplot as plt\n",
    "df2.toPandas().plot(kind='scatter', x='count_trans', y='count_members', logy=True)"
   ]
  },
  {
   "cell_type": "markdown",
   "metadata": {},
   "source": [
    "## total number of subscription days for each member"
   ]
  },
  {
   "cell_type": "code",
   "execution_count": 43,
   "metadata": {},
   "outputs": [
    {
     "name": "stdout",
     "output_type": "stream",
     "text": [
      "+--------------------+-----------+--------+\n",
      "|                msno|count_trans|sum_days|\n",
      "+--------------------+-----------+--------+\n",
      "|++7jKYbuIJPXry8Oh...|          1|      10|\n",
      "|+0RJtbyhoPAHPa+34...|          1|     410|\n",
      "|+3tRPOto/e58mdDA6...|          1|      30|\n",
      "+--------------------+-----------+--------+\n",
      "only showing top 3 rows\n",
      "\n"
     ]
    }
   ],
   "source": [
    "df1.show(3)"
   ]
  },
  {
   "cell_type": "code",
   "execution_count": 47,
   "metadata": {},
   "outputs": [
    {
     "name": "stdout",
     "output_type": "stream",
     "text": [
      "+-------------+\n",
      "|max(sum_days)|\n",
      "+-------------+\n",
      "|         2430|\n",
      "+-------------+\n",
      "\n"
     ]
    }
   ],
   "source": [
    "df1.select(max('sum_days')).show()"
   ]
  },
  {
   "cell_type": "code",
   "execution_count": 46,
   "metadata": {},
   "outputs": [
    {
     "data": {
      "text/plain": [
       "[10, 410, 30, 440, 30, 30, 7, 7, 7, 7]"
      ]
     },
     "execution_count": 46,
     "metadata": {},
     "output_type": "execute_result"
    }
   ],
   "source": [
    "rdd2 = df1.rdd.map(lambda r : r['sum_days'])\n",
    "rdd2.take(10)"
   ]
  },
  {
   "cell_type": "code",
   "execution_count": 65,
   "metadata": {},
   "outputs": [
    {
     "data": {
      "text/plain": [
       "<matplotlib.axes._subplots.AxesSubplot at 0x7f6640d55550>"
      ]
     },
     "execution_count": 65,
     "metadata": {},
     "output_type": "execute_result"
    },
    {
     "data": {
      "image/png": "[encoded data removed]",
      "text/plain": [
       "<Figure size 432x288 with 1 Axes>"
      ]
     },
     "metadata": {},
     "output_type": "display_data"
    }
   ],
   "source": [
    "from prepare_hist_data import prepare_histogram_data\n",
    "import pandas as pd\n",
    "\n",
    "hist_data = prepare_histogram_data(rdd2, 1, 2431, 30)\n",
    "pdf = pd.DataFrame(hist_data['bin_centers_counts'], columns=['total_days', 'count']) \\\n",
    "      .set_index('total_days')\n",
    "pdf.plot(kind='bar')"
   ]
  },
  {
   "cell_type": "code",
   "execution_count": 66,
   "metadata": {},
   "outputs": [
    {
     "data": {
      "text/plain": [
       "<matplotlib.axes._subplots.AxesSubplot at 0x7f6640cbb0f0>"
      ]
     },
     "execution_count": 66,
     "metadata": {},
     "output_type": "execute_result"
    },
    {
     "data": {
      "image/png": "[encoded data removed]",
      "text/plain": [
       "<Figure size 432x288 with 1 Axes>"
      ]
     },
     "metadata": {},
     "output_type": "display_data"
    }
   ],
   "source": [
    "from prepare_hist_data import prepare_histogram_data\n",
    "import pandas as pd\n",
    "\n",
    "hist_data = prepare_histogram_data(rdd2, 1, 511, 30)\n",
    "pdf = pd.DataFrame(hist_data['bin_centers_counts'], columns=['total_days', 'count']) \\\n",
    "      .set_index('total_days')\n",
    "pdf.plot(kind='bar')"
   ]
  },
  {
   "cell_type": "code",
   "execution_count": 67,
   "metadata": {},
   "outputs": [
    {
     "data": {
      "text/plain": [
       "<matplotlib.axes._subplots.AxesSubplot at 0x7f6640c03b00>"
      ]
     },
     "execution_count": 67,
     "metadata": {},
     "output_type": "execute_result"
    },
    {
     "data": {
      "image/png": "[encoded data removed]",
      "text/plain": [
       "<Figure size 432x288 with 1 Axes>"
      ]
     },
     "metadata": {},
     "output_type": "display_data"
    }
   ],
   "source": [
    "from prepare_hist_data import prepare_histogram_data\n",
    "import pandas as pd\n",
    "\n",
    "hist_data = prepare_histogram_data(rdd2, 1, 71, 35)\n",
    "pdf = pd.DataFrame(hist_data['bin_centers_counts'], columns=['total_days', 'count']) \\\n",
    "      .set_index('total_days')\n",
    "pdf.plot(kind='bar')"
   ]
  },
  {
   "cell_type": "code",
   "execution_count": 69,
   "metadata": {},
   "outputs": [
    {
     "data": {
      "text/plain": [
       "<matplotlib.axes._subplots.AxesSubplot at 0x7f6640a6c6a0>"
      ]
     },
     "execution_count": 69,
     "metadata": {},
     "output_type": "execute_result"
    },
    {
     "data": {
      "image/png": "[encoded data removed]",
      "text/plain": [
       "<Figure size 432x288 with 1 Axes>"
      ]
     },
     "metadata": {},
     "output_type": "display_data"
    }
   ],
   "source": [
    "from prepare_hist_data import prepare_histogram_data\n",
    "import pandas as pd\n",
    "\n",
    "hist_data = prepare_histogram_data(rdd2, 0.5, 35.5, 35)\n",
    "pdf = pd.DataFrame(hist_data['bin_centers_counts'], columns=['total_days', 'count']) \\\n",
    "      .set_index('total_days')\n",
    "pdf.plot(kind='bar')"
   ]
  },
  {
   "cell_type": "markdown",
   "metadata": {},
   "source": [
    "# exp_date < 2015/01/01"
   ]
  },
  {
   "cell_type": "code",
   "execution_count": 11,
   "metadata": {},
   "outputs": [
    {
     "name": "stdout",
     "output_type": "stream",
     "text": [
      "+--------------------------------------------+--------------+---------+----------+-----------+----------+--------+\n",
      "|msno                                        |payment_method|plan_days|list_price|actual_paid|trans_date|exp_date|\n",
      "+--------------------------------------------+--------------+---------+----------+-----------+----------+--------+\n",
      "|5dHiSSughrDxCvIFOnwdGyj464eDbw1kj0z5ULaTZL4=|17            |60       |0         |0          |20170125  |19700101|\n",
      "|L9htK0C5G++25W9s8JHXnlBwidGhkavYB47KLHZUl28=|17            |240      |0         |0          |20170201  |19700101|\n",
      "|Ojkvmk0tNkDQUAWk2mWlSw4xwZro/Qcs0CXo26q6x/Q=|17            |120      |0         |0          |20170126  |19700101|\n",
      "|PIKH3Ge8L+SBli3F3HvwVd9yd/ElW7W8FHtoEh44umA=|17            |60       |0         |0          |20170114  |19700101|\n",
      "|ZXHk5Lkam9yZadqJEf6XIlST8FJbGMsmKtGPidcoLXc=|17            |60       |0         |0          |20170116  |19700101|\n",
      "|fneCqCp7sETBlpOVE3HKP7bD6QRayxaNlM7KMr3as7U=|17            |60       |0         |0          |20170201  |19700101|\n",
      "|7YopK8CScCReTZAenlWj0B6B0wr8bLznBwImsAe/Cw8=|17            |120      |0         |0          |20170121  |19700101|\n",
      "|IaGGS1gEZcqfpJKmnRFmlZvPagHL/Cs2A1ZqLsOzCI8=|17            |60       |0         |0          |20170122  |19700101|\n",
      "|oWjanGP1dTSShjeuD5m8yIIaQozmLpzMPAtAzrBlTRw=|17            |60       |0         |0          |20170125  |19700101|\n",
      "|obIt445mFd6RNq/GjHOQpv8GKuMlpdCNgy6x5BRSAGU=|17            |60       |0         |0          |20170114  |19700101|\n",
      "+--------------------------------------------+--------------+---------+----------+-----------+----------+--------+\n",
      "only showing top 10 rows\n",
      "\n"
     ]
    }
   ],
   "source": [
    "df0.where('exp_date < 20150101').show(10, truncate=False)"
   ]
  },
  {
   "cell_type": "code",
   "execution_count": 18,
   "metadata": {},
   "outputs": [
    {
     "name": "stdout",
     "output_type": "stream",
     "text": [
      "+--------------------+--------------+---------+----------+-----------+----------+--------+\n",
      "|                msno|payment_method|plan_days|list_price|actual_paid|trans_date|exp_date|\n",
      "+--------------------+--------------+---------+----------+-----------+----------+--------+\n",
      "|49YbfSUKgdPqgBNjH...|            38|       30|       149|        149|  20161012|20161111|\n",
      "|49YbfSUKgdPqgBNjH...|            35|        7|         0|          0|  20160827|20160901|\n",
      "|49YbfSUKgdPqgBNjH...|            38|       30|       149|        149|  20161113|20161213|\n",
      "|49YbfSUKgdPqgBNjH...|            13|      410|      1788|       1788|  20161219|19700101|\n",
      "+--------------------+--------------+---------+----------+-----------+----------+--------+\n",
      "\n"
     ]
    }
   ],
   "source": [
    "from pyspark.sql.functions import col\n",
    "df0.where(col('msno') == '49YbfSUKgdPqgBNjH++mlFkwNYGF02njbHdwZorvhCA=').show()"
   ]
  },
  {
   "cell_type": "code",
   "execution_count": 10,
   "metadata": {},
   "outputs": [
    {
     "name": "stdout",
     "output_type": "stream",
     "text": [
      "+--------+-----+\n",
      "|exp_date|count|\n",
      "+--------+-----+\n",
      "|19700101| 1425|\n",
      "+--------+-----+\n",
      "\n"
     ]
    }
   ],
   "source": [
    "df0.where('exp_date < 20150101') \\\n",
    "   .groupBy('exp_date').count().show()"
   ]
  },
  {
   "cell_type": "code",
   "execution_count": 14,
   "metadata": {},
   "outputs": [
    {
     "name": "stdout",
     "output_type": "stream",
     "text": [
      "+----------+-----------+-----+\n",
      "|list_price|actual_paid|count|\n",
      "+----------+-----------+-----+\n",
      "|         0|          0| 1423|\n",
      "|       894|        894|    1|\n",
      "|      1788|       1788|    1|\n",
      "+----------+-----------+-----+\n",
      "\n"
     ]
    }
   ],
   "source": [
    "df0.where('exp_date < 20150101') \\\n",
    "   .groupBy('list_price', 'actual_paid').count().show()"
   ]
  },
  {
   "cell_type": "code",
   "execution_count": 16,
   "metadata": {},
   "outputs": [
    {
     "name": "stdout",
     "output_type": "stream",
     "text": [
      "+--------------+-----+\n",
      "|payment_method|count|\n",
      "+--------------+-----+\n",
      "|            13|    2|\n",
      "|            17| 1422|\n",
      "|            35|    1|\n",
      "+--------------+-----+\n",
      "\n"
     ]
    }
   ],
   "source": [
    "df0.where('exp_date < 20150101') \\\n",
    "   .groupBy('payment_method').count().show()"
   ]
  },
  {
   "cell_type": "markdown",
   "metadata": {},
   "source": [
    "* All the records with `exp_date` < 2015-01-01 have `exp_date` = 1970-01-01.\n",
    "* All (except 2) of the records with `exp_date` < 2015-01-01 have `list_price` = `actual_paid` = 0.\n",
    "* All (except 3) of the records with `exp_date` < 2015-01-01 have `payment_method` = 17."
   ]
  },
  {
   "cell_type": "code",
   "execution_count": 19,
   "metadata": {},
   "outputs": [
    {
     "data": {
      "text/plain": [
       "1425"
      ]
     },
     "execution_count": 19,
     "metadata": {},
     "output_type": "execute_result"
    }
   ],
   "source": [
    "df0.where('exp_date < 20150101').count()"
   ]
  },
  {
   "cell_type": "code",
   "execution_count": 20,
   "metadata": {},
   "outputs": [
    {
     "data": {
      "text/plain": [
       "1425"
      ]
     },
     "execution_count": 20,
     "metadata": {},
     "output_type": "execute_result"
    }
   ],
   "source": [
    "df0.where('exp_date < 20150101').groupBy('msno').count().count()"
   ]
  },
  {
   "cell_type": "markdown",
   "metadata": {},
   "source": [
    "* There are 1425 records with `exp_date` < 20150101.\n",
    "* There are 1425 members who have records with `exp_date` < 20150101."
   ]
  },
  {
   "cell_type": "code",
   "execution_count": 24,
   "metadata": {},
   "outputs": [
    {
     "data": {
      "text/plain": [
       "4279"
      ]
     },
     "execution_count": 24,
     "metadata": {},
     "output_type": "execute_result"
    }
   ],
   "source": [
    "df1 = df0.where('exp_date < 20150101').groupBy('msno').count()\n",
    "df2 = df0.join(df1, df0['msno']==df1['msno'], 'left_semi') \\\n",
    "         .sort('msno', 'trans_date') \\\n",
    "         .persist()\n",
    "df2.count()"
   ]
  },
  {
   "cell_type": "code",
   "execution_count": 26,
   "metadata": {},
   "outputs": [
    {
     "name": "stdout",
     "output_type": "stream",
     "text": [
      "+--------------------+--------------+---------+----------+-----------+----------+--------+\n",
      "|                msno|payment_method|plan_days|list_price|actual_paid|trans_date|exp_date|\n",
      "+--------------------+--------------+---------+----------+-----------+----------+--------+\n",
      "|+7/gCRCtmTgzCPPG9...|            17|      120|         0|          0|  20170124|19700101|\n",
      "|+7nq1DxnuoR4OyHv2...|            17|       60|         0|          0|  20170203|19700101|\n",
      "|+8Ic+Vu/CfF0I6AJr...|            17|       60|         0|          0|  20170117|19700101|\n",
      "|+ANjTMesjelS+V6Hr...|            38|       30|       149|        149|  20151119|20151219|\n",
      "|+ANjTMesjelS+V6Hr...|            38|      195|       894|        894|  20151225|20160707|\n",
      "|+ANjTMesjelS+V6Hr...|            38|      195|       894|        894|  20160707|20170118|\n",
      "|+ANjTMesjelS+V6Hr...|            17|      240|         0|          0|  20170119|19700101|\n",
      "|+D8fDi3V7uzRdyz4e...|            35|        7|         0|          0|  20161023|20161030|\n",
      "|+D8fDi3V7uzRdyz4e...|            17|       60|         0|          0|  20170125|19700101|\n",
      "|+FsI/t6m9+yVmODq3...|            17|       60|         0|          0|  20170126|19700101|\n",
      "+--------------------+--------------+---------+----------+-----------+----------+--------+\n",
      "only showing top 10 rows\n",
      "\n"
     ]
    }
   ],
   "source": [
    "df2.show(10)\n",
    "\n",
    "# The records of the members who have exp_date < 20150101."
   ]
  },
  {
   "cell_type": "code",
   "execution_count": 34,
   "metadata": {},
   "outputs": [
    {
     "name": "stdout",
     "output_type": "stream",
     "text": [
      "+--------------------+-------------+\n",
      "|                msno|last_exp_date|\n",
      "+--------------------+-------------+\n",
      "|/hpvi2XXLNnTotiDH...|     19700101|\n",
      "|3ygaUVqXvMCv6OPAB...|     20170301|\n",
      "|4mPcJNqnIWrDXqapc...|     19700101|\n",
      "|S5iQ0NdUpAqFAQ8s8...|     20170320|\n",
      "|SjTMD4QAH/QncTR83...|     19700101|\n",
      "|Tv6Hzs4tkgBaeAj+0...|     19700101|\n",
      "|jiCCgxb5Bt9oKrpQW...|     19700101|\n",
      "|o/bYBfh/CBWqPcegP...|     19700101|\n",
      "|rdSSmilzcSuz3m8aa...|     19700101|\n",
      "|1qq279q251/fP44/f...|     19700101|\n",
      "+--------------------+-------------+\n",
      "only showing top 10 rows\n",
      "\n"
     ]
    }
   ],
   "source": [
    "from pyspark.sql.functions import last\n",
    "df3 = df2.groupBy('msno').agg(last('exp_date').alias('last_exp_date'))\n",
    "df3.show(10)"
   ]
  },
  {
   "cell_type": "code",
   "execution_count": 35,
   "metadata": {},
   "outputs": [
    {
     "data": {
      "text/plain": [
       "213"
      ]
     },
     "execution_count": 35,
     "metadata": {},
     "output_type": "execute_result"
    }
   ],
   "source": [
    "df3.where('last_exp_date >= 20150101').count()"
   ]
  },
  {
   "cell_type": "code",
   "execution_count": 36,
   "metadata": {},
   "outputs": [
    {
     "data": {
      "text/plain": [
       "1212"
      ]
     },
     "execution_count": 36,
     "metadata": {},
     "output_type": "execute_result"
    }
   ],
   "source": [
    "df3.where('last_exp_date = 19700101').count()"
   ]
  },
  {
   "cell_type": "markdown",
   "metadata": {},
   "source": [
    "* Among the 1425 members who have records with `exp_date` = 19700101, there are exactly 1212 members who have `exp_date` = 19700101 found in their lastest record."
   ]
  },
  {
   "cell_type": "code",
   "execution_count": 40,
   "metadata": {
    "collapsed": true
   },
   "outputs": [],
   "source": [
    "df4 = df3.where('last_exp_date = 19700101')\n",
    "df5 = df0.join(df4, df0['msno']==df4['msno'], 'left_semi')"
   ]
  },
  {
   "cell_type": "code",
   "execution_count": 42,
   "metadata": {
    "collapsed": true
   },
   "outputs": [],
   "source": [
    "outfile = 'file:///home/cloudera/Desktop/KKBox_churn_predict/data01/transactions-v1_members-no-renew_last-expire-1970'\n",
    "df5.coalesce(1).write.format('csv').option('header', 'true').save(outfile)"
   ]
  },
  {
   "cell_type": "markdown",
   "metadata": {},
   "source": [
    "## [cl2] remove members having a record with exp_date = 1970-01-01"
   ]
  },
  {
   "cell_type": "code",
   "execution_count": 6,
   "metadata": {},
   "outputs": [
    {
     "name": "stdout",
     "output_type": "stream",
     "text": [
      "root\n",
      " |-- msno: string (nullable = true)\n",
      " |-- payment_method: integer (nullable = true)\n",
      " |-- plan_days: integer (nullable = true)\n",
      " |-- list_price: integer (nullable = true)\n",
      " |-- actual_paid: integer (nullable = true)\n",
      " |-- trans_date: integer (nullable = true)\n",
      " |-- exp_date: integer (nullable = true)\n",
      "\n"
     ]
    }
   ],
   "source": [
    "df0.printSchema()"
   ]
  },
  {
   "cell_type": "code",
   "execution_count": 13,
   "metadata": {},
   "outputs": [
    {
     "data": {
      "text/plain": [
       "1425"
      ]
     },
     "execution_count": 13,
     "metadata": {},
     "output_type": "execute_result"
    }
   ],
   "source": [
    "df_badmem = df0.where('exp_date = 19700101').groupBy('msno').count() \\\n",
    "              .select('msno') \\\n",
    "              .persist()\n",
    "df_badmem.count()"
   ]
  },
  {
   "cell_type": "code",
   "execution_count": 14,
   "metadata": {},
   "outputs": [
    {
     "name": "stdout",
     "output_type": "stream",
     "text": [
      "root\n",
      " |-- msno: string (nullable = true)\n",
      " |-- payment_method: integer (nullable = true)\n",
      " |-- plan_days: integer (nullable = true)\n",
      " |-- list_price: integer (nullable = true)\n",
      " |-- actual_paid: integer (nullable = true)\n",
      " |-- trans_date: integer (nullable = true)\n",
      " |-- exp_date: integer (nullable = true)\n",
      "\n"
     ]
    }
   ],
   "source": [
    "df0_cl2 = df0.join(df_badmem, df0['msno']==df_badmem['msno'], 'left_anti')\n",
    "df0_cl2.printSchema()"
   ]
  },
  {
   "cell_type": "code",
   "execution_count": 16,
   "metadata": {},
   "outputs": [
    {
     "data": {
      "text/plain": [
       "1816863"
      ]
     },
     "execution_count": 16,
     "metadata": {},
     "output_type": "execute_result"
    }
   ],
   "source": [
    "df0_cl2.count()"
   ]
  },
  {
   "cell_type": "code",
   "execution_count": 15,
   "metadata": {
    "collapsed": true
   },
   "outputs": [],
   "source": [
    "outfile = dir0 + 'transactions-v1_members-no-renew_cl2'\n",
    "df0_cl2.write.format('csv').option('header', 'true').save(outfile)"
   ]
  },
  {
   "cell_type": "markdown",
   "metadata": {},
   "source": [
    "# trans_date, exp_date, and start date (cl2)"
   ]
  },
  {
   "cell_type": "code",
   "execution_count": 3,
   "metadata": {},
   "outputs": [
    {
     "name": "stdout",
     "output_type": "stream",
     "text": [
      "root\n",
      " |-- msno: string (nullable = true)\n",
      " |-- payment_method: integer (nullable = true)\n",
      " |-- plan_days: integer (nullable = true)\n",
      " |-- list_price: integer (nullable = true)\n",
      " |-- actual_paid: integer (nullable = true)\n",
      " |-- trans_date: integer (nullable = true)\n",
      " |-- exp_date: integer (nullable = true)\n",
      "\n"
     ]
    }
   ],
   "source": [
    "infile = dir0 + 'transactions-v1_members-no-renew_cl2'\n",
    "df0_cl2 = spark.read.format('csv').option('header','true').option('inferSchema', 'true').load(infile)\n",
    "df0_cl2.printSchema()"
   ]
  },
  {
   "cell_type": "code",
   "execution_count": 4,
   "metadata": {},
   "outputs": [
    {
     "name": "stdout",
     "output_type": "stream",
     "text": [
      "+--------------------+--------------+---------+----------+-----------+----------+--------+\n",
      "|                msno|payment_method|plan_days|list_price|actual_paid|trans_date|exp_date|\n",
      "+--------------------+--------------+---------+----------+-----------+----------+--------+\n",
      "|nuNWXAG/T41m2CTNT...|            38|       30|       149|        149|  20160125|20160224|\n",
      "|nuNWXAG/T41m2CTNT...|            38|       30|       149|        149|  20160609|20160709|\n",
      "|nuNWXAG/T41m2CTNT...|            38|       30|       149|        149|  20151120|20151220|\n",
      "+--------------------+--------------+---------+----------+-----------+----------+--------+\n",
      "only showing top 3 rows\n",
      "\n"
     ]
    }
   ],
   "source": [
    "df0_cl2.show(3)"
   ]
  },
  {
   "cell_type": "code",
   "execution_count": 5,
   "metadata": {},
   "outputs": [
    {
     "data": {
      "text/plain": [
       "1816863"
      ]
     },
     "execution_count": 5,
     "metadata": {},
     "output_type": "execute_result"
    }
   ],
   "source": [
    "df0_cl2.count()"
   ]
  },
  {
   "cell_type": "code",
   "execution_count": 16,
   "metadata": {},
   "outputs": [
    {
     "data": {
      "text/plain": [
       "649618"
      ]
     },
     "execution_count": 16,
     "metadata": {},
     "output_type": "execute_result"
    }
   ],
   "source": [
    "df0_cl2.groupBy('msno').count().count()"
   ]
  },
  {
   "cell_type": "code",
   "execution_count": 5,
   "metadata": {
    "scrolled": false
   },
   "outputs": [
    {
     "name": "stdout",
     "output_type": "stream",
     "text": [
      "+--------------------+--------------+---------+----------+-----------+----------+--------+----------+\n",
      "|                msno|payment_method|plan_days|list_price|actual_paid|trans_date|exp_date|start_date|\n",
      "+--------------------+--------------+---------+----------+-----------+----------+--------+----------+\n",
      "|nuNWXAG/T41m2CTNT...|            38|       30|       149|        149|  20160125|20160224|  20160125|\n",
      "|nuNWXAG/T41m2CTNT...|            38|       30|       149|        149|  20160609|20160709|  20160610|\n",
      "|nuNWXAG/T41m2CTNT...|            38|       30|       149|        149|  20151120|20151220|  20151121|\n",
      "|nuNWXAG/T41m2CTNT...|            38|       30|       149|        149|  20160403|20160503|  20160404|\n",
      "|nuNWXAG/T41m2CTNT...|            38|       30|       149|        149|  20170213|20170315|  20170216|\n",
      "|nvH4in4HHNK3KtuEf...|            29|       30|       180|        180|  20160913|20161013|  20160914|\n",
      "|nvwfeQ2rTuD5olmw2...|            38|       30|       149|        149|  20160102|20160204|  20160105|\n",
      "|nx+k+sGnDMXRqjtmN...|            38|       10|         0|          0|  20160307|20160317|  20160308|\n",
      "|nyHtuelKLuMTKsl/L...|            35|        7|         0|          0|  20161019|20161026|  20161020|\n",
      "|o+wdP0z2bpuo2x1a2...|            35|        7|         0|          0|  20161119|20161126|  20161120|\n",
      "+--------------------+--------------+---------+----------+-----------+----------+--------+----------+\n",
      "only showing top 10 rows\n",
      "\n"
     ]
    }
   ],
   "source": [
    "from calendar import monthrange\n",
    "from pyspark.sql.types import IntegerType\n",
    "from pyspark.sql.functions import udf, col\n",
    "\n",
    "def get_start_date(exp_date_int, plan_days):\n",
    "    '''\n",
    "    Returns an integer.\n",
    "    '''\n",
    "    if plan_days == 360:\n",
    "        pl_yrs = 0\n",
    "        pl_mns = 11\n",
    "        pl_days = 25\n",
    "    else:\n",
    "        pl_yrs = plan_days // 365\n",
    "        pl_mns = (plan_days % 365) // 30\n",
    "        pl_days = (plan_days % 365) % 30\n",
    "    \n",
    "    exp_yr = exp_date_int // 10000\n",
    "    exp_mn = (exp_date_int % 10000) // 100\n",
    "    exp_day = exp_date_int % 100\n",
    "    \n",
    "    yr = exp_yr - pl_yrs\n",
    "    mn = exp_mn - pl_mns\n",
    "    day = exp_day - pl_days\n",
    "    \n",
    "    while mn < 1:\n",
    "        mn += 12\n",
    "        yr -= 1\n",
    "    \n",
    "    while day < 1:\n",
    "        if mn == 1:\n",
    "            Nd = monthrange(yr-1, 12)[1]\n",
    "        else:\n",
    "            Nd = monthrange(yr, mn-1)[1]\n",
    "        mn -= 1\n",
    "        day += Nd\n",
    "        if mn == 0:\n",
    "            mn = 12\n",
    "            yr -= 1\n",
    "\n",
    "    day += 1\n",
    "    Nd = monthrange(yr, mn)[1]\n",
    "    if day > Nd:\n",
    "        day -= Nd\n",
    "        mn += 1\n",
    "        if mn == 13:\n",
    "            mn = 1\n",
    "            yr += 1\n",
    "    \n",
    "    return yr*10000 + mn*100 + day\n",
    "\n",
    "f_get_start_date = udf(get_start_date, IntegerType())\n",
    "\n",
    "df1 = df0_cl2.withColumn('start_date', f_get_start_date(col('exp_date'), col('plan_days')))\n",
    "df1.show(10)"
   ]
  },
  {
   "cell_type": "code",
   "execution_count": 6,
   "metadata": {
    "scrolled": false
   },
   "outputs": [
    {
     "name": "stdout",
     "output_type": "stream",
     "text": [
      "+--------------------+--------------+----------+-----------+---------+----------+----------+----------+\n",
      "|                msno|payment_method|list_price|actual_paid|plan_days|trans_date|  exp_date|start_date|\n",
      "+--------------------+--------------+----------+-----------+---------+----------+----------+----------+\n",
      "|nuNWXAG/T41m2CTNT...|            38|       149|        149|       30|2016-01-25|2016-02-24|2016-01-25|\n",
      "|nuNWXAG/T41m2CTNT...|            38|       149|        149|       30|2016-06-09|2016-07-09|2016-06-10|\n",
      "|nuNWXAG/T41m2CTNT...|            38|       149|        149|       30|2015-11-20|2015-12-20|2015-11-21|\n",
      "|nuNWXAG/T41m2CTNT...|            38|       149|        149|       30|2016-04-03|2016-05-03|2016-04-04|\n",
      "|nuNWXAG/T41m2CTNT...|            38|       149|        149|       30|2017-02-13|2017-03-15|2017-02-16|\n",
      "|nvH4in4HHNK3KtuEf...|            29|       180|        180|       30|2016-09-13|2016-10-13|2016-09-14|\n",
      "|nvwfeQ2rTuD5olmw2...|            38|       149|        149|       30|2016-01-02|2016-02-04|2016-01-05|\n",
      "|nx+k+sGnDMXRqjtmN...|            38|         0|          0|       10|2016-03-07|2016-03-17|2016-03-08|\n",
      "|nyHtuelKLuMTKsl/L...|            35|         0|          0|        7|2016-10-19|2016-10-26|2016-10-20|\n",
      "|o+wdP0z2bpuo2x1a2...|            35|         0|          0|        7|2016-11-19|2016-11-26|2016-11-20|\n",
      "+--------------------+--------------+----------+-----------+---------+----------+----------+----------+\n",
      "only showing top 10 rows\n",
      "\n"
     ]
    }
   ],
   "source": [
    "from pyspark.sql.functions import col, to_date\n",
    "df2 = df1.select('msno', 'payment_method', 'list_price', 'actual_paid', 'plan_days', \n",
    "                 to_date(col('trans_date').cast('string'), 'yyyyMMdd').alias('trans_date'),\n",
    "                 to_date(col('exp_date').cast('string'), 'yyyyMMdd').alias('exp_date'),\n",
    "                 to_date(col('start_date').cast('string'), 'yyyyMMdd').alias('start_date')\n",
    "                )\n",
    "df2.show(10)"
   ]
  },
  {
   "cell_type": "markdown",
   "metadata": {},
   "source": [
    "## start_date relative to trans_date"
   ]
  },
  {
   "cell_type": "code",
   "execution_count": 7,
   "metadata": {},
   "outputs": [
    {
     "name": "stdout",
     "output_type": "stream",
     "text": [
      "+--------------------+--------------+----------+-----------+---------+----------+----------+----------+-----------------+\n",
      "|                msno|payment_method|list_price|actual_paid|plan_days|trans_date|start_date|  exp_date|start_minus_trans|\n",
      "+--------------------+--------------+----------+-----------+---------+----------+----------+----------+-----------------+\n",
      "|nuNWXAG/T41m2CTNT...|            38|       149|        149|       30|2016-01-25|2016-01-25|2016-02-24|                0|\n",
      "|nuNWXAG/T41m2CTNT...|            38|       149|        149|       30|2016-06-09|2016-06-10|2016-07-09|                1|\n",
      "|nuNWXAG/T41m2CTNT...|            38|       149|        149|       30|2015-11-20|2015-11-21|2015-12-20|                1|\n",
      "|nuNWXAG/T41m2CTNT...|            38|       149|        149|       30|2016-04-03|2016-04-04|2016-05-03|                1|\n",
      "|nuNWXAG/T41m2CTNT...|            38|       149|        149|       30|2017-02-13|2017-02-16|2017-03-15|                3|\n",
      "|nvH4in4HHNK3KtuEf...|            29|       180|        180|       30|2016-09-13|2016-09-14|2016-10-13|                1|\n",
      "|nvwfeQ2rTuD5olmw2...|            38|       149|        149|       30|2016-01-02|2016-01-05|2016-02-04|                3|\n",
      "|nx+k+sGnDMXRqjtmN...|            38|         0|          0|       10|2016-03-07|2016-03-08|2016-03-17|                1|\n",
      "|nyHtuelKLuMTKsl/L...|            35|         0|          0|        7|2016-10-19|2016-10-20|2016-10-26|                1|\n",
      "|o+wdP0z2bpuo2x1a2...|            35|         0|          0|        7|2016-11-19|2016-11-20|2016-11-26|                1|\n",
      "+--------------------+--------------+----------+-----------+---------+----------+----------+----------+-----------------+\n",
      "only showing top 10 rows\n",
      "\n"
     ]
    }
   ],
   "source": [
    "from pyspark.sql.functions import col, datediff\n",
    "df3 = df2.select('msno', 'payment_method', 'list_price', 'actual_paid',\n",
    "                 'plan_days', 'trans_date', 'start_date', 'exp_date',\n",
    "                 datediff('start_date', 'trans_date').alias('start_minus_trans'))\n",
    "df3.show(10)"
   ]
  },
  {
   "cell_type": "code",
   "execution_count": 49,
   "metadata": {},
   "outputs": [
    {
     "name": "stdout",
     "output_type": "stream",
     "text": [
      "+----------------------+----------------------+\n",
      "|min(start_minus_trans)|max(start_minus_trans)|\n",
      "+----------------------+----------------------+\n",
      "|                  -412|                   471|\n",
      "+----------------------+----------------------+\n",
      "\n"
     ]
    }
   ],
   "source": [
    "from pyspark.sql.functions import min, max\n",
    "df3.select(min('start_minus_trans'), max('start_minus_trans')).show()"
   ]
  },
  {
   "cell_type": "code",
   "execution_count": 42,
   "metadata": {},
   "outputs": [
    {
     "data": {
      "text/plain": [
       "3587"
      ]
     },
     "execution_count": 42,
     "metadata": {},
     "output_type": "execute_result"
    }
   ],
   "source": [
    "df3.where('start_minus_trans < -10').count()"
   ]
  },
  {
   "cell_type": "code",
   "execution_count": 43,
   "metadata": {},
   "outputs": [
    {
     "data": {
      "text/plain": [
       "0.197428204548169"
      ]
     },
     "execution_count": 43,
     "metadata": {},
     "output_type": "execute_result"
    }
   ],
   "source": [
    "3587/1816863*100"
   ]
  },
  {
   "cell_type": "code",
   "execution_count": 25,
   "metadata": {},
   "outputs": [
    {
     "data": {
      "image/png": "[encoded data removed]",
      "text/plain": [
       "<Figure size 432x288 with 1 Axes>"
      ]
     },
     "metadata": {},
     "output_type": "display_data"
    }
   ],
   "source": [
    "from prepare_hist_data import prepare_histogram_data\n",
    "import pandas as pd\n",
    "import matplotlib.pyplot as plt\n",
    "\n",
    "rdd4 = df3.rdd.map(lambda r: r['start_minus_trans'])\n",
    "hist_data = prepare_histogram_data(rdd4, -420, 480, 30)\n",
    "\n",
    "pd.DataFrame(hist_data['bin_centers_counts'], columns=['start_minus_trans', 'count_rec']) \\\n",
    "  .plot(kind='scatter', x='start_minus_trans', y='count_rec')\n",
    "plt.show()"
   ]
  },
  {
   "cell_type": "code",
   "execution_count": 29,
   "metadata": {},
   "outputs": [
    {
     "data": {
      "image/png": "[encoded data removed]",
      "text/plain": [
       "<Figure size 432x288 with 1 Axes>"
      ]
     },
     "metadata": {},
     "output_type": "display_data"
    }
   ],
   "source": [
    "from prepare_hist_data import prepare_histogram_data\n",
    "import pandas as pd\n",
    "import matplotlib.pyplot as plt\n",
    "\n",
    "rdd4 = df3.rdd.map(lambda r: r['start_minus_trans'])\n",
    "hist_data = prepare_histogram_data(rdd4, -10.5, 10.5, 21)\n",
    "\n",
    "pd.DataFrame(hist_data['bin_centers_counts'], columns=['start_minus_trans', 'count_rec']) \\\n",
    "  .set_index('start_minus_trans') \\\n",
    "  .plot(kind='bar')\n",
    "plt.show()"
   ]
  },
  {
   "cell_type": "code",
   "execution_count": 32,
   "metadata": {},
   "outputs": [
    {
     "data": {
      "image/png": "[encoded data removed]",
      "text/plain": [
       "<Figure size 432x288 with 1 Axes>"
      ]
     },
     "metadata": {},
     "output_type": "display_data"
    }
   ],
   "source": [
    "from prepare_hist_data import prepare_histogram_data\n",
    "import pandas as pd\n",
    "import matplotlib.pyplot as plt\n",
    "\n",
    "rdd4 = df3.rdd.map(lambda r: r['start_minus_trans'])\n",
    "hist_data = prepare_histogram_data(rdd4, -430, -10, 30)\n",
    "\n",
    "pd.DataFrame(hist_data['bin_centers_counts'], columns=['start_minus_trans', 'count_rec']) \\\n",
    "  .set_index('start_minus_trans') \\\n",
    "  .plot(kind='bar')\n",
    "plt.show()"
   ]
  },
  {
   "cell_type": "code",
   "execution_count": 36,
   "metadata": {},
   "outputs": [
    {
     "data": {
      "image/png": "[encoded data removed]",
      "text/plain": [
       "<Figure size 432x288 with 1 Axes>"
      ]
     },
     "metadata": {},
     "output_type": "display_data"
    }
   ],
   "source": [
    "from prepare_hist_data import prepare_histogram_data\n",
    "import pandas as pd\n",
    "import matplotlib.pyplot as plt\n",
    "\n",
    "rdd4 = df3.rdd.map(lambda r: r['start_minus_trans'])\n",
    "hist_data = prepare_histogram_data(rdd4, -19, 471, 35)\n",
    "\n",
    "pd.DataFrame(hist_data['bin_centers_counts'], columns=['start_minus_trans', 'count_rec']) \\\n",
    "  .set_index('start_minus_trans') \\\n",
    "  .plot(kind='bar', logy=True)\n",
    "plt.show()"
   ]
  },
  {
   "cell_type": "markdown",
   "metadata": {},
   "source": [
    "### start_date >> trans_date"
   ]
  },
  {
   "cell_type": "code",
   "execution_count": 50,
   "metadata": {},
   "outputs": [
    {
     "name": "stdout",
     "output_type": "stream",
     "text": [
      "+--------------------------------------------+---------+----------+----------+----------+-----------------+\n",
      "|msno                                        |plan_days|trans_date|start_date|exp_date  |start_minus_trans|\n",
      "+--------------------------------------------+---------+----------+----------+----------+-----------------+\n",
      "|8DFvuW6QT8NDXa2/yrvEdpzz/oLoKWaHNUt65vHd3nM=|10       |2015-12-17|2017-01-20|2017-01-29|400              |\n",
      "|4AAR0jLOIpX9HlUCXdHJWSO38ZeAHv9quwjyOXtxKR4=|1        |2015-12-01|2017-01-04|2017-01-04|400              |\n",
      "|Mjp5uPtRQPFUiMfw+rWecb2EGoo69dc6t1gSBRgz60c=|7        |2015-12-14|2017-01-17|2017-01-23|400              |\n",
      "|gm4cJ6TsWu8U8P8NvXrck+c0K6PeNv62zIZp8Oc45q4=|10       |2015-12-24|2017-01-27|2017-02-05|400              |\n",
      "|HmzY3pwOW5pnzM2VZRdxsbwNKdgar6QGFqVvYtdLHyI=|10       |2015-12-15|2017-01-18|2017-01-27|400              |\n",
      "+--------------------------------------------+---------+----------+----------+----------+-----------------+\n",
      "\n"
     ]
    }
   ],
   "source": [
    "df3.where('start_minus_trans = 400').show(5, truncate=False)"
   ]
  },
  {
   "cell_type": "code",
   "execution_count": 41,
   "metadata": {},
   "outputs": [
    {
     "name": "stdout",
     "output_type": "stream",
     "text": [
      "+--------------------+--------------+---------+----------+-----------+----------+--------+----------+\n",
      "|                msno|payment_method|plan_days|list_price|actual_paid|trans_date|exp_date|start_date|\n",
      "+--------------------+--------------+---------+----------+-----------+----------+--------+----------+\n",
      "|Mjp5uPtRQPFUiMfw+...|            20|      100|       480|        480|  20151107|20160215|  20151106|\n",
      "|Mjp5uPtRQPFUiMfw+...|            38|        7|        35|         35|  20151116|20160222|  20160216|\n",
      "|Mjp5uPtRQPFUiMfw+...|            38|        7|         0|          0|  20151213|20160530|  20160524|\n",
      "|Mjp5uPtRQPFUiMfw+...|            38|        7|         0|          0|  20151213|20160307|  20160301|\n",
      "|Mjp5uPtRQPFUiMfw+...|            38|        7|         0|          0|  20151213|20160425|  20160419|\n",
      "|Mjp5uPtRQPFUiMfw+...|            38|        7|         0|          0|  20151213|20160523|  20160517|\n",
      "|Mjp5uPtRQPFUiMfw+...|            38|        7|         0|          0|  20151213|20160404|  20160329|\n",
      "|Mjp5uPtRQPFUiMfw+...|            38|        7|         0|          0|  20151213|20160321|  20160315|\n",
      "|Mjp5uPtRQPFUiMfw+...|            38|        7|         0|          0|  20151213|20160328|  20160322|\n",
      "|Mjp5uPtRQPFUiMfw+...|            38|        7|         0|          0|  20151213|20160411|  20160405|\n",
      "|Mjp5uPtRQPFUiMfw+...|            38|        7|         0|          0|  20151213|20160502|  20160426|\n",
      "|Mjp5uPtRQPFUiMfw+...|            38|        7|         0|          0|  20151213|20160229|  20160223|\n",
      "|Mjp5uPtRQPFUiMfw+...|            38|        7|         0|          0|  20151213|20160418|  20160412|\n",
      "|Mjp5uPtRQPFUiMfw+...|            38|        7|         0|          0|  20151213|20160509|  20160503|\n",
      "|Mjp5uPtRQPFUiMfw+...|            38|        7|         0|          0|  20151213|20160314|  20160308|\n",
      "|Mjp5uPtRQPFUiMfw+...|            38|        7|         0|          0|  20151213|20160516|  20160510|\n",
      "|Mjp5uPtRQPFUiMfw+...|            38|        7|         0|          0|  20151214|20161226|  20161220|\n",
      "|Mjp5uPtRQPFUiMfw+...|            38|        7|         0|          0|  20151214|20161219|  20161213|\n",
      "|Mjp5uPtRQPFUiMfw+...|            38|        7|         0|          0|  20151214|20170102|  20161227|\n",
      "|Mjp5uPtRQPFUiMfw+...|            38|        7|         0|          0|  20151214|20161003|  20160927|\n",
      "|Mjp5uPtRQPFUiMfw+...|            38|        7|         0|          0|  20151214|20161107|  20161101|\n",
      "|Mjp5uPtRQPFUiMfw+...|            38|        7|         0|          0|  20151214|20160606|  20160531|\n",
      "|Mjp5uPtRQPFUiMfw+...|            38|        7|         0|          0|  20151214|20161010|  20161004|\n",
      "|Mjp5uPtRQPFUiMfw+...|            38|        7|         0|          0|  20151214|20161017|  20161011|\n",
      "|Mjp5uPtRQPFUiMfw+...|            38|        7|         0|          0|  20151214|20160815|  20160809|\n",
      "|Mjp5uPtRQPFUiMfw+...|            38|        7|         0|          0|  20151214|20161024|  20161018|\n",
      "|Mjp5uPtRQPFUiMfw+...|            38|        7|         0|          0|  20151214|20170109|  20170103|\n",
      "|Mjp5uPtRQPFUiMfw+...|            38|        7|         0|          0|  20151214|20161114|  20161108|\n",
      "|Mjp5uPtRQPFUiMfw+...|            38|        7|         0|          0|  20151214|20160725|  20160719|\n",
      "|Mjp5uPtRQPFUiMfw+...|            38|        7|         0|          0|  20151214|20161121|  20161115|\n",
      "|Mjp5uPtRQPFUiMfw+...|            38|        7|         0|          0|  20151214|20160718|  20160712|\n",
      "|Mjp5uPtRQPFUiMfw+...|            38|        7|         0|          0|  20151214|20160613|  20160607|\n",
      "|Mjp5uPtRQPFUiMfw+...|            38|        7|         0|          0|  20151214|20161205|  20161129|\n",
      "|Mjp5uPtRQPFUiMfw+...|            38|        7|         0|          0|  20151214|20161212|  20161206|\n",
      "|Mjp5uPtRQPFUiMfw+...|            38|        7|         0|          0|  20151214|20160704|  20160628|\n",
      "|Mjp5uPtRQPFUiMfw+...|            38|        7|         0|          0|  20151214|20160912|  20160906|\n",
      "|Mjp5uPtRQPFUiMfw+...|            38|        7|         0|          0|  20151214|20160808|  20160802|\n",
      "|Mjp5uPtRQPFUiMfw+...|            38|        7|         0|          0|  20151214|20170116|  20170110|\n",
      "|Mjp5uPtRQPFUiMfw+...|            38|        7|         0|          0|  20151214|20160822|  20160816|\n",
      "|Mjp5uPtRQPFUiMfw+...|            38|        7|         0|          0|  20151214|20170123|  20170117|\n",
      "|Mjp5uPtRQPFUiMfw+...|            38|        7|         0|          0|  20151214|20161031|  20161025|\n",
      "|Mjp5uPtRQPFUiMfw+...|            38|        7|         0|          0|  20151214|20160801|  20160726|\n",
      "|Mjp5uPtRQPFUiMfw+...|            38|        7|         0|          0|  20151214|20160926|  20160920|\n",
      "|Mjp5uPtRQPFUiMfw+...|            38|        7|         0|          0|  20151214|20160829|  20160823|\n",
      "|Mjp5uPtRQPFUiMfw+...|            38|        7|         0|          0|  20151214|20160620|  20160614|\n",
      "|Mjp5uPtRQPFUiMfw+...|            38|        7|         0|          0|  20151214|20160627|  20160621|\n",
      "|Mjp5uPtRQPFUiMfw+...|            38|        7|         0|          0|  20151214|20160905|  20160830|\n",
      "|Mjp5uPtRQPFUiMfw+...|            38|        7|         0|          0|  20151214|20160919|  20160913|\n",
      "|Mjp5uPtRQPFUiMfw+...|            38|        7|         0|          0|  20151214|20161128|  20161122|\n",
      "|Mjp5uPtRQPFUiMfw+...|            38|        7|         0|          0|  20151214|20160711|  20160705|\n",
      "+--------------------+--------------+---------+----------+-----------+----------+--------+----------+\n",
      "only showing top 50 rows\n",
      "\n"
     ]
    }
   ],
   "source": [
    "df1.where(col('msno') == 'Mjp5uPtRQPFUiMfw+rWecb2EGoo69dc6t1gSBRgz60c=') \\\n",
    "  .sort('trans_date').show(50)"
   ]
  },
  {
   "cell_type": "markdown",
   "metadata": {},
   "source": [
    "### start_date << trans_date"
   ]
  },
  {
   "cell_type": "code",
   "execution_count": 51,
   "metadata": {},
   "outputs": [
    {
     "name": "stdout",
     "output_type": "stream",
     "text": [
      "+--------------------------------------------+---------+----------+----------+----------+-----------------+\n",
      "|msno                                        |plan_days|trans_date|start_date|exp_date  |start_minus_trans|\n",
      "+--------------------------------------------+---------+----------+----------+----------+-----------------+\n",
      "|8h9YcPY3QCRduzkyiB2xAHcYe+wUXxenUGu5x7V8wbo=|410      |2016-01-14|2014-12-10|2016-01-24|-400             |\n",
      "|KZY3caQbSjku6Pg9Mgzob5tQpXUIfXskXSoTku1rnlU=|410      |2016-07-11|2015-06-07|2016-07-21|-400             |\n",
      "|Tm7AA7LujrO10l8w3K4x39dvRnXpYq6+d3G5U5q8O9g=|410      |2016-04-02|2015-02-27|2016-04-13|-400             |\n",
      "|1zTNkkL4LuOTWUGtIvLCYJvdC+aa4zyZE3GVtO0LYe8=|410      |2016-10-04|2015-08-31|2016-10-14|-400             |\n",
      "|mb7vitb8aho6mmwNhd+UAJ+6Vh60JybAWohtrwOMeFU=|410      |2016-11-27|2015-10-24|2016-12-07|-400             |\n",
      "+--------------------------------------------+---------+----------+----------+----------+-----------------+\n",
      "only showing top 5 rows\n",
      "\n"
     ]
    }
   ],
   "source": [
    "df3.where('start_minus_trans = -400').show(5, truncate=False)"
   ]
  },
  {
   "cell_type": "code",
   "execution_count": 44,
   "metadata": {},
   "outputs": [
    {
     "name": "stdout",
     "output_type": "stream",
     "text": [
      "+--------------------+--------------+---------+----------+-----------+----------+--------+----------+\n",
      "|                msno|payment_method|plan_days|list_price|actual_paid|trans_date|exp_date|start_date|\n",
      "+--------------------+--------------+---------+----------+-----------+----------+--------+----------+\n",
      "|yvFIrYwGjxQx6TxNU...|            17|      410|         0|          0|  20151125|20151204|  20141021|\n",
      "|yvFIrYwGjxQx6TxNU...|            15|      410|      1788|       1788|  20151126|20170120|  20151206|\n",
      "|yvFIrYwGjxQx6TxNU...|            17|      395|         0|          0|  20170117|20170123|  20151224|\n",
      "+--------------------+--------------+---------+----------+-----------+----------+--------+----------+\n",
      "\n"
     ]
    }
   ],
   "source": [
    "df1.where(col('msno') == 'yvFIrYwGjxQx6TxNUybmWBbLLtGAvHR3upwGDKR5XAg=') \\\n",
    "  .sort('trans_date').show()"
   ]
  },
  {
   "cell_type": "markdown",
   "metadata": {},
   "source": [
    "### list_price"
   ]
  },
  {
   "cell_type": "code",
   "execution_count": 9,
   "metadata": {
    "scrolled": false
   },
   "outputs": [
    {
     "name": "stdout",
     "output_type": "stream",
     "text": [
      "+----------+-----+\n",
      "|list_price|count|\n",
      "+----------+-----+\n",
      "|      1599|    1|\n",
      "|       699|    1|\n",
      "|       894|    2|\n",
      "|         0| 3586|\n",
      "+----------+-----+\n",
      "\n"
     ]
    }
   ],
   "source": [
    "df3.where('start_minus_trans < -7') \\\n",
    "   .groupBy('list_price').count().show(50)"
   ]
  },
  {
   "cell_type": "markdown",
   "metadata": {},
   "source": [
    "* Almost all of the records with `start_minus_trans` < -7 have `list_price` = 0."
   ]
  },
  {
   "cell_type": "code",
   "execution_count": 11,
   "metadata": {},
   "outputs": [
    {
     "name": "stdout",
     "output_type": "stream",
     "text": [
      "+--------------------------------------------+----------+---------+----------+----------+----------+-----------------+\n",
      "|msno                                        |list_price|plan_days|trans_date|start_date|exp_date  |start_minus_trans|\n",
      "+--------------------------------------------+----------+---------+----------+----------+----------+-----------------+\n",
      "|HgOJ6bYyJ9DoiCQEiJ+xEnTR7RBYVUWrsnW+A5S9ZZo=|699       |180      |2016-12-19|2016-06-20|2016-12-19|-182             |\n",
      "|lInYU/0NjIBPUPT0KBPESV3rNgEoIazeXiX85VJkeNQ=|894       |270      |2016-12-20|2016-03-21|2016-12-20|-274             |\n",
      "|MfTzQmIq1XtYsAbb6uElpfaa2/GZy+TsWD0wfrRIFvM=|1599      |415      |2016-12-19|2015-11-03|2016-12-22|-412             |\n",
      "|lvDSawNlJoTlNd2ykkGOgJzfEcnlYohlqZSJWcRRhC0=|894       |195      |2016-03-22|2016-02-24|2016-09-09|-27              |\n",
      "+--------------------------------------------+----------+---------+----------+----------+----------+-----------------+\n",
      "\n"
     ]
    }
   ],
   "source": [
    "df3.where('start_minus_trans < -7').where('list_price > 0').show(truncate=False)"
   ]
  },
  {
   "cell_type": "markdown",
   "metadata": {},
   "source": [
    "### vs. plan_days"
   ]
  },
  {
   "cell_type": "code",
   "execution_count": 57,
   "metadata": {},
   "outputs": [
    {
     "name": "stdout",
     "output_type": "stream",
     "text": [
      "+----------------------+\n",
      "|min(start_minus_trans)|\n",
      "+----------------------+\n",
      "|                    -8|\n",
      "+----------------------+\n",
      "\n"
     ]
    }
   ],
   "source": [
    "from pyspark.sql.functions import min\n",
    "df3.where('plan_days = 1') \\\n",
    "  .select(min('start_minus_trans')).show()"
   ]
  },
  {
   "cell_type": "code",
   "execution_count": 58,
   "metadata": {},
   "outputs": [
    {
     "name": "stdout",
     "output_type": "stream",
     "text": [
      "+----------------------+\n",
      "|min(start_minus_trans)|\n",
      "+----------------------+\n",
      "|                    -9|\n",
      "+----------------------+\n",
      "\n"
     ]
    }
   ],
   "source": [
    "from pyspark.sql.functions import min\n",
    "df3.where('plan_days = 7') \\\n",
    "  .select(min('start_minus_trans')).show()"
   ]
  },
  {
   "cell_type": "code",
   "execution_count": 64,
   "metadata": {
    "collapsed": true
   },
   "outputs": [],
   "source": [
    "from pyspark.sql.functions import min\n",
    "df4 = df3.groupBy('plan_days').agg(min('start_minus_trans').alias('min__start_minus_trans'),\n",
    "                                   max('start_minus_trans').alias('max__start_minus_trans')) \\\n",
    "        .sort('plan_days')\n",
    "df5 = df4.toPandas()"
   ]
  },
  {
   "cell_type": "code",
   "execution_count": 68,
   "metadata": {},
   "outputs": [
    {
     "data": {
      "text/plain": [
       "<matplotlib.axes._subplots.AxesSubplot at 0x7f0714e6cdd8>"
      ]
     },
     "execution_count": 68,
     "metadata": {},
     "output_type": "execute_result"
    },
    {
     "data": {
      "image/png": "[encoded data removed]",
      "text/plain": [
       "<Figure size 864x288 with 1 Axes>"
      ]
     },
     "metadata": {},
     "output_type": "display_data"
    }
   ],
   "source": [
    "df5.set_index('plan_days') \\\n",
    "  .plot(kind='bar', figsize=(12,4))"
   ]
  },
  {
   "cell_type": "markdown",
   "metadata": {},
   "source": [
    "### start_date - trans_date < -7"
   ]
  },
  {
   "cell_type": "code",
   "execution_count": 101,
   "metadata": {},
   "outputs": [
    {
     "name": "stdout",
     "output_type": "stream",
     "text": [
      "+-------+------------------+\n",
      "|summary|   exp_minus_trans|\n",
      "+-------+------------------+\n",
      "|  count|              3590|\n",
      "|   mean| 8.442061281337047|\n",
      "| stddev|18.428609996694988|\n",
      "|    min|                -8|\n",
      "|    max|               303|\n",
      "+-------+------------------+\n",
      "\n"
     ]
    }
   ],
   "source": [
    "from pyspark.sql.functions import min, datediff\n",
    "df4 = df3.where('start_minus_trans < -7') \\\n",
    "        .select(datediff('exp_date', 'trans_date').alias('exp_minus_trans'))\n",
    "df4.describe().show()"
   ]
  },
  {
   "cell_type": "code",
   "execution_count": 93,
   "metadata": {},
   "outputs": [
    {
     "data": {
      "text/plain": [
       "3"
      ]
     },
     "execution_count": 93,
     "metadata": {},
     "output_type": "execute_result"
    }
   ],
   "source": [
    "df4.where('exp_minus_trans < 0').count()"
   ]
  },
  {
   "cell_type": "markdown",
   "metadata": {},
   "source": [
    "### [cl3] modify start_date\n",
    "If `start_date` < `trans_date`- 7, set `start_date` = `trans_date`- 8."
   ]
  },
  {
   "cell_type": "code",
   "execution_count": 8,
   "metadata": {},
   "outputs": [
    {
     "data": {
      "text/plain": [
       "3590"
      ]
     },
     "execution_count": 8,
     "metadata": {},
     "output_type": "execute_result"
    }
   ],
   "source": [
    "df3.where('start_minus_trans < -7').count()"
   ]
  },
  {
   "cell_type": "code",
   "execution_count": 10,
   "metadata": {},
   "outputs": [
    {
     "data": {
      "text/plain": [
       "3514"
      ]
     },
     "execution_count": 10,
     "metadata": {},
     "output_type": "execute_result"
    }
   ],
   "source": [
    "df3.where('start_minus_trans < -7') \\\n",
    "   .groupBy('msno').count().count()"
   ]
  },
  {
   "cell_type": "markdown",
   "metadata": {},
   "source": [
    "* 3590 records (0.2 %) will be affected.\n",
    "* 3514 members (0.5 %) will be affected."
   ]
  },
  {
   "cell_type": "code",
   "execution_count": 10,
   "metadata": {},
   "outputs": [
    {
     "name": "stdout",
     "output_type": "stream",
     "text": [
      "+--------------------+--------------+----------+-----------+---------+----------+----------+----------+-----------------+\n",
      "|                msno|payment_method|list_price|actual_paid|plan_days|trans_date|start_date|  exp_date|start_minus_trans|\n",
      "+--------------------+--------------+----------+-----------+---------+----------+----------+----------+-----------------+\n",
      "|nuNWXAG/T41m2CTNT...|            38|       149|        149|       30|2016-01-25|2016-01-25|2016-02-24|                0|\n",
      "+--------------------+--------------+----------+-----------+---------+----------+----------+----------+-----------------+\n",
      "only showing top 1 row\n",
      "\n"
     ]
    }
   ],
   "source": [
    "df3.show(1)"
   ]
  },
  {
   "cell_type": "code",
   "execution_count": 16,
   "metadata": {
    "collapsed": true
   },
   "outputs": [],
   "source": [
    "from pyspark.sql.functions import when, col, date_sub\n",
    "df4 = df3.withColumn('start_date_2',\n",
    "                     when(col('start_minus_trans') < -7, \n",
    "                          date_sub('trans_date', 8)\n",
    "                         ) \\\n",
    "                     .otherwise(col('start_date'))\n",
    "                    )"
   ]
  },
  {
   "cell_type": "code",
   "execution_count": 17,
   "metadata": {},
   "outputs": [
    {
     "name": "stdout",
     "output_type": "stream",
     "text": [
      "+--------------------+--------------+----------+-----------+---------+----------+----------+----------+-----------------+------------+\n",
      "|                msno|payment_method|list_price|actual_paid|plan_days|trans_date|start_date|  exp_date|start_minus_trans|start_date_2|\n",
      "+--------------------+--------------+----------+-----------+---------+----------+----------+----------+-----------------+------------+\n",
      "|nuNWXAG/T41m2CTNT...|            38|       149|        149|       30|2016-01-25|2016-01-25|2016-02-24|                0|  2016-01-25|\n",
      "+--------------------+--------------+----------+-----------+---------+----------+----------+----------+-----------------+------------+\n",
      "only showing top 1 row\n",
      "\n"
     ]
    }
   ],
   "source": [
    "df4.show(1)"
   ]
  },
  {
   "cell_type": "code",
   "execution_count": 19,
   "metadata": {},
   "outputs": [
    {
     "name": "stdout",
     "output_type": "stream",
     "text": [
      "+--------------------+--------------+----------+-----------+---------+----------+----------+----------+-----------------+------------+\n",
      "|                msno|payment_method|list_price|actual_paid|plan_days|trans_date|start_date|  exp_date|start_minus_trans|start_date_2|\n",
      "+--------------------+--------------+----------+-----------+---------+----------+----------+----------+-----------------+------------+\n",
      "|o60m5gVKt781OJ9z+...|            17|         0|          0|      195|2016-05-24|2015-11-13|2016-05-27|             -193|  2016-05-16|\n",
      "+--------------------+--------------+----------+-----------+---------+----------+----------+----------+-----------------+------------+\n",
      "\n"
     ]
    }
   ],
   "source": [
    "df4.where('start_minus_trans < -7').limit(1).show()"
   ]
  },
  {
   "cell_type": "code",
   "execution_count": 22,
   "metadata": {
    "collapsed": true
   },
   "outputs": [],
   "source": [
    "outfile = dir0 + 'transactions-v1_members-no-renew_cl3'\n",
    "df4.drop('start_minus_trans').drop('start_date') \\\n",
    "   .withColumnRenamed('start_date_2', 'start_date') \\\n",
    "   .write.format('csv').option('header', 'true').save(outfile)"
   ]
  },
  {
   "cell_type": "code",
   "execution_count": null,
   "metadata": {
    "collapsed": true
   },
   "outputs": [],
   "source": []
  }
 ],
 "metadata": {
  "kernelspec": {
   "display_name": "Python 3",
   "language": "python",
   "name": "python3"
  },
  "language_info": {
   "codemirror_mode": {
    "name": "ipython",
    "version": 3
   },
   "file_extension": ".py",
   "mimetype": "text/x-python",
   "name": "python",
   "nbconvert_exporter": "python",
   "pygments_lexer": "ipython3",
   "version": "3.6.2"
  },
  "toc": {
   "base_numbering": 1,
   "nav_menu": {},
   "number_sections": true,
   "sideBar": true,
   "skip_h1_title": false,
   "title_cell": "Table of Contents",
   "title_sidebar": "Contents",
   "toc_cell": false,
   "toc_position": {},
   "toc_section_display": true,
   "toc_window_display": true
  }
 },
 "nbformat": 4,
 "nbformat_minor": 2
}
