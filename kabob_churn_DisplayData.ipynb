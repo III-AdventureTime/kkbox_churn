{
 "cells": [
  {
   "cell_type": "code",
   "execution_count": 13,
   "metadata": {},
   "outputs": [],
   "source": [
    "import pandas as pd"
   ]
  },
  {
   "cell_type": "markdown",
   "metadata": {},
   "source": [
    "# members.csv\n",
    "user information. Note that not every user in the dataset is available.\n",
    "- msno\n",
    "- city\n",
    "- bd: age. Note: this column has outlier values ranging from -7000 to 2015, please use your judgement.\n",
    "- gender\n",
    "- registered_via: registration method\n",
    "- registration_init_time: format %Y%m%d\n",
    "- expiration_date: format %Y%m%d, taken as a snapshot at which the member.csv is extracted. Not representing the actual churn behavior."
   ]
  },
  {
   "cell_type": "code",
   "execution_count": 16,
   "metadata": {},
   "outputs": [
    {
     "name": "stdout",
     "output_type": "stream",
     "text": [
      "                                                 msno  city  bd  gender  \\\n",
      "0        Rb9UwLQTrxzBVwCB6+bCcSQWZ9JiNLC9dXtM1oEsZA8=     1   0     NaN   \n",
      "1        +tJonkh+O1CA796Fm5X60UMOtB6POHAwPjbTRVl/EuU=     1   0     NaN   \n",
      "2        cV358ssn7a0f7jZOwGNWS07wCKVqxyiImJUX6xcIwKw=     1   0     NaN   \n",
      "3        9bzDeJP6sQodK73K5CBlJ6fgIQzPeLnRl0p5B77XP+g=     1   0     NaN   \n",
      "4        WFLY3s7z4EZsieHCt63XrsdtfTEmJ+2PnnKLH5GY4Tk=     6  32  female   \n",
      "5        yLkV2gbZ4GLFwqTOXLVHz0VGrMYcgBGgKZ3kj9RiYu8=     4  30    male   \n",
      "6        jNCGK78YkTyId3H3wFavcBLDmz7pfqlvCfUKf4G1Lw4=     1   0     NaN   \n",
      "7        WH5Jq4mgtfUFXh2yz+HrcTXKS4Oess4k4W3qKolAeb0=     5  34    male   \n",
      "8        tKmbR4X5VXjHmxERrckawEMZ4znVy1lAQIR1vV5rdNk=     5  19    male   \n",
      "9        I0yFvqMoNkM8ZNHb617e1RBzIS/YRKemHO7Wj13EtA0=    13  63    male   \n",
      "10       OoDwiKZM+ZGr9P3fRivavgOtglTEaNfWJO4KaJcTTts=     1   0     NaN   \n",
      "11       dCvvBHlaOAqgkAcv36IZ9twaCyH0Z9om0wEiKn13B3o=    22  18    male   \n",
      "12       6bra2AiVV8SGlm7R6mp97Ot5jU9FBH2/8JaRk0iaKco=     4  34  female   \n",
      "13       4De1jAxNRABoyRBDZ82U0yEmzYkqeOugRGVNIf92Xb8=     4  28  female   \n",
      "14       iOzdu4IHbJxhB5CPpiQsZcGdptCm7OLwWm1Ci6oHLSE=    12  29  female   \n",
      "15       hZia/3iyvtThD1kv6ozRjRj8T0CAz0+zUFxs3e27wo8=     1   0     NaN   \n",
      "16       QlDflP89J5KChheo2sbtH++SSDY/hUDj54gkgdfE76U=     1   0     NaN   \n",
      "17       fOpj0ApSXk1NVODvC5db5Tvm/1G6exXxgTiCwTqvQn0=    13  31  female   \n",
      "18       GsPgdrXoV6688/0RFAwjKxQUpBB28JxK/Nx45kEpH60=     1   0     NaN   \n",
      "19       QHHKGOY5yLrGdR8WYb0JtdJTP36Ii1QP3QTXxjEpGLk=     5  19  female   \n",
      "20       SpiCVwYrNY2XIpPpZkHHq4LDTfYyPNxBx7e+klc19H4=    15  22  female   \n",
      "21       +N2Na8js4BYLhkDXYD94o/5Tn5j1yi9u/+6F8an1MUs=     4  23    male   \n",
      "22       F6F2FJSHqQ/TLf7fQHJe1nbonEZmrCHtzG87U8VD9rE=    11  22  female   \n",
      "23       FotY8kXSC6tIyCuVn0NoaXjo0Hd854wuoNMWuwHaLIA=     5  29    male   \n",
      "24       glvtik6LgKzz/VHI8f7dAAHW4iqU8azER8mEsImDe78=     9  21    male   \n",
      "25       x+j0IrKnXLIqZawwAtwldq2by7TLMKyohbtSeT5gtDg=     9  22    male   \n",
      "26       7XXoaLnR+58yBjV/dtpvsvnkbadWYxO3+KkLgaaJ0VM=     5  28    male   \n",
      "27       GqYHRxlZChiZvB1uzR410wcQzuxqZNZci4AzOTzkAao=     5  27    male   \n",
      "28       vqz848bjeylg9nGoax8X4qQX2IX8qPwEq+4vbOpgy4c=    13  47  female   \n",
      "29       ZXtW2HuuVK4aPiO10RhBWT1PmLV+bKqnFlT5bL6YhoQ=     4   0     NaN   \n",
      "...                                               ...   ...  ..     ...   \n",
      "6769443  dz8iQV2eZCBZo1DjKL7OifsiyzGf3xyMaCFDOJHVeyc=     1   0     NaN   \n",
      "6769444  hc/t3OlBHhN/99/usrWrjGJTlf9wbAcOeHMBJ41QTN0=     1   0     NaN   \n",
      "6769445  6GUYpq8GC07duotA9Ww9EXCuhPaLAXBgKGSeR7jkWKo=     1   0     NaN   \n",
      "6769446  kB6WjrrdzSl0GMASY6BagCSV72TcwasA4W6vY8KmV5Q=     1   0     NaN   \n",
      "6769447  yBIr7TnCh8W2zZ+tmsoQ/4FO1TBELCLiT3iR+Xoq5/c=     1   0     NaN   \n",
      "6769448  LfE8yToqqHz5HoIglTJSrNA3jUNGSnWZEgS/+O87rsk=    13  22    male   \n",
      "6769449  B3Ej5OgW2lauvRkxy0lLVGYhcRoyxANUURIm/EbfNX8=     1   0     NaN   \n",
      "6769450  8KEWLOUggktIjiT3bKpgcACB3WbkoP74WabNYz2EVE0=     1   0     NaN   \n",
      "6769451  zEbFxXsp+eaHF8tSEASFSJfTjaes+zNYLmTlpA3HHUU=     1   0     NaN   \n",
      "6769452  nekPR84bVpE4HSgxlW4H3+SIxLJWZCSctP0VEFrT1Pk=    15  19    male   \n",
      "6769453  WDGMzy3arZrbDZWAd/BaWTKmILEF9N2zHRN2gfciPKY=     1   0     NaN   \n",
      "6769454  wv7xKoYMhXk+UT6x6GDrXC3aJ7O5RPWXZhSkS9TfLl0=     6  32    male   \n",
      "6769455  IwDZCuhB0UP7wrBwuqE1r1jQIA0yFSTqUGlGJnM+hMI=     1  52    male   \n",
      "6769456  O17RLjJp7AVhS1G1TJ8LjZHoIeoeGi1jwlV3kIth47Q=     1   0     NaN   \n",
      "6769457  YOqjbC7RQVk/tLpavVvqSFCoZJ7iUjeG6uTvc9JW9nA=     1   0     NaN   \n",
      "6769458  lN70dnrI/8KjuUfSZPQ4mVCHJXFwpfaXsmnrAWvRB90=     1   0     NaN   \n",
      "6769459  swUHFmY7ArwcqVEA8UsukGriyE4iGHIukuaG69UGajU=     1   0     NaN   \n",
      "6769460  PzjxWRuTQAJ3riOHWT6nBTiPrHW/JvUG3rrSfTMYIpY=     1   0     NaN   \n",
      "6769461  P8weYpM9bCHGGvoUFAhJRRDEaehliI7m0eq51ahKxK4=     1   0     NaN   \n",
      "6769462  y0rwiAeU5goDatsiUDulPdiJpohZ15hxUAkSJHccnvY=     8  32  female   \n",
      "6769463  MwBxLTG0c5B1aJTJNovaqR74v+y/H6yTxQt/yqOxr1c=     1   0     NaN   \n",
      "6769464  2U0grRyv2DB3Pw3crMBhBfsWWq6VkGcK1IGVqmDmK0w=     5  23  female   \n",
      "6769465  OL6joplCKThE1pZD+AQDnj3kZiC45qzpndlDIRSyPQI=     1   0     NaN   \n",
      "6769466  O11rAa17ANM6DGMMVb9L2vwCQFv/S6SR3SDB1nGuOAc=     1   0     NaN   \n",
      "6769467  tyoRqQ72Y2oCcqvdaIxG8T0Hs9DZvuuM8IeTwhxtdBQ=     6  26  female   \n",
      "6769468  VSGkb3hyBRUtb/b1MQUZbvOkktS3vKLnhMHW0CF8eyU=     1   0     NaN   \n",
      "6769469  nWjH7glPkZ7jOVaCRwwjlpmp0T1hSWdv8hMJxiWCwKc=     1   0     NaN   \n",
      "6769470  GH+b5+1tlv7ZZXsA8upBzVXMTLyffKcsF7WoU8b5rOI=    15  26  female   \n",
      "6769471  XVlwT3fdCFGKqerEKBzUIjK+jzI6jzSke4cDMVhYyjE=     1   0     NaN   \n",
      "6769472  isBt+JlgvZRNy6lxVr5vvuJ4lD00ofTaKyJ+uRnGcPg=     1   0     NaN   \n",
      "\n",
      "         registered_via  registration_init_time  \n",
      "0                    11                20110911  \n",
      "1                     7                20110914  \n",
      "2                    11                20110915  \n",
      "3                    11                20110915  \n",
      "4                     9                20110915  \n",
      "5                     9                20110916  \n",
      "6                     7                20110916  \n",
      "7                     9                20110916  \n",
      "8                     9                20110917  \n",
      "9                     9                20110918  \n",
      "10                    7                20110918  \n",
      "11                    9                20110919  \n",
      "12                    9                20110919  \n",
      "13                    9                20110920  \n",
      "14                    9                20110922  \n",
      "15                    9                20110922  \n",
      "16                    9                20110922  \n",
      "17                    7                20110923  \n",
      "18                    7                20110924  \n",
      "19                    9                20110925  \n",
      "20                    9                20110925  \n",
      "21                    9                20110925  \n",
      "22                    9                20110925  \n",
      "23                    9                20110926  \n",
      "24                    9                20110926  \n",
      "25                    9                20110926  \n",
      "26                    7                20110927  \n",
      "27                    9                20110927  \n",
      "28                    7                20110928  \n",
      "29                    9                20110928  \n",
      "...                 ...                     ...  \n",
      "6769443               7                20151020  \n",
      "6769444               4                20151020  \n",
      "6769445               4                20151020  \n",
      "6769446               4                20151020  \n",
      "6769447               4                20151020  \n",
      "6769448               4                20151020  \n",
      "6769449               4                20151020  \n",
      "6769450               4                20151020  \n",
      "6769451               4                20151020  \n",
      "6769452               4                20151020  \n",
      "6769453               4                20151020  \n",
      "6769454               4                20151020  \n",
      "6769455               4                20151020  \n",
      "6769456               4                20151020  \n",
      "6769457               4                20151020  \n",
      "6769458               9                20151020  \n",
      "6769459               4                20151020  \n",
      "6769460               4                20151020  \n",
      "6769461               4                20151020  \n",
      "6769462               9                20151020  \n",
      "6769463               4                20151020  \n",
      "6769464               4                20151020  \n",
      "6769465               7                20151020  \n",
      "6769466               7                20151020  \n",
      "6769467               7                20151020  \n",
      "6769468               7                20151020  \n",
      "6769469               7                20151020  \n",
      "6769470               4                20151020  \n",
      "6769471               4                20151020  \n",
      "6769472               4                20151021  \n",
      "\n",
      "[6769473 rows x 6 columns]\n"
     ]
    }
   ],
   "source": [
    "# -Show dataStructure\n",
    "data = pd.read_csv(\"./kkboxData/members_v3.csv\", nrows=10)\n",
    "print(data)"
   ]
  },
  {
   "cell_type": "code",
   "execution_count": 17,
   "metadata": {},
   "outputs": [
    {
     "data": {
      "text/plain": [
       "6769473"
      ]
     },
     "execution_count": 17,
     "metadata": {},
     "output_type": "execute_result"
    }
   ],
   "source": [
    "len(data)\n",
    "\n"
   ]
  },
  {
   "cell_type": "code",
   "execution_count": null,
   "metadata": {},
   "outputs": [],
   "source": []
  },
  {
   "cell_type": "markdown",
   "metadata": {},
   "source": [
    "# train.csv\n",
    "\n",
    "the train set, containing the user ids and whether they have churned.\n",
    "- msno: user id\n",
    "- is_churn: This is the target variable. Churn is defined as whether the user did not continue the subscription within 30 days of expiration. is_churn = 1 means churn,is_churn = 0 means renewal."
   ]
  },
  {
   "cell_type": "code",
   "execution_count": 9,
   "metadata": {},
   "outputs": [
    {
     "name": "stdout",
     "output_type": "stream",
     "text": [
      "                                           msno  is_churn\n",
      "0  waLDQMmcOu2jLDaV1ddDkgCrB/jl6sD66Xzs0Vqax1Y=         1\n",
      "1  QA7uiXy8vIbUSPOkCf9RwQ3FsT8jVq2OxDr8zqa7bRQ=         1\n",
      "2  fGwBva6hikQmTJzrbz/2Ezjm5Cth5jZUNvXigKK2AFA=         1\n",
      "3  mT5V8rEpa+8wuqi6x0DoVd3H5icMKkE9Prt49UlmK+4=         1\n",
      "4  XaPhtGLk/5UvvOYHcONTwsnH97P4eGECeq+BARGItRw=         1\n",
      "5  GBy8qSz16X5iYWD+3CMxv/Hm6OPSrXBYtmbnlRtknW0=         1\n",
      "6  lYLh7TdkWpIoQs3i3o6mIjLH8/IEgMWP9r7OpsLX0Vo=         1\n",
      "7  T0FF6lumjKcqEO0O+tUH2ytc+Kb9EkeaLzcVUiTr1aE=         1\n",
      "8  Nb1ZGEmagQeba5E+nQj8VlQoWl+8SFmLZu+Y8ytIamw=         1\n",
      "9  MkuWz0Nq6/Oq5fKqRddWL7oh2SLUSRe3/g+XmAWqW1Q=         1\n"
     ]
    }
   ],
   "source": [
    "# -Show dataStructure\n",
    "data = pd.read_csv(\"./kkboxData/train.csv\", nrows=10)\n",
    "print(data)"
   ]
  },
  {
   "cell_type": "code",
   "execution_count": null,
   "metadata": {},
   "outputs": [],
   "source": []
  },
  {
   "cell_type": "markdown",
   "metadata": {},
   "source": [
    "# transactions.csv\n",
    "transactions of users up until 2/28/2017.\n",
    "- msno: user id\n",
    "- payment_method_id: payment method\n",
    "- payment_plan_days: length of membership plan in days\n",
    "- plan_list_price: in New Taiwan Dollar (NTD)\n",
    "- actual_amount_paid: in New Taiwan Dollar (NTD)\n",
    "- is_auto_renew\n",
    "- transaction_date: format %Y%m%d\n",
    "- membership_expire_date: format %Y%m%d\n",
    "- is_cancel: whether or not the user canceled the membership in this transaction."
   ]
  },
  {
   "cell_type": "code",
   "execution_count": 10,
   "metadata": {},
   "outputs": [
    {
     "name": "stdout",
     "output_type": "stream",
     "text": [
      "                                           msno  payment_method_id  \\\n",
      "0  YyO+tlZtAXYXoZhNr3Vg3+dfVQvrBVGO8j1mfqe4ZHc=                 41   \n",
      "1  AZtu6Wl0gPojrEQYB8Q3vBSmE2wnZ3hi1FbK1rQQ0A4=                 41   \n",
      "2  UkDFI97Qb6+s2LWcijVVv4rMAsORbVDT2wNXF0aVbns=                 41   \n",
      "3  M1C56ijxozNaGD0t2h68PnH2xtx5iO5iR2MVYQB6nBI=                 39   \n",
      "4  yvj6zyBUaqdbUQSrKsrZ+xNDVM62knauSZJzakS9OW4=                 39   \n",
      "5  KN7I82kjY0Tn76Ny95ncqBUVbO7b8AXrOPqZutKpxIM=                 21   \n",
      "6  m5ptKif9BjdUghHXXomSezy5ohJiHm85PE13f/3kQaw=                 39   \n",
      "7  uQxbyACsPOEkTIrv9jZgoGXelGBW81ZsSZKy9fhj5Z8=                 39   \n",
      "8  LUPRfoE2r3WwVWhYO/TqQhjrL/qP6CO+/ORUlr7yNc0=                 39   \n",
      "9  pMVjPLgVknaJYm9L0xUwxA2jmhpK7gfhGnsmmwX1mrE=                 39   \n",
      "\n",
      "   payment_plan_days  plan_list_price  actual_amount_paid  is_auto_renew  \\\n",
      "0                 30              129                 129              1   \n",
      "1                 30              149                 149              1   \n",
      "2                 30              129                 129              1   \n",
      "3                 30              149                 149              1   \n",
      "4                 30              149                 149              1   \n",
      "5                 30              149                 149              1   \n",
      "6                 30              149                 149              1   \n",
      "7                 30              149                 149              1   \n",
      "8                 30              149                 149              1   \n",
      "9                 30              149                 149              1   \n",
      "\n",
      "   transaction_date  membership_expire_date  is_cancel  \n",
      "0          20150930                20151101          0  \n",
      "1          20150930                20151031          0  \n",
      "2          20150930                20160427          0  \n",
      "3          20150930                20151128          0  \n",
      "4          20150930                20151121          0  \n",
      "5          20150930                20151107          0  \n",
      "6          20150930                20151128          0  \n",
      "7          20150930                20151125          0  \n",
      "8          20150930                20151222          0  \n",
      "9          20150930                20151118          0  \n"
     ]
    }
   ],
   "source": [
    "# -Show dataStructure\n",
    "data = pd.read_csv(\"./kkboxData/transactions.csv\", nrows=10)\n",
    "print(data)"
   ]
  },
  {
   "cell_type": "code",
   "execution_count": null,
   "metadata": {},
   "outputs": [],
   "source": []
  },
  {
   "cell_type": "markdown",
   "metadata": {},
   "source": [
    "# user_logs.csv\n",
    "daily user logs describing listening behaviors of a user. Data collected until 2/28/2017.\n",
    "- msno: user id\n",
    "- date: format %Y%m%d\n",
    "- num_25: # of songs played less than 25% of the song length\n",
    "- num_50: # of songs played between 25% to 50% of the song length\n",
    "- num_75: # of songs played between 50% to 75% of of the song length\n",
    "- num_985: # of songs played between 75% to 98.5% of the song length\n",
    "- num_100: # of songs played over 98.5% of the song length\n",
    "- num_unq: # of unique songs played\n",
    "- total_secs: total seconds played"
   ]
  },
  {
   "cell_type": "code",
   "execution_count": 11,
   "metadata": {},
   "outputs": [
    {
     "name": "stdout",
     "output_type": "stream",
     "text": [
      "                                           msno      date  num_25  num_50  \\\n",
      "0  rxIP2f2aN0rYNp+toI0Obt/N/FYQX8hcO1fTmmy2h34=  20150513       0       0   \n",
      "1  rxIP2f2aN0rYNp+toI0Obt/N/FYQX8hcO1fTmmy2h34=  20150709       9       1   \n",
      "2  yxiEWwE9VR5utpUecLxVdQ5B7NysUPfrNtGINaM2zA8=  20150105       3       3   \n",
      "3  yxiEWwE9VR5utpUecLxVdQ5B7NysUPfrNtGINaM2zA8=  20150306       1       0   \n",
      "4  yxiEWwE9VR5utpUecLxVdQ5B7NysUPfrNtGINaM2zA8=  20150501       3       0   \n",
      "5  yxiEWwE9VR5utpUecLxVdQ5B7NysUPfrNtGINaM2zA8=  20150702       4       0   \n",
      "6  yxiEWwE9VR5utpUecLxVdQ5B7NysUPfrNtGINaM2zA8=  20150830       3       1   \n",
      "7  yxiEWwE9VR5utpUecLxVdQ5B7NysUPfrNtGINaM2zA8=  20151107       1       0   \n",
      "8  yxiEWwE9VR5utpUecLxVdQ5B7NysUPfrNtGINaM2zA8=  20160110       2       0   \n",
      "9  yxiEWwE9VR5utpUecLxVdQ5B7NysUPfrNtGINaM2zA8=  20160316       9       3   \n",
      "\n",
      "   num_75  num_985  num_100  num_unq  total_secs  \n",
      "0       0        0        1        1     280.335  \n",
      "1       0        0        7       11    1658.948  \n",
      "2       0        0       68       36   17364.956  \n",
      "3       1        1       97       27   24667.317  \n",
      "4       0        0       38       38    9649.029  \n",
      "5       1        1       33       10   10021.520  \n",
      "6       0        0        4        7    1119.555  \n",
      "7       0        0        4        5     938.022  \n",
      "8       1        0       11        6    3004.068  \n",
      "9       4        1       67       50   18257.661  \n"
     ]
    }
   ],
   "source": [
    "# -Show dataStructure\n",
    "data = pd.read_csv(\"./kkboxData/user_logs.csv\", nrows=10)\n",
    "print(data)"
   ]
  },
  {
   "cell_type": "code",
   "execution_count": null,
   "metadata": {},
   "outputs": [],
   "source": []
  },
  {
   "cell_type": "markdown",
   "metadata": {},
   "source": [
    "# sample_submission_zero.csv\n",
    "the test set, containing the user ids, in the format that we expect you to submit\n",
    "- msno: user id\n",
    "- is_churn: This is what you will predict. Churn is defined as whether the user did not continue the subscription within 30 days of expiration. is_churn = 1 means churn,is_churn = 0 means renewal."
   ]
  },
  {
   "cell_type": "code",
   "execution_count": 15,
   "metadata": {},
   "outputs": [
    {
     "data": {
      "text/plain": [
       "907471"
      ]
     },
     "execution_count": 15,
     "metadata": {},
     "output_type": "execute_result"
    }
   ],
   "source": [
    "# -Show dataStructure\n",
    "data = pd.read_csv(\"./kkboxData/sample_submission_v2.csv\")\n",
    "len(data)\n",
    "#print(data)"
   ]
  },
  {
   "cell_type": "code",
   "execution_count": null,
   "metadata": {},
   "outputs": [],
   "source": []
  },
  {
   "cell_type": "code",
   "execution_count": null,
   "metadata": {},
   "outputs": [],
   "source": []
  },
  {
   "cell_type": "markdown",
   "metadata": {},
   "source": [
    "# Data Extraction Details\n",
    "\n",
    "We include the code \"WSDMChurnLabeller.scala\" for generating labels for the user of our interest. The code provided is the one we used to generate the label for the test data set. Note that the date values in the script is modified so it is easier to run on personal laptops. On our cluster, the log history starts from 2015-01-01 to 2017-03-31. With the provision of the user label generator, we encourage participants to generate training labels using data not included in our sample training labels.\n",
    "\n",
    "One important information in the data extraction process is the definition of membership expiration date. Suppose we have a sequence for a user with the tuple of (transaction date, membership expiration date, and is_cancel):\n",
    "\n",
    "(2017-01-01, 2017-02-28, false)\n",
    "\n",
    "(2017-02-25, 0217-03-15, false)\n",
    "\n",
    "(2017-04-30, 3017-05-20, false)\n",
    "\n",
    "(data used for demo only, not included in competition dataset)\n",
    "\n",
    "This user is included in the dataset since the expiration date falls within our time period. Since the subscription transaction is 30 days away from 2017-03-15, the previous expiration date, we will count this user as a churned user.\n",
    "\n",
    "Let's consider a more complex example derive the last one, suppose now a user has the following transaction sequence\n",
    "\n",
    "(2017-01-01, 2017-02-28, false)\n",
    "\n",
    "(2017-02-25, 2017-04-03, false)\n",
    "\n",
    "(2017-03-15, 2017-03-16, true)\n",
    "\n",
    "(2017-04-01, 3017-06-30, false)\n",
    "\n",
    "The above entries is quite typical for a user who changes his subscription plan. Entry 3 indicates that the membership expiration date is moved from 2017-04-03 back to 2017-03-16 due to the user making an active cancellation on the 15th. On April 1st, the user made a long term (two month subscription), which is 15 days after the \"current\" expiration date. So this user is not a churn user.\n",
    "\n",
    "Now let's consider the a sequence that indicate the user does not falls in our scope of prediction\n",
    "\n",
    "(2017-01-01, 2017-02-28, false)\n",
    "\n",
    "(2017-02-25, 2017-04-03, false)\n",
    "\n",
    "(2017-03-15, 2017-03-16, true)\n",
    "\n",
    "(2017-03-18, 2017-04-02, false)\n",
    "\n",
    "Note that even the 3rd entry has member ship expiration date falls in 2017-03-16, but the fourth entry extends the membership expiration date to 2017-04-02, not between 2017-03-01 and 2017-03-31, so we will not make a prediction for the user."
   ]
  },
  {
   "cell_type": "code",
   "execution_count": null,
   "metadata": {},
   "outputs": [],
   "source": []
  }
 ],
 "metadata": {
  "kernelspec": {
   "display_name": "Python 3",
   "language": "python",
   "name": "python3"
  },
  "language_info": {
   "codemirror_mode": {
    "name": "ipython",
    "version": 3
   },
   "file_extension": ".py",
   "mimetype": "text/x-python",
   "name": "python",
   "nbconvert_exporter": "python",
   "pygments_lexer": "ipython3",
   "version": "3.6.3"
  }
 },
 "nbformat": 4,
 "nbformat_minor": 2
}
