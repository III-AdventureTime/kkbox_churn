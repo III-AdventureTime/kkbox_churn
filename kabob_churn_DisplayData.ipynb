{
 "cells": [
  {
   "cell_type": "code",
   "execution_count": 13,
   "metadata": {},
   "outputs": [],
   "source": [
    "import pandas as pd"
   ]
  },
  {
   "cell_type": "markdown",
   "metadata": {},
   "source": [
    "# members.csv\n",
    "user information. Note that not every user in the dataset is available.\n",
    "- msno\n",
    "- city\n",
    "- bd: age. Note: this column has outlier values ranging from -7000 to 2015, please use your judgement.\n",
    "- gender\n",
    "- registered_via: registration method\n",
    "- registration_init_time: format %Y%m%d\n",
    "- expiration_date: format %Y%m%d, taken as a snapshot at which the member.csv is extracted. Not representing the actual churn behavior."
   ]
  },
  {
   "cell_type": "code",
   "execution_count": 8,
   "metadata": {},
   "outputs": [
    {
     "name": "stdout",
     "output_type": "stream",
     "text": [
      "                                           msno  city  bd  gender  \\\n",
      "0  Rb9UwLQTrxzBVwCB6+bCcSQWZ9JiNLC9dXtM1oEsZA8=     1   0     NaN   \n",
      "1  +tJonkh+O1CA796Fm5X60UMOtB6POHAwPjbTRVl/EuU=     1   0     NaN   \n",
      "2  cV358ssn7a0f7jZOwGNWS07wCKVqxyiImJUX6xcIwKw=     1   0     NaN   \n",
      "3  9bzDeJP6sQodK73K5CBlJ6fgIQzPeLnRl0p5B77XP+g=     1   0     NaN   \n",
      "4  WFLY3s7z4EZsieHCt63XrsdtfTEmJ+2PnnKLH5GY4Tk=     6  32  female   \n",
      "5  yLkV2gbZ4GLFwqTOXLVHz0VGrMYcgBGgKZ3kj9RiYu8=     4  30    male   \n",
      "6  jNCGK78YkTyId3H3wFavcBLDmz7pfqlvCfUKf4G1Lw4=     1   0     NaN   \n",
      "7  WH5Jq4mgtfUFXh2yz+HrcTXKS4Oess4k4W3qKolAeb0=     5  34    male   \n",
      "8  tKmbR4X5VXjHmxERrckawEMZ4znVy1lAQIR1vV5rdNk=     5  19    male   \n",
      "9  I0yFvqMoNkM8ZNHb617e1RBzIS/YRKemHO7Wj13EtA0=    13  63    male   \n",
      "\n",
      "   registered_via  registration_init_time  \n",
      "0              11                20110911  \n",
      "1               7                20110914  \n",
      "2              11                20110915  \n",
      "3              11                20110915  \n",
      "4               9                20110915  \n",
      "5               9                20110916  \n",
      "6               7                20110916  \n",
      "7               9                20110916  \n",
      "8               9                20110917  \n",
      "9               9                20110918  \n"
     ]
    }
   ],
   "source": [
    "# -Show dataStructure\n",
    "data = pd.read_csv(\"./kkboxData/members_v3.csv\", nrows=10)\n",
    "print(data)"
   ]
  },
  {
   "cell_type": "code",
   "execution_count": null,
   "metadata": {},
   "outputs": [],
   "source": []
  },
  {
   "cell_type": "markdown",
   "metadata": {},
   "source": [
    "# train.csv\n",
    "\n",
    "the train set, containing the user ids and whether they have churned.\n",
    "- msno: user id\n",
    "- is_churn: This is the target variable. Churn is defined as whether the user did not continue the subscription within 30 days of expiration. is_churn = 1 means churn,is_churn = 0 means renewal."
   ]
  },
  {
   "cell_type": "code",
   "execution_count": 9,
   "metadata": {},
   "outputs": [
    {
     "name": "stdout",
     "output_type": "stream",
     "text": [
      "                                           msno  is_churn\n",
      "0  waLDQMmcOu2jLDaV1ddDkgCrB/jl6sD66Xzs0Vqax1Y=         1\n",
      "1  QA7uiXy8vIbUSPOkCf9RwQ3FsT8jVq2OxDr8zqa7bRQ=         1\n",
      "2  fGwBva6hikQmTJzrbz/2Ezjm5Cth5jZUNvXigKK2AFA=         1\n",
      "3  mT5V8rEpa+8wuqi6x0DoVd3H5icMKkE9Prt49UlmK+4=         1\n",
      "4  XaPhtGLk/5UvvOYHcONTwsnH97P4eGECeq+BARGItRw=         1\n",
      "5  GBy8qSz16X5iYWD+3CMxv/Hm6OPSrXBYtmbnlRtknW0=         1\n",
      "6  lYLh7TdkWpIoQs3i3o6mIjLH8/IEgMWP9r7OpsLX0Vo=         1\n",
      "7  T0FF6lumjKcqEO0O+tUH2ytc+Kb9EkeaLzcVUiTr1aE=         1\n",
      "8  Nb1ZGEmagQeba5E+nQj8VlQoWl+8SFmLZu+Y8ytIamw=         1\n",
      "9  MkuWz0Nq6/Oq5fKqRddWL7oh2SLUSRe3/g+XmAWqW1Q=         1\n"
     ]
    }
   ],
   "source": [
    "# -Show dataStructure\n",
    "data = pd.read_csv(\"./kkboxData/train.csv\", nrows=10)\n",
    "print(data)"
   ]
  },
  {
   "cell_type": "code",
   "execution_count": null,
   "metadata": {},
   "outputs": [],
   "source": []
  },
  {
   "cell_type": "markdown",
   "metadata": {},
   "source": [
    "# transactions.csv\n",
    "transactions of users up until 2/28/2017.\n",
    "- msno: user id\n",
    "- payment_method_id: payment method\n",
    "- payment_plan_days: length of membership plan in days\n",
    "- plan_list_price: in New Taiwan Dollar (NTD)\n",
    "- actual_amount_paid: in New Taiwan Dollar (NTD)\n",
    "- is_auto_renew\n",
    "- transaction_date: format %Y%m%d\n",
    "- membership_expire_date: format %Y%m%d\n",
    "- is_cancel: whether or not the user canceled the membership in this transaction."
   ]
  },
  {
   "cell_type": "code",
   "execution_count": 10,
   "metadata": {},
   "outputs": [
    {
     "name": "stdout",
     "output_type": "stream",
     "text": [
      "                                           msno  payment_method_id  \\\n",
      "0  YyO+tlZtAXYXoZhNr3Vg3+dfVQvrBVGO8j1mfqe4ZHc=                 41   \n",
      "1  AZtu6Wl0gPojrEQYB8Q3vBSmE2wnZ3hi1FbK1rQQ0A4=                 41   \n",
      "2  UkDFI97Qb6+s2LWcijVVv4rMAsORbVDT2wNXF0aVbns=                 41   \n",
      "3  M1C56ijxozNaGD0t2h68PnH2xtx5iO5iR2MVYQB6nBI=                 39   \n",
      "4  yvj6zyBUaqdbUQSrKsrZ+xNDVM62knauSZJzakS9OW4=                 39   \n",
      "5  KN7I82kjY0Tn76Ny95ncqBUVbO7b8AXrOPqZutKpxIM=                 21   \n",
      "6  m5ptKif9BjdUghHXXomSezy5ohJiHm85PE13f/3kQaw=                 39   \n",
      "7  uQxbyACsPOEkTIrv9jZgoGXelGBW81ZsSZKy9fhj5Z8=                 39   \n",
      "8  LUPRfoE2r3WwVWhYO/TqQhjrL/qP6CO+/ORUlr7yNc0=                 39   \n",
      "9  pMVjPLgVknaJYm9L0xUwxA2jmhpK7gfhGnsmmwX1mrE=                 39   \n",
      "\n",
      "   payment_plan_days  plan_list_price  actual_amount_paid  is_auto_renew  \\\n",
      "0                 30              129                 129              1   \n",
      "1                 30              149                 149              1   \n",
      "2                 30              129                 129              1   \n",
      "3                 30              149                 149              1   \n",
      "4                 30              149                 149              1   \n",
      "5                 30              149                 149              1   \n",
      "6                 30              149                 149              1   \n",
      "7                 30              149                 149              1   \n",
      "8                 30              149                 149              1   \n",
      "9                 30              149                 149              1   \n",
      "\n",
      "   transaction_date  membership_expire_date  is_cancel  \n",
      "0          20150930                20151101          0  \n",
      "1          20150930                20151031          0  \n",
      "2          20150930                20160427          0  \n",
      "3          20150930                20151128          0  \n",
      "4          20150930                20151121          0  \n",
      "5          20150930                20151107          0  \n",
      "6          20150930                20151128          0  \n",
      "7          20150930                20151125          0  \n",
      "8          20150930                20151222          0  \n",
      "9          20150930                20151118          0  \n"
     ]
    }
   ],
   "source": [
    "# -Show dataStructure\n",
    "data = pd.read_csv(\"./kkboxData/transactions.csv\", nrows=10)\n",
    "print(data)"
   ]
  },
  {
   "cell_type": "code",
   "execution_count": null,
   "metadata": {},
   "outputs": [],
   "source": []
  },
  {
   "cell_type": "markdown",
   "metadata": {},
   "source": [
    "# user_logs.csv\n",
    "daily user logs describing listening behaviors of a user. Data collected until 2/28/2017.\n",
    "- msno: user id\n",
    "- date: format %Y%m%d\n",
    "- num_25: # of songs played less than 25% of the song length\n",
    "- num_50: # of songs played between 25% to 50% of the song length\n",
    "- num_75: # of songs played between 50% to 75% of of the song length\n",
    "- num_985: # of songs played between 75% to 98.5% of the song length\n",
    "- num_100: # of songs played over 98.5% of the song length\n",
    "- num_unq: # of unique songs played\n",
    "- total_secs: total seconds played"
   ]
  },
  {
   "cell_type": "code",
   "execution_count": 11,
   "metadata": {},
   "outputs": [
    {
     "name": "stdout",
     "output_type": "stream",
     "text": [
      "                                           msno      date  num_25  num_50  \\\n",
      "0  rxIP2f2aN0rYNp+toI0Obt/N/FYQX8hcO1fTmmy2h34=  20150513       0       0   \n",
      "1  rxIP2f2aN0rYNp+toI0Obt/N/FYQX8hcO1fTmmy2h34=  20150709       9       1   \n",
      "2  yxiEWwE9VR5utpUecLxVdQ5B7NysUPfrNtGINaM2zA8=  20150105       3       3   \n",
      "3  yxiEWwE9VR5utpUecLxVdQ5B7NysUPfrNtGINaM2zA8=  20150306       1       0   \n",
      "4  yxiEWwE9VR5utpUecLxVdQ5B7NysUPfrNtGINaM2zA8=  20150501       3       0   \n",
      "5  yxiEWwE9VR5utpUecLxVdQ5B7NysUPfrNtGINaM2zA8=  20150702       4       0   \n",
      "6  yxiEWwE9VR5utpUecLxVdQ5B7NysUPfrNtGINaM2zA8=  20150830       3       1   \n",
      "7  yxiEWwE9VR5utpUecLxVdQ5B7NysUPfrNtGINaM2zA8=  20151107       1       0   \n",
      "8  yxiEWwE9VR5utpUecLxVdQ5B7NysUPfrNtGINaM2zA8=  20160110       2       0   \n",
      "9  yxiEWwE9VR5utpUecLxVdQ5B7NysUPfrNtGINaM2zA8=  20160316       9       3   \n",
      "\n",
      "   num_75  num_985  num_100  num_unq  total_secs  \n",
      "0       0        0        1        1     280.335  \n",
      "1       0        0        7       11    1658.948  \n",
      "2       0        0       68       36   17364.956  \n",
      "3       1        1       97       27   24667.317  \n",
      "4       0        0       38       38    9649.029  \n",
      "5       1        1       33       10   10021.520  \n",
      "6       0        0        4        7    1119.555  \n",
      "7       0        0        4        5     938.022  \n",
      "8       1        0       11        6    3004.068  \n",
      "9       4        1       67       50   18257.661  \n"
     ]
    }
   ],
   "source": [
    "# -Show dataStructure\n",
    "data = pd.read_csv(\"./kkboxData/user_logs.csv\", nrows=10)\n",
    "print(data)"
   ]
  },
  {
   "cell_type": "code",
   "execution_count": null,
   "metadata": {},
   "outputs": [],
   "source": []
  },
  {
   "cell_type": "markdown",
   "metadata": {},
   "source": [
    "# sample_submission_zero.csv\n",
    "the test set, containing the user ids, in the format that we expect you to submit\n",
    "- msno: user id\n",
    "- is_churn: This is what you will predict. Churn is defined as whether the user did not continue the subscription within 30 days of expiration. is_churn = 1 means churn,is_churn = 0 means renewal."
   ]
  },
  {
   "cell_type": "code",
   "execution_count": 15,
   "metadata": {},
   "outputs": [
    {
     "data": {
      "text/plain": [
       "907471"
      ]
     },
     "execution_count": 15,
     "metadata": {},
     "output_type": "execute_result"
    }
   ],
   "source": [
    "# -Show dataStructure\n",
    "data = pd.read_csv(\"./kkboxData/sample_submission_v2.csv\")\n",
    "len(data)\n",
    "#print(data)"
   ]
  },
  {
   "cell_type": "code",
   "execution_count": null,
   "metadata": {},
   "outputs": [],
   "source": []
  },
  {
   "cell_type": "code",
   "execution_count": null,
   "metadata": {},
   "outputs": [],
   "source": []
  },
  {
   "cell_type": "markdown",
   "metadata": {},
   "source": [
    "# Data Extraction Details\n",
    "\n",
    "We include the code \"WSDMChurnLabeller.scala\" for generating labels for the user of our interest. The code provided is the one we used to generate the label for the test data set. Note that the date values in the script is modified so it is easier to run on personal laptops. On our cluster, the log history starts from 2015-01-01 to 2017-03-31. With the provision of the user label generator, we encourage participants to generate training labels using data not included in our sample training labels.\n",
    "\n",
    "One important information in the data extraction process is the definition of membership expiration date. Suppose we have a sequence for a user with the tuple of (transaction date, membership expiration date, and is_cancel):\n",
    "\n",
    "(2017-01-01, 2017-02-28, false)\n",
    "\n",
    "(2017-02-25, 0217-03-15, false)\n",
    "\n",
    "(2017-04-30, 3017-05-20, false)\n",
    "\n",
    "(data used for demo only, not included in competition dataset)\n",
    "\n",
    "This user is included in the dataset since the expiration date falls within our time period. Since the subscription transaction is 30 days away from 2017-03-15, the previous expiration date, we will count this user as a churned user.\n",
    "\n",
    "Let's consider a more complex example derive the last one, suppose now a user has the following transaction sequence\n",
    "\n",
    "(2017-01-01, 2017-02-28, false)\n",
    "\n",
    "(2017-02-25, 2017-04-03, false)\n",
    "\n",
    "(2017-03-15, 2017-03-16, true)\n",
    "\n",
    "(2017-04-01, 3017-06-30, false)\n",
    "\n",
    "The above entries is quite typical for a user who changes his subscription plan. Entry 3 indicates that the membership expiration date is moved from 2017-04-03 back to 2017-03-16 due to the user making an active cancellation on the 15th. On April 1st, the user made a long term (two month subscription), which is 15 days after the \"current\" expiration date. So this user is not a churn user.\n",
    "\n",
    "Now let's consider the a sequence that indicate the user does not falls in our scope of prediction\n",
    "\n",
    "(2017-01-01, 2017-02-28, false)\n",
    "\n",
    "(2017-02-25, 2017-04-03, false)\n",
    "\n",
    "(2017-03-15, 2017-03-16, true)\n",
    "\n",
    "(2017-03-18, 2017-04-02, false)\n",
    "\n",
    "Note that even the 3rd entry has member ship expiration date falls in 2017-03-16, but the fourth entry extends the membership expiration date to 2017-04-02, not between 2017-03-01 and 2017-03-31, so we will not make a prediction for the user."
   ]
  },
  {
   "cell_type": "code",
   "execution_count": null,
   "metadata": {},
   "outputs": [],
   "source": []
  }
 ],
 "metadata": {
  "kernelspec": {
   "display_name": "Python 3",
   "language": "python",
   "name": "python3"
  },
  "language_info": {
   "codemirror_mode": {
    "name": "ipython",
    "version": 3
   },
   "file_extension": ".py",
   "mimetype": "text/x-python",
   "name": "python",
   "nbconvert_exporter": "python",
   "pygments_lexer": "ipython3",
   "version": "3.6.3"
  }
 },
 "nbformat": 4,
 "nbformat_minor": 2
}
