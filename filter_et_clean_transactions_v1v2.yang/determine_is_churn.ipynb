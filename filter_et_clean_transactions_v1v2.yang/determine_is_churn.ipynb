{
 "cells": [
  {
   "cell_type": "code",
   "execution_count": 1,
   "metadata": {},
   "outputs": [
    {
     "data": {
      "text/html": [
       "\n",
       "            <div>\n",
       "                <p><b>SparkSession - hive</b></p>\n",
       "                \n",
       "        <div>\n",
       "            <p><b>SparkContext</b></p>\n",
       "\n",
       "            <p><a href=\"http://10.120.27.99:4040\">Spark UI</a></p>\n",
       "\n",
       "            <dl>\n",
       "              <dt>Version</dt>\n",
       "                <dd><code>v2.2.1</code></dd>\n",
       "              <dt>Master</dt>\n",
       "                <dd><code>local[*]</code></dd>\n",
       "              <dt>AppName</dt>\n",
       "                <dd><code>PySparkShell</code></dd>\n",
       "            </dl>\n",
       "        </div>\n",
       "        \n",
       "            </div>\n",
       "        "
      ],
      "text/plain": [
       "<pyspark.sql.session.SparkSession at 0x7f2cdcfc9320>"
      ]
     },
     "execution_count": 1,
     "metadata": {},
     "output_type": "execute_result"
    }
   ],
   "source": [
    "spark"
   ]
  },
  {
   "cell_type": "code",
   "execution_count": 50,
   "metadata": {},
   "outputs": [],
   "source": [
    "dir0 = '/home/cloudera/2.kkbox_churn/data01/from_raw_transactions-v1+v2/'"
   ]
  },
  {
   "cell_type": "code",
   "execution_count": 51,
   "metadata": {},
   "outputs": [],
   "source": [
    "infile = dir0 + '10.effective_subscr_periods'\n",
    "df0 = spark.read.format('parquet').load(infile)"
   ]
  },
  {
   "cell_type": "code",
   "execution_count": 22,
   "metadata": {},
   "outputs": [
    {
     "name": "stdout",
     "output_type": "stream",
     "text": [
      "root\n",
      " |-- msno: string (nullable = true)\n",
      " |-- tid: string (nullable = true)\n",
      " |-- start_date: string (nullable = true)\n",
      " |-- end_date: string (nullable = true)\n",
      "\n"
     ]
    }
   ],
   "source": [
    "df0.printSchema()"
   ]
  },
  {
   "cell_type": "code",
   "execution_count": 49,
   "metadata": {},
   "outputs": [
    {
     "name": "stdout",
     "output_type": "stream",
     "text": [
      "+--------------------+----+----------+----------+\n",
      "|                msno| tid|start_date|  end_date|\n",
      "+--------------------+----+----------+----------+\n",
      "|+k34uNljb84Fx+8Cb...|1551|2015-01-14|2015-02-13|\n",
      "|+k34uNljb84Fx+8Cb...|1556|2015-03-04|2015-04-03|\n",
      "|+k34uNljb84Fx+8Cb...|1554|2016-09-28|2016-10-27|\n",
      "|+k34uNljb84Fx+8Cb...|1558|2016-10-27|2016-11-26|\n",
      "|+k34uNljb84Fx+8Cb...|1555|2016-11-28|2016-12-27|\n",
      "|+k34uNljb84Fx+8Cb...|1552|2016-12-28|2017-01-27|\n",
      "|+k34uNljb84Fx+8Cb...|1557|2017-01-28|2017-02-27|\n",
      "|+k34uNljb84Fx+8Cb...|1553|2017-03-01|2017-03-30|\n",
      "|+k34uNljb84Fx+8Cb...|1559|2017-04-01|2017-04-30|\n",
      "+--------------------+----+----------+----------+\n",
      "\n"
     ]
    }
   ],
   "source": [
    "########################\n",
    "df0.where(col('msno').startswith('+k34uNljb84Fx+8Cb')).sort('start_date').show()"
   ]
  },
  {
   "cell_type": "markdown",
   "metadata": {},
   "source": [
    "# select members"
   ]
  },
  {
   "cell_type": "code",
   "execution_count": 52,
   "metadata": {},
   "outputs": [],
   "source": [
    "# exclude members with indeterminate periods overlapping [2017-02-01, 2017-03-31]\n",
    "from pyspark.sql.functions import col\n",
    "\n",
    "df = df0.where(col('tid').startswith('indet')) \\\n",
    "     .where(col('end_date') >= '2017-02-01') \\\n",
    "     .where(col('start_date') <= '2017-03-31') \\\n",
    "     .selectExpr('msno AS msno_')\n",
    "df1 = df0.join(df, df0['msno']==df['msno_'], 'left_anti')"
   ]
  },
  {
   "cell_type": "code",
   "execution_count": 53,
   "metadata": {},
   "outputs": [],
   "source": [
    "# retain only members with a subscription period ending within Feb 2017\n",
    "df = df1.where(col('end_date') >= '2017-02-01') \\\n",
    "        .where(col('start_date') < '2017-03-01')\n",
    "\n",
    "df2 = df1.join(df, df1['msno']==df['msno'], 'left_semi')\n",
    "\n",
    "# output\n",
    "outfile = dir0 + 'temp'\n",
    "df2.write.format('parquet').save(outfile)"
   ]
  },
  {
   "cell_type": "markdown",
   "metadata": {},
   "source": [
    "# find long gap across 2017 Feb and Mar"
   ]
  },
  {
   "cell_type": "code",
   "execution_count": 54,
   "metadata": {},
   "outputs": [
    {
     "name": "stdout",
     "output_type": "stream",
     "text": [
      "root\n",
      " |-- msno: string (nullable = true)\n",
      " |-- tid: string (nullable = true)\n",
      " |-- start_date: string (nullable = true)\n",
      " |-- end_date: string (nullable = true)\n",
      "\n"
     ]
    }
   ],
   "source": [
    "# input\n",
    "infile = dir0 + 'temp'\n",
    "df2 = spark.read.format('parquet').load(infile)\n",
    "\n",
    "df2.printSchema()"
   ]
  },
  {
   "cell_type": "code",
   "execution_count": 56,
   "metadata": {},
   "outputs": [
    {
     "name": "stdout",
     "output_type": "stream",
     "text": [
      "+--------------------+----+----------+----------+\n",
      "|                msno| tid|start_date|  end_date|\n",
      "+--------------------+----+----------+----------+\n",
      "|+k34uNljb84Fx+8Cb...|1551|2015-01-14|2015-02-13|\n",
      "|+k34uNljb84Fx+8Cb...|1556|2015-03-04|2015-04-03|\n",
      "|+k34uNljb84Fx+8Cb...|1554|2016-09-28|2016-10-27|\n",
      "|+k34uNljb84Fx+8Cb...|1558|2016-10-27|2016-11-26|\n",
      "|+k34uNljb84Fx+8Cb...|1555|2016-11-28|2016-12-27|\n",
      "|+k34uNljb84Fx+8Cb...|1552|2016-12-28|2017-01-27|\n",
      "|+k34uNljb84Fx+8Cb...|1557|2017-01-28|2017-02-27|\n",
      "|+k34uNljb84Fx+8Cb...|1553|2017-03-01|2017-03-30|\n",
      "|+k34uNljb84Fx+8Cb...|1559|2017-04-01|2017-04-30|\n",
      "+--------------------+----+----------+----------+\n",
      "\n"
     ]
    }
   ],
   "source": [
    "################################################\n",
    "df2.where(col('msno').startswith('+k34uNljb84Fx+8Cb')).sort('start_date').show()"
   ]
  },
  {
   "cell_type": "code",
   "execution_count": 57,
   "metadata": {},
   "outputs": [],
   "source": [
    "from pyspark.sql import Row\n",
    "from util_time_ranges import find_gaps\n",
    "\n",
    "def map_func(row):\n",
    "    msno = row['msno']\n",
    "    periods = [s.split('_') for s in row['sub_periods']]\n",
    "    gaps = find_gaps(periods, '2017-02-01', '2017-03-31', min_gap_len=30)\n",
    "    \n",
    "    is_churn = False\n",
    "    for gap in gaps:\n",
    "        if gap[0] <= '2017-02-28' and gap[1] >= '2017-03-01':\n",
    "            is_churn = True\n",
    "            break\n",
    "        \n",
    "    return Row(msno=msno, is_churn=is_churn)"
   ]
  },
  {
   "cell_type": "code",
   "execution_count": 58,
   "metadata": {
    "scrolled": false
   },
   "outputs": [
    {
     "name": "stdout",
     "output_type": "stream",
     "text": [
      "root\n",
      " |-- msno: string (nullable = true)\n",
      " |-- is_churn: boolean (nullable = true)\n",
      "\n"
     ]
    }
   ],
   "source": [
    "from pyspark.sql.functions import col, collect_list, concat_ws\n",
    "\n",
    "df3 = df2.groupBy('msno').agg(collect_list(concat_ws('_', 'start_date', 'end_date')).alias('sub_periods'))\n",
    "df4 = df3.rdd.map(map_func).toDF() \\\n",
    "      .select('msno', 'is_churn')\n",
    "\n",
    "df4.printSchema()"
   ]
  },
  {
   "cell_type": "code",
   "execution_count": 59,
   "metadata": {},
   "outputs": [],
   "source": [
    "# output\n",
    "outfile = dir0 + '11.is-churn_across-201702-03_members-exp-in-201702'\n",
    "df4.write.format('parquet').save(outfile)"
   ]
  },
  {
   "cell_type": "markdown",
   "metadata": {},
   "source": [
    "# compare with \"train.csv\""
   ]
  },
  {
   "cell_type": "code",
   "execution_count": 60,
   "metadata": {},
   "outputs": [
    {
     "name": "stdout",
     "output_type": "stream",
     "text": [
      "root\n",
      " |-- msno: string (nullable = true)\n",
      " |-- is_churn: boolean (nullable = true)\n",
      "\n"
     ]
    }
   ],
   "source": [
    "infile = dir0 + '11.is-churn_across-201702-03_members-exp-in-201702'\n",
    "df4 = spark.read.format('parquet').load(infile)\n",
    "df4.printSchema()"
   ]
  },
  {
   "cell_type": "code",
   "execution_count": 61,
   "metadata": {},
   "outputs": [
    {
     "data": {
      "text/plain": [
       "1181333"
      ]
     },
     "execution_count": 61,
     "metadata": {},
     "output_type": "execute_result"
    }
   ],
   "source": [
    "df4.count()"
   ]
  },
  {
   "cell_type": "code",
   "execution_count": 62,
   "metadata": {},
   "outputs": [
    {
     "data": {
      "text/plain": [
       "38202"
      ]
     },
     "execution_count": 62,
     "metadata": {},
     "output_type": "execute_result"
    }
   ],
   "source": [
    "df4.where('is_churn').count()"
   ]
  },
  {
   "cell_type": "code",
   "execution_count": 63,
   "metadata": {},
   "outputs": [],
   "source": [
    "infile = '/home/cloudera/2.kkbox_churn/raw_data/train.csv'\n",
    "df5 = spark.read.format('csv').option('header','true').load(infile) \\\n",
    "      .selectExpr('msno AS msno_', 'is_churn = 1 AS is_churn_')"
   ]
  },
  {
   "cell_type": "code",
   "execution_count": 64,
   "metadata": {},
   "outputs": [
    {
     "name": "stdout",
     "output_type": "stream",
     "text": [
      "root\n",
      " |-- msno_: string (nullable = true)\n",
      " |-- is_churn_: boolean (nullable = true)\n",
      "\n"
     ]
    }
   ],
   "source": [
    "df5.printSchema()"
   ]
  },
  {
   "cell_type": "code",
   "execution_count": 65,
   "metadata": {},
   "outputs": [
    {
     "name": "stdout",
     "output_type": "stream",
     "text": [
      "+--------------------+---------+\n",
      "|               msno_|is_churn_|\n",
      "+--------------------+---------+\n",
      "|waLDQMmcOu2jLDaV1...|     true|\n",
      "|QA7uiXy8vIbUSPOkC...|     true|\n",
      "|fGwBva6hikQmTJzrb...|     true|\n",
      "|mT5V8rEpa+8wuqi6x...|     true|\n",
      "+--------------------+---------+\n",
      "only showing top 4 rows\n",
      "\n"
     ]
    }
   ],
   "source": [
    "df5.show(4)"
   ]
  },
  {
   "cell_type": "code",
   "execution_count": 66,
   "metadata": {},
   "outputs": [
    {
     "data": {
      "text/plain": [
       "992931"
      ]
     },
     "execution_count": 66,
     "metadata": {},
     "output_type": "execute_result"
    }
   ],
   "source": [
    "df5.count()"
   ]
  },
  {
   "cell_type": "code",
   "execution_count": 67,
   "metadata": {},
   "outputs": [
    {
     "data": {
      "text/plain": [
       "953553"
      ]
     },
     "execution_count": 67,
     "metadata": {},
     "output_type": "execute_result"
    }
   ],
   "source": [
    "df6 = df4.join(df5, df4['msno']==df5['msno_'], 'inner').drop('msno_')\n",
    "df6.count()"
   ]
  },
  {
   "cell_type": "code",
   "execution_count": 68,
   "metadata": {},
   "outputs": [
    {
     "name": "stdout",
     "output_type": "stream",
     "text": [
      "root\n",
      " |-- msno: string (nullable = true)\n",
      " |-- is_churn: boolean (nullable = true)\n",
      " |-- is_churn_: boolean (nullable = true)\n",
      "\n"
     ]
    }
   ],
   "source": [
    "df6.printSchema()"
   ]
  },
  {
   "cell_type": "code",
   "execution_count": 69,
   "metadata": {},
   "outputs": [
    {
     "name": "stdout",
     "output_type": "stream",
     "text": [
      "+------------------+------+-----+\n",
      "|is_churn_is_churn_| false| true|\n",
      "+------------------+------+-----+\n",
      "|             false|897347|18013|\n",
      "|              true|   297|37896|\n",
      "+------------------+------+-----+\n",
      "\n"
     ]
    }
   ],
   "source": [
    "df6.crosstab('is_churn', 'is_churn_').show()"
   ]
  },
  {
   "cell_type": "code",
   "execution_count": 71,
   "metadata": {},
   "outputs": [
    {
     "name": "stdout",
     "output_type": "stream",
     "text": [
      "+--------------------+--------+---------+\n",
      "|                msno|is_churn|is_churn_|\n",
      "+--------------------+--------+---------+\n",
      "|JlOCq1KfgxTTky0ek...|    true|    false|\n",
      "|qp2ZM62QvCW2lA33s...|    true|    false|\n",
      "|BYR+BL8wSy5kQP3iR...|    true|    false|\n",
      "|gBiQxnbw1Z9oZC4Rp...|    true|    false|\n",
      "|lDYK3CRe6Q3LuKAV0...|    true|    false|\n",
      "+--------------------+--------+---------+\n",
      "only showing top 5 rows\n",
      "\n"
     ]
    }
   ],
   "source": [
    "##########################################\n",
    "df6.where('is_churn').where('NOT is_churn_').show(5)"
   ]
  },
  {
   "cell_type": "markdown",
   "metadata": {},
   "source": [
    "# compare with output of churn labeler"
   ]
  },
  {
   "cell_type": "code",
   "execution_count": 72,
   "metadata": {},
   "outputs": [
    {
     "data": {
      "text/plain": [
       "829786"
      ]
     },
     "execution_count": 72,
     "metadata": {},
     "output_type": "execute_result"
    }
   ],
   "source": [
    "infile = '/home/cloudera/2.kkbox_churn/raw_data/churn_labeler_output.csv'\n",
    "df = spark.read.format('csv').option('header','true').load(infile) \\\n",
    "     .selectExpr('msno AS msno_', 'is_churn = true AS is_churn2')\n",
    "df7 = df4.join(df, df4['msno']==df['msno_'], 'inner').drop('msno_')\n",
    "df7.count()"
   ]
  },
  {
   "cell_type": "code",
   "execution_count": 73,
   "metadata": {},
   "outputs": [
    {
     "name": "stdout",
     "output_type": "stream",
     "text": [
      "+------------------+------+-----+\n",
      "|is_churn_is_churn2| false| true|\n",
      "+------------------+------+-----+\n",
      "|             false|797681|  839|\n",
      "|              true|  4220|27046|\n",
      "+------------------+------+-----+\n",
      "\n"
     ]
    }
   ],
   "source": [
    "df7.crosstab('is_churn', 'is_churn2').show()"
   ]
  },
  {
   "cell_type": "code",
   "execution_count": null,
   "metadata": {},
   "outputs": [],
   "source": []
  }
 ],
 "metadata": {
  "kernelspec": {
   "display_name": "Python 3",
   "language": "python",
   "name": "python3"
  },
  "language_info": {
   "codemirror_mode": {
    "name": "ipython",
    "version": 3
   },
   "file_extension": ".py",
   "mimetype": "text/x-python",
   "name": "python",
   "nbconvert_exporter": "python",
   "pygments_lexer": "ipython3",
   "version": "3.6.6"
  },
  "toc": {
   "base_numbering": 1,
   "nav_menu": {},
   "number_sections": true,
   "sideBar": true,
   "skip_h1_title": false,
   "title_cell": "Table of Contents",
   "title_sidebar": "Contents",
   "toc_cell": false,
   "toc_position": {},
   "toc_section_display": true,
   "toc_window_display": false
  }
 },
 "nbformat": 4,
 "nbformat_minor": 2
}
