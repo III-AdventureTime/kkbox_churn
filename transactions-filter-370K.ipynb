{
 "cells": [
  {
   "cell_type": "code",
   "execution_count": 1,
   "metadata": {},
   "outputs": [
    {
     "data": {
      "text/html": [
       "\n",
       "            <div>\n",
       "                <p><b>SparkSession - hive</b></p>\n",
       "                \n",
       "        <div>\n",
       "            <p><b>SparkContext</b></p>\n",
       "\n",
       "            <p><a href=\"http://192.168.163.144:4040\">Spark UI</a></p>\n",
       "\n",
       "            <dl>\n",
       "              <dt>Version</dt>\n",
       "                <dd><code>v2.2.1</code></dd>\n",
       "              <dt>Master</dt>\n",
       "                <dd><code>local[*]</code></dd>\n",
       "              <dt>AppName</dt>\n",
       "                <dd><code>PySparkShell</code></dd>\n",
       "            </dl>\n",
       "        </div>\n",
       "        \n",
       "            </div>\n",
       "        "
      ],
      "text/plain": [
       "<pyspark.sql.session.SparkSession at 0x7fe610229da0>"
      ]
     },
     "execution_count": 1,
     "metadata": {},
     "output_type": "execute_result"
    }
   ],
   "source": [
    "spark "
   ]
  },
  {
   "cell_type": "code",
   "execution_count": 5,
   "metadata": {},
   "outputs": [],
   "source": [
    "# 讀入transaction.csv檔案後存入變數transactions \n",
    "# format(\"csv\")=>設定匯入為csv檔\n",
    "# option(\"header\",\"true\")=>保留表頭\n",
    "transactions = spark.read.format(\"csv\").option(\"header\", \"true\").load(\"/home/cloudera/KKBOX/transactions.csv\") "
   ]
  },
  {
   "cell_type": "code",
   "execution_count": 6,
   "metadata": {},
   "outputs": [
    {
     "data": {
      "text/plain": [
       "21547746"
      ]
     },
     "execution_count": 6,
     "metadata": {},
     "output_type": "execute_result"
    }
   ],
   "source": [
    "# 查看transactions.csv裡有幾筆紀錄 ? 總共有21,547,746筆紀錄 => KKBOX會員總數為六百多萬,由此推斷這裡面有一個會員擁有多筆紀錄的情況 !  \n",
    "transactions.count() "
   ]
  },
  {
   "cell_type": "code",
   "execution_count": 7,
   "metadata": {},
   "outputs": [
    {
     "data": {
      "text/plain": [
       "['msno',\n",
       " 'payment_method_id',\n",
       " 'payment_plan_days',\n",
       " 'plan_list_price',\n",
       " 'actual_amount_paid',\n",
       " 'is_auto_renew',\n",
       " 'transaction_date',\n",
       " 'membership_expire_date',\n",
       " 'is_cancel']"
      ]
     },
     "execution_count": 7,
     "metadata": {},
     "output_type": "execute_result"
    }
   ],
   "source": [
    "# 查看transactions.csv的欄位內容為何 ?\n",
    "transactions.columns  "
   ]
  },
  {
   "cell_type": "code",
   "execution_count": 2,
   "metadata": {},
   "outputs": [],
   "source": [
    "# 讀入data.csv檔案後存入變數data\n",
    "# 設定為csv格式檔 \n",
    "# 表格裡的每個的欄位以\"|\"分隔 \n",
    "data = spark.read.format(\"csv\").option(\"sep\",\"|\").load(\"/home/cloudera/KKBOX/data.csv\") "
   ]
  },
  {
   "cell_type": "code",
   "execution_count": 8,
   "metadata": {},
   "outputs": [
    {
     "data": {
      "text/plain": [
       "379478"
      ]
     },
     "execution_count": 8,
     "metadata": {},
     "output_type": "execute_result"
    }
   ],
   "source": [
    "# 確認表格data.csv的資料筆數  \n",
    "data.count() "
   ]
  },
  {
   "cell_type": "code",
   "execution_count": 15,
   "metadata": {},
   "outputs": [
    {
     "name": "stdout",
     "output_type": "stream",
     "text": [
      "+---+--------------------+---+---+------+--------+---+\n",
      "|_c0|                 _c1|_c2|_c3|   _c4|     _c5|_c6|\n",
      "+---+--------------------+---+---+------+--------+---+\n",
      "|  0|+/namlXq+u3izRjHC...| 31| 15|  male|20060603|  9|\n",
      "|  0|+0/X9tkmyHyet9X80...| 31|  9|  male|20040330|  9|\n",
      "|  0|+09YGn842g6h2EZUX...| 29| 15|  male|20080322|  9|\n",
      "|  1|+0RJtbyhoPAHPa+34...| 29| 13|female|20120612|  3|\n",
      "|  0|+0jTOa6KGPk1vtNTw...| 24|  5|female|20140320|  9|\n",
      "+---+--------------------+---+---+------+--------+---+\n",
      "only showing top 5 rows\n",
      "\n"
     ]
    }
   ],
   "source": [
    "# 查看data.csv的前5筆資料 \n",
    "data.show(5) "
   ]
  },
  {
   "cell_type": "code",
   "execution_count": 16,
   "metadata": {},
   "outputs": [
    {
     "name": "stdout",
     "output_type": "stream",
     "text": [
      "+--------------------+\n",
      "|                  ID|\n",
      "+--------------------+\n",
      "|+/namlXq+u3izRjHC...|\n",
      "|+0/X9tkmyHyet9X80...|\n",
      "|+09YGn842g6h2EZUX...|\n",
      "|+0RJtbyhoPAHPa+34...|\n",
      "|+0jTOa6KGPk1vtNTw...|\n",
      "+--------------------+\n",
      "only showing top 5 rows\n",
      "\n"
     ]
    }
   ],
   "source": [
    "# 更改data.csv的欄位名稱: \"_c1\" => \"ID\" \n",
    "data.selectExpr(\"_c1 as ID\").show(5) "
   ]
  },
  {
   "cell_type": "code",
   "execution_count": 17,
   "metadata": {},
   "outputs": [],
   "source": [
    "# 更改過欄位名稱的表格存入變數data01 \n",
    "data01 = data.selectExpr(\"_c1 as ID\") "
   ]
  },
  {
   "cell_type": "code",
   "execution_count": 18,
   "metadata": {},
   "outputs": [],
   "source": [
    "# 將transactions.csv併入表格data01(以會員ID為合併基準)存入變數joined_df00 => 保留表格data01裡所有的會員資料\n",
    "# 過濾transactions.csv中不存在於表格data01裡的會員記錄 \n",
    "joined_df00 = transactions.join(data01,\\\n",
    "transactions.msno == data01.ID,\"right_outer\") "
   ]
  },
  {
   "cell_type": "code",
   "execution_count": 19,
   "metadata": {},
   "outputs": [
    {
     "data": {
      "text/plain": [
       "6645431"
      ]
     },
     "execution_count": 19,
     "metadata": {},
     "output_type": "execute_result"
    }
   ],
   "source": [
    "# 清查合併之後的表格joined_df00有幾筆資料 ? \n",
    "# 379,478 < 合理的記錄筆數 < 21,547,746筆 => 6,645,531在合理的範圍 \n",
    "joined_df00.count() "
   ]
  },
  {
   "cell_type": "code",
   "execution_count": 20,
   "metadata": {},
   "outputs": [],
   "source": [
    "# 將joined_df00裡的資料匯出: \n",
    "# coalesce(1)=> Spark匯出的一個大檔案檔案預設分割成若干個小檔案以儲存,使用這個函數確保檔案不會被分割!\n",
    "joined_df00.coalesce(1).write.format(\"csv\").option(\"header\",\"true\").save(\"/home/cloudera/KKBOX/transactions_of_370K/\") "
   ]
  },
  {
   "cell_type": "code",
   "execution_count": null,
   "metadata": {},
   "outputs": [],
   "source": []
  }
 ],
 "metadata": {
  "kernelspec": {
   "display_name": "Python 3",
   "language": "python",
   "name": "python3"
  },
  "language_info": {
   "codemirror_mode": {
    "name": "ipython",
    "version": 3
   },
   "file_extension": ".py",
   "mimetype": "text/x-python",
   "name": "python",
   "nbconvert_exporter": "python",
   "pygments_lexer": "ipython3",
   "version": "3.6.5"
  }
 },
 "nbformat": 4,
 "nbformat_minor": 2
}
