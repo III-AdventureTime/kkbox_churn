{
 "cells": [
  {
   "cell_type": "code",
   "execution_count": 1,
   "metadata": {},
   "outputs": [
    {
     "data": {
      "text/html": [
       "\n",
       "            <div>\n",
       "                <p><b>SparkSession - hive</b></p>\n",
       "                \n",
       "        <div>\n",
       "            <p><b>SparkContext</b></p>\n",
       "\n",
       "            <p><a href=\"http://10.120.27.99:4040\">Spark UI</a></p>\n",
       "\n",
       "            <dl>\n",
       "              <dt>Version</dt>\n",
       "                <dd><code>v2.2.1</code></dd>\n",
       "              <dt>Master</dt>\n",
       "                <dd><code>local[*]</code></dd>\n",
       "              <dt>AppName</dt>\n",
       "                <dd><code>PySparkShell</code></dd>\n",
       "            </dl>\n",
       "        </div>\n",
       "        \n",
       "            </div>\n",
       "        "
      ],
      "text/plain": [
       "<pyspark.sql.session.SparkSession at 0x7f973c118390>"
      ]
     },
     "execution_count": 1,
     "metadata": {},
     "output_type": "execute_result"
    }
   ],
   "source": [
    "spark"
   ]
  },
  {
   "cell_type": "code",
   "execution_count": 2,
   "metadata": {},
   "outputs": [],
   "source": [
    "# read file as a DataFrame\n",
    "infile = '/home/cloudera/Desktop/KKBox_churn_predict/raw_data/members_v3.csv'\n",
    "#infile = 'hdfs://master:8020/kkbox_churn/kkbox_data/raw_data/members_v3.csv'\n",
    "df0 = spark.read.format('csv').option('header','true').option('sep',',').load(infile)"
   ]
  },
  {
   "cell_type": "code",
   "execution_count": 3,
   "metadata": {},
   "outputs": [
    {
     "data": {
      "text/plain": [
       "6769473"
      ]
     },
     "execution_count": 3,
     "metadata": {},
     "output_type": "execute_result"
    }
   ],
   "source": [
    "N = df0.count()\n",
    "N"
   ]
  },
  {
   "cell_type": "code",
   "execution_count": 4,
   "metadata": {},
   "outputs": [
    {
     "name": "stdout",
     "output_type": "stream",
     "text": [
      "root\n",
      " |-- msno: string (nullable = true)\n",
      " |-- city: string (nullable = true)\n",
      " |-- bd: string (nullable = true)\n",
      " |-- gender: string (nullable = true)\n",
      " |-- registered_via: string (nullable = true)\n",
      " |-- registration_init_time: string (nullable = true)\n",
      "\n"
     ]
    }
   ],
   "source": [
    "df0.printSchema()"
   ]
  },
  {
   "cell_type": "code",
   "execution_count": 5,
   "metadata": {},
   "outputs": [
    {
     "name": "stdout",
     "output_type": "stream",
     "text": [
      "+--------------------+----+---+------+--------------+----------------------+\n",
      "|                msno|city| bd|gender|registered_via|registration_init_time|\n",
      "+--------------------+----+---+------+--------------+----------------------+\n",
      "|Rb9UwLQTrxzBVwCB6...|   1|  0|  null|            11|              20110911|\n",
      "|+tJonkh+O1CA796Fm...|   1|  0|  null|             7|              20110914|\n",
      "|cV358ssn7a0f7jZOw...|   1|  0|  null|            11|              20110915|\n",
      "|9bzDeJP6sQodK73K5...|   1|  0|  null|            11|              20110915|\n",
      "|WFLY3s7z4EZsieHCt...|   6| 32|female|             9|              20110915|\n",
      "+--------------------+----+---+------+--------------+----------------------+\n",
      "only showing top 5 rows\n",
      "\n"
     ]
    }
   ],
   "source": [
    "df0.show(5)"
   ]
  },
  {
   "cell_type": "markdown",
   "metadata": {},
   "source": [
    "## bd"
   ]
  },
  {
   "cell_type": "code",
   "execution_count": 21,
   "metadata": {},
   "outputs": [
    {
     "data": {
      "text/plain": [
       "0"
      ]
     },
     "execution_count": 21,
     "metadata": {},
     "output_type": "execute_result"
    }
   ],
   "source": [
    "# null value in column 'bd'?\n",
    "from pyspark.sql.functions import isnull\n",
    "df0.where(isnull('bd')).count()"
   ]
  },
  {
   "cell_type": "code",
   "execution_count": 5,
   "metadata": {},
   "outputs": [
    {
     "name": "stdout",
     "output_type": "stream",
     "text": [
      "4540215\n",
      "67.06895795285689 %\n"
     ]
    }
   ],
   "source": [
    "# records with 'bd' = 0, < 0, > 100\n",
    "from pyspark.sql.functions import col\n",
    "n = df0.where(col('bd') == 0).count()\n",
    "print(n)\n",
    "print(n/N*100, '%')"
   ]
  },
  {
   "cell_type": "code",
   "execution_count": 31,
   "metadata": {},
   "outputs": [
    {
     "name": "stdout",
     "output_type": "stream",
     "text": [
      "274\n",
      "0.004047582433669504 %\n"
     ]
    }
   ],
   "source": [
    "from pyspark.sql.functions import col\n",
    "n = df0.where(col('bd') < 0).count()\n",
    "print(n)\n",
    "print(n/N*100, '%')"
   ]
  },
  {
   "cell_type": "code",
   "execution_count": 32,
   "metadata": {},
   "outputs": [
    {
     "name": "stdout",
     "output_type": "stream",
     "text": [
      "5377\n",
      "0.07943011221109826 %\n"
     ]
    }
   ],
   "source": [
    "from pyspark.sql.functions import col\n",
    "n = df0.where(col('bd') > 100).count()\n",
    "print(n)\n",
    "print(n/N*100, '%')"
   ]
  },
  {
   "cell_type": "markdown",
   "metadata": {},
   "source": [
    "* ~4540215 (~67%) of the members have 'bd' = 0\n",
    "* 274 of the members have 'bd' < 0\n",
    "* 5377 of the members have 'bd' > 100"
   ]
  },
  {
   "cell_type": "code",
   "execution_count": 50,
   "metadata": {
    "scrolled": false
   },
   "outputs": [
    {
     "data": {
      "text/plain": [
       "{'bin_centers_counts': [(2.0, 157),\n",
       "  (5.0, 400),\n",
       "  (8.0, 342),\n",
       "  (11.0, 402),\n",
       "  (14.0, 23067),\n",
       "  (17.0, 215548),\n",
       "  (20.0, 312400),\n",
       "  (23.0, 310952),\n",
       "  (26.0, 286716),\n",
       "  (29.0, 235191),\n",
       "  (32.0, 185778),\n",
       "  (35.0, 160277),\n",
       "  (38.0, 136015),\n",
       "  (41.0, 97742),\n",
       "  (44.0, 69684),\n",
       "  (47.0, 59970),\n",
       "  (50.0, 42616),\n",
       "  (53.0, 29343),\n",
       "  (56.0, 19504),\n",
       "  (59.0, 12143),\n",
       "  (62.0, 8593),\n",
       "  (65.0, 5300),\n",
       "  (68.0, 3548),\n",
       "  (71.0, 1855),\n",
       "  (74.0, 1182),\n",
       "  (77.0, 756),\n",
       "  (80.0, 499),\n",
       "  (83.0, 450),\n",
       "  (86.0, 440),\n",
       "  (89.0, 394),\n",
       "  (92.0, 621),\n",
       "  (95.0, 940),\n",
       "  (98.0, 639)],\n",
       " 'underflow': 4540489,\n",
       " 'overflow': 5520}"
      ]
     },
     "execution_count": 50,
     "metadata": {},
     "output_type": "execute_result"
    }
   ],
   "source": [
    "# historgram\n",
    "rdd = df0.select(\"bd\").rdd.map(lambda r: int(r[0]))\n",
    "\n",
    "import prepare_hist_data\n",
    "hist_data = prepare_hist_data.prepare_histogram_data(rdd, 0.5, 99.5, 33)\n",
    "hist_data"
   ]
  },
  {
   "cell_type": "code",
   "execution_count": 37,
   "metadata": {},
   "outputs": [
    {
     "data": {
      "text/html": [
       "<div>\n",
       "<style scoped>\n",
       "    .dataframe tbody tr th:only-of-type {\n",
       "        vertical-align: middle;\n",
       "    }\n",
       "\n",
       "    .dataframe tbody tr th {\n",
       "        vertical-align: top;\n",
       "    }\n",
       "\n",
       "    .dataframe thead th {\n",
       "        text-align: right;\n",
       "    }\n",
       "</style>\n",
       "<table border=\"1\" class=\"dataframe\">\n",
       "  <thead>\n",
       "    <tr style=\"text-align: right;\">\n",
       "      <th></th>\n",
       "      <th>age</th>\n",
       "      <th>count</th>\n",
       "    </tr>\n",
       "  </thead>\n",
       "  <tbody>\n",
       "    <tr>\n",
       "      <th>0</th>\n",
       "      <td>2.0</td>\n",
       "      <td>157</td>\n",
       "    </tr>\n",
       "    <tr>\n",
       "      <th>1</th>\n",
       "      <td>5.0</td>\n",
       "      <td>400</td>\n",
       "    </tr>\n",
       "    <tr>\n",
       "      <th>2</th>\n",
       "      <td>8.0</td>\n",
       "      <td>342</td>\n",
       "    </tr>\n",
       "    <tr>\n",
       "      <th>3</th>\n",
       "      <td>11.0</td>\n",
       "      <td>402</td>\n",
       "    </tr>\n",
       "    <tr>\n",
       "      <th>4</th>\n",
       "      <td>14.0</td>\n",
       "      <td>23067</td>\n",
       "    </tr>\n",
       "  </tbody>\n",
       "</table>\n",
       "</div>"
      ],
      "text/plain": [
       "    age  count\n",
       "0   2.0    157\n",
       "1   5.0    400\n",
       "2   8.0    342\n",
       "3  11.0    402\n",
       "4  14.0  23067"
      ]
     },
     "execution_count": 37,
     "metadata": {},
     "output_type": "execute_result"
    }
   ],
   "source": [
    "import pandas as pd\n",
    "df = pd.DataFrame(hist_data['bin_centers_counts'], columns=['age', 'count'])\n",
    "df.head()"
   ]
  },
  {
   "cell_type": "code",
   "execution_count": 39,
   "metadata": {},
   "outputs": [
    {
     "data": {
      "image/png": "[encoded data removed]",
      "text/plain": [
       "<Figure size 432x288 with 1 Axes>"
      ]
     },
     "metadata": {},
     "output_type": "display_data"
    }
   ],
   "source": [
    "import matplotlib.pyplot as plt\n",
    "df.plot(kind='scatter', x='age', y='count')\n",
    "plt.show()"
   ]
  },
  {
   "cell_type": "markdown",
   "metadata": {},
   "source": [
    "## gender "
   ]
  },
  {
   "cell_type": "code",
   "execution_count": 20,
   "metadata": {},
   "outputs": [
    {
     "data": {
      "text/plain": [
       "4429505"
      ]
     },
     "execution_count": 20,
     "metadata": {},
     "output_type": "execute_result"
    }
   ],
   "source": [
    "from pyspark.sql.functions import isnull\n",
    "df0.where(isnull('gender')).count()"
   ]
  },
  {
   "cell_type": "markdown",
   "metadata": {},
   "source": [
    "* ~2/3 of the members do not have 'gender' data."
   ]
  },
  {
   "cell_type": "markdown",
   "metadata": {},
   "source": [
    "### bd and gender "
   ]
  },
  {
   "cell_type": "code",
   "execution_count": 8,
   "metadata": {},
   "outputs": [
    {
     "data": {
      "text/plain": [
       "4388613"
      ]
     },
     "execution_count": 8,
     "metadata": {},
     "output_type": "execute_result"
    }
   ],
   "source": [
    "from pyspark.sql.functions import isnull\n",
    "df0.where('bd == 0').where(isnull('gender')).count()"
   ]
  },
  {
   "cell_type": "code",
   "execution_count": 21,
   "metadata": {},
   "outputs": [
    {
     "name": "stdout",
     "output_type": "stream",
     "text": [
      "+-------+------------+-------+\n",
      "|bd_is_0|gender_is_na|  count|\n",
      "+-------+------------+-------+\n",
      "|   true|       false| 151602|\n",
      "|   true|        true|4388613|\n",
      "|  false|       false|2188366|\n",
      "|  false|        true|  40892|\n",
      "+-------+------------+-------+\n",
      "\n"
     ]
    }
   ],
   "source": [
    "from pyspark.sql.functions import expr, isnull\n",
    "df0.select(expr('bd == 0').alias('bd_is_0'), \n",
    "           expr('gender IS NULL').alias('gender_is_na')) \\\n",
    "   .groupBy('bd_is_0', 'gender_is_na').count().show()"
   ]
  },
  {
   "cell_type": "markdown",
   "metadata": {},
   "source": [
    "* members with gender data mostly have 'bd' != 0\n",
    "* members without gender data mostly have 'bd' = 0\n",
    "\n",
    "* 65% of the members have gender = NA and 'bd' = 0\n",
    "* 32% of the members have gender != NA and 'bd' != 0"
   ]
  },
  {
   "cell_type": "markdown",
   "metadata": {},
   "source": [
    "### gender vs registration_init_time "
   ]
  },
  {
   "cell_type": "code",
   "execution_count": 40,
   "metadata": {
    "scrolled": false
   },
   "outputs": [
    {
     "name": "stdout",
     "output_type": "stream",
     "text": [
      "+-------+--------+--------+---------+\n",
      "|year_na|count_na|year_nna|count_nna|\n",
      "+-------+--------+--------+---------+\n",
      "|   2007|      28|    2007|    89802|\n",
      "|   2014|  549814|    2014|   425962|\n",
      "|   2012|  103033|    2012|   180157|\n",
      "|   2016| 1956253|    2016|   290508|\n",
      "|   2009|    1215|    2009|    62418|\n",
      "|   2010|   33396|    2010|    81679|\n",
      "|   2006|      41|    2006|    53912|\n",
      "|   2017|  400882|    2017|    80802|\n",
      "|   2013|  324668|    2013|   200054|\n",
      "|   null|    null|    2004|    26234|\n",
      "|   2011|   60587|    2011|   118464|\n",
      "|   2005|      71|    2005|    41278|\n",
      "|   2008|      28|    2008|    67662|\n",
      "|   2015|  999489|    2015|   621036|\n",
      "+-------+--------+--------+---------+\n",
      "\n"
     ]
    }
   ],
   "source": [
    "from pyspark.sql.functions import col, floor, isnull, count\n",
    "\n",
    "#col1 = floor(col('registration_init_time').cast('int') / 200 - 0.5) * 2 + 1\n",
    "col1 = floor(col('registration_init_time').cast('int') / 10000)\n",
    "df_gender_na = df0.where(isnull('gender')) \\\n",
    "                  .select(col1.alias(\"year_na\")) \\\n",
    "                  .groupBy(\"year_na\").agg(count('year_na').alias('count_na'))\n",
    "df_gender_nna = df0.where(~isnull('gender')) \\\n",
    "                  .select(col1.alias(\"year_nna\")) \\\n",
    "                  .groupBy(\"year_nna\").agg(count('year_nna').alias('count_nna'))\n",
    "\n",
    "df = df_gender_na.join(df_gender_nna, df_gender_na.year_na == df_gender_nna.year_nna, 'outer')\n",
    "df.show(50)"
   ]
  },
  {
   "cell_type": "code",
   "execution_count": 45,
   "metadata": {},
   "outputs": [
    {
     "name": "stdout",
     "output_type": "stream",
     "text": [
      "+----+--------+---------+\n",
      "|year|count_na|count_nna|\n",
      "+----+--------+---------+\n",
      "|2004|    null|    26234|\n",
      "|2005|      71|    41278|\n",
      "|2006|      41|    53912|\n",
      "|2007|      28|    89802|\n",
      "|2008|      28|    67662|\n",
      "|2009|    1215|    62418|\n",
      "|2010|   33396|    81679|\n",
      "|2011|   60587|   118464|\n",
      "|2012|  103033|   180157|\n",
      "|2013|  324668|   200054|\n",
      "|2014|  549814|   425962|\n",
      "|2015|  999489|   621036|\n",
      "|2016| 1956253|   290508|\n",
      "|2017|  400882|    80802|\n",
      "+----+--------+---------+\n",
      "\n"
     ]
    }
   ],
   "source": [
    "df_1 = df.selectExpr('year_nna as year', 'count_na as', 'count_nna').sort('year')\n",
    "df_1.show(20)"
   ]
  },
  {
   "cell_type": "code",
   "execution_count": 51,
   "metadata": {},
   "outputs": [
    {
     "data": {
      "image/png": "[encoded data removed]",
      "text/plain": [
       "<Figure size 720x360 with 1 Axes>"
      ]
     },
     "metadata": {},
     "output_type": "display_data"
    }
   ],
   "source": [
    "import matplotlib.pyplot as plt\n",
    "df_1.toPandas().set_index('year').plot(kind='bar', figsize=(10,5), title='gender is NA')\n",
    "plt.show()\n",
    "\n",
    "# count_na: count of members no gender data\n",
    "# count_nna: count of members with gender data"
   ]
  },
  {
   "cell_type": "markdown",
   "metadata": {},
   "source": [
    "### gender vs bd"
   ]
  },
  {
   "cell_type": "code",
   "execution_count": 78,
   "metadata": {},
   "outputs": [
    {
     "name": "stdout",
     "output_type": "stream",
     "text": [
      "+--------------------+------+---+\n",
      "|                msno|gender| bd|\n",
      "+--------------------+------+---+\n",
      "|WFLY3s7z4EZsieHCt...|female| 32|\n",
      "|yLkV2gbZ4GLFwqTOX...|  male| 30|\n",
      "|WH5Jq4mgtfUFXh2yz...|  male| 34|\n",
      "|tKmbR4X5VXjHmxERr...|  male| 19|\n",
      "|I0yFvqMoNkM8ZNHb6...|  male| 63|\n",
      "|dCvvBHlaOAqgkAcv3...|  male| 18|\n",
      "|6bra2AiVV8SGlm7R6...|female| 34|\n",
      "|4De1jAxNRABoyRBDZ...|female| 28|\n",
      "|iOzdu4IHbJxhB5CPp...|female| 29|\n",
      "|fOpj0ApSXk1NVODvC...|female| 31|\n",
      "+--------------------+------+---+\n",
      "only showing top 10 rows\n",
      "\n"
     ]
    }
   ],
   "source": [
    "from pyspark.sql.functions import col, expr, floor, isnull\n",
    "df_1 = df0.where(col('bd').cast('int') > 0) \\\n",
    "          .where(col('bd').cast('int') < 101) \\\n",
    "          .where(~isnull(col('gender'))) \\\n",
    "          .select('msno', 'gender', col('bd').cast('int'))\n",
    "df_1.show(10)"
   ]
  },
  {
   "cell_type": "code",
   "execution_count": 81,
   "metadata": {},
   "outputs": [
    {
     "name": "stdout",
     "output_type": "stream",
     "text": [
      "+------+---------+\n",
      "|gender|bd_bin_no|\n",
      "+------+---------+\n",
      "|female|        6|\n",
      "|  male|        5|\n",
      "|  male|        6|\n",
      "|  male|        3|\n",
      "|  male|       12|\n",
      "|  male|        3|\n",
      "|female|        6|\n",
      "|female|        5|\n",
      "|female|        5|\n",
      "|female|        6|\n",
      "+------+---------+\n",
      "only showing top 10 rows\n",
      "\n"
     ]
    }
   ],
   "source": [
    "from pyspark.sql.functions import col, expr, floor\n",
    "df_2 = df_1.select('gender', floor((col('bd')-1)/5).alias('bd_bin_no'))\n",
    "\n",
    "df_2.show(10)"
   ]
  },
  {
   "cell_type": "code",
   "execution_count": 99,
   "metadata": {},
   "outputs": [
    {
     "data": {
      "text/html": [
       "<div>\n",
       "<style scoped>\n",
       "    .dataframe tbody tr th:only-of-type {\n",
       "        vertical-align: middle;\n",
       "    }\n",
       "\n",
       "    .dataframe tbody tr th {\n",
       "        vertical-align: top;\n",
       "    }\n",
       "\n",
       "    .dataframe thead th {\n",
       "        text-align: right;\n",
       "    }\n",
       "</style>\n",
       "<table border=\"1\" class=\"dataframe\">\n",
       "  <thead>\n",
       "    <tr style=\"text-align: right;\">\n",
       "      <th></th>\n",
       "      <th>female</th>\n",
       "      <th>male</th>\n",
       "    </tr>\n",
       "    <tr>\n",
       "      <th>|_age/5_|</th>\n",
       "      <th></th>\n",
       "      <th></th>\n",
       "    </tr>\n",
       "  </thead>\n",
       "  <tbody>\n",
       "    <tr>\n",
       "      <th>0</th>\n",
       "      <td>165</td>\n",
       "      <td>183</td>\n",
       "    </tr>\n",
       "    <tr>\n",
       "      <th>1</th>\n",
       "      <td>229</td>\n",
       "      <td>353</td>\n",
       "    </tr>\n",
       "    <tr>\n",
       "      <th>2</th>\n",
       "      <td>13040</td>\n",
       "      <td>9969</td>\n",
       "    </tr>\n",
       "    <tr>\n",
       "      <th>3</th>\n",
       "      <td>203865</td>\n",
       "      <td>206410</td>\n",
       "    </tr>\n",
       "    <tr>\n",
       "      <th>4</th>\n",
       "      <td>245884</td>\n",
       "      <td>258019</td>\n",
       "    </tr>\n",
       "    <tr>\n",
       "      <th>5</th>\n",
       "      <td>198744</td>\n",
       "      <td>223214</td>\n",
       "    </tr>\n",
       "    <tr>\n",
       "      <th>6</th>\n",
       "      <td>139459</td>\n",
       "      <td>147922</td>\n",
       "    </tr>\n",
       "    <tr>\n",
       "      <th>7</th>\n",
       "      <td>108699</td>\n",
       "      <td>110258</td>\n",
       "    </tr>\n",
       "    <tr>\n",
       "      <th>8</th>\n",
       "      <td>66199</td>\n",
       "      <td>63694</td>\n",
       "    </tr>\n",
       "    <tr>\n",
       "      <th>9</th>\n",
       "      <td>43564</td>\n",
       "      <td>44671</td>\n",
       "    </tr>\n",
       "    <tr>\n",
       "      <th>10</th>\n",
       "      <td>23291</td>\n",
       "      <td>25865</td>\n",
       "    </tr>\n",
       "    <tr>\n",
       "      <th>11</th>\n",
       "      <td>10386</td>\n",
       "      <td>13757</td>\n",
       "    </tr>\n",
       "    <tr>\n",
       "      <th>12</th>\n",
       "      <td>4868</td>\n",
       "      <td>7291</td>\n",
       "    </tr>\n",
       "    <tr>\n",
       "      <th>13</th>\n",
       "      <td>2139</td>\n",
       "      <td>3660</td>\n",
       "    </tr>\n",
       "    <tr>\n",
       "      <th>14</th>\n",
       "      <td>898</td>\n",
       "      <td>1444</td>\n",
       "    </tr>\n",
       "    <tr>\n",
       "      <th>15</th>\n",
       "      <td>407</td>\n",
       "      <td>675</td>\n",
       "    </tr>\n",
       "    <tr>\n",
       "      <th>16</th>\n",
       "      <td>267</td>\n",
       "      <td>468</td>\n",
       "    </tr>\n",
       "    <tr>\n",
       "      <th>17</th>\n",
       "      <td>294</td>\n",
       "      <td>414</td>\n",
       "    </tr>\n",
       "    <tr>\n",
       "      <th>18</th>\n",
       "      <td>675</td>\n",
       "      <td>646</td>\n",
       "    </tr>\n",
       "    <tr>\n",
       "      <th>19</th>\n",
       "      <td>503</td>\n",
       "      <td>514</td>\n",
       "    </tr>\n",
       "  </tbody>\n",
       "</table>\n",
       "</div>"
      ],
      "text/plain": [
       "           female    male\n",
       "|_age/5_|                \n",
       "0             165     183\n",
       "1             229     353\n",
       "2           13040    9969\n",
       "3          203865  206410\n",
       "4          245884  258019\n",
       "5          198744  223214\n",
       "6          139459  147922\n",
       "7          108699  110258\n",
       "8           66199   63694\n",
       "9           43564   44671\n",
       "10          23291   25865\n",
       "11          10386   13757\n",
       "12           4868    7291\n",
       "13           2139    3660\n",
       "14            898    1444\n",
       "15            407     675\n",
       "16            267     468\n",
       "17            294     414\n",
       "18            675     646\n",
       "19            503     514"
      ]
     },
     "execution_count": 99,
     "metadata": {},
     "output_type": "execute_result"
    }
   ],
   "source": [
    "df_3 = df_2.crosstab('bd_bin_no', 'gender').sort(col('bd_bin_no_gender').cast('int')) \\\n",
    "           .toPandas().set_index('bd_bin_no_gender')\n",
    "df_3.index.name = '|_age/5_|'\n",
    "df_3"
   ]
  },
  {
   "cell_type": "code",
   "execution_count": 100,
   "metadata": {},
   "outputs": [
    {
     "data": {
      "image/png": "[encoded data removed]",
      "text/plain": [
       "<Figure size 432x288 with 1 Axes>"
      ]
     },
     "metadata": {},
     "output_type": "display_data"
    }
   ],
   "source": [
    "df_3.plot(kind='bar')\n",
    "plt.show()"
   ]
  },
  {
   "cell_type": "markdown",
   "metadata": {},
   "source": [
    "## city "
   ]
  },
  {
   "cell_type": "code",
   "execution_count": 40,
   "metadata": {},
   "outputs": [
    {
     "name": "stdout",
     "output_type": "stream",
     "text": [
      "+----+-------+\n",
      "|city|  count|\n",
      "+----+-------+\n",
      "|   1|4804326|\n",
      "|   3|  27282|\n",
      "|   4| 246848|\n",
      "|   5| 385069|\n",
      "|   6| 135200|\n",
      "|   7|  11610|\n",
      "|   8|  45975|\n",
      "|   9|  47639|\n",
      "|  10|  32482|\n",
      "|  11|  47489|\n",
      "|  12|  66843|\n",
      "|  13| 320978|\n",
      "|  14|  89940|\n",
      "|  15| 190213|\n",
      "|  16|   5092|\n",
      "|  17|  27772|\n",
      "|  18|  38039|\n",
      "|  19|   1199|\n",
      "|  20|   4233|\n",
      "|  21|  30837|\n",
      "|  22| 210407|\n",
      "+----+-------+\n",
      "\n"
     ]
    }
   ],
   "source": [
    "from pyspark.sql.functions import col\n",
    "df = df0.groupBy('city').count().sort(col('city').cast('int'))\n",
    "df.show(40)"
   ]
  },
  {
   "cell_type": "code",
   "execution_count": 44,
   "metadata": {},
   "outputs": [
    {
     "data": {
      "text/plain": [
       "<matplotlib.axes._subplots.AxesSubplot at 0x7f9717a94a20>"
      ]
     },
     "execution_count": 44,
     "metadata": {},
     "output_type": "execute_result"
    },
    {
     "data": {
      "image/png": "[encoded data removed]",
      "text/plain": [
       "<Figure size 432x288 with 1 Axes>"
      ]
     },
     "metadata": {},
     "output_type": "display_data"
    }
   ],
   "source": [
    "import matplotlib.pyplot as plt\n",
    "df.toPandas().plot(kind='bar', x='city')"
   ]
  },
  {
   "cell_type": "markdown",
   "metadata": {},
   "source": [
    "## registered_via"
   ]
  },
  {
   "cell_type": "code",
   "execution_count": 45,
   "metadata": {},
   "outputs": [
    {
     "name": "stdout",
     "output_type": "stream",
     "text": [
      "+--------------+-------+\n",
      "|registered_via|  count|\n",
      "+--------------+-------+\n",
      "|            -1|      1|\n",
      "|             1|     43|\n",
      "|             2|   1452|\n",
      "|             3|1643208|\n",
      "|             4|2793213|\n",
      "|             5|   3115|\n",
      "|             6|   1213|\n",
      "|             7| 805895|\n",
      "|             8|   3982|\n",
      "|             9|1482863|\n",
      "|            10|     10|\n",
      "|            11|  25047|\n",
      "|            13|   5455|\n",
      "|            14|    615|\n",
      "|            16|    888|\n",
      "|            17|   1494|\n",
      "|            18|      5|\n",
      "|            19|    974|\n",
      "+--------------+-------+\n",
      "\n"
     ]
    }
   ],
   "source": [
    "df = df0.groupBy('registered_via').count() \\\n",
    "        .sort(col('registered_via').cast('int'))\n",
    "df.show()"
   ]
  },
  {
   "cell_type": "code",
   "execution_count": 46,
   "metadata": {},
   "outputs": [
    {
     "data": {
      "text/plain": [
       "<matplotlib.axes._subplots.AxesSubplot at 0x7f971795fba8>"
      ]
     },
     "execution_count": 46,
     "metadata": {},
     "output_type": "execute_result"
    },
    {
     "data": {
      "image/png": "[encoded data removed]",
      "text/plain": [
       "<Figure size 432x288 with 1 Axes>"
      ]
     },
     "metadata": {},
     "output_type": "display_data"
    }
   ],
   "source": [
    "import matplotlib.pyplot as plt\n",
    "df.toPandas().plot(kind='bar', x='registered_via')"
   ]
  },
  {
   "cell_type": "code",
   "execution_count": 48,
   "metadata": {},
   "outputs": [
    {
     "data": {
      "text/plain": [
       "<matplotlib.axes._subplots.AxesSubplot at 0x7f9717810208>"
      ]
     },
     "execution_count": 48,
     "metadata": {},
     "output_type": "execute_result"
    },
    {
     "data": {
      "image/png": "[encoded data removed]",
      "text/plain": [
       "<Figure size 432x288 with 1 Axes>"
      ]
     },
     "metadata": {},
     "output_type": "display_data"
    }
   ],
   "source": [
    "import matplotlib.pyplot as plt\n",
    "df.toPandas().plot(kind='bar', x='registered_via', logy=True)"
   ]
  },
  {
   "cell_type": "markdown",
   "metadata": {},
   "source": [
    "### registered_via and gender "
   ]
  },
  {
   "cell_type": "code",
   "execution_count": 80,
   "metadata": {},
   "outputs": [
    {
     "name": "stdout",
     "output_type": "stream",
     "text": [
      "root\n",
      " |-- reg_via_gender_na: string (nullable = true)\n",
      " |-- false: long (nullable = true)\n",
      " |-- true: long (nullable = true)\n",
      "\n",
      "+-----------------+-------+-------+\n",
      "|reg_via_gender_na|  false|   true|\n",
      "+-----------------+-------+-------+\n",
      "|               -1|      0|      1|\n",
      "|                1|      4|     39|\n",
      "|                2|    171|   1281|\n",
      "|                3|1211468| 431740|\n",
      "|                4| 256291|2536922|\n",
      "|                5|    137|   2978|\n",
      "|                6|     58|   1155|\n",
      "|                7| 114854| 691041|\n",
      "|                8|    384|   3598|\n",
      "|                9| 750713| 732150|\n",
      "|               10|      0|     10|\n",
      "|               11|   5210|  19837|\n",
      "|               13|    414|   5041|\n",
      "|               14|    176|    439|\n",
      "|               16|      0|    888|\n",
      "|               17|     17|   1477|\n",
      "|               18|      0|      5|\n",
      "|               19|     71|    903|\n",
      "+-----------------+-------+-------+\n",
      "\n"
     ]
    }
   ],
   "source": [
    "df = df0.selectExpr('registered_via as reg_via', 'gender IS NULL AS gender_na') \\\n",
    "        .stat.crosstab('reg_via', 'gender_na').sort(col('reg_via_gender_na').cast('int'))\n",
    "df.printSchema()\n",
    "df.show(20)"
   ]
  },
  {
   "cell_type": "code",
   "execution_count": 81,
   "metadata": {},
   "outputs": [
    {
     "data": {
      "image/png": "[encoded data removed]",
      "text/plain": [
       "<Figure size 432x288 with 1 Axes>"
      ]
     },
     "metadata": {},
     "output_type": "display_data"
    }
   ],
   "source": [
    "import matplotlib.pyplot as plt\n",
    "df.selectExpr('reg_via_gender_na as reg_via', '`true` as gender_na', '`false` as gender_nna') \\\n",
    "  .toPandas().set_index('reg_via').plot(kind='bar')\n",
    "\n",
    "plt.show()"
   ]
  },
  {
   "cell_type": "code",
   "execution_count": 85,
   "metadata": {},
   "outputs": [
    {
     "data": {
      "image/png": "[encoded data removed]",
      "text/plain": [
       "<Figure size 432x288 with 1 Axes>"
      ]
     },
     "metadata": {},
     "output_type": "display_data"
    }
   ],
   "source": [
    "import matplotlib.pyplot as plt\n",
    "df.where(col('true') + col('false') > 100) \\\n",
    "  .selectExpr('reg_via_gender_na as reg_via',\n",
    "              '`true`/(`true`+`false`) as gender_na',\n",
    "              '`false`/(`true`+`false`) as gender_nna') \\\n",
    "  .toPandas().set_index('reg_via').plot(kind='bar', stacked=True)\n",
    "\n",
    "plt.show()\n",
    "\n",
    "# gender_na: percentage of members without gender data\n",
    "# gender_nna: percentage of members with gender data"
   ]
  },
  {
   "cell_type": "markdown",
   "metadata": {},
   "source": [
    "* register methods 3 and 9 have relatively high ratios of members with gender data"
   ]
  },
  {
   "cell_type": "code",
   "execution_count": null,
   "metadata": {},
   "outputs": [],
   "source": []
  }
 ],
 "metadata": {
  "kernelspec": {
   "display_name": "Python 3",
   "language": "python",
   "name": "python3"
  },
  "language_info": {
   "codemirror_mode": {
    "name": "ipython",
    "version": 3
   },
   "file_extension": ".py",
   "mimetype": "text/x-python",
   "name": "python",
   "nbconvert_exporter": "python",
   "pygments_lexer": "ipython3",
   "version": "3.6.5"
  },
  "toc": {
   "base_numbering": 1,
   "nav_menu": {},
   "number_sections": true,
   "sideBar": true,
   "skip_h1_title": false,
   "title_cell": "Table of Contents",
   "title_sidebar": "Contents",
   "toc_cell": false,
   "toc_position": {},
   "toc_section_display": true,
   "toc_window_display": false
  }
 },
 "nbformat": 4,
 "nbformat_minor": 2
}
