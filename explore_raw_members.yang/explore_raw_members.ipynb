{
 "cells": [
  {
   "cell_type": "code",
   "execution_count": 1,
   "metadata": {},
   "outputs": [
    {
     "data": {
      "text/html": [
       "\n",
       "            <div>\n",
       "                <p><b>SparkSession - hive</b></p>\n",
       "                \n",
       "        <div>\n",
       "            <p><b>SparkContext</b></p>\n",
       "\n",
       "            <p><a href=\"http://10.120.27.99:4040\">Spark UI</a></p>\n",
       "\n",
       "            <dl>\n",
       "              <dt>Version</dt>\n",
       "                <dd><code>v2.2.1</code></dd>\n",
       "              <dt>Master</dt>\n",
       "                <dd><code>local[*]</code></dd>\n",
       "              <dt>AppName</dt>\n",
       "                <dd><code>PySparkShell</code></dd>\n",
       "            </dl>\n",
       "        </div>\n",
       "        \n",
       "            </div>\n",
       "        "
      ],
      "text/plain": [
       "<pyspark.sql.session.SparkSession at 0x7fb1a0fcd2e8>"
      ]
     },
     "execution_count": 1,
     "metadata": {},
     "output_type": "execute_result"
    }
   ],
   "source": [
    "spark"
   ]
  },
  {
   "cell_type": "code",
   "execution_count": 2,
   "metadata": {},
   "outputs": [],
   "source": [
    "# read file as a DataFrame\n",
    "infile = '/home/cloudera/Desktop/KKBox_churn_predict/raw_data/members_v3.csv'\n",
    "#infile = 'hdfs://master:8020/kkbox_churn/kkbox_data/raw_data/members_v3.csv'\n",
    "df0 = spark.read.format('csv').option('header','true').option('sep',',').load(infile)"
   ]
  },
  {
   "cell_type": "code",
   "execution_count": 3,
   "metadata": {},
   "outputs": [
    {
     "data": {
      "text/plain": [
       "6769473"
      ]
     },
     "execution_count": 3,
     "metadata": {},
     "output_type": "execute_result"
    }
   ],
   "source": [
    "N = df0.count()\n",
    "N"
   ]
  },
  {
   "cell_type": "code",
   "execution_count": 5,
   "metadata": {},
   "outputs": [
    {
     "name": "stdout",
     "output_type": "stream",
     "text": [
      "root\n",
      " |-- msno: string (nullable = true)\n",
      " |-- city: string (nullable = true)\n",
      " |-- bd: string (nullable = true)\n",
      " |-- gender: string (nullable = true)\n",
      " |-- registered_via: string (nullable = true)\n",
      " |-- registration_init_time: string (nullable = true)\n",
      "\n"
     ]
    }
   ],
   "source": [
    "df0.printSchema()"
   ]
  },
  {
   "cell_type": "code",
   "execution_count": 6,
   "metadata": {},
   "outputs": [
    {
     "name": "stdout",
     "output_type": "stream",
     "text": [
      "+--------------------+----+---+------+--------------+----------------------+\n",
      "|                msno|city| bd|gender|registered_via|registration_init_time|\n",
      "+--------------------+----+---+------+--------------+----------------------+\n",
      "|Rb9UwLQTrxzBVwCB6...|   1|  0|  null|            11|              20110911|\n",
      "|+tJonkh+O1CA796Fm...|   1|  0|  null|             7|              20110914|\n",
      "|cV358ssn7a0f7jZOw...|   1|  0|  null|            11|              20110915|\n",
      "|9bzDeJP6sQodK73K5...|   1|  0|  null|            11|              20110915|\n",
      "|WFLY3s7z4EZsieHCt...|   6| 32|female|             9|              20110915|\n",
      "+--------------------+----+---+------+--------------+----------------------+\n",
      "only showing top 5 rows\n",
      "\n"
     ]
    }
   ],
   "source": [
    "df0.show(5)"
   ]
  },
  {
   "cell_type": "markdown",
   "metadata": {},
   "source": [
    "## bd"
   ]
  },
  {
   "cell_type": "code",
   "execution_count": 21,
   "metadata": {},
   "outputs": [
    {
     "data": {
      "text/plain": [
       "0"
      ]
     },
     "execution_count": 21,
     "metadata": {},
     "output_type": "execute_result"
    }
   ],
   "source": [
    "# null value in column 'bd'?\n",
    "from pyspark.sql.functions import isnull\n",
    "df0.where(isnull('bd')).count()"
   ]
  },
  {
   "cell_type": "code",
   "execution_count": 23,
   "metadata": {},
   "outputs": [
    {
     "data": {
      "text/plain": [
       "4540215"
      ]
     },
     "execution_count": 23,
     "metadata": {},
     "output_type": "execute_result"
    }
   ],
   "source": [
    "# records with 'bd' = 0\n",
    "from pyspark.sql.functions import col\n",
    "df0.where(col('bd') == 0).count()"
   ]
  },
  {
   "cell_type": "markdown",
   "metadata": {},
   "source": [
    "* ~2/3 of the members have 'bd' = 0"
   ]
  },
  {
   "cell_type": "markdown",
   "metadata": {},
   "source": [
    "## gender "
   ]
  },
  {
   "cell_type": "code",
   "execution_count": 20,
   "metadata": {},
   "outputs": [
    {
     "data": {
      "text/plain": [
       "4429505"
      ]
     },
     "execution_count": 20,
     "metadata": {},
     "output_type": "execute_result"
    }
   ],
   "source": [
    "from pyspark.sql.functions import isnull\n",
    "df0.where(isnull('gender')).count()"
   ]
  },
  {
   "cell_type": "markdown",
   "metadata": {},
   "source": [
    "* ~2/3 of the members do not have 'gender' data."
   ]
  },
  {
   "cell_type": "markdown",
   "metadata": {},
   "source": [
    "### bd and gender "
   ]
  },
  {
   "cell_type": "code",
   "execution_count": 8,
   "metadata": {},
   "outputs": [
    {
     "data": {
      "text/plain": [
       "4388613"
      ]
     },
     "execution_count": 8,
     "metadata": {},
     "output_type": "execute_result"
    }
   ],
   "source": [
    "from pyspark.sql.functions import isnull\n",
    "df0.where('bd == 0').where(isnull('gender')).count()"
   ]
  },
  {
   "cell_type": "code",
   "execution_count": 21,
   "metadata": {},
   "outputs": [
    {
     "name": "stdout",
     "output_type": "stream",
     "text": [
      "+-------+------------+-------+\n",
      "|bd_is_0|gender_is_na|  count|\n",
      "+-------+------------+-------+\n",
      "|   true|       false| 151602|\n",
      "|   true|        true|4388613|\n",
      "|  false|       false|2188366|\n",
      "|  false|        true|  40892|\n",
      "+-------+------------+-------+\n",
      "\n"
     ]
    }
   ],
   "source": [
    "from pyspark.sql.functions import expr, isnull\n",
    "df0.select(expr('bd == 0').alias('bd_is_0'), \n",
    "           expr('gender IS NULL').alias('gender_is_na')) \\\n",
    "   .groupBy('bd_is_0', 'gender_is_na').count().show()"
   ]
  },
  {
   "cell_type": "markdown",
   "metadata": {},
   "source": [
    "* members with gender data mostly have 'bd' != 0\n",
    "* members without gender data mostly have 'bd' = 0\n",
    "\n",
    "* 65% of the members have gender = NA and 'bd' = 0\n",
    "* 32% of the members have gender != NA and 'bd' != 0"
   ]
  },
  {
   "cell_type": "markdown",
   "metadata": {},
   "source": [
    "### gender vs registration_init_time "
   ]
  },
  {
   "cell_type": "code",
   "execution_count": 40,
   "metadata": {
    "scrolled": false
   },
   "outputs": [
    {
     "name": "stdout",
     "output_type": "stream",
     "text": [
      "+-------+--------+--------+---------+\n",
      "|year_na|count_na|year_nna|count_nna|\n",
      "+-------+--------+--------+---------+\n",
      "|   2007|      28|    2007|    89802|\n",
      "|   2014|  549814|    2014|   425962|\n",
      "|   2012|  103033|    2012|   180157|\n",
      "|   2016| 1956253|    2016|   290508|\n",
      "|   2009|    1215|    2009|    62418|\n",
      "|   2010|   33396|    2010|    81679|\n",
      "|   2006|      41|    2006|    53912|\n",
      "|   2017|  400882|    2017|    80802|\n",
      "|   2013|  324668|    2013|   200054|\n",
      "|   null|    null|    2004|    26234|\n",
      "|   2011|   60587|    2011|   118464|\n",
      "|   2005|      71|    2005|    41278|\n",
      "|   2008|      28|    2008|    67662|\n",
      "|   2015|  999489|    2015|   621036|\n",
      "+-------+--------+--------+---------+\n",
      "\n"
     ]
    }
   ],
   "source": [
    "from pyspark.sql.functions import col, floor, isnull, count\n",
    "\n",
    "#col1 = floor(col('registration_init_time').cast('int') / 200 - 0.5) * 2 + 1\n",
    "col1 = floor(col('registration_init_time').cast('int') / 10000)\n",
    "df_gender_na = df0.where(isnull('gender')) \\\n",
    "                  .select(col1.alias(\"year_na\")) \\\n",
    "                  .groupBy(\"year_na\").agg(count('year_na').alias('count_na'))\n",
    "df_gender_nna = df0.where(~isnull('gender')) \\\n",
    "                  .select(col1.alias(\"year_nna\")) \\\n",
    "                  .groupBy(\"year_nna\").agg(count('year_nna').alias('count_nna'))\n",
    "\n",
    "df = df_gender_na.join(df_gender_nna, df_gender_na.year_na == df_gender_nna.year_nna, 'outer')\n",
    "df.show(50)"
   ]
  },
  {
   "cell_type": "code",
   "execution_count": 45,
   "metadata": {},
   "outputs": [
    {
     "name": "stdout",
     "output_type": "stream",
     "text": [
      "+----+--------+---------+\n",
      "|year|count_na|count_nna|\n",
      "+----+--------+---------+\n",
      "|2004|    null|    26234|\n",
      "|2005|      71|    41278|\n",
      "|2006|      41|    53912|\n",
      "|2007|      28|    89802|\n",
      "|2008|      28|    67662|\n",
      "|2009|    1215|    62418|\n",
      "|2010|   33396|    81679|\n",
      "|2011|   60587|   118464|\n",
      "|2012|  103033|   180157|\n",
      "|2013|  324668|   200054|\n",
      "|2014|  549814|   425962|\n",
      "|2015|  999489|   621036|\n",
      "|2016| 1956253|   290508|\n",
      "|2017|  400882|    80802|\n",
      "+----+--------+---------+\n",
      "\n"
     ]
    }
   ],
   "source": [
    "df_1 = df.selectExpr('year_nna as year', 'count_na as', 'count_nna').sort('year')\n",
    "df_1.show(20)"
   ]
  },
  {
   "cell_type": "code",
   "execution_count": 51,
   "metadata": {},
   "outputs": [
    {
     "data": {
      "image/png": "[encoded data removed]",
      "text/plain": [
       "<Figure size 720x360 with 1 Axes>"
      ]
     },
     "metadata": {},
     "output_type": "display_data"
    }
   ],
   "source": [
    "import matplotlib.pyplot as plt\n",
    "df_1.toPandas().set_index('year').plot(kind='bar', figsize=(10,5), title='gender is NA')\n",
    "plt.show()\n",
    "\n",
    "# count_na: count of members no gender data\n",
    "# count_nna: count of members with gender data"
   ]
  },
  {
   "cell_type": "markdown",
   "metadata": {},
   "source": [
    "## city "
   ]
  },
  {
   "cell_type": "code",
   "execution_count": 49,
   "metadata": {},
   "outputs": [
    {
     "name": "stdout",
     "output_type": "stream",
     "text": [
      "+----+-------+\n",
      "|city|  count|\n",
      "+----+-------+\n",
      "|   1|4804326|\n",
      "|   3|  27282|\n",
      "|   4| 246848|\n",
      "|   5| 385069|\n",
      "|   6| 135200|\n",
      "|   7|  11610|\n",
      "|   8|  45975|\n",
      "|   9|  47639|\n",
      "|  10|  32482|\n",
      "|  11|  47489|\n",
      "|  12|  66843|\n",
      "|  13| 320978|\n",
      "|  14|  89940|\n",
      "|  15| 190213|\n",
      "|  16|   5092|\n",
      "|  17|  27772|\n",
      "|  18|  38039|\n",
      "|  19|   1199|\n",
      "|  20|   4233|\n",
      "|  21|  30837|\n",
      "|  22| 210407|\n",
      "+----+-------+\n",
      "\n"
     ]
    }
   ],
   "source": [
    "from pyspark.sql.functions import col\n",
    "df0.groupBy('city').count().sort(col('city').cast('int')).show(40)"
   ]
  },
  {
   "cell_type": "markdown",
   "metadata": {},
   "source": [
    "## registered_via"
   ]
  },
  {
   "cell_type": "code",
   "execution_count": 27,
   "metadata": {},
   "outputs": [
    {
     "name": "stdout",
     "output_type": "stream",
     "text": [
      "+--------------+-------+\n",
      "|registered_via|  count|\n",
      "+--------------+-------+\n",
      "|            -1|      1|\n",
      "|             1|     43|\n",
      "|             2|   1452|\n",
      "|             3|1643208|\n",
      "|             4|2793213|\n",
      "|             5|   3115|\n",
      "|             6|   1213|\n",
      "|             7| 805895|\n",
      "|             8|   3982|\n",
      "|             9|1482863|\n",
      "|            10|     10|\n",
      "|            11|  25047|\n",
      "|            13|   5455|\n",
      "|            14|    615|\n",
      "|            16|    888|\n",
      "|            17|   1494|\n",
      "|            18|      5|\n",
      "|            19|    974|\n",
      "+--------------+-------+\n",
      "\n"
     ]
    }
   ],
   "source": [
    "df0.groupBy('registered_via').count() \\\n",
    "   .sort(col('registered_via').cast('int')).show()"
   ]
  },
  {
   "cell_type": "markdown",
   "metadata": {},
   "source": [
    "### registered_via and gender "
   ]
  },
  {
   "cell_type": "code",
   "execution_count": 80,
   "metadata": {},
   "outputs": [
    {
     "name": "stdout",
     "output_type": "stream",
     "text": [
      "root\n",
      " |-- reg_via_gender_na: string (nullable = true)\n",
      " |-- false: long (nullable = true)\n",
      " |-- true: long (nullable = true)\n",
      "\n",
      "+-----------------+-------+-------+\n",
      "|reg_via_gender_na|  false|   true|\n",
      "+-----------------+-------+-------+\n",
      "|               -1|      0|      1|\n",
      "|                1|      4|     39|\n",
      "|                2|    171|   1281|\n",
      "|                3|1211468| 431740|\n",
      "|                4| 256291|2536922|\n",
      "|                5|    137|   2978|\n",
      "|                6|     58|   1155|\n",
      "|                7| 114854| 691041|\n",
      "|                8|    384|   3598|\n",
      "|                9| 750713| 732150|\n",
      "|               10|      0|     10|\n",
      "|               11|   5210|  19837|\n",
      "|               13|    414|   5041|\n",
      "|               14|    176|    439|\n",
      "|               16|      0|    888|\n",
      "|               17|     17|   1477|\n",
      "|               18|      0|      5|\n",
      "|               19|     71|    903|\n",
      "+-----------------+-------+-------+\n",
      "\n"
     ]
    }
   ],
   "source": [
    "df = df0.selectExpr('registered_via as reg_via', 'gender IS NULL AS gender_na') \\\n",
    "        .stat.crosstab('reg_via', 'gender_na').sort(col('reg_via_gender_na').cast('int'))\n",
    "df.printSchema()\n",
    "df.show(20)"
   ]
  },
  {
   "cell_type": "code",
   "execution_count": 81,
   "metadata": {},
   "outputs": [
    {
     "data": {
      "image/png": "[encoded data removed]",
      "text/plain": [
       "<Figure size 432x288 with 1 Axes>"
      ]
     },
     "metadata": {},
     "output_type": "display_data"
    }
   ],
   "source": [
    "import matplotlib.pyplot as plt\n",
    "df.selectExpr('reg_via_gender_na as reg_via', '`true` as gender_na', '`false` as gender_nna') \\\n",
    "  .toPandas().set_index('reg_via').plot(kind='bar')\n",
    "\n",
    "plt.show()"
   ]
  },
  {
   "cell_type": "code",
   "execution_count": 85,
   "metadata": {},
   "outputs": [
    {
     "data": {
      "image/png": "[encoded data removed]",
      "text/plain": [
       "<Figure size 432x288 with 1 Axes>"
      ]
     },
     "metadata": {},
     "output_type": "display_data"
    }
   ],
   "source": [
    "import matplotlib.pyplot as plt\n",
    "df.where(col('true') + col('false') > 100) \\\n",
    "  .selectExpr('reg_via_gender_na as reg_via',\n",
    "              '`true`/(`true`+`false`) as gender_na',\n",
    "              '`false`/(`true`+`false`) as gender_nna') \\\n",
    "  .toPandas().set_index('reg_via').plot(kind='bar', stacked=True)\n",
    "\n",
    "plt.show()\n",
    "\n",
    "# gender_na: percentage of members without gender data\n",
    "# gender_nna: percentage of members with gender data"
   ]
  },
  {
   "cell_type": "markdown",
   "metadata": {},
   "source": [
    "* register method 3 and 9 have relatively high ratio of members with gender data"
   ]
  },
  {
   "cell_type": "code",
   "execution_count": null,
   "metadata": {},
   "outputs": [],
   "source": []
  }
 ],
 "metadata": {
  "kernelspec": {
   "display_name": "Python 3",
   "language": "python",
   "name": "python3"
  },
  "language_info": {
   "codemirror_mode": {
    "name": "ipython",
    "version": 3
   },
   "file_extension": ".py",
   "mimetype": "text/x-python",
   "name": "python",
   "nbconvert_exporter": "python",
   "pygments_lexer": "ipython3",
   "version": "3.6.5"
  },
  "toc": {
   "base_numbering": 1,
   "nav_menu": {},
   "number_sections": true,
   "sideBar": true,
   "skip_h1_title": false,
   "title_cell": "Table of Contents",
   "title_sidebar": "Contents",
   "toc_cell": false,
   "toc_position": {},
   "toc_section_display": true,
   "toc_window_display": false
  }
 },
 "nbformat": 4,
 "nbformat_minor": 2
}
