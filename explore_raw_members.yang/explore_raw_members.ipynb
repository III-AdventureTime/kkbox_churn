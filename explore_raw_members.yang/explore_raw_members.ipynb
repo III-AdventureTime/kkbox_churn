{
 "cells": [
  {
   "cell_type": "code",
   "execution_count": 2,
   "metadata": {},
   "outputs": [
    {
     "data": {
      "text/html": [
       "\n",
       "            <div>\n",
       "                <p><b>SparkSession - hive</b></p>\n",
       "                \n",
       "        <div>\n",
       "            <p><b>SparkContext</b></p>\n",
       "\n",
       "            <p><a href=\"http://10.120.27.99:4040\">Spark UI</a></p>\n",
       "\n",
       "            <dl>\n",
       "              <dt>Version</dt>\n",
       "                <dd><code>v2.2.1</code></dd>\n",
       "              <dt>Master</dt>\n",
       "                <dd><code>local[*]</code></dd>\n",
       "              <dt>AppName</dt>\n",
       "                <dd><code>PySparkShell</code></dd>\n",
       "            </dl>\n",
       "        </div>\n",
       "        \n",
       "            </div>\n",
       "        "
      ],
      "text/plain": [
       "<pyspark.sql.session.SparkSession at 0x7f18500422e8>"
      ]
     },
     "execution_count": 2,
     "metadata": {},
     "output_type": "execute_result"
    }
   ],
   "source": [
    "spark"
   ]
  },
  {
   "cell_type": "code",
   "execution_count": 3,
   "metadata": {},
   "outputs": [],
   "source": [
    "# read file as a DataFrame\n",
    "infile = '/home/cloudera/Desktop/KKBox_churn_predict/raw_data/members_v3.csv'\n",
    "#infile = 'hdfs://master:8020/kkbox_churn/kkbox_data/raw_data/members_v3.csv'\n",
    "df0 = spark.read.format('csv').option('header','true').option('sep',',').load(infile)"
   ]
  },
  {
   "cell_type": "code",
   "execution_count": 4,
   "metadata": {},
   "outputs": [
    {
     "data": {
      "text/plain": [
       "6769473"
      ]
     },
     "execution_count": 4,
     "metadata": {},
     "output_type": "execute_result"
    }
   ],
   "source": [
    "N = df0.count()\n",
    "N"
   ]
  },
  {
   "cell_type": "code",
   "execution_count": 5,
   "metadata": {},
   "outputs": [
    {
     "name": "stdout",
     "output_type": "stream",
     "text": [
      "root\n",
      " |-- msno: string (nullable = true)\n",
      " |-- city: string (nullable = true)\n",
      " |-- bd: string (nullable = true)\n",
      " |-- gender: string (nullable = true)\n",
      " |-- registered_via: string (nullable = true)\n",
      " |-- registration_init_time: string (nullable = true)\n",
      "\n"
     ]
    }
   ],
   "source": [
    "df0.printSchema()"
   ]
  },
  {
   "cell_type": "code",
   "execution_count": 6,
   "metadata": {},
   "outputs": [
    {
     "name": "stdout",
     "output_type": "stream",
     "text": [
      "+--------------------+----+---+------+--------------+----------------------+\n",
      "|                msno|city| bd|gender|registered_via|registration_init_time|\n",
      "+--------------------+----+---+------+--------------+----------------------+\n",
      "|Rb9UwLQTrxzBVwCB6...|   1|  0|  null|            11|              20110911|\n",
      "|+tJonkh+O1CA796Fm...|   1|  0|  null|             7|              20110914|\n",
      "|cV358ssn7a0f7jZOw...|   1|  0|  null|            11|              20110915|\n",
      "|9bzDeJP6sQodK73K5...|   1|  0|  null|            11|              20110915|\n",
      "|WFLY3s7z4EZsieHCt...|   6| 32|female|             9|              20110915|\n",
      "+--------------------+----+---+------+--------------+----------------------+\n",
      "only showing top 5 rows\n",
      "\n"
     ]
    }
   ],
   "source": [
    "df0.show(5)"
   ]
  },
  {
   "cell_type": "markdown",
   "metadata": {},
   "source": [
    "## bd"
   ]
  },
  {
   "cell_type": "code",
   "execution_count": 21,
   "metadata": {},
   "outputs": [
    {
     "data": {
      "text/plain": [
       "0"
      ]
     },
     "execution_count": 21,
     "metadata": {},
     "output_type": "execute_result"
    }
   ],
   "source": [
    "# null value in column 'bd'?\n",
    "from pyspark.sql.functions import isnull\n",
    "df0.where(isnull('bd')).count()"
   ]
  },
  {
   "cell_type": "code",
   "execution_count": 23,
   "metadata": {},
   "outputs": [
    {
     "data": {
      "text/plain": [
       "4540215"
      ]
     },
     "execution_count": 23,
     "metadata": {},
     "output_type": "execute_result"
    }
   ],
   "source": [
    "# records with 'bd' = 0\n",
    "from pyspark.sql.functions import col\n",
    "df0.where(col('bd') == 0).count()"
   ]
  },
  {
   "cell_type": "markdown",
   "metadata": {},
   "source": [
    "* ~2/3 of the members have 'bd' = 0"
   ]
  },
  {
   "cell_type": "markdown",
   "metadata": {},
   "source": [
    "## gender "
   ]
  },
  {
   "cell_type": "code",
   "execution_count": 20,
   "metadata": {},
   "outputs": [
    {
     "data": {
      "text/plain": [
       "4429505"
      ]
     },
     "execution_count": 20,
     "metadata": {},
     "output_type": "execute_result"
    }
   ],
   "source": [
    "from pyspark.sql.functions import isnull\n",
    "df0.where(isnull('gender')).count()"
   ]
  },
  {
   "cell_type": "markdown",
   "metadata": {},
   "source": [
    "* ~2/3 of the members do not have 'gender' data."
   ]
  },
  {
   "cell_type": "markdown",
   "metadata": {},
   "source": [
    "### bd and gender "
   ]
  },
  {
   "cell_type": "code",
   "execution_count": 8,
   "metadata": {},
   "outputs": [
    {
     "data": {
      "text/plain": [
       "4388613"
      ]
     },
     "execution_count": 8,
     "metadata": {},
     "output_type": "execute_result"
    }
   ],
   "source": [
    "from pyspark.sql.functions import isnull\n",
    "df0.where('bd == 0').where(isnull('gender')).count()"
   ]
  },
  {
   "cell_type": "code",
   "execution_count": 21,
   "metadata": {},
   "outputs": [
    {
     "name": "stdout",
     "output_type": "stream",
     "text": [
      "+-------+------------+-------+\n",
      "|bd_is_0|gender_is_na|  count|\n",
      "+-------+------------+-------+\n",
      "|   true|       false| 151602|\n",
      "|   true|        true|4388613|\n",
      "|  false|       false|2188366|\n",
      "|  false|        true|  40892|\n",
      "+-------+------------+-------+\n",
      "\n"
     ]
    }
   ],
   "source": [
    "from pyspark.sql.functions import expr, isnull\n",
    "df0.select(expr('bd == 0').alias('bd_is_0'), \n",
    "           expr('gender IS NULL').alias('gender_is_na')) \\\n",
    "   .groupBy('bd_is_0', 'gender_is_na').count().show()"
   ]
  },
  {
   "cell_type": "markdown",
   "metadata": {},
   "source": [
    "* members with gender data mostly have 'bd' != 0\n",
    "* members without gender data mostly have 'bd' = 0\n",
    "\n",
    "* 65% of the members have gender = NA and 'bd' = 0\n",
    "* 32% of the members have gender != NA and 'bd' != 0"
   ]
  },
  {
   "cell_type": "markdown",
   "metadata": {},
   "source": [
    "## city "
   ]
  },
  {
   "cell_type": "code",
   "execution_count": 16,
   "metadata": {},
   "outputs": [
    {
     "name": "stdout",
     "output_type": "stream",
     "text": [
      "+----+-------+\n",
      "|city|  count|\n",
      "+----+-------+\n",
      "|   7|  11610|\n",
      "|  15| 190213|\n",
      "|  11|  47489|\n",
      "|   3|  27282|\n",
      "|   8|  45975|\n",
      "|  22| 210407|\n",
      "|  16|   5092|\n",
      "|   5| 385069|\n",
      "|  18|  38039|\n",
      "|  17|  27772|\n",
      "|   6| 135200|\n",
      "|  19|   1199|\n",
      "|   9|  47639|\n",
      "|   1|4804326|\n",
      "|  20|   4233|\n",
      "|  10|  32482|\n",
      "|   4| 246848|\n",
      "|  12|  66843|\n",
      "|  13| 320978|\n",
      "|  14|  89940|\n",
      "|  21|  30837|\n",
      "+----+-------+\n",
      "\n"
     ]
    }
   ],
   "source": [
    "df0.groupBy('city').count().show(40)"
   ]
  },
  {
   "cell_type": "markdown",
   "metadata": {},
   "source": [
    "## registered_via"
   ]
  },
  {
   "cell_type": "code",
   "execution_count": 27,
   "metadata": {},
   "outputs": [
    {
     "name": "stdout",
     "output_type": "stream",
     "text": [
      "+--------------+-------+\n",
      "|registered_via|  count|\n",
      "+--------------+-------+\n",
      "|            -1|      1|\n",
      "|             1|     43|\n",
      "|             2|   1452|\n",
      "|             3|1643208|\n",
      "|             4|2793213|\n",
      "|             5|   3115|\n",
      "|             6|   1213|\n",
      "|             7| 805895|\n",
      "|             8|   3982|\n",
      "|             9|1482863|\n",
      "|            10|     10|\n",
      "|            11|  25047|\n",
      "|            13|   5455|\n",
      "|            14|    615|\n",
      "|            16|    888|\n",
      "|            17|   1494|\n",
      "|            18|      5|\n",
      "|            19|    974|\n",
      "+--------------+-------+\n",
      "\n"
     ]
    }
   ],
   "source": [
    "df0.groupBy('registered_via').count() \\\n",
    "   .sort(col('registered_via').cast('int')).show()"
   ]
  },
  {
   "cell_type": "code",
   "execution_count": null,
   "metadata": {
    "collapsed": true
   },
   "outputs": [],
   "source": []
  }
 ],
 "metadata": {
  "kernelspec": {
   "display_name": "Python 3",
   "language": "python",
   "name": "python3"
  },
  "language_info": {
   "codemirror_mode": {
    "name": "ipython",
    "version": 3
   },
   "file_extension": ".py",
   "mimetype": "text/x-python",
   "name": "python",
   "nbconvert_exporter": "python",
   "pygments_lexer": "ipython3",
   "version": "3.6.5"
  },
  "toc": {
   "base_numbering": 1,
   "nav_menu": {},
   "number_sections": true,
   "sideBar": true,
   "skip_h1_title": false,
   "title_cell": "Table of Contents",
   "title_sidebar": "Contents",
   "toc_cell": false,
   "toc_position": {},
   "toc_section_display": true,
   "toc_window_display": false
  }
 },
 "nbformat": 4,
 "nbformat_minor": 2
}
