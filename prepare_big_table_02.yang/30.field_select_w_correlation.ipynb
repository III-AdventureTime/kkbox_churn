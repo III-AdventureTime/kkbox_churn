{
 "cells": [
  {
   "cell_type": "code",
   "execution_count": 1,
   "metadata": {},
   "outputs": [],
   "source": [
    "dir0 =  '/home/cloudera/2.kkbox_churn/data01/big_table_01/'\n",
    "infile = dir0 + 'has_expired/19a.train_set'"
   ]
  },
  {
   "cell_type": "code",
   "execution_count": 2,
   "metadata": {},
   "outputs": [
    {
     "data": {
      "text/plain": [
       "42647"
      ]
     },
     "execution_count": 2,
     "metadata": {},
     "output_type": "execute_result"
    }
   ],
   "source": [
    "df0 = spark.read.format('parquet').load(infile)\n",
    "df0.count()"
   ]
  },
  {
   "cell_type": "code",
   "execution_count": null,
   "metadata": {},
   "outputs": [],
   "source": []
  },
  {
   "cell_type": "code",
   "execution_count": 3,
   "metadata": {},
   "outputs": [
    {
     "name": "stdout",
     "output_type": "stream",
     "text": [
      "msno : 0\n",
      "city : 0\n",
      "age : 17016\n",
      "gender : 17286\n",
      "registered_via : 0\n",
      "days_since_init_regist : 0\n",
      "init_date : 0\n",
      "final_date : 0\n",
      "gaps_count : 0\n",
      "total_gap_len : 0\n",
      "has_long_gap : 0\n",
      "has_expired : 0\n",
      "last_pay_method : 0\n",
      "last_plan_days : 0\n",
      "last_list_price : 0\n",
      "last_actual_paid : 0\n",
      "last_discount : 0\n",
      "last_paid_per_day : 0\n",
      "actual_paid_cnt_uniq : 0\n",
      "actual_paid_mode : 0\n",
      "auto_renew_cnt_uniq : 0\n",
      "auto_renew_mode : 0\n",
      "discount_cnt_uniq : 0\n",
      "discount_mode : 0\n",
      "list_price_cnt_uniq : 0\n",
      "list_price_mode : 0\n",
      "pay_method_cnt_uniq : 0\n",
      "pay_method_mode : 0\n",
      "plan_days_cnt_uniq : 0\n",
      "plan_days_mode : 0\n",
      "actual_paid_sum : 0\n",
      "actual_paid_per_sub_day : 0\n",
      "discount_sum : 0\n",
      "discount_per_sub_day : 0\n",
      "list_price_sum : 0\n",
      "list_price_per_sub_day : 0\n",
      "last12WeekOnLine : 0\n",
      "w12_M25 : 0\n",
      "w12_M50 : 0\n",
      "w12_M75 : 0\n",
      "w12_M985 : 0\n",
      "w12_M100 : 0\n",
      "w12_Munq : 0\n",
      "w12_Msecs : 0\n",
      "w12_Mtotal : 0\n",
      "w12_M25_D_Mtotal : 19\n",
      "w12_M50_D_Mtotal : 19\n",
      "w12_M75_D_Mtotal : 19\n",
      "w12_M985_D_Mtotal : 19\n",
      "w12_M100_D_Mtotal : 19\n",
      "w12_Munq_D_Mtotal : 19\n",
      "w12_M25M50M75_D_Mtotal : 19\n",
      "w12_M985M100_D_Mtotal : 19\n",
      "w12_M25M50_D_Mtotal : 19\n",
      "w12_M25_D_M50M75M985M100 : 186\n",
      "w12_M25M50_D_M75M985M100 : 272\n",
      "w12_M25M50M75_D_M985M100 : 326\n",
      "w12_M25M50M75M985_D_M100 : 391\n",
      "last9WeekOnLine : 0\n",
      "w9_M25 : 0\n",
      "w9_M50 : 0\n",
      "w9_M75 : 0\n",
      "w9_M985 : 0\n",
      "w9_M100 : 0\n",
      "w9_Munq : 0\n",
      "w9_Msecs : 0\n",
      "w9_Mtotal : 0\n",
      "w9_M25_D_Mtotal : 455\n",
      "w9_M50_D_Mtotal : 455\n",
      "w9_M75_D_Mtotal : 455\n",
      "w9_M985_D_Mtotal : 455\n",
      "w9_M100_D_Mtotal : 455\n",
      "w9_Munq_D_Mtotal : 455\n",
      "w9_M25M50M75_D_Mtotal : 455\n",
      "w9_M985M100_D_Mtotal : 455\n",
      "w9_M25M50_D_Mtotal : 455\n",
      "w9_M25_D_M50M75M985M100 : 617\n",
      "w9_M25M50_D_M75M985M100 : 706\n",
      "w9_M25M50M75_D_M985M100 : 770\n",
      "w9_M25M50M75M985_D_M100 : 839\n",
      "last6WeekOnLine : 0\n",
      "w6_M25 : 0\n",
      "w6_M50 : 0\n",
      "w6_M75 : 0\n",
      "w6_M985 : 0\n",
      "w6_M100 : 0\n",
      "w6_Munq : 0\n",
      "w6_Msecs : 0\n",
      "w6_Mtotal : 0\n",
      "w6_M25_D_Mtotal : 675\n",
      "w6_M50_D_Mtotal : 675\n",
      "w6_M75_D_Mtotal : 675\n",
      "w6_M985_D_Mtotal : 675\n",
      "w6_M100_D_Mtotal : 675\n",
      "w6_Munq_D_Mtotal : 675\n",
      "w6_M25M50M75_D_Mtotal : 675\n",
      "w6_M985M100_D_Mtotal : 675\n",
      "w6_M25M50_D_Mtotal : 675\n",
      "w6_M25_D_M50M75M985M100 : 828\n",
      "w6_M25M50_D_M75M985M100 : 922\n",
      "w6_M25M50M75_D_M985M100 : 982\n",
      "w6_M25M50M75M985_D_M100 : 1052\n",
      "last4WeekOnLine : 0\n",
      "w4_M25 : 0\n",
      "w4_M50 : 0\n",
      "w4_M75 : 0\n",
      "w4_M985 : 0\n",
      "w4_M100 : 0\n",
      "w4_Munq : 0\n",
      "w4_Msecs : 0\n",
      "w4_Mtotal : 0\n",
      "w4_M25_D_Mtotal : 1903\n",
      "w4_M50_D_Mtotal : 1903\n",
      "w4_M75_D_Mtotal : 1903\n",
      "w4_M985_D_Mtotal : 1903\n",
      "w4_M100_D_Mtotal : 1903\n",
      "w4_Munq_D_Mtotal : 1903\n",
      "w4_M25M50M75_D_Mtotal : 1903\n",
      "w4_M985M100_D_Mtotal : 1903\n",
      "w4_M25M50_D_Mtotal : 1903\n",
      "w4_M25_D_M50M75M985M100 : 2040\n",
      "w4_M25M50_D_M75M985M100 : 2154\n",
      "w4_M25M50M75_D_M985M100 : 2226\n",
      "w4_M25M50M75M985_D_M100 : 2308\n",
      "last2WeekOnLine : 0\n",
      "w2_M25 : 0\n",
      "w2_M50 : 0\n",
      "w2_M75 : 0\n",
      "w2_M985 : 0\n",
      "w2_M100 : 0\n",
      "w2_Munq : 0\n",
      "w2_Msecs : 0\n",
      "w2_Mtotal : 0\n",
      "w2_M25_D_Mtotal : 4004\n",
      "w2_M50_D_Mtotal : 4004\n",
      "w2_M75_D_Mtotal : 4004\n",
      "w2_M985_D_Mtotal : 4004\n",
      "w2_M100_D_Mtotal : 4004\n",
      "w2_Munq_D_Mtotal : 4004\n",
      "w2_M25M50M75_D_Mtotal : 4004\n",
      "w2_M985M100_D_Mtotal : 4004\n",
      "w2_M25M50_D_Mtotal : 4004\n",
      "w2_M25_D_M50M75M985M100 : 4191\n",
      "w2_M25M50_D_M75M985M100 : 4332\n",
      "w2_M25M50M75_D_M985M100 : 4445\n",
      "w2_M25M50M75M985_D_M100 : 4578\n",
      "last1WeekOnLine : 0\n",
      "w1_M25 : 0\n",
      "w1_M50 : 0\n",
      "w1_M75 : 0\n",
      "w1_M985 : 0\n",
      "w1_M100 : 0\n",
      "w1_Munq : 0\n",
      "w1_Msecs : 0\n",
      "w1_Mtotal : 0\n",
      "w1_M25_D_Mtotal : 6875\n",
      "w1_M50_D_Mtotal : 6875\n",
      "w1_M75_D_Mtotal : 6875\n",
      "w1_M985_D_Mtotal : 6875\n",
      "w1_M100_D_Mtotal : 6875\n",
      "w1_Munq_D_Mtotal : 6875\n",
      "w1_M25M50M75_D_Mtotal : 6875\n",
      "w1_M985M100_D_Mtotal : 6875\n",
      "w1_M25M50_D_Mtotal : 6875\n",
      "w1_M25_D_M50M75M985M100 : 7098\n",
      "w1_M25M50_D_M75M985M100 : 7276\n",
      "w1_M25M50M75_D_M985M100 : 7424\n",
      "w1_M25M50M75M985_D_M100 : 7586\n",
      "my_is_churn : 0\n",
      "is_churn : 0\n"
     ]
    }
   ],
   "source": [
    "# count null values\n",
    "\n",
    "from pyspark.sql.functions import col\n",
    "\n",
    "for c in df0.columns:\n",
    "    cnt_na = df0.where(col(c).isNull()).count()\n",
    "    print(c, ':', cnt_na)"
   ]
  },
  {
   "cell_type": "markdown",
   "metadata": {},
   "source": [
    "# find numeric/categorical fields"
   ]
  },
  {
   "cell_type": "code",
   "execution_count": 4,
   "metadata": {},
   "outputs": [
    {
     "data": {
      "text/plain": [
       "[('msno', 'string'),\n",
       " ('city', 'string'),\n",
       " ('age', 'int'),\n",
       " ('gender', 'string'),\n",
       " ('registered_via', 'string'),\n",
       " ('days_since_init_regist', 'int'),\n",
       " ('init_date', 'string'),\n",
       " ('final_date', 'string'),\n",
       " ('gaps_count', 'int'),\n",
       " ('total_gap_len', 'int'),\n",
       " ('has_long_gap', 'boolean'),\n",
       " ('has_expired', 'boolean'),\n",
       " ('last_pay_method', 'string'),\n",
       " ('last_plan_days', 'int'),\n",
       " ('last_list_price', 'int'),\n",
       " ('last_actual_paid', 'int'),\n",
       " ('last_discount', 'int'),\n",
       " ('last_paid_per_day', 'double'),\n",
       " ('actual_paid_cnt_uniq', 'int'),\n",
       " ('actual_paid_mode', 'int'),\n",
       " ('auto_renew_cnt_uniq', 'int'),\n",
       " ('auto_renew_mode', 'boolean'),\n",
       " ('discount_cnt_uniq', 'int'),\n",
       " ('discount_mode', 'int'),\n",
       " ('list_price_cnt_uniq', 'int'),\n",
       " ('list_price_mode', 'int'),\n",
       " ('pay_method_cnt_uniq', 'int'),\n",
       " ('pay_method_mode', 'string'),\n",
       " ('plan_days_cnt_uniq', 'int'),\n",
       " ('plan_days_mode', 'int'),\n",
       " ('actual_paid_sum', 'int'),\n",
       " ('actual_paid_per_sub_day', 'double'),\n",
       " ('discount_sum', 'int'),\n",
       " ('discount_per_sub_day', 'double'),\n",
       " ('list_price_sum', 'int'),\n",
       " ('list_price_per_sub_day', 'double'),\n",
       " ('last12WeekOnLine', 'int'),\n",
       " ('w12_M25', 'int'),\n",
       " ('w12_M50', 'int'),\n",
       " ('w12_M75', 'int'),\n",
       " ('w12_M985', 'int'),\n",
       " ('w12_M100', 'int'),\n",
       " ('w12_Munq', 'int'),\n",
       " ('w12_Msecs', 'int'),\n",
       " ('w12_Mtotal', 'int'),\n",
       " ('w12_M25_D_Mtotal', 'double'),\n",
       " ('w12_M50_D_Mtotal', 'double'),\n",
       " ('w12_M75_D_Mtotal', 'double'),\n",
       " ('w12_M985_D_Mtotal', 'double'),\n",
       " ('w12_M100_D_Mtotal', 'double'),\n",
       " ('w12_Munq_D_Mtotal', 'double'),\n",
       " ('w12_M25M50M75_D_Mtotal', 'double'),\n",
       " ('w12_M985M100_D_Mtotal', 'double'),\n",
       " ('w12_M25M50_D_Mtotal', 'double'),\n",
       " ('w12_M25_D_M50M75M985M100', 'double'),\n",
       " ('w12_M25M50_D_M75M985M100', 'double'),\n",
       " ('w12_M25M50M75_D_M985M100', 'double'),\n",
       " ('w12_M25M50M75M985_D_M100', 'double'),\n",
       " ('last9WeekOnLine', 'int'),\n",
       " ('w9_M25', 'int'),\n",
       " ('w9_M50', 'int'),\n",
       " ('w9_M75', 'int'),\n",
       " ('w9_M985', 'int'),\n",
       " ('w9_M100', 'int'),\n",
       " ('w9_Munq', 'int'),\n",
       " ('w9_Msecs', 'int'),\n",
       " ('w9_Mtotal', 'int'),\n",
       " ('w9_M25_D_Mtotal', 'double'),\n",
       " ('w9_M50_D_Mtotal', 'double'),\n",
       " ('w9_M75_D_Mtotal', 'double'),\n",
       " ('w9_M985_D_Mtotal', 'double'),\n",
       " ('w9_M100_D_Mtotal', 'double'),\n",
       " ('w9_Munq_D_Mtotal', 'double'),\n",
       " ('w9_M25M50M75_D_Mtotal', 'double'),\n",
       " ('w9_M985M100_D_Mtotal', 'double'),\n",
       " ('w9_M25M50_D_Mtotal', 'double'),\n",
       " ('w9_M25_D_M50M75M985M100', 'double'),\n",
       " ('w9_M25M50_D_M75M985M100', 'double'),\n",
       " ('w9_M25M50M75_D_M985M100', 'double'),\n",
       " ('w9_M25M50M75M985_D_M100', 'double'),\n",
       " ('last6WeekOnLine', 'int'),\n",
       " ('w6_M25', 'int'),\n",
       " ('w6_M50', 'int'),\n",
       " ('w6_M75', 'int'),\n",
       " ('w6_M985', 'int'),\n",
       " ('w6_M100', 'int'),\n",
       " ('w6_Munq', 'int'),\n",
       " ('w6_Msecs', 'int'),\n",
       " ('w6_Mtotal', 'int'),\n",
       " ('w6_M25_D_Mtotal', 'double'),\n",
       " ('w6_M50_D_Mtotal', 'double'),\n",
       " ('w6_M75_D_Mtotal', 'double'),\n",
       " ('w6_M985_D_Mtotal', 'double'),\n",
       " ('w6_M100_D_Mtotal', 'double'),\n",
       " ('w6_Munq_D_Mtotal', 'double'),\n",
       " ('w6_M25M50M75_D_Mtotal', 'double'),\n",
       " ('w6_M985M100_D_Mtotal', 'double'),\n",
       " ('w6_M25M50_D_Mtotal', 'double'),\n",
       " ('w6_M25_D_M50M75M985M100', 'double'),\n",
       " ('w6_M25M50_D_M75M985M100', 'double'),\n",
       " ('w6_M25M50M75_D_M985M100', 'double'),\n",
       " ('w6_M25M50M75M985_D_M100', 'double'),\n",
       " ('last4WeekOnLine', 'int'),\n",
       " ('w4_M25', 'int'),\n",
       " ('w4_M50', 'int'),\n",
       " ('w4_M75', 'int'),\n",
       " ('w4_M985', 'int'),\n",
       " ('w4_M100', 'int'),\n",
       " ('w4_Munq', 'int'),\n",
       " ('w4_Msecs', 'int'),\n",
       " ('w4_Mtotal', 'int'),\n",
       " ('w4_M25_D_Mtotal', 'double'),\n",
       " ('w4_M50_D_Mtotal', 'double'),\n",
       " ('w4_M75_D_Mtotal', 'double'),\n",
       " ('w4_M985_D_Mtotal', 'double'),\n",
       " ('w4_M100_D_Mtotal', 'double'),\n",
       " ('w4_Munq_D_Mtotal', 'double'),\n",
       " ('w4_M25M50M75_D_Mtotal', 'double'),\n",
       " ('w4_M985M100_D_Mtotal', 'double'),\n",
       " ('w4_M25M50_D_Mtotal', 'double'),\n",
       " ('w4_M25_D_M50M75M985M100', 'double'),\n",
       " ('w4_M25M50_D_M75M985M100', 'double'),\n",
       " ('w4_M25M50M75_D_M985M100', 'double'),\n",
       " ('w4_M25M50M75M985_D_M100', 'double'),\n",
       " ('last2WeekOnLine', 'int'),\n",
       " ('w2_M25', 'int'),\n",
       " ('w2_M50', 'int'),\n",
       " ('w2_M75', 'int'),\n",
       " ('w2_M985', 'int'),\n",
       " ('w2_M100', 'int'),\n",
       " ('w2_Munq', 'int'),\n",
       " ('w2_Msecs', 'int'),\n",
       " ('w2_Mtotal', 'int'),\n",
       " ('w2_M25_D_Mtotal', 'double'),\n",
       " ('w2_M50_D_Mtotal', 'double'),\n",
       " ('w2_M75_D_Mtotal', 'double'),\n",
       " ('w2_M985_D_Mtotal', 'double'),\n",
       " ('w2_M100_D_Mtotal', 'double'),\n",
       " ('w2_Munq_D_Mtotal', 'double'),\n",
       " ('w2_M25M50M75_D_Mtotal', 'double'),\n",
       " ('w2_M985M100_D_Mtotal', 'double'),\n",
       " ('w2_M25M50_D_Mtotal', 'double'),\n",
       " ('w2_M25_D_M50M75M985M100', 'double'),\n",
       " ('w2_M25M50_D_M75M985M100', 'double'),\n",
       " ('w2_M25M50M75_D_M985M100', 'double'),\n",
       " ('w2_M25M50M75M985_D_M100', 'double'),\n",
       " ('last1WeekOnLine', 'int'),\n",
       " ('w1_M25', 'int'),\n",
       " ('w1_M50', 'int'),\n",
       " ('w1_M75', 'int'),\n",
       " ('w1_M985', 'int'),\n",
       " ('w1_M100', 'int'),\n",
       " ('w1_Munq', 'int'),\n",
       " ('w1_Msecs', 'int'),\n",
       " ('w1_Mtotal', 'int'),\n",
       " ('w1_M25_D_Mtotal', 'double'),\n",
       " ('w1_M50_D_Mtotal', 'double'),\n",
       " ('w1_M75_D_Mtotal', 'double'),\n",
       " ('w1_M985_D_Mtotal', 'double'),\n",
       " ('w1_M100_D_Mtotal', 'double'),\n",
       " ('w1_Munq_D_Mtotal', 'double'),\n",
       " ('w1_M25M50M75_D_Mtotal', 'double'),\n",
       " ('w1_M985M100_D_Mtotal', 'double'),\n",
       " ('w1_M25M50_D_Mtotal', 'double'),\n",
       " ('w1_M25_D_M50M75M985M100', 'double'),\n",
       " ('w1_M25M50_D_M75M985M100', 'double'),\n",
       " ('w1_M25M50M75_D_M985M100', 'double'),\n",
       " ('w1_M25M50M75M985_D_M100', 'double'),\n",
       " ('my_is_churn', 'boolean'),\n",
       " ('is_churn', 'boolean')]"
      ]
     },
     "execution_count": 4,
     "metadata": {},
     "output_type": "execute_result"
    }
   ],
   "source": [
    "field_types = df0.dtypes\n",
    "field_types"
   ]
  },
  {
   "cell_type": "code",
   "execution_count": 5,
   "metadata": {},
   "outputs": [
    {
     "data": {
      "text/plain": [
       "True"
      ]
     },
     "execution_count": 5,
     "metadata": {},
     "output_type": "execute_result"
    }
   ],
   "source": [
    "numeric_cols = [field_type[0]  for field_type in field_types  if field_type[1] in ['int', 'double']]\n",
    "categ_cols =  [field_type[0]  for field_type in field_types  if field_type[1] in ['string', 'boolean']]\n",
    "\n",
    "# check:\n",
    "len(df0.columns) == len(numeric_cols) + len(categ_cols)  # should be true"
   ]
  },
  {
   "cell_type": "code",
   "execution_count": 6,
   "metadata": {
    "scrolled": true
   },
   "outputs": [
    {
     "data": {
      "text/plain": [
       "['age',\n",
       " 'days_since_init_regist',\n",
       " 'gaps_count',\n",
       " 'total_gap_len',\n",
       " 'last_plan_days',\n",
       " 'last_list_price',\n",
       " 'last_actual_paid',\n",
       " 'last_discount',\n",
       " 'last_paid_per_day',\n",
       " 'actual_paid_cnt_uniq',\n",
       " 'actual_paid_mode',\n",
       " 'auto_renew_cnt_uniq',\n",
       " 'discount_cnt_uniq',\n",
       " 'discount_mode',\n",
       " 'list_price_cnt_uniq',\n",
       " 'list_price_mode',\n",
       " 'pay_method_cnt_uniq',\n",
       " 'plan_days_cnt_uniq',\n",
       " 'plan_days_mode',\n",
       " 'actual_paid_sum',\n",
       " 'actual_paid_per_sub_day',\n",
       " 'discount_sum',\n",
       " 'discount_per_sub_day',\n",
       " 'list_price_sum',\n",
       " 'list_price_per_sub_day',\n",
       " 'last12WeekOnLine',\n",
       " 'w12_M25',\n",
       " 'w12_M50',\n",
       " 'w12_M75',\n",
       " 'w12_M985',\n",
       " 'w12_M100',\n",
       " 'w12_Munq',\n",
       " 'w12_Msecs',\n",
       " 'w12_Mtotal',\n",
       " 'w12_M25_D_Mtotal',\n",
       " 'w12_M50_D_Mtotal',\n",
       " 'w12_M75_D_Mtotal',\n",
       " 'w12_M985_D_Mtotal',\n",
       " 'w12_M100_D_Mtotal',\n",
       " 'w12_Munq_D_Mtotal',\n",
       " 'w12_M25M50M75_D_Mtotal',\n",
       " 'w12_M985M100_D_Mtotal',\n",
       " 'w12_M25M50_D_Mtotal',\n",
       " 'w12_M25_D_M50M75M985M100',\n",
       " 'w12_M25M50_D_M75M985M100',\n",
       " 'w12_M25M50M75_D_M985M100',\n",
       " 'w12_M25M50M75M985_D_M100',\n",
       " 'last9WeekOnLine',\n",
       " 'w9_M25',\n",
       " 'w9_M50',\n",
       " 'w9_M75',\n",
       " 'w9_M985',\n",
       " 'w9_M100',\n",
       " 'w9_Munq',\n",
       " 'w9_Msecs',\n",
       " 'w9_Mtotal',\n",
       " 'w9_M25_D_Mtotal',\n",
       " 'w9_M50_D_Mtotal',\n",
       " 'w9_M75_D_Mtotal',\n",
       " 'w9_M985_D_Mtotal',\n",
       " 'w9_M100_D_Mtotal',\n",
       " 'w9_Munq_D_Mtotal',\n",
       " 'w9_M25M50M75_D_Mtotal',\n",
       " 'w9_M985M100_D_Mtotal',\n",
       " 'w9_M25M50_D_Mtotal',\n",
       " 'w9_M25_D_M50M75M985M100',\n",
       " 'w9_M25M50_D_M75M985M100',\n",
       " 'w9_M25M50M75_D_M985M100',\n",
       " 'w9_M25M50M75M985_D_M100',\n",
       " 'last6WeekOnLine',\n",
       " 'w6_M25',\n",
       " 'w6_M50',\n",
       " 'w6_M75',\n",
       " 'w6_M985',\n",
       " 'w6_M100',\n",
       " 'w6_Munq',\n",
       " 'w6_Msecs',\n",
       " 'w6_Mtotal',\n",
       " 'w6_M25_D_Mtotal',\n",
       " 'w6_M50_D_Mtotal',\n",
       " 'w6_M75_D_Mtotal',\n",
       " 'w6_M985_D_Mtotal',\n",
       " 'w6_M100_D_Mtotal',\n",
       " 'w6_Munq_D_Mtotal',\n",
       " 'w6_M25M50M75_D_Mtotal',\n",
       " 'w6_M985M100_D_Mtotal',\n",
       " 'w6_M25M50_D_Mtotal',\n",
       " 'w6_M25_D_M50M75M985M100',\n",
       " 'w6_M25M50_D_M75M985M100',\n",
       " 'w6_M25M50M75_D_M985M100',\n",
       " 'w6_M25M50M75M985_D_M100',\n",
       " 'last4WeekOnLine',\n",
       " 'w4_M25',\n",
       " 'w4_M50',\n",
       " 'w4_M75',\n",
       " 'w4_M985',\n",
       " 'w4_M100',\n",
       " 'w4_Munq',\n",
       " 'w4_Msecs',\n",
       " 'w4_Mtotal',\n",
       " 'w4_M25_D_Mtotal',\n",
       " 'w4_M50_D_Mtotal',\n",
       " 'w4_M75_D_Mtotal',\n",
       " 'w4_M985_D_Mtotal',\n",
       " 'w4_M100_D_Mtotal',\n",
       " 'w4_Munq_D_Mtotal',\n",
       " 'w4_M25M50M75_D_Mtotal',\n",
       " 'w4_M985M100_D_Mtotal',\n",
       " 'w4_M25M50_D_Mtotal',\n",
       " 'w4_M25_D_M50M75M985M100',\n",
       " 'w4_M25M50_D_M75M985M100',\n",
       " 'w4_M25M50M75_D_M985M100',\n",
       " 'w4_M25M50M75M985_D_M100',\n",
       " 'last2WeekOnLine',\n",
       " 'w2_M25',\n",
       " 'w2_M50',\n",
       " 'w2_M75',\n",
       " 'w2_M985',\n",
       " 'w2_M100',\n",
       " 'w2_Munq',\n",
       " 'w2_Msecs',\n",
       " 'w2_Mtotal',\n",
       " 'w2_M25_D_Mtotal',\n",
       " 'w2_M50_D_Mtotal',\n",
       " 'w2_M75_D_Mtotal',\n",
       " 'w2_M985_D_Mtotal',\n",
       " 'w2_M100_D_Mtotal',\n",
       " 'w2_Munq_D_Mtotal',\n",
       " 'w2_M25M50M75_D_Mtotal',\n",
       " 'w2_M985M100_D_Mtotal',\n",
       " 'w2_M25M50_D_Mtotal',\n",
       " 'w2_M25_D_M50M75M985M100',\n",
       " 'w2_M25M50_D_M75M985M100',\n",
       " 'w2_M25M50M75_D_M985M100',\n",
       " 'w2_M25M50M75M985_D_M100',\n",
       " 'last1WeekOnLine',\n",
       " 'w1_M25',\n",
       " 'w1_M50',\n",
       " 'w1_M75',\n",
       " 'w1_M985',\n",
       " 'w1_M100',\n",
       " 'w1_Munq',\n",
       " 'w1_Msecs',\n",
       " 'w1_Mtotal',\n",
       " 'w1_M25_D_Mtotal',\n",
       " 'w1_M50_D_Mtotal',\n",
       " 'w1_M75_D_Mtotal',\n",
       " 'w1_M985_D_Mtotal',\n",
       " 'w1_M100_D_Mtotal',\n",
       " 'w1_Munq_D_Mtotal',\n",
       " 'w1_M25M50M75_D_Mtotal',\n",
       " 'w1_M985M100_D_Mtotal',\n",
       " 'w1_M25M50_D_Mtotal',\n",
       " 'w1_M25_D_M50M75M985M100',\n",
       " 'w1_M25M50_D_M75M985M100',\n",
       " 'w1_M25M50M75_D_M985M100',\n",
       " 'w1_M25M50M75M985_D_M100']"
      ]
     },
     "execution_count": 6,
     "metadata": {},
     "output_type": "execute_result"
    }
   ],
   "source": [
    "numeric_cols"
   ]
  },
  {
   "cell_type": "markdown",
   "metadata": {},
   "source": [
    "# ignore some fields"
   ]
  },
  {
   "cell_type": "code",
   "execution_count": 7,
   "metadata": {},
   "outputs": [],
   "source": [
    "cols_to_ignore = ['age'] \\\n",
    "    + [temp.format(ww) \n",
    "           for ww in ['1','2','4','6','9','12']\n",
    "           for temp in ['w{}_M25_D_M50M75M985M100', 'w{}_M25M50_D_M75M985M100',\n",
    "                        'w{}_M25M50M75_D_M985M100', 'w{}_M25M50M75M985_D_M100']\n",
    "      ]"
   ]
  },
  {
   "cell_type": "code",
   "execution_count": 14,
   "metadata": {},
   "outputs": [],
   "source": [
    "cols_select = [c for c in numeric_cols  if c not in cols_to_ignore]"
   ]
  },
  {
   "cell_type": "markdown",
   "metadata": {},
   "source": [
    "# divide fields into groups"
   ]
  },
  {
   "cell_type": "code",
   "execution_count": 15,
   "metadata": {},
   "outputs": [],
   "source": [
    "# divide `cols_select` into groups\n",
    "\n",
    "import re\n",
    "\n",
    "col_groups = [[] for i in range(7)]\n",
    "ind = {ww[1]:(ww[0]+1)  for ww in enumerate(['1','2','4','6','9','12'])}\n",
    "for c in cols_select:\n",
    "    ww = None\n",
    "    m1 = re.match('w(\\d+)_M', c)\n",
    "    if m1:\n",
    "        ww = m1.groups()[0]\n",
    "    else:    \n",
    "        m2 = re.match('last(\\d+)WeekOnLine', c)\n",
    "        if m2:\n",
    "            ww = m2.groups()[0]\n",
    "            \n",
    "    if ww:\n",
    "        col_groups[ind[ww]].append(c)\n",
    "    else:\n",
    "        col_groups[0].append(c)"
   ]
  },
  {
   "cell_type": "code",
   "execution_count": 16,
   "metadata": {},
   "outputs": [
    {
     "data": {
      "text/plain": [
       "[['days_since_init_regist',\n",
       "  'gaps_count',\n",
       "  'total_gap_len',\n",
       "  'last_plan_days',\n",
       "  'last_list_price',\n",
       "  'last_actual_paid',\n",
       "  'last_discount',\n",
       "  'last_paid_per_day',\n",
       "  'actual_paid_cnt_uniq',\n",
       "  'actual_paid_mode',\n",
       "  'auto_renew_cnt_uniq',\n",
       "  'discount_cnt_uniq',\n",
       "  'discount_mode',\n",
       "  'list_price_cnt_uniq',\n",
       "  'list_price_mode',\n",
       "  'pay_method_cnt_uniq',\n",
       "  'plan_days_cnt_uniq',\n",
       "  'plan_days_mode',\n",
       "  'actual_paid_sum',\n",
       "  'actual_paid_per_sub_day',\n",
       "  'discount_sum',\n",
       "  'discount_per_sub_day',\n",
       "  'list_price_sum',\n",
       "  'list_price_per_sub_day'],\n",
       " ['last1WeekOnLine',\n",
       "  'w1_M25',\n",
       "  'w1_M50',\n",
       "  'w1_M75',\n",
       "  'w1_M985',\n",
       "  'w1_M100',\n",
       "  'w1_Munq',\n",
       "  'w1_Msecs',\n",
       "  'w1_Mtotal',\n",
       "  'w1_M25_D_Mtotal',\n",
       "  'w1_M50_D_Mtotal',\n",
       "  'w1_M75_D_Mtotal',\n",
       "  'w1_M985_D_Mtotal',\n",
       "  'w1_M100_D_Mtotal',\n",
       "  'w1_Munq_D_Mtotal',\n",
       "  'w1_M25M50M75_D_Mtotal',\n",
       "  'w1_M985M100_D_Mtotal',\n",
       "  'w1_M25M50_D_Mtotal'],\n",
       " ['last2WeekOnLine',\n",
       "  'w2_M25',\n",
       "  'w2_M50',\n",
       "  'w2_M75',\n",
       "  'w2_M985',\n",
       "  'w2_M100',\n",
       "  'w2_Munq',\n",
       "  'w2_Msecs',\n",
       "  'w2_Mtotal',\n",
       "  'w2_M25_D_Mtotal',\n",
       "  'w2_M50_D_Mtotal',\n",
       "  'w2_M75_D_Mtotal',\n",
       "  'w2_M985_D_Mtotal',\n",
       "  'w2_M100_D_Mtotal',\n",
       "  'w2_Munq_D_Mtotal',\n",
       "  'w2_M25M50M75_D_Mtotal',\n",
       "  'w2_M985M100_D_Mtotal',\n",
       "  'w2_M25M50_D_Mtotal'],\n",
       " ['last4WeekOnLine',\n",
       "  'w4_M25',\n",
       "  'w4_M50',\n",
       "  'w4_M75',\n",
       "  'w4_M985',\n",
       "  'w4_M100',\n",
       "  'w4_Munq',\n",
       "  'w4_Msecs',\n",
       "  'w4_Mtotal',\n",
       "  'w4_M25_D_Mtotal',\n",
       "  'w4_M50_D_Mtotal',\n",
       "  'w4_M75_D_Mtotal',\n",
       "  'w4_M985_D_Mtotal',\n",
       "  'w4_M100_D_Mtotal',\n",
       "  'w4_Munq_D_Mtotal',\n",
       "  'w4_M25M50M75_D_Mtotal',\n",
       "  'w4_M985M100_D_Mtotal',\n",
       "  'w4_M25M50_D_Mtotal'],\n",
       " ['last6WeekOnLine',\n",
       "  'w6_M25',\n",
       "  'w6_M50',\n",
       "  'w6_M75',\n",
       "  'w6_M985',\n",
       "  'w6_M100',\n",
       "  'w6_Munq',\n",
       "  'w6_Msecs',\n",
       "  'w6_Mtotal',\n",
       "  'w6_M25_D_Mtotal',\n",
       "  'w6_M50_D_Mtotal',\n",
       "  'w6_M75_D_Mtotal',\n",
       "  'w6_M985_D_Mtotal',\n",
       "  'w6_M100_D_Mtotal',\n",
       "  'w6_Munq_D_Mtotal',\n",
       "  'w6_M25M50M75_D_Mtotal',\n",
       "  'w6_M985M100_D_Mtotal',\n",
       "  'w6_M25M50_D_Mtotal'],\n",
       " ['last9WeekOnLine',\n",
       "  'w9_M25',\n",
       "  'w9_M50',\n",
       "  'w9_M75',\n",
       "  'w9_M985',\n",
       "  'w9_M100',\n",
       "  'w9_Munq',\n",
       "  'w9_Msecs',\n",
       "  'w9_Mtotal',\n",
       "  'w9_M25_D_Mtotal',\n",
       "  'w9_M50_D_Mtotal',\n",
       "  'w9_M75_D_Mtotal',\n",
       "  'w9_M985_D_Mtotal',\n",
       "  'w9_M100_D_Mtotal',\n",
       "  'w9_Munq_D_Mtotal',\n",
       "  'w9_M25M50M75_D_Mtotal',\n",
       "  'w9_M985M100_D_Mtotal',\n",
       "  'w9_M25M50_D_Mtotal'],\n",
       " ['last12WeekOnLine',\n",
       "  'w12_M25',\n",
       "  'w12_M50',\n",
       "  'w12_M75',\n",
       "  'w12_M985',\n",
       "  'w12_M100',\n",
       "  'w12_Munq',\n",
       "  'w12_Msecs',\n",
       "  'w12_Mtotal',\n",
       "  'w12_M25_D_Mtotal',\n",
       "  'w12_M50_D_Mtotal',\n",
       "  'w12_M75_D_Mtotal',\n",
       "  'w12_M985_D_Mtotal',\n",
       "  'w12_M100_D_Mtotal',\n",
       "  'w12_Munq_D_Mtotal',\n",
       "  'w12_M25M50M75_D_Mtotal',\n",
       "  'w12_M985M100_D_Mtotal',\n",
       "  'w12_M25M50_D_Mtotal']]"
      ]
     },
     "execution_count": 16,
     "metadata": {},
     "output_type": "execute_result"
    }
   ],
   "source": [
    "col_groups"
   ]
  },
  {
   "cell_type": "markdown",
   "metadata": {},
   "source": [
    "# field selection groupwise"
   ]
  },
  {
   "cell_type": "code",
   "execution_count": 11,
   "metadata": {},
   "outputs": [],
   "source": [
    "from pyspark.ml.feature import VectorAssembler\n",
    "from pyspark.ml.stat import Correlation\n",
    "import seaborn as sns\n",
    "\n",
    "def get_corr_matrix(df, columns):\n",
    "    '''Return a 2D NumPy array'''\n",
    "    va = VectorAssembler().setInputCols(columns).setOutputCol('features')\n",
    "    df1 = va.transform(df).select('features')\n",
    "    corr_matrix = Correlation.corr(df1, 'features').collect()[0][0].toArray()  # a NumPy 2D array\n",
    "    return corr_matrix\n",
    "\n",
    "def plot_correlation_heatmap(corr_matrix, column_names, ax):\n",
    "    sns.heatmap(corr_matrix, ax=ax, center=0.0, vmin=-1, vmax=1,\n",
    "                xticklabels=column_names, yticklabels=column_names, linewidth=0.5)"
   ]
  },
  {
   "cell_type": "code",
   "execution_count": 12,
   "metadata": {},
   "outputs": [],
   "source": [
    "def find_correlated_index_groups(correlated_pairs):        \n",
    "    result_prev = correlated_pairs\n",
    "    result = []\n",
    "    while True:\n",
    "        for p in result_prev:\n",
    "            # add `p` to `result`\n",
    "            added = False\n",
    "            for i in range(len(result)):\n",
    "                if p.intersection(result[i]):\n",
    "                    result[i] = result[i].union(p)\n",
    "                    added = True\n",
    "                    break\n",
    "            if not added:\n",
    "                result.append(p)\n",
    "\n",
    "        # check whether the elements of `result` are mutually disjoint        \n",
    "        disjoint = True\n",
    "        for i in range(len(result)):\n",
    "            for j in range(i+1, len(result)):\n",
    "                if result[i].intersection(result[j]):\n",
    "                    disjoint = False\n",
    "                    break;\n",
    "            if not disjoint:\n",
    "                break;\n",
    "        #\n",
    "        if disjoint:\n",
    "            break\n",
    "        else:\n",
    "            result_prev = result\n",
    "            result = []\n",
    "    # end of while        \n",
    "    \n",
    "    return result"
   ]
  },
  {
   "cell_type": "code",
   "execution_count": 26,
   "metadata": {},
   "outputs": [],
   "source": [
    "def find_correlated_field_groups(corr_mat, field_names, corr_abs_threshold):\n",
    "    assert corr_mat.shape[0] == len(field_names)\n",
    "    \n",
    "    correlated_pairs = []\n",
    "    for i in range(corr_mat.shape[0]):\n",
    "        for j in range(i):    \n",
    "            if abs(corr_mat[i,j]) >= corr_abs_threshold:\n",
    "                correlated_pairs.append({i, j})\n",
    "         \n",
    "        \n",
    "    corr_index_groups = find_correlated_index_groups(correlated_pairs)\n",
    "    \n",
    "#     corr_field_groups = []\n",
    "#     for g in corr_index_groups:\n",
    "#         fields = {field_names[i]  for i in g}\n",
    "#         corr_field_groups.append(fields)\n",
    "\n",
    "    # add isolated (uncorrelated to others) fields\n",
    "    all_ind = set(range(corr_mat.shape[0]))\n",
    "    for g in corr_index_groups:\n",
    "        all_ind = all_ind - g\n",
    "\n",
    "    return correlated_pairs, corr_index_groups, all_ind  #........................\n",
    "\n",
    "#     for i in all_ind:\n",
    "#         corr_field_groups.append({field_names[i]})\n",
    "        \n",
    "#     #    \n",
    "#     return corr_field_groups"
   ]
  },
  {
   "cell_type": "markdown",
   "metadata": {},
   "source": [
    "## group 0"
   ]
  },
  {
   "cell_type": "code",
   "execution_count": 27,
   "metadata": {},
   "outputs": [],
   "source": [
    "# set threshold:\n",
    "corr_abs_threshold = 0.7"
   ]
  },
  {
   "cell_type": "code",
   "execution_count": 28,
   "metadata": {},
   "outputs": [
    {
     "data": {
      "text/plain": [
       "([{1, 2},\n",
       "  {3, 4},\n",
       "  {3, 5},\n",
       "  {4, 5},\n",
       "  {3, 9},\n",
       "  {4, 9},\n",
       "  {5, 9},\n",
       "  {6, 11},\n",
       "  {8, 13},\n",
       "  {3, 14},\n",
       "  {4, 14},\n",
       "  {5, 14},\n",
       "  {9, 14},\n",
       "  {8, 15},\n",
       "  {13, 15},\n",
       "  {8, 16},\n",
       "  {13, 16},\n",
       "  {3, 17},\n",
       "  {4, 17},\n",
       "  {5, 17},\n",
       "  {9, 17},\n",
       "  {14, 17},\n",
       "  {3, 18},\n",
       "  {4, 18},\n",
       "  {5, 18},\n",
       "  {9, 18},\n",
       "  {14, 18},\n",
       "  {17, 18},\n",
       "  {7, 19},\n",
       "  {6, 20},\n",
       "  {11, 20},\n",
       "  {12, 20},\n",
       "  {11, 21},\n",
       "  {3, 22},\n",
       "  {4, 22},\n",
       "  {5, 22},\n",
       "  {9, 22},\n",
       "  {14, 22},\n",
       "  {17, 22},\n",
       "  {18, 22},\n",
       "  {7, 23},\n",
       "  {19, 23}],\n",
       " [{1, 2},\n",
       "  {3, 4, 5, 9, 14, 17, 18, 22},\n",
       "  {6, 11, 12, 20, 21},\n",
       "  {8, 13, 15, 16},\n",
       "  {7, 19, 23}],\n",
       " {0, 10})"
      ]
     },
     "execution_count": 28,
     "metadata": {},
     "output_type": "execute_result"
    }
   ],
   "source": [
    "corr_mat = get_corr_matrix(df0, col_groups[0])\n",
    "find_correlated_field_groups(corr_mat, col_groups[0], corr_abs_threshold)"
   ]
  },
  {
   "cell_type": "code",
   "execution_count": 30,
   "metadata": {},
   "outputs": [
    {
     "data": {
      "text/plain": [
       "[(0, 'days_since_init_regist'),\n",
       " (1, 'gaps_count'),\n",
       " (2, 'total_gap_len'),\n",
       " (3, 'last_plan_days'),\n",
       " (4, 'last_list_price'),\n",
       " (5, 'last_actual_paid'),\n",
       " (6, 'last_discount'),\n",
       " (7, 'last_paid_per_day'),\n",
       " (8, 'actual_paid_cnt_uniq'),\n",
       " (9, 'actual_paid_mode'),\n",
       " (10, 'auto_renew_cnt_uniq'),\n",
       " (11, 'discount_cnt_uniq'),\n",
       " (12, 'discount_mode'),\n",
       " (13, 'list_price_cnt_uniq'),\n",
       " (14, 'list_price_mode'),\n",
       " (15, 'pay_method_cnt_uniq'),\n",
       " (16, 'plan_days_cnt_uniq'),\n",
       " (17, 'plan_days_mode'),\n",
       " (18, 'actual_paid_sum'),\n",
       " (19, 'actual_paid_per_sub_day'),\n",
       " (20, 'discount_sum'),\n",
       " (21, 'discount_per_sub_day'),\n",
       " (22, 'list_price_sum'),\n",
       " (23, 'list_price_per_sub_day')]"
      ]
     },
     "execution_count": 30,
     "metadata": {},
     "output_type": "execute_result"
    }
   ],
   "source": [
    "list(enumerate(col_groups[0]))"
   ]
  },
  {
   "cell_type": "code",
   "execution_count": 33,
   "metadata": {},
   "outputs": [
    {
     "data": {
      "text/plain": [
       "['days_since_init_regist',\n",
       " 'gaps_count',\n",
       " 'last_plan_days',\n",
       " 'last_discount',\n",
       " 'last_paid_per_day',\n",
       " 'auto_renew_cnt_uniq',\n",
       " 'discount_mode',\n",
       " 'pay_method_cnt_uniq',\n",
       " 'plan_days_cnt_uniq',\n",
       " 'discount_per_sub_day']"
      ]
     },
     "execution_count": 33,
     "metadata": {},
     "output_type": "execute_result"
    }
   ],
   "source": [
    "# select fields here:\n",
    "fields_select_within_g0 = [col_groups[0][i] for i in [0,1,3,6,7,10,12,15,16,21]]\n",
    "fields_select_within_g0"
   ]
  },
  {
   "cell_type": "code",
   "execution_count": 36,
   "metadata": {},
   "outputs": [
    {
     "data": {
      "image/png": "[encoded data removed]",
      "text/plain": [
       "<Figure size 360x288 with 2 Axes>"
      ]
     },
     "metadata": {},
     "output_type": "display_data"
    }
   ],
   "source": [
    "# plot selected\n",
    "import matplotlib.pyplot as plt\n",
    "\n",
    "corr_mat = get_corr_matrix(df0, fields_select_within_g0)\n",
    "\n",
    "fig, ax = plt.subplots()\n",
    "plot_correlation_heatmap(corr_mat, fields_select_within_g0, ax)\n",
    "fig.set_size_inches(5,4)\n",
    "plt.show()"
   ]
  },
  {
   "cell_type": "markdown",
   "metadata": {},
   "source": [
    "## group 1 ~ 3"
   ]
  },
  {
   "cell_type": "code",
   "execution_count": 37,
   "metadata": {},
   "outputs": [
    {
     "data": {
      "text/plain": [
       "([{5, 6},\n",
       "  {5, 7},\n",
       "  {6, 7},\n",
       "  {5, 8},\n",
       "  {6, 8},\n",
       "  {7, 8},\n",
       "  {9, 13},\n",
       "  {9, 15},\n",
       "  {13, 15},\n",
       "  {9, 16},\n",
       "  {13, 16},\n",
       "  {15, 16},\n",
       "  {9, 17},\n",
       "  {13, 17},\n",
       "  {15, 17},\n",
       "  {16, 17}],\n",
       " [{5, 6, 7, 8}, {9, 13, 15, 16, 17}],\n",
       " {0, 1, 2, 3, 4, 10, 11, 12, 14})"
      ]
     },
     "execution_count": 37,
     "metadata": {},
     "output_type": "execute_result"
    }
   ],
   "source": [
    "g = 1\n",
    "ww = '1'\n",
    "\n",
    "df = df0.where('w'+ww+'_Mtotal > 0')\n",
    "corr_mat = get_corr_matrix(df, col_groups[g])\n",
    "find_correlated_field_groups(corr_mat, col_groups[g], corr_abs_threshold)"
   ]
  },
  {
   "cell_type": "code",
   "execution_count": 38,
   "metadata": {},
   "outputs": [
    {
     "data": {
      "text/plain": [
       "[(0, 'last1WeekOnLine'),\n",
       " (1, 'w1_M25'),\n",
       " (2, 'w1_M50'),\n",
       " (3, 'w1_M75'),\n",
       " (4, 'w1_M985'),\n",
       " (5, 'w1_M100'),\n",
       " (6, 'w1_Munq'),\n",
       " (7, 'w1_Msecs'),\n",
       " (8, 'w1_Mtotal'),\n",
       " (9, 'w1_M25_D_Mtotal'),\n",
       " (10, 'w1_M50_D_Mtotal'),\n",
       " (11, 'w1_M75_D_Mtotal'),\n",
       " (12, 'w1_M985_D_Mtotal'),\n",
       " (13, 'w1_M100_D_Mtotal'),\n",
       " (14, 'w1_Munq_D_Mtotal'),\n",
       " (15, 'w1_M25M50M75_D_Mtotal'),\n",
       " (16, 'w1_M985M100_D_Mtotal'),\n",
       " (17, 'w1_M25M50_D_Mtotal')]"
      ]
     },
     "execution_count": 38,
     "metadata": {},
     "output_type": "execute_result"
    }
   ],
   "source": [
    "list(enumerate(col_groups[g]))"
   ]
  },
  {
   "cell_type": "code",
   "execution_count": 42,
   "metadata": {},
   "outputs": [
    {
     "data": {
      "text/plain": [
       "['last1WeekOnLine',\n",
       " 'w1_M25',\n",
       " 'w1_M75',\n",
       " 'w1_M985',\n",
       " 'w1_Mtotal',\n",
       " 'w1_M50_D_Mtotal',\n",
       " 'w1_M75_D_Mtotal',\n",
       " 'w1_M985_D_Mtotal',\n",
       " 'w1_M100_D_Mtotal',\n",
       " 'w1_Munq_D_Mtotal']"
      ]
     },
     "execution_count": 42,
     "metadata": {},
     "output_type": "execute_result"
    }
   ],
   "source": [
    "# add field here:\n",
    "fields_select_within_g1 = [col_groups[g][i] for i in [0, 1, 3, 4, 8, 10, 11, 12, 13, 14]]\n",
    "fields_select_within_g1"
   ]
  },
  {
   "cell_type": "code",
   "execution_count": 43,
   "metadata": {},
   "outputs": [
    {
     "data": {
      "image/png": "[encoded data removed]",
      "text/plain": [
       "<Figure size 360x288 with 2 Axes>"
      ]
     },
     "metadata": {},
     "output_type": "display_data"
    }
   ],
   "source": [
    "# plot selected\n",
    "corr_mat = get_corr_matrix(df, fields_select_within_g1)\n",
    "\n",
    "fig, ax = plt.subplots()\n",
    "plot_correlation_heatmap(corr_mat, fields_select_within_g1, ax)\n",
    "fig.set_size_inches(5,4)\n",
    "plt.show()"
   ]
  },
  {
   "cell_type": "code",
   "execution_count": 44,
   "metadata": {},
   "outputs": [
    {
     "data": {
      "text/plain": [
       "([{5, 6},\n",
       "  {5, 7},\n",
       "  {6, 7},\n",
       "  {5, 8},\n",
       "  {6, 8},\n",
       "  {7, 8},\n",
       "  {9, 13},\n",
       "  {9, 15},\n",
       "  {13, 15},\n",
       "  {9, 16},\n",
       "  {13, 16},\n",
       "  {15, 16},\n",
       "  {9, 17},\n",
       "  {13, 17},\n",
       "  {15, 17},\n",
       "  {16, 17}],\n",
       " [{5, 6, 7, 8}, {9, 13, 15, 16, 17}],\n",
       " {0, 1, 2, 3, 4, 10, 11, 12, 14})"
      ]
     },
     "execution_count": 44,
     "metadata": {},
     "output_type": "execute_result"
    }
   ],
   "source": [
    "g = 2\n",
    "ww = '2'\n",
    "\n",
    "df = df0.where('w'+ww+'_Mtotal > 0')\n",
    "corr_mat = get_corr_matrix(df, col_groups[g])\n",
    "find_correlated_field_groups(corr_mat, col_groups[g], corr_abs_threshold)"
   ]
  },
  {
   "cell_type": "code",
   "execution_count": 49,
   "metadata": {},
   "outputs": [
    {
     "data": {
      "text/plain": [
       "['last2WeekOnLine',\n",
       " 'w2_M25',\n",
       " 'w2_M75',\n",
       " 'w2_M985',\n",
       " 'w2_Mtotal',\n",
       " 'w2_M50_D_Mtotal',\n",
       " 'w2_M75_D_Mtotal',\n",
       " 'w2_M985_D_Mtotal',\n",
       " 'w2_M100_D_Mtotal',\n",
       " 'w2_Munq_D_Mtotal']"
      ]
     },
     "execution_count": 49,
     "metadata": {},
     "output_type": "execute_result"
    }
   ],
   "source": [
    "# add field here:\n",
    "fields_select_within_g2 = [col_groups[2][i] for i in [0, 1, 3, 4, 8, 10, 11, 12, 13, 14]]\n",
    "fields_select_within_g2"
   ]
  },
  {
   "cell_type": "code",
   "execution_count": 50,
   "metadata": {},
   "outputs": [
    {
     "data": {
      "image/png": "[encoded data removed]",
      "text/plain": [
       "<Figure size 360x288 with 2 Axes>"
      ]
     },
     "metadata": {},
     "output_type": "display_data"
    }
   ],
   "source": [
    "# plot selected\n",
    "corr_mat = get_corr_matrix(df, fields_select_within_g2)\n",
    "\n",
    "fig, ax = plt.subplots()\n",
    "plot_correlation_heatmap(corr_mat, fields_select_within_g2, ax)\n",
    "fig.set_size_inches(5,4)\n",
    "plt.show()"
   ]
  },
  {
   "cell_type": "code",
   "execution_count": 51,
   "metadata": {},
   "outputs": [
    {
     "data": {
      "text/plain": [
       "([{5, 6},\n",
       "  {5, 7},\n",
       "  {6, 7},\n",
       "  {5, 8},\n",
       "  {6, 8},\n",
       "  {7, 8},\n",
       "  {9, 13},\n",
       "  {9, 15},\n",
       "  {13, 15},\n",
       "  {9, 16},\n",
       "  {13, 16},\n",
       "  {15, 16},\n",
       "  {9, 17},\n",
       "  {13, 17},\n",
       "  {15, 17},\n",
       "  {16, 17}],\n",
       " [{5, 6, 7, 8}, {9, 13, 15, 16, 17}],\n",
       " {0, 1, 2, 3, 4, 10, 11, 12, 14})"
      ]
     },
     "execution_count": 51,
     "metadata": {},
     "output_type": "execute_result"
    }
   ],
   "source": [
    "g = 3\n",
    "ww = '4'\n",
    "\n",
    "df = df0.where('w'+ww+'_Mtotal > 0')\n",
    "corr_mat = get_corr_matrix(df, col_groups[g])\n",
    "find_correlated_field_groups(corr_mat, col_groups[g], corr_abs_threshold)"
   ]
  },
  {
   "cell_type": "code",
   "execution_count": 52,
   "metadata": {},
   "outputs": [
    {
     "data": {
      "text/plain": [
       "['last4WeekOnLine',\n",
       " 'w4_M25',\n",
       " 'w4_M75',\n",
       " 'w4_M985',\n",
       " 'w4_Mtotal',\n",
       " 'w4_M50_D_Mtotal',\n",
       " 'w4_M75_D_Mtotal',\n",
       " 'w4_M985_D_Mtotal',\n",
       " 'w4_M100_D_Mtotal',\n",
       " 'w4_Munq_D_Mtotal']"
      ]
     },
     "execution_count": 52,
     "metadata": {},
     "output_type": "execute_result"
    }
   ],
   "source": [
    "# add field here:\n",
    "fields_select_within_g3 = [col_groups[3][i] for i in [0, 1, 3, 4, 8, 10, 11, 12, 13, 14]]\n",
    "fields_select_within_g3"
   ]
  },
  {
   "cell_type": "code",
   "execution_count": 53,
   "metadata": {},
   "outputs": [
    {
     "data": {
      "image/png": "[encoded data removed]",
      "text/plain": [
       "<Figure size 360x288 with 2 Axes>"
      ]
     },
     "metadata": {},
     "output_type": "display_data"
    }
   ],
   "source": [
    "# plot selected\n",
    "corr_mat = get_corr_matrix(df, fields_select_within_g3)\n",
    "\n",
    "fig, ax = plt.subplots()\n",
    "plot_correlation_heatmap(corr_mat, fields_select_within_g3, ax)\n",
    "fig.set_size_inches(5,4)\n",
    "plt.show()"
   ]
  },
  {
   "cell_type": "markdown",
   "metadata": {},
   "source": [
    "## group 4"
   ]
  },
  {
   "cell_type": "code",
   "execution_count": 58,
   "metadata": {},
   "outputs": [
    {
     "data": {
      "text/plain": [
       "([{2, 3},\n",
       "  {5, 6},\n",
       "  {5, 7},\n",
       "  {6, 7},\n",
       "  {5, 8},\n",
       "  {6, 8},\n",
       "  {7, 8},\n",
       "  {9, 13},\n",
       "  {9, 15},\n",
       "  {13, 15},\n",
       "  {9, 16},\n",
       "  {13, 16},\n",
       "  {15, 16},\n",
       "  {9, 17},\n",
       "  {13, 17},\n",
       "  {15, 17},\n",
       "  {16, 17}],\n",
       " [{2, 3}, {5, 6, 7, 8}, {9, 13, 15, 16, 17}],\n",
       " {0, 1, 4, 10, 11, 12, 14})"
      ]
     },
     "execution_count": 58,
     "metadata": {},
     "output_type": "execute_result"
    }
   ],
   "source": [
    "g = 4\n",
    "ww = '6'\n",
    "\n",
    "df = df0.where('w'+ww+'_Mtotal > 0')\n",
    "corr_mat = get_corr_matrix(df, col_groups[g])\n",
    "find_correlated_field_groups(corr_mat, col_groups[g], corr_abs_threshold)"
   ]
  },
  {
   "cell_type": "code",
   "execution_count": 60,
   "metadata": {},
   "outputs": [
    {
     "data": {
      "text/plain": [
       "['last6WeekOnLine',\n",
       " 'w6_M25',\n",
       " 'w6_M75',\n",
       " 'w6_M985',\n",
       " 'w6_Mtotal',\n",
       " 'w6_M50_D_Mtotal',\n",
       " 'w6_M75_D_Mtotal',\n",
       " 'w6_M985_D_Mtotal',\n",
       " 'w6_M100_D_Mtotal',\n",
       " 'w6_Munq_D_Mtotal']"
      ]
     },
     "execution_count": 60,
     "metadata": {},
     "output_type": "execute_result"
    }
   ],
   "source": [
    "# add field here:\n",
    "fields_select_within_g4 = [col_groups[4][i] for i in [0, 1, 3, 4, 8, 10, 11, 12, 13, 14]]\n",
    "fields_select_within_g4"
   ]
  },
  {
   "cell_type": "code",
   "execution_count": 61,
   "metadata": {},
   "outputs": [
    {
     "data": {
      "image/png": "[encoded data removed]",
      "text/plain": [
       "<Figure size 360x288 with 2 Axes>"
      ]
     },
     "metadata": {},
     "output_type": "display_data"
    }
   ],
   "source": [
    "# plot selected\n",
    "corr_mat = get_corr_matrix(df, fields_select_within_g4)\n",
    "\n",
    "fig, ax = plt.subplots()\n",
    "plot_correlation_heatmap(corr_mat, fields_select_within_g4, ax)\n",
    "fig.set_size_inches(5,4)\n",
    "plt.show()"
   ]
  },
  {
   "cell_type": "markdown",
   "metadata": {},
   "source": [
    "## group 5"
   ]
  },
  {
   "cell_type": "code",
   "execution_count": 62,
   "metadata": {},
   "outputs": [
    {
     "data": {
      "text/plain": [
       "([{2, 3},\n",
       "  {5, 6},\n",
       "  {5, 7},\n",
       "  {6, 7},\n",
       "  {5, 8},\n",
       "  {6, 8},\n",
       "  {7, 8},\n",
       "  {9, 13},\n",
       "  {9, 15},\n",
       "  {13, 15},\n",
       "  {9, 16},\n",
       "  {13, 16},\n",
       "  {15, 16},\n",
       "  {9, 17},\n",
       "  {13, 17},\n",
       "  {15, 17},\n",
       "  {16, 17}],\n",
       " [{2, 3}, {5, 6, 7, 8}, {9, 13, 15, 16, 17}],\n",
       " {0, 1, 4, 10, 11, 12, 14})"
      ]
     },
     "execution_count": 62,
     "metadata": {},
     "output_type": "execute_result"
    }
   ],
   "source": [
    "g = 5\n",
    "ww = '9'\n",
    "\n",
    "df = df0.where('w'+ww+'_Mtotal > 0')\n",
    "corr_mat = get_corr_matrix(df, col_groups[g])\n",
    "find_correlated_field_groups(corr_mat, col_groups[g], corr_abs_threshold)"
   ]
  },
  {
   "cell_type": "code",
   "execution_count": 63,
   "metadata": {},
   "outputs": [
    {
     "data": {
      "text/plain": [
       "['last9WeekOnLine',\n",
       " 'w9_M25',\n",
       " 'w9_M75',\n",
       " 'w9_M985',\n",
       " 'w9_Mtotal',\n",
       " 'w9_M50_D_Mtotal',\n",
       " 'w9_M75_D_Mtotal',\n",
       " 'w9_M985_D_Mtotal',\n",
       " 'w9_M100_D_Mtotal',\n",
       " 'w9_Munq_D_Mtotal']"
      ]
     },
     "execution_count": 63,
     "metadata": {},
     "output_type": "execute_result"
    }
   ],
   "source": [
    "# add field here:\n",
    "fields_select_within_g5 = [col_groups[5][i] for i in [0, 1, 3, 4, 8, 10, 11, 12, 13, 14]]\n",
    "fields_select_within_g5"
   ]
  },
  {
   "cell_type": "code",
   "execution_count": 64,
   "metadata": {},
   "outputs": [
    {
     "data": {
      "image/png": "[encoded data removed]",
      "text/plain": [
       "<Figure size 360x288 with 2 Axes>"
      ]
     },
     "metadata": {},
     "output_type": "display_data"
    }
   ],
   "source": [
    "# plot selected\n",
    "corr_mat = get_corr_matrix(df, fields_select_within_g5)\n",
    "\n",
    "fig, ax = plt.subplots()\n",
    "plot_correlation_heatmap(corr_mat, fields_select_within_g5, ax)\n",
    "fig.set_size_inches(5,4)\n",
    "plt.show()"
   ]
  },
  {
   "cell_type": "markdown",
   "metadata": {},
   "source": [
    "## group 6"
   ]
  },
  {
   "cell_type": "code",
   "execution_count": 65,
   "metadata": {},
   "outputs": [
    {
     "data": {
      "text/plain": [
       "([{2, 3},\n",
       "  {5, 6},\n",
       "  {5, 7},\n",
       "  {6, 7},\n",
       "  {5, 8},\n",
       "  {6, 8},\n",
       "  {7, 8},\n",
       "  {9, 13},\n",
       "  {9, 15},\n",
       "  {13, 15},\n",
       "  {9, 16},\n",
       "  {13, 16},\n",
       "  {15, 16},\n",
       "  {9, 17},\n",
       "  {13, 17},\n",
       "  {15, 17},\n",
       "  {16, 17}],\n",
       " [{2, 3}, {5, 6, 7, 8}, {9, 13, 15, 16, 17}],\n",
       " {0, 1, 4, 10, 11, 12, 14})"
      ]
     },
     "execution_count": 65,
     "metadata": {},
     "output_type": "execute_result"
    }
   ],
   "source": [
    "g = 6\n",
    "ww = '12'\n",
    "\n",
    "df = df0.where('w'+ww+'_Mtotal > 0')\n",
    "corr_mat = get_corr_matrix(df, col_groups[g])\n",
    "find_correlated_field_groups(corr_mat, col_groups[g], corr_abs_threshold)"
   ]
  },
  {
   "cell_type": "code",
   "execution_count": 66,
   "metadata": {},
   "outputs": [
    {
     "data": {
      "text/plain": [
       "['last12WeekOnLine',\n",
       " 'w12_M25',\n",
       " 'w12_M75',\n",
       " 'w12_M985',\n",
       " 'w12_Mtotal',\n",
       " 'w12_M50_D_Mtotal',\n",
       " 'w12_M75_D_Mtotal',\n",
       " 'w12_M985_D_Mtotal',\n",
       " 'w12_M100_D_Mtotal',\n",
       " 'w12_Munq_D_Mtotal']"
      ]
     },
     "execution_count": 66,
     "metadata": {},
     "output_type": "execute_result"
    }
   ],
   "source": [
    "# add field here:\n",
    "fields_select_within_g6 = [col_groups[6][i] for i in [0, 1, 3, 4, 8, 10, 11, 12, 13, 14]]\n",
    "fields_select_within_g6"
   ]
  },
  {
   "cell_type": "code",
   "execution_count": 67,
   "metadata": {},
   "outputs": [
    {
     "data": {
      "image/png": "[encoded data removed]",
      "text/plain": [
       "<Figure size 360x288 with 2 Axes>"
      ]
     },
     "metadata": {},
     "output_type": "display_data"
    }
   ],
   "source": [
    "# plot selected\n",
    "corr_mat = get_corr_matrix(df, fields_select_within_g6)\n",
    "\n",
    "fig, ax = plt.subplots()\n",
    "plot_correlation_heatmap(corr_mat, fields_select_within_g6, ax)\n",
    "fig.set_size_inches(5,4)\n",
    "plt.show()"
   ]
  },
  {
   "cell_type": "markdown",
   "metadata": {},
   "source": [
    "# final field-selection"
   ]
  },
  {
   "cell_type": "code",
   "execution_count": 68,
   "metadata": {
    "scrolled": true
   },
   "outputs": [],
   "source": [
    "field_groups = [\n",
    "    fields_select_within_g0, \n",
    "    fields_select_within_g1, \n",
    "    fields_select_within_g2, \n",
    "    fields_select_within_g3, \n",
    "    fields_select_within_g4, \n",
    "    fields_select_within_g5, \n",
    "    fields_select_within_g6\n",
    "]"
   ]
  },
  {
   "cell_type": "code",
   "execution_count": 69,
   "metadata": {
    "scrolled": true
   },
   "outputs": [
    {
     "data": {
      "text/plain": [
       "[['days_since_init_regist',\n",
       "  'gaps_count',\n",
       "  'last_plan_days',\n",
       "  'last_discount',\n",
       "  'last_paid_per_day',\n",
       "  'auto_renew_cnt_uniq',\n",
       "  'discount_mode',\n",
       "  'pay_method_cnt_uniq',\n",
       "  'plan_days_cnt_uniq',\n",
       "  'discount_per_sub_day'],\n",
       " ['last1WeekOnLine',\n",
       "  'w1_M25',\n",
       "  'w1_M75',\n",
       "  'w1_M985',\n",
       "  'w1_Mtotal',\n",
       "  'w1_M50_D_Mtotal',\n",
       "  'w1_M75_D_Mtotal',\n",
       "  'w1_M985_D_Mtotal',\n",
       "  'w1_M100_D_Mtotal',\n",
       "  'w1_Munq_D_Mtotal'],\n",
       " ['last2WeekOnLine',\n",
       "  'w2_M25',\n",
       "  'w2_M75',\n",
       "  'w2_M985',\n",
       "  'w2_Mtotal',\n",
       "  'w2_M50_D_Mtotal',\n",
       "  'w2_M75_D_Mtotal',\n",
       "  'w2_M985_D_Mtotal',\n",
       "  'w2_M100_D_Mtotal',\n",
       "  'w2_Munq_D_Mtotal'],\n",
       " ['last4WeekOnLine',\n",
       "  'w4_M25',\n",
       "  'w4_M75',\n",
       "  'w4_M985',\n",
       "  'w4_Mtotal',\n",
       "  'w4_M50_D_Mtotal',\n",
       "  'w4_M75_D_Mtotal',\n",
       "  'w4_M985_D_Mtotal',\n",
       "  'w4_M100_D_Mtotal',\n",
       "  'w4_Munq_D_Mtotal'],\n",
       " ['last6WeekOnLine',\n",
       "  'w6_M25',\n",
       "  'w6_M75',\n",
       "  'w6_M985',\n",
       "  'w6_Mtotal',\n",
       "  'w6_M50_D_Mtotal',\n",
       "  'w6_M75_D_Mtotal',\n",
       "  'w6_M985_D_Mtotal',\n",
       "  'w6_M100_D_Mtotal',\n",
       "  'w6_Munq_D_Mtotal'],\n",
       " ['last9WeekOnLine',\n",
       "  'w9_M25',\n",
       "  'w9_M75',\n",
       "  'w9_M985',\n",
       "  'w9_Mtotal',\n",
       "  'w9_M50_D_Mtotal',\n",
       "  'w9_M75_D_Mtotal',\n",
       "  'w9_M985_D_Mtotal',\n",
       "  'w9_M100_D_Mtotal',\n",
       "  'w9_Munq_D_Mtotal'],\n",
       " ['last12WeekOnLine',\n",
       "  'w12_M25',\n",
       "  'w12_M75',\n",
       "  'w12_M985',\n",
       "  'w12_Mtotal',\n",
       "  'w12_M50_D_Mtotal',\n",
       "  'w12_M75_D_Mtotal',\n",
       "  'w12_M985_D_Mtotal',\n",
       "  'w12_M100_D_Mtotal',\n",
       "  'w12_Munq_D_Mtotal']]"
      ]
     },
     "execution_count": 69,
     "metadata": {},
     "output_type": "execute_result"
    }
   ],
   "source": [
    "field_groups"
   ]
  },
  {
   "cell_type": "markdown",
   "metadata": {},
   "source": [
    "## wXX_Mtotal > 0"
   ]
  },
  {
   "cell_type": "code",
   "execution_count": 71,
   "metadata": {
    "scrolled": true
   },
   "outputs": [
    {
     "data": {
      "text/plain": [
       "([{10, 20},\n",
       "  {11, 21},\n",
       "  {12, 22},\n",
       "  {13, 23},\n",
       "  {14, 24},\n",
       "  {15, 25},\n",
       "  {18, 28},\n",
       "  {19, 29},\n",
       "  {10, 30},\n",
       "  {20, 30},\n",
       "  {11, 31},\n",
       "  {21, 31},\n",
       "  {22, 32},\n",
       "  {13, 33},\n",
       "  {23, 33},\n",
       "  {14, 34},\n",
       "  {24, 34},\n",
       "  {25, 35},\n",
       "  {27, 37},\n",
       "  {18, 38},\n",
       "  {28, 38},\n",
       "  {19, 39},\n",
       "  {29, 39},\n",
       "  {10, 40},\n",
       "  {20, 40},\n",
       "  {30, 40},\n",
       "  {11, 41},\n",
       "  {21, 41},\n",
       "  {31, 41},\n",
       "  {22, 42},\n",
       "  {32, 42},\n",
       "  {13, 43},\n",
       "  {23, 43},\n",
       "  {33, 43},\n",
       "  {14, 44},\n",
       "  {24, 44},\n",
       "  {34, 44},\n",
       "  {35, 45},\n",
       "  {36, 46},\n",
       "  {37, 47},\n",
       "  {28, 48},\n",
       "  {38, 48},\n",
       "  {29, 49},\n",
       "  {39, 49},\n",
       "  {10, 50},\n",
       "  {20, 50},\n",
       "  {30, 50},\n",
       "  {40, 50},\n",
       "  {21, 51},\n",
       "  {31, 51},\n",
       "  {41, 51},\n",
       "  {32, 52},\n",
       "  {42, 52},\n",
       "  {13, 53},\n",
       "  {23, 53},\n",
       "  {33, 53},\n",
       "  {43, 53},\n",
       "  {14, 54},\n",
       "  {24, 54},\n",
       "  {34, 54},\n",
       "  {44, 54},\n",
       "  {35, 55},\n",
       "  {45, 55},\n",
       "  {46, 56},\n",
       "  {37, 57},\n",
       "  {47, 57},\n",
       "  {28, 58},\n",
       "  {38, 58},\n",
       "  {48, 58},\n",
       "  {29, 59},\n",
       "  {39, 59},\n",
       "  {49, 59},\n",
       "  {10, 60},\n",
       "  {20, 60},\n",
       "  {30, 60},\n",
       "  {40, 60},\n",
       "  {50, 60},\n",
       "  {21, 61},\n",
       "  {31, 61},\n",
       "  {41, 61},\n",
       "  {51, 61},\n",
       "  {32, 62},\n",
       "  {42, 62},\n",
       "  {52, 62},\n",
       "  {13, 63},\n",
       "  {23, 63},\n",
       "  {33, 63},\n",
       "  {43, 63},\n",
       "  {53, 63},\n",
       "  {14, 64},\n",
       "  {24, 64},\n",
       "  {34, 64},\n",
       "  {44, 64},\n",
       "  {54, 64},\n",
       "  {35, 65},\n",
       "  {45, 65},\n",
       "  {55, 65},\n",
       "  {46, 66},\n",
       "  {56, 66},\n",
       "  {47, 67},\n",
       "  {57, 67},\n",
       "  {28, 68},\n",
       "  {38, 68},\n",
       "  {48, 68},\n",
       "  {58, 68},\n",
       "  {29, 69},\n",
       "  {39, 69},\n",
       "  {49, 69},\n",
       "  {59, 69}],\n",
       " [{10, 20, 30, 40, 50, 60},\n",
       "  {11, 21, 31, 41, 51, 61},\n",
       "  {12, 22, 32, 42, 52, 62},\n",
       "  {13, 23, 33, 43, 53, 63},\n",
       "  {14, 24, 34, 44, 54, 64},\n",
       "  {15, 25, 35, 45, 55, 65},\n",
       "  {18, 28, 38, 48, 58, 68},\n",
       "  {19, 29, 39, 49, 59, 69},\n",
       "  {27, 37, 47, 57, 67},\n",
       "  {36, 46, 56, 66}],\n",
       " {0, 1, 2, 3, 4, 5, 6, 7, 8, 9, 16, 17, 26})"
      ]
     },
     "execution_count": 71,
     "metadata": {},
     "output_type": "execute_result"
    }
   ],
   "source": [
    "df = df0.where('w1_Mtotal > 0').where('w2_Mtotal > 0').where('w4_Mtotal > 0') \\\n",
    "    .where('w6_Mtotal > 0').where('w9_Mtotal > 0').where('w12_Mtotal > 0')\n",
    "cols_all_groups = [c  for g in field_groups[:7]  for c in g]\n",
    "\n",
    "corr_mat = get_corr_matrix(df, cols_all_groups)\n",
    "find_correlated_field_groups(corr_mat, cols_all_groups, corr_abs_threshold)"
   ]
  },
  {
   "cell_type": "code",
   "execution_count": 72,
   "metadata": {},
   "outputs": [
    {
     "data": {
      "text/plain": [
       "['days_since_init_regist',\n",
       " 'gaps_count',\n",
       " 'last_plan_days',\n",
       " 'last_discount',\n",
       " 'last_paid_per_day',\n",
       " 'auto_renew_cnt_uniq',\n",
       " 'discount_mode',\n",
       " 'pay_method_cnt_uniq',\n",
       " 'plan_days_cnt_uniq',\n",
       " 'discount_per_sub_day',\n",
       " 'w1_M75_D_Mtotal',\n",
       " 'w1_M985_D_Mtotal',\n",
       " 'w2_M75_D_Mtotal',\n",
       " 'last4WeekOnLine',\n",
       " 'w4_M25',\n",
       " 'w4_M75',\n",
       " 'w4_M985',\n",
       " 'w4_Mtotal',\n",
       " 'w4_M50_D_Mtotal',\n",
       " 'w4_M100_D_Mtotal',\n",
       " 'w4_Munq_D_Mtotal',\n",
       " 'w4_M985_D_Mtotal',\n",
       " 'w4_M75_D_Mtotal']"
      ]
     },
     "execution_count": 72,
     "metadata": {},
     "output_type": "execute_result"
    }
   ],
   "source": [
    "# selected fields:\n",
    "fields_selected = [cols_all_groups[i] for i in [0, 1, 2, 3, 4, 5, 6, 7, 8, 9, \n",
    "                                                16, 17, 26,\n",
    "                                                30, 31, 32, 33, 34, 35, 38, 39, 37, 36]]\n",
    "fields_selected"
   ]
  },
  {
   "cell_type": "code",
   "execution_count": 74,
   "metadata": {},
   "outputs": [
    {
     "data": {
      "text/plain": [
       "23"
      ]
     },
     "execution_count": 74,
     "metadata": {},
     "output_type": "execute_result"
    }
   ],
   "source": [
    "len(fields_selected)"
   ]
  },
  {
   "cell_type": "code",
   "execution_count": 75,
   "metadata": {},
   "outputs": [
    {
     "data": {
      "image/png": "[encoded data removed]",
      "text/plain": [
       "<Figure size 720x576 with 2 Axes>"
      ]
     },
     "metadata": {},
     "output_type": "display_data"
    }
   ],
   "source": [
    "import matplotlib.pyplot as plt\n",
    "\n",
    "corr_mat = get_corr_matrix(df, fields_selected)\n",
    "\n",
    "fig, ax = plt.subplots()\n",
    "plot_correlation_heatmap(corr_mat, fields_selected, ax)\n",
    "fig.set_size_inches(10,8)\n",
    "plt.show()\n",
    "\n",
    "# corr. matrix of final selected fields:"
   ]
  },
  {
   "cell_type": "markdown",
   "metadata": {},
   "source": [
    "# actual select and output"
   ]
  },
  {
   "cell_type": "code",
   "execution_count": 77,
   "metadata": {},
   "outputs": [],
   "source": [
    "# read file\n",
    "dir0 =  '/home/cloudera/2.kkbox_churn/data01/big_table_01/has_expired/'\n",
    "# infile = dir0 + '19a.train_set'\n",
    "infile = dir0 + '19b.test_set'\n",
    "\n",
    "df = spark.read.format('parquet').load(infile)\n",
    "\n",
    "# select field\n",
    "df = df.select(categ_cols+fields_selected)\n",
    "\n",
    "# output\n",
    "# outfile = dir0 + '20a.train.field-select_correlation-0.7'\n",
    "outfile = dir0 + '20b.test.field-select_correlation-0.7'\n",
    "df.write.format('parquet').save(outfile)"
   ]
  },
  {
   "cell_type": "code",
   "execution_count": null,
   "metadata": {},
   "outputs": [],
   "source": []
  }
 ],
 "metadata": {
  "kernelspec": {
   "display_name": "Python 3",
   "language": "python",
   "name": "python3"
  },
  "language_info": {
   "codemirror_mode": {
    "name": "ipython",
    "version": 3
   },
   "file_extension": ".py",
   "mimetype": "text/x-python",
   "name": "python",
   "nbconvert_exporter": "python",
   "pygments_lexer": "ipython3",
   "version": "3.6.6"
  },
  "toc": {
   "base_numbering": 1,
   "nav_menu": {},
   "number_sections": true,
   "sideBar": true,
   "skip_h1_title": false,
   "title_cell": "Table of Contents",
   "title_sidebar": "Contents",
   "toc_cell": false,
   "toc_position": {
    "height": "calc(100% - 180px)",
    "left": "10px",
    "top": "150px",
    "width": "262.383px"
   },
   "toc_section_display": true,
   "toc_window_display": true
  }
 },
 "nbformat": 4,
 "nbformat_minor": 2
}
