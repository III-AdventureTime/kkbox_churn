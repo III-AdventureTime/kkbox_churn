{
 "cells": [
  {
   "cell_type": "code",
   "execution_count": 1,
   "metadata": {},
   "outputs": [
    {
     "data": {
      "text/html": [
       "\n",
       "            <div>\n",
       "                <p><b>SparkSession - hive</b></p>\n",
       "                \n",
       "        <div>\n",
       "            <p><b>SparkContext</b></p>\n",
       "\n",
       "            <p><a href=\"http://10.120.27.99:4041\">Spark UI</a></p>\n",
       "\n",
       "            <dl>\n",
       "              <dt>Version</dt>\n",
       "                <dd><code>v2.2.1</code></dd>\n",
       "              <dt>Master</dt>\n",
       "                <dd><code>local[*]</code></dd>\n",
       "              <dt>AppName</dt>\n",
       "                <dd><code>PySparkShell</code></dd>\n",
       "            </dl>\n",
       "        </div>\n",
       "        \n",
       "            </div>\n",
       "        "
      ],
      "text/plain": [
       "<pyspark.sql.session.SparkSession at 0x7f79483b82e8>"
      ]
     },
     "execution_count": 1,
     "metadata": {},
     "output_type": "execute_result"
    }
   ],
   "source": [
    "spark"
   ]
  },
  {
   "cell_type": "code",
   "execution_count": 60,
   "metadata": {},
   "outputs": [],
   "source": [
    "dir0 = '/home/cloudera/2.kkbox_churn/data01/big_table_01/has_expired/'\n",
    "# infile = dir0 + '20a.train.field-select_correlation-0.7'\n",
    "infile = dir0 + '20b.test.field-select_correlation-0.7'\n",
    "\n",
    "df0 = spark.read.format('parquet').load(infile)"
   ]
  },
  {
   "cell_type": "code",
   "execution_count": 61,
   "metadata": {
    "scrolled": true
   },
   "outputs": [
    {
     "data": {
      "text/plain": [
       "[('msno', 'string'),\n",
       " ('city', 'string'),\n",
       " ('gender', 'string'),\n",
       " ('registered_via', 'string'),\n",
       " ('init_date', 'string'),\n",
       " ('final_date', 'string'),\n",
       " ('has_long_gap', 'boolean'),\n",
       " ('has_expired', 'boolean'),\n",
       " ('last_pay_method', 'string'),\n",
       " ('auto_renew_mode', 'boolean'),\n",
       " ('pay_method_mode', 'string'),\n",
       " ('my_is_churn', 'boolean'),\n",
       " ('is_churn', 'boolean'),\n",
       " ('days_since_init_regist', 'int'),\n",
       " ('gaps_count', 'int'),\n",
       " ('last_plan_days', 'int'),\n",
       " ('last_discount', 'int'),\n",
       " ('last_paid_per_day', 'double'),\n",
       " ('auto_renew_cnt_uniq', 'int'),\n",
       " ('discount_mode', 'int'),\n",
       " ('pay_method_cnt_uniq', 'int'),\n",
       " ('plan_days_cnt_uniq', 'int'),\n",
       " ('discount_per_sub_day', 'double'),\n",
       " ('w1_M75_D_Mtotal', 'double'),\n",
       " ('w1_M985_D_Mtotal', 'double'),\n",
       " ('w2_M75_D_Mtotal', 'double'),\n",
       " ('last4WeekOnLine', 'int'),\n",
       " ('w4_M25', 'int'),\n",
       " ('w4_M75', 'int'),\n",
       " ('w4_M985', 'int'),\n",
       " ('w4_Mtotal', 'int'),\n",
       " ('w4_M50_D_Mtotal', 'double'),\n",
       " ('w4_M100_D_Mtotal', 'double'),\n",
       " ('w4_Munq_D_Mtotal', 'double'),\n",
       " ('w4_M985_D_Mtotal', 'double'),\n",
       " ('w4_M75_D_Mtotal', 'double')]"
      ]
     },
     "execution_count": 61,
     "metadata": {},
     "output_type": "execute_result"
    }
   ],
   "source": [
    "df0.dtypes"
   ]
  },
  {
   "cell_type": "code",
   "execution_count": 62,
   "metadata": {},
   "outputs": [
    {
     "data": {
      "text/plain": [
       "['msno',\n",
       " 'city',\n",
       " 'gender',\n",
       " 'registered_via',\n",
       " 'init_date',\n",
       " 'final_date',\n",
       " 'has_long_gap',\n",
       " 'has_expired',\n",
       " 'last_pay_method',\n",
       " 'auto_renew_mode',\n",
       " 'pay_method_mode',\n",
       " 'my_is_churn',\n",
       " 'is_churn']"
      ]
     },
     "execution_count": 62,
     "metadata": {},
     "output_type": "execute_result"
    }
   ],
   "source": [
    "cols_categorical = [p[0]  for p in df0.dtypes  if p[1] in ['string', 'boolean']]\n",
    "cols_categorical"
   ]
  },
  {
   "cell_type": "code",
   "execution_count": 63,
   "metadata": {},
   "outputs": [],
   "source": [
    "cols_categ_select = [\n",
    "#     'msno',\n",
    "    'city',\n",
    "#     'gender',\n",
    "    'registered_via',\n",
    "#     'init_date',\n",
    "#     'final_date',\n",
    "    'has_long_gap',\n",
    "    'has_expired',\n",
    "    'last_pay_method',\n",
    "    'auto_renew_mode',\n",
    "    'pay_method_mode',\n",
    "    'my_is_churn',\n",
    "    'is_churn'\n",
    "]"
   ]
  },
  {
   "cell_type": "code",
   "execution_count": 64,
   "metadata": {},
   "outputs": [],
   "source": [
    "import pandas as pd\n",
    "import matplotlib.pyplot as plt\n",
    "import math\n",
    "\n",
    "def plot_categorical_value_counts(df, cols, nFigCols):\n",
    "    ''' Return fig '''\n",
    "    nFigRows = int(math.ceil(len(cols)/nFigCols))\n",
    "    fig = plt.figure()\n",
    "    for i in range(len(cols)):\n",
    "        ax = fig.add_subplot(nFigRows, nFigCols, i+1)\n",
    "\n",
    "        values = pd.Series(df0.rdd.map(lambda row: row[cols[i]]).collect())\n",
    "        value_freqs = values.value_counts().sort_index()\n",
    "\n",
    "        value_freqs.plot.bar(ax=ax, color='#0070c0')\n",
    "        ax.set(title=cols[i], ylabel='count')\n",
    "\n",
    "        fig.subplots_adjust(wspace=0.3, hspace=0.55)\n",
    "    return fig"
   ]
  },
  {
   "cell_type": "code",
   "execution_count": 65,
   "metadata": {},
   "outputs": [
    {
     "data": {
      "image/png": "[encoded data removed]",
      "text/plain": [
       "<Figure size 864x864 with 9 Axes>"
      ]
     },
     "metadata": {},
     "output_type": "display_data"
    }
   ],
   "source": [
    "fig = plot_categorical_value_counts(df0, cols_categ_select, 2)\n",
    "fig.set_size_inches(12, 12)\n",
    "plt.show()"
   ]
  },
  {
   "cell_type": "code",
   "execution_count": 66,
   "metadata": {},
   "outputs": [],
   "source": [
    "cols_categ_select = [\n",
    "#     'msno',\n",
    "    'city',\n",
    "#     'gender',\n",
    "    'registered_via',\n",
    "#     'init_date',\n",
    "#     'final_date',\n",
    "#     'has_long_gap',  # all False\n",
    "#     'has_expired',   # all True\n",
    "    'last_pay_method',\n",
    "    'auto_renew_mode',\n",
    "    'pay_method_mode',\n",
    "    'my_is_churn',\n",
    "    'is_churn'\n",
    "]"
   ]
  },
  {
   "cell_type": "markdown",
   "metadata": {},
   "source": [
    "# transform"
   ]
  },
  {
   "cell_type": "code",
   "execution_count": 67,
   "metadata": {},
   "outputs": [],
   "source": [
    "# city\n",
    "from pyspark.sql.functions import udf\n",
    "from pyspark.sql.types import StringType\n",
    "\n",
    "def group_cities(city):\n",
    "    if '10' <= city <= '12':\n",
    "        return '10-12'\n",
    "    elif '16' <= city <= '21':\n",
    "        return '16-21'\n",
    "    elif city == '3' or '7' <= city <= '9':\n",
    "        return '03/07-09'\n",
    "    else :\n",
    "        return city.zfill(2)\n",
    "\n",
    "udf_group_cities = udf(group_cities, StringType())    \n",
    "\n",
    "df0 = df0.withColumnRenamed('city', 'city_orig') \\\n",
    "      .withColumn('city', udf_group_cities('city_orig')) \\\n",
    "      .drop('city_orig')"
   ]
  },
  {
   "cell_type": "code",
   "execution_count": 68,
   "metadata": {},
   "outputs": [],
   "source": [
    "# last_pay_method\n",
    "from pyspark.sql.functions import udf\n",
    "from pyspark.sql.types import StringType\n",
    "\n",
    "def group_pay_method(pay_method):\n",
    "    if pay_method in ['20','22','29','32','36','38','39','40','41']:\n",
    "        return pay_method\n",
    "    else:\n",
    "        return 'other'\n",
    "\n",
    "udf_group_pay_method = udf(group_pay_method, StringType())    \n",
    "\n",
    "df0 = df0.withColumnRenamed('last_pay_method', 'last_pay_method_orig') \\\n",
    "      .withColumn('last_pay_method', udf_group_pay_method('last_pay_method_orig')) \\\n",
    "      .drop('last_pay_method_orig')"
   ]
  },
  {
   "cell_type": "code",
   "execution_count": 69,
   "metadata": {},
   "outputs": [],
   "source": [
    "# pay_method_mode\n",
    "df0 = df0.withColumnRenamed('pay_method_mode', 'pay_method_mode_orig') \\\n",
    "      .withColumn('pay_method_mode', udf_group_pay_method('pay_method_mode_orig')) \\\n",
    "      .drop('pay_method_mode_orig')"
   ]
  },
  {
   "cell_type": "code",
   "execution_count": 70,
   "metadata": {},
   "outputs": [
    {
     "data": {
      "image/png": "[encoded data removed]",
      "text/plain": [
       "<Figure size 864x864 with 7 Axes>"
      ]
     },
     "metadata": {},
     "output_type": "display_data"
    }
   ],
   "source": [
    "fig = plot_categorical_value_counts(df0, cols_categ_select, 2)\n",
    "fig.set_size_inches(12, 8)\n",
    "fig.subplots_adjust(hspace=0.6)\n",
    "fig.set_size_inches(12, 12)\n",
    "plt.show()"
   ]
  },
  {
   "cell_type": "markdown",
   "metadata": {},
   "source": [
    "# select"
   ]
  },
  {
   "cell_type": "code",
   "execution_count": 71,
   "metadata": {},
   "outputs": [
    {
     "name": "stdout",
     "output_type": "stream",
     "text": [
      "+--------+--------------+---------------+---------------+---------------+-----------+--------+\n",
      "|    city|registered_via|last_pay_method|auto_renew_mode|pay_method_mode|my_is_churn|is_churn|\n",
      "+--------+--------------+---------------+---------------+---------------+-----------+--------+\n",
      "|      04|             9|             38|          false|             38|      false|   false|\n",
      "|      01|             7|             41|           true|             41|      false|   false|\n",
      "|      01|             4|             36|          false|             36|       true|    true|\n",
      "|      15|             3|          other|           true|          other|       true|    true|\n",
      "|      01|             7|             41|           true|             41|      false|   false|\n",
      "|      01|             3|             38|          false|             38|       true|    true|\n",
      "|03/07-09|             7|             41|           true|             41|       true|    true|\n",
      "|      01|             4|             36|          false|             36|       true|    true|\n",
      "|      01|             7|             41|           true|             41|      false|   false|\n",
      "|      13|             3|             38|          false|             38|       true|    true|\n",
      "+--------+--------------+---------------+---------------+---------------+-----------+--------+\n",
      "only showing top 10 rows\n",
      "\n"
     ]
    }
   ],
   "source": [
    "df0.select(cols_categ_select).show(10)"
   ]
  },
  {
   "cell_type": "code",
   "execution_count": 72,
   "metadata": {},
   "outputs": [
    {
     "name": "stdout",
     "output_type": "stream",
     "text": [
      "+-------------------------------+---+---+---+----+---+----+---+---+----+-----+\n",
      "|last_pay_method_pay_method_mode| 20| 22| 29|  32| 36|  38| 39| 40|  41|other|\n",
      "+-------------------------------+---+---+---+----+---+----+---+---+----+-----+\n",
      "|                             20|194|  0|  0|   0|  0|   0|  0|  0|   0|    0|\n",
      "|                             22|  0|174|  0|   0|  0|   0|  0|  0|   0|    0|\n",
      "|                             29|  0|  0|363|   2|  5|   8|  1|  2|   5|    5|\n",
      "|                             32|  0|  0|  0|1331|  0|   0|  0|  0|   0|    0|\n",
      "|                             36|  0|  1|  6|  18|883|  22|  5| 10|  13|    6|\n",
      "|                             38|  9|  2| 12|   4| 13|3444|  2|  6|   6|   10|\n",
      "|                             39|  0|  0|  0|   0|  0|   0|169|  0|   0|    0|\n",
      "|                             40|  0|  0|  0|   2|  1|   4|  0|465|   2|    0|\n",
      "|                             41|  0|  0|  0|   0|  0|   0|  0|  0|2685|    0|\n",
      "|                          other|  0|  2|  5|   0|  4|  52|  2|  4|   1|  629|\n",
      "+-------------------------------+---+---+---+----+---+----+---+---+----+-----+\n",
      "\n"
     ]
    }
   ],
   "source": [
    "df0.crosstab('last_pay_method', 'pay_method_mode') \\\n",
    "   .sort('last_pay_method_pay_method_mode').show()"
   ]
  },
  {
   "cell_type": "markdown",
   "metadata": {},
   "source": [
    "* last_pay_method and pay_method_mode are correlated"
   ]
  },
  {
   "cell_type": "code",
   "execution_count": 73,
   "metadata": {},
   "outputs": [
    {
     "name": "stdout",
     "output_type": "stream",
     "text": [
      "+------------------------------+---+----+---+----+----+\n",
      "|last_pay_method_registered_via| 13|   3|  4|   7|   9|\n",
      "+------------------------------+---+----+---+----+----+\n",
      "|                            40|  0| 128| 35|  24| 287|\n",
      "|                            22|  0|  46| 23|   3| 102|\n",
      "|                            32|  0| 280|109|  83| 859|\n",
      "|                            36|  0| 306|177|  65| 416|\n",
      "|                            39|  0|  59| 16|   5|  89|\n",
      "|                            20|  0|  71| 59|   4|  60|\n",
      "|                            38|  0|1152|769|  90|1497|\n",
      "|                            29|  0| 136|147|  17|  91|\n",
      "|                            41|  0|   0|  0|2678|   7|\n",
      "|                         other| 13| 178| 89|  19| 400|\n",
      "+------------------------------+---+----+---+----+----+\n",
      "\n"
     ]
    }
   ],
   "source": [
    "df0.crosstab('last_pay_method', 'registered_via').show()"
   ]
  },
  {
   "cell_type": "code",
   "execution_count": 74,
   "metadata": {},
   "outputs": [
    {
     "name": "stdout",
     "output_type": "stream",
     "text": [
      "+-------------------+---+---+---+----+---+\n",
      "|city_registered_via| 13|  3|  4|   7|  9|\n",
      "+-------------------+---+---+---+----+---+\n",
      "|           03/07-09|  0|120| 47|  51|162|\n",
      "|                 15|  0|197| 88|  70|338|\n",
      "|                 22|  0|199| 84|  40|328|\n",
      "|                 13|  0|401|139| 124|834|\n",
      "|                 05|  0|352|152|  99|527|\n",
      "|                 04|  0|233|123|  89|389|\n",
      "|              10-12|  0|139| 53|  47|206|\n",
      "|                 06|  1|119| 62|  25|217|\n",
      "|                 14|  0| 83| 27|  46|150|\n",
      "|              16-21|  0|101| 38|  35|120|\n",
      "|                 01| 12|412|611|2362|537|\n",
      "+-------------------+---+---+---+----+---+\n",
      "\n"
     ]
    }
   ],
   "source": [
    "df0.crosstab('city', 'registered_via').show()"
   ]
  },
  {
   "cell_type": "code",
   "execution_count": 75,
   "metadata": {
    "scrolled": true
   },
   "outputs": [
    {
     "name": "stdout",
     "output_type": "stream",
     "text": [
      "root\n",
      " |-- msno: string (nullable = true)\n",
      " |-- days_since_init_regist: integer (nullable = true)\n",
      " |-- gaps_count: integer (nullable = true)\n",
      " |-- last_plan_days: integer (nullable = true)\n",
      " |-- last_discount: integer (nullable = true)\n",
      " |-- last_paid_per_day: double (nullable = true)\n",
      " |-- auto_renew_cnt_uniq: integer (nullable = true)\n",
      " |-- discount_mode: integer (nullable = true)\n",
      " |-- pay_method_cnt_uniq: integer (nullable = true)\n",
      " |-- plan_days_cnt_uniq: integer (nullable = true)\n",
      " |-- discount_per_sub_day: double (nullable = true)\n",
      " |-- w1_M75_D_Mtotal: double (nullable = true)\n",
      " |-- w1_M985_D_Mtotal: double (nullable = true)\n",
      " |-- w2_M75_D_Mtotal: double (nullable = true)\n",
      " |-- last4WeekOnLine: integer (nullable = true)\n",
      " |-- w4_M25: integer (nullable = true)\n",
      " |-- w4_M75: integer (nullable = true)\n",
      " |-- w4_M985: integer (nullable = true)\n",
      " |-- w4_Mtotal: integer (nullable = true)\n",
      " |-- w4_M50_D_Mtotal: double (nullable = true)\n",
      " |-- w4_M100_D_Mtotal: double (nullable = true)\n",
      " |-- w4_Munq_D_Mtotal: double (nullable = true)\n",
      " |-- w4_M985_D_Mtotal: double (nullable = true)\n",
      " |-- w4_M75_D_Mtotal: double (nullable = true)\n",
      " |-- city: string (nullable = true)\n",
      " |-- registered_via: string (nullable = true)\n",
      " |-- auto_renew_mode: boolean (nullable = true)\n",
      " |-- pay_method_mode: string (nullable = true)\n",
      " |-- my_is_churn: boolean (nullable = true)\n",
      " |-- is_churn: boolean (nullable = true)\n",
      "\n"
     ]
    }
   ],
   "source": [
    "cols_categ_select = [\n",
    "#     'msno',\n",
    "    'city',\n",
    "#     'gender',\n",
    "    'registered_via',\n",
    "#     'init_date',\n",
    "#     'final_date',\n",
    "#     'has_long_gap',  # all False\n",
    "#     'has_expired',   # all True\n",
    "#     'last_pay_method',  # correlated with pay_method_mode\n",
    "    'auto_renew_mode',\n",
    "    'pay_method_mode',\n",
    "    'my_is_churn',\n",
    "    'is_churn'\n",
    "]\n",
    "\n",
    "if 'msno' in cols_categ_select:\n",
    "    cols_categ_select.remove('msno')\n",
    "if 'my_is_churn' not in cols_categ_select:\n",
    "    cols_categ_select.append('my_is_churn')\n",
    "if 'is_churn' not in cols_categ_select:\n",
    "    cols_categ_select.append('is_churn')\n",
    "cols = ['msno'] + [c  for c in df0.columns  if c not in cols_categorical] + cols_categ_select\n",
    "\n",
    "df1 = df0.select(cols)\n",
    "df1.printSchema()"
   ]
  },
  {
   "cell_type": "code",
   "execution_count": 76,
   "metadata": {},
   "outputs": [
    {
     "data": {
      "text/plain": [
       "27"
      ]
     },
     "execution_count": 76,
     "metadata": {},
     "output_type": "execute_result"
    }
   ],
   "source": [
    "len(df1.columns)-3"
   ]
  },
  {
   "cell_type": "code",
   "execution_count": 77,
   "metadata": {},
   "outputs": [],
   "source": [
    "# output\n",
    "# outfile = dir0 + '21a.train.field-select2_categ-transformed'\n",
    "outfile = dir0 + '21b.test.field-select2_categ-transformed'\n",
    "df1.coalesce(1).write.format('csv').option('header', 'true').save(outfile)"
   ]
  },
  {
   "cell_type": "code",
   "execution_count": null,
   "metadata": {
    "collapsed": true
   },
   "outputs": [],
   "source": []
  }
 ],
 "metadata": {
  "kernelspec": {
   "display_name": "Python 3",
   "language": "python",
   "name": "python3"
  },
  "language_info": {
   "codemirror_mode": {
    "name": "ipython",
    "version": 3
   },
   "file_extension": ".py",
   "mimetype": "text/x-python",
   "name": "python",
   "nbconvert_exporter": "python",
   "pygments_lexer": "ipython3",
   "version": "3.6.6"
  },
  "toc": {
   "base_numbering": 1,
   "nav_menu": {},
   "number_sections": true,
   "sideBar": true,
   "skip_h1_title": false,
   "title_cell": "Table of Contents",
   "title_sidebar": "Contents",
   "toc_cell": false,
   "toc_position": {},
   "toc_section_display": true,
   "toc_window_display": false
  }
 },
 "nbformat": 4,
 "nbformat_minor": 2
}
