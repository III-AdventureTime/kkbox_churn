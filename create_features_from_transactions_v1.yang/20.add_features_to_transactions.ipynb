{
 "cells": [
  {
   "cell_type": "code",
   "execution_count": 1,
   "metadata": {},
   "outputs": [
    {
     "data": {
      "text/html": [
       "\n",
       "            <div>\n",
       "                <p><b>SparkSession - hive</b></p>\n",
       "                \n",
       "        <div>\n",
       "            <p><b>SparkContext</b></p>\n",
       "\n",
       "            <p><a href=\"http://10.120.27.99:4040\">Spark UI</a></p>\n",
       "\n",
       "            <dl>\n",
       "              <dt>Version</dt>\n",
       "                <dd><code>v2.2.1</code></dd>\n",
       "              <dt>Master</dt>\n",
       "                <dd><code>local[*]</code></dd>\n",
       "              <dt>AppName</dt>\n",
       "                <dd><code>PySparkShell</code></dd>\n",
       "            </dl>\n",
       "        </div>\n",
       "        \n",
       "            </div>\n",
       "        "
      ],
      "text/plain": [
       "<pyspark.sql.session.SparkSession at 0x7fd8b4150240>"
      ]
     },
     "execution_count": 1,
     "metadata": {},
     "output_type": "execute_result"
    }
   ],
   "source": [
    "spark"
   ]
  },
  {
   "cell_type": "code",
   "execution_count": 24,
   "metadata": {},
   "outputs": [],
   "source": [
    "from pyspark.sql.functions import col, expr, round, when\n",
    "\n",
    "dir0 = 'file:///home/cloudera/2.kkbox_churn/data01/from_raw_transactions-v1/feature_creation/' \\\n",
    "       + '02a.problematic_members_excluded/'\n",
    "\n",
    "def read_and_select(file_flag):\n",
    "    global dir0\n",
    "    df = spark.read.format('csv').option('header','true').load(dir0 + file_flag) \\\n",
    "         .select('tid', 'msno', 'trans_date', 'pay_method', 'plan_days',\n",
    "                 'list_price', 'actual_paid',\n",
    "                 (col('list_price').cast('int') - col('actual_paid').cast('int')).alias('discount'),\n",
    "                 round(col('actual_paid').cast('int')/col('plan_days'), 3).alias('paid_per_day'),\n",
    "                 when(col('auto_renew')=='true', '1').otherwise('0').alias('auto_renew')\n",
    "                )\n",
    "    return df\n",
    "\n",
    "df0 = read_and_select('msno_a-n')\n",
    "df1 = read_and_select('msno_o-z')\n",
    "df2 = read_and_select('msno_A-N')\n",
    "df3 = read_and_select('msno_O-Z')\n",
    "df4 = read_and_select('msno_non-letter')\n",
    "\n",
    "df_all = df0.union(df1).union(df2).union(df3).union(df4)\n",
    "\n",
    "outfile = 'file:///home/cloudera/2.kkbox_churn/data01/from_raw_transactions-v1/feature_creation/' \\\n",
    "          + '02b.w_features_added'\n",
    "df_all.write.format('csv').option('header','true').save(outfile)"
   ]
  },
  {
   "cell_type": "code",
   "execution_count": null,
   "metadata": {},
   "outputs": [],
   "source": []
  }
 ],
 "metadata": {
  "kernelspec": {
   "display_name": "Python 3",
   "language": "python",
   "name": "python3"
  },
  "language_info": {
   "codemirror_mode": {
    "name": "ipython",
    "version": 3
   },
   "file_extension": ".py",
   "mimetype": "text/x-python",
   "name": "python",
   "nbconvert_exporter": "python",
   "pygments_lexer": "ipython3",
   "version": "3.6.6"
  },
  "toc": {
   "base_numbering": 1,
   "nav_menu": {},
   "number_sections": true,
   "sideBar": true,
   "skip_h1_title": false,
   "title_cell": "Table of Contents",
   "title_sidebar": "Contents",
   "toc_cell": false,
   "toc_position": {},
   "toc_section_display": true,
   "toc_window_display": false
  }
 },
 "nbformat": 4,
 "nbformat_minor": 2
}
