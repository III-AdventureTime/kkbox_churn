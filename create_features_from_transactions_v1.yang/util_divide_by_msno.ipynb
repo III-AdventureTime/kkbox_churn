{
 "cells": [
  {
   "cell_type": "code",
   "execution_count": 1,
   "metadata": {},
   "outputs": [
    {
     "data": {
      "text/html": [
       "\n",
       "            <div>\n",
       "                <p><b>SparkSession - hive</b></p>\n",
       "                \n",
       "        <div>\n",
       "            <p><b>SparkContext</b></p>\n",
       "\n",
       "            <p><a href=\"http://10.120.27.99:4040\">Spark UI</a></p>\n",
       "\n",
       "            <dl>\n",
       "              <dt>Version</dt>\n",
       "                <dd><code>v2.2.1</code></dd>\n",
       "              <dt>Master</dt>\n",
       "                <dd><code>local[*]</code></dd>\n",
       "              <dt>AppName</dt>\n",
       "                <dd><code>PySparkShell</code></dd>\n",
       "            </dl>\n",
       "        </div>\n",
       "        \n",
       "            </div>\n",
       "        "
      ],
      "text/plain": [
       "<pyspark.sql.session.SparkSession at 0x7f61a5253240>"
      ]
     },
     "execution_count": 1,
     "metadata": {},
     "output_type": "execute_result"
    }
   ],
   "source": [
    "spark"
   ]
  },
  {
   "cell_type": "code",
   "execution_count": 3,
   "metadata": {},
   "outputs": [],
   "source": [
    "### settings ###\n",
    "infile = '/home/cloudera/2.kkbox_churn/data01/from_raw_transactions-v1/feature_creation/02b.w_features_added'\n",
    "    # Input csv must have header and a column named 'msno'.\n",
    "    \n",
    "outdir = infile + '/'\n",
    "\n"
   ]
  },
  {
   "cell_type": "code",
   "execution_count": 13,
   "metadata": {},
   "outputs": [
    {
     "name": "stdout",
     "output_type": "stream",
     "text": [
      "N_all = 14681272\n",
      "check: True\n"
     ]
    }
   ],
   "source": [
    "from pyspark.sql.functions import col\n",
    "df_all = spark.read.format('csv').option('header', 'true').load(infile)\n",
    "N_all = df_all.count()\n",
    "print('N_all =', N_all)\n",
    "\n",
    "df1 = df_all.where(col('msno') >= 'A').where(col('msno') < 'O')\n",
    "df2 = df_all.where(col('msno') >= 'O').where(col('msno') < '[')\n",
    "df3 = df_all.where(col('msno') >= 'a').where(col('msno') < 'o')\n",
    "df4 = df_all.where(col('msno') >= 'o').where(col('msno') < '{')\n",
    "df5 = df_all.where((col('msno') < 'A') | (col('msno') >= '[')) \\\n",
    "            .where((col('msno') < 'a') | (col('msno') >= '{'))\n",
    "\n",
    "df1.persist()\n",
    "df1.write.format('csv').option('header','true').save(outdir+'msno_A-N')\n",
    "N1 = df1.count()\n",
    "df1.unpersist()\n",
    "\n",
    "df2.persist()\n",
    "df2.write.format('csv').option('header','true').save(outdir+'msno_O-Z')\n",
    "N2 = df2.count()\n",
    "df2.unpersist()\n",
    "\n",
    "df3.persist()\n",
    "df3.write.format('csv').option('header','true').save(outdir+'msno_a-n')\n",
    "N3 = df3.count()\n",
    "df3.unpersist()\n",
    "\n",
    "df4.persist()\n",
    "df4.write.format('csv').option('header','true').save(outdir+'msno_o-z')\n",
    "N4 = df4.count()\n",
    "df4.unpersist()\n",
    "\n",
    "df5.persist()\n",
    "df5.write.format('csv').option('header','true').save(outdir+'msno_non-letter')\n",
    "N5 = df5.count()\n",
    "df5.unpersist()\n",
    "\n",
    "print('check:', N1+N2+N3+N4+N5 == N_all)"
   ]
  },
  {
   "cell_type": "code",
   "execution_count": null,
   "metadata": {},
   "outputs": [],
   "source": []
  }
 ],
 "metadata": {
  "kernelspec": {
   "display_name": "Python 3",
   "language": "python",
   "name": "python3"
  },
  "language_info": {
   "codemirror_mode": {
    "name": "ipython",
    "version": 3
   },
   "file_extension": ".py",
   "mimetype": "text/x-python",
   "name": "python",
   "nbconvert_exporter": "python",
   "pygments_lexer": "ipython3",
   "version": "3.6.6"
  },
  "toc": {
   "base_numbering": 1,
   "nav_menu": {},
   "number_sections": true,
   "sideBar": true,
   "skip_h1_title": false,
   "title_cell": "Table of Contents",
   "title_sidebar": "Contents",
   "toc_cell": false,
   "toc_position": {},
   "toc_section_display": true,
   "toc_window_display": false
  }
 },
 "nbformat": 4,
 "nbformat_minor": 2
}
