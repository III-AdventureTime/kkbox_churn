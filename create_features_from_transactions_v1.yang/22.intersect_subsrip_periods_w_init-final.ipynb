{
 "cells": [
  {
   "cell_type": "code",
   "execution_count": 1,
   "metadata": {},
   "outputs": [
    {
     "data": {
      "text/html": [
       "\n",
       "            <div>\n",
       "                <p><b>SparkSession - hive</b></p>\n",
       "                \n",
       "        <div>\n",
       "            <p><b>SparkContext</b></p>\n",
       "\n",
       "            <p><a href=\"http://10.120.27.99:4040\">Spark UI</a></p>\n",
       "\n",
       "            <dl>\n",
       "              <dt>Version</dt>\n",
       "                <dd><code>v2.2.1</code></dd>\n",
       "              <dt>Master</dt>\n",
       "                <dd><code>local[*]</code></dd>\n",
       "              <dt>AppName</dt>\n",
       "                <dd><code>PySparkShell</code></dd>\n",
       "            </dl>\n",
       "        </div>\n",
       "        \n",
       "            </div>\n",
       "        "
      ],
      "text/plain": [
       "<pyspark.sql.session.SparkSession at 0x7ffa48521240>"
      ]
     },
     "execution_count": 1,
     "metadata": {},
     "output_type": "execute_result"
    }
   ],
   "source": [
    "spark"
   ]
  },
  {
   "cell_type": "code",
   "execution_count": 2,
   "metadata": {},
   "outputs": [],
   "source": [
    "dir0 = '/home/cloudera/2.kkbox_churn/data01/from_raw_transactions-v1/feature_creation/'\n",
    "infile_subscrip_periods = dir0 + '13.members-w-last-end-in-2017_ends-after-20161001'\n",
    "infile_init_final = dir0 + '20.init-final-et-gaps_for_each_member'\n",
    "\n"
   ]
  },
  {
   "cell_type": "markdown",
   "metadata": {},
   "source": [
    "## subscription periods"
   ]
  },
  {
   "cell_type": "code",
   "execution_count": 3,
   "metadata": {},
   "outputs": [
    {
     "name": "stdout",
     "output_type": "stream",
     "text": [
      "root\n",
      " |-- msno: string (nullable = true)\n",
      " |-- tid: string (nullable = true)\n",
      " |-- start_date: string (nullable = true)\n",
      " |-- end_date: string (nullable = true)\n",
      "\n"
     ]
    }
   ],
   "source": [
    "df_periods = spark.read.format('csv').option('header','true').load(infile_subscrip_periods)\n",
    "df_periods.printSchema()"
   ]
  },
  {
   "cell_type": "code",
   "execution_count": 4,
   "metadata": {},
   "outputs": [
    {
     "name": "stdout",
     "output_type": "stream",
     "text": [
      "+--------------------+------------+----------+----------+\n",
      "|                msno|         tid|start_date|  end_date|\n",
      "+--------------------+------------+----------+----------+\n",
      "|++oyL81blqseBfQMo...|111669204178|2016-09-02|2016-10-01|\n",
      "|++oyL81blqseBfQMo...|120259132531|2016-11-02|2016-12-01|\n",
      "|++oyL81blqseBfQMo...|137439351298|2016-10-03|2016-11-01|\n",
      "+--------------------+------------+----------+----------+\n",
      "only showing top 3 rows\n",
      "\n"
     ]
    }
   ],
   "source": [
    "df_periods.show(3)"
   ]
  },
  {
   "cell_type": "code",
   "execution_count": 5,
   "metadata": {},
   "outputs": [
    {
     "data": {
      "text/plain": [
       "[Row(msno='++4RuqBw0Ss6bQU4oMxaRlbBPoWzoEiIZaxPM04Y4+U=', subscrip_periods='85899821409_2016-10-15_2016-11-13/68720069836_2016-12-15_2017-01-13/761587_2017-02-13_2017-03-13/120259666476_2016-09-14_2016-10-13/60129699746_2016-11-14_2016-12-13/77310103266_2017-01-15_2017-02-13')]"
      ]
     },
     "execution_count": 5,
     "metadata": {},
     "output_type": "execute_result"
    }
   ],
   "source": [
    "from pyspark.sql.functions import col, concat_ws, collect_list\n",
    "df1 = df_periods.select('msno', concat_ws('_', 'tid', 'start_date', 'end_date').alias('period'))\n",
    "\n",
    "df_periods_memberwise = df1.groupBy('msno').agg(concat_ws('/', collect_list('period')).alias('subscrip_periods'))\n",
    "df_periods_memberwise.rdd.take(1)"
   ]
  },
  {
   "cell_type": "markdown",
   "metadata": {},
   "source": [
    "## range to be considered"
   ]
  },
  {
   "cell_type": "code",
   "execution_count": 6,
   "metadata": {},
   "outputs": [
    {
     "name": "stdout",
     "output_type": "stream",
     "text": [
      "root\n",
      " |-- msno_: string (nullable = true)\n",
      " |-- init_date: string (nullable = true)\n",
      " |-- final_date: string (nullable = true)\n",
      "\n"
     ]
    }
   ],
   "source": [
    "df_range = spark.read.format('csv').option('header','true').load(infile_init_final) \\\n",
    "           .drop('gaps') \\\n",
    "           .withColumnRenamed('msno', 'msno_')\n",
    "df_range.printSchema()"
   ]
  },
  {
   "cell_type": "code",
   "execution_count": 7,
   "metadata": {},
   "outputs": [
    {
     "name": "stdout",
     "output_type": "stream",
     "text": [
      "+--------------------+----------+----------+\n",
      "|               msno_| init_date|final_date|\n",
      "+--------------------+----------+----------+\n",
      "|++VRDCn5gLo3BcAdq...|2016-12-01|2017-02-28|\n",
      "|++cfKQHwGGB4zdPP1...|2016-12-01|2017-02-28|\n",
      "|++v7Q4BYjprrVuqZp...|2016-12-01|2017-02-28|\n",
      "+--------------------+----------+----------+\n",
      "only showing top 3 rows\n",
      "\n"
     ]
    }
   ],
   "source": [
    "df_range.show(3)"
   ]
  },
  {
   "cell_type": "code",
   "execution_count": 20,
   "metadata": {},
   "outputs": [
    {
     "data": {
      "text/plain": [
       "948512"
      ]
     },
     "execution_count": 20,
     "metadata": {},
     "output_type": "execute_result"
    }
   ],
   "source": [
    "df_range.count()"
   ]
  },
  {
   "cell_type": "markdown",
   "metadata": {},
   "source": [
    "##  joining"
   ]
  },
  {
   "cell_type": "code",
   "execution_count": 8,
   "metadata": {},
   "outputs": [
    {
     "name": "stdout",
     "output_type": "stream",
     "text": [
      "root\n",
      " |-- msno: string (nullable = true)\n",
      " |-- init_date: string (nullable = true)\n",
      " |-- final_date: string (nullable = true)\n",
      " |-- subscrip_periods: string (nullable = false)\n",
      "\n"
     ]
    }
   ],
   "source": [
    "df0 = df_range.join(df_periods_memberwise, df_range['msno_']==df_periods_memberwise['msno'], 'inner') \\\n",
    "     .drop('msno').withColumnRenamed('msno_', 'msno')\n",
    "df0.printSchema()"
   ]
  },
  {
   "cell_type": "code",
   "execution_count": 9,
   "metadata": {},
   "outputs": [],
   "source": [
    "# write to disk\n",
    "outfile1 = dir0 + 'temp'\n",
    "df0.write.format('csv').option('header','true').save(outfile1)"
   ]
  },
  {
   "cell_type": "code",
   "execution_count": 3,
   "metadata": {},
   "outputs": [
    {
     "name": "stdout",
     "output_type": "stream",
     "text": [
      "root\n",
      " |-- msno: string (nullable = true)\n",
      " |-- init_date: string (nullable = true)\n",
      " |-- final_date: string (nullable = true)\n",
      " |-- subscrip_periods: string (nullable = true)\n",
      "\n"
     ]
    }
   ],
   "source": [
    "# read from disk\n",
    "infile1 = dir0 + 'temp'\n",
    "df0 = spark.read.format('csv').option('header','true').load(infile1)\n",
    "df0.printSchema()"
   ]
  },
  {
   "cell_type": "code",
   "execution_count": 4,
   "metadata": {},
   "outputs": [
    {
     "data": {
      "text/plain": [
       "948512"
      ]
     },
     "execution_count": 4,
     "metadata": {},
     "output_type": "execute_result"
    }
   ],
   "source": [
    "df0.count()"
   ]
  },
  {
   "cell_type": "code",
   "execution_count": 4,
   "metadata": {},
   "outputs": [
    {
     "data": {
      "text/plain": [
       "[Row(msno='++VRDCn5gLo3BcAdq/KFqyn7wP/okNzGVU0yEZ4Ri9k=', init_date='2016-12-01', final_date='2017-02-28', subscrip_periods='17179888760_2016-09-04_2016-10-03/94489487715_2017-01-05_2017-02-03/85900042891_2016-10-05_2016-11-03/111669836797_2016-12-05_2017-01-03/146029549201_2016-11-04_2016-12-03/51540116595_2017-02-04_2017-03-03')]"
      ]
     },
     "execution_count": 4,
     "metadata": {},
     "output_type": "execute_result"
    }
   ],
   "source": [
    "df0.rdd.take(1)"
   ]
  },
  {
   "cell_type": "markdown",
   "metadata": {},
   "source": [
    "## intersect each period with [init, final]"
   ]
  },
  {
   "cell_type": "code",
   "execution_count": 16,
   "metadata": {},
   "outputs": [],
   "source": [
    "import datetime as DT\n",
    "\n",
    "def len_of_interval(i, f):\n",
    "    delta = DT.datetime.strptime(f, '%Y-%m-%d') - DT.datetime.strptime(i, '%Y-%m-%d')\n",
    "    return delta.days + 1\n",
    "    \n",
    "def len_of_intersection(i1, f1, i2, f2):\n",
    "    return len_of_interval(max(i1, i2), min(f1, f2))\n",
    "\n",
    "def intersect_periods(init_date_str, final_date_str, periods_str):\n",
    "    periods = [p.split('_')  for p in periods_str.split('/')]\n",
    "    \n",
    "    latest_start, latest_end = ('0000-00-00', '0000-00-00')\n",
    "    periods2 = []\n",
    "    for p in periods:\n",
    "        tid = p[0]; start = p[1]; end = p[2]\n",
    "        intersect_length = len_of_intersection(init_date_str, final_date_str, start, end)\n",
    "        if intersect_length > 0:\n",
    "            periods2.append([tid, start, end, intersect_length])\n",
    "            ##\n",
    "            if (end, start) > (latest_end, latest_start):\n",
    "                latest_end, latest_start = (end, start)\n",
    "            \n",
    "    result = []\n",
    "    for p in periods2:\n",
    "        is_latest = 1 if (p[1]==latest_start and p[2]==latest_end)  else 0\n",
    "        result.append([p[0], p[3], is_latest])\n",
    "    \n",
    "    return result\n",
    "\n",
    "\n",
    "#intersect_periods('2016-12-01', '2017-02-28', \n",
    "#                  '17179888760_2016-09-04_2016-10-03/94489487715_2017-01-05_2017-02-03/85900042891_2016-10-05_2016-11-03/111669836797_2016-12-05_2017-01-03/146029549201_2016-11-04_2016-12-03/51540116595_2017-02-04_2017-03-03')"
   ]
  },
  {
   "cell_type": "code",
   "execution_count": 18,
   "metadata": {
    "scrolled": false
   },
   "outputs": [
    {
     "name": "stdout",
     "output_type": "stream",
     "text": [
      "+--------------------+------------+------+---------+\n",
      "|                msno|         tid|length|is_latest|\n",
      "+--------------------+------------+------+---------+\n",
      "|++VRDCn5gLo3BcAdq...| 94489487715|    30|        0|\n",
      "|++VRDCn5gLo3BcAdq...|111669836797|    30|        0|\n",
      "|++VRDCn5gLo3BcAdq...|146029549201|     3|        0|\n",
      "|++VRDCn5gLo3BcAdq...| 51540116595|    25|        1|\n",
      "|++cfKQHwGGB4zdPP1...| 17180183272|    17|        0|\n",
      "|++cfKQHwGGB4zdPP1...|137439288614|    12|        1|\n",
      "|++cfKQHwGGB4zdPP1...|120259199484|    30|        0|\n",
      "|++cfKQHwGGB4zdPP1...| 51539653291|    30|        0|\n",
      "|++v7Q4BYjprrVuqZp...|120259440005|    30|        0|\n",
      "|++v7Q4BYjprrVuqZp...|137439153240|    30|        0|\n",
      "+--------------------+------------+------+---------+\n",
      "only showing top 10 rows\n",
      "\n"
     ]
    }
   ],
   "source": [
    "from pyspark.sql.functions import expr\n",
    "from pyspark.sql import Row\n",
    "\n",
    "def map_func(row):\n",
    "    tid_lengths = intersect_periods(row['init_date'], row['final_date'], row['subscrip_periods'])\n",
    "    return [Row(msno=row['msno'], tid=tl[0], length=tl[1], is_latest=tl[2])  for tl in tid_lengths]\n",
    "    \n",
    "df1 = df0.rdd.flatMap(map_func).toDF() \\\n",
    "      .select('msno', 'tid', 'length', 'is_latest')\n",
    "df1.show(10)"
   ]
  },
  {
   "cell_type": "code",
   "execution_count": 19,
   "metadata": {},
   "outputs": [],
   "source": [
    "# output\n",
    "outfile = dir0 + '21.subscrip-period_intersected_lengths'\n",
    "df1.write.format('csv').option('header','true').save(outfile)"
   ]
  },
  {
   "cell_type": "code",
   "execution_count": null,
   "metadata": {},
   "outputs": [],
   "source": []
  }
 ],
 "metadata": {
  "kernelspec": {
   "display_name": "Python 3",
   "language": "python",
   "name": "python3"
  },
  "language_info": {
   "codemirror_mode": {
    "name": "ipython",
    "version": 3
   },
   "file_extension": ".py",
   "mimetype": "text/x-python",
   "name": "python",
   "nbconvert_exporter": "python",
   "pygments_lexer": "ipython3",
   "version": "3.6.6"
  },
  "toc": {
   "base_numbering": 1,
   "nav_menu": {},
   "number_sections": true,
   "sideBar": true,
   "skip_h1_title": false,
   "title_cell": "Table of Contents",
   "title_sidebar": "Contents",
   "toc_cell": false,
   "toc_position": {},
   "toc_section_display": true,
   "toc_window_display": true
  }
 },
 "nbformat": 4,
 "nbformat_minor": 2
}
