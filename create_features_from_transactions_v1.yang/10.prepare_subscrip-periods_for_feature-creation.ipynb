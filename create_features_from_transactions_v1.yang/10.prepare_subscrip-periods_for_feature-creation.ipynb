{
 "cells": [
  {
   "cell_type": "code",
   "execution_count": 1,
   "metadata": {},
   "outputs": [
    {
     "data": {
      "text/html": [
       "\n",
       "            <div>\n",
       "                <p><b>SparkSession - hive</b></p>\n",
       "                \n",
       "        <div>\n",
       "            <p><b>SparkContext</b></p>\n",
       "\n",
       "            <p><a href=\"http://10.120.27.99:4040\">Spark UI</a></p>\n",
       "\n",
       "            <dl>\n",
       "              <dt>Version</dt>\n",
       "                <dd><code>v2.2.1</code></dd>\n",
       "              <dt>Master</dt>\n",
       "                <dd><code>local[*]</code></dd>\n",
       "              <dt>AppName</dt>\n",
       "                <dd><code>PySparkShell</code></dd>\n",
       "            </dl>\n",
       "        </div>\n",
       "        \n",
       "            </div>\n",
       "        "
      ],
      "text/plain": [
       "<pyspark.sql.session.SparkSession at 0x7f1d804b6240>"
      ]
     },
     "execution_count": 1,
     "metadata": {},
     "output_type": "execute_result"
    }
   ],
   "source": [
    "spark"
   ]
  },
  {
   "cell_type": "markdown",
   "metadata": {},
   "source": [
    "# join subscription periods data with train.csv"
   ]
  },
  {
   "cell_type": "code",
   "execution_count": 2,
   "metadata": {},
   "outputs": [
    {
     "name": "stdout",
     "output_type": "stream",
     "text": [
      "root\n",
      " |-- msno: string (nullable = true)\n",
      " |-- tid: string (nullable = true)\n",
      " |-- start_date: string (nullable = true)\n",
      " |-- end_date: string (nullable = true)\n",
      "\n"
     ]
    }
   ],
   "source": [
    "# read member subscription periods\n",
    "dir0 = 'file:///home/cloudera/2.kkbox_churn/data01/from_raw_transactions-v1/feature_creation/'\n",
    "infile = dir0 + '03.subscription_periods'\n",
    "\n",
    "df0 = spark.read.format('csv').option('header','true').load(infile)\n",
    "df0.printSchema()"
   ]
  },
  {
   "cell_type": "code",
   "execution_count": 3,
   "metadata": {},
   "outputs": [
    {
     "name": "stdout",
     "output_type": "stream",
     "text": [
      "+--------------------+------------+----------+----------+\n",
      "|                msno|         tid|start_date|  end_date|\n",
      "+--------------------+------------+----------+----------+\n",
      "|a+y7kt+stTydU2fG6...| 68719619252|2016-01-18|2016-02-16|\n",
      "|a+y7kt+stTydU2fG6...| 94490046943|2016-04-26|2016-11-06|\n",
      "|a+y7kt+stTydU2fG6...|      205287|2016-03-22|2016-04-20|\n",
      "|a+y7kt+stTydU2fG6...|154619153540|2016-02-19|2016-03-19|\n",
      "|a+y7kt+stTydU2fG6...|154619330779|2015-12-19|2016-01-17|\n",
      "+--------------------+------------+----------+----------+\n",
      "only showing top 5 rows\n",
      "\n"
     ]
    }
   ],
   "source": [
    "df0.show(5)"
   ]
  },
  {
   "cell_type": "code",
   "execution_count": 4,
   "metadata": {},
   "outputs": [
    {
     "data": {
      "text/plain": [
       "14074661"
      ]
     },
     "execution_count": 4,
     "metadata": {},
     "output_type": "execute_result"
    }
   ],
   "source": [
    "df0.count()"
   ]
  },
  {
   "cell_type": "code",
   "execution_count": 15,
   "metadata": {},
   "outputs": [
    {
     "name": "stdout",
     "output_type": "stream",
     "text": [
      "root\n",
      " |-- msno_: string (nullable = true)\n",
      " |-- is_churn: string (nullable = true)\n",
      "\n"
     ]
    }
   ],
   "source": [
    "# read train.csv\n",
    "infile = 'file:///home/cloudera/2.kkbox_churn/raw_data/train.csv'\n",
    "df_train = spark.read.format('csv').option('header','true').load(infile) \\\n",
    "           .withColumnRenamed('msno', 'msno_')\n",
    "\n",
    "df_train.printSchema()"
   ]
  },
  {
   "cell_type": "code",
   "execution_count": 17,
   "metadata": {},
   "outputs": [
    {
     "name": "stdout",
     "output_type": "stream",
     "text": [
      "root\n",
      " |-- msno: string (nullable = true)\n",
      " |-- tid: string (nullable = true)\n",
      " |-- start_date: string (nullable = true)\n",
      " |-- end_date: string (nullable = true)\n",
      "\n"
     ]
    }
   ],
   "source": [
    "# join\n",
    "df1 = df0.join(df_train, df0['msno']==df_train['msno_'], 'left_semi') \\\n",
    "\n",
    "df1.printSchema()"
   ]
  },
  {
   "cell_type": "code",
   "execution_count": 18,
   "metadata": {},
   "outputs": [],
   "source": [
    "# output\n",
    "outfile = 'file:///home/cloudera/2.kkbox_churn/data01/from_raw_transactions-v1/feature_creation/train-v1/' \\\n",
    "          + '00.join_w_train-v1'\n",
    "df1.write.format('csv').option('header', 'true').save(outfile)"
   ]
  },
  {
   "cell_type": "markdown",
   "metadata": {},
   "source": [
    "# remove members with indeterminate dates after 2016-10-01"
   ]
  },
  {
   "cell_type": "code",
   "execution_count": 3,
   "metadata": {},
   "outputs": [
    {
     "name": "stdout",
     "output_type": "stream",
     "text": [
      "root\n",
      " |-- msno: string (nullable = true)\n",
      " |-- tid: string (nullable = true)\n",
      " |-- start_date: string (nullable = true)\n",
      " |-- end_date: string (nullable = true)\n",
      "\n"
     ]
    }
   ],
   "source": [
    "infile = 'file:///home/cloudera/2.kkbox_churn/data01/from_raw_transactions-v1/feature_creation/train-v1/' \\\n",
    "          + '00.join_w_train-v1'\n",
    "df0 = spark.read.format('csv').option('header', 'true').load(infile)\n",
    "\n",
    "df0.printSchema()"
   ]
  },
  {
   "cell_type": "code",
   "execution_count": 4,
   "metadata": {},
   "outputs": [
    {
     "name": "stdout",
     "output_type": "stream",
     "text": [
      "+--------------------+-----------+----------+----------+\n",
      "|                msno|        tid|start_date|  end_date|\n",
      "+--------------------+-----------+----------+----------+\n",
      "|+/cL4huZiFBaGK1L8...|68720055399|2017-01-13|2017-02-11|\n",
      "|+/qMNBKquBhhNGFXx...|42950301900|2016-04-19|2016-05-18|\n",
      "|+/qMNBKquBhhNGFXx...|42950332288|2016-03-14|2016-04-12|\n",
      "|+/qMNBKquBhhNGFXx...|17180350476|2016-09-26|2016-10-25|\n",
      "|+/qMNBKquBhhNGFXx...|25769973191|2017-01-20|2017-02-18|\n",
      "+--------------------+-----------+----------+----------+\n",
      "only showing top 5 rows\n",
      "\n"
     ]
    }
   ],
   "source": [
    "df0.show(5)"
   ]
  },
  {
   "cell_type": "code",
   "execution_count": 15,
   "metadata": {},
   "outputs": [
    {
     "data": {
      "text/plain": [
       "982738"
      ]
     },
     "execution_count": 15,
     "metadata": {},
     "output_type": "execute_result"
    }
   ],
   "source": [
    "df0.groupBy('msno').count().count()\n",
    "\n",
    "# number of members"
   ]
  },
  {
   "cell_type": "code",
   "execution_count": null,
   "metadata": {},
   "outputs": [],
   "source": []
  },
  {
   "cell_type": "code",
   "execution_count": 21,
   "metadata": {},
   "outputs": [
    {
     "data": {
      "text/plain": [
       "75165"
      ]
     },
     "execution_count": 21,
     "metadata": {},
     "output_type": "execute_result"
    }
   ],
   "source": [
    "from pyspark.sql.functions import col\n",
    "df0.where(col('tid') == 'indeterm').groupBy('msno').count().count()\n",
    "\n",
    "# number of members with indeterminate periods:"
   ]
  },
  {
   "cell_type": "code",
   "execution_count": 22,
   "metadata": {},
   "outputs": [
    {
     "name": "stdout",
     "output_type": "stream",
     "text": [
      "+--------------------+--------+----------+----------+\n",
      "|                msno|     tid|start_date|  end_date|\n",
      "+--------------------+--------+----------+----------+\n",
      "|+4R20mT6lKwbCATc9...|indeterm|2016-04-16|2016-05-14|\n",
      "|+bP6pPqRBihraeu3X...|indeterm|2016-10-22|2016-11-20|\n",
      "|+k0ZetYc7RxKdDZkU...|indeterm|2016-02-20|2016-03-18|\n",
      "|+u+YLmXNpOemBT6MM...|indeterm|2016-02-27|2016-03-25|\n",
      "|/+29ci+SsCCLqtF4G...|indeterm|2015-11-17|2015-12-15|\n",
      "|/4qXx+zX39HJPoQSu...|indeterm|2016-05-10|2016-06-08|\n",
      "|/AXw250p2yAL47E1i...|indeterm|2016-03-03|2016-04-01|\n",
      "|/CjLSU6Ch8swdfmNP...|indeterm|2017-02-11|2017-03-12|\n",
      "|/cWgRAgN9Id6NSp1+...|indeterm|2016-02-15|2016-03-14|\n",
      "|/mYRQtb1K3fZHFMTY...|indeterm|2016-12-04|2017-01-02|\n",
      "+--------------------+--------+----------+----------+\n",
      "only showing top 10 rows\n",
      "\n"
     ]
    }
   ],
   "source": [
    "df0.where(col('tid') == 'indeterm').show(10)"
   ]
  },
  {
   "cell_type": "code",
   "execution_count": 24,
   "metadata": {},
   "outputs": [
    {
     "name": "stdout",
     "output_type": "stream",
     "text": [
      "+--------------------+--------+----------+----------+\n",
      "|                msno|     tid|start_date|  end_date|\n",
      "+--------------------+--------+----------+----------+\n",
      "|+bP6pPqRBihraeu3X...|indeterm|2016-10-22|2016-11-20|\n",
      "|/CjLSU6Ch8swdfmNP...|indeterm|2017-02-11|2017-03-12|\n",
      "|/mYRQtb1K3fZHFMTY...|indeterm|2016-12-04|2017-01-02|\n",
      "|/wM07qLyO7cwMUaWy...|indeterm|2017-01-26|2017-02-24|\n",
      "|0i7ymbzIoucqr1kPH...|indeterm|2016-12-04|2017-01-02|\n",
      "|0q8VIUHRRHJx+b6uZ...|indeterm|2017-03-01|2017-03-27|\n",
      "|0rIE22z5+CgZydo4a...|indeterm|2017-01-19|2017-02-17|\n",
      "|17UUnztZTmgkctgaq...|indeterm|2017-02-25|2017-03-23|\n",
      "|1CBwn13dbfQbSElCe...|indeterm|2016-11-28|2016-12-26|\n",
      "|25xGzZM7FSaV/PwYN...|indeterm|2016-11-13|2016-12-12|\n",
      "+--------------------+--------+----------+----------+\n",
      "only showing top 10 rows\n",
      "\n"
     ]
    }
   ],
   "source": [
    "df1 = df0.where(col('tid') == 'indeterm') \\\n",
    "         .where(col('end_date') >= '2016-10-01')\n",
    "\n",
    "df1.show(10)"
   ]
  },
  {
   "cell_type": "code",
   "execution_count": 27,
   "metadata": {},
   "outputs": [
    {
     "data": {
      "text/plain": [
       "31737"
      ]
     },
     "execution_count": 27,
     "metadata": {},
     "output_type": "execute_result"
    }
   ],
   "source": [
    "df2 = df1.groupBy('msno').count()\n",
    "\n",
    "df2.count()\n",
    "# number of memebers with indeterminate dates after 2016-10-01"
   ]
  },
  {
   "cell_type": "code",
   "execution_count": 28,
   "metadata": {},
   "outputs": [
    {
     "name": "stdout",
     "output_type": "stream",
     "text": [
      "+--------------------+-----+\n",
      "|                msno|count|\n",
      "+--------------------+-----+\n",
      "|+0l/WkoOIugT69NYa...|    1|\n",
      "|+2eLsQv6T46iKwO+m...|    1|\n",
      "+--------------------+-----+\n",
      "only showing top 2 rows\n",
      "\n"
     ]
    }
   ],
   "source": [
    "df2.show(2)"
   ]
  },
  {
   "cell_type": "code",
   "execution_count": null,
   "metadata": {},
   "outputs": [],
   "source": []
  },
  {
   "cell_type": "code",
   "execution_count": 31,
   "metadata": {},
   "outputs": [
    {
     "name": "stdout",
     "output_type": "stream",
     "text": [
      "root\n",
      " |-- msno: string (nullable = true)\n",
      " |-- tid: string (nullable = true)\n",
      " |-- start_date: string (nullable = true)\n",
      " |-- end_date: string (nullable = true)\n",
      "\n"
     ]
    }
   ],
   "source": [
    "# left anti-join\n",
    "df3 = df0.join(df2, df0['msno']==df2['msno'], 'left_anti')\n",
    "df3.printSchema()"
   ]
  },
  {
   "cell_type": "code",
   "execution_count": 32,
   "metadata": {},
   "outputs": [],
   "source": [
    "# output\n",
    "outfile = 'file:///home/cloudera/2.kkbox_churn/data01/from_raw_transactions-v1/feature_creation/train-v1/' \\\n",
    "          + '01.w-members-no-indeterm-after-2016-Oct'\n",
    "df3.write.format('csv').option('header','true').save(outfile)"
   ]
  },
  {
   "cell_type": "markdown",
   "metadata": {},
   "source": [
    "#  remove members with latest end_date < 2017-01-01"
   ]
  },
  {
   "cell_type": "code",
   "execution_count": 2,
   "metadata": {},
   "outputs": [
    {
     "name": "stdout",
     "output_type": "stream",
     "text": [
      "root\n",
      " |-- msno: string (nullable = true)\n",
      " |-- tid: string (nullable = true)\n",
      " |-- start_date: string (nullable = true)\n",
      " |-- end_date: string (nullable = true)\n",
      "\n"
     ]
    }
   ],
   "source": [
    "# read\n",
    "infile = 'file:///home/cloudera/2.kkbox_churn/data01/from_raw_transactions-v1/feature_creation/train-v1/' \\\n",
    "          + '01.w-members-no-indeterm-after-2016-Oct'\n",
    "df0 = spark.read.format('csv').option('header','true').load(infile)\n",
    "\n",
    "df0.printSchema()"
   ]
  },
  {
   "cell_type": "code",
   "execution_count": 5,
   "metadata": {},
   "outputs": [
    {
     "data": {
      "text/plain": [
       "11061697"
      ]
     },
     "execution_count": 5,
     "metadata": {},
     "output_type": "execute_result"
    }
   ],
   "source": [
    "df0.count()"
   ]
  },
  {
   "cell_type": "code",
   "execution_count": 7,
   "metadata": {},
   "outputs": [
    {
     "data": {
      "text/plain": [
       "951001"
      ]
     },
     "execution_count": 7,
     "metadata": {},
     "output_type": "execute_result"
    }
   ],
   "source": [
    "df0.groupBy('msno').count().count()"
   ]
  },
  {
   "cell_type": "code",
   "execution_count": 3,
   "metadata": {},
   "outputs": [
    {
     "name": "stdout",
     "output_type": "stream",
     "text": [
      "+--------------------+-----------+----------+----------+\n",
      "|                msno|        tid|start_date|  end_date|\n",
      "+--------------------+-----------+----------+----------+\n",
      "|+/cL4huZiFBaGK1L8...|68720055399|2017-01-13|2017-02-11|\n",
      "|+/qMNBKquBhhNGFXx...|42950301900|2016-04-19|2016-05-18|\n",
      "|+/qMNBKquBhhNGFXx...|42950332288|2016-03-14|2016-04-12|\n",
      "+--------------------+-----------+----------+----------+\n",
      "only showing top 3 rows\n",
      "\n"
     ]
    }
   ],
   "source": [
    "df0.show(3)"
   ]
  },
  {
   "cell_type": "code",
   "execution_count": 4,
   "metadata": {},
   "outputs": [
    {
     "name": "stdout",
     "output_type": "stream",
     "text": [
      "+--------------------+--------------+------------+\n",
      "|                msno|max_start_date|max_end_date|\n",
      "+--------------------+--------------+------------+\n",
      "|++4RuqBw0Ss6bQU4o...|    2017-02-13|  2017-03-13|\n",
      "|+/HS8LzrRGXolKbxR...|    2017-02-17|  2017-03-16|\n",
      "|+/namlXq+u3izRjHC...|    2017-03-02|  2017-03-31|\n",
      "|+0/X9tkmyHyet9X80...|    2017-03-02|  2017-03-31|\n",
      "|+09YGn842g6h2EZUX...|    2017-03-02|  2017-03-31|\n",
      "|+0RJtbyhoPAHPa+34...|    2016-01-15|  2017-02-27|\n",
      "|+0jTOa6KGPk1vtNTw...|    2017-02-02|  2017-03-03|\n",
      "|+0l+FDuhyjaZnu0AP...|    2017-02-24|  2017-03-23|\n",
      "|+2Df04hr61UUJijMM...|    2017-02-03|  2017-03-04|\n",
      "|+2oK/qWmYvAnfNZsV...|    2017-02-19|  2017-03-19|\n",
      "+--------------------+--------------+------------+\n",
      "only showing top 10 rows\n",
      "\n"
     ]
    }
   ],
   "source": [
    "from pyspark.sql.functions import col, max\n",
    "df1 = df0.groupBy('msno').agg(max('start_date').alias('max_start_date'), \n",
    "                              max('end_date').alias('max_end_date'))\n",
    "\n",
    "df1.show(10)"
   ]
  },
  {
   "cell_type": "code",
   "execution_count": 10,
   "metadata": {},
   "outputs": [
    {
     "data": {
      "text/plain": [
       "2489"
      ]
     },
     "execution_count": 10,
     "metadata": {},
     "output_type": "execute_result"
    }
   ],
   "source": [
    "df2 = df1.where(col('max_end_date') < '2017-01-01')\n",
    "df2.count()\n",
    "\n",
    "# number of members with latest end_date < 2017-01-01"
   ]
  },
  {
   "cell_type": "code",
   "execution_count": 11,
   "metadata": {},
   "outputs": [
    {
     "name": "stdout",
     "output_type": "stream",
     "text": [
      "+--------------------+--------------+------------+\n",
      "|                msno|max_start_date|max_end_date|\n",
      "+--------------------+--------------+------------+\n",
      "|+QaT3MJmiHMzJDclo...|    2016-01-07|  2016-02-01|\n",
      "|1+TE6mn7v3BLe7R0U...|    2016-03-19|  2016-03-25|\n",
      "|3CvlTvY/XJD3j1ZDm...|    2016-01-06|  2016-01-12|\n",
      "|8AxKPxTjFbtxA6aYW...|    2016-03-19|  2016-03-25|\n",
      "|8fop35qcweVLVyCfg...|    2016-11-28|  2016-12-04|\n",
      "|BzkJZYf3NkXqYWjW6...|    2016-03-11|  2016-04-09|\n",
      "|KV7GNLqeyhZJ0fJE2...|    2016-11-15|  2016-12-14|\n",
      "|LbkLV5Ceg1VuEyuiV...|    2016-05-02|  2016-05-31|\n",
      "|VFvvE/dS6tlzw53YW...|    2016-07-13|  2016-07-20|\n",
      "|VLXuKoDHSlp2ukEjj...|    2016-04-15|  2016-05-11|\n",
      "+--------------------+--------------+------------+\n",
      "only showing top 10 rows\n",
      "\n"
     ]
    }
   ],
   "source": [
    "df2.show(10)"
   ]
  },
  {
   "cell_type": "code",
   "execution_count": 13,
   "metadata": {},
   "outputs": [
    {
     "name": "stdout",
     "output_type": "stream",
     "text": [
      "root\n",
      " |-- msno: string (nullable = true)\n",
      " |-- tid: string (nullable = true)\n",
      " |-- start_date: string (nullable = true)\n",
      " |-- end_date: string (nullable = true)\n",
      "\n"
     ]
    }
   ],
   "source": [
    "# anti-join\n",
    "df3 = df0.join(df2, df0['msno']==df2['msno'], 'left_anti')\n",
    "df3.printSchema()"
   ]
  },
  {
   "cell_type": "code",
   "execution_count": 14,
   "metadata": {},
   "outputs": [],
   "source": [
    "# output\n",
    "outfile = 'file:///home/cloudera/2.kkbox_churn/data01/from_raw_transactions-v1/feature_creation/train-v1/' \\\n",
    "          + '02.w-members-latest-end-date-in-2017'\n",
    "df3.write.format('csv').option('header','true').save(outfile)"
   ]
  },
  {
   "cell_type": "markdown",
   "metadata": {},
   "source": [
    "# filer: end_date >= 2016-10-01"
   ]
  },
  {
   "cell_type": "code",
   "execution_count": 2,
   "metadata": {},
   "outputs": [
    {
     "name": "stdout",
     "output_type": "stream",
     "text": [
      "root\n",
      " |-- msno: string (nullable = true)\n",
      " |-- tid: string (nullable = true)\n",
      " |-- start_date: string (nullable = true)\n",
      " |-- end_date: string (nullable = true)\n",
      "\n"
     ]
    }
   ],
   "source": [
    "infile = 'file:///home/cloudera/2.kkbox_churn/data01/from_raw_transactions-v1/feature_creation/train-v1/' \\\n",
    "          + '02.w-members-latest-end-date-in-2017'\n",
    "df0 = spark.read.format('csv').option('header','true').load(infile)\n",
    "df0.printSchema()"
   ]
  },
  {
   "cell_type": "code",
   "execution_count": 3,
   "metadata": {},
   "outputs": [
    {
     "name": "stdout",
     "output_type": "stream",
     "text": [
      "11052785\n",
      "948512\n"
     ]
    }
   ],
   "source": [
    "print(df0.count())\n",
    "print(df0.groupBy('msno').count().count())"
   ]
  },
  {
   "cell_type": "code",
   "execution_count": 4,
   "metadata": {},
   "outputs": [],
   "source": [
    "from pyspark.sql.functions import col\n",
    "df1 = df0.where(col('end_date') >= '2016-10-01')"
   ]
  },
  {
   "cell_type": "code",
   "execution_count": 5,
   "metadata": {},
   "outputs": [
    {
     "name": "stdout",
     "output_type": "stream",
     "text": [
      "5119048\n",
      "948512\n"
     ]
    }
   ],
   "source": [
    "print(df1.count())\n",
    "print(df1.groupBy('msno').count().count())"
   ]
  },
  {
   "cell_type": "code",
   "execution_count": 6,
   "metadata": {},
   "outputs": [
    {
     "data": {
      "text/plain": [
       "0"
      ]
     },
     "execution_count": 6,
     "metadata": {},
     "output_type": "execute_result"
    }
   ],
   "source": [
    "# check\n",
    "df1.where(col('tid') == 'indeterm').count()  # should be 0"
   ]
  },
  {
   "cell_type": "code",
   "execution_count": 8,
   "metadata": {},
   "outputs": [],
   "source": [
    "# output\n",
    "outfile = 'file:///home/cloudera/2.kkbox_churn/data01/from_raw_transactions-v1/feature_creation/train-v1/' \\\n",
    "          + '03.members-w-last-end-in-2017_ends-after-20161001'\n",
    "df1.write.format('csv').option('header','true').save(outfile)"
   ]
  },
  {
   "cell_type": "code",
   "execution_count": null,
   "metadata": {},
   "outputs": [],
   "source": []
  }
 ],
 "metadata": {
  "kernelspec": {
   "display_name": "Python 3",
   "language": "python",
   "name": "python3"
  },
  "language_info": {
   "codemirror_mode": {
    "name": "ipython",
    "version": 3
   },
   "file_extension": ".py",
   "mimetype": "text/x-python",
   "name": "python",
   "nbconvert_exporter": "python",
   "pygments_lexer": "ipython3",
   "version": "3.6.6"
  },
  "toc": {
   "base_numbering": 1,
   "nav_menu": {},
   "number_sections": true,
   "sideBar": true,
   "skip_h1_title": false,
   "title_cell": "Table of Contents",
   "title_sidebar": "Contents",
   "toc_cell": false,
   "toc_position": {
    "height": "calc(100% - 180px)",
    "left": "10px",
    "top": "150px",
    "width": "361.8px"
   },
   "toc_section_display": true,
   "toc_window_display": true
  }
 },
 "nbformat": 4,
 "nbformat_minor": 2
}
