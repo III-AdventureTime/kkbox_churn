{
 "cells": [
  {
   "cell_type": "code",
   "execution_count": 1,
   "metadata": {},
   "outputs": [
    {
     "data": {
      "text/html": [
       "\n",
       "            <div>\n",
       "                <p><b>SparkSession - hive</b></p>\n",
       "                \n",
       "        <div>\n",
       "            <p><b>SparkContext</b></p>\n",
       "\n",
       "            <p><a href=\"http://10.120.27.99:4040\">Spark UI</a></p>\n",
       "\n",
       "            <dl>\n",
       "              <dt>Version</dt>\n",
       "                <dd><code>v2.2.1</code></dd>\n",
       "              <dt>Master</dt>\n",
       "                <dd><code>local[*]</code></dd>\n",
       "              <dt>AppName</dt>\n",
       "                <dd><code>PySparkShell</code></dd>\n",
       "            </dl>\n",
       "        </div>\n",
       "        \n",
       "            </div>\n",
       "        "
      ],
      "text/plain": [
       "<pyspark.sql.session.SparkSession at 0x7fd8fc3101d0>"
      ]
     },
     "execution_count": 1,
     "metadata": {},
     "output_type": "execute_result"
    }
   ],
   "source": [
    "spark"
   ]
  },
  {
   "cell_type": "code",
   "execution_count": 98,
   "metadata": {},
   "outputs": [],
   "source": [
    "dir0 = 'file:///home/cloudera/2.kkbox_churn/data01/from_raw_transactions-v1/2a.problematic_members_excluded/'\n",
    "file_flag = 'msno_a-n'"
   ]
  },
  {
   "cell_type": "code",
   "execution_count": 3,
   "metadata": {},
   "outputs": [
    {
     "name": "stdout",
     "output_type": "stream",
     "text": [
      "root\n",
      " |-- tid: string (nullable = true)\n",
      " |-- msno: string (nullable = true)\n",
      " |-- pay_method: string (nullable = true)\n",
      " |-- plan_days: string (nullable = true)\n",
      " |-- list_price: string (nullable = true)\n",
      " |-- actual_paid: string (nullable = true)\n",
      " |-- auto_renew: string (nullable = true)\n",
      " |-- is_cancel: string (nullable = true)\n",
      " |-- trans_date: string (nullable = true)\n",
      " |-- expire_date: string (nullable = true)\n",
      " |-- corr_exp_date: string (nullable = true)\n",
      " |-- corr_start_date: string (nullable = true)\n",
      "\n"
     ]
    }
   ],
   "source": [
    "infile = dir0 + file_flag\n",
    "df0 = spark.read.format('csv').option('header','true').load(infile)\n",
    "df0.printSchema()"
   ]
  },
  {
   "cell_type": "code",
   "execution_count": 10,
   "metadata": {},
   "outputs": [
    {
     "data": {
      "text/html": [
       "<div>\n",
       "<style scoped>\n",
       "    .dataframe tbody tr th:only-of-type {\n",
       "        vertical-align: middle;\n",
       "    }\n",
       "\n",
       "    .dataframe tbody tr th {\n",
       "        vertical-align: top;\n",
       "    }\n",
       "\n",
       "    .dataframe thead th {\n",
       "        text-align: right;\n",
       "    }\n",
       "</style>\n",
       "<table border=\"1\" class=\"dataframe\">\n",
       "  <thead>\n",
       "    <tr style=\"text-align: right;\">\n",
       "      <th></th>\n",
       "      <th>tid</th>\n",
       "      <th>msno</th>\n",
       "      <th>pay_method</th>\n",
       "      <th>plan_days</th>\n",
       "      <th>list_price</th>\n",
       "      <th>actual_paid</th>\n",
       "      <th>auto_renew</th>\n",
       "      <th>is_cancel</th>\n",
       "      <th>trans_date</th>\n",
       "      <th>expire_date</th>\n",
       "      <th>corr_exp_date</th>\n",
       "      <th>corr_start_date</th>\n",
       "    </tr>\n",
       "  </thead>\n",
       "  <tbody>\n",
       "    <tr>\n",
       "      <th>0</th>\n",
       "      <td>17179869188</td>\n",
       "      <td>eyxUoQJ7Jb3h2JRBm9P1+6agI2TrGBRWLwE9Fhu+oMg=</td>\n",
       "      <td>41</td>\n",
       "      <td>30</td>\n",
       "      <td>149</td>\n",
       "      <td>149</td>\n",
       "      <td>true</td>\n",
       "      <td>false</td>\n",
       "      <td>2017-01-31</td>\n",
       "      <td>2017-03-29</td>\n",
       "      <td>2017-03-29</td>\n",
       "      <td>2017-02-28</td>\n",
       "    </tr>\n",
       "    <tr>\n",
       "      <th>1</th>\n",
       "      <td>17179869193</td>\n",
       "      <td>dBYBzgvGgqYNI3q4SUV70joE9RPc/vStbbbLYO2nEEY=</td>\n",
       "      <td>40</td>\n",
       "      <td>30</td>\n",
       "      <td>149</td>\n",
       "      <td>149</td>\n",
       "      <td>true</td>\n",
       "      <td>false</td>\n",
       "      <td>2016-11-14</td>\n",
       "      <td>2016-12-16</td>\n",
       "      <td>2016-12-16</td>\n",
       "      <td>2016-11-17</td>\n",
       "    </tr>\n",
       "    <tr>\n",
       "      <th>2</th>\n",
       "      <td>17179869194</td>\n",
       "      <td>evstAjTz7qlRoRjzS8MEJciKm2dR6c5vB93IwG9BQ7I=</td>\n",
       "      <td>40</td>\n",
       "      <td>30</td>\n",
       "      <td>149</td>\n",
       "      <td>149</td>\n",
       "      <td>true</td>\n",
       "      <td>false</td>\n",
       "      <td>2016-09-10</td>\n",
       "      <td>2016-10-09</td>\n",
       "      <td>2016-10-09</td>\n",
       "      <td>2016-09-10</td>\n",
       "    </tr>\n",
       "    <tr>\n",
       "      <th>3</th>\n",
       "      <td>17179869196</td>\n",
       "      <td>aTeoZgUBG4R/Cq8ewJ+apYHDYqlmyMXeUGcPCBZCp2s=</td>\n",
       "      <td>41</td>\n",
       "      <td>30</td>\n",
       "      <td>129</td>\n",
       "      <td>129</td>\n",
       "      <td>true</td>\n",
       "      <td>false</td>\n",
       "      <td>2016-05-10</td>\n",
       "      <td>2016-06-10</td>\n",
       "      <td>2016-06-10</td>\n",
       "      <td>2016-05-12</td>\n",
       "    </tr>\n",
       "    <tr>\n",
       "      <th>4</th>\n",
       "      <td>17179869211</td>\n",
       "      <td>nBkJ6ORyG8iptHWFrP4/4e4AVkIWnVCklerE8JpQQK8=</td>\n",
       "      <td>39</td>\n",
       "      <td>30</td>\n",
       "      <td>149</td>\n",
       "      <td>149</td>\n",
       "      <td>true</td>\n",
       "      <td>false</td>\n",
       "      <td>2016-07-31</td>\n",
       "      <td>2016-09-20</td>\n",
       "      <td>2016-09-20</td>\n",
       "      <td>2016-08-22</td>\n",
       "    </tr>\n",
       "  </tbody>\n",
       "</table>\n",
       "</div>"
      ],
      "text/plain": [
       "           tid                                          msno pay_method  \\\n",
       "0  17179869188  eyxUoQJ7Jb3h2JRBm9P1+6agI2TrGBRWLwE9Fhu+oMg=         41   \n",
       "1  17179869193  dBYBzgvGgqYNI3q4SUV70joE9RPc/vStbbbLYO2nEEY=         40   \n",
       "2  17179869194  evstAjTz7qlRoRjzS8MEJciKm2dR6c5vB93IwG9BQ7I=         40   \n",
       "3  17179869196  aTeoZgUBG4R/Cq8ewJ+apYHDYqlmyMXeUGcPCBZCp2s=         41   \n",
       "4  17179869211  nBkJ6ORyG8iptHWFrP4/4e4AVkIWnVCklerE8JpQQK8=         39   \n",
       "\n",
       "  plan_days list_price actual_paid auto_renew is_cancel  trans_date  \\\n",
       "0        30        149         149       true     false  2017-01-31   \n",
       "1        30        149         149       true     false  2016-11-14   \n",
       "2        30        149         149       true     false  2016-09-10   \n",
       "3        30        129         129       true     false  2016-05-10   \n",
       "4        30        149         149       true     false  2016-07-31   \n",
       "\n",
       "  expire_date corr_exp_date corr_start_date  \n",
       "0  2017-03-29    2017-03-29      2017-02-28  \n",
       "1  2016-12-16    2016-12-16      2016-11-17  \n",
       "2  2016-10-09    2016-10-09      2016-09-10  \n",
       "3  2016-06-10    2016-06-10      2016-05-12  \n",
       "4  2016-09-20    2016-09-20      2016-08-22  "
      ]
     },
     "execution_count": 10,
     "metadata": {},
     "output_type": "execute_result"
    }
   ],
   "source": [
    "df0.limit(5).toPandas()"
   ]
  },
  {
   "cell_type": "code",
   "execution_count": 5,
   "metadata": {},
   "outputs": [
    {
     "name": "stdout",
     "output_type": "stream",
     "text": [
      "+-----------+--------------------+----------+---------+----------+-----------+----------+---------+----------+-----------+-------------+---------------+\n",
      "|        tid|                msno|pay_method|plan_days|list_price|actual_paid|auto_renew|is_cancel|trans_date|expire_date|corr_exp_date|corr_start_date|\n",
      "+-----------+--------------------+----------+---------+----------+-----------+----------+---------+----------+-----------+-------------+---------------+\n",
      "|17179869219|aRdKXBwEHOUprPT90...|        41|       30|       149|        149|      true|     true|2016-02-25| 2016-02-25|   2016-02-25|           null|\n",
      "+-----------+--------------------+----------+---------+----------+-----------+----------+---------+----------+-----------+-------------+---------------+\n",
      "only showing top 1 row\n",
      "\n"
     ]
    }
   ],
   "source": [
    "from pyspark.sql.functions import col\n",
    "df0.where(col('is_cancel') == 'true').show(1)"
   ]
  },
  {
   "cell_type": "markdown",
   "metadata": {},
   "source": [
    "# Collect Infos for Each Member "
   ]
  },
  {
   "cell_type": "code",
   "execution_count": 6,
   "metadata": {},
   "outputs": [
    {
     "name": "stdout",
     "output_type": "stream",
     "text": [
      "+--------------------+-----------+----------+---------+---------------+-------------+\n",
      "|                msno|        tid|trans_date|is_cancel|corr_start_date|corr_exp_date|\n",
      "+--------------------+-----------+----------+---------+---------------+-------------+\n",
      "|eyxUoQJ7Jb3h2JRBm...|17179869188|2017-01-31|    false|     2017-02-28|   2017-03-29|\n",
      "|dBYBzgvGgqYNI3q4S...|17179869193|2016-11-14|    false|     2016-11-17|   2016-12-16|\n",
      "|evstAjTz7qlRoRjzS...|17179869194|2016-09-10|    false|     2016-09-10|   2016-10-09|\n",
      "|aTeoZgUBG4R/Cq8ew...|17179869196|2016-05-10|    false|     2016-05-12|   2016-06-10|\n",
      "|nBkJ6ORyG8iptHWFr...|17179869211|2016-07-31|    false|     2016-08-22|   2016-09-20|\n",
      "+--------------------+-----------+----------+---------+---------------+-------------+\n",
      "only showing top 5 rows\n",
      "\n"
     ]
    }
   ],
   "source": [
    "columns = ('tid', 'trans_date', 'is_cancel', 'corr_start_date', 'corr_exp_date')\n",
    "df1 = df0.select('msno', *columns)\n",
    "df1.show(5)"
   ]
  },
  {
   "cell_type": "code",
   "execution_count": 14,
   "metadata": {},
   "outputs": [
    {
     "name": "stdout",
     "output_type": "stream",
     "text": [
      "+--------------------------------------------+--------------------------------------------------+\n",
      "|msno                                        |info                                              |\n",
      "+--------------------------------------------+--------------------------------------------------+\n",
      "|eyxUoQJ7Jb3h2JRBm9P1+6agI2TrGBRWLwE9Fhu+oMg=|17179869188/2017-01-31/false/2017-02-28/2017-03-29|\n",
      "|dBYBzgvGgqYNI3q4SUV70joE9RPc/vStbbbLYO2nEEY=|17179869193/2016-11-14/false/2016-11-17/2016-12-16|\n",
      "|evstAjTz7qlRoRjzS8MEJciKm2dR6c5vB93IwG9BQ7I=|17179869194/2016-09-10/false/2016-09-10/2016-10-09|\n",
      "|aTeoZgUBG4R/Cq8ewJ+apYHDYqlmyMXeUGcPCBZCp2s=|17179869196/2016-05-10/false/2016-05-12/2016-06-10|\n",
      "|nBkJ6ORyG8iptHWFrP4/4e4AVkIWnVCklerE8JpQQK8=|17179869211/2016-07-31/false/2016-08-22/2016-09-20|\n",
      "+--------------------------------------------+--------------------------------------------------+\n",
      "only showing top 5 rows\n",
      "\n"
     ]
    }
   ],
   "source": [
    "from pyspark.sql.functions import concat_ws\n",
    "df2 = df1.fillna('na', ['corr_start_date']) \\\n",
    "      .select('msno',\n",
    "              concat_ws('/', *columns).alias('info'))\n",
    "\n",
    "df2.show(5, truncate=False)"
   ]
  },
  {
   "cell_type": "code",
   "execution_count": 17,
   "metadata": {},
   "outputs": [
    {
     "name": "stdout",
     "output_type": "stream",
     "text": [
      "+--------------------+--------------------+\n",
      "|                msno|               infos|\n",
      "+--------------------+--------------------+\n",
      "|a+J+UfAgFv9t5OJtj...|25770307879/2016-...|\n",
      "+--------------------+--------------------+\n",
      "only showing top 1 row\n",
      "\n"
     ]
    }
   ],
   "source": [
    "from pyspark.sql.functions import concat_ws, collect_list\n",
    "df3 = df2.groupBy('msno').agg(concat_ws('|', collect_list('info')).alias('infos'))\n",
    "\n",
    "df3.show(1)"
   ]
  },
  {
   "cell_type": "code",
   "execution_count": 18,
   "metadata": {},
   "outputs": [],
   "source": [
    "# output (temp)\n",
    "outfile = dir0 + 'temp'\n",
    "df3.write.format('csv').option('header','true').save(outfile)"
   ]
  },
  {
   "cell_type": "markdown",
   "metadata": {},
   "source": [
    "# Reduce Transaction Records to Effective Subscriptions"
   ]
  },
  {
   "cell_type": "code",
   "execution_count": 85,
   "metadata": {},
   "outputs": [],
   "source": [
    "# input (temp)\n",
    "infile = dir0 + 'temp'\n",
    "df0 = spark.read.format('csv').option('header','true').load(infile)\n",
    "rdd0 = df0.rdd"
   ]
  },
  {
   "cell_type": "code",
   "execution_count": 7,
   "metadata": {},
   "outputs": [
    {
     "data": {
      "text/plain": [
       "[Row(msno='a+J6FfukEkxO6rwVx2waiL1m9XNLoEVydLw0z33G2Q0=', infos='25769987128/2016-10-31/false/2016-11-25/2016-12-24|25770444358/2015-12-02/false/2015-12-26/2016-01-24|68719763999/2016-01-31/false/2016-02-24/2016-03-24|103079869450/2016-08-31/false/2016-09-25/2016-10-24|120259379193/2016-12-31/false/2017-01-26/2017-02-24|111669210736/2017-01-31/false/2017-02-23/2017-03-24|128849651595/2015-11-02/false/2015-11-25/2015-12-24|137438996617/2016-09-30/false/2016-10-26/2016-11-24|17180500924/2016-07-31/false/2016-08-26/2016-09-24|34360074228/2016-11-30/false/2016-12-26/2017-01-24'),\n",
       " Row(msno='a+ldj/Z4NQLXp1dhKwcmdVvZpTz9T579jm+kcdD1IlQ=', infos='68719970166/2016-12-04/false/2016-12-05/2017-01-03|8589966754/2016-07-22/false/2016-07-23/2016-08-21|272310/2016-06-21/false/2016-06-23/2016-07-22|128849615257/2016-05-23/false/2016-05-24/2016-06-22|111669328183/2016-03-25/false/2016-03-26/2016-04-24|17180675772/2016-08-19/false/2016-08-22/2016-09-20'),\n",
       " Row(msno='a+vUjyTIKus85eXa/suo1jzFeIGE2rEBp1maqZetThE=', infos='42949875038/2016-07-16/false/2016-07-18/2016-08-16|51540112108/2016-08-16/false/2016-08-18/2016-09-16|94489289973/2016-04-16/false/2016-04-17/2016-05-16|8590543843/2016-09-16/false/2016-09-17/2016-10-16|94489855953/2017-02-16/false/2017-02-16/2017-03-16|185954/2016-02-16/false/2016-02-16/2016-03-16|128849401423/2017-01-16/false/2017-01-18/2017-02-16|111669442965/2015-11-16/false/2015-11-17/2015-12-16|146028890060/2016-01-16/false/2016-01-18/2016-02-16|111669796419/2016-11-16/false/2016-11-17/2016-12-16|146029548139/2016-06-16/false/2016-06-17/2016-07-16|137439125669/2016-05-16/false/2016-05-18/2016-06-16|34360084244/2016-12-16/false/2016-12-18/2017-01-16|85899825220/2015-12-16/false/2015-12-18/2016-01-16|85899912067/2016-03-16/false/2016-03-18/2016-04-16|85899918143/2016-10-16/false/2016-10-18/2016-11-16'),\n",
       " Row(msno='a+x4DuDA2/RARd4NxU5qDpTTBc5VnlHQ4FoWQC5r4Hw=', infos='51539718401/2016-05-05/false/2016-06-08/2016-07-07|51540051214/2016-07-05/false/2016-08-08/2016-09-06|51540124967/2016-09-05/false/2016-10-08/2016-11-06|51540369529/2016-01-24/false/2016-02-27/2016-03-27|8589999995/2016-11-05/false/2016-12-08/2017-01-06|94489594123/2016-02-06/true/na/2016-03-08|94490024042/2017-02-05/false/2017-02-05/2017-03-06|146029241083/2015-12-24/false/2016-01-27/2016-02-25|103079250926/2016-04-05/false/2016-05-08/2016-06-06|103079361450/2016-03-05/false/2016-04-08/2016-05-07|111669172613/2016-02-06/false/2016-03-08/2016-04-06|154619145884/2017-01-05/false/2017-01-08/2017-02-06|154619268354/2016-08-05/false/2016-09-08/2016-10-07|17180245295/2015-11-24/false/2015-12-27/2016-01-25|60129868029/2016-10-05/false/2016-11-08/2016-12-07|85899981601/2016-06-05/false/2016-07-08/2016-08-06')]"
      ]
     },
     "execution_count": 7,
     "metadata": {},
     "output_type": "execute_result"
    }
   ],
   "source": [
    "rdd0.take(4)"
   ]
  },
  {
   "cell_type": "code",
   "execution_count": 111,
   "metadata": {},
   "outputs": [],
   "source": [
    "import datetime as DT\n",
    "\n",
    "def add_one_day(date_str):\n",
    "    t = DT.datetime.strptime(date_str, '%Y-%m-%d') + DT.timedelta(days=1)\n",
    "    return t.strftime('%Y-%m-%d')\n",
    "\n",
    "\n",
    "def subtract_one_day(date_str):\n",
    "    t = DT.datetime.strptime(date_str, '%Y-%m-%d') - DT.timedelta(days=1)\n",
    "    return t.strftime('%Y-%m-%d')\n",
    "\n",
    "\n",
    "def find_indeterminate_period(tinfo1, tinfo2):\n",
    "    tinfo_cancel, tinfo_noncancel = (tinfo1, tinfo2)  if tinfo1[2] == 'true'  else (tinfo2, tinfo1)\n",
    "    dc = tinfo_cancel[4]\n",
    "    if dc >= tinfo_noncancel[4]:\n",
    "        return None\n",
    "    elif dc >= tinfo_noncancel[3]:\n",
    "        return (add_one_day(dc), tinfo_noncancel[4])\n",
    "    else: # dc < tinfo_noncancel[3]\n",
    "        return (tinfo_noncancel[3], tinfo_noncancel[4])\n",
    "\n",
    "    \n",
    "def reduce_subscription_periods(subscrip_periods, cut_date):\n",
    "    '''\n",
    "    cut all periods in `subscrip_periods` to before `cut_date`\n",
    "    '''\n",
    "    subscrip_periods_copy = subscrip_periods[:]\n",
    "    pre_cut_date = subtract_one_day(cut_date)\n",
    "    \n",
    "    for p in subscrip_periods_copy:\n",
    "        if cut_date <= p[1] :\n",
    "            subscrip_periods.remove(p)\n",
    "            \n",
    "    for i in range(0, len(subscrip_periods)):\n",
    "        p = subscrip_periods[i]\n",
    "        if cut_date <= p[2]:\n",
    "            subscrip_periods[i] = (p[0], p[1], pre_cut_date)\n",
    "            \n",
    "\n",
    "def has_no_cancel(tinfo_records):\n",
    "    r = True\n",
    "    for is_cancel in map(lambda info_rec: info_rec[2]=='true', tinfo_records):\n",
    "        if is_cancel:\n",
    "            r = False\n",
    "            break\n",
    "    return r\n",
    "\n",
    "\n",
    "def reduce_trans_infos(trans_infos_str):\n",
    "    '''\n",
    "    Deals with cancels.\n",
    "    Determines effective subscription periods.\n",
    "    Returns (subscription-periods, indeterminate-periods).\n",
    "    '''\n",
    "    trans_infos_strlist = trans_infos_str.split('|')\n",
    "    trans_infos = [s.split('/')  for s in trans_infos_strlist]\n",
    "        #\n",
    "        # trans_infos[trans-index][item-index]  \n",
    "        # item-index  --  0: tid;  1: transaction date;  2: is cancel;  \n",
    "        #                 3: start date;  4: end (expiration) date\n",
    "    \n",
    "    ##\n",
    "    if has_no_cancel(trans_infos):\n",
    "        subscrip_periods = [(tinfo[0], tinfo[3], tinfo[4])  for tinfo in trans_infos]\n",
    "        return (subscrip_periods, [])\n",
    "            \n",
    "    ## separate the transaction records by transaction dates having a cancel\n",
    "    ### get transaction dates having a cancel\n",
    "    trans_dates_w_cancel_s = set()\n",
    "    last_trans_date = '1970-01-01'\n",
    "    for tinfos in trans_infos:\n",
    "        if tinfos[2] == 'true':\n",
    "            trans_dates_w_cancel_s.add(tinfos[1])\n",
    "        if tinfos[1] > last_trans_date:\n",
    "            last_trans_date = tinfos[1]\n",
    "        \n",
    "    separating_dates = sorted(list(trans_dates_w_cancel_s)) + [last_trans_date]\n",
    "\n",
    "    ###\n",
    "    trans_info_groups = []\n",
    "    for sdate in separating_dates:\n",
    "        group = [tinfos  for tinfos in trans_infos  if tinfos[1] <= sdate]\n",
    "        if group != []:\n",
    "            trans_info_groups.append(group)\n",
    "            for info in group:\n",
    "                trans_infos.remove(info)\n",
    "        # now `trans_infos` is destroyed\n",
    "        # use `trans_info_groups` instead\n",
    "        \n",
    "    ## deal with each group\n",
    "    subscrip_periods = []\n",
    "    indeterm_periods = []\n",
    "    for tinfos in trans_info_groups:\n",
    "        assert tinfos != []\n",
    "        \n",
    "        ## sort by transaction date\n",
    "        tinfos.sort(key=(lambda tinfo: tinfo[1]))\n",
    "                \n",
    "        ##\n",
    "        if has_no_cancel(tinfos):\n",
    "            subscrip_periods_1 = [(tinfo[0], tinfo[3], tinfo[4])  for tinfo in tinfos]\n",
    "            subscrip_periods.extend(subscrip_periods_1)\n",
    "            continue\n",
    "            \n",
    "        ## get transaction infos before last transaction date\n",
    "        last_tdate = tinfos[-1][1]\n",
    "        \n",
    "        ind_pre_last_date = -1\n",
    "        for i in range(len(tinfos)-1, -1, -1):\n",
    "            if tinfos[i][1] != last_tdate:\n",
    "                ind_pre_last_date = i\n",
    "                break\n",
    "        tinfos_pre_last_date = tinfos[0:ind_pre_last_date+1]  \n",
    "        assert (ind_pre_last_date+1) < len(tinfos)\n",
    "        \n",
    "        ## transform `tinfos_pre_last_date` into subscription periods\n",
    "        subscrip_periods_1 = [(tinfo[0], tinfo[3], tinfo[4])  for tinfo in tinfos_pre_last_date]\n",
    "            \n",
    "        ## find whether there is non-cancel transaction on the last transaction date\n",
    "        has_non_cancel = any([tinfo[2]=='false'  for tinfo in tinfos[ind_pre_last_date+1:]])\n",
    "        \n",
    "        ##\n",
    "        indet_period = None\n",
    "        if has_non_cancel:  # one cancel and one non-cancel on `last_tdate`\n",
    "            indet_period = find_indeterminate_period(tinfos[-2], tinfos[-1])\n",
    "            if indet_period is not None:\n",
    "                cut_date = indet_period[0]\n",
    "                reduce_subscription_periods(subscrip_periods_1, cut_date)\n",
    "        else:  # only cancels on `last_tdate`\n",
    "            cut_date = min([tinfo[4] for tinfo in tinfos[ind_pre_last_date+1:]])\n",
    "            reduce_subscription_periods(subscrip_periods_1, cut_date)\n",
    "        \n",
    "        ## store results\n",
    "        subscrip_periods.extend(subscrip_periods_1)\n",
    "        if indet_period is not None:\n",
    "            indeterm_periods.append(indet_period)\n",
    "    ## END of looping trans_info_groups\n",
    "    \n",
    "    return (subscrip_periods, indeterm_periods)\n"
   ]
  },
  {
   "cell_type": "code",
   "execution_count": 103,
   "metadata": {},
   "outputs": [
    {
     "data": {
      "text/plain": [
       "([('17180245295', '2015-12-27', '2016-01-25'),\n",
       "  ('146029241083', '2016-01-27', '2016-02-25'),\n",
       "  ('51540369529', '2016-02-27', '2016-03-08'),\n",
       "  ('103079361450', '2016-04-08', '2016-05-07'),\n",
       "  ('103079250926', '2016-05-08', '2016-06-06'),\n",
       "  ('51539718401', '2016-06-08', '2016-07-07'),\n",
       "  ('85899981601', '2016-07-08', '2016-08-06'),\n",
       "  ('51540051214', '2016-08-08', '2016-09-06'),\n",
       "  ('154619268354', '2016-09-08', '2016-10-07'),\n",
       "  ('51540124967', '2016-10-08', '2016-11-06'),\n",
       "  ('60129868029', '2016-11-08', '2016-12-07'),\n",
       "  ('8589999995', '2016-12-08', '2017-01-06'),\n",
       "  ('154619145884', '2017-01-08', '2017-02-06'),\n",
       "  ('94490024042', '2017-02-05', '2017-03-06')],\n",
       " [('2016-03-09', '2016-04-06')])"
      ]
     },
     "execution_count": 103,
     "metadata": {},
     "output_type": "execute_result"
    }
   ],
   "source": [
    "trans_infos = '51539718401/2016-05-05/false/2016-06-08/2016-07-07|51540051214/2016-07-05/false/2016-08-08/2016-09-06|' \\\n",
    "  + '51540124967/2016-09-05/false/2016-10-08/2016-11-06|51540369529/2016-01-24/false/2016-02-27/2016-03-27|' \\\n",
    "  + '8589999995/2016-11-05/false/2016-12-08/2017-01-06|94489594123/2016-02-06/true/na/2016-03-08|' \\\n",
    "  + '94490024042/2017-02-05/false/2017-02-05/2017-03-06|146029241083/2015-12-24/false/2016-01-27/2016-02-25|' \\\n",
    "  + '103079250926/2016-04-05/false/2016-05-08/2016-06-06|103079361450/2016-03-05/false/2016-04-08/2016-05-07|' \\\n",
    "  + '111669172613/2016-02-06/false/2016-03-08/2016-04-06|154619145884/2017-01-05/false/2017-01-08/2017-02-06|' \\\n",
    "  + '154619268354/2016-08-05/false/2016-09-08/2016-10-07|17180245295/2015-11-24/false/2015-12-27/2016-01-25|' \\\n",
    "  + '60129868029/2016-10-05/false/2016-11-08/2016-12-07|85899981601/2016-06-05/false/2016-07-08/2016-08-06'\n",
    "reduce_trans_infos(trans_infos)"
   ]
  },
  {
   "cell_type": "code",
   "execution_count": 91,
   "metadata": {},
   "outputs": [
    {
     "data": {
      "text/plain": [
       "[('--msno--', '17180245295', '2015-12-27', '2016-01-25'),\n",
       " ('--msno--', '146029241083', '2016-01-27', '2016-02-25'),\n",
       " ('--msno--', '51540369529', '2016-02-27', '2016-03-08'),\n",
       " ('--msno--', '103079361450', '2016-04-08', '2016-05-07'),\n",
       " ('--msno--', '103079250926', '2016-05-08', '2016-06-06'),\n",
       " ('--msno--', '51539718401', '2016-06-08', '2016-07-07'),\n",
       " ('--msno--', '85899981601', '2016-07-08', '2016-08-06'),\n",
       " ('--msno--', '51540051214', '2016-08-08', '2016-09-06'),\n",
       " ('--msno--', '154619268354', '2016-09-08', '2016-10-07'),\n",
       " ('--msno--', '51540124967', '2016-10-08', '2016-11-06'),\n",
       " ('--msno--', '60129868029', '2016-11-08', '2016-12-07'),\n",
       " ('--msno--', '8589999995', '2016-12-08', '2017-01-06'),\n",
       " ('--msno--', '154619145884', '2017-01-08', '2017-02-06'),\n",
       " ('--msno--', '94490024042', '2017-02-05', '2017-03-06'),\n",
       " ('--msno--', 'indeterm', '2016-03-09', '2016-04-06')]"
      ]
     },
     "execution_count": 91,
     "metadata": {},
     "output_type": "execute_result"
    }
   ],
   "source": [
    "def pack_data(msno, subscrip_periods, indeterm_periods):\n",
    "    return [(msno, it[0], it[1], it[2])  for it in subscrip_periods] \\\n",
    "            + [(msno, 'indeterm', it[0], it[1])  for it in indeterm_periods]\n",
    "\n",
    "pack_data('--msno--', *reduce_trans_infos(trans_infos))"
   ]
  },
  {
   "cell_type": "code",
   "execution_count": 115,
   "metadata": {},
   "outputs": [
    {
     "data": {
      "text/plain": [
       "['a+J6FfukEkxO6rwVx2waiL1m9XNLoEVydLw0z33G2Q0=,25769987128,2016-11-25,2016-12-24',\n",
       " 'a+J6FfukEkxO6rwVx2waiL1m9XNLoEVydLw0z33G2Q0=,25770444358,2015-12-26,2016-01-24',\n",
       " 'a+J6FfukEkxO6rwVx2waiL1m9XNLoEVydLw0z33G2Q0=,68719763999,2016-02-24,2016-03-24']"
      ]
     },
     "execution_count": 115,
     "metadata": {},
     "output_type": "execute_result"
    }
   ],
   "source": [
    "rdd1 = rdd0.flatMap(lambda row: pack_data(row['msno'], *reduce_trans_infos(row['infos'])))\n",
    "rdd2 = rdd1.map(lambda rec: ','.join(rec))\n",
    "\n",
    "rdd2.take(3)"
   ]
  },
  {
   "cell_type": "code",
   "execution_count": 116,
   "metadata": {
    "scrolled": false
   },
   "outputs": [],
   "source": [
    "# output\n",
    "outfile = 'file:///home/cloudera/2.kkbox_churn/data01/from_raw_transactions-v1/3.subscription_periods/' \\\n",
    "          + file_flag\n",
    "rdd2.saveAsTextFile(outfile)"
   ]
  },
  {
   "cell_type": "code",
   "execution_count": null,
   "metadata": {},
   "outputs": [],
   "source": []
  }
 ],
 "metadata": {
  "kernelspec": {
   "display_name": "Python 3",
   "language": "python",
   "name": "python3"
  },
  "language_info": {
   "codemirror_mode": {
    "name": "ipython",
    "version": 3
   },
   "file_extension": ".py",
   "mimetype": "text/x-python",
   "name": "python",
   "nbconvert_exporter": "python",
   "pygments_lexer": "ipython3",
   "version": "3.6.6"
  },
  "toc": {
   "base_numbering": 1,
   "nav_menu": {},
   "number_sections": true,
   "sideBar": true,
   "skip_h1_title": false,
   "title_cell": "Table of Contents",
   "title_sidebar": "Contents",
   "toc_cell": false,
   "toc_position": {},
   "toc_section_display": true,
   "toc_window_display": false
  }
 },
 "nbformat": 4,
 "nbformat_minor": 2
}
