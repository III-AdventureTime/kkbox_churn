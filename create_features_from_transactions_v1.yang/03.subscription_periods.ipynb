{
 "cells": [
  {
   "cell_type": "code",
   "execution_count": 1,
   "metadata": {},
   "outputs": [
    {
     "data": {
      "text/html": [
       "\n",
       "            <div>\n",
       "                <p><b>SparkSession - hive</b></p>\n",
       "                \n",
       "        <div>\n",
       "            <p><b>SparkContext</b></p>\n",
       "\n",
       "            <p><a href=\"http://10.120.27.99:4040\">Spark UI</a></p>\n",
       "\n",
       "            <dl>\n",
       "              <dt>Version</dt>\n",
       "                <dd><code>v2.2.1</code></dd>\n",
       "              <dt>Master</dt>\n",
       "                <dd><code>local[*]</code></dd>\n",
       "              <dt>AppName</dt>\n",
       "                <dd><code>PySparkShell</code></dd>\n",
       "            </dl>\n",
       "        </div>\n",
       "        \n",
       "            </div>\n",
       "        "
      ],
      "text/plain": [
       "<pyspark.sql.session.SparkSession at 0x7fb9a018f240>"
      ]
     },
     "execution_count": 1,
     "metadata": {},
     "output_type": "execute_result"
    }
   ],
   "source": [
    "spark"
   ]
  },
  {
   "cell_type": "code",
   "execution_count": 2,
   "metadata": {},
   "outputs": [],
   "source": [
    "dir0 = 'file:///home/cloudera/2.kkbox_churn/data01/from_raw_transactions-v1/2a.problematic_members_excluded/'\n",
    "file_flag = 'msno_O-Z'"
   ]
  },
  {
   "cell_type": "code",
   "execution_count": 3,
   "metadata": {},
   "outputs": [
    {
     "name": "stdout",
     "output_type": "stream",
     "text": [
      "root\n",
      " |-- tid: string (nullable = true)\n",
      " |-- msno: string (nullable = true)\n",
      " |-- pay_method: string (nullable = true)\n",
      " |-- plan_days: string (nullable = true)\n",
      " |-- list_price: string (nullable = true)\n",
      " |-- actual_paid: string (nullable = true)\n",
      " |-- auto_renew: string (nullable = true)\n",
      " |-- is_cancel: string (nullable = true)\n",
      " |-- trans_date: string (nullable = true)\n",
      " |-- expire_date: string (nullable = true)\n",
      " |-- corr_exp_date: string (nullable = true)\n",
      " |-- corr_start_date: string (nullable = true)\n",
      "\n"
     ]
    }
   ],
   "source": [
    "infile = dir0 + file_flag\n",
    "df0 = spark.read.format('csv').option('header','true').load(infile)\n",
    "df0.printSchema()"
   ]
  },
  {
   "cell_type": "code",
   "execution_count": 4,
   "metadata": {},
   "outputs": [
    {
     "data": {
      "text/html": [
       "<div>\n",
       "<style scoped>\n",
       "    .dataframe tbody tr th:only-of-type {\n",
       "        vertical-align: middle;\n",
       "    }\n",
       "\n",
       "    .dataframe tbody tr th {\n",
       "        vertical-align: top;\n",
       "    }\n",
       "\n",
       "    .dataframe thead th {\n",
       "        text-align: right;\n",
       "    }\n",
       "</style>\n",
       "<table border=\"1\" class=\"dataframe\">\n",
       "  <thead>\n",
       "    <tr style=\"text-align: right;\">\n",
       "      <th></th>\n",
       "      <th>tid</th>\n",
       "      <th>msno</th>\n",
       "      <th>pay_method</th>\n",
       "      <th>plan_days</th>\n",
       "      <th>list_price</th>\n",
       "      <th>actual_paid</th>\n",
       "      <th>auto_renew</th>\n",
       "      <th>is_cancel</th>\n",
       "      <th>trans_date</th>\n",
       "      <th>expire_date</th>\n",
       "      <th>corr_exp_date</th>\n",
       "      <th>corr_start_date</th>\n",
       "    </tr>\n",
       "  </thead>\n",
       "  <tbody>\n",
       "    <tr>\n",
       "      <th>0</th>\n",
       "      <td>25769803789</td>\n",
       "      <td>P/dXasg4zaZXoFfSZyw259eo1hA7wAtUwNdplkQ7EMU=</td>\n",
       "      <td>41</td>\n",
       "      <td>30</td>\n",
       "      <td>99</td>\n",
       "      <td>99</td>\n",
       "      <td>true</td>\n",
       "      <td>false</td>\n",
       "      <td>2016-08-15</td>\n",
       "      <td>2016-09-16</td>\n",
       "      <td>2016-09-16</td>\n",
       "      <td>2016-08-18</td>\n",
       "    </tr>\n",
       "    <tr>\n",
       "      <th>1</th>\n",
       "      <td>25769803797</td>\n",
       "      <td>ZLlb4auReNcABpweNJD+TAynZbZDd5iMBVaAUlOdBuk=</td>\n",
       "      <td>39</td>\n",
       "      <td>30</td>\n",
       "      <td>149</td>\n",
       "      <td>149</td>\n",
       "      <td>true</td>\n",
       "      <td>false</td>\n",
       "      <td>2016-03-06</td>\n",
       "      <td>2016-04-05</td>\n",
       "      <td>2016-04-05</td>\n",
       "      <td>2016-03-07</td>\n",
       "    </tr>\n",
       "    <tr>\n",
       "      <th>2</th>\n",
       "      <td>25769803801</td>\n",
       "      <td>Tqia4w8hGgZvH+M/x4gjXgVYqC47lxxPTX7xXQ+KgZk=</td>\n",
       "      <td>39</td>\n",
       "      <td>30</td>\n",
       "      <td>149</td>\n",
       "      <td>149</td>\n",
       "      <td>true</td>\n",
       "      <td>false</td>\n",
       "      <td>2015-12-02</td>\n",
       "      <td>2016-01-25</td>\n",
       "      <td>2016-01-25</td>\n",
       "      <td>2015-12-27</td>\n",
       "    </tr>\n",
       "    <tr>\n",
       "      <th>3</th>\n",
       "      <td>25769803803</td>\n",
       "      <td>YSYRycHE3MJit/trkXX20IIQQ6KFKMDpxFvDJPBvIDo=</td>\n",
       "      <td>41</td>\n",
       "      <td>30</td>\n",
       "      <td>99</td>\n",
       "      <td>99</td>\n",
       "      <td>true</td>\n",
       "      <td>false</td>\n",
       "      <td>2016-09-17</td>\n",
       "      <td>2016-10-17</td>\n",
       "      <td>2016-10-17</td>\n",
       "      <td>2016-09-18</td>\n",
       "    </tr>\n",
       "    <tr>\n",
       "      <th>4</th>\n",
       "      <td>25769803805</td>\n",
       "      <td>WozSFTAf2VkveP9KLCPm+eppBuU/2EGSZmjMGY+fb/8=</td>\n",
       "      <td>41</td>\n",
       "      <td>30</td>\n",
       "      <td>149</td>\n",
       "      <td>149</td>\n",
       "      <td>true</td>\n",
       "      <td>true</td>\n",
       "      <td>2016-04-19</td>\n",
       "      <td>2016-04-19</td>\n",
       "      <td>2016-04-19</td>\n",
       "      <td>None</td>\n",
       "    </tr>\n",
       "  </tbody>\n",
       "</table>\n",
       "</div>"
      ],
      "text/plain": [
       "           tid                                          msno pay_method  \\\n",
       "0  25769803789  P/dXasg4zaZXoFfSZyw259eo1hA7wAtUwNdplkQ7EMU=         41   \n",
       "1  25769803797  ZLlb4auReNcABpweNJD+TAynZbZDd5iMBVaAUlOdBuk=         39   \n",
       "2  25769803801  Tqia4w8hGgZvH+M/x4gjXgVYqC47lxxPTX7xXQ+KgZk=         39   \n",
       "3  25769803803  YSYRycHE3MJit/trkXX20IIQQ6KFKMDpxFvDJPBvIDo=         41   \n",
       "4  25769803805  WozSFTAf2VkveP9KLCPm+eppBuU/2EGSZmjMGY+fb/8=         41   \n",
       "\n",
       "  plan_days list_price actual_paid auto_renew is_cancel  trans_date  \\\n",
       "0        30         99          99       true     false  2016-08-15   \n",
       "1        30        149         149       true     false  2016-03-06   \n",
       "2        30        149         149       true     false  2015-12-02   \n",
       "3        30         99          99       true     false  2016-09-17   \n",
       "4        30        149         149       true      true  2016-04-19   \n",
       "\n",
       "  expire_date corr_exp_date corr_start_date  \n",
       "0  2016-09-16    2016-09-16      2016-08-18  \n",
       "1  2016-04-05    2016-04-05      2016-03-07  \n",
       "2  2016-01-25    2016-01-25      2015-12-27  \n",
       "3  2016-10-17    2016-10-17      2016-09-18  \n",
       "4  2016-04-19    2016-04-19            None  "
      ]
     },
     "execution_count": 4,
     "metadata": {},
     "output_type": "execute_result"
    }
   ],
   "source": [
    "df0.limit(5).toPandas()"
   ]
  },
  {
   "cell_type": "code",
   "execution_count": 5,
   "metadata": {
    "collapsed": true
   },
   "outputs": [
    {
     "name": "stdout",
     "output_type": "stream",
     "text": [
      "+-----------+--------------------+----------+---------+----------+-----------+----------+---------+----------+-----------+-------------+---------------+\n",
      "|        tid|                msno|pay_method|plan_days|list_price|actual_paid|auto_renew|is_cancel|trans_date|expire_date|corr_exp_date|corr_start_date|\n",
      "+-----------+--------------------+----------+---------+----------+-----------+----------+---------+----------+-----------+-------------+---------------+\n",
      "|25769804062|zmE7Pp4bDpEC0huG3...|        29|       30|       180|        180|      true|     true|2017-01-01| 2017-01-04|   2017-01-04|           null|\n",
      "+-----------+--------------------+----------+---------+----------+-----------+----------+---------+----------+-----------+-------------+---------------+\n",
      "only showing top 1 row\n",
      "\n"
     ]
    }
   ],
   "source": [
    "from pyspark.sql.functions import col\n",
    "df0.where(col('is_cancel') == 'true').show(1)"
   ]
  },
  {
   "cell_type": "markdown",
   "metadata": {},
   "source": [
    "# Collect Infos for Each Member "
   ]
  },
  {
   "cell_type": "code",
   "execution_count": 5,
   "metadata": {},
   "outputs": [
    {
     "name": "stdout",
     "output_type": "stream",
     "text": [
      "+--------------------+-----------+----------+---------+---------------+-------------+\n",
      "|                msno|        tid|trans_date|is_cancel|corr_start_date|corr_exp_date|\n",
      "+--------------------+-----------+----------+---------+---------------+-------------+\n",
      "|P/dXasg4zaZXoFfSZ...|25769803789|2016-08-15|    false|     2016-08-18|   2016-09-16|\n",
      "|ZLlb4auReNcABpweN...|25769803797|2016-03-06|    false|     2016-03-07|   2016-04-05|\n",
      "|Tqia4w8hGgZvH+M/x...|25769803801|2015-12-02|    false|     2015-12-27|   2016-01-25|\n",
      "|YSYRycHE3MJit/trk...|25769803803|2016-09-17|    false|     2016-09-18|   2016-10-17|\n",
      "|WozSFTAf2VkveP9KL...|25769803805|2016-04-19|     true|           null|   2016-04-19|\n",
      "+--------------------+-----------+----------+---------+---------------+-------------+\n",
      "only showing top 5 rows\n",
      "\n"
     ]
    }
   ],
   "source": [
    "columns = ('tid', 'trans_date', 'is_cancel', 'corr_start_date', 'corr_exp_date')\n",
    "df1 = df0.select('msno', *columns)\n",
    "df1.show(5)"
   ]
  },
  {
   "cell_type": "code",
   "execution_count": 6,
   "metadata": {},
   "outputs": [
    {
     "name": "stdout",
     "output_type": "stream",
     "text": [
      "+--------------------------------------------+--------------------------------------------------+\n",
      "|msno                                        |info                                              |\n",
      "+--------------------------------------------+--------------------------------------------------+\n",
      "|P/dXasg4zaZXoFfSZyw259eo1hA7wAtUwNdplkQ7EMU=|25769803789/2016-08-15/false/2016-08-18/2016-09-16|\n",
      "|ZLlb4auReNcABpweNJD+TAynZbZDd5iMBVaAUlOdBuk=|25769803797/2016-03-06/false/2016-03-07/2016-04-05|\n",
      "|Tqia4w8hGgZvH+M/x4gjXgVYqC47lxxPTX7xXQ+KgZk=|25769803801/2015-12-02/false/2015-12-27/2016-01-25|\n",
      "|YSYRycHE3MJit/trkXX20IIQQ6KFKMDpxFvDJPBvIDo=|25769803803/2016-09-17/false/2016-09-18/2016-10-17|\n",
      "|WozSFTAf2VkveP9KLCPm+eppBuU/2EGSZmjMGY+fb/8=|25769803805/2016-04-19/true/na/2016-04-19         |\n",
      "+--------------------------------------------+--------------------------------------------------+\n",
      "only showing top 5 rows\n",
      "\n"
     ]
    }
   ],
   "source": [
    "from pyspark.sql.functions import concat_ws\n",
    "df2 = df1.fillna('na', ['corr_start_date']) \\\n",
    "      .select('msno',\n",
    "              concat_ws('/', *columns).alias('info'))\n",
    "\n",
    "df2.show(5, truncate=False)"
   ]
  },
  {
   "cell_type": "code",
   "execution_count": 7,
   "metadata": {},
   "outputs": [],
   "source": [
    "from pyspark.sql.functions import concat_ws, collect_list\n",
    "df3 = df2.groupBy('msno').agg(concat_ws('|', collect_list('info')).alias('infos'))\n",
    "\n",
    "#df3.show(1)"
   ]
  },
  {
   "cell_type": "code",
   "execution_count": null,
   "metadata": {},
   "outputs": [],
   "source": [
    "# output (temp)\n",
    "outfile = dir0 + 'temp'\n",
    "df3.write.format('csv').option('header','true').save(outfile)"
   ]
  },
  {
   "cell_type": "markdown",
   "metadata": {},
   "source": [
    "# Reduce Transaction Records to Effective Subscriptions"
   ]
  },
  {
   "cell_type": "code",
   "execution_count": 3,
   "metadata": {},
   "outputs": [],
   "source": [
    "# input (temp)\n",
    "infile = dir0 + 'temp'\n",
    "df0 = spark.read.format('csv').option('header','true').load(infile)\n",
    "rdd0 = df0.rdd"
   ]
  },
  {
   "cell_type": "code",
   "execution_count": 4,
   "metadata": {},
   "outputs": [
    {
     "data": {
      "text/plain": [
       "[Row(msno='O/LxEiG/IAunjfLYvCm8kbgr0OcaAUX3g0pTAlzUMn0=', infos='94489799138/2016-12-27/false/2016-12-29/2017-01-27|34360112087/2015-12-27/false/2015-12-29/2016-01-27|94489899242/2015-11-27/false/2015-11-28/2015-12-27|179524/2017-02-27/false/2017-02-27/2017-03-27|60129780946/2016-10-27/false/2016-10-29/2016-11-27|621588/2016-11-27/false/2016-11-28/2016-12-27|60129953556/2016-08-27/false/2016-08-29/2016-09-27|103079471401/2016-02-27/false/2016-02-27/2016-03-27|103079502981/2017-01-27/false/2017-01-29/2017-02-27|103079784102/2016-05-27/false/2016-05-29/2016-06-27|111669647025/2016-09-27/false/2016-09-28/2016-10-27|146028923186/2016-01-27/false/2016-01-29/2016-02-27|68719688951/2016-07-27/false/2016-07-29/2016-08-27|25769898932/2016-04-27/false/2016-04-28/2016-05-27|25769995663/2016-06-27/false/2016-06-28/2016-07-27|42949833798/2016-03-27/false/2016-03-29/2016-04-27'),\n",
       " Row(msno='O/OD9sBB2fJ6r0cY7XcCALK6m534fWh9pTzJ+DZ/Cx4=', infos='34360224687/2016-09-20/false/2016-09-21/2016-10-20|94489598328/2016-04-20/false/2016-04-21/2016-05-20|77309705021/2016-12-20/false/2016-12-22/2017-01-20|85899590134/2016-01-20/false/2016-01-22/2016-02-20|51539628578/2015-12-21/false/2015-12-22/2016-01-20|51539744472/2016-11-20/false/2016-11-21/2016-12-20|51539844298/2016-08-20/false/2016-08-22/2016-09-20|60130295177/2016-05-20/false/2016-05-22/2016-06-20|8590026286/2016-03-20/false/2016-03-22/2016-04-20|120259810339/2016-02-20/false/2016-02-20/2016-03-20|128849584516/2017-02-20/false/2017-02-20/2017-03-20|146029398364/2016-10-20/false/2016-10-22/2016-11-20|146029599064/2017-01-20/false/2017-01-22/2017-02-20|17180359119/2016-07-20/false/2016-07-22/2016-08-20|68719873159/2016-06-20/false/2016-06-21/2016-07-20'),\n",
       " Row(msno='O/kgYIJHmIPI4ytH9qr0uSDSu3sAblEa0eaX3hqBW0E=', infos='85899950654/2016-01-11/false/2016-01-12/2016-02-10|448620/2016-02-11/false/2016-02-12/2016-03-12|51539701358/2016-07-18/false/2016-08-16/2016-08-22|60129661252/2016-06-15/false/2016-06-16/2016-07-15|60130260624/2015-11-12/false/2015-11-13/2015-12-12|8590050303/2015-12-12/false/2015-12-13/2016-01-11|111669825075/2016-03-13/false/2016-03-14/2016-04-12|120259478566/2016-05-15/false/2016-05-16/2016-06-14|128849599038/2016-04-13/false/2016-04-14/2016-05-13|146029020505/2016-07-16/false/2016-07-17/2016-08-15'),\n",
       " Row(msno='O0tofVBIb6yT4pI110ZYUy1rN5KaQRy+4s7YuPnwp34=', infos='94489463045/2016-06-30/false/2016-07-02/2016-07-31|77309518724/2016-01-04/false/2016-01-06/2016-02-04|77309929294/2016-05-31/false/2016-06-01/2016-06-30|77309993940/2016-04-30/false/2016-05-02/2016-05-31|60129900512/2017-02-28/false/2017-03-02/2017-03-31|60129914976/2016-08-31/false/2016-09-01/2016-09-30|60130023925/2016-12-31/false/2017-01-02/2017-01-31|60130040889/2016-07-30/false/2016-08-02/2016-08-31|8589978772/2015-11-04/false/2015-11-05/2015-12-04|8590094250/2016-03-04/false/2016-03-06/2016-04-04|103079571600/2016-09-30/false/2016-10-02/2016-10-31|120259680014/2016-03-30/false/2016-04-01/2016-04-30|111669507507/2017-01-31/false/2017-01-31/2017-02-28|137439190698/2015-12-04/false/2015-12-06/2016-01-04|111669715075/2016-02-04/false/2016-02-04/2016-03-04|120259311045/2016-10-31/false/2016-11-01/2016-11-30|17180400768/2016-07-30/true/na/2016-07-30|42950021236/2016-11-30/false/2016-12-02/2016-12-31')]"
      ]
     },
     "execution_count": 4,
     "metadata": {},
     "output_type": "execute_result"
    }
   ],
   "source": [
    "rdd0.take(4)"
   ]
  },
  {
   "cell_type": "code",
   "execution_count": 5,
   "metadata": {},
   "outputs": [],
   "source": [
    "import datetime as DT\n",
    "\n",
    "def add_one_day(date_str):\n",
    "    t = DT.datetime.strptime(date_str, '%Y-%m-%d') + DT.timedelta(days=1)\n",
    "    return t.strftime('%Y-%m-%d')\n",
    "\n",
    "\n",
    "def subtract_one_day(date_str):\n",
    "    t = DT.datetime.strptime(date_str, '%Y-%m-%d') - DT.timedelta(days=1)\n",
    "    return t.strftime('%Y-%m-%d')\n",
    "\n",
    "\n",
    "def find_indeterminate_period(tinfo1, tinfo2):\n",
    "    tinfo_cancel, tinfo_noncancel = (tinfo1, tinfo2)  if tinfo1[2] == 'true'  else (tinfo2, tinfo1)\n",
    "    dc = tinfo_cancel[4]\n",
    "    if dc >= tinfo_noncancel[4]:\n",
    "        return None\n",
    "    elif dc >= tinfo_noncancel[3]:\n",
    "        return (add_one_day(dc), tinfo_noncancel[4])\n",
    "    else: # dc < tinfo_noncancel[3]\n",
    "        return (tinfo_noncancel[3], tinfo_noncancel[4])\n",
    "\n",
    "    \n",
    "def reduce_subscription_periods(subscrip_periods, cut_date):\n",
    "    '''\n",
    "    cut all periods in `subscrip_periods` to before `cut_date`\n",
    "    '''\n",
    "    subscrip_periods_copy = subscrip_periods[:]\n",
    "    pre_cut_date = subtract_one_day(cut_date)\n",
    "    \n",
    "    for p in subscrip_periods_copy:\n",
    "        if cut_date <= p[1] :\n",
    "            subscrip_periods.remove(p)\n",
    "            \n",
    "    for i in range(0, len(subscrip_periods)):\n",
    "        p = subscrip_periods[i]\n",
    "        if cut_date <= p[2]:\n",
    "            subscrip_periods[i] = (p[0], p[1], pre_cut_date)\n",
    "            \n",
    "\n",
    "def has_no_cancel(tinfo_records):\n",
    "    r = True\n",
    "    for is_cancel in map(lambda info_rec: info_rec[2]=='true', tinfo_records):\n",
    "        if is_cancel:\n",
    "            r = False\n",
    "            break\n",
    "    return r\n",
    "\n",
    "\n",
    "def reduce_trans_infos(trans_infos_str):\n",
    "    '''\n",
    "    Deals with cancels and determines effective subscription periods.\n",
    "    Returns (subscription-periods, indeterminate-periods).\n",
    "    '''\n",
    "    trans_infos_strlist = trans_infos_str.split('|')\n",
    "    trans_infos = [s.split('/')  for s in trans_infos_strlist]\n",
    "        #\n",
    "        # trans_infos[trans-index][item-index]  \n",
    "        # item-index  --  0: tid;  1: transaction date;  2: is cancel;  \n",
    "        #                 3: start date;  4: end (expiration) date\n",
    "    \n",
    "    ##\n",
    "    if has_no_cancel(trans_infos):\n",
    "        subscrip_periods = [(tinfo[0], tinfo[3], tinfo[4])  for tinfo in trans_infos]\n",
    "        return (subscrip_periods, [])\n",
    "            \n",
    "    ## separate the transaction records by transaction dates having a cancel\n",
    "    ### get transaction dates having a cancel\n",
    "    trans_dates_w_cancel_s = set()\n",
    "    last_trans_date = '1970-01-01'\n",
    "    for tinfos in trans_infos:\n",
    "        if tinfos[2] == 'true':\n",
    "            trans_dates_w_cancel_s.add(tinfos[1])\n",
    "        if tinfos[1] > last_trans_date:\n",
    "            last_trans_date = tinfos[1]\n",
    "        \n",
    "    separating_dates = sorted(list(trans_dates_w_cancel_s)) + [last_trans_date]\n",
    "\n",
    "    ###\n",
    "    trans_info_groups = []\n",
    "    for sdate in separating_dates:\n",
    "        group = [tinfos  for tinfos in trans_infos  if tinfos[1] <= sdate]\n",
    "        if group != []:\n",
    "            trans_info_groups.append(group)\n",
    "            for info in group:\n",
    "                trans_infos.remove(info)\n",
    "        # now `trans_infos` is destroyed\n",
    "        # use `trans_info_groups` instead\n",
    "        \n",
    "    ## deal with each group\n",
    "    subscrip_periods = []\n",
    "    indeterm_periods = []\n",
    "    for tinfos in trans_info_groups:\n",
    "        assert tinfos != []\n",
    "        \n",
    "        ## sort by transaction date\n",
    "        tinfos.sort(key=(lambda tinfo: tinfo[1]))\n",
    "                \n",
    "        ##\n",
    "        if has_no_cancel(tinfos):\n",
    "            subscrip_periods_1 = [(tinfo[0], tinfo[3], tinfo[4])  for tinfo in tinfos]\n",
    "            subscrip_periods.extend(subscrip_periods_1)\n",
    "            continue\n",
    "            \n",
    "        ## get transaction infos before last transaction date\n",
    "        last_tdate = tinfos[-1][1]\n",
    "        \n",
    "        ind_pre_last_date = -1\n",
    "        for i in range(len(tinfos)-1, -1, -1):\n",
    "            if tinfos[i][1] != last_tdate:\n",
    "                ind_pre_last_date = i\n",
    "                break\n",
    "        tinfos_pre_last_date = tinfos[0:ind_pre_last_date+1]  \n",
    "        assert (ind_pre_last_date+1) < len(tinfos)\n",
    "        \n",
    "        ## transform `tinfos_pre_last_date` into subscription periods\n",
    "        subscrip_periods_1 = [(tinfo[0], tinfo[3], tinfo[4])  for tinfo in tinfos_pre_last_date]\n",
    "            \n",
    "        ## find whether there is non-cancel transaction on the last transaction date\n",
    "        has_non_cancel = any([tinfo[2]=='false'  for tinfo in tinfos[ind_pre_last_date+1:]])\n",
    "        \n",
    "        ##\n",
    "        indet_period = None\n",
    "        if has_non_cancel:  # one cancel and one non-cancel on `last_tdate`\n",
    "            indet_period = find_indeterminate_period(tinfos[-2], tinfos[-1])\n",
    "            if indet_period is not None:\n",
    "                cut_date = indet_period[0]\n",
    "                reduce_subscription_periods(subscrip_periods_1, cut_date)\n",
    "        else:  # only cancels on `last_tdate`\n",
    "            cut_date = min([tinfo[4] for tinfo in tinfos[ind_pre_last_date+1:]])\n",
    "            reduce_subscription_periods(subscrip_periods_1, cut_date)\n",
    "        \n",
    "        ## store results\n",
    "        subscrip_periods.extend(subscrip_periods_1)\n",
    "        if indet_period is not None:\n",
    "            indeterm_periods.append(indet_period)\n",
    "    ## END of looping trans_info_groups\n",
    "    \n",
    "    return (subscrip_periods, indeterm_periods)\n"
   ]
  },
  {
   "cell_type": "code",
   "execution_count": 103,
   "metadata": {
    "collapsed": true
   },
   "outputs": [
    {
     "data": {
      "text/plain": [
       "([('17180245295', '2015-12-27', '2016-01-25'),\n",
       "  ('146029241083', '2016-01-27', '2016-02-25'),\n",
       "  ('51540369529', '2016-02-27', '2016-03-08'),\n",
       "  ('103079361450', '2016-04-08', '2016-05-07'),\n",
       "  ('103079250926', '2016-05-08', '2016-06-06'),\n",
       "  ('51539718401', '2016-06-08', '2016-07-07'),\n",
       "  ('85899981601', '2016-07-08', '2016-08-06'),\n",
       "  ('51540051214', '2016-08-08', '2016-09-06'),\n",
       "  ('154619268354', '2016-09-08', '2016-10-07'),\n",
       "  ('51540124967', '2016-10-08', '2016-11-06'),\n",
       "  ('60129868029', '2016-11-08', '2016-12-07'),\n",
       "  ('8589999995', '2016-12-08', '2017-01-06'),\n",
       "  ('154619145884', '2017-01-08', '2017-02-06'),\n",
       "  ('94490024042', '2017-02-05', '2017-03-06')],\n",
       " [('2016-03-09', '2016-04-06')])"
      ]
     },
     "execution_count": 103,
     "metadata": {},
     "output_type": "execute_result"
    }
   ],
   "source": [
    "trans_infos = '51539718401/2016-05-05/false/2016-06-08/2016-07-07|51540051214/2016-07-05/false/2016-08-08/2016-09-06|' \\\n",
    "  + '51540124967/2016-09-05/false/2016-10-08/2016-11-06|51540369529/2016-01-24/false/2016-02-27/2016-03-27|' \\\n",
    "  + '8589999995/2016-11-05/false/2016-12-08/2017-01-06|94489594123/2016-02-06/true/na/2016-03-08|' \\\n",
    "  + '94490024042/2017-02-05/false/2017-02-05/2017-03-06|146029241083/2015-12-24/false/2016-01-27/2016-02-25|' \\\n",
    "  + '103079250926/2016-04-05/false/2016-05-08/2016-06-06|103079361450/2016-03-05/false/2016-04-08/2016-05-07|' \\\n",
    "  + '111669172613/2016-02-06/false/2016-03-08/2016-04-06|154619145884/2017-01-05/false/2017-01-08/2017-02-06|' \\\n",
    "  + '154619268354/2016-08-05/false/2016-09-08/2016-10-07|17180245295/2015-11-24/false/2015-12-27/2016-01-25|' \\\n",
    "  + '60129868029/2016-10-05/false/2016-11-08/2016-12-07|85899981601/2016-06-05/false/2016-07-08/2016-08-06'\n",
    "reduce_trans_infos(trans_infos)"
   ]
  },
  {
   "cell_type": "code",
   "execution_count": 6,
   "metadata": {},
   "outputs": [],
   "source": [
    "def pack_data(msno, subscrip_periods, indeterm_periods):\n",
    "    return [(msno, it[0], it[1], it[2])  for it in subscrip_periods] \\\n",
    "            + [(msno, 'indeterm', it[0], it[1])  for it in indeterm_periods]\n",
    "\n",
    "#pack_data('--msno--', *reduce_trans_infos(trans_infos))"
   ]
  },
  {
   "cell_type": "code",
   "execution_count": 7,
   "metadata": {},
   "outputs": [
    {
     "data": {
      "text/plain": [
       "['O/LxEiG/IAunjfLYvCm8kbgr0OcaAUX3g0pTAlzUMn0=,94489799138,2016-12-29,2017-01-27',\n",
       " 'O/LxEiG/IAunjfLYvCm8kbgr0OcaAUX3g0pTAlzUMn0=,34360112087,2015-12-29,2016-01-27',\n",
       " 'O/LxEiG/IAunjfLYvCm8kbgr0OcaAUX3g0pTAlzUMn0=,94489899242,2015-11-28,2015-12-27']"
      ]
     },
     "execution_count": 7,
     "metadata": {},
     "output_type": "execute_result"
    }
   ],
   "source": [
    "rdd1 = rdd0.flatMap(lambda row: pack_data(row['msno'], *reduce_trans_infos(row['infos'])))\n",
    "rdd2 = rdd1.map(lambda rec: ','.join(rec))\n",
    "\n",
    "rdd2.take(3)"
   ]
  },
  {
   "cell_type": "code",
   "execution_count": 8,
   "metadata": {
    "scrolled": false
   },
   "outputs": [],
   "source": [
    "# output\n",
    "outfile = 'file:///home/cloudera/2.kkbox_churn/data01/from_raw_transactions-v1/3.subscription_periods/' \\\n",
    "          + file_flag\n",
    "rdd2.saveAsTextFile(outfile)"
   ]
  },
  {
   "cell_type": "code",
   "execution_count": null,
   "metadata": {},
   "outputs": [],
   "source": []
  },
  {
   "cell_type": "code",
   "execution_count": null,
   "metadata": {},
   "outputs": [],
   "source": []
  },
  {
   "cell_type": "code",
   "execution_count": null,
   "metadata": {},
   "outputs": [],
   "source": []
  },
  {
   "cell_type": "markdown",
   "metadata": {},
   "source": [
    "# gather files"
   ]
  },
  {
   "cell_type": "code",
   "execution_count": 7,
   "metadata": {},
   "outputs": [],
   "source": [
    "dir0 = 'file:///home/cloudera/2.kkbox_churn/data01/from_raw_transactions-v1/3.subscription_periods/'\n",
    "\n",
    "df0 = spark.read.format('csv').option('header','false').load(dir0 + 'msno_a-n') \\\n",
    "      .selectExpr('_c0 AS msno', '_c1 AS tid', '_c2 AS start_date', '_c3 AS end_date')"
   ]
  },
  {
   "cell_type": "code",
   "execution_count": 8,
   "metadata": {},
   "outputs": [
    {
     "name": "stdout",
     "output_type": "stream",
     "text": [
      "+--------------------+-----------+----------+----------+\n",
      "|                msno|        tid|start_date|  end_date|\n",
      "+--------------------+-----------+----------+----------+\n",
      "|a+EoQXBVpD4ucwTTm...|25769896722|2016-07-28|2016-08-26|\n",
      "|a+EoQXBVpD4ucwTTm...|77309458613|2016-03-25|2016-04-23|\n",
      "|a+EoQXBVpD4ucwTTm...|77309667985|2016-11-29|2016-12-28|\n",
      "+--------------------+-----------+----------+----------+\n",
      "only showing top 3 rows\n",
      "\n"
     ]
    }
   ],
   "source": [
    "df0.show(3)"
   ]
  },
  {
   "cell_type": "code",
   "execution_count": 9,
   "metadata": {},
   "outputs": [
    {
     "name": "stdout",
     "output_type": "stream",
     "text": [
      "+--------------------+------------+----------+----------+\n",
      "|                msno|         tid|start_date|  end_date|\n",
      "+--------------------+------------+----------+----------+\n",
      "|A+1I7YjS1qQgXS5Si...|103079222190|2017-02-20|2017-03-21|\n",
      "|A+1I7YjS1qQgXS5Si...|103079323436|2016-12-23|2017-01-21|\n",
      "|A+1I7YjS1qQgXS5Si...|154619240845|2017-01-23|2017-02-21|\n",
      "+--------------------+------------+----------+----------+\n",
      "only showing top 3 rows\n",
      "\n"
     ]
    }
   ],
   "source": [
    "df1 = spark.read.format('csv').option('header','false').load(dir0 + 'msno_A-N') \\\n",
    "      .selectExpr('_c0 AS msno', '_c1 AS tid', '_c2 AS start_date', '_c3 AS end_date')\n",
    "df1.show(3)"
   ]
  },
  {
   "cell_type": "code",
   "execution_count": 10,
   "metadata": {},
   "outputs": [
    {
     "name": "stdout",
     "output_type": "stream",
     "text": [
      "+--------------------+-----------+----------+----------+\n",
      "|                msno|        tid|start_date|  end_date|\n",
      "+--------------------+-----------+----------+----------+\n",
      "|++5nB0VuUuyj9xlng...|77309684417|2016-02-06|2016-03-03|\n",
      "|++5nB0VuUuyj9xlng...|85899643848|2016-03-13|2016-04-11|\n",
      "|++5nB0VuUuyj9xlng...|17180114820|2016-04-13|2016-05-12|\n",
      "+--------------------+-----------+----------+----------+\n",
      "only showing top 3 rows\n",
      "\n"
     ]
    }
   ],
   "source": [
    "df2 = spark.read.format('csv').option('header','false').load(dir0 + 'msno_non-letter') \\\n",
    "      .selectExpr('_c0 AS msno', '_c1 AS tid', '_c2 AS start_date', '_c3 AS end_date')\n",
    "df2.show(3)"
   ]
  },
  {
   "cell_type": "code",
   "execution_count": 11,
   "metadata": {},
   "outputs": [
    {
     "name": "stdout",
     "output_type": "stream",
     "text": [
      "+--------------------+------------+----------+----------+\n",
      "|                msno|         tid|start_date|  end_date|\n",
      "+--------------------+------------+----------+----------+\n",
      "|o+73fwNA9WxP9ExWw...|146029075362|2016-06-01|2016-06-05|\n",
      "|o+H0+uKG2ulOMTYWC...| 94489981585|2016-12-02|2016-12-31|\n",
      "|o+H0+uKG2ulOMTYWC...| 51539820060|2017-03-02|2017-03-31|\n",
      "+--------------------+------------+----------+----------+\n",
      "only showing top 3 rows\n",
      "\n"
     ]
    }
   ],
   "source": [
    "df3 = spark.read.format('csv').option('header','false').load(dir0 + 'msno_o-z') \\\n",
    "      .selectExpr('_c0 AS msno', '_c1 AS tid', '_c2 AS start_date', '_c3 AS end_date')\n",
    "df3.show(3)"
   ]
  },
  {
   "cell_type": "code",
   "execution_count": 12,
   "metadata": {},
   "outputs": [
    {
     "name": "stdout",
     "output_type": "stream",
     "text": [
      "+--------------------+-----------+----------+----------+\n",
      "|                msno|        tid|start_date|  end_date|\n",
      "+--------------------+-----------+----------+----------+\n",
      "|O/LxEiG/IAunjfLYv...|94489799138|2016-12-29|2017-01-27|\n",
      "|O/LxEiG/IAunjfLYv...|34360112087|2015-12-29|2016-01-27|\n",
      "|O/LxEiG/IAunjfLYv...|94489899242|2015-11-28|2015-12-27|\n",
      "+--------------------+-----------+----------+----------+\n",
      "only showing top 3 rows\n",
      "\n"
     ]
    }
   ],
   "source": [
    "df4 = spark.read.format('csv').option('header','false').load(dir0 + 'msno_O-Z') \\\n",
    "      .selectExpr('_c0 AS msno', '_c1 AS tid', '_c2 AS start_date', '_c3 AS end_date')\n",
    "df4.show(3)"
   ]
  },
  {
   "cell_type": "code",
   "execution_count": 13,
   "metadata": {},
   "outputs": [
    {
     "name": "stdout",
     "output_type": "stream",
     "text": [
      "+--------------------+------------+----------+----------+\n",
      "|                msno|         tid|start_date|  end_date|\n",
      "+--------------------+------------+----------+----------+\n",
      "|a+EoQXBVpD4ucwTTm...| 25769896722|2016-07-28|2016-08-26|\n",
      "|a+EoQXBVpD4ucwTTm...| 77309458613|2016-03-25|2016-04-23|\n",
      "|a+EoQXBVpD4ucwTTm...| 77309667985|2016-11-29|2016-12-28|\n",
      "|a+EoQXBVpD4ucwTTm...| 77310025766|2016-12-30|2017-01-28|\n",
      "|a+EoQXBVpD4ucwTTm...| 77310169372|2016-05-26|2016-06-24|\n",
      "|a+EoQXBVpD4ucwTTm...|  8590579205|2016-04-25|2016-05-24|\n",
      "|a+EoQXBVpD4ucwTTm...|103079882220|2016-06-26|2016-07-25|\n",
      "|a+EoQXBVpD4ucwTTm...|120259373437|2016-09-29|2016-10-28|\n",
      "|a+EoQXBVpD4ucwTTm...|111669505952|2016-02-24|2016-03-24|\n",
      "|a+EoQXBVpD4ucwTTm...|128849500308|2016-02-12|2016-02-21|\n",
      "+--------------------+------------+----------+----------+\n",
      "only showing top 10 rows\n",
      "\n"
     ]
    }
   ],
   "source": [
    "df_all = df0.union(df1).union(df2).union(df3).union(df4)\n",
    "\n",
    "df_all.show(10)"
   ]
  },
  {
   "cell_type": "code",
   "execution_count": 14,
   "metadata": {},
   "outputs": [],
   "source": [
    "# output\n",
    "outfile = dir0 + 'all'\n",
    "df_all.write.format('csv').option('header', 'true').save(outfile)"
   ]
  },
  {
   "cell_type": "code",
   "execution_count": null,
   "metadata": {},
   "outputs": [],
   "source": []
  }
 ],
 "metadata": {
  "kernelspec": {
   "display_name": "Python 3",
   "language": "python",
   "name": "python3"
  },
  "language_info": {
   "codemirror_mode": {
    "name": "ipython",
    "version": 3
   },
   "file_extension": ".py",
   "mimetype": "text/x-python",
   "name": "python",
   "nbconvert_exporter": "python",
   "pygments_lexer": "ipython3",
   "version": "3.6.6"
  },
  "toc": {
   "base_numbering": 1,
   "nav_menu": {},
   "number_sections": true,
   "sideBar": true,
   "skip_h1_title": false,
   "title_cell": "Table of Contents",
   "title_sidebar": "Contents",
   "toc_cell": false,
   "toc_position": {},
   "toc_section_display": true,
   "toc_window_display": false
  }
 },
 "nbformat": 4,
 "nbformat_minor": 2
}
