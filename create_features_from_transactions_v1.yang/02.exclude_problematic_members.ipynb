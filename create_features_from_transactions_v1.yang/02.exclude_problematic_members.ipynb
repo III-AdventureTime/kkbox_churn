{
 "cells": [
  {
   "cell_type": "code",
   "execution_count": 1,
   "metadata": {},
   "outputs": [
    {
     "data": {
      "text/html": [
       "\n",
       "            <div>\n",
       "                <p><b>SparkSession - hive</b></p>\n",
       "                \n",
       "        <div>\n",
       "            <p><b>SparkContext</b></p>\n",
       "\n",
       "            <p><a href=\"http://10.120.27.99:4040\">Spark UI</a></p>\n",
       "\n",
       "            <dl>\n",
       "              <dt>Version</dt>\n",
       "                <dd><code>v2.2.1</code></dd>\n",
       "              <dt>Master</dt>\n",
       "                <dd><code>local[*]</code></dd>\n",
       "              <dt>AppName</dt>\n",
       "                <dd><code>PySparkShell</code></dd>\n",
       "            </dl>\n",
       "        </div>\n",
       "        \n",
       "            </div>\n",
       "        "
      ],
      "text/plain": [
       "<pyspark.sql.session.SparkSession at 0x7f3254f8a1d0>"
      ]
     },
     "execution_count": 1,
     "metadata": {},
     "output_type": "execute_result"
    }
   ],
   "source": [
    "spark"
   ]
  },
  {
   "cell_type": "code",
   "execution_count": 2,
   "metadata": {},
   "outputs": [
    {
     "name": "stdout",
     "output_type": "stream",
     "text": [
      "root\n",
      " |-- msno: string (nullable = true)\n",
      " |-- pay_method: string (nullable = true)\n",
      " |-- plan_days: string (nullable = true)\n",
      " |-- list_price: string (nullable = true)\n",
      " |-- actual_paid: string (nullable = true)\n",
      " |-- auto_renew: string (nullable = true)\n",
      " |-- is_cancel: string (nullable = true)\n",
      " |-- trans_date: string (nullable = true)\n",
      " |-- expire_date: string (nullable = true)\n",
      " |-- corr_exp_date: string (nullable = true)\n",
      " |-- corr_start_date: string (nullable = true)\n",
      "\n"
     ]
    }
   ],
   "source": [
    "infile = 'file:///home/cloudera/2.kkbox_churn/data01/from_raw_transactions-v1/0.with_corrected_dates'\n",
    "df0 = spark.read.format('csv').option('header','true').load(infile)\n",
    "df0.printSchema()"
   ]
  },
  {
   "cell_type": "code",
   "execution_count": 3,
   "metadata": {},
   "outputs": [
    {
     "name": "stdout",
     "output_type": "stream",
     "text": [
      "root\n",
      " |-- msno: string (nullable = true)\n",
      "\n"
     ]
    }
   ],
   "source": [
    "infile = '/home/cloudera/2.kkbox_churn/data01/from_raw_transactions-v1/1.problematic_members'\n",
    "df1 = spark.read.format('csv').option('header','true').load(infile)\n",
    "df1.printSchema()"
   ]
  },
  {
   "cell_type": "markdown",
   "metadata": {},
   "source": [
    "## perform anti-join "
   ]
  },
  {
   "cell_type": "code",
   "execution_count": 5,
   "metadata": {},
   "outputs": [
    {
     "name": "stdout",
     "output_type": "stream",
     "text": [
      "root\n",
      " |-- msno: string (nullable = true)\n",
      " |-- pay_method: string (nullable = true)\n",
      " |-- plan_days: string (nullable = true)\n",
      " |-- list_price: string (nullable = true)\n",
      " |-- actual_paid: string (nullable = true)\n",
      " |-- auto_renew: string (nullable = true)\n",
      " |-- is_cancel: string (nullable = true)\n",
      " |-- trans_date: string (nullable = true)\n",
      " |-- expire_date: string (nullable = true)\n",
      " |-- corr_exp_date: string (nullable = true)\n",
      " |-- corr_start_date: string (nullable = true)\n",
      "\n"
     ]
    }
   ],
   "source": [
    "df2 = df0.join(df1, df0['msno']==df1['msno'], 'left_anti')\n",
    "df2.printSchema()"
   ]
  },
  {
   "cell_type": "code",
   "execution_count": 6,
   "metadata": {
    "collapsed": true
   },
   "outputs": [],
   "source": [
    "outfile = 'file:///home/cloudera/2.kkbox_churn/data01/from_raw_transactions-v1/2.problematic_members_excluded'\n",
    "df2.write.format('csv').option('header','true').save(outfile)"
   ]
  },
  {
   "cell_type": "markdown",
   "metadata": {},
   "source": [
    "## remove records with `corr_exp_date` = null add `tid`"
   ]
  },
  {
   "cell_type": "code",
   "execution_count": 3,
   "metadata": {},
   "outputs": [
    {
     "name": "stdout",
     "output_type": "stream",
     "text": [
      "root\n",
      " |-- msno: string (nullable = true)\n",
      " |-- pay_method: string (nullable = true)\n",
      " |-- plan_days: string (nullable = true)\n",
      " |-- list_price: string (nullable = true)\n",
      " |-- actual_paid: string (nullable = true)\n",
      " |-- auto_renew: string (nullable = true)\n",
      " |-- is_cancel: string (nullable = true)\n",
      " |-- trans_date: string (nullable = true)\n",
      " |-- expire_date: string (nullable = true)\n",
      " |-- corr_exp_date: string (nullable = true)\n",
      " |-- corr_start_date: string (nullable = true)\n",
      "\n"
     ]
    }
   ],
   "source": [
    "infile = 'file:///home/cloudera/2.kkbox_churn/data01/from_raw_transactions-v1/2.problematic_members_excluded'\n",
    "df0 = spark.read.format('csv').option('header','true').load(infile)\n",
    "df0.printSchema()"
   ]
  },
  {
   "cell_type": "code",
   "execution_count": 13,
   "metadata": {
    "collapsed": true
   },
   "outputs": [],
   "source": [
    "from pyspark.sql.functions import col\n",
    "df1 = df0.where(~col('corr_exp_date').isNull())"
   ]
  },
  {
   "cell_type": "code",
   "execution_count": 14,
   "metadata": {},
   "outputs": [
    {
     "name": "stdout",
     "output_type": "stream",
     "text": [
      "root\n",
      " |-- tid: long (nullable = false)\n",
      " |-- msno: string (nullable = true)\n",
      " |-- pay_method: string (nullable = true)\n",
      " |-- plan_days: string (nullable = true)\n",
      " |-- list_price: string (nullable = true)\n",
      " |-- actual_paid: string (nullable = true)\n",
      " |-- auto_renew: string (nullable = true)\n",
      " |-- is_cancel: string (nullable = true)\n",
      " |-- trans_date: string (nullable = true)\n",
      " |-- expire_date: string (nullable = true)\n",
      " |-- corr_exp_date: string (nullable = true)\n",
      " |-- corr_start_date: string (nullable = true)\n",
      "\n"
     ]
    }
   ],
   "source": [
    "from pyspark.sql.functions import monotonically_increasing_id\n",
    "df2 = df1.select(monotonically_increasing_id().alias('tid'), '*')\n",
    "df2.printSchema()"
   ]
  },
  {
   "cell_type": "code",
   "execution_count": 15,
   "metadata": {},
   "outputs": [
    {
     "data": {
      "text/html": [
       "<div>\n",
       "<style scoped>\n",
       "    .dataframe tbody tr th:only-of-type {\n",
       "        vertical-align: middle;\n",
       "    }\n",
       "\n",
       "    .dataframe tbody tr th {\n",
       "        vertical-align: top;\n",
       "    }\n",
       "\n",
       "    .dataframe thead th {\n",
       "        text-align: right;\n",
       "    }\n",
       "</style>\n",
       "<table border=\"1\" class=\"dataframe\">\n",
       "  <thead>\n",
       "    <tr style=\"text-align: right;\">\n",
       "      <th></th>\n",
       "      <th>tid</th>\n",
       "      <th>msno</th>\n",
       "      <th>pay_method</th>\n",
       "      <th>plan_days</th>\n",
       "      <th>list_price</th>\n",
       "      <th>actual_paid</th>\n",
       "      <th>auto_renew</th>\n",
       "      <th>is_cancel</th>\n",
       "      <th>trans_date</th>\n",
       "      <th>expire_date</th>\n",
       "      <th>corr_exp_date</th>\n",
       "      <th>corr_start_date</th>\n",
       "    </tr>\n",
       "  </thead>\n",
       "  <tbody>\n",
       "    <tr>\n",
       "      <th>0</th>\n",
       "      <td>0</td>\n",
       "      <td>5mJ0DPOvKzdvIM1LD/72I/LShb+HVXz0Kl/XuS5Oht8=</td>\n",
       "      <td>41</td>\n",
       "      <td>30</td>\n",
       "      <td>149</td>\n",
       "      <td>149</td>\n",
       "      <td>true</td>\n",
       "      <td>false</td>\n",
       "      <td>2015-11-10</td>\n",
       "      <td>2015-12-10</td>\n",
       "      <td>2015-12-10</td>\n",
       "      <td>2015-11-11</td>\n",
       "    </tr>\n",
       "    <tr>\n",
       "      <th>1</th>\n",
       "      <td>1</td>\n",
       "      <td>YxIAl59LEP2qpKbDq3UfW6I9KMJg5DV/4LKei2vaKHg=</td>\n",
       "      <td>36</td>\n",
       "      <td>30</td>\n",
       "      <td>180</td>\n",
       "      <td>180</td>\n",
       "      <td>true</td>\n",
       "      <td>false</td>\n",
       "      <td>2016-08-31</td>\n",
       "      <td>2016-10-02</td>\n",
       "      <td>2016-10-02</td>\n",
       "      <td>2016-09-03</td>\n",
       "    </tr>\n",
       "    <tr>\n",
       "      <th>2</th>\n",
       "      <td>2</td>\n",
       "      <td>beDQknpc/HYBUkqNdJGRholzO4rYP7urzjJoIr9xtQw=</td>\n",
       "      <td>41</td>\n",
       "      <td>30</td>\n",
       "      <td>149</td>\n",
       "      <td>0</td>\n",
       "      <td>true</td>\n",
       "      <td>true</td>\n",
       "      <td>2016-01-31</td>\n",
       "      <td>2016-01-31</td>\n",
       "      <td>2016-01-31</td>\n",
       "      <td>None</td>\n",
       "    </tr>\n",
       "    <tr>\n",
       "      <th>3</th>\n",
       "      <td>3</td>\n",
       "      <td>/7RhQbsl148r+Je9VZA5bP+HUXo7TJJWW+EzR6BKuLs=</td>\n",
       "      <td>40</td>\n",
       "      <td>30</td>\n",
       "      <td>149</td>\n",
       "      <td>149</td>\n",
       "      <td>true</td>\n",
       "      <td>false</td>\n",
       "      <td>2016-10-22</td>\n",
       "      <td>2016-11-22</td>\n",
       "      <td>2016-11-22</td>\n",
       "      <td>2016-10-24</td>\n",
       "    </tr>\n",
       "    <tr>\n",
       "      <th>4</th>\n",
       "      <td>4</td>\n",
       "      <td>Wb30CbaCSyk8eTKC5Qfi9sLn84U6G4RStTBBvMMp2Og=</td>\n",
       "      <td>36</td>\n",
       "      <td>30</td>\n",
       "      <td>150</td>\n",
       "      <td>150</td>\n",
       "      <td>false</td>\n",
       "      <td>false</td>\n",
       "      <td>2016-03-17</td>\n",
       "      <td>2016-04-16</td>\n",
       "      <td>2016-04-16</td>\n",
       "      <td>2016-03-18</td>\n",
       "    </tr>\n",
       "  </tbody>\n",
       "</table>\n",
       "</div>"
      ],
      "text/plain": [
       "   tid                                          msno pay_method plan_days  \\\n",
       "0    0  5mJ0DPOvKzdvIM1LD/72I/LShb+HVXz0Kl/XuS5Oht8=         41        30   \n",
       "1    1  YxIAl59LEP2qpKbDq3UfW6I9KMJg5DV/4LKei2vaKHg=         36        30   \n",
       "2    2  beDQknpc/HYBUkqNdJGRholzO4rYP7urzjJoIr9xtQw=         41        30   \n",
       "3    3  /7RhQbsl148r+Je9VZA5bP+HUXo7TJJWW+EzR6BKuLs=         40        30   \n",
       "4    4  Wb30CbaCSyk8eTKC5Qfi9sLn84U6G4RStTBBvMMp2Og=         36        30   \n",
       "\n",
       "  list_price actual_paid auto_renew is_cancel  trans_date expire_date  \\\n",
       "0        149         149       true     false  2015-11-10  2015-12-10   \n",
       "1        180         180       true     false  2016-08-31  2016-10-02   \n",
       "2        149           0       true      true  2016-01-31  2016-01-31   \n",
       "3        149         149       true     false  2016-10-22  2016-11-22   \n",
       "4        150         150      false     false  2016-03-17  2016-04-16   \n",
       "\n",
       "  corr_exp_date corr_start_date  \n",
       "0    2015-12-10      2015-11-11  \n",
       "1    2016-10-02      2016-09-03  \n",
       "2    2016-01-31            None  \n",
       "3    2016-11-22      2016-10-24  \n",
       "4    2016-04-16      2016-03-18  "
      ]
     },
     "execution_count": 15,
     "metadata": {},
     "output_type": "execute_result"
    }
   ],
   "source": [
    "df2.limit(5).toPandas()"
   ]
  },
  {
   "cell_type": "code",
   "execution_count": 16,
   "metadata": {
    "collapsed": true
   },
   "outputs": [],
   "source": [
    "# output\n",
    "outfile = 'file:///home/cloudera/2.kkbox_churn/data01/from_raw_transactions-v1/2a.problematic_members_excluded'\n",
    "df2.write.format('csv').option('header','true').save(outfile)"
   ]
  },
  {
   "cell_type": "markdown",
   "metadata": {},
   "source": [
    "## split data set into divisions\n",
    "Each member belongs to exactly 1 division."
   ]
  },
  {
   "cell_type": "code",
   "execution_count": null,
   "metadata": {
    "collapsed": true
   },
   "outputs": [],
   "source": [
    "infile = '/home/cloudera/2.kkbox_churn/data01/from_raw_transactions-v1/2a.problematic_members_excluded'\n",
    "df0 = spark.read.format('csv').option('header','true').load(infile)\n",
    "df0.printSchema()"
   ]
  },
  {
   "cell_type": "code",
   "execution_count": null,
   "metadata": {
    "collapsed": true
   },
   "outputs": [],
   "source": [
    "from pyspark.sql.functions import col\n",
    "df = df0.where(col('msno') >= 'A').where(col('msno') < 'O')\n",
    "\n",
    "dir0 = '/home/cloudera/2.kkbox_churn/data01/from_raw_transactions-v1/2a.problematic_members_excluded/'\n",
    "outfile = dir0 + 'msno_A-N'\n",
    "df.write.format('csv').option('header','true').save(outfile)"
   ]
  },
  {
   "cell_type": "code",
   "execution_count": null,
   "metadata": {
    "collapsed": true
   },
   "outputs": [],
   "source": [
    "df = df0.where(col('msno') >= 'O').where(col('msno') < '[')\n",
    "\n",
    "outfile = dir0 + 'msno_O-Z'\n",
    "df.write.format('csv').option('header','true').save(outfile)"
   ]
  },
  {
   "cell_type": "code",
   "execution_count": null,
   "metadata": {
    "collapsed": true
   },
   "outputs": [],
   "source": [
    "df = df0.where(col('msno') >= 'a').where(col('msno') < 'o')\n",
    "\n",
    "outfile = dir0 + 'msno_a-n'\n",
    "df.write.format('csv').option('header','true').save(outfile)"
   ]
  },
  {
   "cell_type": "code",
   "execution_count": null,
   "metadata": {
    "collapsed": true
   },
   "outputs": [],
   "source": [
    "df = df0.where(col('msno') >= 'o').where(col('msno') < '{')\n",
    "\n",
    "outfile = dir0 + 'msno_o-z'\n",
    "df.write.format('csv').option('header','true').save(outfile)"
   ]
  },
  {
   "cell_type": "code",
   "execution_count": null,
   "metadata": {
    "collapsed": true
   },
   "outputs": [],
   "source": [
    "df = df0.where((col('msno')<'A') | (col('msno')>='[')) \\\n",
    "        .where((col('msno')<'a') | (col('msno')>='{'))\n",
    "\n",
    "outfile = dir0 + 'msno_non-letter'\n",
    "df.write.format('csv').option('header','true').save(outfile)"
   ]
  },
  {
   "cell_type": "code",
   "execution_count": null,
   "metadata": {
    "collapsed": true
   },
   "outputs": [],
   "source": []
  }
 ],
 "metadata": {
  "kernelspec": {
   "display_name": "Python 3",
   "language": "python",
   "name": "python3"
  },
  "language_info": {
   "codemirror_mode": {
    "name": "ipython",
    "version": 3
   },
   "file_extension": ".py",
   "mimetype": "text/x-python",
   "name": "python",
   "nbconvert_exporter": "python",
   "pygments_lexer": "ipython3",
   "version": "3.6.2"
  },
  "toc": {
   "base_numbering": 1,
   "nav_menu": {},
   "number_sections": true,
   "sideBar": true,
   "skip_h1_title": false,
   "title_cell": "Table of Contents",
   "title_sidebar": "Contents",
   "toc_cell": false,
   "toc_position": {},
   "toc_section_display": true,
   "toc_window_display": false
  }
 },
 "nbformat": 4,
 "nbformat_minor": 2
}
