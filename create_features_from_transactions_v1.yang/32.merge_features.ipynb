{
 "cells": [
  {
   "cell_type": "code",
   "execution_count": 1,
   "metadata": {},
   "outputs": [
    {
     "data": {
      "text/html": [
       "\n",
       "            <div>\n",
       "                <p><b>SparkSession - hive</b></p>\n",
       "                \n",
       "        <div>\n",
       "            <p><b>SparkContext</b></p>\n",
       "\n",
       "            <p><a href=\"http://master:4040\">Spark UI</a></p>\n",
       "\n",
       "            <dl>\n",
       "              <dt>Version</dt>\n",
       "                <dd><code>v2.3.0</code></dd>\n",
       "              <dt>Master</dt>\n",
       "                <dd><code>local[4]</code></dd>\n",
       "              <dt>AppName</dt>\n",
       "                <dd><code>PySparkShell</code></dd>\n",
       "            </dl>\n",
       "        </div>\n",
       "        \n",
       "            </div>\n",
       "        "
      ],
      "text/plain": [
       "<pyspark.sql.session.SparkSession at 0x7efeffb3f198>"
      ]
     },
     "execution_count": 1,
     "metadata": {},
     "output_type": "execute_result"
    }
   ],
   "source": [
    "spark"
   ]
  },
  {
   "cell_type": "code",
   "execution_count": 2,
   "metadata": {},
   "outputs": [],
   "source": [
    "# dir0 = '/home/cloudera/2.kkbox_churn/data01/from_raw_transactions-v1/feature_creation/'\n",
    "dir0 = '/home/master/iii_projects_data/kkbox_churn/data01/from_raw_transactions_v1/feature_creation/'"
   ]
  },
  {
   "cell_type": "code",
   "execution_count": null,
   "metadata": {},
   "outputs": [],
   "source": []
  },
  {
   "cell_type": "code",
   "execution_count": null,
   "metadata": {},
   "outputs": [],
   "source": []
  },
  {
   "cell_type": "code",
   "execution_count": null,
   "metadata": {},
   "outputs": [],
   "source": []
  },
  {
   "cell_type": "code",
   "execution_count": 4,
   "metadata": {},
   "outputs": [],
   "source": [
    "# subdir = '32.features_categorical/'\n",
    "# items = ['actual_paid', 'auto_renew', 'discount', 'list_price', 'pay_method', 'plan_days']\n",
    "\n",
    "subdir = '33.features_continuous/'\n",
    "items = ['actual_paid', 'discount', 'list_price']\n",
    "\n",
    "dfs = []\n",
    "for it in items:\n",
    "    infile = dir0+subdir+it\n",
    "    df = spark.read.format('csv').option('header', 'true').load(infile)\n",
    "    dfs.append(df)\n",
    "    \n",
    "df_join = dfs[0]\n",
    "for df in dfs[1:]:\n",
    "    df1 = df.withColumnRenamed('msno', 'msno_')\n",
    "    df_join = df_join.join(df1, df_join['msno']==df1['msno_'], 'inner').drop('msno_')\n",
    "    \n",
    "outfile = dir0+subdir+'all-features'\n",
    "df_join.write.format('csv').option('header','true').save(outfile)"
   ]
  },
  {
   "cell_type": "code",
   "execution_count": null,
   "metadata": {},
   "outputs": [],
   "source": [
    "\n"
   ]
  },
  {
   "cell_type": "code",
   "execution_count": null,
   "metadata": {},
   "outputs": [],
   "source": []
  },
  {
   "cell_type": "code",
   "execution_count": 5,
   "metadata": {},
   "outputs": [],
   "source": [
    "infile = dir0+'30.features_gaps-related'\n",
    "df30 = spark.read.format('csv').option('header','true').load(infile) \\\n",
    "       .drop('gaps')"
   ]
  },
  {
   "cell_type": "code",
   "execution_count": 6,
   "metadata": {},
   "outputs": [],
   "source": [
    "subdirs = ['31.features_latest/', '32.features_categorical/', '33.features_continuous/']\n",
    "\n",
    "df_join = df30\n",
    "for subdir in subdirs:\n",
    "    infile = dir0+subdir\n",
    "    if not subdir.startswith('31.'):\n",
    "        infile += '/'+'all-features'\n",
    "    df = spark.read.format('csv').option('header','true').load(infile) \\\n",
    "         .withColumnRenamed('msno', 'msno_')\n",
    "    df_join = df_join.join(df, df_join['msno']==df['msno_'], 'inner').drop('msno_')\n",
    "    \n",
    "outfile = dir0 + '34.all_trans_features/'\n",
    "df_join.write.format('csv').option('header','true').save(outfile)"
   ]
  },
  {
   "cell_type": "code",
   "execution_count": null,
   "metadata": {},
   "outputs": [],
   "source": []
  }
 ],
 "metadata": {
  "kernelspec": {
   "display_name": "Python 3",
   "language": "python",
   "name": "python3"
  },
  "language_info": {
   "codemirror_mode": {
    "name": "ipython",
    "version": 3
   },
   "file_extension": ".py",
   "mimetype": "text/x-python",
   "name": "python",
   "nbconvert_exporter": "python",
   "pygments_lexer": "ipython3",
   "version": "3.6.4"
  },
  "toc": {
   "base_numbering": 1,
   "nav_menu": {},
   "number_sections": true,
   "sideBar": true,
   "skip_h1_title": false,
   "title_cell": "Table of Contents",
   "title_sidebar": "Contents",
   "toc_cell": false,
   "toc_position": {},
   "toc_section_display": true,
   "toc_window_display": false
  }
 },
 "nbformat": 4,
 "nbformat_minor": 2
}
