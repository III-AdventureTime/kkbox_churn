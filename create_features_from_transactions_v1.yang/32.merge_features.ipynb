{
 "cells": [
  {
   "cell_type": "code",
   "execution_count": 1,
   "metadata": {},
   "outputs": [
    {
     "data": {
      "text/html": [
       "\n",
       "            <div>\n",
       "                <p><b>SparkSession - hive</b></p>\n",
       "                \n",
       "        <div>\n",
       "            <p><b>SparkContext</b></p>\n",
       "\n",
       "            <p><a href=\"http://10.120.27.99:4040\">Spark UI</a></p>\n",
       "\n",
       "            <dl>\n",
       "              <dt>Version</dt>\n",
       "                <dd><code>v2.2.1</code></dd>\n",
       "              <dt>Master</dt>\n",
       "                <dd><code>local[*]</code></dd>\n",
       "              <dt>AppName</dt>\n",
       "                <dd><code>PySparkShell</code></dd>\n",
       "            </dl>\n",
       "        </div>\n",
       "        \n",
       "            </div>\n",
       "        "
      ],
      "text/plain": [
       "<pyspark.sql.session.SparkSession at 0x7f26983fe1d0>"
      ]
     },
     "execution_count": 1,
     "metadata": {},
     "output_type": "execute_result"
    }
   ],
   "source": [
    "spark"
   ]
  },
  {
   "cell_type": "code",
   "execution_count": 2,
   "metadata": {},
   "outputs": [],
   "source": [
    "dir0 = '/home/cloudera/2.kkbox_churn/data01/from_raw_transactions-v1/feature_creation/'"
   ]
  },
  {
   "cell_type": "code",
   "execution_count": null,
   "metadata": {},
   "outputs": [],
   "source": []
  },
  {
   "cell_type": "code",
   "execution_count": null,
   "metadata": {},
   "outputs": [],
   "source": []
  },
  {
   "cell_type": "code",
   "execution_count": null,
   "metadata": {},
   "outputs": [],
   "source": []
  },
  {
   "cell_type": "code",
   "execution_count": 16,
   "metadata": {},
   "outputs": [],
   "source": [
    "# subdir = '32.features_categorical/'\n",
    "subdir = '33.features_continuous/'\n",
    "\n",
    "divisions = ['msno_a-n', 'msno_A-N',  'msno_non-letter', 'msno_o-z', 'msno_O-Z']\n",
    "division = divisions[4]\n",
    "\n",
    "# items = ['actual_paid', 'auto_renew', 'discount', 'list_price', 'pay_method', 'plan_days']\n",
    "items = ['actual_paid', 'discount', 'list_price']\n",
    "\n",
    "dfs = []\n",
    "for it in items:\n",
    "    infile = dir0+subdir+division+'/'+it\n",
    "    df = spark.read.format('csv').option('header', 'true').load(infile)\n",
    "    dfs.append(df)\n",
    "    \n",
    "df_join = dfs[0]\n",
    "for df in dfs[1:]:\n",
    "    df1 = df.withColumnRenamed('msno', 'msno_')\n",
    "    df_join = df_join.join(df1, df_join['msno']==df1['msno_'], 'inner').drop('msno_')\n",
    "    \n",
    "outfile = dir0+subdir+division+'/'+'all-features'\n",
    "df_join.write.format('csv').option('header','true').save(outfile)"
   ]
  },
  {
   "cell_type": "code",
   "execution_count": null,
   "metadata": {},
   "outputs": [],
   "source": [
    "\n"
   ]
  },
  {
   "cell_type": "code",
   "execution_count": null,
   "metadata": {},
   "outputs": [],
   "source": []
  },
  {
   "cell_type": "code",
   "execution_count": 24,
   "metadata": {},
   "outputs": [],
   "source": [
    "infile = dir0+'30.features_1'\n",
    "df30 = spark.read.format('csv').option('header','true').load(infile) \\\n",
    "       .drop('gaps')"
   ]
  },
  {
   "cell_type": "code",
   "execution_count": 30,
   "metadata": {},
   "outputs": [],
   "source": [
    "subdirs = ['31.features_latest/', '32.features_categorical/', '33.features_continuous/']\n",
    "\n",
    "divisions = ['msno_a-n', 'msno_A-N',  'msno_non-letter', 'msno_o-z', 'msno_O-Z']\n",
    "division = divisions[4]\n",
    "\n",
    "###\n",
    "df_join = df30\n",
    "for subdir in subdirs:\n",
    "    infile = dir0+subdir+division\n",
    "    if not subdir.startswith('31.'):\n",
    "        infile += '/'+'all-features'\n",
    "    df = spark.read.format('csv').option('header','true').load(infile) \\\n",
    "         .withColumnRenamed('msno', 'msno_')\n",
    "    df_join = df_join.join(df, df_join['msno']==df['msno_'], 'inner').drop('msno_')\n",
    "    \n",
    "outfile = dir0 + '34.all_trans_features/' + division\n",
    "df_join.write.format('csv').option('header','true').save(outfile)"
   ]
  },
  {
   "cell_type": "code",
   "execution_count": null,
   "metadata": {},
   "outputs": [],
   "source": []
  },
  {
   "cell_type": "code",
   "execution_count": null,
   "metadata": {},
   "outputs": [],
   "source": []
  },
  {
   "cell_type": "code",
   "execution_count": null,
   "metadata": {},
   "outputs": [],
   "source": []
  },
  {
   "cell_type": "code",
   "execution_count": 8,
   "metadata": {},
   "outputs": [],
   "source": [
    "subdir = '34.all_trans_features/'\n",
    "divisions = ['msno_a-n', 'msno_A-N',  'msno_non-letter', 'msno_o-z', 'msno_O-Z']\n",
    "\n",
    "dfs = []\n",
    "for division in divisions:\n",
    "    infile = dir0 + subdir + division\n",
    "    df = spark.read.format('csv').option('header','true').load(infile)\n",
    "    dfs.append(df)\n",
    "    \n",
    "df_union = dfs[0]\n",
    "for df in dfs[1:]:\n",
    "    df_union = df_union.union(df)\n",
    "    \n",
    "outfile = dir0 + subdir + 'all-members'\n",
    "df_union.coalesce(8).write.format('csv').option('header','true').save(outfile)"
   ]
  },
  {
   "cell_type": "code",
   "execution_count": null,
   "metadata": {},
   "outputs": [],
   "source": []
  }
 ],
 "metadata": {
  "kernelspec": {
   "display_name": "Python 3",
   "language": "python",
   "name": "python3"
  },
  "language_info": {
   "codemirror_mode": {
    "name": "ipython",
    "version": 3
   },
   "file_extension": ".py",
   "mimetype": "text/x-python",
   "name": "python",
   "nbconvert_exporter": "python",
   "pygments_lexer": "ipython3",
   "version": "3.6.6"
  },
  "toc": {
   "base_numbering": 1,
   "nav_menu": {},
   "number_sections": true,
   "sideBar": true,
   "skip_h1_title": false,
   "title_cell": "Table of Contents",
   "title_sidebar": "Contents",
   "toc_cell": false,
   "toc_position": {},
   "toc_section_display": true,
   "toc_window_display": false
  }
 },
 "nbformat": 4,
 "nbformat_minor": 2
}
