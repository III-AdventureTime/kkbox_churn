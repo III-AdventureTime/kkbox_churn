{
 "cells": [
  {
   "cell_type": "code",
   "execution_count": 1,
   "metadata": {},
   "outputs": [
    {
     "data": {
      "text/html": [
       "\n",
       "            <div>\n",
       "                <p><b>SparkSession - hive</b></p>\n",
       "                \n",
       "        <div>\n",
       "            <p><b>SparkContext</b></p>\n",
       "\n",
       "            <p><a href=\"http://10.120.27.99:4040\">Spark UI</a></p>\n",
       "\n",
       "            <dl>\n",
       "              <dt>Version</dt>\n",
       "                <dd><code>v2.2.1</code></dd>\n",
       "              <dt>Master</dt>\n",
       "                <dd><code>local[*]</code></dd>\n",
       "              <dt>AppName</dt>\n",
       "                <dd><code>PySparkShell</code></dd>\n",
       "            </dl>\n",
       "        </div>\n",
       "        \n",
       "            </div>\n",
       "        "
      ],
      "text/plain": [
       "<pyspark.sql.session.SparkSession at 0x7fcdf0190240>"
      ]
     },
     "execution_count": 1,
     "metadata": {},
     "output_type": "execute_result"
    }
   ],
   "source": [
    "spark"
   ]
  },
  {
   "cell_type": "code",
   "execution_count": 82,
   "metadata": {},
   "outputs": [],
   "source": [
    "dir0 = 'file:///home/cloudera/2.kkbox_churn/data01/from_raw_transactions-v1/feature_creation/'\n",
    "file_flag = 'msno_a-n'\n",
    "infile_trans = dir0 + '02b.w_features_added/' + file_flag\n",
    "infile_period_lens = dir0 + '21.subscrip-period_intersected_lengths'"
   ]
  },
  {
   "cell_type": "code",
   "execution_count": 5,
   "metadata": {},
   "outputs": [
    {
     "name": "stdout",
     "output_type": "stream",
     "text": [
      "root\n",
      " |-- msno: string (nullable = true)\n",
      " |-- trans_date: string (nullable = true)\n",
      " |-- pay_method: string (nullable = true)\n",
      " |-- plan_days: string (nullable = true)\n",
      " |-- list_price: string (nullable = true)\n",
      " |-- actual_paid: string (nullable = true)\n",
      " |-- discount: string (nullable = true)\n",
      " |-- paid_per_day: string (nullable = true)\n",
      " |-- auto_renew: string (nullable = true)\n",
      " |-- intersected_len: string (nullable = true)\n",
      " |-- is_latest: string (nullable = true)\n",
      "\n"
     ]
    }
   ],
   "source": [
    "df_trans = spark.read.format('csv').option('header','true').load(infile_trans)\n",
    "df_lens = spark.read.format('csv').option('header','true').load(infile_period_lens) \\\n",
    "          .selectExpr('tid AS tid_', 'length', 'is_latest')\n",
    "\n",
    "# joining\n",
    "df0 = df_trans.join(df_lens, df_trans['tid']==df_lens['tid_'], 'inner') \\\n",
    "      .drop('tid_').drop('tid').withColumnRenamed('length', 'intersected_len')\n",
    "df0.printSchema()"
   ]
  },
  {
   "cell_type": "markdown",
   "metadata": {},
   "source": [
    "## latest behavior"
   ]
  },
  {
   "cell_type": "code",
   "execution_count": 9,
   "metadata": {},
   "outputs": [],
   "source": [
    "from pyspark.sql.functions import col\n",
    "df_last = df0.where(col('is_latest') == '1') \\\n",
    "          .selectExpr('msno',\n",
    "                      'pay_method AS last_pay_method',\n",
    "                      'plan_days AS last_plan_days',\n",
    "                      'list_price AS last_list_price',\n",
    "                      'actual_paid AS last_actual_paid',\n",
    "                      'discount AS last_discount',\n",
    "                      'paid_per_day AS last_paid_per_day')\n",
    "\n",
    "# output\n",
    "outfile = dir0 + '31.features_latest/' + file_flag\n",
    "df_last.write.format('csv').option('header','true').save(outfile)"
   ]
  },
  {
   "cell_type": "markdown",
   "metadata": {},
   "source": [
    "## categorical "
   ]
  },
  {
   "cell_type": "code",
   "execution_count": 96,
   "metadata": {},
   "outputs": [],
   "source": [
    "from pyspark.sql.functions import count\n",
    "from pyspark.sql.functions import concat_ws, collect_list\n",
    "\n",
    "field = 'actual_paid'\n",
    "#field = 'auto_renew'\n",
    "#field = 'discount'\n",
    "#field = 'list_price'\n",
    "#field = 'pay_method'\n",
    "#field = 'plan_days'\n",
    "\n",
    "df1 = df0.select('msno', field)\n",
    "df2 = df1.groupBy('msno', field).agg(count('*').cast('string').alias('count_trans'))\n",
    "df3 = df2.select('msno', concat_ws(':', field, 'count_trans').alias('cat_count'))\n",
    "df4 = df3.groupBy('msno').agg(concat_ws('/', collect_list('cat_count')).alias('cat_counts'))"
   ]
  },
  {
   "cell_type": "code",
   "execution_count": 97,
   "metadata": {},
   "outputs": [],
   "source": [
    "import random\n",
    "\n",
    "def find_uniq_cnt_et_mode(cat_counts_str):\n",
    "    cat_counts = [s.split(':')  for s in cat_counts_str.split('/')]\n",
    "    count_uniq = len(cat_counts)\n",
    "    if count_uniq == 1:\n",
    "        return (1, cat_counts[0][0])\n",
    "    \n",
    "    max_count = max([int(it[1])  for it in cat_counts])\n",
    "    cats_w_max_cnt = [it[0]  for it in cat_counts  if it[1] == str(max_count)]\n",
    "\n",
    "    return (count_uniq, random.choice(cats_w_max_cnt))\n",
    "\n",
    "#find_uniq_cnt_et_mode('a:3')    "
   ]
  },
  {
   "cell_type": "code",
   "execution_count": 98,
   "metadata": {
    "scrolled": false
   },
   "outputs": [],
   "source": [
    "from pyspark.sql import Row\n",
    "from pyspark.sql.functions import col\n",
    "\n",
    "def map_func(row):\n",
    "    cnt_uniq, mode = find_uniq_cnt_et_mode(row['cat_counts'])\n",
    "    return Row(msno=row['msno'], cnt_uniq=cnt_uniq, mode=mode)\n",
    "\n",
    "df5 = df4.rdd.map(map_func).toDF() \\\n",
    "      .select('msno', col('cnt_uniq').alias(field+'_cnt_uniq'), col('mode').alias(field+'_mode'))\n",
    "\n",
    "# output\n",
    "outfile = dir0 + '32.features_categorical/' + file_flag + '/' + field\n",
    "df5.write.format('csv').option('header','true').save(outfile)"
   ]
  },
  {
   "cell_type": "markdown",
   "metadata": {},
   "source": [
    "## continuous"
   ]
  },
  {
   "cell_type": "code",
   "execution_count": null,
   "metadata": {},
   "outputs": [],
   "source": []
  }
 ],
 "metadata": {
  "kernelspec": {
   "display_name": "Python 3",
   "language": "python",
   "name": "python3"
  },
  "language_info": {
   "codemirror_mode": {
    "name": "ipython",
    "version": 3
   },
   "file_extension": ".py",
   "mimetype": "text/x-python",
   "name": "python",
   "nbconvert_exporter": "python",
   "pygments_lexer": "ipython3",
   "version": "3.6.6"
  },
  "toc": {
   "base_numbering": 1,
   "nav_menu": {},
   "number_sections": true,
   "sideBar": true,
   "skip_h1_title": false,
   "title_cell": "Table of Contents",
   "title_sidebar": "Contents",
   "toc_cell": false,
   "toc_position": {},
   "toc_section_display": true,
   "toc_window_display": false
  }
 },
 "nbformat": 4,
 "nbformat_minor": 2
}
