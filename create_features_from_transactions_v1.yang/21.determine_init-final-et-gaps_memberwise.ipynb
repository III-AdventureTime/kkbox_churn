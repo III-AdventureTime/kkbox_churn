{
 "cells": [
  {
   "cell_type": "code",
   "execution_count": 1,
   "metadata": {},
   "outputs": [
    {
     "data": {
      "text/html": [
       "\n",
       "            <div>\n",
       "                <p><b>SparkSession - hive</b></p>\n",
       "                \n",
       "        <div>\n",
       "            <p><b>SparkContext</b></p>\n",
       "\n",
       "            <p><a href=\"http://10.120.27.99:4040\">Spark UI</a></p>\n",
       "\n",
       "            <dl>\n",
       "              <dt>Version</dt>\n",
       "                <dd><code>v2.2.1</code></dd>\n",
       "              <dt>Master</dt>\n",
       "                <dd><code>local[*]</code></dd>\n",
       "              <dt>AppName</dt>\n",
       "                <dd><code>PySparkShell</code></dd>\n",
       "            </dl>\n",
       "        </div>\n",
       "        \n",
       "            </div>\n",
       "        "
      ],
      "text/plain": [
       "<pyspark.sql.session.SparkSession at 0x7fed481a82e8>"
      ]
     },
     "execution_count": 1,
     "metadata": {},
     "output_type": "execute_result"
    }
   ],
   "source": [
    "spark"
   ]
  },
  {
   "cell_type": "code",
   "execution_count": 2,
   "metadata": {},
   "outputs": [
    {
     "name": "stdout",
     "output_type": "stream",
     "text": [
      "+--------------------+------------+----------+----------+\n",
      "|                msno|         tid|start_date|  end_date|\n",
      "+--------------------+------------+----------+----------+\n",
      "|++oyL81blqseBfQMo...|111669204178|2016-09-02|2016-10-01|\n",
      "+--------------------+------------+----------+----------+\n",
      "only showing top 1 row\n",
      "\n"
     ]
    }
   ],
   "source": [
    "dir0 = '/home/cloudera/2.kkbox_churn/data01/from_raw_transactions-v1/feature_creation/'\n",
    "# dir0 = '/home/master/iii_projects_data/kkbox_churn/data01/from_raw_transactions_v1/feature_creation/'\n",
    "infile = dir0 + '13.members-w-last-end-in-2017_ends-after-20161001'\n",
    "\n",
    "df0 = spark.read.format('csv').option('header','true').load(infile) \n",
    "df0.show(1)"
   ]
  },
  {
   "cell_type": "code",
   "execution_count": 3,
   "metadata": {},
   "outputs": [
    {
     "name": "stdout",
     "output_type": "stream",
     "text": [
      "+--------------------------------------------+---------------------+\n",
      "|msno                                        |period               |\n",
      "+--------------------------------------------+---------------------+\n",
      "|++oyL81blqseBfQMoxZgHD1yxxHclr+8pc61dVPsoRc=|2016-09-02_2016-10-01|\n",
      "+--------------------------------------------+---------------------+\n",
      "only showing top 1 row\n",
      "\n"
     ]
    }
   ],
   "source": [
    "from pyspark.sql.functions import concat_ws\n",
    "\n",
    "df1 = df0.select('msno', concat_ws('_', 'start_date', 'end_date').alias('period'))\n",
    "df1.show(1, truncate=False)"
   ]
  },
  {
   "cell_type": "code",
   "execution_count": 4,
   "metadata": {
    "scrolled": true
   },
   "outputs": [
    {
     "name": "stdout",
     "output_type": "stream",
     "text": [
      "+--------------------------------------------+-----------------------------------------------------------------+\n",
      "|msno                                        |subscrip_periods                                                 |\n",
      "+--------------------------------------------+-----------------------------------------------------------------+\n",
      "|fF1YY7dQ4AjyMvfSi53Xu7Kdr6+U2Cgv4032gvmCF5Q=|2016-12-02_2016-12-31/2016-09-02_2016-10-01/2016-10-11_2017-02-07|\n",
      "+--------------------------------------------+-----------------------------------------------------------------+\n",
      "\n"
     ]
    }
   ],
   "source": [
    "from pyspark.sql.functions import concat_ws, collect_list, col\n",
    "df2 = df1.groupBy('msno').agg(concat_ws('/', collect_list('period')).alias('subscrip_periods'))\n",
    "\n",
    "#df2.show(1, truncate=False)\n",
    "df2.where(col('msno').startswith('fF1YY7d')).show(truncate=False)"
   ]
  },
  {
   "cell_type": "code",
   "execution_count": 5,
   "metadata": {},
   "outputs": [],
   "source": [
    "import datetime as DT\n",
    "\n",
    "def add_one_day(date_str):\n",
    "    t = DT.datetime.strptime(date_str, '%Y-%m-%d') + DT.timedelta(days=1)\n",
    "    return t.strftime('%Y-%m-%d')\n",
    "\n",
    "\n",
    "def subtract_one_day(date_str):\n",
    "    t = DT.datetime.strptime(date_str, '%Y-%m-%d') - DT.timedelta(days=1)\n",
    "    return t.strftime('%Y-%m-%d')\n",
    "\n",
    "\n",
    "def count_days(start_date, end_date):\n",
    "    delta = DT.datetime.strptime(end_date, '%Y-%m-%d') - DT.datetime.strptime(start_date, '%Y-%m-%d')\n",
    "    return delta.days + 1\n",
    "    \n",
    "\n",
    "def take_union(date_intervals):\n",
    "    shifts_dict = {}\n",
    "    for p in date_intervals:\n",
    "        if p[0] in shifts_dict:\n",
    "            shifts_dict[p[0]] += 1\n",
    "        else:\n",
    "            shifts_dict[p[0]] = 1\n",
    "            \n",
    "        t_end = add_one_day(p[1])\n",
    "        if t_end in shifts_dict:\n",
    "            shifts_dict[t_end] -= 1\n",
    "        else:\n",
    "            shifts_dict[t_end] = -1\n",
    "    \n",
    "    shifts = sorted(shifts_dict.items())\n",
    "    union_intervals = []\n",
    "    v = 0\n",
    "    start = None\n",
    "    for sh in shifts:\n",
    "        v_prev = v\n",
    "        v += sh[1]\n",
    "        if v_prev == 0 and v > 0:\n",
    "            start = sh[0]\n",
    "        elif v_prev > 0 and v == 0:\n",
    "            end = sh[0]\n",
    "            union_intervals.append([start, end])\n",
    "            \n",
    "    return [[p[0], subtract_one_day(p[1])]  for p in union_intervals]\n",
    "    \n",
    "    \n",
    "def find_gaps(periods, init_date, final_date, min_gap_len):\n",
    "    '''\n",
    "    Find gaps within [init_date, final_date] that are no shorter than `min_gap_len` days.\n",
    "    '''\n",
    "    periods += [['1970-01-01', subtract_one_day(init_date)], [add_one_day(final_date), '2099-12-31']]\n",
    "    union_periods = take_union(periods)\n",
    "    \n",
    "    gaps = []\n",
    "    for i in range(0, len(union_periods)-1):\n",
    "        a_gap = [add_one_day(union_periods[i][1]), subtract_one_day(union_periods[i+1][0])]\n",
    "        if count_days(a_gap[0], a_gap[1]) >= min_gap_len:\n",
    "            gaps.append(a_gap)\n",
    "        \n",
    "    return gaps  \n",
    "\n",
    "\n",
    "def determin_init_final_et_gaps(subscrip_periods_str):\n",
    "    '''\n",
    "    Determine init. date and final date to be considered for feature generation.\n",
    "    Also, find gaps within [init_date, final_date] that are no shorter than 5 days.\n",
    "    Return (init_date, final_date, gaps).\n",
    "    '''\n",
    "    subscrip_periods = [p.split('_') for p in subscrip_periods_str.split('/')]\n",
    "    \n",
    "    # determine final date\n",
    "    final_date = max([p[1] for p in subscrip_periods])\n",
    "    if final_date > '2017-02-28':\n",
    "        final_date = '2017-02-28'\n",
    "    \n",
    "    # determine init. date (final_date - 89 days)\n",
    "    init_date = (DT.datetime.strptime(final_date, '%Y-%m-%d') - DT.timedelta(days=89)) \\\n",
    "                .strftime('%Y-%m-%d')\n",
    "    \n",
    "    # find gaps within [init_date, final_date] that are no shorter than 5 days\n",
    "    min_gap_len = 5\n",
    "    gaps = find_gaps(subscrip_periods, init_date, final_date, min_gap_len)\n",
    "    \n",
    "    return (init_date, final_date, gaps)\n"
   ]
  },
  {
   "cell_type": "code",
   "execution_count": 7,
   "metadata": {},
   "outputs": [
    {
     "data": {
      "text/plain": [
       "('2016-12-01', '2017-02-28', [])"
      ]
     },
     "execution_count": 7,
     "metadata": {},
     "output_type": "execute_result"
    }
   ],
   "source": [
    "subscrip_periods = '2016-12-02_2016-12-31/2016-09-02_2016-10-01/2016-10-11_2017-03-07'\n",
    "determin_init_final_et_gaps(subscrip_periods)"
   ]
  },
  {
   "cell_type": "code",
   "execution_count": 8,
   "metadata": {
    "scrolled": true
   },
   "outputs": [],
   "source": [
    "from pyspark.sql import Row\n",
    "\n",
    "def map_func(row):\n",
    "    init, final, gaps = determin_init_final_et_gaps(row['subscrip_periods'])\n",
    "    gaps_str = '/'.join(['_'.join(g)  for g in gaps])\n",
    "    return Row(msno=row['msno'], init_date=init, final_date=final, gaps=gaps_str)\n",
    "\n",
    "df3 = df2.rdd.map(map_func).toDF() \\\n",
    "      .select('msno', 'init_date', 'final_date', 'gaps')\n",
    "#df3.show(20, truncate=False)"
   ]
  },
  {
   "cell_type": "code",
   "execution_count": 9,
   "metadata": {},
   "outputs": [],
   "source": [
    "# output\n",
    "outfile = dir0 + '20.init-final-et-gaps_for_each_member'\n",
    "df3.write.format('csv').option('header', 'true').save(outfile)"
   ]
  },
  {
   "cell_type": "code",
   "execution_count": null,
   "metadata": {},
   "outputs": [],
   "source": []
  },
  {
   "cell_type": "code",
   "execution_count": null,
   "metadata": {},
   "outputs": [],
   "source": []
  },
  {
   "cell_type": "code",
   "execution_count": null,
   "metadata": {},
   "outputs": [],
   "source": []
  },
  {
   "cell_type": "code",
   "execution_count": null,
   "metadata": {},
   "outputs": [],
   "source": []
  },
  {
   "cell_type": "code",
   "execution_count": null,
   "metadata": {},
   "outputs": [],
   "source": [
    "\n"
   ]
  }
 ],
 "metadata": {
  "kernelspec": {
   "display_name": "Python 3",
   "language": "python",
   "name": "python3"
  },
  "language_info": {
   "codemirror_mode": {
    "name": "ipython",
    "version": 3
   },
   "file_extension": ".py",
   "mimetype": "text/x-python",
   "name": "python",
   "nbconvert_exporter": "python",
   "pygments_lexer": "ipython3",
   "version": "3.6.6"
  },
  "toc": {
   "base_numbering": 1,
   "nav_menu": {},
   "number_sections": true,
   "sideBar": true,
   "skip_h1_title": false,
   "title_cell": "Table of Contents",
   "title_sidebar": "Contents",
   "toc_cell": false,
   "toc_position": {},
   "toc_section_display": true,
   "toc_window_display": false
  }
 },
 "nbformat": 4,
 "nbformat_minor": 2
}
