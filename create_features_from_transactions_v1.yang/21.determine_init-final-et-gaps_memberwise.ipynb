{
 "cells": [
  {
   "cell_type": "code",
   "execution_count": 1,
   "metadata": {},
   "outputs": [
    {
     "data": {
      "text/html": [
       "\n",
       "            <div>\n",
       "                <p><b>SparkSession - hive</b></p>\n",
       "                \n",
       "        <div>\n",
       "            <p><b>SparkContext</b></p>\n",
       "\n",
       "            <p><a href=\"http://master:4040\">Spark UI</a></p>\n",
       "\n",
       "            <dl>\n",
       "              <dt>Version</dt>\n",
       "                <dd><code>v2.3.0</code></dd>\n",
       "              <dt>Master</dt>\n",
       "                <dd><code>local[4]</code></dd>\n",
       "              <dt>AppName</dt>\n",
       "                <dd><code>PySparkShell</code></dd>\n",
       "            </dl>\n",
       "        </div>\n",
       "        \n",
       "            </div>\n",
       "        "
      ],
      "text/plain": [
       "<pyspark.sql.session.SparkSession at 0x7ff1a1875748>"
      ]
     },
     "execution_count": 1,
     "metadata": {},
     "output_type": "execute_result"
    }
   ],
   "source": [
    "spark"
   ]
  },
  {
   "cell_type": "code",
   "execution_count": 2,
   "metadata": {},
   "outputs": [
    {
     "name": "stdout",
     "output_type": "stream",
     "text": [
      "+--------------------+------------+----------+----------+\n",
      "|                msno|         tid|start_date|  end_date|\n",
      "+--------------------+------------+----------+----------+\n",
      "|++oyL81blqseBfQMo...|111669204178|2016-09-02|2016-10-01|\n",
      "+--------------------+------------+----------+----------+\n",
      "only showing top 1 row\n",
      "\n"
     ]
    }
   ],
   "source": [
    "# dir0 = '/home/cloudera/2.kkbox_churn/data01/from_raw_transactions-v1/feature_creation/'\n",
    "dir0 = '/home/master/iii_projects_data/kkbox_churn/data01/from_raw_transactions_v1/feature_creation/'\n",
    "infile = dir0 + '13.members-w-last-end-in-2017_ends-after-20161001'\n",
    "\n",
    "df0 = spark.read.format('csv').option('header','true').load(infile) \n",
    "df0.show(1)"
   ]
  },
  {
   "cell_type": "code",
   "execution_count": 3,
   "metadata": {},
   "outputs": [
    {
     "name": "stdout",
     "output_type": "stream",
     "text": [
      "+--------------------------------------------+---------------------+\n",
      "|msno                                        |period               |\n",
      "+--------------------------------------------+---------------------+\n",
      "|++oyL81blqseBfQMoxZgHD1yxxHclr+8pc61dVPsoRc=|2016-09-02_2016-10-01|\n",
      "+--------------------------------------------+---------------------+\n",
      "only showing top 1 row\n",
      "\n"
     ]
    }
   ],
   "source": [
    "from pyspark.sql.functions import concat_ws\n",
    "\n",
    "df1 = df0.select('msno', concat_ws('_', 'start_date', 'end_date').alias('period'))\n",
    "df1.show(1, truncate=False)"
   ]
  },
  {
   "cell_type": "code",
   "execution_count": 4,
   "metadata": {
    "scrolled": true
   },
   "outputs": [
    {
     "name": "stdout",
     "output_type": "stream",
     "text": [
      "+--------------------------------------------+-----------------------------------------------------------------+\n",
      "|msno                                        |subscrip_periods                                                 |\n",
      "+--------------------------------------------+-----------------------------------------------------------------+\n",
      "|fF1YY7dQ4AjyMvfSi53Xu7Kdr6+U2Cgv4032gvmCF5Q=|2016-12-02_2016-12-31/2016-09-02_2016-10-01/2016-10-11_2017-02-07|\n",
      "+--------------------------------------------+-----------------------------------------------------------------+\n",
      "\n"
     ]
    }
   ],
   "source": [
    "from pyspark.sql.functions import concat_ws, collect_list, col\n",
    "df2 = df1.groupBy('msno').agg(concat_ws('/', collect_list('period')).alias('subscrip_periods'))\n",
    "\n",
    "#df2.show(1, truncate=False)\n",
    "df2.where(col('msno').startswith('fF1YY7d')).show(truncate=False)"
   ]
  },
  {
   "cell_type": "code",
   "execution_count": 9,
   "metadata": {},
   "outputs": [],
   "source": [
    "import datetime as DT\n",
    "\n",
    "def add_one_day(date_str):\n",
    "    t = DT.datetime.strptime(date_str, '%Y-%m-%d') + DT.timedelta(days=1)\n",
    "    return t.strftime('%Y-%m-%d')\n",
    "\n",
    "\n",
    "def subtract_one_day(date_str):\n",
    "    t = DT.datetime.strptime(date_str, '%Y-%m-%d') - DT.timedelta(days=1)\n",
    "    return t.strftime('%Y-%m-%d')\n",
    "\n",
    "\n",
    "def count_days(start_date, end_date):\n",
    "    delta = DT.datetime.strptime(end_date, '%Y-%m-%d') - DT.datetime.strptime(start_date, '%Y-%m-%d')\n",
    "    return delta.days + 1\n",
    "    \n",
    "\n",
    "def take_union(date_intervals):\n",
    "    shifts_dict = {}\n",
    "    for p in date_intervals:\n",
    "        if p[0] in shifts_dict:\n",
    "            shifts_dict[p[0]] += 1\n",
    "        else:\n",
    "            shifts_dict[p[0]] = 1\n",
    "            \n",
    "        t_end = add_one_day(p[1])\n",
    "        if t_end in shifts_dict:\n",
    "            shifts_dict[t_end] -= 1\n",
    "        else:\n",
    "            shifts_dict[t_end] = -1\n",
    "    \n",
    "    shifts = sorted(shifts_dict.items())\n",
    "    union_intervals = []\n",
    "    v = 0\n",
    "    start = None\n",
    "    for sh in shifts:\n",
    "        v_prev = v\n",
    "        v += sh[1]\n",
    "        if v_prev == 0 and v > 0:\n",
    "            start = sh[0]\n",
    "        elif v_prev > 0 and v == 0:\n",
    "            end = sh[0]\n",
    "            union_intervals.append([start, end])\n",
    "            \n",
    "    return [[p[0], subtract_one_day(p[1])]  for p in union_intervals]\n",
    "    \n",
    "    \n",
    "def find_gaps(periods, init_date, final_date, min_gap_len):\n",
    "    '''\n",
    "    Find gaps within [init_date, final_date] that are no shorter than `min_gap_len` days.\n",
    "    '''\n",
    "    periods += [['1970-01-01', subtract_one_day(init_date)], [add_one_day(final_date), '2099-12-31']]\n",
    "    union_periods = take_union(periods)\n",
    "    \n",
    "    gaps = []\n",
    "    for i in range(0, len(union_periods)-1):\n",
    "        a_gap = [add_one_day(union_periods[i][1]), subtract_one_day(union_periods[i+1][0])]\n",
    "        if count_days(a_gap[0], a_gap[1]) >= min_gap_len:\n",
    "            gaps.append(a_gap)\n",
    "        \n",
    "    return gaps  \n",
    "\n",
    "\n",
    "def determin_init_final_et_gaps(subscrip_periods_str):\n",
    "    '''\n",
    "    Determine init. date and final date to be considered for feature generation.\n",
    "    Also, find gaps within [init_date, final_date] that are no shorter than 5 days.\n",
    "    Return (init_date, final_date, gaps).\n",
    "    '''\n",
    "    subscrip_periods = [p.split('_') for p in subscrip_periods_str.split('/')]\n",
    "    \n",
    "    # determine final date\n",
    "    final_date = max([p[1] for p in subscrip_periods])\n",
    "    \n",
    "    # determine init. date (final_date - 89 days)\n",
    "    init_date = (DT.datetime.strptime(final_date, '%Y-%m-%d') - DT.timedelta(days=89)) \\\n",
    "                .strftime('%Y-%m-%d')\n",
    "    \n",
    "    # find gaps within [init_date, final_date] that are no shorter than 5 days\n",
    "    min_gap_len = 5\n",
    "    gaps = find_gaps(subscrip_periods, init_date, final_date, min_gap_len)\n",
    "    \n",
    "    return (init_date, final_date, gaps)\n"
   ]
  },
  {
   "cell_type": "code",
   "execution_count": 8,
   "metadata": {},
   "outputs": [
    {
     "data": {
      "text/plain": [
       "('2016-11-10', '2017-02-07', [])"
      ]
     },
     "execution_count": 8,
     "metadata": {},
     "output_type": "execute_result"
    }
   ],
   "source": [
    "subscrip_periods = '2016-12-02_2016-12-31/2016-09-02_2016-10-01/2016-10-11_2017-02-07'\n",
    "determin_init_final_et_gaps(subscrip_periods)"
   ]
  },
  {
   "cell_type": "code",
   "execution_count": 10,
   "metadata": {},
   "outputs": [
    {
     "name": "stdout",
     "output_type": "stream",
     "text": [
      "+--------------------------------------------+----------+----------+---------------------+\n",
      "|msno                                        |init_date |final_date|gaps                 |\n",
      "+--------------------------------------------+----------+----------+---------------------+\n",
      "|++4RuqBw0Ss6bQU4oMxaRlbBPoWzoEiIZaxPM04Y4+U=|2016-12-14|2017-03-13|                     |\n",
      "|+/HS8LzrRGXolKbxRzDLqrmwuXqPOYixBIPXkyNcKNI=|2016-12-17|2017-03-16|                     |\n",
      "|+/namlXq+u3izRjHCFJV4MgqcXcLidZYszVsROOq/y4=|2017-01-01|2017-03-31|                     |\n",
      "|+0/X9tkmyHyet9X80G6GTrDFHnJqvai8d1ZPhayT0os=|2017-01-01|2017-03-31|                     |\n",
      "|+09YGn842g6h2EZUXe0VWeC4bBoCbDGfUboitc0vIHw=|2017-01-01|2017-03-31|                     |\n",
      "|+0RJtbyhoPAHPa+34MkYcE2Ox0cjMgJOTXMXVBYgkJE=|2016-11-30|2017-02-27|                     |\n",
      "|+0jTOa6KGPk1vtNTwRDMZc/McUo41AeuwV3ndo54Y+Q=|2016-12-04|2017-03-03|                     |\n",
      "|+0l+FDuhyjaZnu0APnrg5L9QqgaRw4RmdQMvqOtKDmU=|2016-12-24|2017-03-23|                     |\n",
      "|+2Df04hr61UUJijMM2xR97gtoQWWDJpnJVKQ7VMYN9o=|2016-12-05|2017-03-04|                     |\n",
      "|+2oK/qWmYvAnfNZsVV5pdsJ9n6d/LZn6CdwiJajGZas=|2016-12-20|2017-03-19|                     |\n",
      "|+2sYXqnHWBACTG4Pyd0rBECqU/XZtiW9HfYdGztJXdk=|2016-12-13|2017-03-12|                     |\n",
      "|+2vC1rM36Emx77UanRb3cUohWiIf7knfVIDO2+R78BE=|2016-12-04|2017-03-03|                     |\n",
      "|+2yahLNmcSv1yBBIAaq14RZRW+zOWh1cwg2smgNjgTY=|2016-12-15|2017-03-14|                     |\n",
      "|+43UqHvqzu5STDVIuBLWryllqYYP4UrG9XyiajeGePk=|2016-12-01|2017-02-28|                     |\n",
      "|+4XdQOd2lqwKAzUkLHKqaJcUvrtKNo0FKRAGQ+Us9vw=|2016-12-08|2017-03-07|                     |\n",
      "|+5DvJ9JGZqYFJ+tSvRBtGe6MRLSFdtOVNHdfqnCpxD0=|2017-01-01|2017-03-31|                     |\n",
      "|+5iq4ECBqIcAbIVw0OZv0JImbEhu9Oqvk8UeEWWZIbc=|2016-12-07|2017-03-06|                     |\n",
      "|+5tihO+uXoVrXxlMxutWHyamHh1+drX5O3C/cup1VuQ=|2016-12-22|2017-03-21|2016-12-22_2017-01-22|\n",
      "|+8+f6Ok/grGz29Sl3A3WnmYeHcHyKrlB1SapnDfdFqA=|2016-11-17|2017-02-14|2016-12-06_2017-01-06|\n",
      "|+A0cjGlj9lHusZoz5Qyu7chfM9cryPbiP+UY6VaaREo=|2016-12-18|2017-03-17|                     |\n",
      "+--------------------------------------------+----------+----------+---------------------+\n",
      "only showing top 20 rows\n",
      "\n"
     ]
    }
   ],
   "source": [
    "from pyspark.sql import Row\n",
    "\n",
    "def map_func(row):\n",
    "    init, final, gaps = determin_init_final_et_gaps(row['subscrip_periods'])\n",
    "    gaps_str = '/'.join(['_'.join(g)  for g in gaps])\n",
    "    return Row(msno=row['msno'], init_date=init, final_date=final, gaps=gaps_str)\n",
    "\n",
    "df3 = df2.rdd.map(map_func).toDF() \\\n",
    "      .select('msno', 'init_date', 'final_date', 'gaps')\n",
    "df3.show(20, truncate=False)"
   ]
  },
  {
   "cell_type": "code",
   "execution_count": 11,
   "metadata": {},
   "outputs": [],
   "source": [
    "# output\n",
    "outfile = dir0 + '20.init-final-et-gaps_for_each_member'\n",
    "df3.write.format('csv').option('header', 'true').save(outfile)"
   ]
  },
  {
   "cell_type": "code",
   "execution_count": null,
   "metadata": {},
   "outputs": [],
   "source": []
  }
 ],
 "metadata": {
  "kernelspec": {
   "display_name": "Python 3",
   "language": "python",
   "name": "python3"
  },
  "language_info": {
   "codemirror_mode": {
    "name": "ipython",
    "version": 3
   },
   "file_extension": ".py",
   "mimetype": "text/x-python",
   "name": "python",
   "nbconvert_exporter": "python",
   "pygments_lexer": "ipython3",
   "version": "3.6.4"
  },
  "toc": {
   "base_numbering": 1,
   "nav_menu": {},
   "number_sections": true,
   "sideBar": true,
   "skip_h1_title": false,
   "title_cell": "Table of Contents",
   "title_sidebar": "Contents",
   "toc_cell": false,
   "toc_position": {},
   "toc_section_display": true,
   "toc_window_display": false
  }
 },
 "nbformat": 4,
 "nbformat_minor": 2
}
