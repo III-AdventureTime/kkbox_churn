{
 "cells": [
  {
   "cell_type": "code",
   "execution_count": 1,
   "metadata": {},
   "outputs": [
    {
     "data": {
      "text/html": [
       "\n",
       "            <div>\n",
       "                <p><b>SparkSession - hive</b></p>\n",
       "                \n",
       "        <div>\n",
       "            <p><b>SparkContext</b></p>\n",
       "\n",
       "            <p><a href=\"http://10.120.27.99:4040\">Spark UI</a></p>\n",
       "\n",
       "            <dl>\n",
       "              <dt>Version</dt>\n",
       "                <dd><code>v2.2.1</code></dd>\n",
       "              <dt>Master</dt>\n",
       "                <dd><code>local[*]</code></dd>\n",
       "              <dt>AppName</dt>\n",
       "                <dd><code>PySparkShell</code></dd>\n",
       "            </dl>\n",
       "        </div>\n",
       "        \n",
       "            </div>\n",
       "        "
      ],
      "text/plain": [
       "<pyspark.sql.session.SparkSession at 0x7fe0d82a8240>"
      ]
     },
     "execution_count": 1,
     "metadata": {},
     "output_type": "execute_result"
    }
   ],
   "source": [
    "spark"
   ]
  },
  {
   "cell_type": "code",
   "execution_count": 2,
   "metadata": {},
   "outputs": [
    {
     "name": "stdout",
     "output_type": "stream",
     "text": [
      "root\n",
      " |-- msno: string (nullable = true)\n",
      " |-- init_date: string (nullable = true)\n",
      " |-- final_date: string (nullable = true)\n",
      " |-- gaps: string (nullable = true)\n",
      "\n"
     ]
    }
   ],
   "source": [
    "dir0 = 'file:///home/cloudera/2.kkbox_churn/data01/from_raw_transactions-v1/feature_creation/'\n",
    "infile = dir0 + '20.init-final-et-gaps_for_each_member'\n",
    "\n",
    "df0 = spark.read.format('csv').option('header','true').load(infile)\n",
    "df0.printSchema()"
   ]
  },
  {
   "cell_type": "code",
   "execution_count": 7,
   "metadata": {
    "collapsed": true
   },
   "outputs": [
    {
     "name": "stdout",
     "output_type": "stream",
     "text": [
      "+--------------------------------------------+----------+----------+-------------------------------------------+\n",
      "|msno                                        |init_date |final_date|gaps                                       |\n",
      "+--------------------------------------------+----------+----------+-------------------------------------------+\n",
      "|++VRDCn5gLo3BcAdq/KFqyn7wP/okNzGVU0yEZ4Ri9k=|2016-12-01|2017-02-28|null                                       |\n",
      "|++cfKQHwGGB4zdPP19jxYuvB4cS0S6hYzp0NMY/nsOU=|2016-12-01|2017-02-28|null                                       |\n",
      "|++v7Q4BYjprrVuqZpChNEXHoXWZQSU3HR5hGJo4+sWk=|2016-12-01|2017-02-28|null                                       |\n",
      "|++y36YWzjZTGJplpAAY19R0s4ktvmUsuq6fCbTv4Duc=|2016-12-01|2017-02-28|null                                       |\n",
      "|+/OXTCS/xccwbuw/IBoOiO80bmJDJBDECRueoVmTgxs=|2016-12-01|2017-02-28|null                                       |\n",
      "|+/zCVLTUUN2zy0P/Km0iDLW5d+xi2XSqyNq4++XGwxg=|2016-12-01|2017-02-28|null                                       |\n",
      "|+0K1hLciInMxjDHBuuBymjaZ+M+++X/s6cizIgb6Zsk=|2016-12-01|2017-02-28|null                                       |\n",
      "|+2GgJdINpS53hcABfMKuwn0HByYsFkI8KhQumQvKbl8=|2016-11-27|2017-02-24|null                                       |\n",
      "|+2gGE8RHPZ013pQs4w8C/4OlPiopvZcDqbEkuS7i//Q=|2016-11-20|2017-02-17|null                                       |\n",
      "|+2nVH8GSDKSqaxw4d22YqJZn4GjrAlcpmTo+mmjRff0=|2016-12-01|2017-02-28|null                                       |\n",
      "|+4sfyAwV0Z19LxpFsBPsPOr++gdo848i6+jpdW/touk=|2016-12-01|2017-02-28|null                                       |\n",
      "|+5AJdkzZNBlWuMpof9jwh9+HLjBQ+OQ+MwMa7hRn2Fw=|2016-12-01|2017-02-28|null                                       |\n",
      "|+6UXPNXMKPbpRgTyYxS+l12qhxS2oehPFqP2eiRdpbE=|2016-12-01|2017-02-28|null                                       |\n",
      "|+71rBKsoEf3O5GRC0Q08FhuCppNUzGyEZ/0pFgJqxLo=|2016-12-01|2017-02-28|null                                       |\n",
      "|+7E7CP/imRp8dsw7y070abbC6+VUQmzVt2ULR+n4xaw=|2016-12-01|2017-02-28|null                                       |\n",
      "|+7lJ1mcwmnw/1pUZJH8fK1i1L3WcAoht4Z3XbMzcBxQ=|2016-12-01|2017-02-28|null                                       |\n",
      "|+84y4av/KuypXE1CJ65+4e1o0DlGyp5q9FrQ+3qDAWY=|2016-12-01|2017-02-28|null                                       |\n",
      "|+9qwWl7UKhQlp3E8x58wksEiZ402vleHSXz2KDO+/wg=|2016-12-01|2017-02-28|null                                       |\n",
      "|+AB1P3jnvkYGMGzmjn3Xab9dyl1W9vr0y4XO9wkMbAU=|2016-12-01|2017-02-28|null                                       |\n",
      "|+BRI975tMnCUD6GU4gVUaWCX6KGC5sjuunh3ex4HTs0=|2016-11-10|2017-02-07|2016-11-10_2017-01-08                      |\n",
      "|+DQ0LQzcIY2EGo/jhrVXXQvZwkvQvwXu2nvxvbsjXB0=|2016-12-01|2017-02-28|null                                       |\n",
      "|+Ev+GAGuYGh+AGBzzuOzN5mUoMbXj+zvFDU93xtxB9Q=|2016-12-01|2017-02-28|2016-12-01_2016-12-12                      |\n",
      "|+FCrwc/20pkw25VsVprO4eg5gdqDtSyFLor8NKa89fc=|2016-12-01|2017-02-28|null                                       |\n",
      "|+G3flzt7+U9BvLAbZaWVfgUYtRx6zY65+bqVpU6Zm1g=|2016-12-01|2017-02-28|null                                       |\n",
      "|+Hp+Yggxiuri1TwHE7Pv08DcHT3xGE6JSFXpxMdy3LQ=|2016-12-01|2017-02-28|null                                       |\n",
      "|+IpawV/U/jiudI6OJUBTosEUBz7WSkHTtquEFCj97lw=|2016-12-01|2017-02-28|null                                       |\n",
      "|+Jp0jA36XmpxB7tySHseWspIB68HO0W8Pw3QlSlbYLg=|2016-12-01|2017-02-28|null                                       |\n",
      "|+Jyumd8oyp/+t+ftuWPg+bhGI2u1ymKn0e9NNtKBQlU=|2016-12-01|2017-02-28|null                                       |\n",
      "|+KJu7MNKbnqV7b6CGdwc77Voc7AWU8nUsMkrnq7jRvo=|2016-12-01|2017-02-28|null                                       |\n",
      "|+KK1bGUQv8VsWuplM0oMy2++HX2nC06otNzG/f7xrsU=|2016-12-01|2017-02-28|null                                       |\n",
      "|+KXQRErJVcj1tJQWD5QhJMoSzvUhr1CHdjyTBaWCzJE=|2016-12-01|2017-02-28|null                                       |\n",
      "|+KtvM5MYsrjAUlG+OURXDd8rsvKuS36NMjHEcHn9fvg=|2016-12-01|2017-02-28|null                                       |\n",
      "|+LboZOLENDFsEOLf3XwroX4h67JTcG0OoxBEmC22LkI=|2016-12-01|2017-02-28|null                                       |\n",
      "|+Ldy6zi31+LpwsZGV+164eQseyt8Ms7nEnVpa7PPKTY=|2016-12-01|2017-02-28|null                                       |\n",
      "|+NEJbsr2eQbomCgg41XZelfdmOaQ/RoPhoEoSMV10fo=|2016-12-01|2017-02-28|null                                       |\n",
      "|+Q4F+X2xaijMiHKr4VpQsN2CIG4+xmOv3lpPD4D3Ncg=|2016-12-01|2017-02-28|null                                       |\n",
      "|+Qt5ssRtDGjuSKXaQhunZKfsMtbxAUJ6/W8tmcUyuYM=|2016-12-01|2017-02-28|null                                       |\n",
      "|+RKubPXHZCMrm/Nhwyj5MetgfMhAelkHcHb3fcAXVVk=|2016-12-01|2017-02-28|null                                       |\n",
      "|+V1EGoprzDOE5g3eoi9GP2EN9rmGrgaR/PJaJYr+S5E=|2016-11-22|2017-02-19|2016-11-22_2016-12-12/2017-01-12_2017-01-20|\n",
      "|+VlHqtx1u5Pn62Qzad0ZvADBx1vmL4YxmZ6NlnxnEuE=|2016-12-01|2017-02-28|null                                       |\n",
      "+--------------------------------------------+----------+----------+-------------------------------------------+\n",
      "only showing top 40 rows\n",
      "\n"
     ]
    }
   ],
   "source": [
    "df0.show(40, truncate=False)"
   ]
  },
  {
   "cell_type": "code",
   "execution_count": 4,
   "metadata": {},
   "outputs": [
    {
     "data": {
      "text/plain": [
       "948512"
      ]
     },
     "execution_count": 4,
     "metadata": {},
     "output_type": "execute_result"
    }
   ],
   "source": [
    "df0.count()"
   ]
  },
  {
   "cell_type": "code",
   "execution_count": 46,
   "metadata": {},
   "outputs": [],
   "source": [
    "import datetime as DT\n",
    "\n",
    "def count_days(start_date, end_date):\n",
    "    delta = DT.datetime.strptime(end_date, '%Y-%m-%d') - DT.datetime.strptime(start_date, '%Y-%m-%d')\n",
    "    return delta.days + 1\n",
    "\n",
    "\n",
    "def gap_stats(gaps_str):\n",
    "    if gaps_str is None:\n",
    "        return (0, 0, 0)\n",
    "    \n",
    "    ##\n",
    "    gaps = [p.split('_')  for p in gaps_str.split('/')]\n",
    "\n",
    "    gaps_count = len(gaps)\n",
    "\n",
    "    total_gap_length = 0\n",
    "    has_long_gap = False\n",
    "    for g in gaps:\n",
    "        gap_len = count_days(g[0], g[1])\n",
    "        total_gap_length += gap_len\n",
    "        if gap_len > 30:\n",
    "            has_long_gap = True\n",
    "    \n",
    "    return (gaps_count, total_gap_length, int(has_long_gap))"
   ]
  },
  {
   "cell_type": "code",
   "execution_count": 53,
   "metadata": {},
   "outputs": [],
   "source": [
    "from pyspark.sql import Row\n",
    "\n",
    "def map_func(row):\n",
    "    gaps_count, total_gap_length, has_long_gap = gap_stats(row['gaps'])\n",
    "    return Row(msno=row['msno'], init_date=row['init_date'], final_date=row['final_date'],\n",
    "               gaps=row['gaps'],\n",
    "               gaps_count=gaps_count, total_gap_len=total_gap_length, has_long_gap=has_long_gap)\n",
    "    \n",
    "df1 = df0.rdd.map(map_func).toDF() \\\n",
    "      .select('msno', 'init_date', 'final_date', 'gaps', 'gaps_count', 'total_gap_len', 'has_long_gap')"
   ]
  },
  {
   "cell_type": "code",
   "execution_count": 54,
   "metadata": {
    "scrolled": true
   },
   "outputs": [
    {
     "name": "stdout",
     "output_type": "stream",
     "text": [
      "+--------------------+----------+----------+----+----------+-------------+------------+\n",
      "|                msno| init_date|final_date|gaps|gaps_count|total_gap_len|has_long_gap|\n",
      "+--------------------+----------+----------+----+----------+-------------+------------+\n",
      "|++VRDCn5gLo3BcAdq...|2016-12-01|2017-02-28|null|         0|            0|           0|\n",
      "|++cfKQHwGGB4zdPP1...|2016-12-01|2017-02-28|null|         0|            0|           0|\n",
      "|++v7Q4BYjprrVuqZp...|2016-12-01|2017-02-28|null|         0|            0|           0|\n",
      "|++y36YWzjZTGJplpA...|2016-12-01|2017-02-28|null|         0|            0|           0|\n",
      "|+/OXTCS/xccwbuw/I...|2016-12-01|2017-02-28|null|         0|            0|           0|\n",
      "+--------------------+----------+----------+----+----------+-------------+------------+\n",
      "only showing top 5 rows\n",
      "\n"
     ]
    }
   ],
   "source": [
    "df1.show(5)"
   ]
  },
  {
   "cell_type": "code",
   "execution_count": 55,
   "metadata": {},
   "outputs": [
    {
     "name": "stdout",
     "output_type": "stream",
     "text": [
      "+--------------------+----------+----------+----+----------+-------------+------------+-----------+\n",
      "|                msno| init_date|final_date|gaps|gaps_count|total_gap_len|has_long_gap|has_expired|\n",
      "+--------------------+----------+----------+----+----------+-------------+------------+-----------+\n",
      "|++VRDCn5gLo3BcAdq...|2016-12-01|2017-02-28|null|         0|            0|           0|          0|\n",
      "|++cfKQHwGGB4zdPP1...|2016-12-01|2017-02-28|null|         0|            0|           0|          0|\n",
      "|++v7Q4BYjprrVuqZp...|2016-12-01|2017-02-28|null|         0|            0|           0|          0|\n",
      "|++y36YWzjZTGJplpA...|2016-12-01|2017-02-28|null|         0|            0|           0|          0|\n",
      "|+/OXTCS/xccwbuw/I...|2016-12-01|2017-02-28|null|         0|            0|           0|          0|\n",
      "+--------------------+----------+----------+----+----------+-------------+------------+-----------+\n",
      "only showing top 5 rows\n",
      "\n"
     ]
    }
   ],
   "source": [
    "from pyspark.sql.functions import when, col\n",
    "df2 = df1.withColumn('has_expired', when(col('final_date') <= '2017-02-26', 1).otherwise(0))\n",
    "\n",
    "df2.show(5)"
   ]
  },
  {
   "cell_type": "code",
   "execution_count": 50,
   "metadata": {},
   "outputs": [
    {
     "data": {
      "text/plain": [
       "80105"
      ]
     },
     "execution_count": 50,
     "metadata": {},
     "output_type": "execute_result"
    }
   ],
   "source": [
    "df2.where('has_expired = 1').count()"
   ]
  },
  {
   "cell_type": "code",
   "execution_count": 51,
   "metadata": {},
   "outputs": [
    {
     "data": {
      "text/plain": [
       "63030"
      ]
     },
     "execution_count": 51,
     "metadata": {},
     "output_type": "execute_result"
    }
   ],
   "source": [
    "df2.where('has_long_gap = 1').count()"
   ]
  },
  {
   "cell_type": "code",
   "execution_count": 58,
   "metadata": {},
   "outputs": [
    {
     "name": "stdout",
     "output_type": "stream",
     "text": [
      "+--------------------------------------------+----------+----------+---------------------+----------+-------------+------------+-----------+\n",
      "|msno                                        |init_date |final_date|gaps                 |gaps_count|total_gap_len|has_long_gap|has_expired|\n",
      "+--------------------------------------------+----------+----------+---------------------+----------+-------------+------------+-----------+\n",
      "|+BRI975tMnCUD6GU4gVUaWCX6KGC5sjuunh3ex4HTs0=|2016-11-10|2017-02-07|2016-11-10_2017-01-08|1         |60           |1           |1          |\n",
      "+--------------------------------------------+----------+----------+---------------------+----------+-------------+------------+-----------+\n",
      "only showing top 1 row\n",
      "\n"
     ]
    }
   ],
   "source": [
    "df2.where('has_long_gap = 1').show(1, truncate=False)"
   ]
  },
  {
   "cell_type": "code",
   "execution_count": 60,
   "metadata": {},
   "outputs": [],
   "source": [
    "outfile = dir0 + '30.features_1'\n",
    "df2.write.format('csv').option('header','true').save(outfile)"
   ]
  },
  {
   "cell_type": "code",
   "execution_count": null,
   "metadata": {},
   "outputs": [],
   "source": []
  }
 ],
 "metadata": {
  "kernelspec": {
   "display_name": "Python 3",
   "language": "python",
   "name": "python3"
  },
  "language_info": {
   "codemirror_mode": {
    "name": "ipython",
    "version": 3
   },
   "file_extension": ".py",
   "mimetype": "text/x-python",
   "name": "python",
   "nbconvert_exporter": "python",
   "pygments_lexer": "ipython3",
   "version": "3.6.6"
  },
  "toc": {
   "base_numbering": 1,
   "nav_menu": {},
   "number_sections": true,
   "sideBar": true,
   "skip_h1_title": false,
   "title_cell": "Table of Contents",
   "title_sidebar": "Contents",
   "toc_cell": false,
   "toc_position": {},
   "toc_section_display": true,
   "toc_window_display": false
  }
 },
 "nbformat": 4,
 "nbformat_minor": 2
}
