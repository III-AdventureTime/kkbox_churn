{
 "cells": [
  {
   "cell_type": "code",
   "execution_count": 1,
   "metadata": {},
   "outputs": [
    {
     "data": {
      "text/html": [
       "\n",
       "            <div>\n",
       "                <p><b>SparkSession - hive</b></p>\n",
       "                \n",
       "        <div>\n",
       "            <p><b>SparkContext</b></p>\n",
       "\n",
       "            <p><a href=\"http://10.120.27.99:4040\">Spark UI</a></p>\n",
       "\n",
       "            <dl>\n",
       "              <dt>Version</dt>\n",
       "                <dd><code>v2.2.1</code></dd>\n",
       "              <dt>Master</dt>\n",
       "                <dd><code>local[*]</code></dd>\n",
       "              <dt>AppName</dt>\n",
       "                <dd><code>PySparkShell</code></dd>\n",
       "            </dl>\n",
       "        </div>\n",
       "        \n",
       "            </div>\n",
       "        "
      ],
      "text/plain": [
       "<pyspark.sql.session.SparkSession at 0x7f41c6b511d0>"
      ]
     },
     "execution_count": 1,
     "metadata": {},
     "output_type": "execute_result"
    }
   ],
   "source": [
    "spark"
   ]
  },
  {
   "cell_type": "code",
   "execution_count": 3,
   "metadata": {},
   "outputs": [
    {
     "name": "stdout",
     "output_type": "stream",
     "text": [
      "root\n",
      " |-- msno: string (nullable = true)\n",
      " |-- pay_method: string (nullable = true)\n",
      " |-- plan_days: string (nullable = true)\n",
      " |-- list_price: string (nullable = true)\n",
      " |-- actual_paid: string (nullable = true)\n",
      " |-- auto_renew: string (nullable = true)\n",
      " |-- is_cancel: string (nullable = true)\n",
      " |-- trans_date: string (nullable = true)\n",
      " |-- expire_date: string (nullable = true)\n",
      " |-- corr_exp_date: string (nullable = true)\n",
      " |-- corr_start_date: string (nullable = true)\n",
      "\n"
     ]
    }
   ],
   "source": [
    "infile = 'file:///home/cloudera/2.kkbox_churn/data01/from_raw_transactions-v1/0.with_corrected_dates'\n",
    "df0 = spark.read.format('csv').option('header','true').load(infile)\n",
    "df0.printSchema()"
   ]
  },
  {
   "cell_type": "code",
   "execution_count": 4,
   "metadata": {},
   "outputs": [
    {
     "name": "stdout",
     "output_type": "stream",
     "text": [
      "+--------------------+----------+---------+----------+-----------+----------+---------+----------+-----------+-------------+---------------+\n",
      "|                msno|pay_method|plan_days|list_price|actual_paid|auto_renew|is_cancel|trans_date|expire_date|corr_exp_date|corr_start_date|\n",
      "+--------------------+----------+---------+----------+-----------+----------+---------+----------+-----------+-------------+---------------+\n",
      "|0jqpsCaqfNLSrrqeB...|        38|       30|       149|        149|     false|    false|2015-11-09| 2015-12-09|   2015-12-09|     2015-11-10|\n",
      "|kT+9EbT/Lf11zKmTY...|        41|       30|        99|         99|      true|    false|2016-06-22| 2016-07-22|   2016-07-22|     2016-06-23|\n",
      "|BBeTn8ptj/mnjIHF7...|        36|       30|       180|        180|     false|    false|2016-05-21| 2016-06-20|   2016-06-20|     2016-05-22|\n",
      "|dcPFeF1EN5i0Ylwfa...|        41|       30|        99|         99|      true|    false|2016-10-21| 2016-11-22|   2016-11-22|     2016-10-24|\n",
      "|An7+T0ShT7SUx3yGI...|        41|       30|        99|         99|      true|    false|2017-01-20| 2017-02-20|   2017-02-20|     2017-01-22|\n",
      "+--------------------+----------+---------+----------+-----------+----------+---------+----------+-----------+-------------+---------------+\n",
      "only showing top 5 rows\n",
      "\n"
     ]
    }
   ],
   "source": [
    "df0.show(5)"
   ]
  },
  {
   "cell_type": "code",
   "execution_count": 12,
   "metadata": {},
   "outputs": [
    {
     "name": "stdout",
     "output_type": "stream",
     "text": [
      "+--------------------+----------+---------+----------+-----------+----------+---------+----------+-----------+-------------+---------------+\n",
      "|                msno|pay_method|plan_days|list_price|actual_paid|auto_renew|is_cancel|trans_date|expire_date|corr_exp_date|corr_start_date|\n",
      "+--------------------+----------+---------+----------+-----------+----------+---------+----------+-----------+-------------+---------------+\n",
      "|0jqpsCaqfNLSrrqeB...|        38|       30|       149|        149|     false|    false|2015-11-09| 2015-12-09|   2015-12-09|     2015-11-10|\n",
      "|kT+9EbT/Lf11zKmTY...|        41|       30|        99|         99|      true|    false|2016-06-22| 2016-07-22|   2016-07-22|     2016-06-23|\n",
      "|BBeTn8ptj/mnjIHF7...|        36|       30|       180|        180|     false|    false|2016-05-21| 2016-06-20|   2016-06-20|     2016-05-22|\n",
      "|dcPFeF1EN5i0Ylwfa...|        41|       30|        99|         99|      true|    false|2016-10-21| 2016-11-22|   2016-11-22|     2016-10-24|\n",
      "|An7+T0ShT7SUx3yGI...|        41|       30|        99|         99|      true|    false|2017-01-20| 2017-02-20|   2017-02-20|     2017-01-22|\n",
      "+--------------------+----------+---------+----------+-----------+----------+---------+----------+-----------+-------------+---------------+\n",
      "only showing top 5 rows\n",
      "\n"
     ]
    }
   ],
   "source": [
    "# filter corr_exp_date != null\n",
    "from pyspark.sql.functions import col\n",
    "df1 = df0.where(~col('corr_exp_date').isNull())\n",
    "df1.show(5)"
   ]
  },
  {
   "cell_type": "code",
   "execution_count": 44,
   "metadata": {},
   "outputs": [
    {
     "data": {
      "text/plain": [
       "1943654"
      ]
     },
     "execution_count": 44,
     "metadata": {},
     "output_type": "execute_result"
    }
   ],
   "source": [
    "df1.groupBy('msno').count().count()"
   ]
  },
  {
   "cell_type": "code",
   "execution_count": 14,
   "metadata": {},
   "outputs": [
    {
     "name": "stdout",
     "output_type": "stream",
     "text": [
      "+--------------------+---------+----------+\n",
      "|                msno|is_cancel|trans_date|\n",
      "+--------------------+---------+----------+\n",
      "|0jqpsCaqfNLSrrqeB...|    false|2015-11-09|\n",
      "|kT+9EbT/Lf11zKmTY...|    false|2016-06-22|\n",
      "|BBeTn8ptj/mnjIHF7...|    false|2016-05-21|\n",
      "|dcPFeF1EN5i0Ylwfa...|    false|2016-10-21|\n",
      "|An7+T0ShT7SUx3yGI...|    false|2017-01-20|\n",
      "|FGE0LQpNE5MXUJr4t...|    false|2016-02-19|\n",
      "|syKvzihN0s1ry+RF8...|    false|2017-01-31|\n",
      "|mPJ0OG5RIAWhnQ1aw...|    false|2016-09-30|\n",
      "|tBjvY3e48CkVwjZRh...|    false|2017-01-13|\n",
      "|Q3KfGQbfE8Wc1qCgO...|    false|2016-09-14|\n",
      "+--------------------+---------+----------+\n",
      "only showing top 10 rows\n",
      "\n"
     ]
    }
   ],
   "source": [
    "df2 = df1.select('msno', 'is_cancel', 'trans_date')\n",
    "df2.show(10)"
   ]
  },
  {
   "cell_type": "code",
   "execution_count": 17,
   "metadata": {},
   "outputs": [
    {
     "name": "stdout",
     "output_type": "stream",
     "text": [
      "+--------------------+----------+-----+-------------+\n",
      "|                msno|trans_date|count|sum_is_cancel|\n",
      "+--------------------+----------+-----+-------------+\n",
      "|S5wPzT1VKk6q7Ug+v...|2015-11-20|    1|            0|\n",
      "|Z1Z2OCoa3V8igCIe+...|2015-11-27|    1|            0|\n",
      "|ICPWkZSBvrliGU7VE...|2016-03-31|    1|            0|\n",
      "|44944J4eX5pJe5wBG...|2016-05-20|    1|            0|\n",
      "|7h0hrPl8JR/sdbt21...|2015-12-06|    1|            0|\n",
      "|jO+2AfJPTC6iWBelw...|2016-12-20|    1|            0|\n",
      "|iJKyIuKGCyQsESQri...|2017-02-09|    1|            0|\n",
      "|sfFxkInJJhz2uyJyK...|2016-10-01|    1|            0|\n",
      "|tlwLnlHV1MznR6GxK...|2016-07-31|    1|            0|\n",
      "|4dS2GxFTdsdgGbSGs...|2015-12-25|    1|            0|\n",
      "+--------------------+----------+-----+-------------+\n",
      "only showing top 10 rows\n",
      "\n"
     ]
    }
   ],
   "source": [
    "from pyspark.sql.functions import sum, when, col, count\n",
    "df3 = df2.groupBy('msno', 'trans_date') \\\n",
    "         .agg(count('*').alias('count'),\n",
    "              sum(when(col('is_cancel') == 'true', 1).otherwise(0)).alias('sum_is_cancel')\n",
    "             )\n",
    "df3.show(10)"
   ]
  },
  {
   "cell_type": "code",
   "execution_count": 18,
   "metadata": {},
   "outputs": [
    {
     "data": {
      "text/plain": [
       "171452"
      ]
     },
     "execution_count": 18,
     "metadata": {},
     "output_type": "execute_result"
    }
   ],
   "source": [
    "df4 = df3.where('count > 1').persist()\n",
    "df4.count()"
   ]
  },
  {
   "cell_type": "code",
   "execution_count": 19,
   "metadata": {},
   "outputs": [
    {
     "name": "stdout",
     "output_type": "stream",
     "text": [
      "+--------------------+----------+-----+-------------+\n",
      "|                msno|trans_date|count|sum_is_cancel|\n",
      "+--------------------+----------+-----+-------------+\n",
      "|KtSvNZ0IXxwHfpbig...|2016-02-25|    2|            1|\n",
      "|hRvC5cdmIBPeKG3rX...|2015-11-27|    2|            0|\n",
      "|BbSFtRPSDVfy6X4yW...|2016-08-13|    2|            0|\n",
      "|myN3qDk4+GBsWyMJk...|2016-03-20|    2|            0|\n",
      "|LpSDsDdM7B7FLeSA0...|2015-11-27|    2|            1|\n",
      "|wt8ufqk+SB6tJvs55...|2015-11-22|    2|            1|\n",
      "|UlpOGLJHzPKRJfQlE...|2016-08-27|    3|            0|\n",
      "|/BTl22m74NcOwaiAj...|2016-11-26|    2|            1|\n",
      "|/MhTxrQTw1/6Oed/K...|2016-02-06|    2|            1|\n",
      "|/QWUxn+BdzBjvhLtQ...|2016-07-17|    2|            0|\n",
      "+--------------------+----------+-----+-------------+\n",
      "only showing top 10 rows\n",
      "\n"
     ]
    }
   ],
   "source": [
    "df4.show(10)"
   ]
  },
  {
   "cell_type": "code",
   "execution_count": 47,
   "metadata": {},
   "outputs": [
    {
     "data": {
      "text/plain": [
       "129846"
      ]
     },
     "execution_count": 47,
     "metadata": {},
     "output_type": "execute_result"
    }
   ],
   "source": [
    "# (member, date) pairs with at least one non-cancel and at least one cancel\n",
    "df5 = df4.where('sum_is_cancel > 0').where('sum_is_cancel < count') \\\n",
    "  .withColumnRenamed('count', 'count_records')\n",
    "df5.count()"
   ]
  },
  {
   "cell_type": "code",
   "execution_count": 48,
   "metadata": {},
   "outputs": [
    {
     "name": "stdout",
     "output_type": "stream",
     "text": [
      "+--------------------+----------+-------------+-------------+\n",
      "|                msno|trans_date|count_records|sum_is_cancel|\n",
      "+--------------------+----------+-------------+-------------+\n",
      "|KtSvNZ0IXxwHfpbig...|2016-02-25|            2|            1|\n",
      "|LpSDsDdM7B7FLeSA0...|2015-11-27|            2|            1|\n",
      "|wt8ufqk+SB6tJvs55...|2015-11-22|            2|            1|\n",
      "|/BTl22m74NcOwaiAj...|2016-11-26|            2|            1|\n",
      "|/MhTxrQTw1/6Oed/K...|2016-02-06|            2|            1|\n",
      "|08lliUyrewyx+wz+v...|2015-11-03|            2|            1|\n",
      "|11hzJPnhs6HAGUDez...|2015-11-12|            2|            1|\n",
      "|1kIg0DIU6NHG7JX6L...|2015-12-29|            2|            1|\n",
      "|2mq0bS+n+qxwquDWV...|2016-10-03|            2|            1|\n",
      "|2s0AD9TskaN3+KVup...|2015-11-16|            2|            1|\n",
      "+--------------------+----------+-------------+-------------+\n",
      "only showing top 10 rows\n",
      "\n"
     ]
    }
   ],
   "source": [
    "df5.show(10)"
   ]
  },
  {
   "cell_type": "code",
   "execution_count": 49,
   "metadata": {},
   "outputs": [
    {
     "name": "stdout",
     "output_type": "stream",
     "text": [
      "+-------------+------+\n",
      "|count_records| count|\n",
      "+-------------+------+\n",
      "|            7|     9|\n",
      "|            6|    20|\n",
      "|           27|     1|\n",
      "|           17|     1|\n",
      "|            5|    75|\n",
      "|           10|     1|\n",
      "|            3|  9489|\n",
      "|            8|     1|\n",
      "|           11|     3|\n",
      "|            2|119059|\n",
      "|            4|  1184|\n",
      "|           13|     1|\n",
      "|           18|     1|\n",
      "|           15|     1|\n",
      "+-------------+------+\n",
      "\n"
     ]
    }
   ],
   "source": [
    "df5.groupBy('count_records').count().show()"
   ]
  },
  {
   "cell_type": "code",
   "execution_count": 52,
   "metadata": {},
   "outputs": [
    {
     "name": "stdout",
     "output_type": "stream",
     "text": [
      "+--------------------+\n",
      "|                msno|\n",
      "+--------------------+\n",
      "|2NboYdCowDCzxTrRe...|\n",
      "|rR8r2s9Wc92OScoaw...|\n",
      "|2Wh84JFOH9raMfNZk...|\n",
      "+--------------------+\n",
      "only showing top 3 rows\n",
      "\n"
     ]
    }
   ],
   "source": [
    "df6 = df5.where('count_records >= 3')\n",
    "df7 = df6.groupBy('msno').count() \\\n",
    "      .drop('count')\n",
    "df7.show(3)\n",
    "\n",
    "# members with one date on which there are >= 3 records, of which at least one is non-cancel and at least one is cancel"
   ]
  },
  {
   "cell_type": "code",
   "execution_count": 54,
   "metadata": {},
   "outputs": [
    {
     "data": {
      "text/plain": [
       "10775"
      ]
     },
     "execution_count": 54,
     "metadata": {},
     "output_type": "execute_result"
    }
   ],
   "source": [
    "df7.count()"
   ]
  },
  {
   "cell_type": "code",
   "execution_count": 55,
   "metadata": {
    "collapsed": true
   },
   "outputs": [],
   "source": [
    "# output problematic members\n",
    "outfile = 'file:///home/cloudera/2.kkbox_churn/data01/from_raw_transactions-v1/problematic_members'\n",
    "df7.coalesce(1).write.format('csv').option('header','true').save(outfile)"
   ]
  },
  {
   "cell_type": "code",
   "execution_count": null,
   "metadata": {
    "collapsed": true
   },
   "outputs": [],
   "source": []
  },
  {
   "cell_type": "code",
   "execution_count": null,
   "metadata": {
    "collapsed": true
   },
   "outputs": [],
   "source": []
  }
 ],
 "metadata": {
  "kernelspec": {
   "display_name": "Python 3",
   "language": "python",
   "name": "python3"
  },
  "language_info": {
   "codemirror_mode": {
    "name": "ipython",
    "version": 3
   },
   "file_extension": ".py",
   "mimetype": "text/x-python",
   "name": "python",
   "nbconvert_exporter": "python",
   "pygments_lexer": "ipython3",
   "version": "3.6.2"
  },
  "toc": {
   "base_numbering": 1,
   "nav_menu": {},
   "number_sections": true,
   "sideBar": true,
   "skip_h1_title": false,
   "title_cell": "Table of Contents",
   "title_sidebar": "Contents",
   "toc_cell": false,
   "toc_position": {},
   "toc_section_display": true,
   "toc_window_display": false
  }
 },
 "nbformat": 4,
 "nbformat_minor": 2
}
