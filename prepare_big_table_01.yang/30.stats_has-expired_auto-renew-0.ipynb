{
 "cells": [
  {
   "cell_type": "code",
   "execution_count": 1,
   "metadata": {},
   "outputs": [
    {
     "data": {
      "text/html": [
       "\n",
       "            <div>\n",
       "                <p><b>SparkSession - hive</b></p>\n",
       "                \n",
       "        <div>\n",
       "            <p><b>SparkContext</b></p>\n",
       "\n",
       "            <p><a href=\"http://10.120.27.99:4040\">Spark UI</a></p>\n",
       "\n",
       "            <dl>\n",
       "              <dt>Version</dt>\n",
       "                <dd><code>v2.2.1</code></dd>\n",
       "              <dt>Master</dt>\n",
       "                <dd><code>local[*]</code></dd>\n",
       "              <dt>AppName</dt>\n",
       "                <dd><code>PySparkShell</code></dd>\n",
       "            </dl>\n",
       "        </div>\n",
       "        \n",
       "            </div>\n",
       "        "
      ],
      "text/plain": [
       "<pyspark.sql.session.SparkSession at 0x7fc638083240>"
      ]
     },
     "execution_count": 1,
     "metadata": {},
     "output_type": "execute_result"
    }
   ],
   "source": [
    "spark"
   ]
  },
  {
   "cell_type": "code",
   "execution_count": 2,
   "metadata": {},
   "outputs": [],
   "source": [
    "dir0 = '/home/cloudera/2.kkbox_churn/data01/big_table_01/'\n",
    "infile = dir0 + 'all-features_has-expired_auto-renew-0'\n",
    "\n",
    "df0 = spark.read.format('parquet').load(infile)"
   ]
  },
  {
   "cell_type": "code",
   "execution_count": 3,
   "metadata": {},
   "outputs": [
    {
     "name": "stdout",
     "output_type": "stream",
     "text": [
      "root\n",
      " |-- msno: string (nullable = true)\n",
      " |-- city: string (nullable = true)\n",
      " |-- age: integer (nullable = true)\n",
      " |-- gender: string (nullable = true)\n",
      " |-- registered_via: string (nullable = true)\n",
      " |-- days_since_init_regist: integer (nullable = true)\n",
      " |-- init_date: string (nullable = true)\n",
      " |-- final_date: string (nullable = true)\n",
      " |-- gaps_count: integer (nullable = true)\n",
      " |-- total_gap_len: integer (nullable = true)\n",
      " |-- has_long_gap: boolean (nullable = true)\n",
      " |-- has_expired: boolean (nullable = true)\n",
      " |-- last_pay_method: string (nullable = true)\n",
      " |-- last_plan_days: integer (nullable = true)\n",
      " |-- last_list_price: integer (nullable = true)\n",
      " |-- last_actual_paid: integer (nullable = true)\n",
      " |-- last_discount: integer (nullable = true)\n",
      " |-- last_paid_per_day: double (nullable = true)\n",
      " |-- actual_paid_cnt_uniq: integer (nullable = true)\n",
      " |-- actual_paid_mode: integer (nullable = true)\n",
      " |-- auto_renew_cnt_uniq: integer (nullable = true)\n",
      " |-- auto_renew_mode: boolean (nullable = true)\n",
      " |-- discount_cnt_uniq: integer (nullable = true)\n",
      " |-- discount_mode: integer (nullable = true)\n",
      " |-- list_price_cnt_uniq: integer (nullable = true)\n",
      " |-- list_price_mode: integer (nullable = true)\n",
      " |-- pay_method_cnt_uniq: integer (nullable = true)\n",
      " |-- pay_method_mode: string (nullable = true)\n",
      " |-- plan_days_cnt_uniq: integer (nullable = true)\n",
      " |-- plan_days_mode: integer (nullable = true)\n",
      " |-- actual_paid_sum: integer (nullable = true)\n",
      " |-- actual_paid_per_sub_day: double (nullable = true)\n",
      " |-- discount_sum: integer (nullable = true)\n",
      " |-- discount_per_sub_day: double (nullable = true)\n",
      " |-- list_price_sum: integer (nullable = true)\n",
      " |-- list_price_per_sub_day: double (nullable = true)\n",
      " |-- last12WeekOnLine: integer (nullable = true)\n",
      " |-- w12_M25: integer (nullable = true)\n",
      " |-- w12_M50: integer (nullable = true)\n",
      " |-- w12_M75: integer (nullable = true)\n",
      " |-- w12_M985: integer (nullable = true)\n",
      " |-- w12_M100: integer (nullable = true)\n",
      " |-- w12_Munq: integer (nullable = true)\n",
      " |-- w12_Msecs: integer (nullable = true)\n",
      " |-- w12_Mtotal: integer (nullable = true)\n",
      " |-- w12_M25_D_Mtotal: double (nullable = true)\n",
      " |-- w12_M50_D_Mtotal: double (nullable = true)\n",
      " |-- w12_M75_D_Mtotal: double (nullable = true)\n",
      " |-- w12_M985_D_Mtotal: double (nullable = true)\n",
      " |-- w12_M100_D_Mtotal: double (nullable = true)\n",
      " |-- w12_Munq_D_Mtotal: double (nullable = true)\n",
      " |-- w12_M25M50M75_D_Mtotal: double (nullable = true)\n",
      " |-- w12_M985M100_D_Mtotal: double (nullable = true)\n",
      " |-- w12_M25M50_D_Mtotal: double (nullable = true)\n",
      " |-- w12_M25_D_M50M75M985M100: double (nullable = true)\n",
      " |-- w12_M25M50_D_M75M985M100: double (nullable = true)\n",
      " |-- w12_M25M50M75_D_M985M100: double (nullable = true)\n",
      " |-- w12_M25M50M75M985_D_M100: double (nullable = true)\n",
      " |-- last9WeekOnLine: integer (nullable = true)\n",
      " |-- w9_M25: integer (nullable = true)\n",
      " |-- w9_M50: integer (nullable = true)\n",
      " |-- w9_M75: integer (nullable = true)\n",
      " |-- w9_M985: integer (nullable = true)\n",
      " |-- w9_M100: integer (nullable = true)\n",
      " |-- w9_Munq: integer (nullable = true)\n",
      " |-- w9_Msecs: integer (nullable = true)\n",
      " |-- w9_Mtotal: integer (nullable = true)\n",
      " |-- w9_M25_D_Mtotal: double (nullable = true)\n",
      " |-- w9_M50_D_Mtotal: double (nullable = true)\n",
      " |-- w9_M75_D_Mtotal: double (nullable = true)\n",
      " |-- w9_M985_D_Mtotal: double (nullable = true)\n",
      " |-- w9_M100_D_Mtotal: double (nullable = true)\n",
      " |-- w9_Munq_D_Mtotal: double (nullable = true)\n",
      " |-- w9_M25M50M75_D_Mtotal: double (nullable = true)\n",
      " |-- w9_M985M100_D_Mtotal: double (nullable = true)\n",
      " |-- w9_M25M50_D_Mtotal: double (nullable = true)\n",
      " |-- w9_M25_D_M50M75M985M100: double (nullable = true)\n",
      " |-- w9_M25M50_D_M75M985M100: double (nullable = true)\n",
      " |-- w9_M25M50M75_D_M985M100: double (nullable = true)\n",
      " |-- w9_M25M50M75M985_D_M100: double (nullable = true)\n",
      " |-- last6WeekOnLine: integer (nullable = true)\n",
      " |-- w6_M25: integer (nullable = true)\n",
      " |-- w6_M50: integer (nullable = true)\n",
      " |-- w6_M75: integer (nullable = true)\n",
      " |-- w6_M985: integer (nullable = true)\n",
      " |-- w6_M100: integer (nullable = true)\n",
      " |-- w6_Munq: integer (nullable = true)\n",
      " |-- w6_Msecs: integer (nullable = true)\n",
      " |-- w6_Mtotal: integer (nullable = true)\n",
      " |-- w6_M25_D_Mtotal: double (nullable = true)\n",
      " |-- w6_M50_D_Mtotal: double (nullable = true)\n",
      " |-- w6_M75_D_Mtotal: double (nullable = true)\n",
      " |-- w6_M985_D_Mtotal: double (nullable = true)\n",
      " |-- w6_M100_D_Mtotal: double (nullable = true)\n",
      " |-- w6_Munq_D_Mtotal: double (nullable = true)\n",
      " |-- w6_M25M50M75_D_Mtotal: double (nullable = true)\n",
      " |-- w6_M985M100_D_Mtotal: double (nullable = true)\n",
      " |-- w6_M25M50_D_Mtotal: double (nullable = true)\n",
      " |-- w6_M25_D_M50M75M985M100: double (nullable = true)\n",
      " |-- w6_M25M50_D_M75M985M100: double (nullable = true)\n",
      " |-- w6_M25M50M75_D_M985M100: double (nullable = true)\n",
      " |-- w6_M25M50M75M985_D_M100: double (nullable = true)\n",
      " |-- last4WeekOnLine: integer (nullable = true)\n",
      " |-- w4_M25: integer (nullable = true)\n",
      " |-- w4_M50: integer (nullable = true)\n",
      " |-- w4_M75: integer (nullable = true)\n",
      " |-- w4_M985: integer (nullable = true)\n",
      " |-- w4_M100: integer (nullable = true)\n",
      " |-- w4_Munq: integer (nullable = true)\n",
      " |-- w4_Msecs: integer (nullable = true)\n",
      " |-- w4_Mtotal: integer (nullable = true)\n",
      " |-- w4_M25_D_Mtotal: double (nullable = true)\n",
      " |-- w4_M50_D_Mtotal: double (nullable = true)\n",
      " |-- w4_M75_D_Mtotal: double (nullable = true)\n",
      " |-- w4_M985_D_Mtotal: double (nullable = true)\n",
      " |-- w4_M100_D_Mtotal: double (nullable = true)\n",
      " |-- w4_Munq_D_Mtotal: double (nullable = true)\n",
      " |-- w4_M25M50M75_D_Mtotal: double (nullable = true)\n",
      " |-- w4_M985M100_D_Mtotal: double (nullable = true)\n",
      " |-- w4_M25M50_D_Mtotal: double (nullable = true)\n",
      " |-- w4_M25_D_M50M75M985M100: double (nullable = true)\n",
      " |-- w4_M25M50_D_M75M985M100: double (nullable = true)\n",
      " |-- w4_M25M50M75_D_M985M100: double (nullable = true)\n",
      " |-- w4_M25M50M75M985_D_M100: double (nullable = true)\n",
      " |-- last2WeekOnLine: integer (nullable = true)\n",
      " |-- w2_M25: integer (nullable = true)\n",
      " |-- w2_M50: integer (nullable = true)\n",
      " |-- w2_M75: integer (nullable = true)\n",
      " |-- w2_M985: integer (nullable = true)\n",
      " |-- w2_M100: integer (nullable = true)\n",
      " |-- w2_Munq: integer (nullable = true)\n",
      " |-- w2_Msecs: integer (nullable = true)\n",
      " |-- w2_Mtotal: integer (nullable = true)\n",
      " |-- w2_M25_D_Mtotal: double (nullable = true)\n",
      " |-- w2_M50_D_Mtotal: double (nullable = true)\n",
      " |-- w2_M75_D_Mtotal: double (nullable = true)\n",
      " |-- w2_M985_D_Mtotal: double (nullable = true)\n",
      " |-- w2_M100_D_Mtotal: double (nullable = true)\n",
      " |-- w2_Munq_D_Mtotal: double (nullable = true)\n",
      " |-- w2_M25M50M75_D_Mtotal: double (nullable = true)\n",
      " |-- w2_M985M100_D_Mtotal: double (nullable = true)\n",
      " |-- w2_M25M50_D_Mtotal: double (nullable = true)\n",
      " |-- w2_M25_D_M50M75M985M100: double (nullable = true)\n",
      " |-- w2_M25M50_D_M75M985M100: double (nullable = true)\n",
      " |-- w2_M25M50M75_D_M985M100: double (nullable = true)\n",
      " |-- w2_M25M50M75M985_D_M100: double (nullable = true)\n",
      " |-- last1WeekOnLine: integer (nullable = true)\n",
      " |-- w1_M25: integer (nullable = true)\n",
      " |-- w1_M50: integer (nullable = true)\n",
      " |-- w1_M75: integer (nullable = true)\n",
      " |-- w1_M985: integer (nullable = true)\n",
      " |-- w1_M100: integer (nullable = true)\n",
      " |-- w1_Munq: integer (nullable = true)\n",
      " |-- w1_Msecs: integer (nullable = true)\n",
      " |-- w1_Mtotal: integer (nullable = true)\n",
      " |-- w1_M25_D_Mtotal: double (nullable = true)\n",
      " |-- w1_M50_D_Mtotal: double (nullable = true)\n",
      " |-- w1_M75_D_Mtotal: double (nullable = true)\n",
      " |-- w1_M985_D_Mtotal: double (nullable = true)\n",
      " |-- w1_M100_D_Mtotal: double (nullable = true)\n",
      " |-- w1_Munq_D_Mtotal: double (nullable = true)\n",
      " |-- w1_M25M50M75_D_Mtotal: double (nullable = true)\n",
      " |-- w1_M985M100_D_Mtotal: double (nullable = true)\n",
      " |-- w1_M25M50_D_Mtotal: double (nullable = true)\n",
      " |-- w1_M25_D_M50M75M985M100: double (nullable = true)\n",
      " |-- w1_M25M50_D_M75M985M100: double (nullable = true)\n",
      " |-- w1_M25M50M75_D_M985M100: double (nullable = true)\n",
      " |-- w1_M25M50M75M985_D_M100: double (nullable = true)\n",
      " |-- is_churn: boolean (nullable = true)\n",
      "\n"
     ]
    }
   ],
   "source": [
    "df0.printSchema()"
   ]
  },
  {
   "cell_type": "code",
   "execution_count": 4,
   "metadata": {},
   "outputs": [
    {
     "data": {
      "text/plain": [
       "32733"
      ]
     },
     "execution_count": 4,
     "metadata": {},
     "output_type": "execute_result"
    }
   ],
   "source": [
    "df0.count()"
   ]
  },
  {
   "cell_type": "code",
   "execution_count": null,
   "metadata": {},
   "outputs": [],
   "source": []
  },
  {
   "cell_type": "code",
   "execution_count": 5,
   "metadata": {},
   "outputs": [
    {
     "data": {
      "text/plain": [
       "['msno',\n",
       " 'city',\n",
       " 'age',\n",
       " 'gender',\n",
       " 'registered_via',\n",
       " 'days_since_init_regist',\n",
       " 'init_date',\n",
       " 'final_date',\n",
       " 'gaps_count',\n",
       " 'total_gap_len',\n",
       " 'has_long_gap',\n",
       " 'has_expired',\n",
       " 'last_pay_method',\n",
       " 'last_plan_days',\n",
       " 'last_list_price',\n",
       " 'last_actual_paid',\n",
       " 'last_discount',\n",
       " 'last_paid_per_day',\n",
       " 'actual_paid_cnt_uniq',\n",
       " 'actual_paid_mode',\n",
       " 'auto_renew_cnt_uniq',\n",
       " 'auto_renew_mode',\n",
       " 'discount_cnt_uniq',\n",
       " 'discount_mode',\n",
       " 'list_price_cnt_uniq',\n",
       " 'list_price_mode',\n",
       " 'pay_method_cnt_uniq',\n",
       " 'pay_method_mode',\n",
       " 'plan_days_cnt_uniq',\n",
       " 'plan_days_mode',\n",
       " 'actual_paid_sum',\n",
       " 'actual_paid_per_sub_day',\n",
       " 'discount_sum',\n",
       " 'discount_per_sub_day',\n",
       " 'list_price_sum',\n",
       " 'list_price_per_sub_day',\n",
       " 'last12WeekOnLine',\n",
       " 'w12_M25',\n",
       " 'w12_M50',\n",
       " 'w12_M75',\n",
       " 'w12_M985',\n",
       " 'w12_M100',\n",
       " 'w12_Munq',\n",
       " 'w12_Msecs',\n",
       " 'w12_Mtotal',\n",
       " 'w12_M25_D_Mtotal',\n",
       " 'w12_M50_D_Mtotal',\n",
       " 'w12_M75_D_Mtotal',\n",
       " 'w12_M985_D_Mtotal',\n",
       " 'w12_M100_D_Mtotal',\n",
       " 'w12_Munq_D_Mtotal',\n",
       " 'w12_M25M50M75_D_Mtotal',\n",
       " 'w12_M985M100_D_Mtotal',\n",
       " 'w12_M25M50_D_Mtotal',\n",
       " 'w12_M25_D_M50M75M985M100',\n",
       " 'w12_M25M50_D_M75M985M100',\n",
       " 'w12_M25M50M75_D_M985M100',\n",
       " 'w12_M25M50M75M985_D_M100',\n",
       " 'last9WeekOnLine',\n",
       " 'w9_M25',\n",
       " 'w9_M50',\n",
       " 'w9_M75',\n",
       " 'w9_M985',\n",
       " 'w9_M100',\n",
       " 'w9_Munq',\n",
       " 'w9_Msecs',\n",
       " 'w9_Mtotal',\n",
       " 'w9_M25_D_Mtotal',\n",
       " 'w9_M50_D_Mtotal',\n",
       " 'w9_M75_D_Mtotal',\n",
       " 'w9_M985_D_Mtotal',\n",
       " 'w9_M100_D_Mtotal',\n",
       " 'w9_Munq_D_Mtotal',\n",
       " 'w9_M25M50M75_D_Mtotal',\n",
       " 'w9_M985M100_D_Mtotal',\n",
       " 'w9_M25M50_D_Mtotal',\n",
       " 'w9_M25_D_M50M75M985M100',\n",
       " 'w9_M25M50_D_M75M985M100',\n",
       " 'w9_M25M50M75_D_M985M100',\n",
       " 'w9_M25M50M75M985_D_M100',\n",
       " 'last6WeekOnLine',\n",
       " 'w6_M25',\n",
       " 'w6_M50',\n",
       " 'w6_M75',\n",
       " 'w6_M985',\n",
       " 'w6_M100',\n",
       " 'w6_Munq',\n",
       " 'w6_Msecs',\n",
       " 'w6_Mtotal',\n",
       " 'w6_M25_D_Mtotal',\n",
       " 'w6_M50_D_Mtotal',\n",
       " 'w6_M75_D_Mtotal',\n",
       " 'w6_M985_D_Mtotal',\n",
       " 'w6_M100_D_Mtotal',\n",
       " 'w6_Munq_D_Mtotal',\n",
       " 'w6_M25M50M75_D_Mtotal',\n",
       " 'w6_M985M100_D_Mtotal',\n",
       " 'w6_M25M50_D_Mtotal',\n",
       " 'w6_M25_D_M50M75M985M100',\n",
       " 'w6_M25M50_D_M75M985M100',\n",
       " 'w6_M25M50M75_D_M985M100',\n",
       " 'w6_M25M50M75M985_D_M100',\n",
       " 'last4WeekOnLine',\n",
       " 'w4_M25',\n",
       " 'w4_M50',\n",
       " 'w4_M75',\n",
       " 'w4_M985',\n",
       " 'w4_M100',\n",
       " 'w4_Munq',\n",
       " 'w4_Msecs',\n",
       " 'w4_Mtotal',\n",
       " 'w4_M25_D_Mtotal',\n",
       " 'w4_M50_D_Mtotal',\n",
       " 'w4_M75_D_Mtotal',\n",
       " 'w4_M985_D_Mtotal',\n",
       " 'w4_M100_D_Mtotal',\n",
       " 'w4_Munq_D_Mtotal',\n",
       " 'w4_M25M50M75_D_Mtotal',\n",
       " 'w4_M985M100_D_Mtotal',\n",
       " 'w4_M25M50_D_Mtotal',\n",
       " 'w4_M25_D_M50M75M985M100',\n",
       " 'w4_M25M50_D_M75M985M100',\n",
       " 'w4_M25M50M75_D_M985M100',\n",
       " 'w4_M25M50M75M985_D_M100',\n",
       " 'last2WeekOnLine',\n",
       " 'w2_M25',\n",
       " 'w2_M50',\n",
       " 'w2_M75',\n",
       " 'w2_M985',\n",
       " 'w2_M100',\n",
       " 'w2_Munq',\n",
       " 'w2_Msecs',\n",
       " 'w2_Mtotal',\n",
       " 'w2_M25_D_Mtotal',\n",
       " 'w2_M50_D_Mtotal',\n",
       " 'w2_M75_D_Mtotal',\n",
       " 'w2_M985_D_Mtotal',\n",
       " 'w2_M100_D_Mtotal',\n",
       " 'w2_Munq_D_Mtotal',\n",
       " 'w2_M25M50M75_D_Mtotal',\n",
       " 'w2_M985M100_D_Mtotal',\n",
       " 'w2_M25M50_D_Mtotal',\n",
       " 'w2_M25_D_M50M75M985M100',\n",
       " 'w2_M25M50_D_M75M985M100',\n",
       " 'w2_M25M50M75_D_M985M100',\n",
       " 'w2_M25M50M75M985_D_M100',\n",
       " 'last1WeekOnLine',\n",
       " 'w1_M25',\n",
       " 'w1_M50',\n",
       " 'w1_M75',\n",
       " 'w1_M985',\n",
       " 'w1_M100',\n",
       " 'w1_Munq',\n",
       " 'w1_Msecs',\n",
       " 'w1_Mtotal',\n",
       " 'w1_M25_D_Mtotal',\n",
       " 'w1_M50_D_Mtotal',\n",
       " 'w1_M75_D_Mtotal',\n",
       " 'w1_M985_D_Mtotal',\n",
       " 'w1_M100_D_Mtotal',\n",
       " 'w1_Munq_D_Mtotal',\n",
       " 'w1_M25M50M75_D_Mtotal',\n",
       " 'w1_M985M100_D_Mtotal',\n",
       " 'w1_M25M50_D_Mtotal',\n",
       " 'w1_M25_D_M50M75M985M100',\n",
       " 'w1_M25M50_D_M75M985M100',\n",
       " 'w1_M25M50M75_D_M985M100',\n",
       " 'w1_M25M50M75M985_D_M100',\n",
       " 'is_churn']"
      ]
     },
     "execution_count": 5,
     "metadata": {},
     "output_type": "execute_result"
    }
   ],
   "source": [
    "df0.columns"
   ]
  },
  {
   "cell_type": "code",
   "execution_count": 15,
   "metadata": {},
   "outputs": [
    {
     "name": "stdout",
     "output_type": "stream",
     "text": [
      "+--------+-----+\n",
      "|is_churn|count|\n",
      "+--------+-----+\n",
      "|    true|18031|\n",
      "|   false|14702|\n",
      "+--------+-----+\n",
      "\n"
     ]
    }
   ],
   "source": [
    "df0.groupBy('is_churn').count().show()"
   ]
  },
  {
   "cell_type": "code",
   "execution_count": 9,
   "metadata": {},
   "outputs": [],
   "source": [
    "import re\n",
    "\n",
    "group_members = ['city', 'age', 'gender', 'registered_via', 'days_since_init_regist']\n",
    "group_trans = ['init_date', 'final_date', 'gaps_count', 'total_gap_len', 'has_long_gap',\n",
    "               'has_expired', 'last_pay_method', 'last_plan_days', 'last_list_price', 'last_actual_paid',\n",
    "               'last_discount', 'last_paid_per_day', 'actual_paid_cnt_uniq', 'actual_paid_mode',\n",
    "               'auto_renew_cnt_uniq', 'auto_renew_mode', 'discount_cnt_uniq', 'discount_mode',\n",
    "               'list_price_cnt_uniq', 'list_price_mode', 'pay_method_cnt_uniq', 'pay_method_mode',\n",
    "               'plan_days_cnt_uniq', 'plan_days_mode', 'actual_paid_sum', 'actual_paid_per_sub_day',\n",
    "               'discount_sum', 'discount_per_sub_day', 'list_price_sum', 'list_price_per_sub_day']\n",
    "group_userlogs = [c  for c in df0.columns \n",
    "                  if re.match('last\\d+WeekOnLine', c) or re.match('w\\d+_', c)]"
   ]
  },
  {
   "cell_type": "markdown",
   "metadata": {},
   "source": [
    "# [utility functions]"
   ]
  },
  {
   "cell_type": "code",
   "execution_count": 115,
   "metadata": {},
   "outputs": [],
   "source": [
    "def plot_against_categorical(df, cat_field, ax, sort_as_int=False):\n",
    "    df_ = df.crosstab(cat_field, 'is_churn') \\\n",
    "         .withColumnRenamed('false' ,'not chrun') \\\n",
    "         .withColumnRenamed('true' ,'chrun')\n",
    "    if sort_as_int:\n",
    "        df_ = df_.sort(col(cat_field+'_is_churn').cast('int'))\n",
    "        \n",
    "    tb = df_.toPandas().set_index(cat_field+'_is_churn')\n",
    "    tb.plot.bar(ax=ax, alpha=0.7)\n",
    "\n",
    "    ax.set(xlabel=cat_field, ylabel='members count')"
   ]
  },
  {
   "cell_type": "code",
   "execution_count": 127,
   "metadata": {},
   "outputs": [],
   "source": [
    "def plot_scatter(df, field_x, field_y, ax, alpha=0.8):\n",
    "    tb = df.select(field_x, field_y).toPandas()\n",
    "    tb.plot.scatter(ax=ax, x=field_x, y=field_y, alpha=alpha)"
   ]
  },
  {
   "cell_type": "code",
   "execution_count": 136,
   "metadata": {},
   "outputs": [],
   "source": [
    "import matplotlib.pyplot as plt\n",
    "def plot_against_continuous(df, cont_field, bins, value_range):\n",
    "    ''' Returns (fig, axes) '''\n",
    "    arr_is_churn = np.array(df1.where('is_churn').select(cont_field).collect())\n",
    "    arr_not_churn = np.array(df1.where(~col('is_churn')).select(cont_field).collect())\n",
    "\n",
    "    fig, axes = plt.subplots(2, 1, sharex=True)\n",
    "    axes[0].hist(arr_not_churn, bins, range=value_range)\n",
    "    axes[1].hist(arr_is_churn, bins, range=value_range)\n",
    "\n",
    "    axes[0].set(title='not churn', xlim=value_range, xlabel=cont_field, ylabel='members count')\n",
    "    axes[1].set(title='churn', xlim=value_range, xlabel=cont_field, ylabel='members count')\n",
    "\n",
    "    fig.subplots_adjust(hspace=0.5)\n",
    "    return (fig, axes)"
   ]
  },
  {
   "cell_type": "markdown",
   "metadata": {},
   "source": [
    "# member data"
   ]
  },
  {
   "cell_type": "code",
   "execution_count": 112,
   "metadata": {},
   "outputs": [],
   "source": [
    "df1 = df0.select(['msno', 'is_churn'] + group_members)"
   ]
  },
  {
   "cell_type": "code",
   "execution_count": 114,
   "metadata": {},
   "outputs": [
    {
     "name": "stdout",
     "output_type": "stream",
     "text": [
      "+--------------------+--------+----+---+------+--------------+----------------------+\n",
      "|                msno|is_churn|city|age|gender|registered_via|days_since_init_regist|\n",
      "+--------------------+--------+----+---+------+--------------+----------------------+\n",
      "|+2GgJdINpS53hcABf...|   false|   5| 41|female|             9|                  3749|\n",
      "|+2gGE8RHPZ013pQs4...|    true|  18| 30|female|             9|                  2264|\n",
      "+--------------------+--------+----+---+------+--------------+----------------------+\n",
      "only showing top 2 rows\n",
      "\n"
     ]
    }
   ],
   "source": [
    "df1.show(2)"
   ]
  },
  {
   "cell_type": "markdown",
   "metadata": {},
   "source": [
    "## days_since_init_regist"
   ]
  },
  {
   "cell_type": "code",
   "execution_count": 76,
   "metadata": {},
   "outputs": [
    {
     "data": {
      "image/png": "[encoded data removed]",
      "text/plain": [
       "<Figure size 432x432 with 2 Axes>"
      ]
     },
     "metadata": {},
     "output_type": "display_data"
    }
   ],
   "source": [
    "import numpy as np\n",
    "import matplotlib.pyplot as plt\n",
    "from pyspark.sql.functions import col\n",
    "\n",
    "arr_dsir_is_churn = np.array(df1.where('is_churn').select('days_since_init_regist').collect())\n",
    "arr_dsir_not_churn = np.array(df1.where(~col('is_churn')).select('days_since_init_regist').collect())\n",
    "\n",
    "fig, axes = plt.subplots(2, 1)\n",
    "axes[0].hist(arr_dsir_not_churn, 30)\n",
    "axes[1].hist(arr_dsir_is_churn, 30)\n",
    "\n",
    "axes[0].set(title='not churn', xlim=[0,5000], xlabel='days since init regist', ylabel='count')\n",
    "axes[1].set(title='churn', xlim=[0,5000], xlabel='days since init regist', ylabel='count')\n",
    "\n",
    "fig.set_size_inches(6, 6)\n",
    "fig.subplots_adjust(hspace=0.5)\n",
    "plt.show()"
   ]
  },
  {
   "cell_type": "code",
   "execution_count": 77,
   "metadata": {},
   "outputs": [
    {
     "data": {
      "image/png": "[encoded data removed]",
      "text/plain": [
       "<Figure size 432x432 with 2 Axes>"
      ]
     },
     "metadata": {},
     "output_type": "display_data"
    }
   ],
   "source": [
    "fig, axes = plt.subplots(2, 1)\n",
    "axes[0].hist(arr_dsir_not_churn, 100)\n",
    "axes[1].hist(arr_dsir_is_churn, 100)\n",
    "\n",
    "axes[0].set(title='not churn', xlim=[0,1000], xlabel='days since init regist', ylabel='count')\n",
    "axes[1].set(title='churn', xlim=[0,1000], xlabel='days since init regist', ylabel='count')\n",
    "\n",
    "fig.set_size_inches(6, 6)\n",
    "fig.subplots_adjust(hspace=0.5)\n",
    "plt.show()"
   ]
  },
  {
   "cell_type": "markdown",
   "metadata": {},
   "source": [
    "## registered_via"
   ]
  },
  {
   "cell_type": "code",
   "execution_count": 75,
   "metadata": {},
   "outputs": [
    {
     "data": {
      "image/png": "[encoded data removed]",
      "text/plain": [
       "<Figure size 432x288 with 1 Axes>"
      ]
     },
     "metadata": {},
     "output_type": "display_data"
    }
   ],
   "source": [
    "df = df1.crosstab('registered_via', 'is_churn') \\\n",
    "     .withColumnRenamed('false' ,'not chrun') \\\n",
    "     .withColumnRenamed('true' ,'chrun')\n",
    "tb = df.toPandas().set_index('registered_via_is_churn')\n",
    "\n",
    "fig, ax = plt.subplots()\n",
    "tb.plot.bar(ax=ax, alpha=0.7)\n",
    "\n",
    "ax.set(xlabel='register method', ylabel='count')\n",
    "\n",
    "plt.show()"
   ]
  },
  {
   "cell_type": "markdown",
   "metadata": {},
   "source": [
    "## city"
   ]
  },
  {
   "cell_type": "code",
   "execution_count": 116,
   "metadata": {},
   "outputs": [
    {
     "data": {
      "image/png": "[encoded data removed]",
      "text/plain": [
       "<Figure size 720x288 with 1 Axes>"
      ]
     },
     "metadata": {},
     "output_type": "display_data"
    }
   ],
   "source": [
    "fig, ax = plt.subplots()\n",
    "plot_against_categorical(df1, 'city', ax, sort_as_int=True)\n",
    "fig.set_size_inches(10,4)\n",
    "plt.show()"
   ]
  },
  {
   "cell_type": "markdown",
   "metadata": {},
   "source": [
    "# transactions"
   ]
  },
  {
   "cell_type": "code",
   "execution_count": 117,
   "metadata": {},
   "outputs": [],
   "source": [
    "df1 = df0.select(['msno', 'is_churn'] + group_trans)"
   ]
  },
  {
   "cell_type": "code",
   "execution_count": 88,
   "metadata": {
    "scrolled": true
   },
   "outputs": [
    {
     "name": "stdout",
     "output_type": "stream",
     "text": [
      "['msno', 'is_churn', 'init_date', 'final_date', 'gaps_count', 'total_gap_len', 'has_long_gap', 'has_expired', 'last_pay_method', 'last_plan_days', 'last_list_price', 'last_actual_paid', 'last_discount', 'last_paid_per_day', 'actual_paid_cnt_uniq', 'actual_paid_mode', 'auto_renew_cnt_uniq', 'auto_renew_mode', 'discount_cnt_uniq', 'discount_mode', 'list_price_cnt_uniq', 'list_price_mode', 'pay_method_cnt_uniq', 'pay_method_mode', 'plan_days_cnt_uniq', 'plan_days_mode', 'actual_paid_sum', 'actual_paid_per_sub_day', 'discount_sum', 'discount_per_sub_day', 'list_price_sum', 'list_price_per_sub_day']\n"
     ]
    }
   ],
   "source": [
    "print(df1.columns)"
   ]
  },
  {
   "cell_type": "markdown",
   "metadata": {},
   "source": [
    "## gaps"
   ]
  },
  {
   "cell_type": "code",
   "execution_count": 91,
   "metadata": {},
   "outputs": [
    {
     "data": {
      "text/plain": [
       "<matplotlib.axes._subplots.AxesSubplot at 0x7fc618054400>"
      ]
     },
     "execution_count": 91,
     "metadata": {},
     "output_type": "execute_result"
    },
    {
     "data": {
      "image/png": "[encoded data removed]",
      "text/plain": [
       "<Figure size 432x288 with 1 Axes>"
      ]
     },
     "metadata": {},
     "output_type": "display_data"
    }
   ],
   "source": [
    "tb = df1.select('gaps_count', 'total_gap_len').toPandas()\n",
    "\n",
    "fig, ax = plt.subplots()\n",
    "tb.plot.scatter(ax=ax, x='gaps_count', y='total_gap_len', alpha=0.2)"
   ]
  },
  {
   "cell_type": "code",
   "execution_count": 95,
   "metadata": {},
   "outputs": [
    {
     "data": {
      "image/png": "[encoded data removed]",
      "text/plain": [
       "<Figure size 432x288 with 1 Axes>"
      ]
     },
     "metadata": {},
     "output_type": "display_data"
    }
   ],
   "source": [
    "df = df1.crosstab('gaps_count', 'is_churn') \\\n",
    "     .withColumnRenamed('false' ,'not chrun').withColumnRenamed('true' ,'chrun') \\\n",
    "     .sort(col('gaps_count_is_churn'))\n",
    "tb = df.toPandas().set_index('gaps_count_is_churn')\n",
    "\n",
    "fig, ax = plt.subplots()\n",
    "tb.plot.bar(ax=ax, alpha=0.7)\n",
    "\n",
    "ax.set(xlabel='gaps count', ylabel='members count')\n",
    "\n",
    "plt.show()"
   ]
  },
  {
   "cell_type": "code",
   "execution_count": 109,
   "metadata": {},
   "outputs": [
    {
     "data": {
      "image/png": "[encoded data removed]",
      "text/plain": [
       "<Figure size 432x432 with 2 Axes>"
      ]
     },
     "metadata": {},
     "output_type": "display_data"
    }
   ],
   "source": [
    "arr_is_churn = np.array(df1.where('is_churn').select('total_gap_len').collect())\n",
    "arr_not_churn = np.array(df1.where(~col('is_churn')).select('total_gap_len').collect())\n",
    "\n",
    "fig, axes = plt.subplots(2, 1)\n",
    "axes[0].hist(arr_not_churn, 60, range=(0,60))\n",
    "axes[1].hist(arr_is_churn, 60, range=(0,60))\n",
    "\n",
    "axes[0].set(title='not churn', xlim=[0,60], xlabel='total_gap_len', ylabel='count')\n",
    "axes[1].set(title='churn', xlim=[0,60], xlabel='total_gap_len', ylabel='count')\n",
    "\n",
    "fig.set_size_inches(6, 6)\n",
    "fig.subplots_adjust(hspace=0.5)\n",
    "plt.show()"
   ]
  },
  {
   "cell_type": "code",
   "execution_count": 104,
   "metadata": {},
   "outputs": [
    {
     "name": "stdout",
     "output_type": "stream",
     "text": [
      "+---------------------+-----+-----+\n",
      "|has_long_gap_is_churn|false| true|\n",
      "+---------------------+-----+-----+\n",
      "|                false|14702|18031|\n",
      "+---------------------+-----+-----+\n",
      "\n"
     ]
    }
   ],
   "source": [
    "df1.crosstab('has_long_gap', 'is_churn').show()"
   ]
  },
  {
   "cell_type": "markdown",
   "metadata": {},
   "source": [
    "## last_pay_method"
   ]
  },
  {
   "cell_type": "code",
   "execution_count": 122,
   "metadata": {},
   "outputs": [
    {
     "data": {
      "image/png": "[encoded data removed]",
      "text/plain": [
       "<Figure size 720x288 with 1 Axes>"
      ]
     },
     "metadata": {},
     "output_type": "display_data"
    }
   ],
   "source": [
    "fig, ax = plt.subplots()\n",
    "plot_against_categorical(df1, 'last_pay_method', ax, sort_as_int=True)\n",
    "fig.set_size_inches(10,4)\n",
    "plt.show()"
   ]
  },
  {
   "cell_type": "markdown",
   "metadata": {},
   "source": [
    "## last_plan_days"
   ]
  },
  {
   "cell_type": "code",
   "execution_count": 125,
   "metadata": {},
   "outputs": [
    {
     "data": {
      "image/png": "[encoded data removed]",
      "text/plain": [
       "<Figure size 720x288 with 1 Axes>"
      ]
     },
     "metadata": {},
     "output_type": "display_data"
    }
   ],
   "source": [
    "fig, ax = plt.subplots()\n",
    "plot_against_categorical(df1, 'last_plan_days', ax, sort_as_int=True)\n",
    "fig.set_size_inches(10,4)\n",
    "plt.show()"
   ]
  },
  {
   "cell_type": "markdown",
   "metadata": {},
   "source": [
    "## last_discount"
   ]
  },
  {
   "cell_type": "code",
   "execution_count": 134,
   "metadata": {
    "scrolled": false
   },
   "outputs": [
    {
     "name": "stdout",
     "output_type": "stream",
     "text": [
      "+----------------------+-----+-----+\n",
      "|last_discount_is_churn|false| true|\n",
      "+----------------------+-----+-----+\n",
      "|                   149|   13|   11|\n",
      "|                  -894|    0|    1|\n",
      "|                     0|14689|18019|\n",
      "+----------------------+-----+-----+\n",
      "\n"
     ]
    }
   ],
   "source": [
    "df1.crosstab('last_discount', 'is_churn').show()"
   ]
  },
  {
   "cell_type": "code",
   "execution_count": 137,
   "metadata": {},
   "outputs": [
    {
     "name": "stdout",
     "output_type": "stream",
     "text": [
      "+----------------------+\n",
      "|max(last_paid_per_day)|\n",
      "+----------------------+\n",
      "|                   6.0|\n",
      "+----------------------+\n",
      "\n"
     ]
    }
   ],
   "source": [
    "df1.select(max('last_paid_per_day')).show()"
   ]
  },
  {
   "cell_type": "markdown",
   "metadata": {},
   "source": [
    "## last_paid_per_day"
   ]
  },
  {
   "cell_type": "code",
   "execution_count": 139,
   "metadata": {},
   "outputs": [
    {
     "data": {
      "image/png": "[encoded data removed]",
      "text/plain": [
       "<Figure size 432x288 with 2 Axes>"
      ]
     },
     "metadata": {},
     "output_type": "display_data"
    }
   ],
   "source": [
    "fig, axes = plot_against_continuous(df1, 'last_paid_per_day', 18, (0,6))\n",
    "plt.show()"
   ]
  },
  {
   "cell_type": "markdown",
   "metadata": {},
   "source": [
    "## discount_mode"
   ]
  },
  {
   "cell_type": "code",
   "execution_count": 140,
   "metadata": {},
   "outputs": [
    {
     "name": "stdout",
     "output_type": "stream",
     "text": [
      "+----------------------+-----+-----+\n",
      "|discount_mode_is_churn|false| true|\n",
      "+----------------------+-----+-----+\n",
      "|                   149|    2|    8|\n",
      "|                  -894|    0|    1|\n",
      "|                     0|14700|18022|\n",
      "+----------------------+-----+-----+\n",
      "\n"
     ]
    }
   ],
   "source": [
    "df1.crosstab('discount_mode', 'is_churn').show()"
   ]
  },
  {
   "cell_type": "markdown",
   "metadata": {},
   "source": [
    "## list_price_cnt_uniq"
   ]
  },
  {
   "cell_type": "code",
   "execution_count": 142,
   "metadata": {},
   "outputs": [
    {
     "name": "stdout",
     "output_type": "stream",
     "text": [
      "+----------------------------+-----+-----+\n",
      "|list_price_cnt_uniq_is_churn|false| true|\n",
      "+----------------------------+-----+-----+\n",
      "|                           1|13104|16095|\n",
      "|                           2| 1536| 1852|\n",
      "|                           3|   61|   83|\n",
      "|                           4|    1|    1|\n",
      "+----------------------------+-----+-----+\n",
      "\n"
     ]
    }
   ],
   "source": [
    "df1.crosstab('list_price_cnt_uniq', 'is_churn').sort('list_price_cnt_uniq_is_churn').show()"
   ]
  },
  {
   "cell_type": "markdown",
   "metadata": {},
   "source": [
    "## pay_method_cnt_uniq"
   ]
  },
  {
   "cell_type": "code",
   "execution_count": 144,
   "metadata": {},
   "outputs": [
    {
     "name": "stdout",
     "output_type": "stream",
     "text": [
      "+----------------------------+-----+-----+\n",
      "|pay_method_cnt_uniq_is_churn|false| true|\n",
      "+----------------------------+-----+-----+\n",
      "|                           1|13394|16363|\n",
      "|                           2| 1258| 1593|\n",
      "|                           3|   49|   75|\n",
      "|                           4|    1|    0|\n",
      "+----------------------------+-----+-----+\n",
      "\n"
     ]
    }
   ],
   "source": [
    "df1.crosstab('pay_method_cnt_uniq', 'is_churn').sort('pay_method_cnt_uniq_is_churn').show()"
   ]
  },
  {
   "cell_type": "markdown",
   "metadata": {},
   "source": [
    "## pay_method_mode"
   ]
  },
  {
   "cell_type": "code",
   "execution_count": 143,
   "metadata": {},
   "outputs": [
    {
     "data": {
      "image/png": "[encoded data removed]",
      "text/plain": [
       "<Figure size 720x288 with 1 Axes>"
      ]
     },
     "metadata": {},
     "output_type": "display_data"
    }
   ],
   "source": [
    "fig, ax = plt.subplots()\n",
    "plot_against_categorical(df1, 'pay_method_mode', ax, sort_as_int=True)\n",
    "fig.set_size_inches(10,4)\n",
    "plt.show()"
   ]
  },
  {
   "cell_type": "markdown",
   "metadata": {},
   "source": [
    "## actual_paid_sum"
   ]
  },
  {
   "cell_type": "code",
   "execution_count": 147,
   "metadata": {},
   "outputs": [
    {
     "data": {
      "image/png": "[encoded data removed]",
      "text/plain": [
       "<Figure size 432x288 with 2 Axes>"
      ]
     },
     "metadata": {},
     "output_type": "display_data"
    }
   ],
   "source": [
    "fig, axes = plot_against_continuous(df1, 'actual_paid_sum', 36, (0,3600))\n",
    "plt.show()"
   ]
  },
  {
   "cell_type": "markdown",
   "metadata": {},
   "source": [
    "## actual_paid_per_sub_day"
   ]
  },
  {
   "cell_type": "code",
   "execution_count": 149,
   "metadata": {},
   "outputs": [
    {
     "data": {
      "image/png": "[encoded data removed]",
      "text/plain": [
       "<Figure size 432x288 with 2 Axes>"
      ]
     },
     "metadata": {},
     "output_type": "display_data"
    }
   ],
   "source": [
    "fig, axes = plot_against_continuous(df1, 'actual_paid_per_sub_day', 18, (0,6))\n",
    "plt.show()"
   ]
  },
  {
   "cell_type": "markdown",
   "metadata": {},
   "source": [
    "## discount_sum"
   ]
  },
  {
   "cell_type": "code",
   "execution_count": 152,
   "metadata": {},
   "outputs": [
    {
     "name": "stdout",
     "output_type": "stream",
     "text": [
      "+---------------------+-----+-----+\n",
      "|discount_sum_is_churn|false| true|\n",
      "+---------------------+-----+-----+\n",
      "|                  149|   23|   21|\n",
      "|                 -894|    0|    1|\n",
      "|                    0|14679|18009|\n",
      "+---------------------+-----+-----+\n",
      "\n"
     ]
    }
   ],
   "source": [
    "df1.crosstab('discount_sum', 'is_churn').show()"
   ]
  },
  {
   "cell_type": "markdown",
   "metadata": {},
   "source": [
    "## list_price_sum"
   ]
  },
  {
   "cell_type": "code",
   "execution_count": 153,
   "metadata": {},
   "outputs": [
    {
     "data": {
      "image/png": "[encoded data removed]",
      "text/plain": [
       "<Figure size 432x288 with 2 Axes>"
      ]
     },
     "metadata": {},
     "output_type": "display_data"
    }
   ],
   "source": [
    "fig, axes = plot_against_continuous(df1, 'list_price_sum', 36, (0,3600))\n",
    "plt.show()"
   ]
  },
  {
   "cell_type": "code",
   "execution_count": 155,
   "metadata": {},
   "outputs": [
    {
     "data": {
      "image/png": "[encoded data removed]",
      "text/plain": [
       "<Figure size 432x288 with 2 Axes>"
      ]
     },
     "metadata": {},
     "output_type": "display_data"
    }
   ],
   "source": [
    "fig, axes = plot_against_continuous(df1, 'list_price_sum', 50, (0,500))\n",
    "plt.show()"
   ]
  },
  {
   "cell_type": "markdown",
   "metadata": {},
   "source": [
    "# user logs"
   ]
  },
  {
   "cell_type": "code",
   "execution_count": 174,
   "metadata": {},
   "outputs": [],
   "source": [
    "from pyspark.sql.functions import when\n",
    "df1 = df0.select(['msno', 'is_churn'] + group_userlogs) \\\n",
    "      .withColumn('w1_secs_per_song', when(col('w1_Mtotal').isNull() | col('w1_Msecs').isNull(), float('nan')) \\\n",
    "                                        .otherwise(col('w1_Msecs')/col('w1_Mtotal')))"
   ]
  },
  {
   "cell_type": "markdown",
   "metadata": {},
   "source": [
    "## last 1 week"
   ]
  },
  {
   "cell_type": "code",
   "execution_count": 161,
   "metadata": {},
   "outputs": [
    {
     "data": {
      "image/png": "[encoded data removed]",
      "text/plain": [
       "<Figure size 432x288 with 1 Axes>"
      ]
     },
     "metadata": {},
     "output_type": "display_data"
    }
   ],
   "source": [
    "fig, ax = plt.subplots()\n",
    "plot_against_categorical(df1, 'last1WeekOnLine', ax, sort_as_int=True)\n",
    "plt.show()"
   ]
  },
  {
   "cell_type": "code",
   "execution_count": 163,
   "metadata": {},
   "outputs": [
    {
     "data": {
      "image/png": "[encoded data removed]",
      "text/plain": [
       "<Figure size 432x288 with 1 Axes>"
      ]
     },
     "metadata": {},
     "output_type": "display_data"
    }
   ],
   "source": [
    "fig, ax = plt.subplots()\n",
    "plot_scatter(df1, 'w1_Msecs', 'w1_Mtotal', ax, alpha=0.3)\n",
    "plt.show()"
   ]
  },
  {
   "cell_type": "code",
   "execution_count": 179,
   "metadata": {},
   "outputs": [
    {
     "name": "stdout",
     "output_type": "stream",
     "text": [
      "+---------+--------+------------------+\n",
      "|w1_Mtotal|w1_Msecs|  w1_secs_per_song|\n",
      "+---------+--------+------------------+\n",
      "|       28|    null|               NaN|\n",
      "|       28|    null|               NaN|\n",
      "|        9|    null|               NaN|\n",
      "|        0|       0|              null|\n",
      "|        0|       0|              null|\n",
      "|       68|    null|               NaN|\n",
      "|       32|    null|               NaN|\n",
      "|       26|    null|               NaN|\n",
      "|       20|    null|               NaN|\n",
      "|        6|     821|136.83333333333334|\n",
      "|        9|    null|               NaN|\n",
      "|       19|    null|               NaN|\n",
      "|       21|    null|               NaN|\n",
      "|       27|    null|               NaN|\n",
      "|        5|    null|               NaN|\n",
      "|       61|    null|               NaN|\n",
      "|       24|    null|               NaN|\n",
      "|       57|    null|               NaN|\n",
      "|        9|    null|               NaN|\n",
      "|       13|    null|               NaN|\n",
      "|       50|    null|               NaN|\n",
      "|        0|       0|              null|\n",
      "|       14|    null|               NaN|\n",
      "|       14|    null|               NaN|\n",
      "|        9|    null|               NaN|\n",
      "|        0|       0|              null|\n",
      "|        6|    null|               NaN|\n",
      "|       30|    null|               NaN|\n",
      "|       23|    null|               NaN|\n",
      "|       87|    null|               NaN|\n",
      "|       12|    null|               NaN|\n",
      "|       30|    null|               NaN|\n",
      "|       10|    null|               NaN|\n",
      "|       11|    null|               NaN|\n",
      "|       82|    null|               NaN|\n",
      "|       33|    null|               NaN|\n",
      "|       29|    null|               NaN|\n",
      "|       16|    null|               NaN|\n",
      "|        4|     937|            234.25|\n",
      "|       20|    null|               NaN|\n",
      "+---------+--------+------------------+\n",
      "only showing top 40 rows\n",
      "\n"
     ]
    }
   ],
   "source": [
    "df1.select('w1_Mtotal', 'w1_Msecs', 'w1_secs_per_song').show(40)"
   ]
  },
  {
   "cell_type": "code",
   "execution_count": 175,
   "metadata": {},
   "outputs": [
    {
     "ename": "TypeError",
     "evalue": "'>=' not supported between instances of 'NoneType' and 'float'",
     "output_type": "error",
     "traceback": [
      "\u001b[0;31m---------------------------------------------------------------------------\u001b[0m",
      "\u001b[0;31mTypeError\u001b[0m                                 Traceback (most recent call last)",
      "\u001b[0;32m<ipython-input-175-e8080101de5e>\u001b[0m in \u001b[0;36m<module>\u001b[0;34m()\u001b[0m\n\u001b[0;32m----> 1\u001b[0;31m \u001b[0mfig\u001b[0m\u001b[0;34m,\u001b[0m \u001b[0maxes\u001b[0m \u001b[0;34m=\u001b[0m \u001b[0mplot_against_continuous\u001b[0m\u001b[0;34m(\u001b[0m\u001b[0mdf1\u001b[0m\u001b[0;34m,\u001b[0m \u001b[0;34m'w1_secs_per_song'\u001b[0m\u001b[0;34m,\u001b[0m \u001b[0;36m31\u001b[0m\u001b[0;34m,\u001b[0m \u001b[0;34m(\u001b[0m\u001b[0;36m0\u001b[0m\u001b[0;34m,\u001b[0m\u001b[0;36m465\u001b[0m\u001b[0;34m)\u001b[0m\u001b[0;34m)\u001b[0m\u001b[0;34m\u001b[0m\u001b[0m\n\u001b[0m\u001b[1;32m      2\u001b[0m \u001b[0mplt\u001b[0m\u001b[0;34m.\u001b[0m\u001b[0mshow\u001b[0m\u001b[0;34m(\u001b[0m\u001b[0;34m)\u001b[0m\u001b[0;34m\u001b[0m\u001b[0m\n",
      "\u001b[0;32m<ipython-input-136-9c217280f3b1>\u001b[0m in \u001b[0;36mplot_against_continuous\u001b[0;34m(df, cont_field, bins, value_range)\u001b[0m\n\u001b[1;32m      6\u001b[0m \u001b[0;34m\u001b[0m\u001b[0m\n\u001b[1;32m      7\u001b[0m     \u001b[0mfig\u001b[0m\u001b[0;34m,\u001b[0m \u001b[0maxes\u001b[0m \u001b[0;34m=\u001b[0m \u001b[0mplt\u001b[0m\u001b[0;34m.\u001b[0m\u001b[0msubplots\u001b[0m\u001b[0;34m(\u001b[0m\u001b[0;36m2\u001b[0m\u001b[0;34m,\u001b[0m \u001b[0;36m1\u001b[0m\u001b[0;34m,\u001b[0m \u001b[0msharex\u001b[0m\u001b[0;34m=\u001b[0m\u001b[0;32mTrue\u001b[0m\u001b[0;34m)\u001b[0m\u001b[0;34m\u001b[0m\u001b[0m\n\u001b[0;32m----> 8\u001b[0;31m     \u001b[0maxes\u001b[0m\u001b[0;34m[\u001b[0m\u001b[0;36m0\u001b[0m\u001b[0;34m]\u001b[0m\u001b[0;34m.\u001b[0m\u001b[0mhist\u001b[0m\u001b[0;34m(\u001b[0m\u001b[0marr_not_churn\u001b[0m\u001b[0;34m,\u001b[0m \u001b[0mbins\u001b[0m\u001b[0;34m,\u001b[0m \u001b[0mrange\u001b[0m\u001b[0;34m=\u001b[0m\u001b[0mvalue_range\u001b[0m\u001b[0;34m)\u001b[0m\u001b[0;34m\u001b[0m\u001b[0m\n\u001b[0m\u001b[1;32m      9\u001b[0m     \u001b[0maxes\u001b[0m\u001b[0;34m[\u001b[0m\u001b[0;36m1\u001b[0m\u001b[0;34m]\u001b[0m\u001b[0;34m.\u001b[0m\u001b[0mhist\u001b[0m\u001b[0;34m(\u001b[0m\u001b[0marr_is_churn\u001b[0m\u001b[0;34m,\u001b[0m \u001b[0mbins\u001b[0m\u001b[0;34m,\u001b[0m \u001b[0mrange\u001b[0m\u001b[0;34m=\u001b[0m\u001b[0mvalue_range\u001b[0m\u001b[0;34m)\u001b[0m\u001b[0;34m\u001b[0m\u001b[0m\n\u001b[1;32m     10\u001b[0m \u001b[0;34m\u001b[0m\u001b[0m\n",
      "\u001b[0;32m~/miniconda3/lib/python3.6/site-packages/matplotlib/__init__.py\u001b[0m in \u001b[0;36minner\u001b[0;34m(ax, *args, **kwargs)\u001b[0m\n\u001b[1;32m   1853\u001b[0m                         \u001b[0;34m\"the Matplotlib list!)\"\u001b[0m \u001b[0;34m%\u001b[0m \u001b[0;34m(\u001b[0m\u001b[0mlabel_namer\u001b[0m\u001b[0;34m,\u001b[0m \u001b[0mfunc\u001b[0m\u001b[0;34m.\u001b[0m\u001b[0m__name__\u001b[0m\u001b[0;34m)\u001b[0m\u001b[0;34m,\u001b[0m\u001b[0;34m\u001b[0m\u001b[0m\n\u001b[1;32m   1854\u001b[0m                         RuntimeWarning, stacklevel=2)\n\u001b[0;32m-> 1855\u001b[0;31m             \u001b[0;32mreturn\u001b[0m \u001b[0mfunc\u001b[0m\u001b[0;34m(\u001b[0m\u001b[0max\u001b[0m\u001b[0;34m,\u001b[0m \u001b[0;34m*\u001b[0m\u001b[0margs\u001b[0m\u001b[0;34m,\u001b[0m \u001b[0;34m**\u001b[0m\u001b[0mkwargs\u001b[0m\u001b[0;34m)\u001b[0m\u001b[0;34m\u001b[0m\u001b[0m\n\u001b[0m\u001b[1;32m   1856\u001b[0m \u001b[0;34m\u001b[0m\u001b[0m\n\u001b[1;32m   1857\u001b[0m         inner.__doc__ = _add_data_doc(inner.__doc__,\n",
      "\u001b[0;32m~/miniconda3/lib/python3.6/site-packages/matplotlib/axes/_axes.py\u001b[0m in \u001b[0;36mhist\u001b[0;34m(***failed resolving arguments***)\u001b[0m\n\u001b[1;32m   6528\u001b[0m             \u001b[0;31m# this will automatically overwrite bins,\u001b[0m\u001b[0;34m\u001b[0m\u001b[0;34m\u001b[0m\u001b[0m\n\u001b[1;32m   6529\u001b[0m             \u001b[0;31m# so that each histogram uses the same bins\u001b[0m\u001b[0;34m\u001b[0m\u001b[0;34m\u001b[0m\u001b[0m\n\u001b[0;32m-> 6530\u001b[0;31m             \u001b[0mm\u001b[0m\u001b[0;34m,\u001b[0m \u001b[0mbins\u001b[0m \u001b[0;34m=\u001b[0m \u001b[0mnp\u001b[0m\u001b[0;34m.\u001b[0m\u001b[0mhistogram\u001b[0m\u001b[0;34m(\u001b[0m\u001b[0mx\u001b[0m\u001b[0;34m[\u001b[0m\u001b[0mi\u001b[0m\u001b[0;34m]\u001b[0m\u001b[0;34m,\u001b[0m \u001b[0mbins\u001b[0m\u001b[0;34m,\u001b[0m \u001b[0mweights\u001b[0m\u001b[0;34m=\u001b[0m\u001b[0mw\u001b[0m\u001b[0;34m[\u001b[0m\u001b[0mi\u001b[0m\u001b[0;34m]\u001b[0m\u001b[0;34m,\u001b[0m \u001b[0;34m**\u001b[0m\u001b[0mhist_kwargs\u001b[0m\u001b[0;34m)\u001b[0m\u001b[0;34m\u001b[0m\u001b[0m\n\u001b[0m\u001b[1;32m   6531\u001b[0m             \u001b[0mm\u001b[0m \u001b[0;34m=\u001b[0m \u001b[0mm\u001b[0m\u001b[0;34m.\u001b[0m\u001b[0mastype\u001b[0m\u001b[0;34m(\u001b[0m\u001b[0mfloat\u001b[0m\u001b[0;34m)\u001b[0m  \u001b[0;31m# causes problems later if it's an int\u001b[0m\u001b[0;34m\u001b[0m\u001b[0m\n\u001b[1;32m   6532\u001b[0m             \u001b[0;32mif\u001b[0m \u001b[0mmlast\u001b[0m \u001b[0;32mis\u001b[0m \u001b[0;32mNone\u001b[0m\u001b[0;34m:\u001b[0m\u001b[0;34m\u001b[0m\u001b[0m\n",
      "\u001b[0;32m~/miniconda3/lib/python3.6/site-packages/numpy/lib/function_base.py\u001b[0m in \u001b[0;36mhistogram\u001b[0;34m(***failed resolving arguments***)\u001b[0m\n\u001b[1;32m    778\u001b[0m \u001b[0;34m\u001b[0m\u001b[0m\n\u001b[1;32m    779\u001b[0m             \u001b[0;31m# Only include values in the right range\u001b[0m\u001b[0;34m\u001b[0m\u001b[0;34m\u001b[0m\u001b[0m\n\u001b[0;32m--> 780\u001b[0;31m             \u001b[0mkeep\u001b[0m \u001b[0;34m=\u001b[0m \u001b[0;34m(\u001b[0m\u001b[0mtmp_a\u001b[0m \u001b[0;34m>=\u001b[0m \u001b[0mfirst_edge\u001b[0m\u001b[0;34m)\u001b[0m\u001b[0;34m\u001b[0m\u001b[0m\n\u001b[0m\u001b[1;32m    781\u001b[0m             \u001b[0mkeep\u001b[0m \u001b[0;34m&=\u001b[0m \u001b[0;34m(\u001b[0m\u001b[0mtmp_a\u001b[0m \u001b[0;34m<=\u001b[0m \u001b[0mlast_edge\u001b[0m\u001b[0;34m)\u001b[0m\u001b[0;34m\u001b[0m\u001b[0m\n\u001b[1;32m    782\u001b[0m             \u001b[0;32mif\u001b[0m \u001b[0;32mnot\u001b[0m \u001b[0mnp\u001b[0m\u001b[0;34m.\u001b[0m\u001b[0mlogical_and\u001b[0m\u001b[0;34m.\u001b[0m\u001b[0mreduce\u001b[0m\u001b[0;34m(\u001b[0m\u001b[0mkeep\u001b[0m\u001b[0;34m)\u001b[0m\u001b[0;34m:\u001b[0m\u001b[0;34m\u001b[0m\u001b[0m\n",
      "\u001b[0;31mTypeError\u001b[0m: '>=' not supported between instances of 'NoneType' and 'float'"
     ]
    },
    {
     "data": {
      "image/png": "[encoded data removed]",
      "text/plain": [
       "<Figure size 432x288 with 2 Axes>"
      ]
     },
     "metadata": {},
     "output_type": "display_data"
    }
   ],
   "source": [
    "fig, axes = plot_against_continuous(df1, 'w1_secs_per_song', 31, (0,465))\n",
    "plt.show()"
   ]
  },
  {
   "cell_type": "code",
   "execution_count": 166,
   "metadata": {},
   "outputs": [
    {
     "name": "stdout",
     "output_type": "stream",
     "text": [
      "['last1WeekOnLine', 'w1_M25', 'w1_M50', 'w1_M75', 'w1_M985', 'w1_M100', 'w1_Munq', 'w1_Msecs', 'w1_Mtotal', 'w1_M25_D_Mtotal', 'w1_M50_D_Mtotal', 'w1_M75_D_Mtotal', 'w1_M985_D_Mtotal', 'w1_M100_D_Mtotal', 'w1_Munq_D_Mtotal', 'w1_M25M50M75_D_Mtotal', 'w1_M985M100_D_Mtotal', 'w1_M25M50_D_Mtotal', 'w1_M25_D_M50M75M985M100', 'w1_M25M50_D_M75M985M100', 'w1_M25M50M75_D_M985M100', 'w1_M25M50M75M985_D_M100', 'w1_secs_per_song']\n"
     ]
    }
   ],
   "source": [
    "print([c for c in df1.columns if c.startswith('w1_') or c.startswith('last1W')])"
   ]
  },
  {
   "cell_type": "code",
   "execution_count": 167,
   "metadata": {},
   "outputs": [
    {
     "name": "stdout",
     "output_type": "stream",
     "text": [
      "+---------------------+\n",
      "|max(w1_secs_per_song)|\n",
      "+---------------------+\n",
      "|                465.0|\n",
      "+---------------------+\n",
      "\n"
     ]
    }
   ],
   "source": [
    "df1.select(max('w1_secs_per_song')).show()"
   ]
  },
  {
   "cell_type": "code",
   "execution_count": null,
   "metadata": {},
   "outputs": [],
   "source": []
  },
  {
   "cell_type": "code",
   "execution_count": null,
   "metadata": {},
   "outputs": [],
   "source": []
  }
 ],
 "metadata": {
  "kernelspec": {
   "display_name": "Python 3",
   "language": "python",
   "name": "python3"
  },
  "language_info": {
   "codemirror_mode": {
    "name": "ipython",
    "version": 3
   },
   "file_extension": ".py",
   "mimetype": "text/x-python",
   "name": "python",
   "nbconvert_exporter": "python",
   "pygments_lexer": "ipython3",
   "version": "3.6.6"
  },
  "toc": {
   "base_numbering": 1,
   "nav_menu": {},
   "number_sections": true,
   "sideBar": true,
   "skip_h1_title": false,
   "title_cell": "Table of Contents",
   "title_sidebar": "Contents",
   "toc_cell": false,
   "toc_position": {
    "height": "calc(100% - 180px)",
    "left": "10px",
    "top": "150px",
    "width": "294.983px"
   },
   "toc_section_display": true,
   "toc_window_display": true
  }
 },
 "nbformat": 4,
 "nbformat_minor": 2
}
