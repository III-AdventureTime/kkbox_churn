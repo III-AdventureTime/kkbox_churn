{
 "cells": [
  {
   "cell_type": "code",
   "execution_count": 1,
   "metadata": {},
   "outputs": [
    {
     "data": {
      "text/html": [
       "\n",
       "            <div>\n",
       "                <p><b>SparkSession - hive</b></p>\n",
       "                \n",
       "        <div>\n",
       "            <p><b>SparkContext</b></p>\n",
       "\n",
       "            <p><a href=\"http://10.120.27.99:4040\">Spark UI</a></p>\n",
       "\n",
       "            <dl>\n",
       "              <dt>Version</dt>\n",
       "                <dd><code>v2.2.1</code></dd>\n",
       "              <dt>Master</dt>\n",
       "                <dd><code>local[*]</code></dd>\n",
       "              <dt>AppName</dt>\n",
       "                <dd><code>PySparkShell</code></dd>\n",
       "            </dl>\n",
       "        </div>\n",
       "        \n",
       "            </div>\n",
       "        "
      ],
      "text/plain": [
       "<pyspark.sql.session.SparkSession at 0x7f45cc09e240>"
      ]
     },
     "execution_count": 1,
     "metadata": {},
     "output_type": "execute_result"
    }
   ],
   "source": [
    "spark"
   ]
  },
  {
   "cell_type": "code",
   "execution_count": 2,
   "metadata": {},
   "outputs": [
    {
     "name": "stdout",
     "output_type": "stream",
     "text": [
      "root\n",
      " |-- msno: string (nullable = true)\n",
      " |-- city: string (nullable = true)\n",
      " |-- bd: string (nullable = true)\n",
      " |-- gender: string (nullable = true)\n",
      " |-- registered_via: string (nullable = true)\n",
      " |-- registration_init_time: string (nullable = true)\n",
      "\n"
     ]
    }
   ],
   "source": [
    "infile = '/home/cloudera/2.kkbox_churn/raw_data/members_v3.csv'\n",
    "df0 = spark.read.format('csv').option('header','true').load(infile)\n",
    "df0.printSchema()"
   ]
  },
  {
   "cell_type": "code",
   "execution_count": 6,
   "metadata": {
    "scrolled": false
   },
   "outputs": [
    {
     "name": "stdout",
     "output_type": "stream",
     "text": [
      "+--------------------+----+---+------+--------------+----------------------+----------------------+\n",
      "|                msno|city| bd|gender|registered_via|registration_init_time|days_since_init_regist|\n",
      "+--------------------+----+---+------+--------------+----------------------+----------------------+\n",
      "|Rb9UwLQTrxzBVwCB6...|   1|  0|  null|            11|              20110911|                  1997|\n",
      "|+tJonkh+O1CA796Fm...|   1|  0|  null|             7|              20110914|                  1994|\n",
      "|cV358ssn7a0f7jZOw...|   1|  0|  null|            11|              20110915|                  1993|\n",
      "|9bzDeJP6sQodK73K5...|   1|  0|  null|            11|              20110915|                  1993|\n",
      "|WFLY3s7z4EZsieHCt...|   6| 32|female|             9|              20110915|                  1993|\n",
      "+--------------------+----+---+------+--------------+----------------------+----------------------+\n",
      "only showing top 5 rows\n",
      "\n"
     ]
    }
   ],
   "source": [
    "from pyspark.sql.functions import to_date, datediff, lit\n",
    "df1 = df0.withColumn('days_since_init_regist',\n",
    "               datediff(to_date(lit('2017-02-28')), to_date('registration_init_time', 'yyyyMMdd')))\n",
    "df1.show(5)"
   ]
  },
  {
   "cell_type": "code",
   "execution_count": 14,
   "metadata": {},
   "outputs": [
    {
     "name": "stdout",
     "output_type": "stream",
     "text": [
      "+--------------------+----+----+------+--------------+----------------------+\n",
      "|                msno|city| age|gender|registered_via|days_since_init_regist|\n",
      "+--------------------+----+----+------+--------------+----------------------+\n",
      "|Rb9UwLQTrxzBVwCB6...|   1|null|  null|            11|                  1997|\n",
      "|+tJonkh+O1CA796Fm...|   1|null|  null|             7|                  1994|\n",
      "|cV358ssn7a0f7jZOw...|   1|null|  null|            11|                  1993|\n",
      "|9bzDeJP6sQodK73K5...|   1|null|  null|            11|                  1993|\n",
      "|WFLY3s7z4EZsieHCt...|   6|  32|female|             9|                  1993|\n",
      "+--------------------+----+----+------+--------------+----------------------+\n",
      "only showing top 5 rows\n",
      "\n"
     ]
    }
   ],
   "source": [
    "from pyspark.sql.functions import when, lit, col\n",
    "df2 = df1.withColumn('age',\n",
    "                      when((col('bd').cast('int')>=10) & (col('bd').cast('int')<=99), col('bd')) \\\n",
    "                      .otherwise(lit(None).cast('string'))\n",
    "                    ) \\\n",
    "      .select('msno', 'city', 'age', 'gender', 'registered_via', 'days_since_init_regist')\n",
    "df2.show(5)"
   ]
  },
  {
   "cell_type": "code",
   "execution_count": 15,
   "metadata": {},
   "outputs": [],
   "source": [
    "outfile = '/home/cloudera/2.kkbox_churn/data01/feature_creation_01/members'\n",
    "df2.write.format('csv').option('header', 'true').save(outfile)"
   ]
  },
  {
   "cell_type": "code",
   "execution_count": null,
   "metadata": {},
   "outputs": [],
   "source": []
  }
 ],
 "metadata": {
  "kernelspec": {
   "display_name": "Python 3",
   "language": "python",
   "name": "python3"
  },
  "language_info": {
   "codemirror_mode": {
    "name": "ipython",
    "version": 3
   },
   "file_extension": ".py",
   "mimetype": "text/x-python",
   "name": "python",
   "nbconvert_exporter": "python",
   "pygments_lexer": "ipython3",
   "version": "3.6.6"
  },
  "toc": {
   "base_numbering": 1,
   "nav_menu": {},
   "number_sections": true,
   "sideBar": true,
   "skip_h1_title": false,
   "title_cell": "Table of Contents",
   "title_sidebar": "Contents",
   "toc_cell": false,
   "toc_position": {},
   "toc_section_display": true,
   "toc_window_display": false
  }
 },
 "nbformat": 4,
 "nbformat_minor": 2
}
