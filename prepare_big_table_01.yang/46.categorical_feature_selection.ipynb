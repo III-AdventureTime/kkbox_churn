{
 "cells": [
  {
   "cell_type": "code",
   "execution_count": 1,
   "metadata": {},
   "outputs": [
    {
     "data": {
      "text/html": [
       "\n",
       "            <div>\n",
       "                <p><b>SparkSession - hive</b></p>\n",
       "                \n",
       "        <div>\n",
       "            <p><b>SparkContext</b></p>\n",
       "\n",
       "            <p><a href=\"http://10.120.27.99:4040\">Spark UI</a></p>\n",
       "\n",
       "            <dl>\n",
       "              <dt>Version</dt>\n",
       "                <dd><code>v2.2.1</code></dd>\n",
       "              <dt>Master</dt>\n",
       "                <dd><code>local[*]</code></dd>\n",
       "              <dt>AppName</dt>\n",
       "                <dd><code>PySparkShell</code></dd>\n",
       "            </dl>\n",
       "        </div>\n",
       "        \n",
       "            </div>\n",
       "        "
      ],
      "text/plain": [
       "<pyspark.sql.session.SparkSession at 0x7f38a0b8b2e8>"
      ]
     },
     "execution_count": 1,
     "metadata": {},
     "output_type": "execute_result"
    }
   ],
   "source": [
    "spark"
   ]
  },
  {
   "cell_type": "code",
   "execution_count": 1,
   "metadata": {},
   "outputs": [],
   "source": [
    "dir0 = '/home/cloudera/2.kkbox_churn/data01/big_table_01/has-expired_auto-renew-0/last-1-week_has-record/'\n",
    "infile = dir0 + '02a.numeric_transformed'\n",
    "\n",
    "df0 = spark.read.format('parquet').load(infile)"
   ]
  },
  {
   "cell_type": "code",
   "execution_count": 2,
   "metadata": {},
   "outputs": [
    {
     "name": "stdout",
     "output_type": "stream",
     "text": [
      "root\n",
      " |-- msno: string (nullable = true)\n",
      " |-- city: string (nullable = true)\n",
      " |-- registered_via: string (nullable = true)\n",
      " |-- has_long_gap: boolean (nullable = true)\n",
      " |-- last_pay_method: string (nullable = true)\n",
      " |-- pay_method_mode: string (nullable = true)\n",
      " |-- is_churn: boolean (nullable = true)\n",
      " |-- days_since_init_regist_log: double (nullable = true)\n",
      " |-- total_gap_len: integer (nullable = true)\n",
      " |-- last_list_price: integer (nullable = true)\n",
      " |-- last_paid_per_day: double (nullable = true)\n",
      " |-- actual_paid_cnt_uniq: integer (nullable = true)\n",
      " |-- last1WeekOnLine: integer (nullable = true)\n",
      " |-- last1WeekOnLine_D_last12WeekOnLine_log: double (nullable = true)\n",
      " |-- w1_M75_sqrt: double (nullable = true)\n",
      " |-- w12_M75_sqrt: double (nullable = true)\n",
      " |-- w1_M985_sqrt: double (nullable = true)\n",
      " |-- w1_Mtotal_log: double (nullable = true)\n",
      " |-- w1_Mtotal_D_w12_Mtotal_log: double (nullable = true)\n",
      " |-- w1_M25_D_Mtotal_sqrt: double (nullable = true)\n",
      " |-- w1_M50_D_Mtotal_sqrt: double (nullable = true)\n",
      " |-- w12_M50_D_Mtotal_sqrt: double (nullable = true)\n",
      " |-- w1_Munq_D_Mtotal_sqrt: double (nullable = true)\n",
      "\n"
     ]
    }
   ],
   "source": [
    "df0.printSchema()"
   ]
  },
  {
   "cell_type": "code",
   "execution_count": 3,
   "metadata": {},
   "outputs": [],
   "source": [
    "cols_categorical = [\n",
    " 'city',\n",
    " 'registered_via',\n",
    " 'has_long_gap',\n",
    " 'last_pay_method',\n",
    " 'pay_method_mode',\n",
    "]"
   ]
  },
  {
   "cell_type": "code",
   "execution_count": 8,
   "metadata": {},
   "outputs": [],
   "source": [
    "import pandas as pd\n",
    "import matplotlib.pyplot as plt\n",
    "import math\n",
    "\n",
    "def plot_categorical_value_counts(df, cols, nFigCols):\n",
    "    ''' Return fig '''\n",
    "    nFigRows = int(math.ceil(len(cols)/nFigCols))\n",
    "    fig = plt.figure()\n",
    "    for i in range(len(cols)):\n",
    "        ax = fig.add_subplot(nFigRows, nFigCols, i+1)\n",
    "\n",
    "        values = pd.Series(df0.rdd.map(lambda row: row[cols[i]]).collect())\n",
    "        value_freqs = values.value_counts().sort_index()\n",
    "\n",
    "        value_freqs.plot.bar(ax=ax, color='#2277cc')\n",
    "        ax.set(title=cols[i], ylabel='count')\n",
    "\n",
    "        fig.subplots_adjust(wspace=0.3, hspace=0.55)\n",
    "    return fig"
   ]
  },
  {
   "cell_type": "code",
   "execution_count": 46,
   "metadata": {},
   "outputs": [
    {
     "data": {
      "image/png": "[encoded data removed]",
      "text/plain": [
       "<Figure size 864x432 with 5 Axes>"
      ]
     },
     "metadata": {},
     "output_type": "display_data"
    }
   ],
   "source": [
    "fig = plot_categorical_value_counts(df0, cols_categorical, 2)\n",
    "fig.set_size_inches(12, 6)\n",
    "plt.show()"
   ]
  },
  {
   "cell_type": "markdown",
   "metadata": {},
   "source": [
    "# transform"
   ]
  },
  {
   "cell_type": "code",
   "execution_count": 4,
   "metadata": {},
   "outputs": [],
   "source": [
    "# city\n",
    "from pyspark.sql.functions import udf\n",
    "from pyspark.sql.types import StringType\n",
    "\n",
    "def group_cities(city):\n",
    "    if '10' <= city <= '12':\n",
    "        return '10-12'\n",
    "    elif '16' <= city <= '21':\n",
    "        return '16-21'\n",
    "    elif city == '3' or '7' <= city <= '9':\n",
    "        return '03/07-09'\n",
    "    else :\n",
    "        return city.zfill(2)\n",
    "\n",
    "udf_group_cities = udf(group_cities, StringType())    \n",
    "\n",
    "df0 = df0.withColumnRenamed('city', 'city_orig') \\\n",
    "      .withColumn('city', udf_group_cities('city_orig')) \\\n",
    "      .drop('city_orig')"
   ]
  },
  {
   "cell_type": "code",
   "execution_count": 5,
   "metadata": {},
   "outputs": [],
   "source": [
    "# last_pay_method\n",
    "from pyspark.sql.functions import udf\n",
    "from pyspark.sql.types import StringType\n",
    "\n",
    "def group_pay_method(pay_method):\n",
    "    if pay_method in ['32', '36', '38']:\n",
    "        return pay_method\n",
    "    else:\n",
    "        return 'other'\n",
    "\n",
    "udf_group_pay_method = udf(group_pay_method, StringType())    \n",
    "\n",
    "df0 = df0.withColumnRenamed('last_pay_method', 'last_pay_method_orig') \\\n",
    "      .withColumn('last_pay_method', udf_group_pay_method('last_pay_method_orig')) \\\n",
    "      .drop('last_pay_method_orig')"
   ]
  },
  {
   "cell_type": "code",
   "execution_count": 6,
   "metadata": {},
   "outputs": [],
   "source": [
    "# pay_method_mode\n",
    "df0 = df0.withColumnRenamed('pay_method_mode', 'pay_method_mode_orig') \\\n",
    "      .withColumn('pay_method_mode', udf_group_pay_method('pay_method_mode_orig')) \\\n",
    "      .drop('pay_method_mode_orig')"
   ]
  },
  {
   "cell_type": "code",
   "execution_count": 9,
   "metadata": {},
   "outputs": [
    {
     "data": {
      "image/png": "[encoded data removed]",
      "text/plain": [
       "<Figure size 864x576 with 5 Axes>"
      ]
     },
     "metadata": {},
     "output_type": "display_data"
    }
   ],
   "source": [
    "fig = plot_categorical_value_counts(df0, cols_categorical, 2)\n",
    "fig.set_size_inches(12, 8)\n",
    "fig.subplots_adjust(hspace=0.6)\n",
    "plt.show()"
   ]
  },
  {
   "cell_type": "markdown",
   "metadata": {},
   "source": [
    "# select"
   ]
  },
  {
   "cell_type": "code",
   "execution_count": 7,
   "metadata": {},
   "outputs": [],
   "source": [
    "cols_categ_select1 = [\n",
    " 'city',\n",
    " 'registered_via',\n",
    " #'has_long_gap',    # all = false\n",
    " 'last_pay_method',\n",
    " 'pay_method_mode',\n",
    "]"
   ]
  },
  {
   "cell_type": "code",
   "execution_count": 16,
   "metadata": {},
   "outputs": [
    {
     "name": "stdout",
     "output_type": "stream",
     "text": [
      "+--------+--------------+---------------+---------------+\n",
      "|    city|registered_via|last_pay_method|pay_method_mode|\n",
      "+--------+--------------+---------------+---------------+\n",
      "|      05|             9|             32|             32|\n",
      "|   16-21|             9|             32|             32|\n",
      "|      01|             7|             38|             38|\n",
      "|      01|             9|             38|             38|\n",
      "|      04|             9|             38|             38|\n",
      "|03/07-09|             9|          other|          other|\n",
      "|      05|             3|             38|             38|\n",
      "|      01|             4|             36|             36|\n",
      "|      01|             4|             38|             38|\n",
      "|      05|             4|             38|             38|\n",
      "+--------+--------------+---------------+---------------+\n",
      "only showing top 10 rows\n",
      "\n"
     ]
    }
   ],
   "source": [
    "df0.select(cols_categ_select1).show(10)"
   ]
  },
  {
   "cell_type": "code",
   "execution_count": 17,
   "metadata": {},
   "outputs": [
    {
     "name": "stdout",
     "output_type": "stream",
     "text": [
      "+-------------------------------+----+----+-----+-----+\n",
      "|last_pay_method_pay_method_mode|  32|  36|   38|other|\n",
      "+-------------------------------+----+----+-----+-----+\n",
      "|                             32|5945|   0|    0|    0|\n",
      "|                             36|  79|2471|  140|   49|\n",
      "|                             38|  20|  57|15866|  132|\n",
      "|                          other|  34|  16|  378| 4180|\n",
      "+-------------------------------+----+----+-----+-----+\n",
      "\n"
     ]
    }
   ],
   "source": [
    "df0.crosstab('last_pay_method', 'pay_method_mode') \\\n",
    "   .sort('last_pay_method_pay_method_mode').show()"
   ]
  },
  {
   "cell_type": "code",
   "execution_count": 18,
   "metadata": {},
   "outputs": [
    {
     "name": "stdout",
     "output_type": "stream",
     "text": [
      "+------------------------------+----+----+---+----+\n",
      "|last_pay_method_registered_via|   3|   4|  7|   9|\n",
      "+------------------------------+----+----+---+----+\n",
      "|                            36| 908| 495|145|1191|\n",
      "|                            38|5393|3435|408|6839|\n",
      "|                            32|1336| 395|402|3812|\n",
      "|                         other|1488|1032|129|1959|\n",
      "+------------------------------+----+----+---+----+\n",
      "\n"
     ]
    }
   ],
   "source": [
    "df0.crosstab('last_pay_method', 'registered_via').show()"
   ]
  },
  {
   "cell_type": "code",
   "execution_count": 19,
   "metadata": {},
   "outputs": [
    {
     "name": "stdout",
     "output_type": "stream",
     "text": [
      "+-------------------+----+----+---+----+\n",
      "|city_registered_via|   3|   4|  7|   9|\n",
      "+-------------------+----+----+---+----+\n",
      "|           03/07-09| 471| 169| 58| 630|\n",
      "|                 15| 779| 299| 83|1171|\n",
      "|                 22| 743| 316| 68|1053|\n",
      "|                 13|1529| 530|221|3079|\n",
      "|                 05|1371| 561|134|1956|\n",
      "|                 04| 919| 424|112|1300|\n",
      "|              10-12| 548| 205| 48| 777|\n",
      "|                 06| 469| 209| 31| 637|\n",
      "|                 14| 313| 114| 50| 503|\n",
      "|              16-21| 392| 164| 33| 516|\n",
      "|                 01|1591|2366|246|2179|\n",
      "+-------------------+----+----+---+----+\n",
      "\n"
     ]
    }
   ],
   "source": [
    "df0.crosstab('city', 'registered_via').show()"
   ]
  },
  {
   "cell_type": "code",
   "execution_count": 8,
   "metadata": {},
   "outputs": [
    {
     "name": "stdout",
     "output_type": "stream",
     "text": [
      "root\n",
      " |-- msno: string (nullable = true)\n",
      " |-- last_paid_per_day: double (nullable = true)\n",
      " |-- w12_M50_D_Mtotal_sqrt: double (nullable = true)\n",
      " |-- w1_M75_sqrt: double (nullable = true)\n",
      " |-- days_since_init_regist_log: double (nullable = true)\n",
      " |-- w1_Mtotal_D_w12_Mtotal_log: double (nullable = true)\n",
      " |-- w1_M50_D_Mtotal_sqrt: double (nullable = true)\n",
      " |-- last1WeekOnLine: integer (nullable = true)\n",
      " |-- total_gap_len: integer (nullable = true)\n",
      " |-- actual_paid_cnt_uniq: integer (nullable = true)\n",
      " |-- last_list_price: integer (nullable = true)\n",
      " |-- w12_M75_sqrt: double (nullable = true)\n",
      " |-- w1_M985_sqrt: double (nullable = true)\n",
      " |-- w1_M25_D_Mtotal_sqrt: double (nullable = true)\n",
      " |-- w1_Munq_D_Mtotal_sqrt: double (nullable = true)\n",
      " |-- w1_Mtotal_log: double (nullable = true)\n",
      " |-- last1WeekOnLine_D_last12WeekOnLine_log: double (nullable = true)\n",
      " |-- city: string (nullable = true)\n",
      " |-- registered_via: string (nullable = true)\n",
      " |-- last_pay_method: string (nullable = true)\n",
      " |-- is_churn: boolean (nullable = true)\n",
      "\n"
     ]
    }
   ],
   "source": [
    "cols_categ_select2 = [\n",
    " 'city',\n",
    " 'registered_via',\n",
    " #'has_long_gap',    # all = false\n",
    " 'last_pay_method',\n",
    " #'pay_method_mode',   # correlated with last_pay_method\n",
    "]\n",
    "\n",
    "cols_to_drop = list(set(cols_categorical) - set(cols_categ_select2))\n",
    "df = df0.drop(*cols_to_drop)\n",
    "\n",
    "# move categorical fields to the end\n",
    "cols_other = list(set(df.columns) - set(cols_categ_select2) - set(('msno', 'is_churn')))\n",
    "df1 = df.select('msno', *(cols_other + cols_categ_select2), 'is_churn')\n",
    "\n",
    "df1.printSchema()"
   ]
  },
  {
   "cell_type": "code",
   "execution_count": 9,
   "metadata": {},
   "outputs": [],
   "source": [
    "# output\n",
    "\n",
    "#outfile = dir0 + '03a.numer-transformed_categ-transformed'\n",
    "#df1.write.format('parquet').save(outfile)\n",
    "\n",
    "outfile = dir0 + '03a.numer-transformed_categ-transformed.csv'\n",
    "df1.coalesce(1).write.format('csv').option('header', 'true').save(outfile)"
   ]
  },
  {
   "cell_type": "code",
   "execution_count": null,
   "metadata": {},
   "outputs": [],
   "source": []
  }
 ],
 "metadata": {
  "kernelspec": {
   "display_name": "Python 3",
   "language": "python",
   "name": "python3"
  },
  "language_info": {
   "codemirror_mode": {
    "name": "ipython",
    "version": 3
   },
   "file_extension": ".py",
   "mimetype": "text/x-python",
   "name": "python",
   "nbconvert_exporter": "python",
   "pygments_lexer": "ipython3",
   "version": "3.6.6"
  },
  "toc": {
   "base_numbering": 1,
   "nav_menu": {},
   "number_sections": true,
   "sideBar": true,
   "skip_h1_title": false,
   "title_cell": "Table of Contents",
   "title_sidebar": "Contents",
   "toc_cell": false,
   "toc_position": {},
   "toc_section_display": true,
   "toc_window_display": false
  }
 },
 "nbformat": 4,
 "nbformat_minor": 2
}
