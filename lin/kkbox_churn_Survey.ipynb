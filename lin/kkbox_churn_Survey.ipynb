{
 "cells": [
  {
   "cell_type": "code",
   "execution_count": 1,
   "metadata": {},
   "outputs": [
    {
     "data": {
      "text/plain": [
       "'local[*]'"
      ]
     },
     "execution_count": 1,
     "metadata": {},
     "output_type": "execute_result"
    }
   ],
   "source": [
    "sc.master"
   ]
  },
  {
   "cell_type": "code",
   "execution_count": 29,
   "metadata": {},
   "outputs": [],
   "source": [
    "if sc.master[0:5] == \"local\":\n",
    "    path = \"file:///root/data/members_v3.csv\"\n",
    "else:\n",
    "    path = \"hdfs://root/data/members_v3.csv\""
   ]
  },
  {
   "cell_type": "markdown",
   "metadata": {},
   "source": [
    "# Establishing Spark DataFrame from RDD"
   ]
  },
  {
   "cell_type": "code",
   "execution_count": 30,
   "metadata": {},
   "outputs": [
    {
     "data": {
      "text/plain": [
       "['msno,city,bd,gender,registered_via,registration_init_time',\n",
       " 'Rb9UwLQTrxzBVwCB6+bCcSQWZ9JiNLC9dXtM1oEsZA8=,1,0,,11,20110911']"
      ]
     },
     "execution_count": 30,
     "metadata": {},
     "output_type": "execute_result"
    }
   ],
   "source": [
    "rawDataWithHeader = sc.textFile(path)\n",
    "rawDataWithHeader.take(2)"
   ]
  },
  {
   "cell_type": "code",
   "execution_count": 11,
   "metadata": {},
   "outputs": [
    {
     "name": "stdout",
     "output_type": "stream",
     "text": [
      "msno,city,bd,gender,registered_via,registration_init_time\n"
     ]
    },
    {
     "data": {
      "text/plain": [
       "[['Rb9UwLQTrxzBVwCB6+bCcSQWZ9JiNLC9dXtM1oEsZA8=',\n",
       "  '1',\n",
       "  '0',\n",
       "  '',\n",
       "  '11',\n",
       "  '20110911'],\n",
       " ['+tJonkh+O1CA796Fm5X60UMOtB6POHAwPjbTRVl/EuU=',\n",
       "  '1',\n",
       "  '0',\n",
       "  '',\n",
       "  '7',\n",
       "  '20110914']]"
      ]
     },
     "execution_count": 11,
     "metadata": {},
     "output_type": "execute_result"
    }
   ],
   "source": [
    "header = rawDataWithHeader.first()\n",
    "rawData = rawDataWithHeader.filter(lambda x:x!=header)\n",
    "rawField= rawData.map(lambda line:line.split(\",\"))\n",
    "print(header)\n",
    "rawField.take(2)"
   ]
  },
  {
   "cell_type": "code",
   "execution_count": 35,
   "metadata": {},
   "outputs": [
    {
     "name": "stdout",
     "output_type": "stream",
     "text": [
      "[Row(bd=0, city=1, gender='', msno='Rb9UwLQTrxzBVwCB6+bCcSQWZ9JiNLC9dXtM1oEsZA8=', registered_via=11, registration_init_time='20110911')]\n",
      "root\n",
      " |-- bd: long (nullable = true)\n",
      " |-- city: long (nullable = true)\n",
      " |-- gender: string (nullable = true)\n",
      " |-- msno: string (nullable = true)\n",
      " |-- registered_via: long (nullable = true)\n",
      " |-- registration_init_time: string (nullable = true)\n",
      "\n",
      "None\n",
      "+---+----+------+--------------------+--------------+----------------------+\n",
      "| bd|city|gender|                msno|registered_via|registration_init_time|\n",
      "+---+----+------+--------------------+--------------+----------------------+\n",
      "|  0|   1|      |Rb9UwLQTrxzBVwCB6...|            11|              20110911|\n",
      "|  0|   1|      |+tJonkh+O1CA796Fm...|             7|              20110914|\n",
      "|  0|   1|      |cV358ssn7a0f7jZOw...|            11|              20110915|\n",
      "|  0|   1|      |9bzDeJP6sQodK73K5...|            11|              20110915|\n",
      "| 32|   6|female|WFLY3s7z4EZsieHCt...|             9|              20110915|\n",
      "+---+----+------+--------------------+--------------+----------------------+\n",
      "only showing top 5 rows\n",
      "\n",
      "None\n"
     ]
    }
   ],
   "source": [
    "from pyspark.sql import Row\n",
    "member_rdd = rawField.map(lambda p:Row(msno=p[0],\n",
    "                                          city=int(p[1]),\n",
    "                                          bd=int(p[2]),\n",
    "                                          gender=p[3],\n",
    "                                          registered_via=int(p[4]),\n",
    "                                          registration_init_time=(p[5])\n",
    "                            ))\n",
    "print(member_rdd.take(1))\n",
    "member_df = sqlContext.createDataFrame(member_rdd)\n",
    "print(member_df.printSchema())\n",
    "print(member_df.show(5))"
   ]
  },
  {
   "cell_type": "code",
   "execution_count": 34,
   "metadata": {},
   "outputs": [
    {
     "data": {
      "text/plain": [
       "pyspark.rdd.PipelinedRDD"
      ]
     },
     "execution_count": 34,
     "metadata": {},
     "output_type": "execute_result"
    }
   ],
   "source": []
  },
  {
   "cell_type": "markdown",
   "metadata": {},
   "source": [
    "# Establishing Spark DataFrame Directly"
   ]
  },
  {
   "cell_type": "code",
   "execution_count": 33,
   "metadata": {},
   "outputs": [
    {
     "name": "stdout",
     "output_type": "stream",
     "text": [
      "6769473\n",
      "root\n",
      " |-- msno: string (nullable = true)\n",
      " |-- city: string (nullable = true)\n",
      " |-- bd: string (nullable = true)\n",
      " |-- gender: string (nullable = true)\n",
      " |-- registered_via: string (nullable = true)\n",
      " |-- registration_init_time: string (nullable = true)\n",
      "\n",
      "None\n",
      "+--------------------+----+---+------+--------------+----------------------+\n",
      "|                msno|city| bd|gender|registered_via|registration_init_time|\n",
      "+--------------------+----+---+------+--------------+----------------------+\n",
      "|Rb9UwLQTrxzBVwCB6...|   1|  0|  null|            11|              20110911|\n",
      "|+tJonkh+O1CA796Fm...|   1|  0|  null|             7|              20110914|\n",
      "|cV358ssn7a0f7jZOw...|   1|  0|  null|            11|              20110915|\n",
      "|9bzDeJP6sQodK73K5...|   1|  0|  null|            11|              20110915|\n",
      "|WFLY3s7z4EZsieHCt...|   6| 32|female|             9|              20110915|\n",
      "+--------------------+----+---+------+--------------+----------------------+\n",
      "only showing top 5 rows\n",
      "\n",
      "None\n"
     ]
    }
   ],
   "source": [
    "member_df = sqlContext.read.format(\"csv\").option(\"header\",\"true\").option(\"delimiter\",',').load(path)\n",
    "print(member_df.count())\n",
    "print(member_df.printSchema())\n",
    "print(member_df.show(5))"
   ]
  },
  {
   "cell_type": "markdown",
   "metadata": {},
   "source": [
    "# Establishing SparkSQL from Spark DataFrame"
   ]
  },
  {
   "cell_type": "code",
   "execution_count": 28,
   "metadata": {},
   "outputs": [
    {
     "name": "stdout",
     "output_type": "stream",
     "text": [
      "+-------+\n",
      "| counts|\n",
      "+-------+\n",
      "|6769473|\n",
      "+-------+\n",
      "\n"
     ]
    }
   ],
   "source": [
    "member_df.registerTempTable(\"member_table\")\n",
    "sqlContext.sql(\"SELECT count(*) counts FROM member_table\").show()"
   ]
  },
  {
   "cell_type": "markdown",
   "metadata": {},
   "source": [
    "# We rightnow have three kinds of data structures\n",
    "- ### rdd: member_rdd \n",
    "- ### dataframe: member_df\n",
    "- ### sparksql: member_sql"
   ]
  },
  {
   "cell_type": "code",
   "execution_count": 36,
   "metadata": {},
   "outputs": [
    {
     "name": "stdout",
     "output_type": "stream",
     "text": [
      "+-------+------------------+-----------------+-------+--------------------+------------------+----------------------+\n",
      "|summary|                bd|             city| gender|                msno|    registered_via|registration_init_time|\n",
      "+-------+------------------+-----------------+-------+--------------------+------------------+----------------------+\n",
      "|  count|           6769473|          6769473|6769473|             6769473|           6769473|               6769473|\n",
      "|   mean| 9.795794295951842|3.847357689439045|   null|                null| 5.253068739619761|  2.0145175906336136E7|\n",
      "| stddev|17.925899719010886|5.478359063260501|   null|                null|2.3613983148064928|     23186.00761215203|\n",
      "|    min|             -7168|                1|       |+++4vcS9aMH7KWdfh...|                -1|              20040326|\n",
      "|    max|              2016|               22|   male|zzzyOgMk9MljCerbC...|                19|              20170429|\n",
      "+-------+------------------+-----------------+-------+--------------------+------------------+----------------------+\n",
      "\n"
     ]
    }
   ],
   "source": [
    "member_df.describe().show()"
   ]
  },
  {
   "cell_type": "code",
   "execution_count": null,
   "metadata": {},
   "outputs": [],
   "source": []
  }
 ],
 "metadata": {
  "kernelspec": {
   "display_name": "Python 3",
   "language": "python",
   "name": "python3"
  },
  "language_info": {
   "codemirror_mode": {
    "name": "ipython",
    "version": 3
   },
   "file_extension": ".py",
   "mimetype": "text/x-python",
   "name": "python",
   "nbconvert_exporter": "python",
   "pygments_lexer": "ipython3",
   "version": "3.5.3"
  }
 },
 "nbformat": 4,
 "nbformat_minor": 2
}
