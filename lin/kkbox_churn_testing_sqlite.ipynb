{
 "cells": [
  {
   "cell_type": "code",
   "execution_count": null,
   "metadata": {},
   "outputs": [],
   "source": [
    "import numpy as np\n",
    "import pandas as pd\n",
    "import sqlalchemy\n",
    "\n",
    "# -Show dataStructure\n",
    "#data = pd.read_csv(\"sample_submission_zero.csv\", nrows=10)\n",
    "#print(data)\n",
    "\n",
    "# -Creat engine!!!\n",
    "csv_database = sqlalchemy.create_engine('sqlite:///csv_database.db', echo=True)\n",
    "# ==================================================\n",
    "#SQL Alchemy SQLITE relative path\n",
    "# Relative path is the path 'raw' after the three initial slashses\n",
    "#e = create_engine('sqlite:///path/to/database.db')\n",
    "# Absolute path is a slash after the three initial slashses\n",
    "#e = create_engine('sqlite:////tmp/absolute_path_database.db')\n",
    "# ==================================================\n",
    "\n",
    "# =====\n",
    "# https://stackoverflow.com/questions/39053628/open-selected-rows-with-pandas-using-chunksize-and-or-iterator\n",
    "# http://pythondata.com/working-large-csv-files-python/\n",
    "# ====\n",
    "chunksize = 50\n",
    "#i = 0\n",
    "#j = 1\n",
    "\n",
    "#pd.DataFrame(np.random.randn(30, 3), columns=list('abc')).to_csv('fn.csv', index=False)\n",
    "#for chunk in pd.read_csv('fn.csv', chunksize=10):\n",
    "#    print(chunk)\n",
    "#    chunk.to_sql('test',csv_database,if_exists='append')\n",
    "#sample_submission_zero.csv\n",
    "for df in pd.read_csv(\"./kkboxData/user_logs.csv\", chunksize=chunksize, iterator=True):\n",
    "     #df = df.rename(columns={c: c.replace(' ', '') for c in df.columns}) \n",
    "#     df.index += j\n",
    "#     i+=1\n",
    "    df.to_sql('test', csv_database, if_exists='append')\n",
    "#      j = df.index[-1] + 1\n",
    "#    print(df)\n",
    "#df = pd.read_sql_query('SELECT msno FROM test', csv_database)\n",
    "#print(df)\n"
   ]
  }
 ],
 "metadata": {
  "kernelspec": {
   "display_name": "Python 3",
   "language": "python",
   "name": "python3"
  },
  "language_info": {
   "codemirror_mode": {
    "name": "ipython",
    "version": 3
   },
   "file_extension": ".py",
   "mimetype": "text/x-python",
   "name": "python",
   "nbconvert_exporter": "python",
   "pygments_lexer": "ipython3",
   "version": "3.6.3"
  }
 },
 "nbformat": 4,
 "nbformat_minor": 2
}
