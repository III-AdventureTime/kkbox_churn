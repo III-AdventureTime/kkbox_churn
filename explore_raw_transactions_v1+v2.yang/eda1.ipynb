{
 "cells": [
  {
   "cell_type": "code",
   "execution_count": 3,
   "metadata": {},
   "outputs": [
    {
     "data": {
      "text/html": [
       "\n",
       "            <div>\n",
       "                <p><b>SparkSession - hive</b></p>\n",
       "                \n",
       "        <div>\n",
       "            <p><b>SparkContext</b></p>\n",
       "\n",
       "            <p><a href=\"http://10.120.27.99:4040\">Spark UI</a></p>\n",
       "\n",
       "            <dl>\n",
       "              <dt>Version</dt>\n",
       "                <dd><code>v2.2.1</code></dd>\n",
       "              <dt>Master</dt>\n",
       "                <dd><code>local[*]</code></dd>\n",
       "              <dt>AppName</dt>\n",
       "                <dd><code>PySparkShell</code></dd>\n",
       "            </dl>\n",
       "        </div>\n",
       "        \n",
       "            </div>\n",
       "        "
      ],
      "text/plain": [
       "<pyspark.sql.session.SparkSession at 0x7fc757f20240>"
      ]
     },
     "execution_count": 3,
     "metadata": {},
     "output_type": "execute_result"
    }
   ],
   "source": [
    "spark"
   ]
  },
  {
   "cell_type": "code",
   "execution_count": 4,
   "metadata": {},
   "outputs": [
    {
     "name": "stdout",
     "output_type": "stream",
     "text": [
      "root\n",
      " |-- msno: string (nullable = true)\n",
      " |-- payment_method_id: string (nullable = true)\n",
      " |-- payment_plan_days: string (nullable = true)\n",
      " |-- plan_list_price: string (nullable = true)\n",
      " |-- actual_amount_paid: string (nullable = true)\n",
      " |-- is_auto_renew: string (nullable = true)\n",
      " |-- transaction_date: string (nullable = true)\n",
      " |-- membership_expire_date: string (nullable = true)\n",
      " |-- is_cancel: string (nullable = true)\n",
      "\n"
     ]
    }
   ],
   "source": [
    "infile = 'file:///home/cloudera/2.kkbox_churn/raw_data/transactions_v1+v2'\n",
    "df0 = spark.read.format('csv').option('header','true').load(infile)\n",
    "df0.printSchema()"
   ]
  },
  {
   "cell_type": "code",
   "execution_count": 8,
   "metadata": {},
   "outputs": [
    {
     "data": {
      "text/plain": [
       "2426143"
      ]
     },
     "execution_count": 8,
     "metadata": {},
     "output_type": "execute_result"
    }
   ],
   "source": [
    "df0.groupBy('msno').count().count()\n",
    "# number of members:"
   ]
  },
  {
   "cell_type": "markdown",
   "metadata": {},
   "source": [
    "# plan_days = 0"
   ]
  },
  {
   "cell_type": "code",
   "execution_count": 5,
   "metadata": {},
   "outputs": [],
   "source": [
    "from pyspark.sql.functions import col\n",
    "df1 = df0.where(col('payment_plan_days') == '0') \\\n",
    "         .where(col('is_cancel') == '0')"
   ]
  },
  {
   "cell_type": "code",
   "execution_count": 6,
   "metadata": {},
   "outputs": [
    {
     "name": "stdout",
     "output_type": "stream",
     "text": [
      "+---------------------+\n",
      "|max(transaction_date)|\n",
      "+---------------------+\n",
      "|             20151223|\n",
      "+---------------------+\n",
      "\n"
     ]
    }
   ],
   "source": [
    "from pyspark.sql.functions import max\n",
    "df1.select(max('transaction_date')).show()"
   ]
  },
  {
   "cell_type": "code",
   "execution_count": 8,
   "metadata": {},
   "outputs": [
    {
     "data": {
      "text/plain": [
       "492895"
      ]
     },
     "execution_count": 8,
     "metadata": {},
     "output_type": "execute_result"
    }
   ],
   "source": [
    "df1.groupBy('msno').count().count()\n",
    "# number of members with a record with plan_days = 0 and is_cancel = 0"
   ]
  },
  {
   "cell_type": "code",
   "execution_count": 3,
   "metadata": {},
   "outputs": [
    {
     "name": "stdout",
     "output_type": "stream",
     "text": [
      "+------------------+------+\n",
      "|actual_amount_paid| count|\n",
      "+------------------+------+\n",
      "|               447|    33|\n",
      "|               894|  3573|\n",
      "|              1788|  3947|\n",
      "|                35|   482|\n",
      "|                 0|  8181|\n",
      "|              2000|     4|\n",
      "|               300|   168|\n",
      "|               100|   697|\n",
      "|               596|    21|\n",
      "|               131|   198|\n",
      "|              1000|    33|\n",
      "|              1200|    45|\n",
      "|               799|   202|\n",
      "|               450|    46|\n",
      "|               350|    19|\n",
      "|               536|  1299|\n",
      "|               150| 13363|\n",
      "|              1599|   623|\n",
      "|               500|    26|\n",
      "|               930|    39|\n",
      "|               480|   193|\n",
      "|               134|  1055|\n",
      "|               149|766669|\n",
      "|              1150|     2|\n",
      "|               105|    26|\n",
      "|               400|     9|\n",
      "|               129| 27048|\n",
      "|                50|     5|\n",
      "|               119| 26130|\n",
      "+------------------+------+\n",
      "\n"
     ]
    }
   ],
   "source": [
    "df_actual_paid_q = df1.groupBy('actual_amount_paid').count().persist()\n",
    "df_actual_paid_q.show(40)"
   ]
  },
  {
   "cell_type": "markdown",
   "metadata": {},
   "source": [
    "## trying to guess plan_days from plan_list_price\n",
    "Use only data with trans_date <= 20151231."
   ]
  },
  {
   "cell_type": "code",
   "execution_count": 2,
   "metadata": {},
   "outputs": [
    {
     "data": {
      "text/plain": [
       "7485781"
      ]
     },
     "execution_count": 2,
     "metadata": {},
     "output_type": "execute_result"
    }
   ],
   "source": [
    "from pyspark.sql.functions import col\n",
    "df2 = df0.where(col('transaction_date') < '20160101') \\\n",
    "         .where(col('plan_list_price') != '0')\n",
    "df2.count()"
   ]
  },
  {
   "cell_type": "code",
   "execution_count": 7,
   "metadata": {
    "collapsed": true
   },
   "outputs": [
    {
     "name": "stdout",
     "output_type": "stream",
     "text": [
      "+---------------+-----------------+-------+\n",
      "|plan_list_price|payment_plan_days|  count|\n",
      "+---------------+-----------------+-------+\n",
      "|              1|               90|      6|\n",
      "|             10|                2|     21|\n",
      "|            100|               30|  11520|\n",
      "|           1000|              200|    456|\n",
      "|            105|               21|    353|\n",
      "|           1150|              230|     72|\n",
      "|            119|               30|  25858|\n",
      "|            120|               30|    164|\n",
      "|           1200|              360|   3692|\n",
      "|            124|               30|    598|\n",
      "|            126|               30|    137|\n",
      "|            129|               30| 505864|\n",
      "|            131|               30|     61|\n",
      "|            134|               30|   2109|\n",
      "|            143|               30|      1|\n",
      "|            149|               30|5258923|\n",
      "|            149|               31| 766612|\n",
      "|            149|               35|    320|\n",
      "|             15|                3|     19|\n",
      "|            150|               30| 233254|\n",
      "+---------------+-----------------+-------+\n",
      "only showing top 20 rows\n",
      "\n"
     ]
    }
   ],
   "source": [
    "# payment_plan_days vs. plan_list_price \n",
    "df3 = df2.groupBy('plan_list_price', 'payment_plan_days').count().persist()\n",
    "df3.orderBy('plan_list_price', 'payment_plan_days').show()"
   ]
  },
  {
   "cell_type": "code",
   "execution_count": 6,
   "metadata": {
    "collapsed": true
   },
   "outputs": [
    {
     "data": {
      "image/png": "[encoded data removed]",
      "text/plain": [
       "<Figure size 432x288 with 1 Axes>"
      ]
     },
     "metadata": {},
     "output_type": "display_data"
    }
   ],
   "source": [
    "import matplotlib.pyplot as plt\n",
    "fig = plt.figure(facecolor='#cccccc')\n",
    "ax = fig.add_subplot(1, 1, 1)\n",
    "\n",
    "df3.selectExpr('CAST(plan_list_price AS int) AS list_price',\n",
    "               'CAST(payment_plan_days AS int) AS plan_days')\\\n",
    "   .toPandas().plot(ax=ax, kind='scatter', x='list_price', y='plan_days')\n",
    "\n",
    "plt.show()"
   ]
  },
  {
   "cell_type": "code",
   "execution_count": 11,
   "metadata": {
    "collapsed": true
   },
   "outputs": [
    {
     "name": "stdout",
     "output_type": "stream",
     "text": [
      "+----------------+---------+\n",
      "|plan_list_price_|max_count|\n",
      "+----------------+---------+\n",
      "|             800|        7|\n",
      "|             124|      598|\n",
      "|             447|     1216|\n",
      "|              15|       19|\n",
      "|              30|        7|\n",
      "|             894|    63054|\n",
      "|            1788|    68228|\n",
      "|              35|     4017|\n",
      "|            2000|      101|\n",
      "|              99|   487536|\n",
      "|             300|     2807|\n",
      "|             100|    11520|\n",
      "|              70|       29|\n",
      "|            1520|       13|\n",
      "|             596|       27|\n",
      "|             131|       61|\n",
      "|             126|      137|\n",
      "|             120|      164|\n",
      "|            1000|      456|\n",
      "|            1200|     3692|\n",
      "+----------------+---------+\n",
      "only showing top 20 rows\n",
      "\n"
     ]
    }
   ],
   "source": [
    "from pyspark.sql.functions import max\n",
    "df4 = df3.groupBy('plan_list_price').agg(max('count').alias('max_count')) \\\n",
    "      .withColumnRenamed('plan_list_price', 'plan_list_price_')\n",
    "df4.show()"
   ]
  },
  {
   "cell_type": "code",
   "execution_count": 19,
   "metadata": {
    "collapsed": true
   },
   "outputs": [
    {
     "name": "stdout",
     "output_type": "stream",
     "text": [
      "+---------------+-----------------+\n",
      "|plan_list_price|payment_plan_days|\n",
      "+---------------+-----------------+\n",
      "|              1|               90|\n",
      "|             10|                2|\n",
      "|             15|                3|\n",
      "|             30|               30|\n",
      "|             35|                7|\n",
      "|             44|               95|\n",
      "|             50|               10|\n",
      "|             70|               14|\n",
      "|             99|               30|\n",
      "|            100|               30|\n",
      "|            105|               21|\n",
      "|            119|               30|\n",
      "|            120|               30|\n",
      "|            124|               30|\n",
      "|            126|               30|\n",
      "|            129|               30|\n",
      "|            131|               30|\n",
      "|            134|               30|\n",
      "|            143|               30|\n",
      "|            149|               30|\n",
      "|            150|               30|\n",
      "|            210|               30|\n",
      "|            265|               60|\n",
      "|            300|               60|\n",
      "|            350|               70|\n",
      "|            400|               80|\n",
      "|            447|               90|\n",
      "|            450|               90|\n",
      "|            480|              100|\n",
      "|            500|              100|\n",
      "|            536|              180|\n",
      "|            596|              120|\n",
      "|            600|              180|\n",
      "|            760|              180|\n",
      "|            799|              180|\n",
      "|            800|              180|\n",
      "|            894|              195|\n",
      "|            930|              200|\n",
      "|           1000|              200|\n",
      "|           1150|              230|\n",
      "+---------------+-----------------+\n",
      "only showing top 40 rows\n",
      "\n"
     ]
    }
   ],
   "source": [
    "df5 = df3.join(df4, \n",
    "               [df3['plan_list_price']==df4['plan_list_price_'],\n",
    "                df3['count']==df4['max_count']]\n",
    "              ) \\\n",
    "      .select('plan_list_price', 'payment_plan_days') \n",
    "df5.sort(col('plan_list_price').cast('int')).show(40)"
   ]
  },
  {
   "cell_type": "code",
   "execution_count": 17,
   "metadata": {},
   "outputs": [
    {
     "data": {
      "image/png": "[encoded data removed]",
      "text/plain": [
       "<Figure size 720x216 with 1 Axes>"
      ]
     },
     "metadata": {},
     "output_type": "display_data"
    }
   ],
   "source": [
    "import matplotlib.pyplot as plt\n",
    "fig = plt.figure(facecolor='#cccccc', figsize=(10,3))\n",
    "ax = fig.add_subplot(1, 1, 1)\n",
    "\n",
    "df5.selectExpr('CAST(plan_list_price AS int) AS list_price',\n",
    "               'CAST(payment_plan_days AS int) AS plan_days')\\\n",
    "   .toPandas().plot(ax=ax, kind='scatter', x='list_price', y='plan_days')\n",
    "plt.show()"
   ]
  },
  {
   "cell_type": "code",
   "execution_count": 20,
   "metadata": {},
   "outputs": [],
   "source": [
    "# output\n",
    "outfile = '/home/cloudera/2.kkbox_churn/data01/from_raw_transactions-v1+v2/' \\\n",
    "          + 'plan-days_vs_list-price'\n",
    "df5.coalesce(1).write.format('csv').option('header','true') \\\n",
    "   .save(outfile)"
   ]
  },
  {
   "cell_type": "code",
   "execution_count": 9,
   "metadata": {},
   "outputs": [
    {
     "name": "stdout",
     "output_type": "stream",
     "text": [
      "root\n",
      " |-- plan_list_price: string (nullable = true)\n",
      " |-- payment_plan_days: string (nullable = true)\n",
      "\n"
     ]
    }
   ],
   "source": [
    "# input\n",
    "infile = '/home/cloudera/2.kkbox_churn/data01/from_raw_transactions-v1+v2/' \\\n",
    "          + 'plan-days_vs_list-price'\n",
    "df5 = spark.read.format('csv').option('header','true').load(infile)\n",
    "df5.printSchema()"
   ]
  },
  {
   "cell_type": "code",
   "execution_count": 15,
   "metadata": {},
   "outputs": [
    {
     "name": "stdout",
     "output_type": "stream",
     "text": [
      "29\n",
      "+------------------+-----------------+\n",
      "|actual_amount_paid|payment_plan_days|\n",
      "+------------------+-----------------+\n",
      "|               447|               90|\n",
      "|               894|              195|\n",
      "|              1788|              410|\n",
      "|                35|                7|\n",
      "|                 0|             null|\n",
      "|              2000|              400|\n",
      "|               300|               60|\n",
      "|               100|               30|\n",
      "|               596|              120|\n",
      "|               131|               30|\n",
      "|              1000|              200|\n",
      "|              1200|              360|\n",
      "|               799|              180|\n",
      "|               450|               90|\n",
      "|               350|               70|\n",
      "|               536|              180|\n",
      "|               150|               30|\n",
      "|              1599|              395|\n",
      "|               500|              100|\n",
      "|               930|              200|\n",
      "|               480|              100|\n",
      "|               134|               30|\n",
      "|               149|               30|\n",
      "|              1150|              230|\n",
      "|               105|               21|\n",
      "|               400|               80|\n",
      "|               129|               30|\n",
      "|                50|               10|\n",
      "|               119|               30|\n",
      "+------------------+-----------------+\n",
      "\n"
     ]
    }
   ],
   "source": [
    "# check\n",
    "df6 = df_actual_paid_q.join(df5, \n",
    "                            df_actual_paid_q['actual_amount_paid']==df5['plan_list_price'],\n",
    "                            'left_outer') \\\n",
    "      .drop('count').drop('plan_list_price')\n",
    "df6.show(40)"
   ]
  },
  {
   "cell_type": "markdown",
   "metadata": {},
   "source": [
    "## actual_paid = 0"
   ]
  },
  {
   "cell_type": "code",
   "execution_count": 8,
   "metadata": {},
   "outputs": [
    {
     "data": {
      "text/plain": [
       "8181"
      ]
     },
     "execution_count": 8,
     "metadata": {},
     "output_type": "execute_result"
    }
   ],
   "source": [
    "from pyspark.sql.functions import col\n",
    "df2 = df1.where(col('actual_amount_paid') == '0')\n",
    "df2.count()"
   ]
  },
  {
   "cell_type": "code",
   "execution_count": 9,
   "metadata": {},
   "outputs": [
    {
     "data": {
      "text/plain": [
       "8163"
      ]
     },
     "execution_count": 9,
     "metadata": {},
     "output_type": "execute_result"
    }
   ],
   "source": [
    "df2.groupBy('msno').count().count()\n",
    "# number of members with a record with plan_days = 0, is_cancel = 0, and actual_paid = 0:"
   ]
  },
  {
   "cell_type": "markdown",
   "metadata": {},
   "source": [
    "# is_cancel = 1 but is_auto_renew = 0"
   ]
  },
  {
   "cell_type": "code",
   "execution_count": 12,
   "metadata": {},
   "outputs": [
    {
     "name": "stdout",
     "output_type": "stream",
     "text": [
      "+--------------------+----------------+----------------------+\n",
      "|                msno|transaction_date|membership_expire_date|\n",
      "+--------------------+----------------+----------------------+\n",
      "|iFbwtXr/IkqQz2GNq...|        20150917|              20150914|\n",
      "|CXFw603gL/79Sd2l/...|        20150424|              20150422|\n",
      "|Eh3+liOO4bPSZABm1...|        20151003|              20150929|\n",
      "|tGPeF1ZQnR0G8F7cu...|        20160920|              20160913|\n",
      "|5zw+P3gUDvX3hPlv4...|        20150429|              20150427|\n",
      "|YK0mAbVp4I452/awL...|        20150308|              20150308|\n",
      "|/Nel+muc1PTxTHDep...|        20170116|              20170111|\n",
      "|YK0mAbVp4I452/awL...|        20160121|              20160120|\n",
      "|bXVpyDYBw/e4k92ZG...|        20161128|              20161115|\n",
      "|hPTUSf0yN5su3crCq...|        20150415|              20150515|\n",
      "+--------------------+----------------+----------------------+\n",
      "\n"
     ]
    }
   ],
   "source": [
    "df1 = df0.where('is_cancel == 1').where('is_auto_renew == 0') \\\n",
    "      .select('msno','transaction_date', 'membership_expire_date').persist()\n",
    "df1.show()"
   ]
  },
  {
   "cell_type": "code",
   "execution_count": 14,
   "metadata": {},
   "outputs": [
    {
     "name": "stdout",
     "output_type": "stream",
     "text": [
      "+--------------------+----------------+-------------+---------+\n",
      "|                msno|transaction_date|is_auto_renew|is_cancel|\n",
      "+--------------------+----------------+-------------+---------+\n",
      "|/Nel+muc1PTxTHDep...|        20170116|            0|        1|\n",
      "|5zw+P3gUDvX3hPlv4...|        20150429|            0|        1|\n",
      "|CXFw603gL/79Sd2l/...|        20150424|            0|        1|\n",
      "|Eh3+liOO4bPSZABm1...|        20151003|            0|        1|\n",
      "|YK0mAbVp4I452/awL...|        20150308|            0|        1|\n",
      "|YK0mAbVp4I452/awL...|        20150316|            0|        0|\n",
      "|YK0mAbVp4I452/awL...|        20160121|            0|        1|\n",
      "|bXVpyDYBw/e4k92ZG...|        20161128|            0|        1|\n",
      "|hPTUSf0yN5su3crCq...|        20150131|            0|        0|\n",
      "|hPTUSf0yN5su3crCq...|        20150228|            0|        0|\n",
      "|hPTUSf0yN5su3crCq...|        20150331|            0|        0|\n",
      "|hPTUSf0yN5su3crCq...|        20150415|            0|        1|\n",
      "|iFbwtXr/IkqQz2GNq...|        20150917|            0|        1|\n",
      "|tGPeF1ZQnR0G8F7cu...|        20160920|            0|        1|\n",
      "+--------------------+----------------+-------------+---------+\n",
      "\n"
     ]
    }
   ],
   "source": [
    "df0.join(df1, df0['msno']==df1['msno'], 'left_semi') \\\n",
    "  .select('msno', 'transaction_date', 'is_auto_renew', 'is_cancel') \\\n",
    "  .sort('msno', 'transaction_date').show()\n",
    "# the records of the members who have a record with is_cancel=1 and is_auto_renew=0:"
   ]
  }
 ],
 "metadata": {
  "kernelspec": {
   "display_name": "Python 3",
   "language": "python",
   "name": "python3"
  },
  "language_info": {
   "codemirror_mode": {
    "name": "ipython",
    "version": 3
   },
   "file_extension": ".py",
   "mimetype": "text/x-python",
   "name": "python",
   "nbconvert_exporter": "python",
   "pygments_lexer": "ipython3",
   "version": "3.6.6"
  },
  "toc": {
   "base_numbering": 1,
   "nav_menu": {
    "height": "141px",
    "width": "510px"
   },
   "number_sections": true,
   "sideBar": true,
   "skip_h1_title": false,
   "title_cell": "Table of Contents",
   "title_sidebar": "Contents",
   "toc_cell": false,
   "toc_position": {},
   "toc_section_display": true,
   "toc_window_display": false
  }
 },
 "nbformat": 4,
 "nbformat_minor": 2
}
